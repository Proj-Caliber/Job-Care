{
 "cells": [
  {
   "cell_type": "markdown",
   "id": "b8edda41",
   "metadata": {},
   "source": [
    "잡케어추천알고리즘경진대회\n",
    "--"
   ]
  },
  {
   "cell_type": "code",
   "execution_count": 1,
   "id": "cc62c4ce",
   "metadata": {},
   "outputs": [],
   "source": [
    "import pandas as pd\n",
    "import numpy as np"
   ]
  },
  {
   "cell_type": "code",
   "execution_count": 2,
   "id": "e3b45ffd",
   "metadata": {},
   "outputs": [],
   "source": [
    "import warnings\n",
    "warnings.filterwarnings(\"ignore\")"
   ]
  },
  {
   "cell_type": "code",
   "execution_count": 3,
   "id": "85fcd052",
   "metadata": {},
   "outputs": [],
   "source": [
    "train=pd.read_csv(\"C:/Users/bella/Desktop/SelfStudy/데이콘/Jobcare_data/train.csv\", parse_dates=[\"contents_open_dt\"])\n",
    "test=pd.read_csv(\"C:/Users/bella/Desktop/SelfStudy/데이콘/Jobcare_data/test.csv\", parse_dates=[\"contents_open_dt\"])\n",
    "d_code=pd.read_csv(\"C:/Users/bella/Desktop/SelfStudy/데이콘/Jobcare_data/속성_D_코드.csv\", index_col=0).T.to_dict()\n",
    "h_code=pd.read_csv(\"C:/Users/bella/Desktop/SelfStudy/데이콘/Jobcare_data/속성_H_코드.csv\", index_col=0).T.to_dict()\n",
    "l_code=pd.read_csv(\"C:/Users/bella/Desktop/SelfStudy/데이콘/Jobcare_data/속성_L_코드.csv\" ,index_col=0).T.to_dict()"
   ]
  },
  {
   "cell_type": "code",
   "execution_count": 4,
   "id": "6eabb328",
   "metadata": {},
   "outputs": [],
   "source": [
    "#n : 세분류, s: 소분류, m: 중분류, l: 대분류\n",
    "def add_code(df, d_code, h_code, l_code):\n",
    "    df['person_prefer_d_1_n']= df['person_prefer_d_1'].apply(lambda x: d_code[x]['속성 D 세분류코드'])\n",
    "    df['person_prefer_d_1_s']= df['person_prefer_d_1'].apply(lambda x: d_code[x]['속성 D 소분류코드'])\n",
    "    df['person_prefer_d_1_m'] = df['person_prefer_d_1'].apply(lambda x: d_code[x]['속성 D 중분류코드'])\n",
    "    df['person_prefer_d_1_l']= df['person_prefer_d_1'].apply(lambda x: d_code[x]['속성 D 대분류코드'])\n",
    "    df['person_prefer_d_2_n'] = df['person_prefer_d_2'].apply(lambda x: d_code[x]['속성 D 세분류코드'])\n",
    "    df['person_prefer_d_2_s'] = df['person_prefer_d_2'].apply(lambda x: d_code[x]['속성 D 소분류코드'])\n",
    "    df['person_prefer_d_2_m'] = df['person_prefer_d_2'].apply(lambda x: d_code[x]['속성 D 중분류코드'])\n",
    "    df['person_prefer_d_2_l'] = df['person_prefer_d_2'].apply(lambda x: d_code[x]['속성 D 대분류코드'])\n",
    "    df['person_prefer_d_3_n'] = df['person_prefer_d_3'].apply(lambda x: d_code[x]['속성 D 세분류코드'])\n",
    "    df['person_prefer_d_3_s'] = df['person_prefer_d_3'].apply(lambda x: d_code[x]['속성 D 소분류코드'])\n",
    "    df['person_prefer_d_3_m'] = df['person_prefer_d_3'].apply(lambda x: d_code[x]['속성 D 중분류코드'])\n",
    "    df['person_prefer_d_3_l'] = df['person_prefer_d_3'].apply(lambda x: d_code[x]['속성 D 대분류코드'])\n",
    "    df['contents_attribute_d_n'] = df['contents_attribute_d'].apply(lambda x: d_code[x]['속성 D 세분류코드'])\n",
    "    df['contents_attribute_d_s'] = df['contents_attribute_d'].apply(lambda x: d_code[x]['속성 D 소분류코드'])\n",
    "    df['contents_attribute_d_m'] = df['contents_attribute_d'].apply(lambda x: d_code[x]['속성 D 중분류코드'])\n",
    "    df['contents_attribute_d_l'] = df['contents_attribute_d'].apply(lambda x: d_code[x]['속성 D 대분류코드'])\n",
    "    df['person_prefer_h_1_l'] = df['person_prefer_h_1'].apply(lambda x: h_code[x]['속성 H 대분류코드'])\n",
    "    df['person_prefer_h_1_m'] = df['person_prefer_h_1'].apply(lambda x: h_code[x]['속성 H 중분류코드'])\n",
    "    df['person_prefer_h_2_l'] = df['person_prefer_h_2'].apply(lambda x: h_code[x]['속성 H 대분류코드'])\n",
    "    df['person_prefer_h_2_m'] = df['person_prefer_h_2'].apply(lambda x: h_code[x]['속성 H 중분류코드'])\n",
    "    df['person_prefer_h_3_l'] = df['person_prefer_h_3'].apply(lambda x: h_code[x]['속성 H 대분류코드'])\n",
    "    df['person_prefer_h_3_m'] = df['person_prefer_h_3'].apply(lambda x: h_code[x]['속성 H 중분류코드'])\n",
    "    df['contents_attribute_h_l'] = df['contents_attribute_h'].apply(lambda x: h_code[x]['속성 H 대분류코드'])\n",
    "    df['contents_attribute_h_m'] = df['contents_attribute_h'].apply(lambda x: h_code[x]['속성 H 중분류코드']) \n",
    "    return df\n",
    "\n",
    "train = add_code(train, d_code, h_code, l_code)\n",
    "test= add_code(test, d_code, h_code, l_code)"
   ]
  },
  {
   "cell_type": "markdown",
   "id": "6ae25933",
   "metadata": {},
   "source": [
    "- 참고한 링크: https://dacon.io/competitions/official/235863/codeshare/3877?page=1&dtype=recent"
   ]
  },
  {
   "cell_type": "code",
   "execution_count": 5,
   "id": "13828f9c",
   "metadata": {},
   "outputs": [],
   "source": [
    "for i in range(1,7):\n",
    "    name=train.columns[i]\n",
    "    train[name]=train[name].apply(lambda x:1 if x==True else 2)\n",
    "    \n",
    "for i in range(1,7):\n",
    "    name=test.columns[i]\n",
    "    test[name]=test[name].apply(lambda x:1 if x==True else 2)"
   ]
  },
  {
   "cell_type": "code",
   "execution_count": 6,
   "id": "835eb0a7",
   "metadata": {},
   "outputs": [],
   "source": [
    "train[\"date\"]=train[\"contents_open_dt\"].dt.strftime(\"%d\")\n",
    "train[\"hour\"]=train[\"contents_open_dt\"].dt.strftime(\"%H\")\n",
    "train[\"day\"]=train[\"contents_open_dt\"].dt.strftime(\"%A\")\n",
    "\n",
    "train[\"date\"]=train[\"date\"].astype(int)\n",
    "train[\"hour\"]=train[\"hour\"].astype(int)"
   ]
  },
  {
   "cell_type": "code",
   "execution_count": 7,
   "id": "9d662300",
   "metadata": {},
   "outputs": [],
   "source": [
    "test[\"date\"]=test[\"contents_open_dt\"].dt.strftime(\"%d\")\n",
    "test[\"hour\"]=test[\"contents_open_dt\"].dt.strftime(\"%H\")\n",
    "test[\"day\"]=test[\"contents_open_dt\"].dt.strftime(\"%A\")\n",
    "\n",
    "test[\"date\"]=test[\"date\"].astype(int)\n",
    "test[\"hour\"]=test[\"hour\"].astype(int)"
   ]
  },
  {
   "cell_type": "code",
   "execution_count": 8,
   "id": "825f878d",
   "metadata": {},
   "outputs": [],
   "source": [
    "from sklearn.preprocessing import LabelEncoder\n",
    "\n",
    "le=LabelEncoder()\n",
    "\n",
    "train[\"day\"]=le.fit_transform(train['day'])\n",
    "test[\"day\"]=le.fit_transform(test['day'])"
   ]
  },
  {
   "cell_type": "markdown",
   "id": "9dacdcae",
   "metadata": {},
   "source": [
    "- month의 경우 train 1~11월, test의 경우 12월 이며, 년도는 2020년으로 동일함.\n",
    "- 따라서, 칼럼을 추가하지 않음."
   ]
  },
  {
   "cell_type": "code",
   "execution_count": 9,
   "id": "0ad8a67c",
   "metadata": {},
   "outputs": [],
   "source": [
    "train.drop(\"contents_open_dt\", axis=1, inplace=True)\n",
    "test.drop(\"contents_open_dt\", axis=1, inplace=True)"
   ]
  },
  {
   "cell_type": "code",
   "execution_count": 10,
   "id": "a40e9c16",
   "metadata": {},
   "outputs": [],
   "source": [
    "train.drop(['person_prefer_f','person_prefer_g'], axis=1, inplace=True)\n",
    "test.drop(['person_prefer_f','person_prefer_g'], axis=1, inplace=True)"
   ]
  },
  {
   "cell_type": "markdown",
   "id": "b8883704",
   "metadata": {},
   "source": [
    "Person ML\n",
    "--"
   ]
  },
  {
   "cell_type": "code",
   "execution_count": 11,
   "id": "166c9b0d",
   "metadata": {},
   "outputs": [],
   "source": [
    "from sklearn.preprocessing import MinMaxScaler\n",
    "from sklearn.preprocessing import StandardScaler\n",
    "from sklearn.preprocessing import RobustScaler"
   ]
  },
  {
   "cell_type": "code",
   "execution_count": 12,
   "id": "e661f42e",
   "metadata": {},
   "outputs": [],
   "source": [
    "df_unique=pd.DataFrame(columns=['col_name','len_unique','mix','max','mean','std'])\n",
    "\n",
    "for i in range(len(train.columns)):\n",
    "    col=train.columns[i]\n",
    "    len_unique=len(train[col].unique())\n",
    "    min_col=train[col].min()\n",
    "    max_col=train[col].max()\n",
    "    mean_col=train[col].mean()\n",
    "    std_col=train[col].std()\n",
    "    df_unique=df_unique.append({'col_name':col,'len_unique':len_unique,'mix':min_col,'max':max_col,'mean':mean_col,'std':std_col}, ignore_index=True)\n",
    "\n",
    "df_unique=df_unique.sort_values(\"len_unique\", ascending=False)\n",
    "df_unique=df_unique.loc[df_unique['col_name']!='id']\n",
    "df_unique=df_unique.reset_index()\n",
    "df_unique.drop(\"index\", axis=1, inplace=True)"
   ]
  },
  {
   "cell_type": "code",
   "execution_count": 13,
   "id": "afbfb236",
   "metadata": {},
   "outputs": [
    {
     "data": {
      "text/html": [
       "<div>\n",
       "<style scoped>\n",
       "    .dataframe tbody tr th:only-of-type {\n",
       "        vertical-align: middle;\n",
       "    }\n",
       "\n",
       "    .dataframe tbody tr th {\n",
       "        vertical-align: top;\n",
       "    }\n",
       "\n",
       "    .dataframe thead th {\n",
       "        text-align: right;\n",
       "    }\n",
       "</style>\n",
       "<table border=\"1\" class=\"dataframe\">\n",
       "  <thead>\n",
       "    <tr style=\"text-align: right;\">\n",
       "      <th></th>\n",
       "      <th>col_name</th>\n",
       "      <th>len_unique</th>\n",
       "      <th>mix</th>\n",
       "      <th>max</th>\n",
       "      <th>mean</th>\n",
       "      <th>std</th>\n",
       "    </tr>\n",
       "  </thead>\n",
       "  <tbody>\n",
       "    <tr>\n",
       "      <th>0</th>\n",
       "      <td>person_rn</td>\n",
       "      <td>300177</td>\n",
       "      <td>7</td>\n",
       "      <td>1049005</td>\n",
       "      <td>514111.533634</td>\n",
       "      <td>294354.743165</td>\n",
       "    </tr>\n",
       "    <tr>\n",
       "      <th>1</th>\n",
       "      <td>contents_rn</td>\n",
       "      <td>283359</td>\n",
       "      <td>20</td>\n",
       "      <td>753628</td>\n",
       "      <td>337674.345074</td>\n",
       "      <td>219518.485557</td>\n",
       "    </tr>\n",
       "    <tr>\n",
       "      <th>2</th>\n",
       "      <td>contents_attribute_l</td>\n",
       "      <td>1752</td>\n",
       "      <td>1</td>\n",
       "      <td>2013</td>\n",
       "      <td>1030.863194</td>\n",
       "      <td>527.235733</td>\n",
       "    </tr>\n",
       "    <tr>\n",
       "      <th>3</th>\n",
       "      <td>person_prefer_d_1</td>\n",
       "      <td>1093</td>\n",
       "      <td>4</td>\n",
       "      <td>1258</td>\n",
       "      <td>537.296399</td>\n",
       "      <td>411.441926</td>\n",
       "    </tr>\n",
       "    <tr>\n",
       "      <th>4</th>\n",
       "      <td>person_prefer_d_2</td>\n",
       "      <td>1081</td>\n",
       "      <td>4</td>\n",
       "      <td>1258</td>\n",
       "      <td>545.833926</td>\n",
       "      <td>403.328742</td>\n",
       "    </tr>\n",
       "    <tr>\n",
       "      <th>5</th>\n",
       "      <td>contents_attribute_d</td>\n",
       "      <td>1065</td>\n",
       "      <td>4</td>\n",
       "      <td>1258</td>\n",
       "      <td>581.505215</td>\n",
       "      <td>413.915756</td>\n",
       "    </tr>\n",
       "    <tr>\n",
       "      <th>6</th>\n",
       "      <td>person_prefer_d_3</td>\n",
       "      <td>1043</td>\n",
       "      <td>4</td>\n",
       "      <td>1258</td>\n",
       "      <td>534.994095</td>\n",
       "      <td>415.752072</td>\n",
       "    </tr>\n",
       "    <tr>\n",
       "      <th>7</th>\n",
       "      <td>person_prefer_d_1_n</td>\n",
       "      <td>443</td>\n",
       "      <td>4</td>\n",
       "      <td>1258</td>\n",
       "      <td>535.598700</td>\n",
       "      <td>411.650059</td>\n",
       "    </tr>\n",
       "    <tr>\n",
       "      <th>8</th>\n",
       "      <td>person_prefer_d_2_n</td>\n",
       "      <td>435</td>\n",
       "      <td>4</td>\n",
       "      <td>1258</td>\n",
       "      <td>543.900966</td>\n",
       "      <td>403.966058</td>\n",
       "    </tr>\n",
       "    <tr>\n",
       "      <th>9</th>\n",
       "      <td>contents_attribute_d_n</td>\n",
       "      <td>431</td>\n",
       "      <td>4</td>\n",
       "      <td>1258</td>\n",
       "      <td>579.414244</td>\n",
       "      <td>414.282254</td>\n",
       "    </tr>\n",
       "    <tr>\n",
       "      <th>10</th>\n",
       "      <td>person_prefer_d_3_n</td>\n",
       "      <td>420</td>\n",
       "      <td>4</td>\n",
       "      <td>1258</td>\n",
       "      <td>533.590659</td>\n",
       "      <td>415.973371</td>\n",
       "    </tr>\n",
       "    <tr>\n",
       "      <th>11</th>\n",
       "      <td>person_prefer_h_1</td>\n",
       "      <td>279</td>\n",
       "      <td>2</td>\n",
       "      <td>313</td>\n",
       "      <td>116.394919</td>\n",
       "      <td>91.032989</td>\n",
       "    </tr>\n",
       "    <tr>\n",
       "      <th>12</th>\n",
       "      <td>person_prefer_h_2</td>\n",
       "      <td>279</td>\n",
       "      <td>2</td>\n",
       "      <td>313</td>\n",
       "      <td>136.011991</td>\n",
       "      <td>93.756209</td>\n",
       "    </tr>\n",
       "    <tr>\n",
       "      <th>13</th>\n",
       "      <td>person_prefer_h_3</td>\n",
       "      <td>279</td>\n",
       "      <td>2</td>\n",
       "      <td>313</td>\n",
       "      <td>122.784720</td>\n",
       "      <td>90.947916</td>\n",
       "    </tr>\n",
       "    <tr>\n",
       "      <th>14</th>\n",
       "      <td>contents_attribute_h</td>\n",
       "      <td>250</td>\n",
       "      <td>5</td>\n",
       "      <td>311</td>\n",
       "      <td>132.530916</td>\n",
       "      <td>87.142309</td>\n",
       "    </tr>\n",
       "    <tr>\n",
       "      <th>15</th>\n",
       "      <td>person_prefer_h_3_m</td>\n",
       "      <td>246</td>\n",
       "      <td>315</td>\n",
       "      <td>569</td>\n",
       "      <td>415.585240</td>\n",
       "      <td>72.397541</td>\n",
       "    </tr>\n",
       "    <tr>\n",
       "      <th>16</th>\n",
       "      <td>person_prefer_h_2_m</td>\n",
       "      <td>246</td>\n",
       "      <td>315</td>\n",
       "      <td>569</td>\n",
       "      <td>425.593183</td>\n",
       "      <td>74.960942</td>\n",
       "    </tr>\n",
       "    <tr>\n",
       "      <th>17</th>\n",
       "      <td>person_prefer_h_1_m</td>\n",
       "      <td>246</td>\n",
       "      <td>315</td>\n",
       "      <td>569</td>\n",
       "      <td>409.648802</td>\n",
       "      <td>72.488959</td>\n",
       "    </tr>\n",
       "    <tr>\n",
       "      <th>18</th>\n",
       "      <td>contents_attribute_h_m</td>\n",
       "      <td>228</td>\n",
       "      <td>317</td>\n",
       "      <td>568</td>\n",
       "      <td>422.450490</td>\n",
       "      <td>68.569269</td>\n",
       "    </tr>\n",
       "    <tr>\n",
       "      <th>19</th>\n",
       "      <td>person_prefer_d_2_s</td>\n",
       "      <td>137</td>\n",
       "      <td>3</td>\n",
       "      <td>1258</td>\n",
       "      <td>536.908378</td>\n",
       "      <td>408.086663</td>\n",
       "    </tr>\n",
       "    <tr>\n",
       "      <th>20</th>\n",
       "      <td>person_prefer_d_1_s</td>\n",
       "      <td>137</td>\n",
       "      <td>3</td>\n",
       "      <td>1258</td>\n",
       "      <td>530.018906</td>\n",
       "      <td>414.337987</td>\n",
       "    </tr>\n",
       "    <tr>\n",
       "      <th>21</th>\n",
       "      <td>contents_attribute_d_s</td>\n",
       "      <td>137</td>\n",
       "      <td>3</td>\n",
       "      <td>1258</td>\n",
       "      <td>573.707605</td>\n",
       "      <td>416.872174</td>\n",
       "    </tr>\n",
       "    <tr>\n",
       "      <th>22</th>\n",
       "      <td>person_prefer_d_3_s</td>\n",
       "      <td>136</td>\n",
       "      <td>3</td>\n",
       "      <td>1258</td>\n",
       "      <td>526.331489</td>\n",
       "      <td>419.998100</td>\n",
       "    </tr>\n",
       "    <tr>\n",
       "      <th>23</th>\n",
       "      <td>contents_attribute_d_m</td>\n",
       "      <td>36</td>\n",
       "      <td>2</td>\n",
       "      <td>1258</td>\n",
       "      <td>541.372935</td>\n",
       "      <td>433.224168</td>\n",
       "    </tr>\n",
       "    <tr>\n",
       "      <th>24</th>\n",
       "      <td>person_prefer_d_3_m</td>\n",
       "      <td>36</td>\n",
       "      <td>2</td>\n",
       "      <td>1258</td>\n",
       "      <td>485.808073</td>\n",
       "      <td>439.078291</td>\n",
       "    </tr>\n",
       "    <tr>\n",
       "      <th>25</th>\n",
       "      <td>person_prefer_d_1_m</td>\n",
       "      <td>36</td>\n",
       "      <td>2</td>\n",
       "      <td>1258</td>\n",
       "      <td>495.297071</td>\n",
       "      <td>429.295675</td>\n",
       "    </tr>\n",
       "    <tr>\n",
       "      <th>26</th>\n",
       "      <td>person_prefer_d_2_m</td>\n",
       "      <td>36</td>\n",
       "      <td>2</td>\n",
       "      <td>1258</td>\n",
       "      <td>496.681929</td>\n",
       "      <td>426.465285</td>\n",
       "    </tr>\n",
       "  </tbody>\n",
       "</table>\n",
       "</div>"
      ],
      "text/plain": [
       "                  col_name len_unique  mix      max           mean  \\\n",
       "0                person_rn     300177    7  1049005  514111.533634   \n",
       "1              contents_rn     283359   20   753628  337674.345074   \n",
       "2     contents_attribute_l       1752    1     2013    1030.863194   \n",
       "3        person_prefer_d_1       1093    4     1258     537.296399   \n",
       "4        person_prefer_d_2       1081    4     1258     545.833926   \n",
       "5     contents_attribute_d       1065    4     1258     581.505215   \n",
       "6        person_prefer_d_3       1043    4     1258     534.994095   \n",
       "7      person_prefer_d_1_n        443    4     1258     535.598700   \n",
       "8      person_prefer_d_2_n        435    4     1258     543.900966   \n",
       "9   contents_attribute_d_n        431    4     1258     579.414244   \n",
       "10     person_prefer_d_3_n        420    4     1258     533.590659   \n",
       "11       person_prefer_h_1        279    2      313     116.394919   \n",
       "12       person_prefer_h_2        279    2      313     136.011991   \n",
       "13       person_prefer_h_3        279    2      313     122.784720   \n",
       "14    contents_attribute_h        250    5      311     132.530916   \n",
       "15     person_prefer_h_3_m        246  315      569     415.585240   \n",
       "16     person_prefer_h_2_m        246  315      569     425.593183   \n",
       "17     person_prefer_h_1_m        246  315      569     409.648802   \n",
       "18  contents_attribute_h_m        228  317      568     422.450490   \n",
       "19     person_prefer_d_2_s        137    3     1258     536.908378   \n",
       "20     person_prefer_d_1_s        137    3     1258     530.018906   \n",
       "21  contents_attribute_d_s        137    3     1258     573.707605   \n",
       "22     person_prefer_d_3_s        136    3     1258     526.331489   \n",
       "23  contents_attribute_d_m         36    2     1258     541.372935   \n",
       "24     person_prefer_d_3_m         36    2     1258     485.808073   \n",
       "25     person_prefer_d_1_m         36    2     1258     495.297071   \n",
       "26     person_prefer_d_2_m         36    2     1258     496.681929   \n",
       "\n",
       "              std  \n",
       "0   294354.743165  \n",
       "1   219518.485557  \n",
       "2      527.235733  \n",
       "3      411.441926  \n",
       "4      403.328742  \n",
       "5      413.915756  \n",
       "6      415.752072  \n",
       "7      411.650059  \n",
       "8      403.966058  \n",
       "9      414.282254  \n",
       "10     415.973371  \n",
       "11      91.032989  \n",
       "12      93.756209  \n",
       "13      90.947916  \n",
       "14      87.142309  \n",
       "15      72.397541  \n",
       "16      74.960942  \n",
       "17      72.488959  \n",
       "18      68.569269  \n",
       "19     408.086663  \n",
       "20     414.337987  \n",
       "21     416.872174  \n",
       "22     419.998100  \n",
       "23     433.224168  \n",
       "24     439.078291  \n",
       "25     429.295675  \n",
       "26     426.465285  "
      ]
     },
     "execution_count": 13,
     "metadata": {},
     "output_type": "execute_result"
    }
   ],
   "source": [
    "df_unique.loc[df_unique['len_unique']>=36]"
   ]
  },
  {
   "cell_type": "code",
   "execution_count": 14,
   "id": "34c78fc4",
   "metadata": {},
   "outputs": [],
   "source": [
    "scale_list=['person_rn', 'contents_rn', 'contents_attribute_l',\n",
    "       'person_prefer_d_1', 'person_prefer_d_2', 'contents_attribute_d',\n",
    "       'person_prefer_d_3', 'person_prefer_d_1_n', 'person_prefer_d_2_n',\n",
    "       'contents_attribute_d_n', 'person_prefer_d_3_n',\n",
    "       'person_prefer_h_1', 'person_prefer_h_3', 'person_prefer_h_2',\n",
    "       'contents_attribute_h', 'person_prefer_h_3_m',\n",
    "       'person_prefer_h_1_m', 'person_prefer_h_2_m',\n",
    "       'contents_attribute_h_m', 'contents_attribute_d_s',\n",
    "       'person_prefer_d_2_s', 'person_prefer_d_1_s',\n",
    "       'person_prefer_d_3_s', 'person_prefer_d_3_m',\n",
    "       'person_prefer_d_2_m', 'person_prefer_d_1_m',\n",
    "       'contents_attribute_d_m']"
   ]
  },
  {
   "cell_type": "markdown",
   "id": "406bbd1f",
   "metadata": {},
   "source": [
    "modeling(with scaling)\n",
    "--"
   ]
  },
  {
   "cell_type": "code",
   "execution_count": 15,
   "id": "59c056aa",
   "metadata": {},
   "outputs": [],
   "source": [
    "from catboost import CatBoostClassifier\n",
    "from sklearn.model_selection import train_test_split\n",
    "\n",
    "cb = CatBoostClassifier(random_state=42)"
   ]
  },
  {
   "cell_type": "code",
   "execution_count": 16,
   "id": "5392b45b",
   "metadata": {},
   "outputs": [],
   "source": [
    "x=train.drop(\"target\", axis=1)\n",
    "y=train[\"target\"]"
   ]
  },
  {
   "cell_type": "code",
   "execution_count": 17,
   "id": "f8f6ead9",
   "metadata": {},
   "outputs": [],
   "source": [
    "x_train, x_test, y_train, y_test=train_test_split(x, y, test_size=0.2, random_state=42)"
   ]
  },
  {
   "cell_type": "code",
   "execution_count": 44,
   "id": "8a82e92b",
   "metadata": {},
   "outputs": [],
   "source": [
    "from sklearn.metrics import f1_score\n",
    "cb.fit(x_train, y_train)\n",
    "y_pred=cb.predict(x_test)\n",
    "train_score=cb.score(x_train, y_train)\n",
    "test_score=cb.score(x_test, y_test)\n",
    "f_1=f1_score(y_test, y_pred)"
   ]
  },
  {
   "cell_type": "code",
   "execution_count": 43,
   "id": "bf1cf5bd",
   "metadata": {},
   "outputs": [
    {
     "name": "stdout",
     "output_type": "stream",
     "text": [
      "train_score : 0.7535984659826676\n",
      "test_score : 0.7245669432518851\n",
      "f1_score : 0.6817590663735656\n"
     ]
    }
   ],
   "source": [
    "print(\"train_score :\", train_score)\n",
    "print(\"test_score :\", test_score)\n",
    "print(\"f1_score :\", f_1)"
   ]
  },
  {
   "cell_type": "markdown",
   "id": "8e192fb8",
   "metadata": {},
   "source": [
    "- 바로 돌렸을 경우, f1_score가 0.68 정도 나온다."
   ]
  },
  {
   "cell_type": "code",
   "execution_count": 18,
   "id": "7c6d9a8d",
   "metadata": {},
   "outputs": [],
   "source": [
    "def scaling_result(model, s_x, y):\n",
    "    cb = CatBoostClassifier(random_state=42)\n",
    "    x_train, x_test, y_train, y_test=train_test_split(s_x, y, test_size=0.2, random_state=42)\n",
    "    cb.fit(x_train, y_train)\n",
    "    y_pred=cb.predict(x_test)\n",
    "    train_score=cb.score(x_train, y_train)\n",
    "    test_score=cb.score(x_test, y_test)\n",
    "    f_1=f1_score(y_test, y_pred)\n",
    "    return f_1, train_score, test_score"
   ]
  },
  {
   "cell_type": "code",
   "execution_count": 54,
   "id": "6e3d2f3e",
   "metadata": {},
   "outputs": [],
   "source": [
    "s=MinMaxScaler()\n",
    "s_x=s.fit_transform(x)\n",
    "m_result=scaling_result(cb, s_x, y)\n",
    "s=StandardScaler()\n",
    "s_x=s.fit_transform(x)\n",
    "s_result=scaling_result(cb, s_x, y)\n",
    "s=RobustScaler()\n",
    "s_x=s.fit_transform(x)\n",
    "r_result=scaling_result(cb, s_x, y)"
   ]
  },
  {
   "cell_type": "code",
   "execution_count": 52,
   "id": "bf922073",
   "metadata": {},
   "outputs": [
    {
     "name": "stdout",
     "output_type": "stream",
     "text": [
      "MinMaxScaler\n",
      "f1_score 0.682150716022074\n",
      "train_score 0.7530730152405618\n",
      "test_score 0.72518452849359\n",
      "---------------------------\n",
      "StandardScaler\n",
      "f1_score 0.6811582504007287\n",
      "train_score 0.7532548062556031\n",
      "test_score 0.7245868653564562\n",
      "---------------------------\n",
      "RobustScaler\n",
      "f1_score 0.6811991612323433\n",
      "train_score 0.7536158979978086\n",
      "test_score 0.7243776832584594\n"
     ]
    }
   ],
   "source": [
    "print(\"MinMaxScaler\")\n",
    "print(\"f1_score\", m_result[0])\n",
    "print(\"train_score\", m_result[1])\n",
    "print(\"test_score\", m_result[2])\n",
    "print('---------------------------')\n",
    "print(\"StandardScaler\")\n",
    "print(\"f1_score\", s_result[0])\n",
    "print(\"train_score\", s_result[1])\n",
    "print(\"test_score\", s_result[2])\n",
    "print('---------------------------')\n",
    "print(\"RobustScaler\")\n",
    "print(\"f1_score\", r_result[0])\n",
    "print(\"train_score\", r_result[1])\n",
    "print(\"test_score\", r_result[2])"
   ]
  },
  {
   "cell_type": "markdown",
   "id": "505e3c5b",
   "metadata": {},
   "source": [
    "- MinMaxScaler만 결과가 조금 더 좋아진 것을 확인 할 수 있다."
   ]
  },
  {
   "cell_type": "code",
   "execution_count": 69,
   "id": "610e5bcb",
   "metadata": {},
   "outputs": [],
   "source": [
    "ex_train=train.copy()"
   ]
  },
  {
   "cell_type": "code",
   "execution_count": 76,
   "id": "8091f7e6",
   "metadata": {},
   "outputs": [],
   "source": [
    "for i in range(len(ex_train.columns)):\n",
    "    col=ex_train.columns[i]\n",
    "    if col in scale_list:\n",
    "        A=mm.fit_transform(ex_train[[col]])\n",
    "        ex_train[[col]]=pd.DataFrame(A)"
   ]
  },
  {
   "cell_type": "markdown",
   "id": "360dbd56",
   "metadata": {},
   "source": [
    "- scale_list에 있는 칼럼들만 minmax scaling을 진행합니다."
   ]
  },
  {
   "cell_type": "code",
   "execution_count": 78,
   "id": "1da0472e",
   "metadata": {},
   "outputs": [],
   "source": [
    "s_x=ex_train.drop(\"target\", axis=1)\n",
    "y=ex_train['target']"
   ]
  },
  {
   "cell_type": "code",
   "execution_count": 82,
   "id": "e3ed2905",
   "metadata": {},
   "outputs": [],
   "source": [
    "result=scaling_result(cb, s_x, y)"
   ]
  },
  {
   "cell_type": "code",
   "execution_count": 80,
   "id": "6eae764c",
   "metadata": {},
   "outputs": [
    {
     "name": "stdout",
     "output_type": "stream",
     "text": [
      "f1_score 0.6817590663735656\n",
      "train_score 0.7535984659826676\n",
      "test_score 0.7245669432518851\n"
     ]
    }
   ],
   "source": [
    "print(\"f1_score\", result[0])\n",
    "print(\"train_score\", result[1])\n",
    "print(\"test_score\", result[2])"
   ]
  },
  {
   "cell_type": "markdown",
   "id": "e570b19f",
   "metadata": {},
   "source": [
    "- df_unique.loc[df_unique['len_unique']>=36]으로 값 범주가 36개 이상만 scaling\n",
    "- 오히려 결과가 더 안좋아졌다."
   ]
  },
  {
   "cell_type": "code",
   "execution_count": 88,
   "id": "98d8c0b9",
   "metadata": {},
   "outputs": [
    {
     "data": {
      "text/html": [
       "<div>\n",
       "<style scoped>\n",
       "    .dataframe tbody tr th:only-of-type {\n",
       "        vertical-align: middle;\n",
       "    }\n",
       "\n",
       "    .dataframe tbody tr th {\n",
       "        vertical-align: top;\n",
       "    }\n",
       "\n",
       "    .dataframe thead th {\n",
       "        text-align: right;\n",
       "    }\n",
       "</style>\n",
       "<table border=\"1\" class=\"dataframe\">\n",
       "  <thead>\n",
       "    <tr style=\"text-align: right;\">\n",
       "      <th></th>\n",
       "      <th>col_name</th>\n",
       "      <th>len_unique</th>\n",
       "      <th>mix</th>\n",
       "      <th>max</th>\n",
       "      <th>mean</th>\n",
       "      <th>std</th>\n",
       "    </tr>\n",
       "  </thead>\n",
       "  <tbody>\n",
       "    <tr>\n",
       "      <th>0</th>\n",
       "      <td>person_rn</td>\n",
       "      <td>300177</td>\n",
       "      <td>7</td>\n",
       "      <td>1049005</td>\n",
       "      <td>514111.533634</td>\n",
       "      <td>294354.743165</td>\n",
       "    </tr>\n",
       "    <tr>\n",
       "      <th>1</th>\n",
       "      <td>contents_rn</td>\n",
       "      <td>283359</td>\n",
       "      <td>20</td>\n",
       "      <td>753628</td>\n",
       "      <td>337674.345074</td>\n",
       "      <td>219518.485557</td>\n",
       "    </tr>\n",
       "    <tr>\n",
       "      <th>2</th>\n",
       "      <td>contents_attribute_l</td>\n",
       "      <td>1752</td>\n",
       "      <td>1</td>\n",
       "      <td>2013</td>\n",
       "      <td>1030.863194</td>\n",
       "      <td>527.235733</td>\n",
       "    </tr>\n",
       "    <tr>\n",
       "      <th>3</th>\n",
       "      <td>person_prefer_d_1</td>\n",
       "      <td>1093</td>\n",
       "      <td>4</td>\n",
       "      <td>1258</td>\n",
       "      <td>537.296399</td>\n",
       "      <td>411.441926</td>\n",
       "    </tr>\n",
       "    <tr>\n",
       "      <th>4</th>\n",
       "      <td>person_prefer_d_2</td>\n",
       "      <td>1081</td>\n",
       "      <td>4</td>\n",
       "      <td>1258</td>\n",
       "      <td>545.833926</td>\n",
       "      <td>403.328742</td>\n",
       "    </tr>\n",
       "    <tr>\n",
       "      <th>5</th>\n",
       "      <td>contents_attribute_d</td>\n",
       "      <td>1065</td>\n",
       "      <td>4</td>\n",
       "      <td>1258</td>\n",
       "      <td>581.505215</td>\n",
       "      <td>413.915756</td>\n",
       "    </tr>\n",
       "    <tr>\n",
       "      <th>6</th>\n",
       "      <td>person_prefer_d_3</td>\n",
       "      <td>1043</td>\n",
       "      <td>4</td>\n",
       "      <td>1258</td>\n",
       "      <td>534.994095</td>\n",
       "      <td>415.752072</td>\n",
       "    </tr>\n",
       "    <tr>\n",
       "      <th>7</th>\n",
       "      <td>person_prefer_d_1_n</td>\n",
       "      <td>443</td>\n",
       "      <td>4</td>\n",
       "      <td>1258</td>\n",
       "      <td>535.598700</td>\n",
       "      <td>411.650059</td>\n",
       "    </tr>\n",
       "    <tr>\n",
       "      <th>8</th>\n",
       "      <td>person_prefer_d_2_n</td>\n",
       "      <td>435</td>\n",
       "      <td>4</td>\n",
       "      <td>1258</td>\n",
       "      <td>543.900966</td>\n",
       "      <td>403.966058</td>\n",
       "    </tr>\n",
       "    <tr>\n",
       "      <th>9</th>\n",
       "      <td>contents_attribute_d_n</td>\n",
       "      <td>431</td>\n",
       "      <td>4</td>\n",
       "      <td>1258</td>\n",
       "      <td>579.414244</td>\n",
       "      <td>414.282254</td>\n",
       "    </tr>\n",
       "    <tr>\n",
       "      <th>10</th>\n",
       "      <td>person_prefer_d_3_n</td>\n",
       "      <td>420</td>\n",
       "      <td>4</td>\n",
       "      <td>1258</td>\n",
       "      <td>533.590659</td>\n",
       "      <td>415.973371</td>\n",
       "    </tr>\n",
       "    <tr>\n",
       "      <th>11</th>\n",
       "      <td>person_prefer_h_1</td>\n",
       "      <td>279</td>\n",
       "      <td>2</td>\n",
       "      <td>313</td>\n",
       "      <td>116.394919</td>\n",
       "      <td>91.032989</td>\n",
       "    </tr>\n",
       "    <tr>\n",
       "      <th>12</th>\n",
       "      <td>person_prefer_h_3</td>\n",
       "      <td>279</td>\n",
       "      <td>2</td>\n",
       "      <td>313</td>\n",
       "      <td>122.784720</td>\n",
       "      <td>90.947916</td>\n",
       "    </tr>\n",
       "    <tr>\n",
       "      <th>13</th>\n",
       "      <td>person_prefer_h_2</td>\n",
       "      <td>279</td>\n",
       "      <td>2</td>\n",
       "      <td>313</td>\n",
       "      <td>136.011991</td>\n",
       "      <td>93.756209</td>\n",
       "    </tr>\n",
       "    <tr>\n",
       "      <th>14</th>\n",
       "      <td>contents_attribute_h</td>\n",
       "      <td>250</td>\n",
       "      <td>5</td>\n",
       "      <td>311</td>\n",
       "      <td>132.530916</td>\n",
       "      <td>87.142309</td>\n",
       "    </tr>\n",
       "    <tr>\n",
       "      <th>15</th>\n",
       "      <td>person_prefer_h_3_m</td>\n",
       "      <td>246</td>\n",
       "      <td>315</td>\n",
       "      <td>569</td>\n",
       "      <td>415.585240</td>\n",
       "      <td>72.397541</td>\n",
       "    </tr>\n",
       "    <tr>\n",
       "      <th>16</th>\n",
       "      <td>person_prefer_h_1_m</td>\n",
       "      <td>246</td>\n",
       "      <td>315</td>\n",
       "      <td>569</td>\n",
       "      <td>409.648802</td>\n",
       "      <td>72.488959</td>\n",
       "    </tr>\n",
       "    <tr>\n",
       "      <th>17</th>\n",
       "      <td>person_prefer_h_2_m</td>\n",
       "      <td>246</td>\n",
       "      <td>315</td>\n",
       "      <td>569</td>\n",
       "      <td>425.593183</td>\n",
       "      <td>74.960942</td>\n",
       "    </tr>\n",
       "    <tr>\n",
       "      <th>18</th>\n",
       "      <td>contents_attribute_h_m</td>\n",
       "      <td>228</td>\n",
       "      <td>317</td>\n",
       "      <td>568</td>\n",
       "      <td>422.450490</td>\n",
       "      <td>68.569269</td>\n",
       "    </tr>\n",
       "    <tr>\n",
       "      <th>19</th>\n",
       "      <td>contents_attribute_d_s</td>\n",
       "      <td>137</td>\n",
       "      <td>3</td>\n",
       "      <td>1258</td>\n",
       "      <td>573.707605</td>\n",
       "      <td>416.872174</td>\n",
       "    </tr>\n",
       "    <tr>\n",
       "      <th>20</th>\n",
       "      <td>person_prefer_d_2_s</td>\n",
       "      <td>137</td>\n",
       "      <td>3</td>\n",
       "      <td>1258</td>\n",
       "      <td>536.908378</td>\n",
       "      <td>408.086663</td>\n",
       "    </tr>\n",
       "    <tr>\n",
       "      <th>21</th>\n",
       "      <td>person_prefer_d_1_s</td>\n",
       "      <td>137</td>\n",
       "      <td>3</td>\n",
       "      <td>1258</td>\n",
       "      <td>530.018906</td>\n",
       "      <td>414.337987</td>\n",
       "    </tr>\n",
       "    <tr>\n",
       "      <th>22</th>\n",
       "      <td>person_prefer_d_3_s</td>\n",
       "      <td>136</td>\n",
       "      <td>3</td>\n",
       "      <td>1258</td>\n",
       "      <td>526.331489</td>\n",
       "      <td>419.998100</td>\n",
       "    </tr>\n",
       "    <tr>\n",
       "      <th>23</th>\n",
       "      <td>person_prefer_d_3_m</td>\n",
       "      <td>36</td>\n",
       "      <td>2</td>\n",
       "      <td>1258</td>\n",
       "      <td>485.808073</td>\n",
       "      <td>439.078291</td>\n",
       "    </tr>\n",
       "    <tr>\n",
       "      <th>24</th>\n",
       "      <td>person_prefer_d_2_m</td>\n",
       "      <td>36</td>\n",
       "      <td>2</td>\n",
       "      <td>1258</td>\n",
       "      <td>496.681929</td>\n",
       "      <td>426.465285</td>\n",
       "    </tr>\n",
       "    <tr>\n",
       "      <th>25</th>\n",
       "      <td>person_prefer_d_1_m</td>\n",
       "      <td>36</td>\n",
       "      <td>2</td>\n",
       "      <td>1258</td>\n",
       "      <td>495.297071</td>\n",
       "      <td>429.295675</td>\n",
       "    </tr>\n",
       "    <tr>\n",
       "      <th>26</th>\n",
       "      <td>contents_attribute_d_m</td>\n",
       "      <td>36</td>\n",
       "      <td>2</td>\n",
       "      <td>1258</td>\n",
       "      <td>541.372935</td>\n",
       "      <td>433.224168</td>\n",
       "    </tr>\n",
       "    <tr>\n",
       "      <th>29</th>\n",
       "      <td>person_prefer_h_2_l</td>\n",
       "      <td>19</td>\n",
       "      <td>1</td>\n",
       "      <td>312</td>\n",
       "      <td>127.984672</td>\n",
       "      <td>95.013225</td>\n",
       "    </tr>\n",
       "    <tr>\n",
       "      <th>30</th>\n",
       "      <td>person_prefer_h_3_l</td>\n",
       "      <td>19</td>\n",
       "      <td>1</td>\n",
       "      <td>312</td>\n",
       "      <td>114.940871</td>\n",
       "      <td>90.862183</td>\n",
       "    </tr>\n",
       "    <tr>\n",
       "      <th>31</th>\n",
       "      <td>person_prefer_h_1_l</td>\n",
       "      <td>19</td>\n",
       "      <td>1</td>\n",
       "      <td>312</td>\n",
       "      <td>107.442511</td>\n",
       "      <td>90.275804</td>\n",
       "    </tr>\n",
       "    <tr>\n",
       "      <th>32</th>\n",
       "      <td>contents_attribute_h_l</td>\n",
       "      <td>17</td>\n",
       "      <td>3</td>\n",
       "      <td>308</td>\n",
       "      <td>118.564384</td>\n",
       "      <td>88.975338</td>\n",
       "    </tr>\n",
       "    <tr>\n",
       "      <th>35</th>\n",
       "      <td>person_prefer_d_3_l</td>\n",
       "      <td>11</td>\n",
       "      <td>1</td>\n",
       "      <td>1258</td>\n",
       "      <td>412.172706</td>\n",
       "      <td>408.868962</td>\n",
       "    </tr>\n",
       "    <tr>\n",
       "      <th>36</th>\n",
       "      <td>contents_attribute_d_l</td>\n",
       "      <td>11</td>\n",
       "      <td>1</td>\n",
       "      <td>1258</td>\n",
       "      <td>460.836524</td>\n",
       "      <td>397.156922</td>\n",
       "    </tr>\n",
       "    <tr>\n",
       "      <th>37</th>\n",
       "      <td>person_prefer_d_1_l</td>\n",
       "      <td>11</td>\n",
       "      <td>1</td>\n",
       "      <td>1258</td>\n",
       "      <td>421.916705</td>\n",
       "      <td>398.177923</td>\n",
       "    </tr>\n",
       "    <tr>\n",
       "      <th>38</th>\n",
       "      <td>person_prefer_d_2_l</td>\n",
       "      <td>11</td>\n",
       "      <td>1</td>\n",
       "      <td>1258</td>\n",
       "      <td>425.763019</td>\n",
       "      <td>399.528805</td>\n",
       "    </tr>\n",
       "  </tbody>\n",
       "</table>\n",
       "</div>"
      ],
      "text/plain": [
       "                  col_name len_unique  mix      max           mean  \\\n",
       "0                person_rn     300177    7  1049005  514111.533634   \n",
       "1              contents_rn     283359   20   753628  337674.345074   \n",
       "2     contents_attribute_l       1752    1     2013    1030.863194   \n",
       "3        person_prefer_d_1       1093    4     1258     537.296399   \n",
       "4        person_prefer_d_2       1081    4     1258     545.833926   \n",
       "5     contents_attribute_d       1065    4     1258     581.505215   \n",
       "6        person_prefer_d_3       1043    4     1258     534.994095   \n",
       "7      person_prefer_d_1_n        443    4     1258     535.598700   \n",
       "8      person_prefer_d_2_n        435    4     1258     543.900966   \n",
       "9   contents_attribute_d_n        431    4     1258     579.414244   \n",
       "10     person_prefer_d_3_n        420    4     1258     533.590659   \n",
       "11       person_prefer_h_1        279    2      313     116.394919   \n",
       "12       person_prefer_h_3        279    2      313     122.784720   \n",
       "13       person_prefer_h_2        279    2      313     136.011991   \n",
       "14    contents_attribute_h        250    5      311     132.530916   \n",
       "15     person_prefer_h_3_m        246  315      569     415.585240   \n",
       "16     person_prefer_h_1_m        246  315      569     409.648802   \n",
       "17     person_prefer_h_2_m        246  315      569     425.593183   \n",
       "18  contents_attribute_h_m        228  317      568     422.450490   \n",
       "19  contents_attribute_d_s        137    3     1258     573.707605   \n",
       "20     person_prefer_d_2_s        137    3     1258     536.908378   \n",
       "21     person_prefer_d_1_s        137    3     1258     530.018906   \n",
       "22     person_prefer_d_3_s        136    3     1258     526.331489   \n",
       "23     person_prefer_d_3_m         36    2     1258     485.808073   \n",
       "24     person_prefer_d_2_m         36    2     1258     496.681929   \n",
       "25     person_prefer_d_1_m         36    2     1258     495.297071   \n",
       "26  contents_attribute_d_m         36    2     1258     541.372935   \n",
       "29     person_prefer_h_2_l         19    1      312     127.984672   \n",
       "30     person_prefer_h_3_l         19    1      312     114.940871   \n",
       "31     person_prefer_h_1_l         19    1      312     107.442511   \n",
       "32  contents_attribute_h_l         17    3      308     118.564384   \n",
       "35     person_prefer_d_3_l         11    1     1258     412.172706   \n",
       "36  contents_attribute_d_l         11    1     1258     460.836524   \n",
       "37     person_prefer_d_1_l         11    1     1258     421.916705   \n",
       "38     person_prefer_d_2_l         11    1     1258     425.763019   \n",
       "\n",
       "              std  \n",
       "0   294354.743165  \n",
       "1   219518.485557  \n",
       "2      527.235733  \n",
       "3      411.441926  \n",
       "4      403.328742  \n",
       "5      413.915756  \n",
       "6      415.752072  \n",
       "7      411.650059  \n",
       "8      403.966058  \n",
       "9      414.282254  \n",
       "10     415.973371  \n",
       "11      91.032989  \n",
       "12      90.947916  \n",
       "13      93.756209  \n",
       "14      87.142309  \n",
       "15      72.397541  \n",
       "16      72.488959  \n",
       "17      74.960942  \n",
       "18      68.569269  \n",
       "19     416.872174  \n",
       "20     408.086663  \n",
       "21     414.337987  \n",
       "22     419.998100  \n",
       "23     439.078291  \n",
       "24     426.465285  \n",
       "25     429.295675  \n",
       "26     433.224168  \n",
       "29      95.013225  \n",
       "30      90.862183  \n",
       "31      90.275804  \n",
       "32      88.975338  \n",
       "35     408.868962  \n",
       "36     397.156922  \n",
       "37     398.177923  \n",
       "38     399.528805  "
      ]
     },
     "execution_count": 88,
     "metadata": {},
     "output_type": "execute_result"
    }
   ],
   "source": [
    "df_unique.loc[df_unique['max']>100]"
   ]
  },
  {
   "cell_type": "code",
   "execution_count": 87,
   "id": "bdaf9bf7",
   "metadata": {},
   "outputs": [],
   "source": [
    "scale_list=['person_rn', 'contents_rn', 'contents_attribute_l',\n",
    "       'person_prefer_d_1', 'person_prefer_d_2', 'contents_attribute_d',\n",
    "       'person_prefer_d_3', 'person_prefer_d_1_n', 'person_prefer_d_2_n',\n",
    "       'contents_attribute_d_n', 'person_prefer_d_3_n',\n",
    "       'person_prefer_h_1', 'person_prefer_h_3', 'person_prefer_h_2',\n",
    "       'contents_attribute_h', 'person_prefer_h_3_m',\n",
    "       'person_prefer_h_1_m', 'person_prefer_h_2_m',\n",
    "       'contents_attribute_h_m', 'contents_attribute_d_s',\n",
    "       'person_prefer_d_2_s', 'person_prefer_d_1_s',\n",
    "       'person_prefer_d_3_s', 'person_prefer_d_3_m',\n",
    "       'person_prefer_d_2_m', 'person_prefer_d_1_m',\n",
    "       'contents_attribute_d_m', 'person_prefer_h_2_l',\n",
    "       'person_prefer_h_3_l', 'person_prefer_h_1_l',\n",
    "       'contents_attribute_h_l', 'person_prefer_d_3_l',\n",
    "       'contents_attribute_d_l', 'person_prefer_d_1_l',\n",
    "       'person_prefer_d_2_l']"
   ]
  },
  {
   "cell_type": "code",
   "execution_count": 89,
   "id": "bc71416d",
   "metadata": {},
   "outputs": [],
   "source": [
    "ex_train=train.copy()\n",
    "\n",
    "for i in range(len(ex_train.columns)):\n",
    "    col=ex_train.columns[i]\n",
    "    if col in scale_list:\n",
    "        A=mm.fit_transform(ex_train[[col]])\n",
    "        ex_train[[col]]=pd.DataFrame(A)"
   ]
  },
  {
   "cell_type": "code",
   "execution_count": 92,
   "id": "9d1df3bf",
   "metadata": {},
   "outputs": [],
   "source": [
    "s_x=ex_train.drop(\"target\", axis=1)\n",
    "y=ex_train['target']\n",
    "result=scaling_result(cb, s_x, y)"
   ]
  },
  {
   "cell_type": "code",
   "execution_count": 91,
   "id": "4412b00e",
   "metadata": {},
   "outputs": [
    {
     "name": "stdout",
     "output_type": "stream",
     "text": [
      "f1_score 0.6817590663735656\n",
      "train_score 0.7535984659826676\n",
      "test_score 0.7245669432518851\n"
     ]
    }
   ],
   "source": [
    "print(\"f1_score\", result[0])\n",
    "print(\"train_score\", result[1])\n",
    "print(\"test_score\", result[2])"
   ]
  },
  {
   "cell_type": "markdown",
   "id": "b6749876",
   "metadata": {},
   "source": [
    "- df_unique.loc[df_unique['max']>100]으로 최댓값이 100 이상만 scaling\n",
    "- 오히려 결과가 더 안좋아졌다."
   ]
  },
  {
   "cell_type": "markdown",
   "id": "0088a511",
   "metadata": {},
   "source": [
    "더미화 진행\n",
    "--"
   ]
  },
  {
   "cell_type": "code",
   "execution_count": 88,
   "id": "e52915c6",
   "metadata": {},
   "outputs": [],
   "source": [
    "ex_test=test.copy()\n",
    "ex_train=train.copy()\n",
    "ex_test['target']=2"
   ]
  },
  {
   "cell_type": "code",
   "execution_count": 89,
   "id": "c9669e52",
   "metadata": {},
   "outputs": [],
   "source": [
    "tn_te=pd.concat([ex_train, ex_test], axis=0)"
   ]
  },
  {
   "cell_type": "code",
   "execution_count": 90,
   "id": "cdb0bb88",
   "metadata": {},
   "outputs": [],
   "source": [
    "tn_te=tn_te.reset_index()\n",
    "tn_te.drop('index', axis=1, inplace=True)"
   ]
  },
  {
   "cell_type": "code",
   "execution_count": 91,
   "id": "a4f956ee",
   "metadata": {},
   "outputs": [],
   "source": [
    "dummy_list=['person_prefer_d_1','person_prefer_d_3','person_prefer_d_1_n', 'person_prefer_d_1_s', 'person_prefer_d_1_m',\n",
    "       'person_prefer_d_1_l','person_prefer_d_2','person_prefer_d_2_n', 'person_prefer_d_2_s',\n",
    "       'person_prefer_d_2_m', 'person_prefer_d_2_l','person_prefer_d_3','person_prefer_d_3_n',\n",
    "       'person_prefer_d_3_s', 'person_prefer_d_3_m', 'person_prefer_d_3_l','person_prefer_h_1',\n",
    "            'person_prefer_h_1_l', 'person_prefer_h_1_m','person_prefer_h_2','person_prefer_h_2_l',\n",
    "       'person_prefer_h_2_m', 'person_prefer_h_3','person_prefer_h_3_l', 'person_prefer_h_3_m',\n",
    "            'contents_attribute_d','contents_attribute_d_n', 'contents_attribute_d_s',\n",
    "       'contents_attribute_d_m', 'contents_attribute_d_l','contents_attribute_h', 'contents_attribute_h_l', 'contents_attribute_h_m']"
   ]
  },
  {
   "cell_type": "code",
   "execution_count": 92,
   "id": "5aa89f94",
   "metadata": {},
   "outputs": [],
   "source": [
    "df_unique=pd.DataFrame(columns=['col_name','len_unique','mix','max','mean','std'])\n",
    "\n",
    "for i in range(len(tn_te.columns)):\n",
    "    col=tn_te.columns[i]\n",
    "    \n",
    "    if col in dummy_list:\n",
    "        len_unique=len(tn_te[col].unique())\n",
    "        min_col=tn_te[col].min()\n",
    "        max_col=tn_te[col].max()\n",
    "        mean_col=tn_te[col].mean()\n",
    "        std_col=tn_te[col].std()\n",
    "        df_unique=df_unique.append({'col_name':col,'len_unique':len_unique,'mix':min_col,'max':max_col,'mean':mean_col,'std':std_col}, ignore_index=True)\n",
    "\n",
    "df_unique=df_unique.sort_values(\"len_unique\", ascending=True)\n",
    "df_unique=df_unique.loc[df_unique['col_name']!='id']\n",
    "df_unique=df_unique.reset_index()\n",
    "df_unique.drop(\"index\", axis=1, inplace=True)"
   ]
  },
  {
   "cell_type": "code",
   "execution_count": 93,
   "id": "e956b5fa",
   "metadata": {},
   "outputs": [
    {
     "data": {
      "text/html": [
       "<div>\n",
       "<style scoped>\n",
       "    .dataframe tbody tr th:only-of-type {\n",
       "        vertical-align: middle;\n",
       "    }\n",
       "\n",
       "    .dataframe tbody tr th {\n",
       "        vertical-align: top;\n",
       "    }\n",
       "\n",
       "    .dataframe thead th {\n",
       "        text-align: right;\n",
       "    }\n",
       "</style>\n",
       "<table border=\"1\" class=\"dataframe\">\n",
       "  <thead>\n",
       "    <tr style=\"text-align: right;\">\n",
       "      <th></th>\n",
       "      <th>col_name</th>\n",
       "      <th>len_unique</th>\n",
       "      <th>mix</th>\n",
       "      <th>max</th>\n",
       "      <th>mean</th>\n",
       "      <th>std</th>\n",
       "    </tr>\n",
       "  </thead>\n",
       "  <tbody>\n",
       "    <tr>\n",
       "      <th>0</th>\n",
       "      <td>person_prefer_d_2_l</td>\n",
       "      <td>11</td>\n",
       "      <td>1</td>\n",
       "      <td>1258</td>\n",
       "      <td>426.940559</td>\n",
       "      <td>399.013313</td>\n",
       "    </tr>\n",
       "    <tr>\n",
       "      <th>1</th>\n",
       "      <td>contents_attribute_d_l</td>\n",
       "      <td>11</td>\n",
       "      <td>1</td>\n",
       "      <td>1258</td>\n",
       "      <td>461.785750</td>\n",
       "      <td>396.341062</td>\n",
       "    </tr>\n",
       "    <tr>\n",
       "      <th>2</th>\n",
       "      <td>person_prefer_d_3_l</td>\n",
       "      <td>11</td>\n",
       "      <td>1</td>\n",
       "      <td>1258</td>\n",
       "      <td>412.904567</td>\n",
       "      <td>408.481974</td>\n",
       "    </tr>\n",
       "    <tr>\n",
       "      <th>3</th>\n",
       "      <td>person_prefer_d_1_l</td>\n",
       "      <td>11</td>\n",
       "      <td>1</td>\n",
       "      <td>1258</td>\n",
       "      <td>423.071742</td>\n",
       "      <td>397.646162</td>\n",
       "    </tr>\n",
       "    <tr>\n",
       "      <th>4</th>\n",
       "      <td>contents_attribute_h_l</td>\n",
       "      <td>17</td>\n",
       "      <td>3</td>\n",
       "      <td>308</td>\n",
       "      <td>118.531158</td>\n",
       "      <td>89.049047</td>\n",
       "    </tr>\n",
       "    <tr>\n",
       "      <th>5</th>\n",
       "      <td>person_prefer_h_3_l</td>\n",
       "      <td>19</td>\n",
       "      <td>1</td>\n",
       "      <td>312</td>\n",
       "      <td>114.863225</td>\n",
       "      <td>90.912370</td>\n",
       "    </tr>\n",
       "    <tr>\n",
       "      <th>6</th>\n",
       "      <td>person_prefer_h_2_l</td>\n",
       "      <td>19</td>\n",
       "      <td>1</td>\n",
       "      <td>312</td>\n",
       "      <td>128.009129</td>\n",
       "      <td>95.039469</td>\n",
       "    </tr>\n",
       "    <tr>\n",
       "      <th>7</th>\n",
       "      <td>person_prefer_h_1_l</td>\n",
       "      <td>19</td>\n",
       "      <td>1</td>\n",
       "      <td>312</td>\n",
       "      <td>107.545172</td>\n",
       "      <td>90.381530</td>\n",
       "    </tr>\n",
       "  </tbody>\n",
       "</table>\n",
       "</div>"
      ],
      "text/plain": [
       "                 col_name len_unique mix   max        mean         std\n",
       "0     person_prefer_d_2_l         11   1  1258  426.940559  399.013313\n",
       "1  contents_attribute_d_l         11   1  1258  461.785750  396.341062\n",
       "2     person_prefer_d_3_l         11   1  1258  412.904567  408.481974\n",
       "3     person_prefer_d_1_l         11   1  1258  423.071742  397.646162\n",
       "4  contents_attribute_h_l         17   3   308  118.531158   89.049047\n",
       "5     person_prefer_h_3_l         19   1   312  114.863225   90.912370\n",
       "6     person_prefer_h_2_l         19   1   312  128.009129   95.039469\n",
       "7     person_prefer_h_1_l         19   1   312  107.545172   90.381530"
      ]
     },
     "execution_count": 93,
     "metadata": {},
     "output_type": "execute_result"
    }
   ],
   "source": [
    "df_unique.head(8)"
   ]
  },
  {
   "cell_type": "code",
   "execution_count": 94,
   "id": "972c752d",
   "metadata": {},
   "outputs": [
    {
     "data": {
      "text/plain": [
       "array(['person_prefer_d_2_l', 'contents_attribute_d_l',\n",
       "       'person_prefer_d_3_l', 'person_prefer_d_1_l',\n",
       "       'contents_attribute_h_l', 'person_prefer_h_3_l',\n",
       "       'person_prefer_h_2_l', 'person_prefer_h_1_l'], dtype=object)"
      ]
     },
     "execution_count": 94,
     "metadata": {},
     "output_type": "execute_result"
    }
   ],
   "source": [
    "df_unique.head(8).col_name.values"
   ]
  },
  {
   "cell_type": "code",
   "execution_count": 95,
   "id": "03b05188",
   "metadata": {},
   "outputs": [],
   "source": [
    "A=pd.get_dummies(tn_te['person_prefer_d_2_l'], prefix='person_prefer_d_2_l')\n",
    "B=pd.get_dummies(tn_te['contents_attribute_d_l'], prefix='contents_attribute_d_l')\n",
    "C=pd.get_dummies(tn_te['person_prefer_d_3_l'], prefix='person_prefer_d_3_l')\n",
    "D=pd.get_dummies(tn_te['person_prefer_d_1_l'], prefix='person_prefer_d_1_l')\n",
    "E=pd.get_dummies(tn_te['contents_attribute_h_l'], prefix='contents_attribute_h_l')\n",
    "F=pd.get_dummies(tn_te['person_prefer_h_3_l'], prefix='person_prefer_h_3_l')\n",
    "G=pd.get_dummies(tn_te['person_prefer_h_2_l'], prefix='person_prefer_h_2_l')\n",
    "H=pd.get_dummies(tn_te['person_prefer_h_1_l'], prefix='person_prefer_h_1_l')\n",
    "\n",
    "I=pd.concat([A,B,C,D,E,F,G,H], axis=1)"
   ]
  },
  {
   "cell_type": "code",
   "execution_count": 96,
   "id": "8cfaee2f",
   "metadata": {},
   "outputs": [],
   "source": [
    "tn_te=pd.concat([tn_te, I], axis=1)"
   ]
  },
  {
   "cell_type": "code",
   "execution_count": 97,
   "id": "2e416f92",
   "metadata": {},
   "outputs": [],
   "source": [
    "tn_te.drop(['person_prefer_d_2_l', 'contents_attribute_d_l',\n",
    "       'person_prefer_d_3_l', 'person_prefer_d_1_l',\n",
    "       'contents_attribute_h_l', 'person_prefer_h_3_l',\n",
    "       'person_prefer_h_2_l', 'person_prefer_h_1_l'], axis=1, inplace=True)"
   ]
  },
  {
   "cell_type": "code",
   "execution_count": 98,
   "id": "1b0de078",
   "metadata": {},
   "outputs": [],
   "source": [
    "ex_train=df.loc[df['target']!=2]\n",
    "ex_test=df.loc[df['target']==2]\n",
    "ex_test.drop('target', axis=1, inplace=True)"
   ]
  },
  {
   "cell_type": "code",
   "execution_count": 99,
   "id": "0e8216d8",
   "metadata": {},
   "outputs": [],
   "source": [
    "from sklearn.metrics import f1_score"
   ]
  },
  {
   "cell_type": "code",
   "execution_count": 106,
   "id": "29b6141e",
   "metadata": {},
   "outputs": [],
   "source": [
    "x=ex_train.drop('target', axis=1)\n",
    "y=ex_train['target']\n",
    "mm=MinMaxScaler()\n",
    "s_x=mm.fit_transform(x)\n",
    "result=scaling_result(cb, s_x, y)"
   ]
  },
  {
   "cell_type": "code",
   "execution_count": 101,
   "id": "58248d8d",
   "metadata": {},
   "outputs": [
    {
     "name": "stdout",
     "output_type": "stream",
     "text": [
      "f1_score 0.6833459866105321\n",
      "train_score 0.7546643091941428\n",
      "test_score 0.7257921526830095\n"
     ]
    }
   ],
   "source": [
    "print(\"f1_score\", result[0])\n",
    "print(\"train_score\", result[1])\n",
    "print(\"test_score\", result[2])"
   ]
  },
  {
   "cell_type": "code",
   "execution_count": 102,
   "id": "5f2690c4",
   "metadata": {},
   "outputs": [],
   "source": [
    "cb = CatBoostClassifier(random_state=42)"
   ]
  },
  {
   "cell_type": "code",
   "execution_count": 107,
   "id": "94f074fa",
   "metadata": {},
   "outputs": [],
   "source": [
    "cb.fit(s_x, y)"
   ]
  },
  {
   "cell_type": "code",
   "execution_count": 104,
   "id": "649ee1ce",
   "metadata": {},
   "outputs": [
    {
     "name": "stdout",
     "output_type": "stream",
     "text": [
      "169\n",
      "168\n"
     ]
    }
   ],
   "source": [
    "print(len(set(ex_test)|set(ex_train)))\n",
    "print(len(set(ex_test)&set(ex_train)))"
   ]
  },
  {
   "cell_type": "code",
   "execution_count": 108,
   "id": "74cf08f7",
   "metadata": {},
   "outputs": [],
   "source": [
    "y_pred=cb.predict(s_x)"
   ]
  },
  {
   "cell_type": "code",
   "execution_count": 109,
   "id": "515f20f9",
   "metadata": {},
   "outputs": [
    {
     "name": "stdout",
     "output_type": "stream",
     "text": [
      "score 0.75098764620451\n",
      "f1_score 0.7136586684504963\n"
     ]
    }
   ],
   "source": [
    "print(\"score\", cb.score(s_x, y))\n",
    "print(\"f1_score\", f1_score(y_pred, y))"
   ]
  },
  {
   "cell_type": "code",
   "execution_count": 110,
   "id": "fde582ef",
   "metadata": {},
   "outputs": [
    {
     "data": {
      "text/plain": [
       "array([[221198,  29908],\n",
       "       [ 95084, 155761]], dtype=int64)"
      ]
     },
     "execution_count": 110,
     "metadata": {},
     "output_type": "execute_result"
    }
   ],
   "source": [
    "from sklearn.metrics import confusion_matrix\n",
    "confusion_matrix(y, y_pred)"
   ]
  },
  {
   "cell_type": "code",
   "execution_count": 111,
   "id": "1948038f",
   "metadata": {},
   "outputs": [
    {
     "name": "stdout",
     "output_type": "stream",
     "text": [
      "              precision    recall  f1-score   support\n",
      "\n",
      "           0       0.70      0.88      0.78    251106\n",
      "           1       0.84      0.62      0.71    250845\n",
      "\n",
      "    accuracy                           0.75    501951\n",
      "   macro avg       0.77      0.75      0.75    501951\n",
      "weighted avg       0.77      0.75      0.75    501951\n",
      "\n"
     ]
    }
   ],
   "source": [
    "from sklearn.metrics import classification_report\n",
    "auc_roc=classification_report(y, y_pred)\n",
    "print(auc_roc)"
   ]
  },
  {
   "cell_type": "code",
   "execution_count": 112,
   "id": "4c5e3c25",
   "metadata": {},
   "outputs": [],
   "source": [
    "mm_test=mm.fit_transform(ex_test)\n",
    "pred=cb.predict(mm_test)"
   ]
  },
  {
   "cell_type": "code",
   "execution_count": 113,
   "id": "6d49d585",
   "metadata": {},
   "outputs": [
    {
     "data": {
      "text/plain": [
       "array([0, 0, 0, ..., 1, 1, 1], dtype=int64)"
      ]
     },
     "execution_count": 113,
     "metadata": {},
     "output_type": "execute_result"
    }
   ],
   "source": [
    "pred"
   ]
  },
  {
   "cell_type": "code",
   "execution_count": 114,
   "id": "561b3156",
   "metadata": {},
   "outputs": [],
   "source": [
    "sub=pd.read_csv(\"C:/Users/bella/Desktop/SelfStudy/데이콘/Jobcare_data/sample_submission.csv\")"
   ]
  },
  {
   "cell_type": "code",
   "execution_count": 115,
   "id": "c350bbc9",
   "metadata": {},
   "outputs": [],
   "source": [
    "df_pred=pd.DataFrame(pred, columns=['target'])"
   ]
  },
  {
   "cell_type": "code",
   "execution_count": 116,
   "id": "b1e2a332",
   "metadata": {},
   "outputs": [],
   "source": [
    "sub.drop(\"target\", axis=1, inplace=True)"
   ]
  },
  {
   "cell_type": "code",
   "execution_count": 117,
   "id": "9175e896",
   "metadata": {},
   "outputs": [],
   "source": [
    "sub=pd.concat([sub, df_pred], axis=1)"
   ]
  },
  {
   "cell_type": "code",
   "execution_count": 118,
   "id": "fd72f523",
   "metadata": {},
   "outputs": [
    {
     "data": {
      "text/html": [
       "<div>\n",
       "<style scoped>\n",
       "    .dataframe tbody tr th:only-of-type {\n",
       "        vertical-align: middle;\n",
       "    }\n",
       "\n",
       "    .dataframe tbody tr th {\n",
       "        vertical-align: top;\n",
       "    }\n",
       "\n",
       "    .dataframe thead th {\n",
       "        text-align: right;\n",
       "    }\n",
       "</style>\n",
       "<table border=\"1\" class=\"dataframe\">\n",
       "  <thead>\n",
       "    <tr style=\"text-align: right;\">\n",
       "      <th></th>\n",
       "      <th>id</th>\n",
       "      <th>target</th>\n",
       "    </tr>\n",
       "  </thead>\n",
       "  <tbody>\n",
       "    <tr>\n",
       "      <th>0</th>\n",
       "      <td>0</td>\n",
       "      <td>0</td>\n",
       "    </tr>\n",
       "    <tr>\n",
       "      <th>1</th>\n",
       "      <td>1</td>\n",
       "      <td>0</td>\n",
       "    </tr>\n",
       "    <tr>\n",
       "      <th>2</th>\n",
       "      <td>2</td>\n",
       "      <td>0</td>\n",
       "    </tr>\n",
       "    <tr>\n",
       "      <th>3</th>\n",
       "      <td>3</td>\n",
       "      <td>0</td>\n",
       "    </tr>\n",
       "    <tr>\n",
       "      <th>4</th>\n",
       "      <td>4</td>\n",
       "      <td>0</td>\n",
       "    </tr>\n",
       "    <tr>\n",
       "      <th>...</th>\n",
       "      <td>...</td>\n",
       "      <td>...</td>\n",
       "    </tr>\n",
       "    <tr>\n",
       "      <th>46399</th>\n",
       "      <td>46399</td>\n",
       "      <td>1</td>\n",
       "    </tr>\n",
       "    <tr>\n",
       "      <th>46400</th>\n",
       "      <td>46400</td>\n",
       "      <td>1</td>\n",
       "    </tr>\n",
       "    <tr>\n",
       "      <th>46401</th>\n",
       "      <td>46401</td>\n",
       "      <td>1</td>\n",
       "    </tr>\n",
       "    <tr>\n",
       "      <th>46402</th>\n",
       "      <td>46402</td>\n",
       "      <td>1</td>\n",
       "    </tr>\n",
       "    <tr>\n",
       "      <th>46403</th>\n",
       "      <td>46403</td>\n",
       "      <td>1</td>\n",
       "    </tr>\n",
       "  </tbody>\n",
       "</table>\n",
       "<p>46404 rows × 2 columns</p>\n",
       "</div>"
      ],
      "text/plain": [
       "          id  target\n",
       "0          0       0\n",
       "1          1       0\n",
       "2          2       0\n",
       "3          3       0\n",
       "4          4       0\n",
       "...      ...     ...\n",
       "46399  46399       1\n",
       "46400  46400       1\n",
       "46401  46401       1\n",
       "46402  46402       1\n",
       "46403  46403       1\n",
       "\n",
       "[46404 rows x 2 columns]"
      ]
     },
     "execution_count": 118,
     "metadata": {},
     "output_type": "execute_result"
    }
   ],
   "source": [
    "sub"
   ]
  },
  {
   "cell_type": "code",
   "execution_count": 119,
   "id": "45aaab0f",
   "metadata": {},
   "outputs": [
    {
     "data": {
      "image/png": "[encoded data removed]",
      "text/plain": [
       "<Figure size 432x288 with 1 Axes>"
      ]
     },
     "metadata": {},
     "output_type": "display_data"
    }
   ],
   "source": [
    "import seaborn as sns\n",
    "\n",
    "sns.countplot(sub['target'])\n",
    "sns.set_style(\"darkgrid\")"
   ]
  },
  {
   "cell_type": "code",
   "execution_count": 120,
   "id": "99d18979",
   "metadata": {},
   "outputs": [
    {
     "data": {
      "text/plain": [
       "0    29257\n",
       "1    17147\n",
       "Name: target, dtype: int64"
      ]
     },
     "execution_count": 120,
     "metadata": {},
     "output_type": "execute_result"
    }
   ],
   "source": [
    "sub.target.value_counts()"
   ]
  },
  {
   "cell_type": "code",
   "execution_count": 85,
   "id": "f43c34f3",
   "metadata": {},
   "outputs": [],
   "source": [
    "#sub.to_csv(\"C:/Users/bella/Desktop/SelfStudy/데이콘/Jobcare_data/sub_2.csv\", index=False)"
   ]
  },
  {
   "cell_type": "code",
   "execution_count": 123,
   "id": "d9c81e39",
   "metadata": {},
   "outputs": [],
   "source": [
    "e_train=ex_train.drop('target', axis=1)"
   ]
  },
  {
   "cell_type": "code",
   "execution_count": 124,
   "id": "bdcaebcb",
   "metadata": {},
   "outputs": [],
   "source": [
    "e_train=pd.DataFrame(s_x, index=e_train.index, columns=e_train.columns)"
   ]
  },
  {
   "cell_type": "code",
   "execution_count": 125,
   "id": "3af466a1",
   "metadata": {},
   "outputs": [],
   "source": [
    "ex_train=pd.concat([e_train, ex_train[['target']]], axis=1)"
   ]
  },
  {
   "cell_type": "code",
   "execution_count": 126,
   "id": "a7f8c96b",
   "metadata": {},
   "outputs": [],
   "source": [
    "#ex_train.to_csv(\"C:/Users/bella/Desktop/SelfStudy/데이콘/Jobcare_data/train_1.csv\", index=False)"
   ]
  },
  {
   "cell_type": "code",
   "execution_count": 128,
   "id": "6c7da02d",
   "metadata": {},
   "outputs": [],
   "source": [
    "ex_test=pd.DataFrame(mm_test, index=ex_test.index, columns=ex_test.columns)"
   ]
  },
  {
   "cell_type": "code",
   "execution_count": 129,
   "id": "d63dd86a",
   "metadata": {},
   "outputs": [],
   "source": [
    "#ex_test.to_csv(\"C:/Users/bella/Desktop/SelfStudy/데이콘/Jobcare_data/test_1.csv\", index=False)"
   ]
  },
  {
   "cell_type": "markdown",
   "id": "573842ae",
   "metadata": {},
   "source": [
    "**0.4150 $\\Rightarrow$ 0.4996으로 점수가 0.08460 상승했음.**"
   ]
  }
 ],
 "metadata": {
  "kernelspec": {
   "display_name": "Python 3 (ipykernel)",
   "language": "python",
   "name": "python3"
  },
  "language_info": {
   "codemirror_mode": {
    "name": "ipython",
    "version": 3
   },
   "file_extension": ".py",
   "mimetype": "text/x-python",
   "name": "python",
   "nbconvert_exporter": "python",
   "pygments_lexer": "ipython3",
   "version": "3.9.7"
  }
 },
 "nbformat": 4,
 "nbformat_minor": 5
}
