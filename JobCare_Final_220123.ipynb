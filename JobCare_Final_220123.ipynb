{
  "nbformat": 4,
  "nbformat_minor": 0,
  "metadata": {
    "colab": {
      "name": "JobCare_Final_220123.ipynb",
      "provenance": [],
      "mount_file_id": "1XRy5yseL7Z9YctaI8qzwY9e0LgnIfqu0",
      "authorship_tag": "ABX9TyMuURXFu2BYrGblKaRTIh1p",
      "include_colab_link": true
    },
    "kernelspec": {
      "name": "python3",
      "display_name": "Python 3"
    },
    "language_info": {
      "name": "python"
    },
    "accelerator": "GPU"
  },
  "cells": [
    {
      "cell_type": "markdown",
      "metadata": {
        "id": "view-in-github",
        "colab_type": "text"
      },
      "source": [
        "<a href=\"https://colab.research.google.com/github/Proj-Caliber/Job-Care/blob/Choiyonje/JobCare_Final_220123.ipynb\" target=\"_parent\"><img src=\"https://colab.research.google.com/assets/colab-badge.svg\" alt=\"Open In Colab\"/></a>"
      ]
    },
    {
      "cell_type": "markdown",
      "source": [
        "### Final"
      ],
      "metadata": {
        "id": "qGczaMZ-QoJX"
      }
    },
    {
      "cell_type": "markdown",
      "source": [
        "## Load Data"
      ],
      "metadata": {
        "id": "-HKQeFlrQsJj"
      }
    },
    {
      "cell_type": "code",
      "execution_count": 71,
      "metadata": {
        "id": "176_meGO3btb"
      },
      "outputs": [],
      "source": [
        "import pandas as pd\n",
        "import numpy as np\n",
        "import matplotlib\n",
        "import matplotlib.pyplot as plt\n",
        "import seaborn as sns\n",
        "from tqdm import tqdm\n",
        "import warnings\n",
        "import sklearn as sk\n",
        "warnings.filterwarnings(\"ignore\")\n",
        "import os\n",
        "import sys\n",
        "import platform\n",
        "\n",
        "\n",
        "#original given files\n",
        "train= pd.read_csv('/content/drive/MyDrive/잡케어/train (5).csv')\n",
        "test= pd.read_csv('/content/drive/MyDrive/잡케어/test (2).csv')\n",
        "\n",
        "d_code= pd.read_csv('/content/drive/MyDrive/잡케어/속성_D_코드.csv', index_col=0).T.to_dict()\n",
        "h_code= pd.read_csv('/content/drive/MyDrive/잡케어/속성_H_코드.csv', index_col=0).T.to_dict()\n",
        "l_code= pd.read_csv('/content/drive/MyDrive/잡케어/속성_L_코드.csv', index_col=0).T.to_dict()\n",
        "\n",
        "sub= pd.read_csv('/content/drive/MyDrive/잡케어/sample_submission.csv')"
      ]
    },
    {
      "cell_type": "code",
      "source": [
        "print(f\"- os: {platform.platform()}\")\n",
        "print('Pandas : %s'%(pd.__version__))\n",
        "print('Numpy : %s'%(np.__version__))\n",
        "print('sklearn : %s'%(sk.__version__))\n",
        "print('matplotlib : %s'%(matplotlib.__version__))\n",
        "print('seaborn : %s'%(sns.__version__))\n",
        "!python --version"
      ],
      "metadata": {
        "colab": {
          "base_uri": "https://localhost:8080/"
        },
        "id": "IQg9wPQ8Q2kI",
        "outputId": "a1c76d39-ebea-4615-e34c-bec372d674ab"
      },
      "execution_count": 72,
      "outputs": [
        {
          "output_type": "stream",
          "name": "stdout",
          "text": [
            "- os: Linux-5.4.144+-x86_64-with-Ubuntu-18.04-bionic\n",
            "Pandas : 1.1.5\n",
            "Numpy : 1.19.5\n",
            "sklearn : 1.0.2\n",
            "matplotlib : 3.2.2\n",
            "seaborn : 0.11.2\n",
            "Python 3.7.12\n"
          ]
        }
      ]
    },
    {
      "cell_type": "markdown",
      "source": [
        "##Data PreProcessing"
      ],
      "metadata": {
        "id": "sGINlA2NQ61m"
      }
    },
    {
      "cell_type": "markdown",
      "source": [
        "# Adding D,H,L"
      ],
      "metadata": {
        "id": "TtUYIbJPRBUX"
      }
    },
    {
      "cell_type": "code",
      "source": [
        "# 출처 \n",
        "#https://dacon.io/competitions/official/235863/codeshare/3877?page=1&dtype=recent 코드 사용\n",
        "\n",
        "def add_code(df, d_code, h_code, l_code):\n",
        "\n",
        "  #n : 세분류, s: 소분류, m: 중분류, l: 대분류\n",
        "  df['person_prefer_d_1_n']= df['person_prefer_d_1'].apply(lambda x: d_code[x]['속성 D 세분류코드'])\n",
        "  df['person_prefer_d_1_s']= df['person_prefer_d_1'].apply(lambda x: d_code[x]['속성 D 소분류코드'])\n",
        "  df['person_prefer_d_1_m'] = df['person_prefer_d_1'].apply(lambda x: d_code[x]['속성 D 중분류코드'])\n",
        "  df['person_prefer_d_1_l']= df['person_prefer_d_1'].apply(lambda x: d_code[x]['속성 D 대분류코드'])\n",
        "\n",
        "  df['person_prefer_d_2_n'] = df['person_prefer_d_2'].apply(lambda x: d_code[x]['속성 D 세분류코드'])\n",
        "  df['person_prefer_d_2_s'] = df['person_prefer_d_2'].apply(lambda x: d_code[x]['속성 D 소분류코드'])\n",
        "  df['person_prefer_d_2_m'] = df['person_prefer_d_2'].apply(lambda x: d_code[x]['속성 D 중분류코드'])\n",
        "  df['person_prefer_d_2_l'] = df['person_prefer_d_2'].apply(lambda x: d_code[x]['속성 D 대분류코드'])\n",
        "\n",
        "  df['person_prefer_d_3_n'] = df['person_prefer_d_3'].apply(lambda x: d_code[x]['속성 D 세분류코드'])\n",
        "  df['person_prefer_d_3_s'] = df['person_prefer_d_3'].apply(lambda x: d_code[x]['속성 D 소분류코드'])\n",
        "  df['person_prefer_d_3_m'] = df['person_prefer_d_3'].apply(lambda x: d_code[x]['속성 D 중분류코드'])\n",
        "  df['person_prefer_d_3_l'] = df['person_prefer_d_3'].apply(lambda x: d_code[x]['속성 D 대분류코드'])\n",
        "\n",
        "  df['contents_attribute_d_n'] = df['contents_attribute_d'].apply(lambda x: d_code[x]['속성 D 세분류코드'])\n",
        "  df['contents_attribute_d_s'] = df['contents_attribute_d'].apply(lambda x: d_code[x]['속성 D 소분류코드'])\n",
        "  df['contents_attribute_d_m'] = df['contents_attribute_d'].apply(lambda x: d_code[x]['속성 D 중분류코드'])\n",
        "  df['contents_attribute_d_l'] = df['contents_attribute_d'].apply(lambda x: d_code[x]['속성 D 대분류코드'])\n",
        "\n",
        "  # H Code\n",
        "  df['person_prefer_h_1_l'] = df['person_prefer_h_1'].apply(lambda x: h_code[x]['속성 H 대분류코드'])\n",
        "  df['person_prefer_h_1_m'] = df['person_prefer_h_1'].apply(lambda x: h_code[x]['속성 H 중분류코드'])\n",
        "    \n",
        "  df['person_prefer_h_2_l'] = df['person_prefer_h_2'].apply(lambda x: h_code[x]['속성 H 대분류코드'])\n",
        "  df['person_prefer_h_2_m'] = df['person_prefer_h_2'].apply(lambda x: h_code[x]['속성 H 중분류코드'])\n",
        "    \n",
        "  df['person_prefer_h_3_l'] = df['person_prefer_h_3'].apply(lambda x: h_code[x]['속성 H 대분류코드'])\n",
        "  df['person_prefer_h_3_m'] = df['person_prefer_h_3'].apply(lambda x: h_code[x]['속성 H 중분류코드'])\n",
        "\n",
        "  df['contents_attribute_h_l'] = df['contents_attribute_h'].apply(lambda x: h_code[x]['속성 H 대분류코드'])\n",
        "  df['contents_attribute_h_m'] = df['contents_attribute_h'].apply(lambda x: h_code[x]['속성 H 중분류코드']) \n",
        "\n",
        "  return df\n",
        "\n",
        "train = add_code(train, d_code, h_code, l_code)\n",
        "test= add_code(test, d_code, h_code, l_code)"
      ],
      "metadata": {
        "id": "AYvnGRxQQ-np"
      },
      "execution_count": 73,
      "outputs": []
    },
    {
      "cell_type": "markdown",
      "source": [
        "# Missing Val, Duplicated 확인"
      ],
      "metadata": {
        "id": "nxW-mV3JRDVh"
      }
    },
    {
      "cell_type": "code",
      "source": [
        "train.isna().sum()"
      ],
      "metadata": {
        "colab": {
          "base_uri": "https://localhost:8080/"
        },
        "id": "KptB5N10RFKY",
        "outputId": "1ce9d11f-83e7-4cc0-d0ad-69d578fdc83e"
      },
      "execution_count": 74,
      "outputs": [
        {
          "output_type": "execute_result",
          "data": {
            "text/plain": [
              "id                        0\n",
              "d_l_match_yn              0\n",
              "d_m_match_yn              0\n",
              "d_s_match_yn              0\n",
              "h_l_match_yn              0\n",
              "h_m_match_yn              0\n",
              "h_s_match_yn              0\n",
              "person_attribute_a        0\n",
              "person_attribute_a_1      0\n",
              "person_attribute_b        0\n",
              "person_prefer_c           0\n",
              "person_prefer_d_1         0\n",
              "person_prefer_d_2         0\n",
              "person_prefer_d_3         0\n",
              "person_prefer_e           0\n",
              "person_prefer_f           0\n",
              "person_prefer_g           0\n",
              "person_prefer_h_1         0\n",
              "person_prefer_h_2         0\n",
              "person_prefer_h_3         0\n",
              "contents_attribute_i      0\n",
              "contents_attribute_a      0\n",
              "contents_attribute_j_1    0\n",
              "contents_attribute_j      0\n",
              "contents_attribute_c      0\n",
              "contents_attribute_k      0\n",
              "contents_attribute_l      0\n",
              "contents_attribute_d      0\n",
              "contents_attribute_m      0\n",
              "contents_attribute_e      0\n",
              "contents_attribute_h      0\n",
              "person_rn                 0\n",
              "contents_rn               0\n",
              "contents_open_dt          0\n",
              "target                    0\n",
              "person_prefer_d_1_n       0\n",
              "person_prefer_d_1_s       0\n",
              "person_prefer_d_1_m       0\n",
              "person_prefer_d_1_l       0\n",
              "person_prefer_d_2_n       0\n",
              "person_prefer_d_2_s       0\n",
              "person_prefer_d_2_m       0\n",
              "person_prefer_d_2_l       0\n",
              "person_prefer_d_3_n       0\n",
              "person_prefer_d_3_s       0\n",
              "person_prefer_d_3_m       0\n",
              "person_prefer_d_3_l       0\n",
              "contents_attribute_d_n    0\n",
              "contents_attribute_d_s    0\n",
              "contents_attribute_d_m    0\n",
              "contents_attribute_d_l    0\n",
              "person_prefer_h_1_l       0\n",
              "person_prefer_h_1_m       0\n",
              "person_prefer_h_2_l       0\n",
              "person_prefer_h_2_m       0\n",
              "person_prefer_h_3_l       0\n",
              "person_prefer_h_3_m       0\n",
              "contents_attribute_h_l    0\n",
              "contents_attribute_h_m    0\n",
              "dtype: int64"
            ]
          },
          "metadata": {},
          "execution_count": 74
        }
      ]
    },
    {
      "cell_type": "code",
      "source": [
        "test.isna().sum()"
      ],
      "metadata": {
        "colab": {
          "base_uri": "https://localhost:8080/"
        },
        "id": "vW_sEKsARHEt",
        "outputId": "2ed93607-5a40-461f-f1eb-b6057667015b"
      },
      "execution_count": 75,
      "outputs": [
        {
          "output_type": "execute_result",
          "data": {
            "text/plain": [
              "id                        0\n",
              "d_l_match_yn              0\n",
              "d_m_match_yn              0\n",
              "d_s_match_yn              0\n",
              "h_l_match_yn              0\n",
              "h_m_match_yn              0\n",
              "h_s_match_yn              0\n",
              "person_attribute_a        0\n",
              "person_attribute_a_1      0\n",
              "person_attribute_b        0\n",
              "person_prefer_c           0\n",
              "person_prefer_d_1         0\n",
              "person_prefer_d_2         0\n",
              "person_prefer_d_3         0\n",
              "person_prefer_e           0\n",
              "person_prefer_f           0\n",
              "person_prefer_g           0\n",
              "person_prefer_h_1         0\n",
              "person_prefer_h_2         0\n",
              "person_prefer_h_3         0\n",
              "contents_attribute_i      0\n",
              "contents_attribute_a      0\n",
              "contents_attribute_j_1    0\n",
              "contents_attribute_j      0\n",
              "contents_attribute_c      0\n",
              "contents_attribute_k      0\n",
              "contents_attribute_l      0\n",
              "contents_attribute_d      0\n",
              "contents_attribute_m      0\n",
              "contents_attribute_e      0\n",
              "contents_attribute_h      0\n",
              "person_rn                 0\n",
              "contents_rn               0\n",
              "contents_open_dt          0\n",
              "person_prefer_d_1_n       0\n",
              "person_prefer_d_1_s       0\n",
              "person_prefer_d_1_m       0\n",
              "person_prefer_d_1_l       0\n",
              "person_prefer_d_2_n       0\n",
              "person_prefer_d_2_s       0\n",
              "person_prefer_d_2_m       0\n",
              "person_prefer_d_2_l       0\n",
              "person_prefer_d_3_n       0\n",
              "person_prefer_d_3_s       0\n",
              "person_prefer_d_3_m       0\n",
              "person_prefer_d_3_l       0\n",
              "contents_attribute_d_n    0\n",
              "contents_attribute_d_s    0\n",
              "contents_attribute_d_m    0\n",
              "contents_attribute_d_l    0\n",
              "person_prefer_h_1_l       0\n",
              "person_prefer_h_1_m       0\n",
              "person_prefer_h_2_l       0\n",
              "person_prefer_h_2_m       0\n",
              "person_prefer_h_3_l       0\n",
              "person_prefer_h_3_m       0\n",
              "contents_attribute_h_l    0\n",
              "contents_attribute_h_m    0\n",
              "dtype: int64"
            ]
          },
          "metadata": {},
          "execution_count": 75
        }
      ]
    },
    {
      "cell_type": "code",
      "source": [
        "train.duplicated().unique()"
      ],
      "metadata": {
        "colab": {
          "base_uri": "https://localhost:8080/"
        },
        "id": "hO252P1URMTn",
        "outputId": "a65c4e8a-2ae2-4f69-a715-c422b898f40e"
      },
      "execution_count": 76,
      "outputs": [
        {
          "output_type": "execute_result",
          "data": {
            "text/plain": [
              "array([False])"
            ]
          },
          "metadata": {},
          "execution_count": 76
        }
      ]
    },
    {
      "cell_type": "code",
      "source": [
        "test.duplicated().unique()"
      ],
      "metadata": {
        "colab": {
          "base_uri": "https://localhost:8080/"
        },
        "id": "mMWWPbm4RNwY",
        "outputId": "4e0666b8-0b6b-4271-f7f1-7c4b0236a7c6"
      },
      "execution_count": 77,
      "outputs": [
        {
          "output_type": "execute_result",
          "data": {
            "text/plain": [
              "array([False])"
            ]
          },
          "metadata": {},
          "execution_count": 77
        }
      ]
    },
    {
      "cell_type": "markdown",
      "source": [
        "# Data Type 확인\n",
        "\n",
        "> Object Type, Boolean Type 변환"
      ],
      "metadata": {
        "id": "4UHgrNbQRPt-"
      }
    },
    {
      "cell_type": "code",
      "source": [
        "print('train dtypes:',train.dtypes.value_counts())\n",
        "print('-------------')\n",
        "print('test dtypes:',test.dtypes.value_counts())"
      ],
      "metadata": {
        "colab": {
          "base_uri": "https://localhost:8080/"
        },
        "id": "RYsmchWWRWcx",
        "outputId": "59618ff2-a67e-4b65-bd3d-cba1ed0260f2"
      },
      "execution_count": 78,
      "outputs": [
        {
          "output_type": "stream",
          "name": "stdout",
          "text": [
            "train dtypes: int64     52\n",
            "bool       6\n",
            "object     1\n",
            "dtype: int64\n",
            "-------------\n",
            "test dtypes: int64     51\n",
            "bool       6\n",
            "object     1\n",
            "dtype: int64\n"
          ]
        }
      ]
    },
    {
      "cell_type": "markdown",
      "source": [
        "int, bool, object type 존재하는 것을 확인했다.\n",
        "\n",
        "Model Fiting을 위해 bool, object Type을 int로 변환해줌."
      ],
      "metadata": {
        "id": "V9bikyXsRY5Y"
      }
    },
    {
      "cell_type": "code",
      "source": [
        "#Boolean\n",
        "def booltoint(df):\n",
        "  df['d_l_match_yn']=df.d_l_match_yn.astype(int)\n",
        "  df['d_m_match_yn']=df.d_m_match_yn.astype(int)\n",
        "  df['d_s_match_yn']=df.d_s_match_yn.astype(int)\n",
        "  df['h_l_match_yn']=df.h_l_match_yn.astype(int)\n",
        "  df['h_m_match_yn']=df.h_m_match_yn.astype(int)\n",
        "  df['h_s_match_yn']=df.h_s_match_yn.astype(int)\n",
        "\n",
        "  \n",
        "booltoint(train)\n",
        "booltoint(test)"
      ],
      "metadata": {
        "id": "L2GYI4K_Rhi7"
      },
      "execution_count": 79,
      "outputs": []
    },
    {
      "cell_type": "code",
      "source": [
        "print('train dtypes:',train.dtypes.value_counts())\n",
        "print('-------------')\n",
        "print('test dtypes:',test.dtypes.value_counts())"
      ],
      "metadata": {
        "colab": {
          "base_uri": "https://localhost:8080/"
        },
        "id": "UhivSgUORqCo",
        "outputId": "4bf10adc-8241-467b-fab7-c047104363be"
      },
      "execution_count": 80,
      "outputs": [
        {
          "output_type": "stream",
          "name": "stdout",
          "text": [
            "train dtypes: int64     58\n",
            "object     1\n",
            "dtype: int64\n",
            "-------------\n",
            "test dtypes: int64     57\n",
            "object     1\n",
            "dtype: int64\n"
          ]
        }
      ]
    },
    {
      "cell_type": "code",
      "source": [
        "train.head()\n",
        "#True, False > 1, 0으로 변경"
      ],
      "metadata": {
        "colab": {
          "base_uri": "https://localhost:8080/",
          "height": 0
        },
        "id": "9ezbgXn1RyME",
        "outputId": "ad76994e-4399-4020-8a29-07101cc0a546"
      },
      "execution_count": 81,
      "outputs": [
        {
          "output_type": "execute_result",
          "data": {
            "text/html": [
              "\n",
              "  <div id=\"df-ec9c34b7-27f2-4ed1-918b-a0d1f109a3d8\">\n",
              "    <div class=\"colab-df-container\">\n",
              "      <div>\n",
              "<style scoped>\n",
              "    .dataframe tbody tr th:only-of-type {\n",
              "        vertical-align: middle;\n",
              "    }\n",
              "\n",
              "    .dataframe tbody tr th {\n",
              "        vertical-align: top;\n",
              "    }\n",
              "\n",
              "    .dataframe thead th {\n",
              "        text-align: right;\n",
              "    }\n",
              "</style>\n",
              "<table border=\"1\" class=\"dataframe\">\n",
              "  <thead>\n",
              "    <tr style=\"text-align: right;\">\n",
              "      <th></th>\n",
              "      <th>id</th>\n",
              "      <th>d_l_match_yn</th>\n",
              "      <th>d_m_match_yn</th>\n",
              "      <th>d_s_match_yn</th>\n",
              "      <th>h_l_match_yn</th>\n",
              "      <th>h_m_match_yn</th>\n",
              "      <th>h_s_match_yn</th>\n",
              "      <th>person_attribute_a</th>\n",
              "      <th>person_attribute_a_1</th>\n",
              "      <th>person_attribute_b</th>\n",
              "      <th>person_prefer_c</th>\n",
              "      <th>person_prefer_d_1</th>\n",
              "      <th>person_prefer_d_2</th>\n",
              "      <th>person_prefer_d_3</th>\n",
              "      <th>person_prefer_e</th>\n",
              "      <th>person_prefer_f</th>\n",
              "      <th>person_prefer_g</th>\n",
              "      <th>person_prefer_h_1</th>\n",
              "      <th>person_prefer_h_2</th>\n",
              "      <th>person_prefer_h_3</th>\n",
              "      <th>contents_attribute_i</th>\n",
              "      <th>contents_attribute_a</th>\n",
              "      <th>contents_attribute_j_1</th>\n",
              "      <th>contents_attribute_j</th>\n",
              "      <th>contents_attribute_c</th>\n",
              "      <th>contents_attribute_k</th>\n",
              "      <th>contents_attribute_l</th>\n",
              "      <th>contents_attribute_d</th>\n",
              "      <th>contents_attribute_m</th>\n",
              "      <th>contents_attribute_e</th>\n",
              "      <th>contents_attribute_h</th>\n",
              "      <th>person_rn</th>\n",
              "      <th>contents_rn</th>\n",
              "      <th>contents_open_dt</th>\n",
              "      <th>target</th>\n",
              "      <th>person_prefer_d_1_n</th>\n",
              "      <th>person_prefer_d_1_s</th>\n",
              "      <th>person_prefer_d_1_m</th>\n",
              "      <th>person_prefer_d_1_l</th>\n",
              "      <th>person_prefer_d_2_n</th>\n",
              "      <th>person_prefer_d_2_s</th>\n",
              "      <th>person_prefer_d_2_m</th>\n",
              "      <th>person_prefer_d_2_l</th>\n",
              "      <th>person_prefer_d_3_n</th>\n",
              "      <th>person_prefer_d_3_s</th>\n",
              "      <th>person_prefer_d_3_m</th>\n",
              "      <th>person_prefer_d_3_l</th>\n",
              "      <th>contents_attribute_d_n</th>\n",
              "      <th>contents_attribute_d_s</th>\n",
              "      <th>contents_attribute_d_m</th>\n",
              "      <th>contents_attribute_d_l</th>\n",
              "      <th>person_prefer_h_1_l</th>\n",
              "      <th>person_prefer_h_1_m</th>\n",
              "      <th>person_prefer_h_2_l</th>\n",
              "      <th>person_prefer_h_2_m</th>\n",
              "      <th>person_prefer_h_3_l</th>\n",
              "      <th>person_prefer_h_3_m</th>\n",
              "      <th>contents_attribute_h_l</th>\n",
              "      <th>contents_attribute_h_m</th>\n",
              "    </tr>\n",
              "  </thead>\n",
              "  <tbody>\n",
              "    <tr>\n",
              "      <th>0</th>\n",
              "      <td>0</td>\n",
              "      <td>1</td>\n",
              "      <td>1</td>\n",
              "      <td>1</td>\n",
              "      <td>0</td>\n",
              "      <td>0</td>\n",
              "      <td>0</td>\n",
              "      <td>1</td>\n",
              "      <td>4</td>\n",
              "      <td>3</td>\n",
              "      <td>5</td>\n",
              "      <td>275</td>\n",
              "      <td>370</td>\n",
              "      <td>369</td>\n",
              "      <td>8</td>\n",
              "      <td>1</td>\n",
              "      <td>1</td>\n",
              "      <td>4</td>\n",
              "      <td>95</td>\n",
              "      <td>59</td>\n",
              "      <td>3</td>\n",
              "      <td>3</td>\n",
              "      <td>10</td>\n",
              "      <td>2</td>\n",
              "      <td>1</td>\n",
              "      <td>2</td>\n",
              "      <td>1608</td>\n",
              "      <td>275</td>\n",
              "      <td>1</td>\n",
              "      <td>4</td>\n",
              "      <td>139</td>\n",
              "      <td>618822</td>\n",
              "      <td>354805</td>\n",
              "      <td>2020-01-17 12:09:36</td>\n",
              "      <td>1</td>\n",
              "      <td>275</td>\n",
              "      <td>274</td>\n",
              "      <td>274</td>\n",
              "      <td>216</td>\n",
              "      <td>369</td>\n",
              "      <td>368</td>\n",
              "      <td>297</td>\n",
              "      <td>216</td>\n",
              "      <td>369</td>\n",
              "      <td>368</td>\n",
              "      <td>297</td>\n",
              "      <td>216</td>\n",
              "      <td>275</td>\n",
              "      <td>274</td>\n",
              "      <td>274</td>\n",
              "      <td>216</td>\n",
              "      <td>3</td>\n",
              "      <td>316</td>\n",
              "      <td>94</td>\n",
              "      <td>398</td>\n",
              "      <td>58</td>\n",
              "      <td>368</td>\n",
              "      <td>94</td>\n",
              "      <td>422</td>\n",
              "    </tr>\n",
              "    <tr>\n",
              "      <th>1</th>\n",
              "      <td>1</td>\n",
              "      <td>0</td>\n",
              "      <td>0</td>\n",
              "      <td>0</td>\n",
              "      <td>1</td>\n",
              "      <td>1</td>\n",
              "      <td>0</td>\n",
              "      <td>1</td>\n",
              "      <td>3</td>\n",
              "      <td>4</td>\n",
              "      <td>1</td>\n",
              "      <td>114</td>\n",
              "      <td>181</td>\n",
              "      <td>175</td>\n",
              "      <td>4</td>\n",
              "      <td>1</td>\n",
              "      <td>1</td>\n",
              "      <td>131</td>\n",
              "      <td>101</td>\n",
              "      <td>96</td>\n",
              "      <td>1</td>\n",
              "      <td>3</td>\n",
              "      <td>5</td>\n",
              "      <td>1</td>\n",
              "      <td>1</td>\n",
              "      <td>2</td>\n",
              "      <td>1608</td>\n",
              "      <td>275</td>\n",
              "      <td>1</td>\n",
              "      <td>4</td>\n",
              "      <td>133</td>\n",
              "      <td>571659</td>\n",
              "      <td>346213</td>\n",
              "      <td>2020-06-18 17:48:52</td>\n",
              "      <td>0</td>\n",
              "      <td>114</td>\n",
              "      <td>109</td>\n",
              "      <td>56</td>\n",
              "      <td>1</td>\n",
              "      <td>175</td>\n",
              "      <td>152</td>\n",
              "      <td>56</td>\n",
              "      <td>1</td>\n",
              "      <td>175</td>\n",
              "      <td>152</td>\n",
              "      <td>56</td>\n",
              "      <td>1</td>\n",
              "      <td>275</td>\n",
              "      <td>274</td>\n",
              "      <td>274</td>\n",
              "      <td>216</td>\n",
              "      <td>94</td>\n",
              "      <td>417</td>\n",
              "      <td>94</td>\n",
              "      <td>400</td>\n",
              "      <td>94</td>\n",
              "      <td>399</td>\n",
              "      <td>94</td>\n",
              "      <td>417</td>\n",
              "    </tr>\n",
              "    <tr>\n",
              "      <th>2</th>\n",
              "      <td>2</td>\n",
              "      <td>0</td>\n",
              "      <td>0</td>\n",
              "      <td>0</td>\n",
              "      <td>1</td>\n",
              "      <td>0</td>\n",
              "      <td>0</td>\n",
              "      <td>2</td>\n",
              "      <td>0</td>\n",
              "      <td>3</td>\n",
              "      <td>5</td>\n",
              "      <td>464</td>\n",
              "      <td>175</td>\n",
              "      <td>452</td>\n",
              "      <td>3</td>\n",
              "      <td>1</td>\n",
              "      <td>1</td>\n",
              "      <td>54</td>\n",
              "      <td>263</td>\n",
              "      <td>56</td>\n",
              "      <td>3</td>\n",
              "      <td>1</td>\n",
              "      <td>10</td>\n",
              "      <td>2</td>\n",
              "      <td>1</td>\n",
              "      <td>1</td>\n",
              "      <td>1600</td>\n",
              "      <td>94</td>\n",
              "      <td>1</td>\n",
              "      <td>4</td>\n",
              "      <td>53</td>\n",
              "      <td>399816</td>\n",
              "      <td>206408</td>\n",
              "      <td>2020-07-08 20:00:10</td>\n",
              "      <td>0</td>\n",
              "      <td>464</td>\n",
              "      <td>463</td>\n",
              "      <td>450</td>\n",
              "      <td>377</td>\n",
              "      <td>175</td>\n",
              "      <td>152</td>\n",
              "      <td>56</td>\n",
              "      <td>1</td>\n",
              "      <td>452</td>\n",
              "      <td>451</td>\n",
              "      <td>450</td>\n",
              "      <td>377</td>\n",
              "      <td>92</td>\n",
              "      <td>91</td>\n",
              "      <td>56</td>\n",
              "      <td>1</td>\n",
              "      <td>48</td>\n",
              "      <td>364</td>\n",
              "      <td>250</td>\n",
              "      <td>528</td>\n",
              "      <td>48</td>\n",
              "      <td>366</td>\n",
              "      <td>48</td>\n",
              "      <td>363</td>\n",
              "    </tr>\n",
              "    <tr>\n",
              "      <th>3</th>\n",
              "      <td>3</td>\n",
              "      <td>0</td>\n",
              "      <td>0</td>\n",
              "      <td>0</td>\n",
              "      <td>1</td>\n",
              "      <td>0</td>\n",
              "      <td>0</td>\n",
              "      <td>2</td>\n",
              "      <td>0</td>\n",
              "      <td>2</td>\n",
              "      <td>5</td>\n",
              "      <td>703</td>\n",
              "      <td>705</td>\n",
              "      <td>704</td>\n",
              "      <td>3</td>\n",
              "      <td>1</td>\n",
              "      <td>1</td>\n",
              "      <td>72</td>\n",
              "      <td>227</td>\n",
              "      <td>2</td>\n",
              "      <td>1</td>\n",
              "      <td>3</td>\n",
              "      <td>5</td>\n",
              "      <td>1</td>\n",
              "      <td>1</td>\n",
              "      <td>2</td>\n",
              "      <td>1608</td>\n",
              "      <td>275</td>\n",
              "      <td>5</td>\n",
              "      <td>3</td>\n",
              "      <td>74</td>\n",
              "      <td>827967</td>\n",
              "      <td>572323</td>\n",
              "      <td>2020-01-13 18:09:34</td>\n",
              "      <td>0</td>\n",
              "      <td>703</td>\n",
              "      <td>703</td>\n",
              "      <td>690</td>\n",
              "      <td>618</td>\n",
              "      <td>703</td>\n",
              "      <td>703</td>\n",
              "      <td>690</td>\n",
              "      <td>618</td>\n",
              "      <td>703</td>\n",
              "      <td>703</td>\n",
              "      <td>690</td>\n",
              "      <td>618</td>\n",
              "      <td>275</td>\n",
              "      <td>274</td>\n",
              "      <td>274</td>\n",
              "      <td>216</td>\n",
              "      <td>71</td>\n",
              "      <td>379</td>\n",
              "      <td>226</td>\n",
              "      <td>495</td>\n",
              "      <td>1</td>\n",
              "      <td>315</td>\n",
              "      <td>71</td>\n",
              "      <td>381</td>\n",
              "    </tr>\n",
              "    <tr>\n",
              "      <th>4</th>\n",
              "      <td>4</td>\n",
              "      <td>1</td>\n",
              "      <td>1</td>\n",
              "      <td>1</td>\n",
              "      <td>0</td>\n",
              "      <td>0</td>\n",
              "      <td>0</td>\n",
              "      <td>1</td>\n",
              "      <td>3</td>\n",
              "      <td>4</td>\n",
              "      <td>5</td>\n",
              "      <td>275</td>\n",
              "      <td>370</td>\n",
              "      <td>369</td>\n",
              "      <td>4</td>\n",
              "      <td>1</td>\n",
              "      <td>1</td>\n",
              "      <td>214</td>\n",
              "      <td>210</td>\n",
              "      <td>209</td>\n",
              "      <td>1</td>\n",
              "      <td>1</td>\n",
              "      <td>10</td>\n",
              "      <td>2</td>\n",
              "      <td>1</td>\n",
              "      <td>2</td>\n",
              "      <td>1608</td>\n",
              "      <td>275</td>\n",
              "      <td>1</td>\n",
              "      <td>4</td>\n",
              "      <td>74</td>\n",
              "      <td>831614</td>\n",
              "      <td>573899</td>\n",
              "      <td>2020-03-09 20:39:22</td>\n",
              "      <td>0</td>\n",
              "      <td>275</td>\n",
              "      <td>274</td>\n",
              "      <td>274</td>\n",
              "      <td>216</td>\n",
              "      <td>369</td>\n",
              "      <td>368</td>\n",
              "      <td>297</td>\n",
              "      <td>216</td>\n",
              "      <td>369</td>\n",
              "      <td>368</td>\n",
              "      <td>297</td>\n",
              "      <td>216</td>\n",
              "      <td>275</td>\n",
              "      <td>274</td>\n",
              "      <td>274</td>\n",
              "      <td>216</td>\n",
              "      <td>208</td>\n",
              "      <td>483</td>\n",
              "      <td>208</td>\n",
              "      <td>481</td>\n",
              "      <td>208</td>\n",
              "      <td>480</td>\n",
              "      <td>71</td>\n",
              "      <td>381</td>\n",
              "    </tr>\n",
              "  </tbody>\n",
              "</table>\n",
              "</div>\n",
              "      <button class=\"colab-df-convert\" onclick=\"convertToInteractive('df-ec9c34b7-27f2-4ed1-918b-a0d1f109a3d8')\"\n",
              "              title=\"Convert this dataframe to an interactive table.\"\n",
              "              style=\"display:none;\">\n",
              "        \n",
              "  <svg xmlns=\"http://www.w3.org/2000/svg\" height=\"24px\"viewBox=\"0 0 24 24\"\n",
              "       width=\"24px\">\n",
              "    <path d=\"M0 0h24v24H0V0z\" fill=\"none\"/>\n",
              "    <path d=\"M18.56 5.44l.94 2.06.94-2.06 2.06-.94-2.06-.94-.94-2.06-.94 2.06-2.06.94zm-11 1L8.5 8.5l.94-2.06 2.06-.94-2.06-.94L8.5 2.5l-.94 2.06-2.06.94zm10 10l.94 2.06.94-2.06 2.06-.94-2.06-.94-.94-2.06-.94 2.06-2.06.94z\"/><path d=\"M17.41 7.96l-1.37-1.37c-.4-.4-.92-.59-1.43-.59-.52 0-1.04.2-1.43.59L10.3 9.45l-7.72 7.72c-.78.78-.78 2.05 0 2.83L4 21.41c.39.39.9.59 1.41.59.51 0 1.02-.2 1.41-.59l7.78-7.78 2.81-2.81c.8-.78.8-2.07 0-2.86zM5.41 20L4 18.59l7.72-7.72 1.47 1.35L5.41 20z\"/>\n",
              "  </svg>\n",
              "      </button>\n",
              "      \n",
              "  <style>\n",
              "    .colab-df-container {\n",
              "      display:flex;\n",
              "      flex-wrap:wrap;\n",
              "      gap: 12px;\n",
              "    }\n",
              "\n",
              "    .colab-df-convert {\n",
              "      background-color: #E8F0FE;\n",
              "      border: none;\n",
              "      border-radius: 50%;\n",
              "      cursor: pointer;\n",
              "      display: none;\n",
              "      fill: #1967D2;\n",
              "      height: 32px;\n",
              "      padding: 0 0 0 0;\n",
              "      width: 32px;\n",
              "    }\n",
              "\n",
              "    .colab-df-convert:hover {\n",
              "      background-color: #E2EBFA;\n",
              "      box-shadow: 0px 1px 2px rgba(60, 64, 67, 0.3), 0px 1px 3px 1px rgba(60, 64, 67, 0.15);\n",
              "      fill: #174EA6;\n",
              "    }\n",
              "\n",
              "    [theme=dark] .colab-df-convert {\n",
              "      background-color: #3B4455;\n",
              "      fill: #D2E3FC;\n",
              "    }\n",
              "\n",
              "    [theme=dark] .colab-df-convert:hover {\n",
              "      background-color: #434B5C;\n",
              "      box-shadow: 0px 1px 3px 1px rgba(0, 0, 0, 0.15);\n",
              "      filter: drop-shadow(0px 1px 2px rgba(0, 0, 0, 0.3));\n",
              "      fill: #FFFFFF;\n",
              "    }\n",
              "  </style>\n",
              "\n",
              "      <script>\n",
              "        const buttonEl =\n",
              "          document.querySelector('#df-ec9c34b7-27f2-4ed1-918b-a0d1f109a3d8 button.colab-df-convert');\n",
              "        buttonEl.style.display =\n",
              "          google.colab.kernel.accessAllowed ? 'block' : 'none';\n",
              "\n",
              "        async function convertToInteractive(key) {\n",
              "          const element = document.querySelector('#df-ec9c34b7-27f2-4ed1-918b-a0d1f109a3d8');\n",
              "          const dataTable =\n",
              "            await google.colab.kernel.invokeFunction('convertToInteractive',\n",
              "                                                     [key], {});\n",
              "          if (!dataTable) return;\n",
              "\n",
              "          const docLinkHtml = 'Like what you see? Visit the ' +\n",
              "            '<a target=\"_blank\" href=https://colab.research.google.com/notebooks/data_table.ipynb>data table notebook</a>'\n",
              "            + ' to learn more about interactive tables.';\n",
              "          element.innerHTML = '';\n",
              "          dataTable['output_type'] = 'display_data';\n",
              "          await google.colab.output.renderOutput(dataTable, element);\n",
              "          const docLink = document.createElement('div');\n",
              "          docLink.innerHTML = docLinkHtml;\n",
              "          element.appendChild(docLink);\n",
              "        }\n",
              "      </script>\n",
              "    </div>\n",
              "  </div>\n",
              "  "
            ],
            "text/plain": [
              "   id  d_l_match_yn  ...  contents_attribute_h_l  contents_attribute_h_m\n",
              "0   0             1  ...                      94                     422\n",
              "1   1             0  ...                      94                     417\n",
              "2   2             0  ...                      48                     363\n",
              "3   3             0  ...                      71                     381\n",
              "4   4             1  ...                      71                     381\n",
              "\n",
              "[5 rows x 59 columns]"
            ]
          },
          "metadata": {},
          "execution_count": 81
        }
      ]
    },
    {
      "cell_type": "code",
      "source": [
        "#2. Object Type\n",
        "def objtoint(df):\n",
        "  # pd.to_datetime 이용해서 변경\n",
        "  df['contents_open_dt']= pd.to_datetime(df.contents_open_dt, format='%Y-%m-%d %H:%M:%S' )\n",
        "  df['contents_open_dt_year']= df['contents_open_dt'].dt.year.astype(int)\n",
        "  df['contents_open_dt_month']=df['contents_open_dt'].dt.month.astype(int)\n",
        "  df['contents_open_dt_day']=df['contents_open_dt'].dt.day.astype(int)\n",
        "  df['contents_open_dt_hour']=df['contents_open_dt'].dt.hour.astype(int)\n",
        "  df['contents_open_dt_minute']=df['contents_open_dt'].dt.minute.astype(int)\n",
        "  df['contents_open_dt_sec']= df['contents_open_dt'].dt.second.astype(int)"
      ],
      "metadata": {
        "id": "hmQ6Q_HsR1w4"
      },
      "execution_count": 82,
      "outputs": []
    },
    {
      "cell_type": "code",
      "source": [
        "objtoint(train)\n",
        "objtoint(test)"
      ],
      "metadata": {
        "id": "h-E-FmWvR9Nl"
      },
      "execution_count": 83,
      "outputs": []
    },
    {
      "cell_type": "code",
      "source": [
        "# date 변수로 새로운 변수 생성 > weekday, weekend\n",
        "def get_weekdays(df):\n",
        "  df['weekday']= df['contents_open_dt'].apply(lambda x: x.weekday())\n",
        "  df['weekend']= df['weekday'].copy()\n",
        "  df['weekend']= df['weekend'].apply(lambda x:1 if x>4 else 0)\n",
        "\n",
        "get_weekdays(train)\n",
        "get_weekdays(test)"
      ],
      "metadata": {
        "id": "PCPbgbihR_Up"
      },
      "execution_count": 84,
      "outputs": []
    },
    {
      "cell_type": "code",
      "source": [
        "#dropping contents_open_dt\n",
        "train.drop('contents_open_dt',axis=1, inplace=True)\n",
        "test.drop('contents_open_dt',axis=1, inplace=True)"
      ],
      "metadata": {
        "id": "rTHM9a2pSJzU"
      },
      "execution_count": 85,
      "outputs": []
    },
    {
      "cell_type": "code",
      "source": [
        "#Final Data Type Checking\n",
        "\n",
        "print('train dtypes:',train.dtypes.value_counts())\n",
        "print('-------------')\n",
        "print('test dtypes:',test.dtypes.value_counts())\n",
        "# int type으로 변경."
      ],
      "metadata": {
        "colab": {
          "base_uri": "https://localhost:8080/"
        },
        "id": "KSxW0lLhSMGx",
        "outputId": "9c53e0ec-ea0c-45a7-d78e-11441fa90327"
      },
      "execution_count": 86,
      "outputs": [
        {
          "output_type": "stream",
          "name": "stdout",
          "text": [
            "train dtypes: int64    66\n",
            "dtype: int64\n",
            "-------------\n",
            "test dtypes: int64    65\n",
            "dtype: int64\n"
          ]
        }
      ]
    },
    {
      "cell_type": "markdown",
      "source": [
        "# Dropping Unnecessary Columns\n",
        "\n",
        "1. single value columns > person_prefer_f, person_prefer_g, contents_open_dt_year\n",
        "2. id"
      ],
      "metadata": {
        "id": "C_ofdytzSZDu"
      }
    },
    {
      "cell_type": "code",
      "source": [
        "# 각 column 내의 값을 조회 했을 때, single value인 col들이 존재하는가?\n",
        "train_nu= pd.DataFrame(train.nunique())\n",
        "test_nu=pd.DataFrame(test.nunique())\n",
        "\n",
        "print(train_nu[train_nu[0]<2])\n",
        "print('--------------------------')\n",
        "print(test_nu[test_nu[0]<2])\n",
        "\n",
        "#Train, Test 공통적으로 person_prefer_f, person_prefer_g, contents_open_dt_year\n",
        "#이 single val. 실질적인 분석에 도움이 되지 않는다 판단하여 drop"
      ],
      "metadata": {
        "colab": {
          "base_uri": "https://localhost:8080/"
        },
        "id": "gAa80cVDSgSv",
        "outputId": "29e0630e-0221-408f-ae81-0ceee917ff61"
      },
      "execution_count": 87,
      "outputs": [
        {
          "output_type": "stream",
          "name": "stdout",
          "text": [
            "                       0\n",
            "person_prefer_f        1\n",
            "person_prefer_g        1\n",
            "contents_open_dt_year  1\n",
            "--------------------------\n",
            "                        0\n",
            "person_prefer_f         1\n",
            "person_prefer_g         1\n",
            "contents_open_dt_year   1\n",
            "contents_open_dt_month  1\n"
          ]
        }
      ]
    },
    {
      "cell_type": "code",
      "source": [
        "#id 또한 필요없다 판단하여 같이 drop\n",
        "def droppings(df):\n",
        "  df.drop('person_prefer_f',axis=1,inplace=True)\n",
        "  df.drop('person_prefer_g',axis=1, inplace=True)\n",
        "  df.drop('contents_open_dt_year',axis=1,inplace=True)\n",
        "  df.drop('id',axis=1, inplace=True)\n",
        "\n",
        "\n",
        "droppings(train)\n",
        "droppings(test)"
      ],
      "metadata": {
        "id": "qQbvte0xS3RF"
      },
      "execution_count": 88,
      "outputs": []
    },
    {
      "cell_type": "code",
      "source": [
        "train.columns"
      ],
      "metadata": {
        "colab": {
          "base_uri": "https://localhost:8080/"
        },
        "id": "tgrGM62wTUl0",
        "outputId": "3c8df6f3-f011-410b-f32c-b6c9b1203f81"
      },
      "execution_count": 89,
      "outputs": [
        {
          "output_type": "execute_result",
          "data": {
            "text/plain": [
              "Index(['d_l_match_yn', 'd_m_match_yn', 'd_s_match_yn', 'h_l_match_yn',\n",
              "       'h_m_match_yn', 'h_s_match_yn', 'person_attribute_a',\n",
              "       'person_attribute_a_1', 'person_attribute_b', 'person_prefer_c',\n",
              "       'person_prefer_d_1', 'person_prefer_d_2', 'person_prefer_d_3',\n",
              "       'person_prefer_e', 'person_prefer_h_1', 'person_prefer_h_2',\n",
              "       'person_prefer_h_3', 'contents_attribute_i', 'contents_attribute_a',\n",
              "       'contents_attribute_j_1', 'contents_attribute_j',\n",
              "       'contents_attribute_c', 'contents_attribute_k', 'contents_attribute_l',\n",
              "       'contents_attribute_d', 'contents_attribute_m', 'contents_attribute_e',\n",
              "       'contents_attribute_h', 'person_rn', 'contents_rn', 'target',\n",
              "       'person_prefer_d_1_n', 'person_prefer_d_1_s', 'person_prefer_d_1_m',\n",
              "       'person_prefer_d_1_l', 'person_prefer_d_2_n', 'person_prefer_d_2_s',\n",
              "       'person_prefer_d_2_m', 'person_prefer_d_2_l', 'person_prefer_d_3_n',\n",
              "       'person_prefer_d_3_s', 'person_prefer_d_3_m', 'person_prefer_d_3_l',\n",
              "       'contents_attribute_d_n', 'contents_attribute_d_s',\n",
              "       'contents_attribute_d_m', 'contents_attribute_d_l',\n",
              "       'person_prefer_h_1_l', 'person_prefer_h_1_m', 'person_prefer_h_2_l',\n",
              "       'person_prefer_h_2_m', 'person_prefer_h_3_l', 'person_prefer_h_3_m',\n",
              "       'contents_attribute_h_l', 'contents_attribute_h_m',\n",
              "       'contents_open_dt_month', 'contents_open_dt_day',\n",
              "       'contents_open_dt_hour', 'contents_open_dt_minute',\n",
              "       'contents_open_dt_sec', 'weekday', 'weekend'],\n",
              "      dtype='object')"
            ]
          },
          "metadata": {},
          "execution_count": 89
        }
      ]
    },
    {
      "cell_type": "markdown",
      "source": [
        "# train, test의 nunique 값 확인"
      ],
      "metadata": {
        "id": "5Ww5guYxU_xR"
      }
    },
    {
      "cell_type": "code",
      "source": [
        "train_nu= pd.DataFrame(train.nunique())\n",
        "test_nu=pd.DataFrame(test.nunique())"
      ],
      "metadata": {
        "id": "ibJVWu69VGCJ"
      },
      "execution_count": 90,
      "outputs": []
    },
    {
      "cell_type": "code",
      "source": [
        "train_nu"
      ],
      "metadata": {
        "colab": {
          "base_uri": "https://localhost:8080/",
          "height": 0
        },
        "id": "ziYgCnuDVHmw",
        "outputId": "c0002fd2-d15c-42c2-8bbd-0b0e1debe18a"
      },
      "execution_count": 91,
      "outputs": [
        {
          "output_type": "execute_result",
          "data": {
            "text/html": [
              "\n",
              "  <div id=\"df-782e8c79-dd7b-458b-b1c1-efd4ae74f639\">\n",
              "    <div class=\"colab-df-container\">\n",
              "      <div>\n",
              "<style scoped>\n",
              "    .dataframe tbody tr th:only-of-type {\n",
              "        vertical-align: middle;\n",
              "    }\n",
              "\n",
              "    .dataframe tbody tr th {\n",
              "        vertical-align: top;\n",
              "    }\n",
              "\n",
              "    .dataframe thead th {\n",
              "        text-align: right;\n",
              "    }\n",
              "</style>\n",
              "<table border=\"1\" class=\"dataframe\">\n",
              "  <thead>\n",
              "    <tr style=\"text-align: right;\">\n",
              "      <th></th>\n",
              "      <th>0</th>\n",
              "    </tr>\n",
              "  </thead>\n",
              "  <tbody>\n",
              "    <tr>\n",
              "      <th>d_l_match_yn</th>\n",
              "      <td>2</td>\n",
              "    </tr>\n",
              "    <tr>\n",
              "      <th>d_m_match_yn</th>\n",
              "      <td>2</td>\n",
              "    </tr>\n",
              "    <tr>\n",
              "      <th>d_s_match_yn</th>\n",
              "      <td>2</td>\n",
              "    </tr>\n",
              "    <tr>\n",
              "      <th>h_l_match_yn</th>\n",
              "      <td>2</td>\n",
              "    </tr>\n",
              "    <tr>\n",
              "      <th>h_m_match_yn</th>\n",
              "      <td>2</td>\n",
              "    </tr>\n",
              "    <tr>\n",
              "      <th>...</th>\n",
              "      <td>...</td>\n",
              "    </tr>\n",
              "    <tr>\n",
              "      <th>contents_open_dt_hour</th>\n",
              "      <td>24</td>\n",
              "    </tr>\n",
              "    <tr>\n",
              "      <th>contents_open_dt_minute</th>\n",
              "      <td>60</td>\n",
              "    </tr>\n",
              "    <tr>\n",
              "      <th>contents_open_dt_sec</th>\n",
              "      <td>60</td>\n",
              "    </tr>\n",
              "    <tr>\n",
              "      <th>weekday</th>\n",
              "      <td>7</td>\n",
              "    </tr>\n",
              "    <tr>\n",
              "      <th>weekend</th>\n",
              "      <td>2</td>\n",
              "    </tr>\n",
              "  </tbody>\n",
              "</table>\n",
              "<p>62 rows × 1 columns</p>\n",
              "</div>\n",
              "      <button class=\"colab-df-convert\" onclick=\"convertToInteractive('df-782e8c79-dd7b-458b-b1c1-efd4ae74f639')\"\n",
              "              title=\"Convert this dataframe to an interactive table.\"\n",
              "              style=\"display:none;\">\n",
              "        \n",
              "  <svg xmlns=\"http://www.w3.org/2000/svg\" height=\"24px\"viewBox=\"0 0 24 24\"\n",
              "       width=\"24px\">\n",
              "    <path d=\"M0 0h24v24H0V0z\" fill=\"none\"/>\n",
              "    <path d=\"M18.56 5.44l.94 2.06.94-2.06 2.06-.94-2.06-.94-.94-2.06-.94 2.06-2.06.94zm-11 1L8.5 8.5l.94-2.06 2.06-.94-2.06-.94L8.5 2.5l-.94 2.06-2.06.94zm10 10l.94 2.06.94-2.06 2.06-.94-2.06-.94-.94-2.06-.94 2.06-2.06.94z\"/><path d=\"M17.41 7.96l-1.37-1.37c-.4-.4-.92-.59-1.43-.59-.52 0-1.04.2-1.43.59L10.3 9.45l-7.72 7.72c-.78.78-.78 2.05 0 2.83L4 21.41c.39.39.9.59 1.41.59.51 0 1.02-.2 1.41-.59l7.78-7.78 2.81-2.81c.8-.78.8-2.07 0-2.86zM5.41 20L4 18.59l7.72-7.72 1.47 1.35L5.41 20z\"/>\n",
              "  </svg>\n",
              "      </button>\n",
              "      \n",
              "  <style>\n",
              "    .colab-df-container {\n",
              "      display:flex;\n",
              "      flex-wrap:wrap;\n",
              "      gap: 12px;\n",
              "    }\n",
              "\n",
              "    .colab-df-convert {\n",
              "      background-color: #E8F0FE;\n",
              "      border: none;\n",
              "      border-radius: 50%;\n",
              "      cursor: pointer;\n",
              "      display: none;\n",
              "      fill: #1967D2;\n",
              "      height: 32px;\n",
              "      padding: 0 0 0 0;\n",
              "      width: 32px;\n",
              "    }\n",
              "\n",
              "    .colab-df-convert:hover {\n",
              "      background-color: #E2EBFA;\n",
              "      box-shadow: 0px 1px 2px rgba(60, 64, 67, 0.3), 0px 1px 3px 1px rgba(60, 64, 67, 0.15);\n",
              "      fill: #174EA6;\n",
              "    }\n",
              "\n",
              "    [theme=dark] .colab-df-convert {\n",
              "      background-color: #3B4455;\n",
              "      fill: #D2E3FC;\n",
              "    }\n",
              "\n",
              "    [theme=dark] .colab-df-convert:hover {\n",
              "      background-color: #434B5C;\n",
              "      box-shadow: 0px 1px 3px 1px rgba(0, 0, 0, 0.15);\n",
              "      filter: drop-shadow(0px 1px 2px rgba(0, 0, 0, 0.3));\n",
              "      fill: #FFFFFF;\n",
              "    }\n",
              "  </style>\n",
              "\n",
              "      <script>\n",
              "        const buttonEl =\n",
              "          document.querySelector('#df-782e8c79-dd7b-458b-b1c1-efd4ae74f639 button.colab-df-convert');\n",
              "        buttonEl.style.display =\n",
              "          google.colab.kernel.accessAllowed ? 'block' : 'none';\n",
              "\n",
              "        async function convertToInteractive(key) {\n",
              "          const element = document.querySelector('#df-782e8c79-dd7b-458b-b1c1-efd4ae74f639');\n",
              "          const dataTable =\n",
              "            await google.colab.kernel.invokeFunction('convertToInteractive',\n",
              "                                                     [key], {});\n",
              "          if (!dataTable) return;\n",
              "\n",
              "          const docLinkHtml = 'Like what you see? Visit the ' +\n",
              "            '<a target=\"_blank\" href=https://colab.research.google.com/notebooks/data_table.ipynb>data table notebook</a>'\n",
              "            + ' to learn more about interactive tables.';\n",
              "          element.innerHTML = '';\n",
              "          dataTable['output_type'] = 'display_data';\n",
              "          await google.colab.output.renderOutput(dataTable, element);\n",
              "          const docLink = document.createElement('div');\n",
              "          docLink.innerHTML = docLinkHtml;\n",
              "          element.appendChild(docLink);\n",
              "        }\n",
              "      </script>\n",
              "    </div>\n",
              "  </div>\n",
              "  "
            ],
            "text/plain": [
              "                          0\n",
              "d_l_match_yn              2\n",
              "d_m_match_yn              2\n",
              "d_s_match_yn              2\n",
              "h_l_match_yn              2\n",
              "h_m_match_yn              2\n",
              "...                      ..\n",
              "contents_open_dt_hour    24\n",
              "contents_open_dt_minute  60\n",
              "contents_open_dt_sec     60\n",
              "weekday                   7\n",
              "weekend                   2\n",
              "\n",
              "[62 rows x 1 columns]"
            ]
          },
          "metadata": {},
          "execution_count": 91
        }
      ]
    },
    {
      "cell_type": "markdown",
      "source": [
        "> 각 col에 너무 많은 feature가 존재하면, dummy화 시켰을 때 sparse 해짐. > mean target encoding 시도"
      ],
      "metadata": {
        "id": "0dJYRfpHVMCq"
      }
    },
    {
      "cell_type": "markdown",
      "source": [
        "# Mean Target Encoding\n",
        "\n",
        "참고 : https://www.kaggle.com/vprokopev/mean-likelihood-encodings-a-comprehensive-study"
      ],
      "metadata": {
        "id": "I35fC7ajVnAr"
      }
    },
    {
      "cell_type": "code",
      "source": [
        "pp_d_1_mean= train.groupby('person_prefer_d_1')['target'].mean()\n",
        "pp_d_2_mean= train.groupby('person_prefer_d_2')['target'].mean()\n",
        "pp_d_3_mean= train.groupby('person_prefer_d_3')['target'].mean()\n",
        "\n",
        "pp_h_1_mean= train.groupby('person_prefer_h_1')['target'].mean()\n",
        "pp_h_2_mean= train.groupby('person_prefer_h_2')['target'].mean()\n",
        "pp_h_3_mean= train.groupby('person_prefer_h_3')['target'].mean()\n",
        "\n",
        "ca_l_mean= train.groupby('contents_attribute_l')['target'].mean()\n",
        "ca_d_mean= train.groupby('contents_attribute_d')['target'].mean()\n",
        "ca_h_mean= train.groupby('contents_attribute_h')['target'].mean()"
      ],
      "metadata": {
        "id": "epge64SXV2X7"
      },
      "execution_count": 92,
      "outputs": []
    },
    {
      "cell_type": "code",
      "source": [
        "def mappings(df):\n",
        "  df['person_prefer_d_1_encoded']= df['person_prefer_d_1'].map(pp_d_1_mean)\n",
        "  df['person_prefer_d_2_encoded']= df['person_prefer_d_2'].map(pp_d_2_mean)\n",
        "  df['person_prefer_d_3_encoded']= df['person_prefer_d_3'].map(pp_d_3_mean)\n",
        "\n",
        "  df['person_prefer_h_1_encoded']= df['person_prefer_h_1'].map(pp_h_1_mean)\n",
        "  df['person_prefer_h_2_encoded']= df['person_prefer_h_2'].map(pp_h_2_mean)\n",
        "  df['person_prefer_h_3_encoded']= df['person_prefer_h_3'].map(pp_h_3_mean)\n",
        "\n",
        "  df['contents_attribute_l_encoded'] = df['contents_attribute_l'].map(ca_l_mean)\n",
        "  df['contents_attribute_d_encoded'] = df['contents_attribute_d'].map(ca_d_mean)\n",
        "  df['contents_attribute_h_encoded']= df['contents_attribute_h'].map(ca_h_mean)\n",
        "mappings(train)\n",
        "mappings(test)"
      ],
      "metadata": {
        "id": "-GReCCgPV9X9"
      },
      "execution_count": 93,
      "outputs": []
    },
    {
      "cell_type": "code",
      "source": [
        "# 기존의 col을 replace 해야하기 때문에, 기존 col들 drop\n",
        "\n",
        "train.drop(['person_prefer_d_1','person_prefer_d_2','person_prefer_d_3','person_prefer_h_1','person_prefer_h_2','person_prefer_h_3','contents_attribute_l','contents_attribute_d','contents_attribute_h'],axis=1,inplace=True)\n",
        "test.drop(['person_prefer_d_1','person_prefer_d_2','person_prefer_d_3','person_prefer_h_1','person_prefer_h_2','person_prefer_h_3','contents_attribute_l','contents_attribute_d','contents_attribute_h'],axis=1,inplace=True)"
      ],
      "metadata": {
        "id": "uk3_nTtCW_4k"
      },
      "execution_count": 94,
      "outputs": []
    },
    {
      "cell_type": "code",
      "source": [
        "#train, test에 다 적용\n",
        "print(train.shape)\n",
        "print(test.shape)"
      ],
      "metadata": {
        "colab": {
          "base_uri": "https://localhost:8080/"
        },
        "id": "i7uBkJKNV_89",
        "outputId": "31fd6d36-6852-438d-db87-4630cc718abe"
      },
      "execution_count": 95,
      "outputs": [
        {
          "output_type": "stream",
          "name": "stdout",
          "text": [
            "(501951, 62)\n",
            "(46404, 61)\n"
          ]
        }
      ]
    },
    {
      "cell_type": "markdown",
      "source": [
        "# dummy 변수\n",
        "\n",
        "feature가 10개 이하이며, train과 test의 각 col 모두 동일한 갯수의 피쳐를 가지며, 명목형(순서형 x)인 조건으로 \n",
        "\n",
        "['person_prefer_c','contents_attribute_i',\n",
        "'contents_attribute_a','contents_attribute_j_1',\n",
        "'contents_attribute_c', 'contents_attribute_m']\n",
        "\n",
        "columns들을 dummy화 시킴."
      ],
      "metadata": {
        "id": "KBmpEUUUWML4"
      }
    },
    {
      "cell_type": "code",
      "source": [
        "dum_df= ['person_prefer_c','contents_attribute_i',\n",
        "         'contents_attribute_a','contents_attribute_j_1',\n",
        "         'contents_attribute_c', 'contents_attribute_m']"
      ],
      "metadata": {
        "id": "0a-sIZR5Wr_7"
      },
      "execution_count": 96,
      "outputs": []
    },
    {
      "cell_type": "code",
      "source": [
        "plt.figure(figsize=(10,10))\n",
        "for i,j in zip(range(len(dum_df)),dum_df):\n",
        "  plt.subplot(2,3,i+1)\n",
        "  sns.countplot(train[j])"
      ],
      "metadata": {
        "colab": {
          "base_uri": "https://localhost:8080/",
          "height": 0
        },
        "id": "10ExEY9YWtya",
        "outputId": "2ee37b7f-0fb6-4672-ea7d-a4c95d2e8823"
      },
      "execution_count": 97,
      "outputs": [
        {
          "output_type": "display_data",
          "data": {
            "image/png": "[encoded data removed]",
            "text/plain": [
              "<Figure size 720x720 with 6 Axes>"
            ]
          },
          "metadata": {
            "needs_background": "light"
          }
        }
      ]
    },
    {
      "cell_type": "code",
      "source": [
        "plt.figure(figsize=(10,10))\n",
        "for i,j in zip(range(len(dum_df)),dum_df):\n",
        "  plt.subplot(2,3,i+1)\n",
        "  sns.countplot(test[j])"
      ],
      "metadata": {
        "colab": {
          "base_uri": "https://localhost:8080/",
          "height": 0
        },
        "id": "it6piv_jWyG5",
        "outputId": "905068dc-a3f7-4701-ada2-f7fe85b527f5"
      },
      "execution_count": 98,
      "outputs": [
        {
          "output_type": "display_data",
          "data": {
            "image/png": "[encoded data removed]",
            "text/plain": [
              "<Figure size 720x720 with 6 Axes>"
            ]
          },
          "metadata": {
            "needs_background": "light"
          }
        }
      ]
    },
    {
      "cell_type": "code",
      "source": [
        "train=pd.get_dummies(train, columns=dum_df, drop_first=True)\n",
        "\n",
        "\n",
        "test=pd.get_dummies(test, columns=dum_df, drop_first=True)"
      ],
      "metadata": {
        "id": "nLRdXACZXdr4"
      },
      "execution_count": 99,
      "outputs": []
    },
    {
      "cell_type": "code",
      "source": [
        "print(train.shape)\n",
        "print(test.shape)"
      ],
      "metadata": {
        "colab": {
          "base_uri": "https://localhost:8080/"
        },
        "id": "hJIhYRS1XrG9",
        "outputId": "8daa5b5a-d4b8-4e02-e497-11a04bbec05a"
      },
      "execution_count": 100,
      "outputs": [
        {
          "output_type": "stream",
          "name": "stdout",
          "text": [
            "(501951, 79)\n",
            "(46404, 78)\n"
          ]
        }
      ]
    },
    {
      "cell_type": "markdown",
      "source": [
        "#cyclic Encoding\n",
        "\n",
        "참고 : https://www.kaggle.com/shahules/an-overview-of-encoding-techniques\n",
        "\n",
        "some features are in cyclic 형태. ex) month, year etc.\n",
        "a common method for encoding cyclic data is to transform the data into two dimensions using a sine and cosine transformation"
      ],
      "metadata": {
        "id": "qfKQESWwYL3_"
      }
    },
    {
      "cell_type": "code",
      "source": [
        "#month는 제외(train, test가 다르기 때문)\n",
        "#weekday 포함 할지에 대한 여부\n",
        "date_cols= ['contents_open_dt_day','contents_open_dt_hour',\n",
        "             'contents_open_dt_minute','contents_open_dt_sec','weekday']\n",
        "\n",
        "def cyclic_feat(df,cols):\n",
        "  for col in cols:\n",
        "    df[col+'_sin']= np.sin((2*np.pi*df[col])/max(df[col]))\n",
        "    df[col+'_cos']= np.cos((2*np.pi*df[col])/max(df[col]))\n",
        "\n",
        "  df.drop(cols, axis=1,inplace=True)"
      ],
      "metadata": {
        "id": "b07sUsk9YQAc"
      },
      "execution_count": 101,
      "outputs": []
    },
    {
      "cell_type": "code",
      "source": [
        "cyclic_feat(train,date_cols)\n",
        "cyclic_feat(test,date_cols)"
      ],
      "metadata": {
        "id": "0p5-Ddr1Ykfh"
      },
      "execution_count": 102,
      "outputs": []
    },
    {
      "cell_type": "markdown",
      "source": [
        "#Train Test Split"
      ],
      "metadata": {
        "id": "5BAXe5ArYurb"
      }
    },
    {
      "cell_type": "code",
      "source": [
        "!pip install catboost"
      ],
      "metadata": {
        "colab": {
          "base_uri": "https://localhost:8080/"
        },
        "id": "VmYBeFJcY7hB",
        "outputId": "066218f4-14c1-4940-8662-2b0638122e5b"
      },
      "execution_count": 103,
      "outputs": [
        {
          "output_type": "stream",
          "name": "stdout",
          "text": [
            "Requirement already satisfied: catboost in /usr/local/lib/python3.7/dist-packages (1.0.4)\n",
            "Requirement already satisfied: scipy in /usr/local/lib/python3.7/dist-packages (from catboost) (1.4.1)\n",
            "Requirement already satisfied: six in /usr/local/lib/python3.7/dist-packages (from catboost) (1.15.0)\n",
            "Requirement already satisfied: numpy>=1.16.0 in /usr/local/lib/python3.7/dist-packages (from catboost) (1.19.5)\n",
            "Requirement already satisfied: matplotlib in /usr/local/lib/python3.7/dist-packages (from catboost) (3.2.2)\n",
            "Requirement already satisfied: graphviz in /usr/local/lib/python3.7/dist-packages (from catboost) (0.10.1)\n",
            "Requirement already satisfied: plotly in /usr/local/lib/python3.7/dist-packages (from catboost) (4.4.1)\n",
            "Requirement already satisfied: pandas>=0.24.0 in /usr/local/lib/python3.7/dist-packages (from catboost) (1.1.5)\n",
            "Requirement already satisfied: pytz>=2017.2 in /usr/local/lib/python3.7/dist-packages (from pandas>=0.24.0->catboost) (2018.9)\n",
            "Requirement already satisfied: python-dateutil>=2.7.3 in /usr/local/lib/python3.7/dist-packages (from pandas>=0.24.0->catboost) (2.8.2)\n",
            "Requirement already satisfied: kiwisolver>=1.0.1 in /usr/local/lib/python3.7/dist-packages (from matplotlib->catboost) (1.3.2)\n",
            "Requirement already satisfied: pyparsing!=2.0.4,!=2.1.2,!=2.1.6,>=2.0.1 in /usr/local/lib/python3.7/dist-packages (from matplotlib->catboost) (3.0.6)\n",
            "Requirement already satisfied: cycler>=0.10 in /usr/local/lib/python3.7/dist-packages (from matplotlib->catboost) (0.11.0)\n",
            "Requirement already satisfied: retrying>=1.3.3 in /usr/local/lib/python3.7/dist-packages (from plotly->catboost) (1.3.3)\n"
          ]
        }
      ]
    },
    {
      "cell_type": "code",
      "source": [
        "from sklearn import metrics\n",
        "from sklearn.metrics import f1_score, auc, roc_auc_score, roc_curve, classification_report, confusion_matrix\n",
        "from sklearn.model_selection import train_test_split\n",
        "\n",
        "from catboost import CatBoostClassifier\n",
        "from xgboost import XGBClassifier\n",
        "from lightgbm import LGBMClassifier\n",
        "from sklearn.ensemble import RandomForestClassifier\n",
        "from sklearn.ensemble import AdaBoostClassifier\n",
        "from sklearn.ensemble import ExtraTreesClassifier"
      ],
      "metadata": {
        "id": "UJR1mXJeY4HM"
      },
      "execution_count": 104,
      "outputs": []
    },
    {
      "cell_type": "code",
      "source": [
        "seed = 42\n",
        "x= train.drop('target',axis=1)\n",
        "y= train.target\n",
        "\n",
        "x_train,x_test,y_train,y_test= train_test_split(x,y, test_size=0.2, random_state=seed)"
      ],
      "metadata": {
        "id": "7XdAnoTPYqmY"
      },
      "execution_count": 115,
      "outputs": []
    },
    {
      "cell_type": "code",
      "source": [
        "cbc= CatBoostClassifier(random_state=seed,verbose=False)\n",
        "xgb= XGBClassifier(random_state=seed)\n",
        "lgbm= LGBMClassifier(random_state=seed)\n",
        "forest= RandomForestClassifier(random_state=seed)\n",
        "ada= AdaBoostClassifier(random_state=seed)\n",
        "etc= ExtraTreesClassifier(random_state=seed)\n",
        "\n",
        "model_list= [cbc, xgb, lgbm, forest, ada, etc]"
      ],
      "metadata": {
        "id": "c7uMflWhZDam"
      },
      "execution_count": 36,
      "outputs": []
    },
    {
      "cell_type": "code",
      "source": [
        "for model in model_list:\n",
        "  model.fit(x_train,y_train)\n",
        "  y_pred= model.predict(x_test)\n",
        "  print(model, \":\", f1_score(y_test, y_pred),'\\n', confusion_matrix(y_pred, y_test))"
      ],
      "metadata": {
        "colab": {
          "base_uri": "https://localhost:8080/"
        },
        "id": "oOy8tyVZaaU5",
        "outputId": "2c8f49cc-c0e2-429f-c47d-e27582440a00"
      },
      "execution_count": 37,
      "outputs": [
        {
          "output_type": "stream",
          "name": "stdout",
          "text": [
            "<catboost.core.CatBoostClassifier object at 0x7f7049a63950> : 0.6517898918139544 \n",
            " [[29794 16102]\n",
            " [20365 34130]]\n",
            "XGBClassifier(random_state=42) : 0.631482834185537 \n",
            " [[29198 17381]\n",
            " [20961 32851]]\n",
            "LGBMClassifier(random_state=42) : 0.6451133973523169 \n",
            " [[29210 16340]\n",
            " [20949 33892]]\n",
            "RandomForestClassifier(random_state=42) : 0.6332602446036155 \n",
            " [[30267 17741]\n",
            " [19892 32491]]\n",
            "AdaBoostClassifier(random_state=42) : 0.6171780942592865 \n",
            " [[29753 18705]\n",
            " [20406 31527]]\n",
            "ExtraTreesClassifier(random_state=42) : 0.6243363311301333 \n",
            " [[30563 18541]\n",
            " [19596 31691]]\n"
          ]
        }
      ]
    },
    {
      "cell_type": "markdown",
      "source": [
        "#Optuna Try\n",
        "\n",
        "baseline : https://github.com/optuna/optuna-examples/blob/main/catboost/catboost_simple.py\n",
        "\n",
        "param explanation: https://catboost.ai/en/references/training-parameters/common#boosting_type"
      ],
      "metadata": {
        "id": "Tgk5XuNhj6vo"
      }
    },
    {
      "cell_type": "code",
      "source": [
        "!pip install optuna"
      ],
      "metadata": {
        "colab": {
          "base_uri": "https://localhost:8080/"
        },
        "id": "u2yJbAR_poJn",
        "outputId": "3f51cc85-8825-41a1-96e2-d123cfa8cf91"
      },
      "execution_count": 38,
      "outputs": [
        {
          "output_type": "stream",
          "name": "stdout",
          "text": [
            "Collecting optuna\n",
            "  Downloading optuna-2.10.0-py3-none-any.whl (308 kB)\n",
            "\u001b[K     |████████████████████████████████| 308 kB 5.3 MB/s \n",
            "\u001b[?25hRequirement already satisfied: numpy in /usr/local/lib/python3.7/dist-packages (from optuna) (1.19.5)\n",
            "Collecting colorlog\n",
            "  Downloading colorlog-6.6.0-py2.py3-none-any.whl (11 kB)\n",
            "Collecting cliff\n",
            "  Downloading cliff-3.10.0-py3-none-any.whl (80 kB)\n",
            "\u001b[K     |████████████████████████████████| 80 kB 8.1 MB/s \n",
            "\u001b[?25hRequirement already satisfied: tqdm in /usr/local/lib/python3.7/dist-packages (from optuna) (4.62.3)\n",
            "Requirement already satisfied: PyYAML in /usr/local/lib/python3.7/dist-packages (from optuna) (3.13)\n",
            "Requirement already satisfied: sqlalchemy>=1.1.0 in /usr/local/lib/python3.7/dist-packages (from optuna) (1.4.29)\n",
            "Requirement already satisfied: scipy!=1.4.0 in /usr/local/lib/python3.7/dist-packages (from optuna) (1.4.1)\n",
            "Collecting cmaes>=0.8.2\n",
            "  Downloading cmaes-0.8.2-py3-none-any.whl (15 kB)\n",
            "Collecting alembic\n",
            "  Downloading alembic-1.7.5-py3-none-any.whl (209 kB)\n",
            "\u001b[K     |████████████████████████████████| 209 kB 49.1 MB/s \n",
            "\u001b[?25hRequirement already satisfied: packaging>=20.0 in /usr/local/lib/python3.7/dist-packages (from optuna) (21.3)\n",
            "Requirement already satisfied: pyparsing!=3.0.5,>=2.0.2 in /usr/local/lib/python3.7/dist-packages (from packaging>=20.0->optuna) (3.0.6)\n",
            "Requirement already satisfied: importlib-metadata in /usr/local/lib/python3.7/dist-packages (from sqlalchemy>=1.1.0->optuna) (4.10.0)\n",
            "Requirement already satisfied: greenlet!=0.4.17 in /usr/local/lib/python3.7/dist-packages (from sqlalchemy>=1.1.0->optuna) (1.1.2)\n",
            "Collecting Mako\n",
            "  Downloading Mako-1.1.6-py2.py3-none-any.whl (75 kB)\n",
            "\u001b[K     |████████████████████████████████| 75 kB 4.0 MB/s \n",
            "\u001b[?25hRequirement already satisfied: importlib-resources in /usr/local/lib/python3.7/dist-packages (from alembic->optuna) (5.4.0)\n",
            "Collecting stevedore>=2.0.1\n",
            "  Downloading stevedore-3.5.0-py3-none-any.whl (49 kB)\n",
            "\u001b[K     |████████████████████████████████| 49 kB 5.5 MB/s \n",
            "\u001b[?25hCollecting autopage>=0.4.0\n",
            "  Downloading autopage-0.5.0-py3-none-any.whl (29 kB)\n",
            "Requirement already satisfied: PrettyTable>=0.7.2 in /usr/local/lib/python3.7/dist-packages (from cliff->optuna) (3.0.0)\n",
            "Collecting pbr!=2.1.0,>=2.0.0\n",
            "  Downloading pbr-5.8.0-py2.py3-none-any.whl (112 kB)\n",
            "\u001b[K     |████████████████████████████████| 112 kB 33.9 MB/s \n",
            "\u001b[?25hCollecting cmd2>=1.0.0\n",
            "  Downloading cmd2-2.3.3-py3-none-any.whl (149 kB)\n",
            "\u001b[K     |████████████████████████████████| 149 kB 51.1 MB/s \n",
            "\u001b[?25hCollecting pyperclip>=1.6\n",
            "  Downloading pyperclip-1.8.2.tar.gz (20 kB)\n",
            "Requirement already satisfied: wcwidth>=0.1.7 in /usr/local/lib/python3.7/dist-packages (from cmd2>=1.0.0->cliff->optuna) (0.2.5)\n",
            "Requirement already satisfied: typing-extensions in /usr/local/lib/python3.7/dist-packages (from cmd2>=1.0.0->cliff->optuna) (3.10.0.2)\n",
            "Requirement already satisfied: attrs>=16.3.0 in /usr/local/lib/python3.7/dist-packages (from cmd2>=1.0.0->cliff->optuna) (21.4.0)\n",
            "Requirement already satisfied: zipp>=0.5 in /usr/local/lib/python3.7/dist-packages (from importlib-metadata->sqlalchemy>=1.1.0->optuna) (3.7.0)\n",
            "Requirement already satisfied: MarkupSafe>=0.9.2 in /usr/local/lib/python3.7/dist-packages (from Mako->alembic->optuna) (2.0.1)\n",
            "Building wheels for collected packages: pyperclip\n",
            "  Building wheel for pyperclip (setup.py) ... \u001b[?25l\u001b[?25hdone\n",
            "  Created wheel for pyperclip: filename=pyperclip-1.8.2-py3-none-any.whl size=11137 sha256=64889ba2ca6773a954654284710cdfce1485fd25d8c3a875515e34b9c6e55608\n",
            "  Stored in directory: /root/.cache/pip/wheels/9f/18/84/8f69f8b08169c7bae2dde6bd7daf0c19fca8c8e500ee620a28\n",
            "Successfully built pyperclip\n",
            "Installing collected packages: pyperclip, pbr, stevedore, Mako, cmd2, autopage, colorlog, cmaes, cliff, alembic, optuna\n",
            "Successfully installed Mako-1.1.6 alembic-1.7.5 autopage-0.5.0 cliff-3.10.0 cmaes-0.8.2 cmd2-2.3.3 colorlog-6.6.0 optuna-2.10.0 pbr-5.8.0 pyperclip-1.8.2 stevedore-3.5.0\n"
          ]
        }
      ]
    },
    {
      "cell_type": "code",
      "source": [
        "import optuna"
      ],
      "metadata": {
        "id": "yxmVYSLspeyn"
      },
      "execution_count": 39,
      "outputs": []
    },
    {
      "cell_type": "code",
      "source": [
        "def objective(trial):\n",
        "  x= train.drop('target',axis=1)\n",
        "  y= train['target']\n",
        "\n",
        "  x_train,x_test,y_train,y_test= train_test_split(x,y, test_size=0.1, random_state=seed)\n",
        "\n",
        "  param= {\n",
        "      'learning_rate': trial.suggest_float('learning_rate',0.01, 0.1),\n",
        "      'depth' : trial.suggest_int('depth', 1, 12),\n",
        "      'boosting_type': trial.suggest_categorical('boosting_type',['Ordered','Plain']),\n",
        "      # \"bootstrap_type\": trial.suggest_categorical(\n",
        "      #     \"bootstrap_type\", [\"Bayesian\", \"Bernoulli\", \"MVS\"]),\n",
        "  }\n",
        "\n",
        "  # if param[\"bootstrap_type\"] == \"Bayesian\":\n",
        "  #   param[\"bagging_temperature\"] = trial.suggest_float(\"bagging_temperature\", 0, 10)\n",
        "  # elif param[\"bootstrap_type\"] == \"Bernoulli\":\n",
        "  #   param[\"subsample\"] = trial.suggest_float(\"subsample\", 0.1, 1)\n",
        "\n",
        "  model= CatBoostClassifier(**param, random_state=seed)\n",
        "\n",
        "  model.fit(x_train,y_train, verbose=False, early_stopping_rounds= 100)\n",
        "\n",
        "  y_pred= model.predict(x_test)\n",
        "  f1= f1_score(y_pred, y_test)\n",
        "  return f1"
      ],
      "metadata": {
        "id": "uOp0m2CNj8mO"
      },
      "execution_count": 52,
      "outputs": []
    },
    {
      "cell_type": "code",
      "source": [
        "study= optuna.create_study(direction='maximize')\n",
        "study.optimize(objective, n_trials=100, timeout=600)\n",
        "\n",
        "print(\"Number of finished trials: {}\".format(len(study.trials)))\n",
        "\n",
        "print(\"Best trial:\")\n",
        "trial = study.best_trial\n",
        "\n",
        "print(\"  Value: {}\".format(trial.value))\n",
        "\n",
        "print(\"  Params: \")\n",
        "for key, value in trial.params.items():\n",
        "  print(\"    {}: {}\".format(key, value))"
      ],
      "metadata": {
        "colab": {
          "base_uri": "https://localhost:8080/"
        },
        "id": "AMQHMP00pxq3",
        "outputId": "1d1680c8-6c64-440c-e068-65e7c265c1b3"
      },
      "execution_count": 50,
      "outputs": [
        {
          "output_type": "stream",
          "name": "stderr",
          "text": [
            "\u001b[32m[I 2022-01-24 06:48:35,568]\u001b[0m A new study created in memory with name: no-name-1c331bc2-078d-42a5-8ba9-a3595bdd452d\u001b[0m\n",
            "Custom logger is already specified. Specify more than one logger at same time is not thread safe.\u001b[32m[I 2022-01-24 06:50:12,520]\u001b[0m Trial 0 finished with value: 0.6300524170064066 and parameters: {'learning_rate': 0.06720492538040357, 'depth': 2}. Best is trial 0 with value: 0.6300524170064066.\u001b[0m\n",
            "\u001b[32m[I 2022-01-24 06:52:20,221]\u001b[0m Trial 1 finished with value: 0.643269249199747 and parameters: {'learning_rate': 0.08103090312026219, 'depth': 4}. Best is trial 1 with value: 0.643269249199747.\u001b[0m\n",
            "\u001b[32m[I 2022-01-24 06:54:27,908]\u001b[0m Trial 2 finished with value: 0.6403268186961775 and parameters: {'learning_rate': 0.04137541729894808, 'depth': 4}. Best is trial 1 with value: 0.643269249199747.\u001b[0m\n",
            "\u001b[32m[I 2022-01-24 07:07:42,737]\u001b[0m Trial 3 finished with value: 0.6461994495024349 and parameters: {'learning_rate': 0.06066768267594334, 'depth': 11}. Best is trial 3 with value: 0.6461994495024349.\u001b[0m\n"
          ]
        },
        {
          "output_type": "stream",
          "name": "stdout",
          "text": [
            "Number of finished trials: 4\n",
            "Best trial:\n",
            "  Value: 0.6461994495024349\n",
            "  Params: \n",
            "    learning_rate: 0.06066768267594334\n",
            "    depth: 11\n"
          ]
        }
      ]
    },
    {
      "cell_type": "markdown",
      "source": [
        "#GridSearch\n",
        "\n",
        "https://scikit-learn.org/stable/modules/generated/sklearn.model_selection.GridSearchCV.html"
      ],
      "metadata": {
        "id": "X68lXAg3L5vH"
      }
    },
    {
      "cell_type": "code",
      "source": [
        "from sklearn.model_selection import GridSearchCV\n",
        "\n",
        "cbc= CatBoostClassifier(random_state=seed, verbose=False)\n",
        "\n",
        "params= {\n",
        "    'learning_rate' :[0.001, 0.01, 0.1],\n",
        "    'boosting_type':['Plain','Ordered'],\n",
        "    'max_depth':[5,10,15],\n",
        "    'n_estimators':[100,200,300],\n",
        "}\n",
        "\n",
        "grid= GridSearchCV(cbc, param_grid=params, cv=5, scoring='f1')\n",
        "grid.fit(x_train,y_train)\n",
        "\n",
        "print('best parameters : ', grid.best_params_)\n",
        "print('best score : ', grid.best_score_)"
      ],
      "metadata": {
        "colab": {
          "base_uri": "https://localhost:8080/"
        },
        "id": "VsYVH0eOL8GE",
        "outputId": "c607bbb1-eba6-45b6-8d9d-3e60312c81fb"
      },
      "execution_count": null,
      "outputs": [
        {
          "output_type": "stream",
          "name": "stderr",
          "text": [
            "Custom logger is already specified. Specify more than one logger at same time is not thread safe."
          ]
        }
      ]
    }
  ]
}