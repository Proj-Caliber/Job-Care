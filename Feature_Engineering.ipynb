{
  "nbformat": 4,
  "nbformat_minor": 0,
  "metadata": {
    "colab": {
      "name": "Feature Engineering.ipynb",
      "provenance": []
    },
    "kernelspec": {
      "name": "python3",
      "display_name": "Python 3"
    },
    "language_info": {
      "name": "python"
    }
  },
  "cells": [
    {
      "cell_type": "markdown",
      "source": [
        "##Feature Engineering Start\n",
        "\n",
        "> What to Focus on?\n",
        "\n",
        "1. Train vs Test 비교 해보기\n",
        "\n",
        "> 만약 dummy화 시킬거면, 각 열에 있는 값이 동일해야 하기 때문에 이 부분 checking"
      ],
      "metadata": {
        "id": "GjLpcUWDfv8g"
      }
    },
    {
      "cell_type": "code",
      "execution_count": 1,
      "metadata": {
        "id": "Ym4qVD6dcow-"
      },
      "outputs": [],
      "source": [
        "import numpy as np\n",
        "import pandas as pd\n",
        "import matplotlib.pyplot as plt\n",
        "import seaborn as sns"
      ]
    },
    {
      "cell_type": "code",
      "source": [
        "train= pd.read_csv('/content/drive/MyDrive/잡케어/train_data_final.csv')\n",
        "test= pd.read_csv('/content/drive/MyDrive/잡케어/test_data_final.csv')"
      ],
      "metadata": {
        "id": "OJkXPbEvc39W"
      },
      "execution_count": 2,
      "outputs": []
    },
    {
      "cell_type": "code",
      "source": [
        "train.head()"
      ],
      "metadata": {
        "colab": {
          "base_uri": "https://localhost:8080/",
          "height": 270
        },
        "id": "orRtNWP4dHEW",
        "outputId": "aa65d97c-82e9-4fa9-c80f-691445baf112"
      },
      "execution_count": 3,
      "outputs": [
        {
          "output_type": "execute_result",
          "data": {
            "text/html": [
              "\n",
              "  <div id=\"df-be5e0a11-0b1a-4e26-bc5a-80eff1ac3642\">\n",
              "    <div class=\"colab-df-container\">\n",
              "      <div>\n",
              "<style scoped>\n",
              "    .dataframe tbody tr th:only-of-type {\n",
              "        vertical-align: middle;\n",
              "    }\n",
              "\n",
              "    .dataframe tbody tr th {\n",
              "        vertical-align: top;\n",
              "    }\n",
              "\n",
              "    .dataframe thead th {\n",
              "        text-align: right;\n",
              "    }\n",
              "</style>\n",
              "<table border=\"1\" class=\"dataframe\">\n",
              "  <thead>\n",
              "    <tr style=\"text-align: right;\">\n",
              "      <th></th>\n",
              "      <th>d_l_match_yn</th>\n",
              "      <th>d_m_match_yn</th>\n",
              "      <th>d_s_match_yn</th>\n",
              "      <th>h_l_match_yn</th>\n",
              "      <th>h_m_match_yn</th>\n",
              "      <th>h_s_match_yn</th>\n",
              "      <th>person_attribute_a</th>\n",
              "      <th>person_attribute_a_1</th>\n",
              "      <th>person_attribute_b</th>\n",
              "      <th>person_prefer_c</th>\n",
              "      <th>person_prefer_d_1</th>\n",
              "      <th>person_prefer_d_2</th>\n",
              "      <th>person_prefer_d_3</th>\n",
              "      <th>person_prefer_e</th>\n",
              "      <th>person_prefer_h_1</th>\n",
              "      <th>person_prefer_h_2</th>\n",
              "      <th>person_prefer_h_3</th>\n",
              "      <th>contents_attribute_i</th>\n",
              "      <th>contents_attribute_a</th>\n",
              "      <th>contents_attribute_j_1</th>\n",
              "      <th>contents_attribute_j</th>\n",
              "      <th>contents_attribute_c</th>\n",
              "      <th>contents_attribute_k</th>\n",
              "      <th>contents_attribute_l</th>\n",
              "      <th>contents_attribute_d</th>\n",
              "      <th>contents_attribute_m</th>\n",
              "      <th>contents_attribute_e</th>\n",
              "      <th>contents_attribute_h</th>\n",
              "      <th>person_rn</th>\n",
              "      <th>contents_rn</th>\n",
              "      <th>target</th>\n",
              "      <th>person_prefer_d_1_n</th>\n",
              "      <th>person_prefer_d_1_s</th>\n",
              "      <th>person_prefer_d_1_m</th>\n",
              "      <th>person_prefer_d_1_l</th>\n",
              "      <th>person_prefer_d_2_n</th>\n",
              "      <th>person_prefer_d_2_s</th>\n",
              "      <th>person_prefer_d_2_m</th>\n",
              "      <th>person_prefer_d_2_l</th>\n",
              "      <th>person_prefer_d_3_n</th>\n",
              "      <th>person_prefer_d_3_s</th>\n",
              "      <th>person_prefer_d_3_m</th>\n",
              "      <th>person_prefer_d_3_l</th>\n",
              "      <th>contents_attribute_d_n</th>\n",
              "      <th>contents_attribute_d_s</th>\n",
              "      <th>contents_attribute_d_m</th>\n",
              "      <th>contents_attribute_d_l</th>\n",
              "      <th>person_prefer_h_1_l</th>\n",
              "      <th>person_prefer_h_1_m</th>\n",
              "      <th>person_prefer_h_2_l</th>\n",
              "      <th>person_prefer_h_2_m</th>\n",
              "      <th>person_prefer_h_3_l</th>\n",
              "      <th>person_prefer_h_3_m</th>\n",
              "      <th>contents_attribute_h_l</th>\n",
              "      <th>contents_attribute_h_m</th>\n",
              "      <th>contents_open_dt_month</th>\n",
              "      <th>contents_open_dt_day</th>\n",
              "      <th>contents_open_dt_hour</th>\n",
              "      <th>contents_open_dt_minute</th>\n",
              "      <th>contents_open_dt_sec</th>\n",
              "    </tr>\n",
              "  </thead>\n",
              "  <tbody>\n",
              "    <tr>\n",
              "      <th>0</th>\n",
              "      <td>1</td>\n",
              "      <td>1</td>\n",
              "      <td>1</td>\n",
              "      <td>0</td>\n",
              "      <td>0</td>\n",
              "      <td>0</td>\n",
              "      <td>1</td>\n",
              "      <td>4</td>\n",
              "      <td>3</td>\n",
              "      <td>5</td>\n",
              "      <td>275</td>\n",
              "      <td>370</td>\n",
              "      <td>369</td>\n",
              "      <td>8</td>\n",
              "      <td>4</td>\n",
              "      <td>95</td>\n",
              "      <td>59</td>\n",
              "      <td>3</td>\n",
              "      <td>3</td>\n",
              "      <td>10</td>\n",
              "      <td>2</td>\n",
              "      <td>1</td>\n",
              "      <td>2</td>\n",
              "      <td>1608</td>\n",
              "      <td>275</td>\n",
              "      <td>1</td>\n",
              "      <td>4</td>\n",
              "      <td>139</td>\n",
              "      <td>618822</td>\n",
              "      <td>354805</td>\n",
              "      <td>1</td>\n",
              "      <td>275</td>\n",
              "      <td>274</td>\n",
              "      <td>274</td>\n",
              "      <td>216</td>\n",
              "      <td>369</td>\n",
              "      <td>368</td>\n",
              "      <td>297</td>\n",
              "      <td>216</td>\n",
              "      <td>369</td>\n",
              "      <td>368</td>\n",
              "      <td>297</td>\n",
              "      <td>216</td>\n",
              "      <td>275</td>\n",
              "      <td>274</td>\n",
              "      <td>274</td>\n",
              "      <td>216</td>\n",
              "      <td>3</td>\n",
              "      <td>316</td>\n",
              "      <td>94</td>\n",
              "      <td>398</td>\n",
              "      <td>58</td>\n",
              "      <td>368</td>\n",
              "      <td>94</td>\n",
              "      <td>422</td>\n",
              "      <td>1</td>\n",
              "      <td>17</td>\n",
              "      <td>12</td>\n",
              "      <td>9</td>\n",
              "      <td>36</td>\n",
              "    </tr>\n",
              "    <tr>\n",
              "      <th>1</th>\n",
              "      <td>0</td>\n",
              "      <td>0</td>\n",
              "      <td>0</td>\n",
              "      <td>1</td>\n",
              "      <td>1</td>\n",
              "      <td>0</td>\n",
              "      <td>1</td>\n",
              "      <td>3</td>\n",
              "      <td>4</td>\n",
              "      <td>1</td>\n",
              "      <td>114</td>\n",
              "      <td>181</td>\n",
              "      <td>175</td>\n",
              "      <td>4</td>\n",
              "      <td>131</td>\n",
              "      <td>101</td>\n",
              "      <td>96</td>\n",
              "      <td>1</td>\n",
              "      <td>3</td>\n",
              "      <td>5</td>\n",
              "      <td>1</td>\n",
              "      <td>1</td>\n",
              "      <td>2</td>\n",
              "      <td>1608</td>\n",
              "      <td>275</td>\n",
              "      <td>1</td>\n",
              "      <td>4</td>\n",
              "      <td>133</td>\n",
              "      <td>571659</td>\n",
              "      <td>346213</td>\n",
              "      <td>0</td>\n",
              "      <td>114</td>\n",
              "      <td>109</td>\n",
              "      <td>56</td>\n",
              "      <td>1</td>\n",
              "      <td>175</td>\n",
              "      <td>152</td>\n",
              "      <td>56</td>\n",
              "      <td>1</td>\n",
              "      <td>175</td>\n",
              "      <td>152</td>\n",
              "      <td>56</td>\n",
              "      <td>1</td>\n",
              "      <td>275</td>\n",
              "      <td>274</td>\n",
              "      <td>274</td>\n",
              "      <td>216</td>\n",
              "      <td>94</td>\n",
              "      <td>417</td>\n",
              "      <td>94</td>\n",
              "      <td>400</td>\n",
              "      <td>94</td>\n",
              "      <td>399</td>\n",
              "      <td>94</td>\n",
              "      <td>417</td>\n",
              "      <td>6</td>\n",
              "      <td>18</td>\n",
              "      <td>17</td>\n",
              "      <td>48</td>\n",
              "      <td>52</td>\n",
              "    </tr>\n",
              "    <tr>\n",
              "      <th>2</th>\n",
              "      <td>0</td>\n",
              "      <td>0</td>\n",
              "      <td>0</td>\n",
              "      <td>1</td>\n",
              "      <td>0</td>\n",
              "      <td>0</td>\n",
              "      <td>2</td>\n",
              "      <td>0</td>\n",
              "      <td>3</td>\n",
              "      <td>5</td>\n",
              "      <td>464</td>\n",
              "      <td>175</td>\n",
              "      <td>452</td>\n",
              "      <td>3</td>\n",
              "      <td>54</td>\n",
              "      <td>263</td>\n",
              "      <td>56</td>\n",
              "      <td>3</td>\n",
              "      <td>1</td>\n",
              "      <td>10</td>\n",
              "      <td>2</td>\n",
              "      <td>1</td>\n",
              "      <td>1</td>\n",
              "      <td>1600</td>\n",
              "      <td>94</td>\n",
              "      <td>1</td>\n",
              "      <td>4</td>\n",
              "      <td>53</td>\n",
              "      <td>399816</td>\n",
              "      <td>206408</td>\n",
              "      <td>0</td>\n",
              "      <td>464</td>\n",
              "      <td>463</td>\n",
              "      <td>450</td>\n",
              "      <td>377</td>\n",
              "      <td>175</td>\n",
              "      <td>152</td>\n",
              "      <td>56</td>\n",
              "      <td>1</td>\n",
              "      <td>452</td>\n",
              "      <td>451</td>\n",
              "      <td>450</td>\n",
              "      <td>377</td>\n",
              "      <td>92</td>\n",
              "      <td>91</td>\n",
              "      <td>56</td>\n",
              "      <td>1</td>\n",
              "      <td>48</td>\n",
              "      <td>364</td>\n",
              "      <td>250</td>\n",
              "      <td>528</td>\n",
              "      <td>48</td>\n",
              "      <td>366</td>\n",
              "      <td>48</td>\n",
              "      <td>363</td>\n",
              "      <td>7</td>\n",
              "      <td>8</td>\n",
              "      <td>20</td>\n",
              "      <td>0</td>\n",
              "      <td>10</td>\n",
              "    </tr>\n",
              "    <tr>\n",
              "      <th>3</th>\n",
              "      <td>0</td>\n",
              "      <td>0</td>\n",
              "      <td>0</td>\n",
              "      <td>1</td>\n",
              "      <td>0</td>\n",
              "      <td>0</td>\n",
              "      <td>2</td>\n",
              "      <td>0</td>\n",
              "      <td>2</td>\n",
              "      <td>5</td>\n",
              "      <td>703</td>\n",
              "      <td>705</td>\n",
              "      <td>704</td>\n",
              "      <td>3</td>\n",
              "      <td>72</td>\n",
              "      <td>227</td>\n",
              "      <td>2</td>\n",
              "      <td>1</td>\n",
              "      <td>3</td>\n",
              "      <td>5</td>\n",
              "      <td>1</td>\n",
              "      <td>1</td>\n",
              "      <td>2</td>\n",
              "      <td>1608</td>\n",
              "      <td>275</td>\n",
              "      <td>5</td>\n",
              "      <td>3</td>\n",
              "      <td>74</td>\n",
              "      <td>827967</td>\n",
              "      <td>572323</td>\n",
              "      <td>0</td>\n",
              "      <td>703</td>\n",
              "      <td>703</td>\n",
              "      <td>690</td>\n",
              "      <td>618</td>\n",
              "      <td>703</td>\n",
              "      <td>703</td>\n",
              "      <td>690</td>\n",
              "      <td>618</td>\n",
              "      <td>703</td>\n",
              "      <td>703</td>\n",
              "      <td>690</td>\n",
              "      <td>618</td>\n",
              "      <td>275</td>\n",
              "      <td>274</td>\n",
              "      <td>274</td>\n",
              "      <td>216</td>\n",
              "      <td>71</td>\n",
              "      <td>379</td>\n",
              "      <td>226</td>\n",
              "      <td>495</td>\n",
              "      <td>1</td>\n",
              "      <td>315</td>\n",
              "      <td>71</td>\n",
              "      <td>381</td>\n",
              "      <td>1</td>\n",
              "      <td>13</td>\n",
              "      <td>18</td>\n",
              "      <td>9</td>\n",
              "      <td>34</td>\n",
              "    </tr>\n",
              "    <tr>\n",
              "      <th>4</th>\n",
              "      <td>1</td>\n",
              "      <td>1</td>\n",
              "      <td>1</td>\n",
              "      <td>0</td>\n",
              "      <td>0</td>\n",
              "      <td>0</td>\n",
              "      <td>1</td>\n",
              "      <td>3</td>\n",
              "      <td>4</td>\n",
              "      <td>5</td>\n",
              "      <td>275</td>\n",
              "      <td>370</td>\n",
              "      <td>369</td>\n",
              "      <td>4</td>\n",
              "      <td>214</td>\n",
              "      <td>210</td>\n",
              "      <td>209</td>\n",
              "      <td>1</td>\n",
              "      <td>1</td>\n",
              "      <td>10</td>\n",
              "      <td>2</td>\n",
              "      <td>1</td>\n",
              "      <td>2</td>\n",
              "      <td>1608</td>\n",
              "      <td>275</td>\n",
              "      <td>1</td>\n",
              "      <td>4</td>\n",
              "      <td>74</td>\n",
              "      <td>831614</td>\n",
              "      <td>573899</td>\n",
              "      <td>0</td>\n",
              "      <td>275</td>\n",
              "      <td>274</td>\n",
              "      <td>274</td>\n",
              "      <td>216</td>\n",
              "      <td>369</td>\n",
              "      <td>368</td>\n",
              "      <td>297</td>\n",
              "      <td>216</td>\n",
              "      <td>369</td>\n",
              "      <td>368</td>\n",
              "      <td>297</td>\n",
              "      <td>216</td>\n",
              "      <td>275</td>\n",
              "      <td>274</td>\n",
              "      <td>274</td>\n",
              "      <td>216</td>\n",
              "      <td>208</td>\n",
              "      <td>483</td>\n",
              "      <td>208</td>\n",
              "      <td>481</td>\n",
              "      <td>208</td>\n",
              "      <td>480</td>\n",
              "      <td>71</td>\n",
              "      <td>381</td>\n",
              "      <td>3</td>\n",
              "      <td>9</td>\n",
              "      <td>20</td>\n",
              "      <td>39</td>\n",
              "      <td>22</td>\n",
              "    </tr>\n",
              "  </tbody>\n",
              "</table>\n",
              "</div>\n",
              "      <button class=\"colab-df-convert\" onclick=\"convertToInteractive('df-be5e0a11-0b1a-4e26-bc5a-80eff1ac3642')\"\n",
              "              title=\"Convert this dataframe to an interactive table.\"\n",
              "              style=\"display:none;\">\n",
              "        \n",
              "  <svg xmlns=\"http://www.w3.org/2000/svg\" height=\"24px\"viewBox=\"0 0 24 24\"\n",
              "       width=\"24px\">\n",
              "    <path d=\"M0 0h24v24H0V0z\" fill=\"none\"/>\n",
              "    <path d=\"M18.56 5.44l.94 2.06.94-2.06 2.06-.94-2.06-.94-.94-2.06-.94 2.06-2.06.94zm-11 1L8.5 8.5l.94-2.06 2.06-.94-2.06-.94L8.5 2.5l-.94 2.06-2.06.94zm10 10l.94 2.06.94-2.06 2.06-.94-2.06-.94-.94-2.06-.94 2.06-2.06.94z\"/><path d=\"M17.41 7.96l-1.37-1.37c-.4-.4-.92-.59-1.43-.59-.52 0-1.04.2-1.43.59L10.3 9.45l-7.72 7.72c-.78.78-.78 2.05 0 2.83L4 21.41c.39.39.9.59 1.41.59.51 0 1.02-.2 1.41-.59l7.78-7.78 2.81-2.81c.8-.78.8-2.07 0-2.86zM5.41 20L4 18.59l7.72-7.72 1.47 1.35L5.41 20z\"/>\n",
              "  </svg>\n",
              "      </button>\n",
              "      \n",
              "  <style>\n",
              "    .colab-df-container {\n",
              "      display:flex;\n",
              "      flex-wrap:wrap;\n",
              "      gap: 12px;\n",
              "    }\n",
              "\n",
              "    .colab-df-convert {\n",
              "      background-color: #E8F0FE;\n",
              "      border: none;\n",
              "      border-radius: 50%;\n",
              "      cursor: pointer;\n",
              "      display: none;\n",
              "      fill: #1967D2;\n",
              "      height: 32px;\n",
              "      padding: 0 0 0 0;\n",
              "      width: 32px;\n",
              "    }\n",
              "\n",
              "    .colab-df-convert:hover {\n",
              "      background-color: #E2EBFA;\n",
              "      box-shadow: 0px 1px 2px rgba(60, 64, 67, 0.3), 0px 1px 3px 1px rgba(60, 64, 67, 0.15);\n",
              "      fill: #174EA6;\n",
              "    }\n",
              "\n",
              "    [theme=dark] .colab-df-convert {\n",
              "      background-color: #3B4455;\n",
              "      fill: #D2E3FC;\n",
              "    }\n",
              "\n",
              "    [theme=dark] .colab-df-convert:hover {\n",
              "      background-color: #434B5C;\n",
              "      box-shadow: 0px 1px 3px 1px rgba(0, 0, 0, 0.15);\n",
              "      filter: drop-shadow(0px 1px 2px rgba(0, 0, 0, 0.3));\n",
              "      fill: #FFFFFF;\n",
              "    }\n",
              "  </style>\n",
              "\n",
              "      <script>\n",
              "        const buttonEl =\n",
              "          document.querySelector('#df-be5e0a11-0b1a-4e26-bc5a-80eff1ac3642 button.colab-df-convert');\n",
              "        buttonEl.style.display =\n",
              "          google.colab.kernel.accessAllowed ? 'block' : 'none';\n",
              "\n",
              "        async function convertToInteractive(key) {\n",
              "          const element = document.querySelector('#df-be5e0a11-0b1a-4e26-bc5a-80eff1ac3642');\n",
              "          const dataTable =\n",
              "            await google.colab.kernel.invokeFunction('convertToInteractive',\n",
              "                                                     [key], {});\n",
              "          if (!dataTable) return;\n",
              "\n",
              "          const docLinkHtml = 'Like what you see? Visit the ' +\n",
              "            '<a target=\"_blank\" href=https://colab.research.google.com/notebooks/data_table.ipynb>data table notebook</a>'\n",
              "            + ' to learn more about interactive tables.';\n",
              "          element.innerHTML = '';\n",
              "          dataTable['output_type'] = 'display_data';\n",
              "          await google.colab.output.renderOutput(dataTable, element);\n",
              "          const docLink = document.createElement('div');\n",
              "          docLink.innerHTML = docLinkHtml;\n",
              "          element.appendChild(docLink);\n",
              "        }\n",
              "      </script>\n",
              "    </div>\n",
              "  </div>\n",
              "  "
            ],
            "text/plain": [
              "   d_l_match_yn  d_m_match_yn  ...  contents_open_dt_minute  contents_open_dt_sec\n",
              "0             1             1  ...                        9                    36\n",
              "1             0             0  ...                       48                    52\n",
              "2             0             0  ...                        0                    10\n",
              "3             0             0  ...                        9                    34\n",
              "4             1             1  ...                       39                    22\n",
              "\n",
              "[5 rows x 60 columns]"
            ]
          },
          "metadata": {},
          "execution_count": 3
        }
      ]
    },
    {
      "cell_type": "code",
      "source": [
        "test.head()"
      ],
      "metadata": {
        "colab": {
          "base_uri": "https://localhost:8080/",
          "height": 270
        },
        "id": "djjmFtYzfcyo",
        "outputId": "d3ea203d-3d5d-48e2-b7fe-e9ffbbd3fb98"
      },
      "execution_count": 4,
      "outputs": [
        {
          "output_type": "execute_result",
          "data": {
            "text/html": [
              "\n",
              "  <div id=\"df-fa28341a-44a7-433a-9ccf-8d43b758ec63\">\n",
              "    <div class=\"colab-df-container\">\n",
              "      <div>\n",
              "<style scoped>\n",
              "    .dataframe tbody tr th:only-of-type {\n",
              "        vertical-align: middle;\n",
              "    }\n",
              "\n",
              "    .dataframe tbody tr th {\n",
              "        vertical-align: top;\n",
              "    }\n",
              "\n",
              "    .dataframe thead th {\n",
              "        text-align: right;\n",
              "    }\n",
              "</style>\n",
              "<table border=\"1\" class=\"dataframe\">\n",
              "  <thead>\n",
              "    <tr style=\"text-align: right;\">\n",
              "      <th></th>\n",
              "      <th>d_l_match_yn</th>\n",
              "      <th>d_m_match_yn</th>\n",
              "      <th>d_s_match_yn</th>\n",
              "      <th>h_l_match_yn</th>\n",
              "      <th>h_m_match_yn</th>\n",
              "      <th>h_s_match_yn</th>\n",
              "      <th>person_attribute_a</th>\n",
              "      <th>person_attribute_a_1</th>\n",
              "      <th>person_attribute_b</th>\n",
              "      <th>person_prefer_c</th>\n",
              "      <th>person_prefer_d_1</th>\n",
              "      <th>person_prefer_d_2</th>\n",
              "      <th>person_prefer_d_3</th>\n",
              "      <th>person_prefer_e</th>\n",
              "      <th>person_prefer_h_1</th>\n",
              "      <th>person_prefer_h_2</th>\n",
              "      <th>person_prefer_h_3</th>\n",
              "      <th>contents_attribute_i</th>\n",
              "      <th>contents_attribute_a</th>\n",
              "      <th>contents_attribute_j_1</th>\n",
              "      <th>contents_attribute_j</th>\n",
              "      <th>contents_attribute_c</th>\n",
              "      <th>contents_attribute_k</th>\n",
              "      <th>contents_attribute_l</th>\n",
              "      <th>contents_attribute_d</th>\n",
              "      <th>contents_attribute_m</th>\n",
              "      <th>contents_attribute_e</th>\n",
              "      <th>contents_attribute_h</th>\n",
              "      <th>person_rn</th>\n",
              "      <th>contents_rn</th>\n",
              "      <th>person_prefer_d_1_n</th>\n",
              "      <th>person_prefer_d_1_s</th>\n",
              "      <th>person_prefer_d_1_m</th>\n",
              "      <th>person_prefer_d_1_l</th>\n",
              "      <th>person_prefer_d_2_n</th>\n",
              "      <th>person_prefer_d_2_s</th>\n",
              "      <th>person_prefer_d_2_m</th>\n",
              "      <th>person_prefer_d_2_l</th>\n",
              "      <th>person_prefer_d_3_n</th>\n",
              "      <th>person_prefer_d_3_s</th>\n",
              "      <th>person_prefer_d_3_m</th>\n",
              "      <th>person_prefer_d_3_l</th>\n",
              "      <th>contents_attribute_d_n</th>\n",
              "      <th>contents_attribute_d_s</th>\n",
              "      <th>contents_attribute_d_m</th>\n",
              "      <th>contents_attribute_d_l</th>\n",
              "      <th>person_prefer_h_1_l</th>\n",
              "      <th>person_prefer_h_1_m</th>\n",
              "      <th>person_prefer_h_2_l</th>\n",
              "      <th>person_prefer_h_2_m</th>\n",
              "      <th>person_prefer_h_3_l</th>\n",
              "      <th>person_prefer_h_3_m</th>\n",
              "      <th>contents_attribute_h_l</th>\n",
              "      <th>contents_attribute_h_m</th>\n",
              "      <th>contents_open_dt_month</th>\n",
              "      <th>contents_open_dt_day</th>\n",
              "      <th>contents_open_dt_hour</th>\n",
              "      <th>contents_open_dt_minute</th>\n",
              "      <th>contents_open_dt_sec</th>\n",
              "    </tr>\n",
              "  </thead>\n",
              "  <tbody>\n",
              "    <tr>\n",
              "      <th>0</th>\n",
              "      <td>1</td>\n",
              "      <td>0</td>\n",
              "      <td>0</td>\n",
              "      <td>1</td>\n",
              "      <td>1</td>\n",
              "      <td>1</td>\n",
              "      <td>1</td>\n",
              "      <td>1</td>\n",
              "      <td>2</td>\n",
              "      <td>1</td>\n",
              "      <td>857</td>\n",
              "      <td>851</td>\n",
              "      <td>1227</td>\n",
              "      <td>4</td>\n",
              "      <td>263</td>\n",
              "      <td>56</td>\n",
              "      <td>49</td>\n",
              "      <td>1</td>\n",
              "      <td>3</td>\n",
              "      <td>10</td>\n",
              "      <td>2</td>\n",
              "      <td>1</td>\n",
              "      <td>2</td>\n",
              "      <td>1147</td>\n",
              "      <td>839</td>\n",
              "      <td>1</td>\n",
              "      <td>5</td>\n",
              "      <td>263</td>\n",
              "      <td>393790</td>\n",
              "      <td>236865</td>\n",
              "      <td>854</td>\n",
              "      <td>853</td>\n",
              "      <td>824</td>\n",
              "      <td>744</td>\n",
              "      <td>847</td>\n",
              "      <td>847</td>\n",
              "      <td>824</td>\n",
              "      <td>744</td>\n",
              "      <td>1227</td>\n",
              "      <td>1227</td>\n",
              "      <td>1227</td>\n",
              "      <td>926</td>\n",
              "      <td>836</td>\n",
              "      <td>831</td>\n",
              "      <td>824</td>\n",
              "      <td>744</td>\n",
              "      <td>250</td>\n",
              "      <td>528</td>\n",
              "      <td>48</td>\n",
              "      <td>366</td>\n",
              "      <td>48</td>\n",
              "      <td>359</td>\n",
              "      <td>250</td>\n",
              "      <td>528</td>\n",
              "      <td>12</td>\n",
              "      <td>1</td>\n",
              "      <td>2</td>\n",
              "      <td>24</td>\n",
              "      <td>18</td>\n",
              "    </tr>\n",
              "    <tr>\n",
              "      <th>1</th>\n",
              "      <td>0</td>\n",
              "      <td>0</td>\n",
              "      <td>0</td>\n",
              "      <td>1</td>\n",
              "      <td>0</td>\n",
              "      <td>0</td>\n",
              "      <td>2</td>\n",
              "      <td>0</td>\n",
              "      <td>2</td>\n",
              "      <td>2</td>\n",
              "      <td>683</td>\n",
              "      <td>1086</td>\n",
              "      <td>662</td>\n",
              "      <td>2</td>\n",
              "      <td>258</td>\n",
              "      <td>263</td>\n",
              "      <td>49</td>\n",
              "      <td>1</td>\n",
              "      <td>3</td>\n",
              "      <td>5</td>\n",
              "      <td>1</td>\n",
              "      <td>1</td>\n",
              "      <td>2</td>\n",
              "      <td>1611</td>\n",
              "      <td>278</td>\n",
              "      <td>1</td>\n",
              "      <td>4</td>\n",
              "      <td>263</td>\n",
              "      <td>394058</td>\n",
              "      <td>236572</td>\n",
              "      <td>683</td>\n",
              "      <td>677</td>\n",
              "      <td>659</td>\n",
              "      <td>618</td>\n",
              "      <td>1086</td>\n",
              "      <td>1086</td>\n",
              "      <td>1053</td>\n",
              "      <td>926</td>\n",
              "      <td>662</td>\n",
              "      <td>660</td>\n",
              "      <td>659</td>\n",
              "      <td>618</td>\n",
              "      <td>276</td>\n",
              "      <td>274</td>\n",
              "      <td>274</td>\n",
              "      <td>216</td>\n",
              "      <td>250</td>\n",
              "      <td>523</td>\n",
              "      <td>250</td>\n",
              "      <td>528</td>\n",
              "      <td>48</td>\n",
              "      <td>359</td>\n",
              "      <td>250</td>\n",
              "      <td>528</td>\n",
              "      <td>12</td>\n",
              "      <td>17</td>\n",
              "      <td>5</td>\n",
              "      <td>42</td>\n",
              "      <td>53</td>\n",
              "    </tr>\n",
              "    <tr>\n",
              "      <th>2</th>\n",
              "      <td>1</td>\n",
              "      <td>0</td>\n",
              "      <td>0</td>\n",
              "      <td>1</td>\n",
              "      <td>1</td>\n",
              "      <td>1</td>\n",
              "      <td>2</td>\n",
              "      <td>3</td>\n",
              "      <td>2</td>\n",
              "      <td>1</td>\n",
              "      <td>514</td>\n",
              "      <td>790</td>\n",
              "      <td>1233</td>\n",
              "      <td>0</td>\n",
              "      <td>177</td>\n",
              "      <td>170</td>\n",
              "      <td>171</td>\n",
              "      <td>3</td>\n",
              "      <td>3</td>\n",
              "      <td>3</td>\n",
              "      <td>1</td>\n",
              "      <td>1</td>\n",
              "      <td>2</td>\n",
              "      <td>1817</td>\n",
              "      <td>490</td>\n",
              "      <td>3</td>\n",
              "      <td>4</td>\n",
              "      <td>177</td>\n",
              "      <td>1002061</td>\n",
              "      <td>704612</td>\n",
              "      <td>514</td>\n",
              "      <td>509</td>\n",
              "      <td>482</td>\n",
              "      <td>482</td>\n",
              "      <td>784</td>\n",
              "      <td>783</td>\n",
              "      <td>745</td>\n",
              "      <td>744</td>\n",
              "      <td>1227</td>\n",
              "      <td>1227</td>\n",
              "      <td>1227</td>\n",
              "      <td>926</td>\n",
              "      <td>490</td>\n",
              "      <td>490</td>\n",
              "      <td>482</td>\n",
              "      <td>482</td>\n",
              "      <td>169</td>\n",
              "      <td>453</td>\n",
              "      <td>169</td>\n",
              "      <td>451</td>\n",
              "      <td>169</td>\n",
              "      <td>452</td>\n",
              "      <td>169</td>\n",
              "      <td>453</td>\n",
              "      <td>12</td>\n",
              "      <td>10</td>\n",
              "      <td>23</td>\n",
              "      <td>33</td>\n",
              "      <td>41</td>\n",
              "    </tr>\n",
              "    <tr>\n",
              "      <th>3</th>\n",
              "      <td>1</td>\n",
              "      <td>0</td>\n",
              "      <td>0</td>\n",
              "      <td>1</td>\n",
              "      <td>1</td>\n",
              "      <td>1</td>\n",
              "      <td>1</td>\n",
              "      <td>2</td>\n",
              "      <td>2</td>\n",
              "      <td>5</td>\n",
              "      <td>114</td>\n",
              "      <td>181</td>\n",
              "      <td>175</td>\n",
              "      <td>4</td>\n",
              "      <td>177</td>\n",
              "      <td>170</td>\n",
              "      <td>171</td>\n",
              "      <td>3</td>\n",
              "      <td>3</td>\n",
              "      <td>5</td>\n",
              "      <td>1</td>\n",
              "      <td>1</td>\n",
              "      <td>2</td>\n",
              "      <td>101</td>\n",
              "      <td>150</td>\n",
              "      <td>5</td>\n",
              "      <td>3</td>\n",
              "      <td>177</td>\n",
              "      <td>1000813</td>\n",
              "      <td>704652</td>\n",
              "      <td>114</td>\n",
              "      <td>109</td>\n",
              "      <td>56</td>\n",
              "      <td>1</td>\n",
              "      <td>175</td>\n",
              "      <td>152</td>\n",
              "      <td>56</td>\n",
              "      <td>1</td>\n",
              "      <td>175</td>\n",
              "      <td>152</td>\n",
              "      <td>56</td>\n",
              "      <td>1</td>\n",
              "      <td>145</td>\n",
              "      <td>123</td>\n",
              "      <td>56</td>\n",
              "      <td>1</td>\n",
              "      <td>169</td>\n",
              "      <td>453</td>\n",
              "      <td>169</td>\n",
              "      <td>451</td>\n",
              "      <td>169</td>\n",
              "      <td>452</td>\n",
              "      <td>169</td>\n",
              "      <td>453</td>\n",
              "      <td>12</td>\n",
              "      <td>3</td>\n",
              "      <td>19</td>\n",
              "      <td>44</td>\n",
              "      <td>55</td>\n",
              "    </tr>\n",
              "    <tr>\n",
              "      <th>4</th>\n",
              "      <td>1</td>\n",
              "      <td>0</td>\n",
              "      <td>0</td>\n",
              "      <td>1</td>\n",
              "      <td>0</td>\n",
              "      <td>0</td>\n",
              "      <td>1</td>\n",
              "      <td>6</td>\n",
              "      <td>4</td>\n",
              "      <td>5</td>\n",
              "      <td>1082</td>\n",
              "      <td>1078</td>\n",
              "      <td>1056</td>\n",
              "      <td>5</td>\n",
              "      <td>178</td>\n",
              "      <td>177</td>\n",
              "      <td>4</td>\n",
              "      <td>3</td>\n",
              "      <td>1</td>\n",
              "      <td>5</td>\n",
              "      <td>1</td>\n",
              "      <td>1</td>\n",
              "      <td>1</td>\n",
              "      <td>985</td>\n",
              "      <td>1097</td>\n",
              "      <td>1</td>\n",
              "      <td>4</td>\n",
              "      <td>177</td>\n",
              "      <td>111146</td>\n",
              "      <td>704413</td>\n",
              "      <td>1078</td>\n",
              "      <td>1078</td>\n",
              "      <td>1053</td>\n",
              "      <td>926</td>\n",
              "      <td>1078</td>\n",
              "      <td>1078</td>\n",
              "      <td>1053</td>\n",
              "      <td>926</td>\n",
              "      <td>1056</td>\n",
              "      <td>1054</td>\n",
              "      <td>1053</td>\n",
              "      <td>926</td>\n",
              "      <td>1097</td>\n",
              "      <td>1094</td>\n",
              "      <td>1093</td>\n",
              "      <td>926</td>\n",
              "      <td>169</td>\n",
              "      <td>454</td>\n",
              "      <td>169</td>\n",
              "      <td>453</td>\n",
              "      <td>3</td>\n",
              "      <td>316</td>\n",
              "      <td>169</td>\n",
              "      <td>453</td>\n",
              "      <td>12</td>\n",
              "      <td>11</td>\n",
              "      <td>21</td>\n",
              "      <td>24</td>\n",
              "      <td>34</td>\n",
              "    </tr>\n",
              "  </tbody>\n",
              "</table>\n",
              "</div>\n",
              "      <button class=\"colab-df-convert\" onclick=\"convertToInteractive('df-fa28341a-44a7-433a-9ccf-8d43b758ec63')\"\n",
              "              title=\"Convert this dataframe to an interactive table.\"\n",
              "              style=\"display:none;\">\n",
              "        \n",
              "  <svg xmlns=\"http://www.w3.org/2000/svg\" height=\"24px\"viewBox=\"0 0 24 24\"\n",
              "       width=\"24px\">\n",
              "    <path d=\"M0 0h24v24H0V0z\" fill=\"none\"/>\n",
              "    <path d=\"M18.56 5.44l.94 2.06.94-2.06 2.06-.94-2.06-.94-.94-2.06-.94 2.06-2.06.94zm-11 1L8.5 8.5l.94-2.06 2.06-.94-2.06-.94L8.5 2.5l-.94 2.06-2.06.94zm10 10l.94 2.06.94-2.06 2.06-.94-2.06-.94-.94-2.06-.94 2.06-2.06.94z\"/><path d=\"M17.41 7.96l-1.37-1.37c-.4-.4-.92-.59-1.43-.59-.52 0-1.04.2-1.43.59L10.3 9.45l-7.72 7.72c-.78.78-.78 2.05 0 2.83L4 21.41c.39.39.9.59 1.41.59.51 0 1.02-.2 1.41-.59l7.78-7.78 2.81-2.81c.8-.78.8-2.07 0-2.86zM5.41 20L4 18.59l7.72-7.72 1.47 1.35L5.41 20z\"/>\n",
              "  </svg>\n",
              "      </button>\n",
              "      \n",
              "  <style>\n",
              "    .colab-df-container {\n",
              "      display:flex;\n",
              "      flex-wrap:wrap;\n",
              "      gap: 12px;\n",
              "    }\n",
              "\n",
              "    .colab-df-convert {\n",
              "      background-color: #E8F0FE;\n",
              "      border: none;\n",
              "      border-radius: 50%;\n",
              "      cursor: pointer;\n",
              "      display: none;\n",
              "      fill: #1967D2;\n",
              "      height: 32px;\n",
              "      padding: 0 0 0 0;\n",
              "      width: 32px;\n",
              "    }\n",
              "\n",
              "    .colab-df-convert:hover {\n",
              "      background-color: #E2EBFA;\n",
              "      box-shadow: 0px 1px 2px rgba(60, 64, 67, 0.3), 0px 1px 3px 1px rgba(60, 64, 67, 0.15);\n",
              "      fill: #174EA6;\n",
              "    }\n",
              "\n",
              "    [theme=dark] .colab-df-convert {\n",
              "      background-color: #3B4455;\n",
              "      fill: #D2E3FC;\n",
              "    }\n",
              "\n",
              "    [theme=dark] .colab-df-convert:hover {\n",
              "      background-color: #434B5C;\n",
              "      box-shadow: 0px 1px 3px 1px rgba(0, 0, 0, 0.15);\n",
              "      filter: drop-shadow(0px 1px 2px rgba(0, 0, 0, 0.3));\n",
              "      fill: #FFFFFF;\n",
              "    }\n",
              "  </style>\n",
              "\n",
              "      <script>\n",
              "        const buttonEl =\n",
              "          document.querySelector('#df-fa28341a-44a7-433a-9ccf-8d43b758ec63 button.colab-df-convert');\n",
              "        buttonEl.style.display =\n",
              "          google.colab.kernel.accessAllowed ? 'block' : 'none';\n",
              "\n",
              "        async function convertToInteractive(key) {\n",
              "          const element = document.querySelector('#df-fa28341a-44a7-433a-9ccf-8d43b758ec63');\n",
              "          const dataTable =\n",
              "            await google.colab.kernel.invokeFunction('convertToInteractive',\n",
              "                                                     [key], {});\n",
              "          if (!dataTable) return;\n",
              "\n",
              "          const docLinkHtml = 'Like what you see? Visit the ' +\n",
              "            '<a target=\"_blank\" href=https://colab.research.google.com/notebooks/data_table.ipynb>data table notebook</a>'\n",
              "            + ' to learn more about interactive tables.';\n",
              "          element.innerHTML = '';\n",
              "          dataTable['output_type'] = 'display_data';\n",
              "          await google.colab.output.renderOutput(dataTable, element);\n",
              "          const docLink = document.createElement('div');\n",
              "          docLink.innerHTML = docLinkHtml;\n",
              "          element.appendChild(docLink);\n",
              "        }\n",
              "      </script>\n",
              "    </div>\n",
              "  </div>\n",
              "  "
            ],
            "text/plain": [
              "   d_l_match_yn  d_m_match_yn  ...  contents_open_dt_minute  contents_open_dt_sec\n",
              "0             1             0  ...                       24                    18\n",
              "1             0             0  ...                       42                    53\n",
              "2             1             0  ...                       33                    41\n",
              "3             1             0  ...                       44                    55\n",
              "4             1             0  ...                       24                    34\n",
              "\n",
              "[5 rows x 59 columns]"
            ]
          },
          "metadata": {},
          "execution_count": 4
        }
      ]
    },
    {
      "cell_type": "markdown",
      "source": [
        "## 1. Train vs Test"
      ],
      "metadata": {
        "id": "6LiRhbtifdaG"
      }
    },
    {
      "cell_type": "code",
      "source": [
        "uniq_tr=pd.DataFrame(train.nunique())\n",
        "uniq_test=pd.DataFrame(test.nunique())\n",
        "\n",
        "uniq_all=pd.concat([uniq_tr,uniq_test],axis=1)"
      ],
      "metadata": {
        "id": "2rvz4Sbzf_n0"
      },
      "execution_count": 23,
      "outputs": []
    },
    {
      "cell_type": "code",
      "source": [
        "uniq_all.drop('target',inplace=True)"
      ],
      "metadata": {
        "id": "C59oq-JFgD42"
      },
      "execution_count": 25,
      "outputs": []
    },
    {
      "cell_type": "code",
      "source": [
        "uniq_all=uniq_all.astype(int)"
      ],
      "metadata": {
        "id": "uCAIVacxgOtE"
      },
      "execution_count": 37,
      "outputs": []
    },
    {
      "cell_type": "code",
      "source": [
        "uniq_all"
      ],
      "metadata": {
        "colab": {
          "base_uri": "https://localhost:8080/",
          "height": 1000
        },
        "id": "kOGontH9iVUE",
        "outputId": "823157a0-5923-422c-82f2-8668b850c8ec"
      },
      "execution_count": 40,
      "outputs": [
        {
          "output_type": "execute_result",
          "data": {
            "text/html": [
              "\n",
              "  <div id=\"df-4073cbd4-ecbc-42f7-92ea-bf9d9bb8f253\">\n",
              "    <div class=\"colab-df-container\">\n",
              "      <div>\n",
              "<style scoped>\n",
              "    .dataframe tbody tr th:only-of-type {\n",
              "        vertical-align: middle;\n",
              "    }\n",
              "\n",
              "    .dataframe tbody tr th {\n",
              "        vertical-align: top;\n",
              "    }\n",
              "\n",
              "    .dataframe thead th {\n",
              "        text-align: right;\n",
              "    }\n",
              "</style>\n",
              "<table border=\"1\" class=\"dataframe\">\n",
              "  <thead>\n",
              "    <tr style=\"text-align: right;\">\n",
              "      <th></th>\n",
              "      <th>0</th>\n",
              "      <th>0</th>\n",
              "    </tr>\n",
              "  </thead>\n",
              "  <tbody>\n",
              "    <tr>\n",
              "      <th>d_l_match_yn</th>\n",
              "      <td>2</td>\n",
              "      <td>2</td>\n",
              "    </tr>\n",
              "    <tr>\n",
              "      <th>d_m_match_yn</th>\n",
              "      <td>2</td>\n",
              "      <td>2</td>\n",
              "    </tr>\n",
              "    <tr>\n",
              "      <th>d_s_match_yn</th>\n",
              "      <td>2</td>\n",
              "      <td>2</td>\n",
              "    </tr>\n",
              "    <tr>\n",
              "      <th>h_l_match_yn</th>\n",
              "      <td>2</td>\n",
              "      <td>2</td>\n",
              "    </tr>\n",
              "    <tr>\n",
              "      <th>h_m_match_yn</th>\n",
              "      <td>2</td>\n",
              "      <td>2</td>\n",
              "    </tr>\n",
              "    <tr>\n",
              "      <th>h_s_match_yn</th>\n",
              "      <td>2</td>\n",
              "      <td>2</td>\n",
              "    </tr>\n",
              "    <tr>\n",
              "      <th>person_attribute_a</th>\n",
              "      <td>2</td>\n",
              "      <td>2</td>\n",
              "    </tr>\n",
              "    <tr>\n",
              "      <th>person_attribute_a_1</th>\n",
              "      <td>8</td>\n",
              "      <td>8</td>\n",
              "    </tr>\n",
              "    <tr>\n",
              "      <th>person_attribute_b</th>\n",
              "      <td>6</td>\n",
              "      <td>6</td>\n",
              "    </tr>\n",
              "    <tr>\n",
              "      <th>person_prefer_c</th>\n",
              "      <td>5</td>\n",
              "      <td>5</td>\n",
              "    </tr>\n",
              "    <tr>\n",
              "      <th>person_prefer_d_1</th>\n",
              "      <td>1093</td>\n",
              "      <td>955</td>\n",
              "    </tr>\n",
              "    <tr>\n",
              "      <th>person_prefer_d_2</th>\n",
              "      <td>1081</td>\n",
              "      <td>863</td>\n",
              "    </tr>\n",
              "    <tr>\n",
              "      <th>person_prefer_d_3</th>\n",
              "      <td>1043</td>\n",
              "      <td>775</td>\n",
              "    </tr>\n",
              "    <tr>\n",
              "      <th>person_prefer_e</th>\n",
              "      <td>12</td>\n",
              "      <td>12</td>\n",
              "    </tr>\n",
              "    <tr>\n",
              "      <th>person_prefer_h_1</th>\n",
              "      <td>279</td>\n",
              "      <td>271</td>\n",
              "    </tr>\n",
              "    <tr>\n",
              "      <th>person_prefer_h_2</th>\n",
              "      <td>279</td>\n",
              "      <td>274</td>\n",
              "    </tr>\n",
              "    <tr>\n",
              "      <th>person_prefer_h_3</th>\n",
              "      <td>279</td>\n",
              "      <td>270</td>\n",
              "    </tr>\n",
              "    <tr>\n",
              "      <th>contents_attribute_i</th>\n",
              "      <td>3</td>\n",
              "      <td>3</td>\n",
              "    </tr>\n",
              "    <tr>\n",
              "      <th>contents_attribute_a</th>\n",
              "      <td>3</td>\n",
              "      <td>3</td>\n",
              "    </tr>\n",
              "    <tr>\n",
              "      <th>contents_attribute_j_1</th>\n",
              "      <td>9</td>\n",
              "      <td>9</td>\n",
              "    </tr>\n",
              "    <tr>\n",
              "      <th>contents_attribute_j</th>\n",
              "      <td>2</td>\n",
              "      <td>2</td>\n",
              "    </tr>\n",
              "    <tr>\n",
              "      <th>contents_attribute_c</th>\n",
              "      <td>4</td>\n",
              "      <td>4</td>\n",
              "    </tr>\n",
              "    <tr>\n",
              "      <th>contents_attribute_k</th>\n",
              "      <td>2</td>\n",
              "      <td>2</td>\n",
              "    </tr>\n",
              "    <tr>\n",
              "      <th>contents_attribute_l</th>\n",
              "      <td>1752</td>\n",
              "      <td>1422</td>\n",
              "    </tr>\n",
              "    <tr>\n",
              "      <th>contents_attribute_d</th>\n",
              "      <td>1065</td>\n",
              "      <td>919</td>\n",
              "    </tr>\n",
              "    <tr>\n",
              "      <th>contents_attribute_m</th>\n",
              "      <td>5</td>\n",
              "      <td>5</td>\n",
              "    </tr>\n",
              "    <tr>\n",
              "      <th>contents_attribute_e</th>\n",
              "      <td>12</td>\n",
              "      <td>12</td>\n",
              "    </tr>\n",
              "    <tr>\n",
              "      <th>contents_attribute_h</th>\n",
              "      <td>250</td>\n",
              "      <td>247</td>\n",
              "    </tr>\n",
              "    <tr>\n",
              "      <th>person_rn</th>\n",
              "      <td>300177</td>\n",
              "      <td>34534</td>\n",
              "    </tr>\n",
              "    <tr>\n",
              "      <th>contents_rn</th>\n",
              "      <td>283359</td>\n",
              "      <td>31489</td>\n",
              "    </tr>\n",
              "    <tr>\n",
              "      <th>person_prefer_d_1_n</th>\n",
              "      <td>443</td>\n",
              "      <td>391</td>\n",
              "    </tr>\n",
              "    <tr>\n",
              "      <th>person_prefer_d_1_s</th>\n",
              "      <td>137</td>\n",
              "      <td>132</td>\n",
              "    </tr>\n",
              "    <tr>\n",
              "      <th>person_prefer_d_1_m</th>\n",
              "      <td>36</td>\n",
              "      <td>35</td>\n",
              "    </tr>\n",
              "    <tr>\n",
              "      <th>person_prefer_d_1_l</th>\n",
              "      <td>11</td>\n",
              "      <td>10</td>\n",
              "    </tr>\n",
              "    <tr>\n",
              "      <th>person_prefer_d_2_n</th>\n",
              "      <td>435</td>\n",
              "      <td>362</td>\n",
              "    </tr>\n",
              "    <tr>\n",
              "      <th>person_prefer_d_2_s</th>\n",
              "      <td>137</td>\n",
              "      <td>130</td>\n",
              "    </tr>\n",
              "    <tr>\n",
              "      <th>person_prefer_d_2_m</th>\n",
              "      <td>36</td>\n",
              "      <td>34</td>\n",
              "    </tr>\n",
              "    <tr>\n",
              "      <th>person_prefer_d_2_l</th>\n",
              "      <td>11</td>\n",
              "      <td>10</td>\n",
              "    </tr>\n",
              "    <tr>\n",
              "      <th>person_prefer_d_3_n</th>\n",
              "      <td>420</td>\n",
              "      <td>336</td>\n",
              "    </tr>\n",
              "    <tr>\n",
              "      <th>person_prefer_d_3_s</th>\n",
              "      <td>136</td>\n",
              "      <td>129</td>\n",
              "    </tr>\n",
              "    <tr>\n",
              "      <th>person_prefer_d_3_m</th>\n",
              "      <td>36</td>\n",
              "      <td>35</td>\n",
              "    </tr>\n",
              "    <tr>\n",
              "      <th>person_prefer_d_3_l</th>\n",
              "      <td>11</td>\n",
              "      <td>11</td>\n",
              "    </tr>\n",
              "    <tr>\n",
              "      <th>contents_attribute_d_n</th>\n",
              "      <td>431</td>\n",
              "      <td>373</td>\n",
              "    </tr>\n",
              "    <tr>\n",
              "      <th>contents_attribute_d_s</th>\n",
              "      <td>137</td>\n",
              "      <td>130</td>\n",
              "    </tr>\n",
              "    <tr>\n",
              "      <th>contents_attribute_d_m</th>\n",
              "      <td>36</td>\n",
              "      <td>34</td>\n",
              "    </tr>\n",
              "    <tr>\n",
              "      <th>contents_attribute_d_l</th>\n",
              "      <td>11</td>\n",
              "      <td>10</td>\n",
              "    </tr>\n",
              "    <tr>\n",
              "      <th>person_prefer_h_1_l</th>\n",
              "      <td>19</td>\n",
              "      <td>19</td>\n",
              "    </tr>\n",
              "    <tr>\n",
              "      <th>person_prefer_h_1_m</th>\n",
              "      <td>246</td>\n",
              "      <td>238</td>\n",
              "    </tr>\n",
              "    <tr>\n",
              "      <th>person_prefer_h_2_l</th>\n",
              "      <td>19</td>\n",
              "      <td>19</td>\n",
              "    </tr>\n",
              "    <tr>\n",
              "      <th>person_prefer_h_2_m</th>\n",
              "      <td>246</td>\n",
              "      <td>241</td>\n",
              "    </tr>\n",
              "    <tr>\n",
              "      <th>person_prefer_h_3_l</th>\n",
              "      <td>19</td>\n",
              "      <td>19</td>\n",
              "    </tr>\n",
              "    <tr>\n",
              "      <th>person_prefer_h_3_m</th>\n",
              "      <td>246</td>\n",
              "      <td>237</td>\n",
              "    </tr>\n",
              "    <tr>\n",
              "      <th>contents_attribute_h_l</th>\n",
              "      <td>17</td>\n",
              "      <td>17</td>\n",
              "    </tr>\n",
              "    <tr>\n",
              "      <th>contents_attribute_h_m</th>\n",
              "      <td>228</td>\n",
              "      <td>225</td>\n",
              "    </tr>\n",
              "    <tr>\n",
              "      <th>contents_open_dt_month</th>\n",
              "      <td>11</td>\n",
              "      <td>1</td>\n",
              "    </tr>\n",
              "    <tr>\n",
              "      <th>contents_open_dt_day</th>\n",
              "      <td>31</td>\n",
              "      <td>31</td>\n",
              "    </tr>\n",
              "    <tr>\n",
              "      <th>contents_open_dt_hour</th>\n",
              "      <td>24</td>\n",
              "      <td>24</td>\n",
              "    </tr>\n",
              "    <tr>\n",
              "      <th>contents_open_dt_minute</th>\n",
              "      <td>60</td>\n",
              "      <td>60</td>\n",
              "    </tr>\n",
              "    <tr>\n",
              "      <th>contents_open_dt_sec</th>\n",
              "      <td>60</td>\n",
              "      <td>60</td>\n",
              "    </tr>\n",
              "  </tbody>\n",
              "</table>\n",
              "</div>\n",
              "      <button class=\"colab-df-convert\" onclick=\"convertToInteractive('df-4073cbd4-ecbc-42f7-92ea-bf9d9bb8f253')\"\n",
              "              title=\"Convert this dataframe to an interactive table.\"\n",
              "              style=\"display:none;\">\n",
              "        \n",
              "  <svg xmlns=\"http://www.w3.org/2000/svg\" height=\"24px\"viewBox=\"0 0 24 24\"\n",
              "       width=\"24px\">\n",
              "    <path d=\"M0 0h24v24H0V0z\" fill=\"none\"/>\n",
              "    <path d=\"M18.56 5.44l.94 2.06.94-2.06 2.06-.94-2.06-.94-.94-2.06-.94 2.06-2.06.94zm-11 1L8.5 8.5l.94-2.06 2.06-.94-2.06-.94L8.5 2.5l-.94 2.06-2.06.94zm10 10l.94 2.06.94-2.06 2.06-.94-2.06-.94-.94-2.06-.94 2.06-2.06.94z\"/><path d=\"M17.41 7.96l-1.37-1.37c-.4-.4-.92-.59-1.43-.59-.52 0-1.04.2-1.43.59L10.3 9.45l-7.72 7.72c-.78.78-.78 2.05 0 2.83L4 21.41c.39.39.9.59 1.41.59.51 0 1.02-.2 1.41-.59l7.78-7.78 2.81-2.81c.8-.78.8-2.07 0-2.86zM5.41 20L4 18.59l7.72-7.72 1.47 1.35L5.41 20z\"/>\n",
              "  </svg>\n",
              "      </button>\n",
              "      \n",
              "  <style>\n",
              "    .colab-df-container {\n",
              "      display:flex;\n",
              "      flex-wrap:wrap;\n",
              "      gap: 12px;\n",
              "    }\n",
              "\n",
              "    .colab-df-convert {\n",
              "      background-color: #E8F0FE;\n",
              "      border: none;\n",
              "      border-radius: 50%;\n",
              "      cursor: pointer;\n",
              "      display: none;\n",
              "      fill: #1967D2;\n",
              "      height: 32px;\n",
              "      padding: 0 0 0 0;\n",
              "      width: 32px;\n",
              "    }\n",
              "\n",
              "    .colab-df-convert:hover {\n",
              "      background-color: #E2EBFA;\n",
              "      box-shadow: 0px 1px 2px rgba(60, 64, 67, 0.3), 0px 1px 3px 1px rgba(60, 64, 67, 0.15);\n",
              "      fill: #174EA6;\n",
              "    }\n",
              "\n",
              "    [theme=dark] .colab-df-convert {\n",
              "      background-color: #3B4455;\n",
              "      fill: #D2E3FC;\n",
              "    }\n",
              "\n",
              "    [theme=dark] .colab-df-convert:hover {\n",
              "      background-color: #434B5C;\n",
              "      box-shadow: 0px 1px 3px 1px rgba(0, 0, 0, 0.15);\n",
              "      filter: drop-shadow(0px 1px 2px rgba(0, 0, 0, 0.3));\n",
              "      fill: #FFFFFF;\n",
              "    }\n",
              "  </style>\n",
              "\n",
              "      <script>\n",
              "        const buttonEl =\n",
              "          document.querySelector('#df-4073cbd4-ecbc-42f7-92ea-bf9d9bb8f253 button.colab-df-convert');\n",
              "        buttonEl.style.display =\n",
              "          google.colab.kernel.accessAllowed ? 'block' : 'none';\n",
              "\n",
              "        async function convertToInteractive(key) {\n",
              "          const element = document.querySelector('#df-4073cbd4-ecbc-42f7-92ea-bf9d9bb8f253');\n",
              "          const dataTable =\n",
              "            await google.colab.kernel.invokeFunction('convertToInteractive',\n",
              "                                                     [key], {});\n",
              "          if (!dataTable) return;\n",
              "\n",
              "          const docLinkHtml = 'Like what you see? Visit the ' +\n",
              "            '<a target=\"_blank\" href=https://colab.research.google.com/notebooks/data_table.ipynb>data table notebook</a>'\n",
              "            + ' to learn more about interactive tables.';\n",
              "          element.innerHTML = '';\n",
              "          dataTable['output_type'] = 'display_data';\n",
              "          await google.colab.output.renderOutput(dataTable, element);\n",
              "          const docLink = document.createElement('div');\n",
              "          docLink.innerHTML = docLinkHtml;\n",
              "          element.appendChild(docLink);\n",
              "        }\n",
              "      </script>\n",
              "    </div>\n",
              "  </div>\n",
              "  "
            ],
            "text/plain": [
              "                              0      0\n",
              "d_l_match_yn                  2      2\n",
              "d_m_match_yn                  2      2\n",
              "d_s_match_yn                  2      2\n",
              "h_l_match_yn                  2      2\n",
              "h_m_match_yn                  2      2\n",
              "h_s_match_yn                  2      2\n",
              "person_attribute_a            2      2\n",
              "person_attribute_a_1          8      8\n",
              "person_attribute_b            6      6\n",
              "person_prefer_c               5      5\n",
              "person_prefer_d_1          1093    955\n",
              "person_prefer_d_2          1081    863\n",
              "person_prefer_d_3          1043    775\n",
              "person_prefer_e              12     12\n",
              "person_prefer_h_1           279    271\n",
              "person_prefer_h_2           279    274\n",
              "person_prefer_h_3           279    270\n",
              "contents_attribute_i          3      3\n",
              "contents_attribute_a          3      3\n",
              "contents_attribute_j_1        9      9\n",
              "contents_attribute_j          2      2\n",
              "contents_attribute_c          4      4\n",
              "contents_attribute_k          2      2\n",
              "contents_attribute_l       1752   1422\n",
              "contents_attribute_d       1065    919\n",
              "contents_attribute_m          5      5\n",
              "contents_attribute_e         12     12\n",
              "contents_attribute_h        250    247\n",
              "person_rn                300177  34534\n",
              "contents_rn              283359  31489\n",
              "person_prefer_d_1_n         443    391\n",
              "person_prefer_d_1_s         137    132\n",
              "person_prefer_d_1_m          36     35\n",
              "person_prefer_d_1_l          11     10\n",
              "person_prefer_d_2_n         435    362\n",
              "person_prefer_d_2_s         137    130\n",
              "person_prefer_d_2_m          36     34\n",
              "person_prefer_d_2_l          11     10\n",
              "person_prefer_d_3_n         420    336\n",
              "person_prefer_d_3_s         136    129\n",
              "person_prefer_d_3_m          36     35\n",
              "person_prefer_d_3_l          11     11\n",
              "contents_attribute_d_n      431    373\n",
              "contents_attribute_d_s      137    130\n",
              "contents_attribute_d_m       36     34\n",
              "contents_attribute_d_l       11     10\n",
              "person_prefer_h_1_l          19     19\n",
              "person_prefer_h_1_m         246    238\n",
              "person_prefer_h_2_l          19     19\n",
              "person_prefer_h_2_m         246    241\n",
              "person_prefer_h_3_l          19     19\n",
              "person_prefer_h_3_m         246    237\n",
              "contents_attribute_h_l       17     17\n",
              "contents_attribute_h_m      228    225\n",
              "contents_open_dt_month       11      1\n",
              "contents_open_dt_day         31     31\n",
              "contents_open_dt_hour        24     24\n",
              "contents_open_dt_minute      60     60\n",
              "contents_open_dt_sec         60     60"
            ]
          },
          "metadata": {},
          "execution_count": 40
        }
      ]
    },
    {
      "cell_type": "code",
      "source": [
        "len(train.columns)"
      ],
      "metadata": {
        "colab": {
          "base_uri": "https://localhost:8080/"
        },
        "id": "3dF97hslpj5u",
        "outputId": "4e770600-454a-4461-c9c8-c0f3ab76fd36"
      },
      "execution_count": 49,
      "outputs": [
        {
          "output_type": "execute_result",
          "data": {
            "text/plain": [
              "60"
            ]
          },
          "metadata": {},
          "execution_count": 49
        }
      ]
    },
    {
      "cell_type": "code",
      "source": [
        "#train\n",
        "match_cols_train= train[['d_l_match_yn', 'd_m_match_yn', 'd_s_match_yn', 'h_l_match_yn',\n",
        "       'h_m_match_yn', 'h_s_match_yn']]\n",
        "person_attribute_cols_train= train[['person_attribute_a',\n",
        "       'person_attribute_a_1', 'person_attribute_b']]\n",
        "\n",
        "person_prefer_cols_train= train[['person_prefer_c',\n",
        "       'person_prefer_d_1', 'person_prefer_d_2', 'person_prefer_d_3',\n",
        "       'person_prefer_e', 'person_prefer_h_1', 'person_prefer_h_2',\n",
        "       'person_prefer_h_3','person_prefer_d_1_n', 'person_prefer_d_1_s', 'person_prefer_d_1_m',\n",
        "       'person_prefer_d_1_l', 'person_prefer_d_2_n', 'person_prefer_d_2_s',\n",
        "       'person_prefer_d_2_m', 'person_prefer_d_2_l', 'person_prefer_d_3_n',\n",
        "       'person_prefer_d_3_s', 'person_prefer_d_3_m', 'person_prefer_d_3_l', 'person_prefer_h_1_l', 'person_prefer_h_1_m', 'person_prefer_h_2_l',\n",
        "       'person_prefer_h_2_m', 'person_prefer_h_3_l', 'person_prefer_h_3_m']]\n",
        "\n",
        "contents_attribute_cols_train= train[['contents_attribute_i', 'contents_attribute_a',\n",
        "       'contents_attribute_j_1', 'contents_attribute_j',\n",
        "       'contents_attribute_c', 'contents_attribute_k', 'contents_attribute_l',\n",
        "       'contents_attribute_d', 'contents_attribute_m', 'contents_attribute_e',\n",
        "       'contents_attribute_h', 'contents_attribute_d_n', 'contents_attribute_d_s',\n",
        "       'contents_attribute_d_m', 'contents_attribute_d_l', 'contents_attribute_h_l', 'contents_attribute_h_m']]\n",
        "\n",
        "rn_train=train[['person_rn', 'contents_rn', 'target']]\n",
        "\n",
        "time_train=train[['contents_open_dt_month', 'contents_open_dt_day',\n",
        "       'contents_open_dt_hour', 'contents_open_dt_minute',\n",
        "       'contents_open_dt_sec']]\n",
        "\n",
        "\n",
        "\n",
        "#test\n",
        "match_cols_test= test[['d_l_match_yn', 'd_m_match_yn', 'd_s_match_yn', 'h_l_match_yn',\n",
        "       'h_m_match_yn', 'h_s_match_yn']]\n",
        "\n",
        "person_attribute_cols_test= test[['person_attribute_a',\n",
        "       'person_attribute_a_1', 'person_attribute_b']]\n",
        "\n",
        "person_prefer_cols_test= test[['person_prefer_c',\n",
        "       'person_prefer_d_1', 'person_prefer_d_2', 'person_prefer_d_3',\n",
        "       'person_prefer_e', 'person_prefer_h_1', 'person_prefer_h_2',\n",
        "       'person_prefer_h_3','person_prefer_d_1_n', 'person_prefer_d_1_s', 'person_prefer_d_1_m',\n",
        "       'person_prefer_d_1_l', 'person_prefer_d_2_n', 'person_prefer_d_2_s',\n",
        "       'person_prefer_d_2_m', 'person_prefer_d_2_l', 'person_prefer_d_3_n',\n",
        "       'person_prefer_d_3_s', 'person_prefer_d_3_m', 'person_prefer_d_3_l', 'person_prefer_h_1_l', 'person_prefer_h_1_m', 'person_prefer_h_2_l',\n",
        "       'person_prefer_h_2_m', 'person_prefer_h_3_l', 'person_prefer_h_3_m']]\n",
        "\n",
        "contents_attribute_cols_test= test[['contents_attribute_i', 'contents_attribute_a',\n",
        "       'contents_attribute_j_1', 'contents_attribute_j',\n",
        "       'contents_attribute_c', 'contents_attribute_k', 'contents_attribute_l',\n",
        "       'contents_attribute_d', 'contents_attribute_m', 'contents_attribute_e',\n",
        "       'contents_attribute_h', 'contents_attribute_d_n', 'contents_attribute_d_s',\n",
        "       'contents_attribute_d_m', 'contents_attribute_d_l', 'contents_attribute_h_l', 'contents_attribute_h_m']]\n",
        "\n",
        "\n",
        "rn_test=test[['person_rn', 'contents_rn']]\n",
        "\n",
        "time_test=test[['contents_open_dt_month', 'contents_open_dt_day',\n",
        "       'contents_open_dt_hour', 'contents_open_dt_minute',\n",
        "       'contents_open_dt_sec']]"
      ],
      "metadata": {
        "id": "cPUGVxYBqJb6"
      },
      "execution_count": 140,
      "outputs": []
    },
    {
      "cell_type": "markdown",
      "source": [
        "> Match 항목들은 train, test 모두 0,1로 되어있기 때문에 나머지 col 확인해보자"
      ],
      "metadata": {
        "id": "KsQAMIlZpw4s"
      }
    },
    {
      "cell_type": "markdown",
      "source": [
        "# Person_attributes\n",
        "\n",
        "dummy 가능 : 다 가능\n",
        "\n",
        "그치만 person_attribute_a 는 unique 값 2개라서 제외"
      ],
      "metadata": {
        "id": "-KiGTziVqEX5"
      }
    },
    {
      "cell_type": "code",
      "source": [
        "def comparison(df1, df2):\n",
        "  for col in df1:\n",
        "    print(df[col].unique())\n",
        "  print('----------------------')\n",
        "  for col in df2:\n",
        "    print(df[col].unique())"
      ],
      "metadata": {
        "id": "6_FJv4UQwdtH"
      },
      "execution_count": 86,
      "outputs": []
    },
    {
      "cell_type": "code",
      "source": [
        "comparison(person_attribute_cols_train, person_attribute_cols_test)\n",
        "# person attribute에는 같은 unique 값 가짐 "
      ],
      "metadata": {
        "colab": {
          "base_uri": "https://localhost:8080/"
        },
        "id": "UUz5aQPowtd_",
        "outputId": "4a2cd01d-2feb-43d4-ba4f-903797edf972"
      },
      "execution_count": 87,
      "outputs": [
        {
          "output_type": "stream",
          "name": "stdout",
          "text": [
            "[1 2]\n",
            "[1 0 3 2 6 7 4 5]\n",
            "[2 4 3 5 1 0]\n",
            "----------------------\n",
            "[1 2]\n",
            "[1 0 3 2 6 7 4 5]\n",
            "[2 4 3 5 1 0]\n"
          ]
        }
      ]
    },
    {
      "cell_type": "markdown",
      "source": [
        "# person prefer\n",
        "\n",
        "더미 가능 : c,e d3l, h1l,h2l,h3l"
      ],
      "metadata": {
        "id": "yJAEM9gdw8Ss"
      }
    },
    {
      "cell_type": "markdown",
      "source": [
        "![image.png](data:image/png;base64,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)"
      ],
      "metadata": {
        "id": "_AzILWRpxlQV"
      }
    },
    {
      "cell_type": "markdown",
      "source": [
        "> d_1, d_2, d_3, h_1, h_2, h_3 은 그냥 봐도 차이가 있기 때문에 c,e를 보자.\n",
        "\n",
        "분포도 비슷하고, col안에 있는 고유 값들이 동일하다."
      ],
      "metadata": {
        "id": "Q7qKtDJ1xnYL"
      }
    },
    {
      "cell_type": "code",
      "source": [
        "plt.figure(figsize=(12,12))\n",
        "\n",
        "plt.subplot(221)\n",
        "sns.countplot(train.person_prefer_c)\n",
        "\n",
        "plt.subplot(222)\n",
        "sns.countplot(test.person_prefer_c)\n",
        "\n",
        "plt.subplot(223)\n",
        "sns.countplot(train.person_prefer_e)\n",
        "\n",
        "plt.subplot(224)\n",
        "sns.countplot(test.person_prefer_e)"
      ],
      "metadata": {
        "colab": {
          "base_uri": "https://localhost:8080/",
          "height": 901
        },
        "id": "3kUUKqCfxvKg",
        "outputId": "e0a7af9d-1d44-4fc0-d50e-e71c0900ccd9"
      },
      "execution_count": 95,
      "outputs": [
        {
          "output_type": "stream",
          "name": "stderr",
          "text": [
            "/usr/local/lib/python3.7/dist-packages/seaborn/_decorators.py:43: FutureWarning: Pass the following variable as a keyword arg: x. From version 0.12, the only valid positional argument will be `data`, and passing other arguments without an explicit keyword will result in an error or misinterpretation.\n",
            "  FutureWarning\n",
            "/usr/local/lib/python3.7/dist-packages/seaborn/_decorators.py:43: FutureWarning: Pass the following variable as a keyword arg: x. From version 0.12, the only valid positional argument will be `data`, and passing other arguments without an explicit keyword will result in an error or misinterpretation.\n",
            "  FutureWarning\n",
            "/usr/local/lib/python3.7/dist-packages/seaborn/_decorators.py:43: FutureWarning: Pass the following variable as a keyword arg: x. From version 0.12, the only valid positional argument will be `data`, and passing other arguments without an explicit keyword will result in an error or misinterpretation.\n",
            "  FutureWarning\n",
            "/usr/local/lib/python3.7/dist-packages/seaborn/_decorators.py:43: FutureWarning: Pass the following variable as a keyword arg: x. From version 0.12, the only valid positional argument will be `data`, and passing other arguments without an explicit keyword will result in an error or misinterpretation.\n",
            "  FutureWarning\n"
          ]
        },
        {
          "output_type": "execute_result",
          "data": {
            "text/plain": [
              "<matplotlib.axes._subplots.AxesSubplot at 0x7f9d0b4b87d0>"
            ]
          },
          "metadata": {},
          "execution_count": 95
        },
        {
          "output_type": "display_data",
          "data": {
            "image/png": "[encoded data removed]",
            "text/plain": [
              "<Figure size 864x864 with 4 Axes>"
            ]
          },
          "metadata": {
            "needs_background": "light"
          }
        }
      ]
    },
    {
      "cell_type": "markdown",
      "source": [
        "![image.png](data:image/png;base64,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)"
      ],
      "metadata": {
        "id": "Y7EiMrZ_ygR1"
      }
    },
    {
      "cell_type": "markdown",
      "source": [
        "> 한개 아니면 두개씩 차이나는 경우는 왜 때문일까?\n",
        "\n",
        ">"
      ],
      "metadata": {
        "id": "C2J2yNpj18sW"
      }
    },
    {
      "cell_type": "code",
      "source": [
        "ppdl= ['person_prefer_d_1_l','person_prefer_d_2_l','person_prefer_d_3_l']\n",
        "def plot_ppld(df):\n",
        "  count=1\n",
        "  plt.subplots(figsize=(10,10))\n",
        "  for col in df[ppdl]:\n",
        "    plt.subplot(3,1,count)\n",
        "    sns.countplot(df[col])\n",
        "    count+=1"
      ],
      "metadata": {
        "id": "PAaxKRWQ2AB9"
      },
      "execution_count": 114,
      "outputs": []
    },
    {
      "cell_type": "code",
      "source": [
        "plot_ppld(train)"
      ],
      "metadata": {
        "colab": {
          "base_uri": "https://localhost:8080/",
          "height": 736
        },
        "id": "42F-zGnI2wkw",
        "outputId": "369e168b-f4d8-47de-d917-d27752e6f8cf"
      },
      "execution_count": 115,
      "outputs": [
        {
          "output_type": "stream",
          "name": "stderr",
          "text": [
            "/usr/local/lib/python3.7/dist-packages/seaborn/_decorators.py:43: FutureWarning: Pass the following variable as a keyword arg: x. From version 0.12, the only valid positional argument will be `data`, and passing other arguments without an explicit keyword will result in an error or misinterpretation.\n",
            "  FutureWarning\n",
            "/usr/local/lib/python3.7/dist-packages/seaborn/_decorators.py:43: FutureWarning: Pass the following variable as a keyword arg: x. From version 0.12, the only valid positional argument will be `data`, and passing other arguments without an explicit keyword will result in an error or misinterpretation.\n",
            "  FutureWarning\n",
            "/usr/local/lib/python3.7/dist-packages/seaborn/_decorators.py:43: FutureWarning: Pass the following variable as a keyword arg: x. From version 0.12, the only valid positional argument will be `data`, and passing other arguments without an explicit keyword will result in an error or misinterpretation.\n",
            "  FutureWarning\n"
          ]
        },
        {
          "output_type": "display_data",
          "data": {
            "image/png": "[encoded data removed]",
            "text/plain": [
              "<Figure size 720x720 with 3 Axes>"
            ]
          },
          "metadata": {
            "needs_background": "light"
          }
        }
      ]
    },
    {
      "cell_type": "code",
      "source": [
        "plot_ppld(test)"
      ],
      "metadata": {
        "colab": {
          "base_uri": "https://localhost:8080/",
          "height": 736
        },
        "id": "1pgFShLr2yDi",
        "outputId": "570ebcb6-51b6-4721-b2a9-9c55871cefea"
      },
      "execution_count": 116,
      "outputs": [
        {
          "output_type": "stream",
          "name": "stderr",
          "text": [
            "/usr/local/lib/python3.7/dist-packages/seaborn/_decorators.py:43: FutureWarning: Pass the following variable as a keyword arg: x. From version 0.12, the only valid positional argument will be `data`, and passing other arguments without an explicit keyword will result in an error or misinterpretation.\n",
            "  FutureWarning\n",
            "/usr/local/lib/python3.7/dist-packages/seaborn/_decorators.py:43: FutureWarning: Pass the following variable as a keyword arg: x. From version 0.12, the only valid positional argument will be `data`, and passing other arguments without an explicit keyword will result in an error or misinterpretation.\n",
            "  FutureWarning\n",
            "/usr/local/lib/python3.7/dist-packages/seaborn/_decorators.py:43: FutureWarning: Pass the following variable as a keyword arg: x. From version 0.12, the only valid positional argument will be `data`, and passing other arguments without an explicit keyword will result in an error or misinterpretation.\n",
            "  FutureWarning\n"
          ]
        },
        {
          "output_type": "display_data",
          "data": {
            "image/png": "[encoded data removed]",
            "text/plain": [
              "<Figure size 720x720 with 3 Axes>"
            ]
          },
          "metadata": {
            "needs_background": "light"
          }
        }
      ]
    },
    {
      "cell_type": "markdown",
      "source": [
        "![image.png](data:image/png;base64,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)"
      ],
      "metadata": {
        "id": "8sk1KqiJ4CB4"
      }
    },
    {
      "cell_type": "code",
      "source": [
        "pphl= ['person_prefer_h_1_l','person_prefer_h_2_l','person_prefer_h_3_l']\n",
        "def plot_pphl(df1):\n",
        "  count=1\n",
        "  plt.subplots(figsize=(10,10))\n",
        "  for col in df[pphl]:\n",
        "    plt.subplot(3,1,count)\n",
        "    sns.countplot(df1[col])\n",
        "    count+=1"
      ],
      "metadata": {
        "id": "jdOitFgW4Dgv"
      },
      "execution_count": 136,
      "outputs": []
    },
    {
      "cell_type": "code",
      "source": [
        "plot_pphl(train)"
      ],
      "metadata": {
        "id": "5sjnzXjz4QKp"
      },
      "execution_count": null,
      "outputs": []
    },
    {
      "cell_type": "code",
      "source": [
        "plot_pphl(test)"
      ],
      "metadata": {
        "id": "21HVsGz76L6L"
      },
      "execution_count": null,
      "outputs": []
    },
    {
      "cell_type": "markdown",
      "source": [
        "#contents attribute"
      ],
      "metadata": {
        "id": "LoMeT4B_6zTx"
      }
    },
    {
      "cell_type": "markdown",
      "source": [
        "![image.png](data:image/png;base64,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)"
      ],
      "metadata": {
        "id": "HB0p0Lki8J78"
      }
    },
    {
      "cell_type": "markdown",
      "source": [
        "> i,a,j_1,j,c,k,d,m > dummy 가능"
      ],
      "metadata": {
        "id": "mLNgLhUl9BiW"
      }
    },
    {
      "cell_type": "markdown",
      "source": [
        "#contents attribute plots"
      ],
      "metadata": {
        "id": "_fpaKZq09LNn"
      }
    },
    {
      "cell_type": "code",
      "source": [
        "plt.subplot(211)\n",
        "sns.countplot(train.contents_attribute_i)\n",
        "\n",
        "plt.subplot(212)\n",
        "sns.countplot(test.contents_attribute_i)"
      ],
      "metadata": {
        "colab": {
          "base_uri": "https://localhost:8080/",
          "height": 392
        },
        "id": "OCkzB6v-8LDo",
        "outputId": "11a30108-8d14-4328-ab8b-709351a4d88b"
      },
      "execution_count": 147,
      "outputs": [
        {
          "output_type": "stream",
          "name": "stderr",
          "text": [
            "/usr/local/lib/python3.7/dist-packages/seaborn/_decorators.py:43: FutureWarning: Pass the following variable as a keyword arg: x. From version 0.12, the only valid positional argument will be `data`, and passing other arguments without an explicit keyword will result in an error or misinterpretation.\n",
            "  FutureWarning\n",
            "/usr/local/lib/python3.7/dist-packages/seaborn/_decorators.py:43: FutureWarning: Pass the following variable as a keyword arg: x. From version 0.12, the only valid positional argument will be `data`, and passing other arguments without an explicit keyword will result in an error or misinterpretation.\n",
            "  FutureWarning\n"
          ]
        },
        {
          "output_type": "execute_result",
          "data": {
            "text/plain": [
              "<matplotlib.axes._subplots.AxesSubplot at 0x7f9cf8d5f810>"
            ]
          },
          "metadata": {},
          "execution_count": 147
        },
        {
          "output_type": "display_data",
          "data": {
            "image/png": "[encoded data removed]",
            "text/plain": [
              "<Figure size 432x288 with 2 Axes>"
            ]
          },
          "metadata": {
            "needs_background": "light"
          }
        }
      ]
    },
    {
      "cell_type": "code",
      "source": [
        "plt.subplot(211)\n",
        "sns.countplot(train.contents_attribute_a)\n",
        "\n",
        "plt.subplot(212)\n",
        "sns.countplot(test.contents_attribute_a)"
      ],
      "metadata": {
        "colab": {
          "base_uri": "https://localhost:8080/",
          "height": 392
        },
        "id": "t6Yjn-vo8c2n",
        "outputId": "e6281b4f-b937-47e9-a7c9-10aa34a54322"
      },
      "execution_count": 148,
      "outputs": [
        {
          "output_type": "stream",
          "name": "stderr",
          "text": [
            "/usr/local/lib/python3.7/dist-packages/seaborn/_decorators.py:43: FutureWarning: Pass the following variable as a keyword arg: x. From version 0.12, the only valid positional argument will be `data`, and passing other arguments without an explicit keyword will result in an error or misinterpretation.\n",
            "  FutureWarning\n",
            "/usr/local/lib/python3.7/dist-packages/seaborn/_decorators.py:43: FutureWarning: Pass the following variable as a keyword arg: x. From version 0.12, the only valid positional argument will be `data`, and passing other arguments without an explicit keyword will result in an error or misinterpretation.\n",
            "  FutureWarning\n"
          ]
        },
        {
          "output_type": "execute_result",
          "data": {
            "text/plain": [
              "<matplotlib.axes._subplots.AxesSubplot at 0x7f9cf8ca7f90>"
            ]
          },
          "metadata": {},
          "execution_count": 148
        },
        {
          "output_type": "display_data",
          "data": {
            "image/png": "[encoded data removed]",
            "text/plain": [
              "<Figure size 432x288 with 2 Axes>"
            ]
          },
          "metadata": {
            "needs_background": "light"
          }
        }
      ]
    },
    {
      "cell_type": "code",
      "source": [
        "plt.subplot(211)\n",
        "sns.countplot(train.contents_attribute_j)\n",
        "\n",
        "plt.subplot(212)\n",
        "sns.countplot(test.contents_attribute_j)"
      ],
      "metadata": {
        "colab": {
          "base_uri": "https://localhost:8080/",
          "height": 396
        },
        "id": "iYYglMAc8g2e",
        "outputId": "b42644e9-a839-4760-96c9-ecb7b8e385f2"
      },
      "execution_count": 149,
      "outputs": [
        {
          "output_type": "stream",
          "name": "stderr",
          "text": [
            "/usr/local/lib/python3.7/dist-packages/seaborn/_decorators.py:43: FutureWarning: Pass the following variable as a keyword arg: x. From version 0.12, the only valid positional argument will be `data`, and passing other arguments without an explicit keyword will result in an error or misinterpretation.\n",
            "  FutureWarning\n",
            "/usr/local/lib/python3.7/dist-packages/seaborn/_decorators.py:43: FutureWarning: Pass the following variable as a keyword arg: x. From version 0.12, the only valid positional argument will be `data`, and passing other arguments without an explicit keyword will result in an error or misinterpretation.\n",
            "  FutureWarning\n"
          ]
        },
        {
          "output_type": "execute_result",
          "data": {
            "text/plain": [
              "<matplotlib.axes._subplots.AxesSubplot at 0x7f9cf8cb10d0>"
            ]
          },
          "metadata": {},
          "execution_count": 149
        },
        {
          "output_type": "display_data",
          "data": {
            "image/png": "[encoded data removed]",
            "text/plain": [
              "<Figure size 432x288 with 2 Axes>"
            ]
          },
          "metadata": {
            "needs_background": "light"
          }
        }
      ]
    },
    {
      "cell_type": "code",
      "source": [
        "plt.subplot(211)\n",
        "sns.countplot(train.contents_attribute_j_1)\n",
        "\n",
        "plt.subplot(212)\n",
        "sns.countplot(test.contents_attribute_j_1)"
      ],
      "metadata": {
        "colab": {
          "base_uri": "https://localhost:8080/",
          "height": 392
        },
        "id": "N9LhR3rK8jc-",
        "outputId": "b2f2f5a3-6335-4588-b58e-a2a1dbb04a06"
      },
      "execution_count": 150,
      "outputs": [
        {
          "output_type": "stream",
          "name": "stderr",
          "text": [
            "/usr/local/lib/python3.7/dist-packages/seaborn/_decorators.py:43: FutureWarning: Pass the following variable as a keyword arg: x. From version 0.12, the only valid positional argument will be `data`, and passing other arguments without an explicit keyword will result in an error or misinterpretation.\n",
            "  FutureWarning\n",
            "/usr/local/lib/python3.7/dist-packages/seaborn/_decorators.py:43: FutureWarning: Pass the following variable as a keyword arg: x. From version 0.12, the only valid positional argument will be `data`, and passing other arguments without an explicit keyword will result in an error or misinterpretation.\n",
            "  FutureWarning\n"
          ]
        },
        {
          "output_type": "execute_result",
          "data": {
            "text/plain": [
              "<matplotlib.axes._subplots.AxesSubplot at 0x7f9cf8b76290>"
            ]
          },
          "metadata": {},
          "execution_count": 150
        },
        {
          "output_type": "display_data",
          "data": {
            "image/png": "[encoded data removed]",
            "text/plain": [
              "<Figure size 432x288 with 2 Axes>"
            ]
          },
          "metadata": {
            "needs_background": "light"
          }
        }
      ]
    },
    {
      "cell_type": "code",
      "source": [
        "plt.subplot(211)\n",
        "sns.countplot(train.contents_attribute_c)\n",
        "\n",
        "plt.subplot(212)\n",
        "sns.countplot(test.contents_attribute_c)"
      ],
      "metadata": {
        "colab": {
          "base_uri": "https://localhost:8080/",
          "height": 392
        },
        "id": "vuDSP_u38w2w",
        "outputId": "ad84a2c9-ef56-46cd-9124-c30560187ae4"
      },
      "execution_count": 153,
      "outputs": [
        {
          "output_type": "stream",
          "name": "stderr",
          "text": [
            "/usr/local/lib/python3.7/dist-packages/seaborn/_decorators.py:43: FutureWarning: Pass the following variable as a keyword arg: x. From version 0.12, the only valid positional argument will be `data`, and passing other arguments without an explicit keyword will result in an error or misinterpretation.\n",
            "  FutureWarning\n",
            "/usr/local/lib/python3.7/dist-packages/seaborn/_decorators.py:43: FutureWarning: Pass the following variable as a keyword arg: x. From version 0.12, the only valid positional argument will be `data`, and passing other arguments without an explicit keyword will result in an error or misinterpretation.\n",
            "  FutureWarning\n"
          ]
        },
        {
          "output_type": "execute_result",
          "data": {
            "text/plain": [
              "<matplotlib.axes._subplots.AxesSubplot at 0x7f9d10699810>"
            ]
          },
          "metadata": {},
          "execution_count": 153
        },
        {
          "output_type": "display_data",
          "data": {
            "image/png": "[encoded data removed]",
            "text/plain": [
              "<Figure size 432x288 with 2 Axes>"
            ]
          },
          "metadata": {
            "needs_background": "light"
          }
        }
      ]
    },
    {
      "cell_type": "code",
      "source": [
        "plt.subplot(211)\n",
        "sns.countplot(train.contents_attribute_k)\n",
        "\n",
        "plt.subplot(212)\n",
        "sns.countplot(test.contents_attribute_k)"
      ],
      "metadata": {
        "colab": {
          "base_uri": "https://localhost:8080/",
          "height": 392
        },
        "id": "i2XRWGMd8z8I",
        "outputId": "1500161a-df5d-4c88-fd9b-8674b994b166"
      },
      "execution_count": 154,
      "outputs": [
        {
          "output_type": "stream",
          "name": "stderr",
          "text": [
            "/usr/local/lib/python3.7/dist-packages/seaborn/_decorators.py:43: FutureWarning: Pass the following variable as a keyword arg: x. From version 0.12, the only valid positional argument will be `data`, and passing other arguments without an explicit keyword will result in an error or misinterpretation.\n",
            "  FutureWarning\n",
            "/usr/local/lib/python3.7/dist-packages/seaborn/_decorators.py:43: FutureWarning: Pass the following variable as a keyword arg: x. From version 0.12, the only valid positional argument will be `data`, and passing other arguments without an explicit keyword will result in an error or misinterpretation.\n",
            "  FutureWarning\n"
          ]
        },
        {
          "output_type": "execute_result",
          "data": {
            "text/plain": [
              "<matplotlib.axes._subplots.AxesSubplot at 0x7f9cf8a50510>"
            ]
          },
          "metadata": {},
          "execution_count": 154
        },
        {
          "output_type": "display_data",
          "data": {
            "image/png": "[encoded data removed]",
            "text/plain": [
              "<Figure size 432x288 with 2 Axes>"
            ]
          },
          "metadata": {
            "needs_background": "light"
          }
        }
      ]
    },
    {
      "cell_type": "code",
      "source": [
        "plt.subplot(211)\n",
        "sns.countplot(train.contents_attribute_m)\n",
        "\n",
        "plt.subplot(212)\n",
        "sns.countplot(test.contents_attribute_m)"
      ],
      "metadata": {
        "colab": {
          "base_uri": "https://localhost:8080/",
          "height": 392
        },
        "id": "buetXSL4852I",
        "outputId": "293458b9-b1aa-41e3-a604-3e2e0d1d7195"
      },
      "execution_count": 156,
      "outputs": [
        {
          "output_type": "stream",
          "name": "stderr",
          "text": [
            "/usr/local/lib/python3.7/dist-packages/seaborn/_decorators.py:43: FutureWarning: Pass the following variable as a keyword arg: x. From version 0.12, the only valid positional argument will be `data`, and passing other arguments without an explicit keyword will result in an error or misinterpretation.\n",
            "  FutureWarning\n",
            "/usr/local/lib/python3.7/dist-packages/seaborn/_decorators.py:43: FutureWarning: Pass the following variable as a keyword arg: x. From version 0.12, the only valid positional argument will be `data`, and passing other arguments without an explicit keyword will result in an error or misinterpretation.\n",
            "  FutureWarning\n"
          ]
        },
        {
          "output_type": "execute_result",
          "data": {
            "text/plain": [
              "<matplotlib.axes._subplots.AxesSubplot at 0x7f9cf8863f10>"
            ]
          },
          "metadata": {},
          "execution_count": 156
        },
        {
          "output_type": "display_data",
          "data": {
            "image/png": "[encoded data removed]",
            "text/plain": [
              "<Figure size 432x288 with 2 Axes>"
            ]
          },
          "metadata": {
            "needs_background": "light"
          }
        }
      ]
    },
    {
      "cell_type": "code",
      "source": [
        "plt.subplot(211)\n",
        "sns.countplot(train.contents_attribute_e)\n",
        "\n",
        "plt.subplot(212)\n",
        "sns.countplot(test.contents_attribute_e)"
      ],
      "metadata": {
        "colab": {
          "base_uri": "https://localhost:8080/",
          "height": 392
        },
        "id": "Zot-WvjB88lo",
        "outputId": "c07b7a95-9f7e-4bf6-db9a-1773452f85cf"
      },
      "execution_count": 157,
      "outputs": [
        {
          "output_type": "stream",
          "name": "stderr",
          "text": [
            "/usr/local/lib/python3.7/dist-packages/seaborn/_decorators.py:43: FutureWarning: Pass the following variable as a keyword arg: x. From version 0.12, the only valid positional argument will be `data`, and passing other arguments without an explicit keyword will result in an error or misinterpretation.\n",
            "  FutureWarning\n",
            "/usr/local/lib/python3.7/dist-packages/seaborn/_decorators.py:43: FutureWarning: Pass the following variable as a keyword arg: x. From version 0.12, the only valid positional argument will be `data`, and passing other arguments without an explicit keyword will result in an error or misinterpretation.\n",
            "  FutureWarning\n"
          ]
        },
        {
          "output_type": "execute_result",
          "data": {
            "text/plain": [
              "<matplotlib.axes._subplots.AxesSubplot at 0x7f9cf87a34d0>"
            ]
          },
          "metadata": {},
          "execution_count": 157
        },
        {
          "output_type": "display_data",
          "data": {
            "image/png": "[encoded data removed]",
            "text/plain": [
              "<Figure size 432x288 with 2 Axes>"
            ]
          },
          "metadata": {
            "needs_background": "light"
          }
        }
      ]
    },
    {
      "cell_type": "markdown",
      "source": [
        "#Time\n",
        "\n",
        "> col 내의 unique 갯수가 많기 때문에 dummy화 진행 x\n",
        "\n",
        "but,, month가 왜이렇지?"
      ],
      "metadata": {
        "id": "7o64kYDc92eX"
      }
    },
    {
      "cell_type": "code",
      "source": [
        "time_train"
      ],
      "metadata": {
        "colab": {
          "base_uri": "https://localhost:8080/",
          "height": 487
        },
        "id": "spRooQFC949O",
        "outputId": "01d88cd5-8485-4600-b147-987dff0d62ba"
      },
      "execution_count": 158,
      "outputs": [
        {
          "output_type": "execute_result",
          "data": {
            "text/html": [
              "\n",
              "  <div id=\"df-8489b898-15cc-45b0-942d-f5b6f94ae09c\">\n",
              "    <div class=\"colab-df-container\">\n",
              "      <div>\n",
              "<style scoped>\n",
              "    .dataframe tbody tr th:only-of-type {\n",
              "        vertical-align: middle;\n",
              "    }\n",
              "\n",
              "    .dataframe tbody tr th {\n",
              "        vertical-align: top;\n",
              "    }\n",
              "\n",
              "    .dataframe thead th {\n",
              "        text-align: right;\n",
              "    }\n",
              "</style>\n",
              "<table border=\"1\" class=\"dataframe\">\n",
              "  <thead>\n",
              "    <tr style=\"text-align: right;\">\n",
              "      <th></th>\n",
              "      <th>contents_open_dt_month</th>\n",
              "      <th>contents_open_dt_day</th>\n",
              "      <th>contents_open_dt_hour</th>\n",
              "      <th>contents_open_dt_minute</th>\n",
              "      <th>contents_open_dt_sec</th>\n",
              "    </tr>\n",
              "  </thead>\n",
              "  <tbody>\n",
              "    <tr>\n",
              "      <th>0</th>\n",
              "      <td>1</td>\n",
              "      <td>17</td>\n",
              "      <td>12</td>\n",
              "      <td>9</td>\n",
              "      <td>36</td>\n",
              "    </tr>\n",
              "    <tr>\n",
              "      <th>1</th>\n",
              "      <td>6</td>\n",
              "      <td>18</td>\n",
              "      <td>17</td>\n",
              "      <td>48</td>\n",
              "      <td>52</td>\n",
              "    </tr>\n",
              "    <tr>\n",
              "      <th>2</th>\n",
              "      <td>7</td>\n",
              "      <td>8</td>\n",
              "      <td>20</td>\n",
              "      <td>0</td>\n",
              "      <td>10</td>\n",
              "    </tr>\n",
              "    <tr>\n",
              "      <th>3</th>\n",
              "      <td>1</td>\n",
              "      <td>13</td>\n",
              "      <td>18</td>\n",
              "      <td>9</td>\n",
              "      <td>34</td>\n",
              "    </tr>\n",
              "    <tr>\n",
              "      <th>4</th>\n",
              "      <td>3</td>\n",
              "      <td>9</td>\n",
              "      <td>20</td>\n",
              "      <td>39</td>\n",
              "      <td>22</td>\n",
              "    </tr>\n",
              "    <tr>\n",
              "      <th>...</th>\n",
              "      <td>...</td>\n",
              "      <td>...</td>\n",
              "      <td>...</td>\n",
              "      <td>...</td>\n",
              "      <td>...</td>\n",
              "    </tr>\n",
              "    <tr>\n",
              "      <th>501946</th>\n",
              "      <td>3</td>\n",
              "      <td>13</td>\n",
              "      <td>12</td>\n",
              "      <td>55</td>\n",
              "      <td>52</td>\n",
              "    </tr>\n",
              "    <tr>\n",
              "      <th>501947</th>\n",
              "      <td>1</td>\n",
              "      <td>20</td>\n",
              "      <td>11</td>\n",
              "      <td>51</td>\n",
              "      <td>51</td>\n",
              "    </tr>\n",
              "    <tr>\n",
              "      <th>501948</th>\n",
              "      <td>8</td>\n",
              "      <td>5</td>\n",
              "      <td>17</td>\n",
              "      <td>27</td>\n",
              "      <td>24</td>\n",
              "    </tr>\n",
              "    <tr>\n",
              "      <th>501949</th>\n",
              "      <td>6</td>\n",
              "      <td>15</td>\n",
              "      <td>9</td>\n",
              "      <td>23</td>\n",
              "      <td>21</td>\n",
              "    </tr>\n",
              "    <tr>\n",
              "      <th>501950</th>\n",
              "      <td>5</td>\n",
              "      <td>25</td>\n",
              "      <td>14</td>\n",
              "      <td>34</td>\n",
              "      <td>48</td>\n",
              "    </tr>\n",
              "  </tbody>\n",
              "</table>\n",
              "<p>501951 rows × 5 columns</p>\n",
              "</div>\n",
              "      <button class=\"colab-df-convert\" onclick=\"convertToInteractive('df-8489b898-15cc-45b0-942d-f5b6f94ae09c')\"\n",
              "              title=\"Convert this dataframe to an interactive table.\"\n",
              "              style=\"display:none;\">\n",
              "        \n",
              "  <svg xmlns=\"http://www.w3.org/2000/svg\" height=\"24px\"viewBox=\"0 0 24 24\"\n",
              "       width=\"24px\">\n",
              "    <path d=\"M0 0h24v24H0V0z\" fill=\"none\"/>\n",
              "    <path d=\"M18.56 5.44l.94 2.06.94-2.06 2.06-.94-2.06-.94-.94-2.06-.94 2.06-2.06.94zm-11 1L8.5 8.5l.94-2.06 2.06-.94-2.06-.94L8.5 2.5l-.94 2.06-2.06.94zm10 10l.94 2.06.94-2.06 2.06-.94-2.06-.94-.94-2.06-.94 2.06-2.06.94z\"/><path d=\"M17.41 7.96l-1.37-1.37c-.4-.4-.92-.59-1.43-.59-.52 0-1.04.2-1.43.59L10.3 9.45l-7.72 7.72c-.78.78-.78 2.05 0 2.83L4 21.41c.39.39.9.59 1.41.59.51 0 1.02-.2 1.41-.59l7.78-7.78 2.81-2.81c.8-.78.8-2.07 0-2.86zM5.41 20L4 18.59l7.72-7.72 1.47 1.35L5.41 20z\"/>\n",
              "  </svg>\n",
              "      </button>\n",
              "      \n",
              "  <style>\n",
              "    .colab-df-container {\n",
              "      display:flex;\n",
              "      flex-wrap:wrap;\n",
              "      gap: 12px;\n",
              "    }\n",
              "\n",
              "    .colab-df-convert {\n",
              "      background-color: #E8F0FE;\n",
              "      border: none;\n",
              "      border-radius: 50%;\n",
              "      cursor: pointer;\n",
              "      display: none;\n",
              "      fill: #1967D2;\n",
              "      height: 32px;\n",
              "      padding: 0 0 0 0;\n",
              "      width: 32px;\n",
              "    }\n",
              "\n",
              "    .colab-df-convert:hover {\n",
              "      background-color: #E2EBFA;\n",
              "      box-shadow: 0px 1px 2px rgba(60, 64, 67, 0.3), 0px 1px 3px 1px rgba(60, 64, 67, 0.15);\n",
              "      fill: #174EA6;\n",
              "    }\n",
              "\n",
              "    [theme=dark] .colab-df-convert {\n",
              "      background-color: #3B4455;\n",
              "      fill: #D2E3FC;\n",
              "    }\n",
              "\n",
              "    [theme=dark] .colab-df-convert:hover {\n",
              "      background-color: #434B5C;\n",
              "      box-shadow: 0px 1px 3px 1px rgba(0, 0, 0, 0.15);\n",
              "      filter: drop-shadow(0px 1px 2px rgba(0, 0, 0, 0.3));\n",
              "      fill: #FFFFFF;\n",
              "    }\n",
              "  </style>\n",
              "\n",
              "      <script>\n",
              "        const buttonEl =\n",
              "          document.querySelector('#df-8489b898-15cc-45b0-942d-f5b6f94ae09c button.colab-df-convert');\n",
              "        buttonEl.style.display =\n",
              "          google.colab.kernel.accessAllowed ? 'block' : 'none';\n",
              "\n",
              "        async function convertToInteractive(key) {\n",
              "          const element = document.querySelector('#df-8489b898-15cc-45b0-942d-f5b6f94ae09c');\n",
              "          const dataTable =\n",
              "            await google.colab.kernel.invokeFunction('convertToInteractive',\n",
              "                                                     [key], {});\n",
              "          if (!dataTable) return;\n",
              "\n",
              "          const docLinkHtml = 'Like what you see? Visit the ' +\n",
              "            '<a target=\"_blank\" href=https://colab.research.google.com/notebooks/data_table.ipynb>data table notebook</a>'\n",
              "            + ' to learn more about interactive tables.';\n",
              "          element.innerHTML = '';\n",
              "          dataTable['output_type'] = 'display_data';\n",
              "          await google.colab.output.renderOutput(dataTable, element);\n",
              "          const docLink = document.createElement('div');\n",
              "          docLink.innerHTML = docLinkHtml;\n",
              "          element.appendChild(docLink);\n",
              "        }\n",
              "      </script>\n",
              "    </div>\n",
              "  </div>\n",
              "  "
            ],
            "text/plain": [
              "        contents_open_dt_month  ...  contents_open_dt_sec\n",
              "0                            1  ...                    36\n",
              "1                            6  ...                    52\n",
              "2                            7  ...                    10\n",
              "3                            1  ...                    34\n",
              "4                            3  ...                    22\n",
              "...                        ...  ...                   ...\n",
              "501946                       3  ...                    52\n",
              "501947                       1  ...                    51\n",
              "501948                       8  ...                    24\n",
              "501949                       6  ...                    21\n",
              "501950                       5  ...                    48\n",
              "\n",
              "[501951 rows x 5 columns]"
            ]
          },
          "metadata": {},
          "execution_count": 158
        }
      ]
    },
    {
      "cell_type": "code",
      "source": [
        "time_test"
      ],
      "metadata": {
        "colab": {
          "base_uri": "https://localhost:8080/",
          "height": 487
        },
        "id": "Sn1ehPBy9-xH",
        "outputId": "0be9db36-b124-499a-b783-823490753b44"
      },
      "execution_count": 159,
      "outputs": [
        {
          "output_type": "execute_result",
          "data": {
            "text/html": [
              "\n",
              "  <div id=\"df-ef533da1-da38-4279-9a92-d4801aa41504\">\n",
              "    <div class=\"colab-df-container\">\n",
              "      <div>\n",
              "<style scoped>\n",
              "    .dataframe tbody tr th:only-of-type {\n",
              "        vertical-align: middle;\n",
              "    }\n",
              "\n",
              "    .dataframe tbody tr th {\n",
              "        vertical-align: top;\n",
              "    }\n",
              "\n",
              "    .dataframe thead th {\n",
              "        text-align: right;\n",
              "    }\n",
              "</style>\n",
              "<table border=\"1\" class=\"dataframe\">\n",
              "  <thead>\n",
              "    <tr style=\"text-align: right;\">\n",
              "      <th></th>\n",
              "      <th>contents_open_dt_month</th>\n",
              "      <th>contents_open_dt_day</th>\n",
              "      <th>contents_open_dt_hour</th>\n",
              "      <th>contents_open_dt_minute</th>\n",
              "      <th>contents_open_dt_sec</th>\n",
              "    </tr>\n",
              "  </thead>\n",
              "  <tbody>\n",
              "    <tr>\n",
              "      <th>0</th>\n",
              "      <td>12</td>\n",
              "      <td>1</td>\n",
              "      <td>2</td>\n",
              "      <td>24</td>\n",
              "      <td>18</td>\n",
              "    </tr>\n",
              "    <tr>\n",
              "      <th>1</th>\n",
              "      <td>12</td>\n",
              "      <td>17</td>\n",
              "      <td>5</td>\n",
              "      <td>42</td>\n",
              "      <td>53</td>\n",
              "    </tr>\n",
              "    <tr>\n",
              "      <th>2</th>\n",
              "      <td>12</td>\n",
              "      <td>10</td>\n",
              "      <td>23</td>\n",
              "      <td>33</td>\n",
              "      <td>41</td>\n",
              "    </tr>\n",
              "    <tr>\n",
              "      <th>3</th>\n",
              "      <td>12</td>\n",
              "      <td>3</td>\n",
              "      <td>19</td>\n",
              "      <td>44</td>\n",
              "      <td>55</td>\n",
              "    </tr>\n",
              "    <tr>\n",
              "      <th>4</th>\n",
              "      <td>12</td>\n",
              "      <td>11</td>\n",
              "      <td>21</td>\n",
              "      <td>24</td>\n",
              "      <td>34</td>\n",
              "    </tr>\n",
              "    <tr>\n",
              "      <th>...</th>\n",
              "      <td>...</td>\n",
              "      <td>...</td>\n",
              "      <td>...</td>\n",
              "      <td>...</td>\n",
              "      <td>...</td>\n",
              "    </tr>\n",
              "    <tr>\n",
              "      <th>46399</th>\n",
              "      <td>12</td>\n",
              "      <td>17</td>\n",
              "      <td>1</td>\n",
              "      <td>6</td>\n",
              "      <td>26</td>\n",
              "    </tr>\n",
              "    <tr>\n",
              "      <th>46400</th>\n",
              "      <td>12</td>\n",
              "      <td>29</td>\n",
              "      <td>21</td>\n",
              "      <td>57</td>\n",
              "      <td>25</td>\n",
              "    </tr>\n",
              "    <tr>\n",
              "      <th>46401</th>\n",
              "      <td>12</td>\n",
              "      <td>10</td>\n",
              "      <td>19</td>\n",
              "      <td>9</td>\n",
              "      <td>9</td>\n",
              "    </tr>\n",
              "    <tr>\n",
              "      <th>46402</th>\n",
              "      <td>12</td>\n",
              "      <td>7</td>\n",
              "      <td>14</td>\n",
              "      <td>4</td>\n",
              "      <td>34</td>\n",
              "    </tr>\n",
              "    <tr>\n",
              "      <th>46403</th>\n",
              "      <td>12</td>\n",
              "      <td>22</td>\n",
              "      <td>16</td>\n",
              "      <td>43</td>\n",
              "      <td>39</td>\n",
              "    </tr>\n",
              "  </tbody>\n",
              "</table>\n",
              "<p>46404 rows × 5 columns</p>\n",
              "</div>\n",
              "      <button class=\"colab-df-convert\" onclick=\"convertToInteractive('df-ef533da1-da38-4279-9a92-d4801aa41504')\"\n",
              "              title=\"Convert this dataframe to an interactive table.\"\n",
              "              style=\"display:none;\">\n",
              "        \n",
              "  <svg xmlns=\"http://www.w3.org/2000/svg\" height=\"24px\"viewBox=\"0 0 24 24\"\n",
              "       width=\"24px\">\n",
              "    <path d=\"M0 0h24v24H0V0z\" fill=\"none\"/>\n",
              "    <path d=\"M18.56 5.44l.94 2.06.94-2.06 2.06-.94-2.06-.94-.94-2.06-.94 2.06-2.06.94zm-11 1L8.5 8.5l.94-2.06 2.06-.94-2.06-.94L8.5 2.5l-.94 2.06-2.06.94zm10 10l.94 2.06.94-2.06 2.06-.94-2.06-.94-.94-2.06-.94 2.06-2.06.94z\"/><path d=\"M17.41 7.96l-1.37-1.37c-.4-.4-.92-.59-1.43-.59-.52 0-1.04.2-1.43.59L10.3 9.45l-7.72 7.72c-.78.78-.78 2.05 0 2.83L4 21.41c.39.39.9.59 1.41.59.51 0 1.02-.2 1.41-.59l7.78-7.78 2.81-2.81c.8-.78.8-2.07 0-2.86zM5.41 20L4 18.59l7.72-7.72 1.47 1.35L5.41 20z\"/>\n",
              "  </svg>\n",
              "      </button>\n",
              "      \n",
              "  <style>\n",
              "    .colab-df-container {\n",
              "      display:flex;\n",
              "      flex-wrap:wrap;\n",
              "      gap: 12px;\n",
              "    }\n",
              "\n",
              "    .colab-df-convert {\n",
              "      background-color: #E8F0FE;\n",
              "      border: none;\n",
              "      border-radius: 50%;\n",
              "      cursor: pointer;\n",
              "      display: none;\n",
              "      fill: #1967D2;\n",
              "      height: 32px;\n",
              "      padding: 0 0 0 0;\n",
              "      width: 32px;\n",
              "    }\n",
              "\n",
              "    .colab-df-convert:hover {\n",
              "      background-color: #E2EBFA;\n",
              "      box-shadow: 0px 1px 2px rgba(60, 64, 67, 0.3), 0px 1px 3px 1px rgba(60, 64, 67, 0.15);\n",
              "      fill: #174EA6;\n",
              "    }\n",
              "\n",
              "    [theme=dark] .colab-df-convert {\n",
              "      background-color: #3B4455;\n",
              "      fill: #D2E3FC;\n",
              "    }\n",
              "\n",
              "    [theme=dark] .colab-df-convert:hover {\n",
              "      background-color: #434B5C;\n",
              "      box-shadow: 0px 1px 3px 1px rgba(0, 0, 0, 0.15);\n",
              "      filter: drop-shadow(0px 1px 2px rgba(0, 0, 0, 0.3));\n",
              "      fill: #FFFFFF;\n",
              "    }\n",
              "  </style>\n",
              "\n",
              "      <script>\n",
              "        const buttonEl =\n",
              "          document.querySelector('#df-ef533da1-da38-4279-9a92-d4801aa41504 button.colab-df-convert');\n",
              "        buttonEl.style.display =\n",
              "          google.colab.kernel.accessAllowed ? 'block' : 'none';\n",
              "\n",
              "        async function convertToInteractive(key) {\n",
              "          const element = document.querySelector('#df-ef533da1-da38-4279-9a92-d4801aa41504');\n",
              "          const dataTable =\n",
              "            await google.colab.kernel.invokeFunction('convertToInteractive',\n",
              "                                                     [key], {});\n",
              "          if (!dataTable) return;\n",
              "\n",
              "          const docLinkHtml = 'Like what you see? Visit the ' +\n",
              "            '<a target=\"_blank\" href=https://colab.research.google.com/notebooks/data_table.ipynb>data table notebook</a>'\n",
              "            + ' to learn more about interactive tables.';\n",
              "          element.innerHTML = '';\n",
              "          dataTable['output_type'] = 'display_data';\n",
              "          await google.colab.output.renderOutput(dataTable, element);\n",
              "          const docLink = document.createElement('div');\n",
              "          docLink.innerHTML = docLinkHtml;\n",
              "          element.appendChild(docLink);\n",
              "        }\n",
              "      </script>\n",
              "    </div>\n",
              "  </div>\n",
              "  "
            ],
            "text/plain": [
              "       contents_open_dt_month  ...  contents_open_dt_sec\n",
              "0                          12  ...                    18\n",
              "1                          12  ...                    53\n",
              "2                          12  ...                    41\n",
              "3                          12  ...                    55\n",
              "4                          12  ...                    34\n",
              "...                       ...  ...                   ...\n",
              "46399                      12  ...                    26\n",
              "46400                      12  ...                    25\n",
              "46401                      12  ...                     9\n",
              "46402                      12  ...                    34\n",
              "46403                      12  ...                    39\n",
              "\n",
              "[46404 rows x 5 columns]"
            ]
          },
          "metadata": {},
          "execution_count": 159
        }
      ]
    },
    {
      "cell_type": "code",
      "source": [
        "plt.subplot(211)\n",
        "sns.countplot(train.contents_open_dt_month)\n",
        "\n",
        "plt.subplot(212)\n",
        "sns.countplot(test.contents_open_dt_month)"
      ],
      "metadata": {
        "colab": {
          "base_uri": "https://localhost:8080/",
          "height": 392
        },
        "id": "vXOSF59C-Mh9",
        "outputId": "028c53ef-31ed-43a1-ce12-b05749589ac0"
      },
      "execution_count": 160,
      "outputs": [
        {
          "output_type": "stream",
          "name": "stderr",
          "text": [
            "/usr/local/lib/python3.7/dist-packages/seaborn/_decorators.py:43: FutureWarning: Pass the following variable as a keyword arg: x. From version 0.12, the only valid positional argument will be `data`, and passing other arguments without an explicit keyword will result in an error or misinterpretation.\n",
            "  FutureWarning\n",
            "/usr/local/lib/python3.7/dist-packages/seaborn/_decorators.py:43: FutureWarning: Pass the following variable as a keyword arg: x. From version 0.12, the only valid positional argument will be `data`, and passing other arguments without an explicit keyword will result in an error or misinterpretation.\n",
            "  FutureWarning\n"
          ]
        },
        {
          "output_type": "execute_result",
          "data": {
            "text/plain": [
              "<matplotlib.axes._subplots.AxesSubplot at 0x7f9cf86b4cd0>"
            ]
          },
          "metadata": {},
          "execution_count": 160
        },
        {
          "output_type": "display_data",
          "data": {
            "image/png": "[encoded data removed]",
            "text/plain": [
              "<Figure size 432x288 with 2 Axes>"
            ]
          },
          "metadata": {
            "needs_background": "light"
          }
        }
      ]
    },
    {
      "cell_type": "markdown",
      "source": [
        "> 오늘 회의 의견:\n",
        "\n",
        "- train 은 balanced 한 data이지만 test는 imbalanced한 데이터일 가능성이 있다!\n",
        "- 상반기랑 하반기의 추이가 차이나지 않으면, 1(7),…,6(12) 이렇게 봐도 되지 않을까요? just opinion"
      ],
      "metadata": {
        "id": "UHKNVu9QJRQ9"
      }
    }
  ]
}