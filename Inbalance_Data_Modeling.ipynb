{
  "nbformat": 4,
  "nbformat_minor": 0,
  "metadata": {
    "colab": {
      "name": "Inbalance_Data_Modeling.ipynb",
      "provenance": [],
      "collapsed_sections": [
        "hkCbuKKvlL_6",
        "_X9OHBfNriFk",
        "aSwEr4-15ql2",
        "CqUU7yulHP-G",
        "pWlOqLJdvYUU",
        "NlWWsXtTn_-u",
        "uQ-CQpDbLXsV",
        "lu4E1WgP1Yve",
        "_-eGYTJOvQv5",
        "bfhS-aFGvOmq",
        "BfkTd9zo1eCW",
        "6WvxBsg86TFj",
        "TNarEUkB71tU",
        "odiY-ais-KOY",
        "aeM8AKefBX9U",
        "ws814VayGmu_",
        "9UKqX-xFLttl",
        "j3p7_kx30c5m",
        "DukY4bVc0lP2",
        "1CFHKb3hDChB"
      ]
    },
    "kernelspec": {
      "name": "python3",
      "display_name": "Python 3"
    },
    "language_info": {
      "name": "python"
    },
    "accelerator": "GPU"
  },
  "cells": [
    {
      "cell_type": "markdown",
      "source": [
        "잡케어 추천시스템 경진대회\n",
        "--"
      ],
      "metadata": {
        "id": "hkCbuKKvlL_6"
      }
    },
    {
      "cell_type": "markdown",
      "source": [
        "**목차**\n",
        "\n",
        "```\n",
        "1. train, test 데이터의 Target Imbalanced 하게 만들기\n",
        "\n",
        "2. Target Imbalanced한 데이터에 적합한 모델 찾기\n",
        "\n",
        "3. 선정한 모델을 바탕으로 Model 기반 Feature Selection하기\n",
        "\n",
        "4. 선택된 Feature들을 더미화 하거나 Scaling하는 등 Feature Engineering하기\n",
        "\n",
        "5. AutoML 기반으로 Model Selection&Feature Selection&Feature Engineering을 마지막으로 검증한 뒤, 최종 선택된 모델과 Feature를 기반으로 AutoML기반으로 Hyperparameter tuning하여 실제 제출하기\n",
        "\n",
        "\n",
        "```"
      ],
      "metadata": {
        "id": "W4p9tlGnMK07"
      }
    },
    {
      "cell_type": "markdown",
      "source": [
        "**데이터 불러오기(기초적인 Feature Engineering이 끝난 데이터)**"
      ],
      "metadata": {
        "id": "8zLaUJ3QM-0S"
      }
    },
    {
      "cell_type": "code",
      "source": [
        "from google.colab import drive\n",
        "drive.mount('/content/drive')"
      ],
      "metadata": {
        "id": "uPmWExMLlOfZ",
        "colab": {
          "base_uri": "https://localhost:8080/"
        },
        "outputId": "6e75a1c5-3080-4396-ecef-caf2332ce3e7"
      },
      "execution_count": 4,
      "outputs": [
        {
          "output_type": "stream",
          "name": "stdout",
          "text": [
            "Mounted at /content/drive\n"
          ]
        }
      ]
    },
    {
      "cell_type": "code",
      "source": [
        "import warnings\n",
        "warnings.filterwarnings('ignore')"
      ],
      "metadata": {
        "id": "jQnhS-nLnlM6"
      },
      "execution_count": 5,
      "outputs": []
    },
    {
      "cell_type": "code",
      "source": [
        "import pandas as pd\n",
        "sub_1=pd.read_csv(\"/content/drive/MyDrive/데이콘/Jobcare_data/sample_submission.csv\")\n",
        "test=pd.read_csv(\"/content/drive/MyDrive/데이콘/Jobcare_data/r_test.csv\")\n",
        "train=pd.read_csv(\"/content/drive/MyDrive/데이콘/Jobcare_data/r_train.csv\")"
      ],
      "metadata": {
        "id": "2B96cKL7oOpq"
      },
      "execution_count": 6,
      "outputs": []
    },
    {
      "cell_type": "code",
      "source": [
        "from sklearn.model_selection import train_test_split\n",
        "from sklearn.metrics import f1_score\n",
        "from sklearn.metrics import confusion_matrix, plot_confusion_matrix\n",
        "from sklearn.metrics import classification_report\n",
        "from sklearn.metrics import accuracy_score, precision_score, recall_score\n",
        "import numpy as np"
      ],
      "metadata": {
        "id": "88_AfM5RoRia"
      },
      "execution_count": 7,
      "outputs": []
    },
    {
      "cell_type": "code",
      "source": [
        "import seaborn as sns\n",
        "import matplotlib.pyplot as plt"
      ],
      "metadata": {
        "id": "NuHlXRYJo55S"
      },
      "execution_count": 8,
      "outputs": []
    },
    {
      "cell_type": "code",
      "source": [
        "tn_, val_=train_test_split(train, test_size=0.3, random_state=42)"
      ],
      "metadata": {
        "id": "j4N_YO-Nov--"
      },
      "execution_count": 9,
      "outputs": []
    },
    {
      "cell_type": "code",
      "source": [
        "val_['target'].value_counts()"
      ],
      "metadata": {
        "colab": {
          "base_uri": "https://localhost:8080/"
        },
        "id": "r3fpTxg4o1si",
        "outputId": "6a45fc3b-ba65-4536-8677-cca99a3bbb26"
      },
      "execution_count": 10,
      "outputs": [
        {
          "output_type": "execute_result",
          "data": {
            "text/plain": [
              "1    75381\n",
              "0    75205\n",
              "Name: target, dtype: int64"
            ]
          },
          "metadata": {},
          "execution_count": 10
        }
      ]
    },
    {
      "cell_type": "code",
      "source": [
        "tn_['target'].value_counts()"
      ],
      "metadata": {
        "colab": {
          "base_uri": "https://localhost:8080/"
        },
        "id": "yETaJ-iOo-zh",
        "outputId": "09de91a0-3e67-4c1f-e44a-c2e727b3bfae"
      },
      "execution_count": 11,
      "outputs": [
        {
          "output_type": "execute_result",
          "data": {
            "text/plain": [
              "0    175901\n",
              "1    175464\n",
              "Name: target, dtype: int64"
            ]
          },
          "metadata": {},
          "execution_count": 11
        }
      ]
    },
    {
      "cell_type": "markdown",
      "source": [
        "**test의 target의 밸런스가 맞지 않을 것으로 예상되므로, 의도적으로 tn과 val 데이터의 target 비율을 8대 2정도로 맞춰주도록 합니다.**\n",
        "\n",
        "- imbalanced test target issue: https://github.com/Proj-Caliber/Job-Care/blob/Yunyoseob/imbalanced_test_target_issue.ipynb"
      ],
      "metadata": {
        "id": "ONYYyTJQpKJo"
      }
    },
    {
      "cell_type": "code",
      "source": [
        "tn_=tn_.reset_index()\n",
        "tn_.drop('index', axis=1, inplace=True)"
      ],
      "metadata": {
        "id": "670CFv-UD6J6"
      },
      "execution_count": 12,
      "outputs": []
    },
    {
      "cell_type": "code",
      "source": [
        "val_=val_.reset_index()\n",
        "val_.drop('index', axis=1, inplace=True)"
      ],
      "metadata": {
        "id": "jyfmkV8gpJBx"
      },
      "execution_count": 13,
      "outputs": []
    },
    {
      "cell_type": "code",
      "source": [
        "tn_0=tn_.loc[tn_['target']==0]\n",
        "tn_1=tn_.loc[tn_['target']==1]"
      ],
      "metadata": {
        "id": "cWNA3qSFD9Ae"
      },
      "execution_count": 14,
      "outputs": []
    },
    {
      "cell_type": "code",
      "source": [
        "val_0=val_.loc[val_['target']==0]\n",
        "val_1=val_.loc[val_['target']==1]"
      ],
      "metadata": {
        "id": "-zJbZwdopVEj"
      },
      "execution_count": 15,
      "outputs": []
    },
    {
      "cell_type": "code",
      "source": [
        "tn_0_tn, tn_0_te=train_test_split(tn_0, test_size=0.1, random_state=42)"
      ],
      "metadata": {
        "id": "tOesJ0u5ERv-"
      },
      "execution_count": 16,
      "outputs": []
    },
    {
      "cell_type": "code",
      "source": [
        "val_0_tn, val_0_te=train_test_split(val_0, test_size=0.1, random_state=42)"
      ],
      "metadata": {
        "id": "evwuez8dpfQC"
      },
      "execution_count": 17,
      "outputs": []
    },
    {
      "cell_type": "code",
      "source": [
        "tn_0_te=tn_0_te.reset_index()\n",
        "tn_1=tn_1.reset_index()"
      ],
      "metadata": {
        "id": "3PHWSsTbEXMu"
      },
      "execution_count": 18,
      "outputs": []
    },
    {
      "cell_type": "code",
      "source": [
        "val_0_te=val_0_te.reset_index()\n",
        "val_1=val_1.reset_index()"
      ],
      "metadata": {
        "id": "qNEaoPF1p9Re"
      },
      "execution_count": 19,
      "outputs": []
    },
    {
      "cell_type": "code",
      "source": [
        "tn=pd.concat([tn_1, tn_0_te], axis=0)"
      ],
      "metadata": {
        "id": "6e1261QAEf6e"
      },
      "execution_count": 20,
      "outputs": []
    },
    {
      "cell_type": "code",
      "source": [
        "val=pd.concat([val_1, val_0_te], axis=0)"
      ],
      "metadata": {
        "id": "W9Ygx1miqKKG"
      },
      "execution_count": 21,
      "outputs": []
    },
    {
      "cell_type": "code",
      "source": [
        "tn=tn.sort_values('index', ascending=True)"
      ],
      "metadata": {
        "id": "DLIbuY7MEj03"
      },
      "execution_count": 22,
      "outputs": []
    },
    {
      "cell_type": "code",
      "source": [
        "val=val.sort_values('index', ascending=True)"
      ],
      "metadata": {
        "id": "0f3vxZd7qKMd"
      },
      "execution_count": 23,
      "outputs": []
    },
    {
      "cell_type": "code",
      "source": [
        "tn.drop('index', axis=1, inplace=True)\n",
        "val.drop('index', axis=1, inplace=True)"
      ],
      "metadata": {
        "id": "zCCVMu_MqXam"
      },
      "execution_count": 24,
      "outputs": []
    },
    {
      "cell_type": "markdown",
      "source": [
        "**최종 학습에 사용할 train 데이터**"
      ],
      "metadata": {
        "id": "_gDgZosqE0m9"
      }
    },
    {
      "cell_type": "code",
      "source": [
        "sns.countplot(tn['target'])\n",
        "sns.set_style('darkgrid')"
      ],
      "metadata": {
        "colab": {
          "base_uri": "https://localhost:8080/",
          "height": 279
        },
        "id": "YXIy9_K3Eo0v",
        "outputId": "de8b0211-89e6-47fb-911f-e69c1ad0f56c"
      },
      "execution_count": 25,
      "outputs": [
        {
          "output_type": "display_data",
          "data": {
            "image/png": "[encoded data removed]",
            "text/plain": [
              "<Figure size 432x288 with 1 Axes>"
            ]
          },
          "metadata": {
            "needs_background": "light"
          }
        }
      ]
    },
    {
      "cell_type": "code",
      "source": [
        "tn['target'].value_counts()"
      ],
      "metadata": {
        "colab": {
          "base_uri": "https://localhost:8080/"
        },
        "id": "3US1KfTmFCXt",
        "outputId": "02f751be-bc67-45b7-8f19-d04fc0d77573"
      },
      "execution_count": 26,
      "outputs": [
        {
          "output_type": "execute_result",
          "data": {
            "text/plain": [
              "1    175464\n",
              "0     17591\n",
              "Name: target, dtype: int64"
            ]
          },
          "metadata": {},
          "execution_count": 26
        }
      ]
    },
    {
      "cell_type": "code",
      "source": [
        "zero=len(tn.loc[tn['target']==0].index)\n",
        "one=len(tn.loc[tn['target']==1].index)\n",
        "ratio=[zero, one]\n",
        "labels=['target_0', 'target_1']\n",
        "plt.pie(ratio, labels=labels, autopct='%.1f%%', startangle=260, counterclock=False)"
      ],
      "metadata": {
        "colab": {
          "base_uri": "https://localhost:8080/",
          "height": 357
        },
        "id": "ULlCcSpME-jm",
        "outputId": "4cbe78bd-c505-48a9-8db2-ea48a6f9d5f1"
      },
      "execution_count": 27,
      "outputs": [
        {
          "output_type": "execute_result",
          "data": {
            "text/plain": [
              "([<matplotlib.patches.Wedge at 0x7f15465ec410>,\n",
              "  <matplotlib.patches.Wedge at 0x7f15465ecc10>],\n",
              " [Text(-0.4891234581792461, -0.9852706443707615, 'target_0'),\n",
              "  Text(0.4891234581792459, 0.9852706443707615, 'target_1')],\n",
              " [Text(-0.266794613552316, -0.5374203514749607, '9.1%'),\n",
              "  Text(0.26679461355231593, 0.5374203514749607, '90.9%')])"
            ]
          },
          "metadata": {},
          "execution_count": 27
        },
        {
          "output_type": "display_data",
          "data": {
            "image/png": "[encoded data removed]",
            "text/plain": [
              "<Figure size 432x288 with 1 Axes>"
            ]
          },
          "metadata": {}
        }
      ]
    },
    {
      "cell_type": "markdown",
      "source": [
        "**최종 검증에 사용할 Test 데이터**"
      ],
      "metadata": {
        "id": "dwW5jHx0E3hw"
      }
    },
    {
      "cell_type": "code",
      "source": [
        "sns.countplot(val['target'])\n",
        "sns.set_style('darkgrid')"
      ],
      "metadata": {
        "colab": {
          "base_uri": "https://localhost:8080/",
          "height": 279
        },
        "id": "ovSOIi9VqryJ",
        "outputId": "a6c96a88-ef9f-4269-d17d-524727f394dc"
      },
      "execution_count": 28,
      "outputs": [
        {
          "output_type": "display_data",
          "data": {
            "image/png": "[encoded data removed]",
            "text/plain": [
              "<Figure size 432x288 with 1 Axes>"
            ]
          },
          "metadata": {}
        }
      ]
    },
    {
      "cell_type": "code",
      "source": [
        "val['target'].value_counts()"
      ],
      "metadata": {
        "colab": {
          "base_uri": "https://localhost:8080/"
        },
        "id": "NbTrB7Xqq9ed",
        "outputId": "0b5a575a-5571-430d-f971-bf1a645e810c"
      },
      "execution_count": 29,
      "outputs": [
        {
          "output_type": "execute_result",
          "data": {
            "text/plain": [
              "1    75381\n",
              "0     7521\n",
              "Name: target, dtype: int64"
            ]
          },
          "metadata": {},
          "execution_count": 29
        }
      ]
    },
    {
      "cell_type": "code",
      "source": [
        "zero=len(val.loc[val['target']==0].index)\n",
        "one=len(val.loc[val['target']==1].index)\n",
        "ratio=[zero, one]\n",
        "labels=['target_0', 'target_1']\n",
        "plt.pie(ratio, labels=labels, autopct='%.1f%%', startangle=260, counterclock=False)"
      ],
      "metadata": {
        "colab": {
          "base_uri": "https://localhost:8080/",
          "height": 357
        },
        "id": "tQ2JHbCWrGpm",
        "outputId": "3da5f283-4d10-4e8d-d828-e62929490a2c"
      },
      "execution_count": 30,
      "outputs": [
        {
          "output_type": "execute_result",
          "data": {
            "text/plain": [
              "([<matplotlib.patches.Wedge at 0x7f154652e290>,\n",
              "  <matplotlib.patches.Wedge at 0x7f154652ea90>],\n",
              " [Text(-0.4878925850442335, -0.9858807359203524, 'target_0'),\n",
              "  Text(0.4878926773490474, 0.9858806902405476, 'target_1')],\n",
              " [Text(-0.26612322820594553, -0.5377531286838285, '9.1%'),\n",
              "  Text(0.26612327855402584, 0.5377531037675713, '90.9%')])"
            ]
          },
          "metadata": {},
          "execution_count": 30
        },
        {
          "output_type": "display_data",
          "data": {
            "image/png": "[encoded data removed]",
            "text/plain": [
              "<Figure size 432x288 with 1 Axes>"
            ]
          },
          "metadata": {}
        }
      ]
    },
    {
      "cell_type": "markdown",
      "source": [
        "- val 데이터를 의도적으로 불균형하게 만들어 주었습니다."
      ],
      "metadata": {
        "id": "qwYHKYQRrWS8"
      }
    },
    {
      "cell_type": "markdown",
      "source": [
        "**실험에 사용할 Train data**"
      ],
      "metadata": {
        "id": "rig6Yn_PFFLk"
      }
    },
    {
      "cell_type": "code",
      "source": [
        "tn_tn, tn_te=train_test_split(tn, test_size=0.3, random_state=42)\n",
        "# 대회에서는 67, 33으로 2/3와 1/3으로 나누어져 있음. 실험에서는 70:30으로 비율을 나누어서 진행"
      ],
      "metadata": {
        "id": "SnXk-RB1FIdo"
      },
      "execution_count": 31,
      "outputs": []
    },
    {
      "cell_type": "code",
      "source": [
        "zero=len(tn_tn.loc[tn_tn['target']==0].index)\n",
        "one=len(tn_tn.loc[tn_tn['target']==1].index)\n",
        "ratio=[zero, one]\n",
        "labels=['target_0', 'target_1']\n",
        "plt.pie(ratio, labels=labels, autopct='%.1f%%', startangle=260, counterclock=False)"
      ],
      "metadata": {
        "colab": {
          "base_uri": "https://localhost:8080/",
          "height": 357
        },
        "id": "Io0bPq1HFIfu",
        "outputId": "3f04aed6-09ea-4595-cb69-97e556c8048c"
      },
      "execution_count": 32,
      "outputs": [
        {
          "output_type": "execute_result",
          "data": {
            "text/plain": [
              "([<matplotlib.patches.Wedge at 0x7f15464f6e10>,\n",
              "  <matplotlib.patches.Wedge at 0x7f1546502650>],\n",
              " [Text(-0.4920152696774862, -0.9838297486883545, 'target_0'),\n",
              "  Text(0.4920152005928933, 0.9838297832376977, 'target_1')],\n",
              " [Text(-0.26837196527862883, -0.536634408375466, '9.2%'),\n",
              "  Text(0.26837192759612355, 0.5366344272205623, '90.8%')])"
            ]
          },
          "metadata": {},
          "execution_count": 32
        },
        {
          "output_type": "display_data",
          "data": {
            "image/png": "[encoded data removed]",
            "text/plain": [
              "<Figure size 432x288 with 1 Axes>"
            ]
          },
          "metadata": {}
        }
      ]
    },
    {
      "cell_type": "markdown",
      "source": [
        "**실험 검증에 사용할 Train data**"
      ],
      "metadata": {
        "id": "ggUYxwwmFIvV"
      }
    },
    {
      "cell_type": "code",
      "source": [
        "zero=len(tn_te.loc[tn_te['target']==0].index)\n",
        "one=len(tn_te.loc[tn_te['target']==1].index)\n",
        "ratio=[zero, one]\n",
        "labels=['target_0', 'target_1']\n",
        "plt.pie(ratio, labels=labels, autopct='%.1f%%', startangle=260, counterclock=False)"
      ],
      "metadata": {
        "colab": {
          "base_uri": "https://localhost:8080/",
          "height": 357
        },
        "id": "OzA81qzfFLde",
        "outputId": "fc553742-82e3-4198-f06c-7333ac25687b"
      },
      "execution_count": 33,
      "outputs": [
        {
          "output_type": "execute_result",
          "data": {
            "text/plain": [
              "([<matplotlib.patches.Wedge at 0x7f15464c8b10>,\n",
              "  <matplotlib.patches.Wedge at 0x7f1546454350>],\n",
              " [Text(-0.48235960838488573, -0.9885996197646345, 'target_0'),\n",
              "  Text(0.4823595389653519, 0.9885996536359566, 'target_1')],\n",
              " [Text(-0.2631052409372104, -0.5392361562352551, '8.9%'),\n",
              "  Text(0.2631052030720101, 0.5392361747105217, '91.1%')])"
            ]
          },
          "metadata": {},
          "execution_count": 33
        },
        {
          "output_type": "display_data",
          "data": {
            "image/png": "[encoded data removed]",
            "text/plain": [
              "<Figure size 432x288 with 1 Axes>"
            ]
          },
          "metadata": {}
        }
      ]
    },
    {
      "cell_type": "markdown",
      "source": [
        "**마지막에 학습시킨Train 원본 데이터 불균형 데이터**"
      ],
      "metadata": {
        "id": "_syQbh1Tsm4J"
      }
    },
    {
      "cell_type": "code",
      "source": [
        "tn_0=train.loc[train['target']==0]\n",
        "tn_1=train.loc[train['target']==1]\n",
        "tn_0_tn, tn_00=train_test_split(tn_0, test_size=0.1, random_state=42)\n",
        "tn_00=tn_00.reset_index()\n",
        "tn_1=tn_1.reset_index()\n",
        "tn_A=pd.concat([tn_1, tn_00], axis=0)\n",
        "tn_A=tn_A.sort_values('index', ascending=True)\n",
        "tn_A.drop('index', axis=1, inplace=True)\n",
        "sns.countplot(tn_A['target'])\n",
        "sns.set_style(\"darkgrid\")"
      ],
      "metadata": {
        "colab": {
          "base_uri": "https://localhost:8080/",
          "height": 279
        },
        "id": "BocZUryZs63Y",
        "outputId": "52c22d4e-f58b-4472-c9cf-eb9cdcf9e0bf"
      },
      "execution_count": 34,
      "outputs": [
        {
          "output_type": "display_data",
          "data": {
            "image/png": "[encoded data removed]",
            "text/plain": [
              "<Figure size 432x288 with 1 Axes>"
            ]
          },
          "metadata": {}
        }
      ]
    },
    {
      "cell_type": "markdown",
      "source": [
        "# Imbalance Data Model Selection"
      ],
      "metadata": {
        "id": "_X9OHBfNriFk"
      }
    },
    {
      "cell_type": "code",
      "source": [
        "!pip install catboost"
      ],
      "metadata": {
        "id": "HtX1Zirar6AM"
      },
      "execution_count": null,
      "outputs": []
    },
    {
      "cell_type": "code",
      "source": [
        "from tqdm import tqdm"
      ],
      "metadata": {
        "id": "1udC_zXcsGIt"
      },
      "execution_count": 35,
      "outputs": []
    },
    {
      "cell_type": "code",
      "source": [
        "from sklearn.linear_model import LinearRegression\n",
        "from sklearn.linear_model import Ridge\n",
        "from sklearn.linear_model import Lasso\n",
        "from sklearn.linear_model import LassoLars\n",
        "from sklearn.linear_model import BayesianRidge\n",
        "from sklearn.linear_model import TweedieRegressor\n",
        "from sklearn.ensemble import GradientBoostingRegressor\n",
        "from sklearn.ensemble import RandomForestRegressor\n",
        "from xgboost import XGBRegressor\n",
        "from lightgbm import LGBMRegressor\n",
        "from sklearn.discriminant_analysis import QuadraticDiscriminantAnalysis\n",
        "from sklearn.discriminant_analysis import LinearDiscriminantAnalysis\n",
        "#from catboost import CatBoostRegressor"
      ],
      "metadata": {
        "id": "7wxS8L3Fr11u"
      },
      "execution_count": 36,
      "outputs": []
    },
    {
      "cell_type": "code",
      "source": [
        "from sklearn.discriminant_analysis import QuadraticDiscriminantAnalysis\n",
        "from sklearn.discriminant_analysis import LinearDiscriminantAnalysis"
      ],
      "metadata": {
        "id": "UGX-G6SqsyP-"
      },
      "execution_count": 37,
      "outputs": []
    },
    {
      "cell_type": "code",
      "source": [
        "from sklearn.linear_model import RidgeCV\n",
        "from sklearn.linear_model import LassoCV\n",
        "from sklearn.ensemble import BaggingClassifier\n",
        "from sklearn.neighbors import KNeighborsClassifier\n",
        "from sklearn.ensemble import RandomForestClassifier\n",
        "from sklearn.ensemble import ExtraTreesClassifier\n",
        "from sklearn.ensemble import AdaBoostClassifier\n",
        "from sklearn.ensemble import GradientBoostingClassifier\n",
        "from xgboost import XGBClassifier\n",
        "from lightgbm import LGBMClassifier\n",
        "#from catboost import CatBoostClassifier"
      ],
      "metadata": {
        "id": "YdbdHqvYtV-g"
      },
      "execution_count": 38,
      "outputs": []
    },
    {
      "cell_type": "code",
      "source": [
        "from sklearn.naive_bayes import GaussianNB\n",
        "from sklearn.svm import SVC \n",
        "from sklearn.svm import LinearSVC\n",
        "from sklearn.preprocessing import MinMaxScaler\n",
        "from sklearn.preprocessing import PolynomialFeatures\n",
        "from sklearn.pipeline import Pipeline"
      ],
      "metadata": {
        "id": "3Dfb56KylxXq"
      },
      "execution_count": 39,
      "outputs": []
    },
    {
      "cell_type": "code",
      "source": [
        "from sklearn.svm import SVC \n",
        "from sklearn.svm import LinearSVC\n",
        "from sklearn.preprocessing import MinMaxScaler\n",
        "from sklearn.preprocessing import PolynomialFeatures\n",
        "from sklearn.pipeline import Pipeline"
      ],
      "metadata": {
        "id": "a_saF3lK6qNO"
      },
      "execution_count": 40,
      "outputs": []
    },
    {
      "cell_type": "code",
      "source": [
        "from tqdm import tqdm"
      ],
      "metadata": {
        "id": "-JeaGAfFBTC9"
      },
      "execution_count": 41,
      "outputs": []
    },
    {
      "cell_type": "code",
      "source": [
        "x_train=tn.drop('target', axis=1)\n",
        "y_train=tn['target']\n",
        "x_test=val.drop('target', axis=1)\n",
        "y_test=val['target']"
      ],
      "metadata": {
        "id": "OhCqfsSiaVBw"
      },
      "execution_count": null,
      "outputs": []
    },
    {
      "cell_type": "code",
      "source": [
        "lr=LinearRegression()\n",
        "ridge=Ridge()\n",
        "lasso=Lasso()\n",
        "br=BayesianRidge()\n",
        "tr=TweedieRegressor()\n",
        "gbR=GradientBoostingRegressor(random_state=42)\n",
        "rfR=RandomForestRegressor(random_state=42)\n",
        "xgbR=XGBRegressor(random_state=42)\n",
        "lgbmR=LGBMRegressor(random_state=42)\n",
        "#cbR=CatBoostRegressor(random_state=42)\n",
        "\n",
        "qd=QuadraticDiscriminantAnalysis()\n",
        "ld=LinearDiscriminantAnalysis()\n",
        "\n",
        "ridgeCV=RidgeCV()\n",
        "lassoCV=LassoCV()\n",
        "bagging=BaggingClassifier(random_state=42)\n",
        "kneigbors=KNeighborsClassifier()\n",
        "rfC=RandomForestClassifier(random_state=42)\n",
        "extra=ExtraTreesClassifier(random_state=42)\n",
        "ada=AdaBoostClassifier(random_state=42)\n",
        "gbC=GradientBoostingClassifier(random_state=42)\n",
        "xgbC=XGBClassifier(random_state=42)\n",
        "lgbmC=LGBMClassifier(random_state=42)\n",
        "#cbC=CatBoostClassifier(random_state=42)\n",
        "\n",
        "\n",
        "gnb=GaussianNB()\n",
        "\n",
        "svm_clf = Pipeline([\n",
        "    ('scaler', MinMaxScaler()),\n",
        "    ('liear_svc', LinearSVC(random_state=42))\n",
        "])"
      ],
      "metadata": {
        "id": "7-wMIE84p94l"
      },
      "execution_count": 42,
      "outputs": []
    },
    {
      "cell_type": "code",
      "source": [
        "def model_result(model, x_train, x_test, y_train, y_test):\n",
        "    model.fit(x_train, y_train)\n",
        "    pred=model.predict(x_train)\n",
        "    df_pred=pd.DataFrame(pred, columns=['target'])\n",
        "    df_pred['target']=df_pred['target'].apply(lambda x:1 if x>=0.5 else 0)\n",
        "    f_1_tn=f1_score(y_train, df_pred)\n",
        "    y_pred=model.predict(x_test)\n",
        "    df_y_pred=pd.DataFrame(y_pred, columns=['target'])\n",
        "    df_y_pred['target']=df_y_pred['target'].apply(lambda x:1 if x>=0.5 else 0)\n",
        "    f_1_te=f1_score(y_test, df_y_pred)\n",
        "    return f_1_tn, f_1_te  "
      ],
      "metadata": {
        "id": "1PsuQidjrCW6"
      },
      "execution_count": null,
      "outputs": []
    },
    {
      "cell_type": "code",
      "source": [
        "model_list=[lr, ridge, lasso, br, tr, gbR, rfR, xgbR, lgbmR, cbR,\n",
        "            ridgeCV,lassoCV,bagging,kneigbors,rfC,extra,ada,gbC,xgbC,lgbmC,cbC,\n",
        "            qd, ld,gnb,svm_clf]\n",
        "model_name=['lr', 'ridgeR', 'lassoR', 'brR', 'trR', 'gbR', 'rfR', 'xgbR', 'lgbmR', 'cbR',\n",
        "               'ridgeCV','lassoCV','baggingC','kneigborsC','rfC','extraC','adaC','gbC','xgbC',\n",
        "                      'lgbmC','cbC','qd', 'ld','gnb','svm_clf']\n",
        "\n",
        "df_model=pd.DataFrame(columns=['name','f1_tn_score','f1_te_score'])\n",
        "\n",
        "k=0\n",
        "for i in tqdm(model_list):\n",
        "  name=model_name[k]\n",
        "  result=model_result(i, x_train, x_test, y_train, y_test)\n",
        "  df_model=df_model.append({'name':name, 'f1_tn_score':result[0],\n",
        "                         'f1_te_score':result[1]}, ignore_index=True)\n",
        "  k+=1\n",
        "\n",
        "df_model=df_model.sort_values('f1_te_score', ascending=False)\n",
        "df_model=df_model.reset_index()\n",
        "df_model.drop('index', axis=1, inplace=True)"
      ],
      "metadata": {
        "id": "cN2X6wz4ZXeM"
      },
      "execution_count": null,
      "outputs": []
    },
    {
      "cell_type": "code",
      "source": [
        "df_model "
      ],
      "metadata": {
        "colab": {
          "base_uri": "https://localhost:8080/",
          "height": 833
        },
        "id": "1EsSd0MYrA1j",
        "outputId": "e120e757-18c4-4b09-a86c-c6f4c0f1fcc9"
      },
      "execution_count": null,
      "outputs": [
        {
          "output_type": "execute_result",
          "data": {
            "text/html": [
              "\n",
              "  <div id=\"df-658f7ed7-9458-4f77-b1ab-b725d0c89090\">\n",
              "    <div class=\"colab-df-container\">\n",
              "      <div>\n",
              "<style scoped>\n",
              "    .dataframe tbody tr th:only-of-type {\n",
              "        vertical-align: middle;\n",
              "    }\n",
              "\n",
              "    .dataframe tbody tr th {\n",
              "        vertical-align: top;\n",
              "    }\n",
              "\n",
              "    .dataframe thead th {\n",
              "        text-align: right;\n",
              "    }\n",
              "</style>\n",
              "<table border=\"1\" class=\"dataframe\">\n",
              "  <thead>\n",
              "    <tr style=\"text-align: right;\">\n",
              "      <th></th>\n",
              "      <th>name</th>\n",
              "      <th>f1_tn_score</th>\n",
              "      <th>f1_te_score</th>\n",
              "    </tr>\n",
              "  </thead>\n",
              "  <tbody>\n",
              "    <tr>\n",
              "      <th>0</th>\n",
              "      <td>qd</td>\n",
              "      <td>0.664323</td>\n",
              "      <td>0.794084</td>\n",
              "    </tr>\n",
              "    <tr>\n",
              "      <th>1</th>\n",
              "      <td>extraC</td>\n",
              "      <td>1.000000</td>\n",
              "      <td>0.779089</td>\n",
              "    </tr>\n",
              "    <tr>\n",
              "      <th>2</th>\n",
              "      <td>svm_clf</td>\n",
              "      <td>0.657619</td>\n",
              "      <td>0.775704</td>\n",
              "    </tr>\n",
              "    <tr>\n",
              "      <th>3</th>\n",
              "      <td>brR</td>\n",
              "      <td>0.657669</td>\n",
              "      <td>0.775672</td>\n",
              "    </tr>\n",
              "    <tr>\n",
              "      <th>4</th>\n",
              "      <td>ridgeR</td>\n",
              "      <td>0.657638</td>\n",
              "      <td>0.775640</td>\n",
              "    </tr>\n",
              "    <tr>\n",
              "      <th>5</th>\n",
              "      <td>ld</td>\n",
              "      <td>0.657647</td>\n",
              "      <td>0.775640</td>\n",
              "    </tr>\n",
              "    <tr>\n",
              "      <th>6</th>\n",
              "      <td>lr</td>\n",
              "      <td>0.657647</td>\n",
              "      <td>0.775640</td>\n",
              "    </tr>\n",
              "    <tr>\n",
              "      <th>7</th>\n",
              "      <td>ridgeCV</td>\n",
              "      <td>0.647347</td>\n",
              "      <td>0.771507</td>\n",
              "    </tr>\n",
              "    <tr>\n",
              "      <th>8</th>\n",
              "      <td>trR</td>\n",
              "      <td>0.638393</td>\n",
              "      <td>0.761067</td>\n",
              "    </tr>\n",
              "    <tr>\n",
              "      <th>9</th>\n",
              "      <td>lassoR</td>\n",
              "      <td>0.634975</td>\n",
              "      <td>0.757276</td>\n",
              "    </tr>\n",
              "    <tr>\n",
              "      <th>10</th>\n",
              "      <td>lassoCV</td>\n",
              "      <td>0.629837</td>\n",
              "      <td>0.754953</td>\n",
              "    </tr>\n",
              "    <tr>\n",
              "      <th>11</th>\n",
              "      <td>gnb</td>\n",
              "      <td>0.613468</td>\n",
              "      <td>0.750570</td>\n",
              "    </tr>\n",
              "    <tr>\n",
              "      <th>12</th>\n",
              "      <td>rfR</td>\n",
              "      <td>1.000000</td>\n",
              "      <td>0.746880</td>\n",
              "    </tr>\n",
              "    <tr>\n",
              "      <th>13</th>\n",
              "      <td>rfC</td>\n",
              "      <td>1.000000</td>\n",
              "      <td>0.743567</td>\n",
              "    </tr>\n",
              "    <tr>\n",
              "      <th>14</th>\n",
              "      <td>cbC</td>\n",
              "      <td>0.716721</td>\n",
              "      <td>0.735283</td>\n",
              "    </tr>\n",
              "    <tr>\n",
              "      <th>15</th>\n",
              "      <td>kneigborsC</td>\n",
              "      <td>0.759166</td>\n",
              "      <td>0.727732</td>\n",
              "    </tr>\n",
              "    <tr>\n",
              "      <th>16</th>\n",
              "      <td>baggingC</td>\n",
              "      <td>0.984721</td>\n",
              "      <td>0.722716</td>\n",
              "    </tr>\n",
              "    <tr>\n",
              "      <th>17</th>\n",
              "      <td>cbR</td>\n",
              "      <td>0.692892</td>\n",
              "      <td>0.717211</td>\n",
              "    </tr>\n",
              "    <tr>\n",
              "      <th>18</th>\n",
              "      <td>lgbmC</td>\n",
              "      <td>0.669698</td>\n",
              "      <td>0.707839</td>\n",
              "    </tr>\n",
              "    <tr>\n",
              "      <th>19</th>\n",
              "      <td>lgbmR</td>\n",
              "      <td>0.666508</td>\n",
              "      <td>0.702344</td>\n",
              "    </tr>\n",
              "    <tr>\n",
              "      <th>20</th>\n",
              "      <td>adaC</td>\n",
              "      <td>0.651737</td>\n",
              "      <td>0.692623</td>\n",
              "    </tr>\n",
              "    <tr>\n",
              "      <th>21</th>\n",
              "      <td>gbC</td>\n",
              "      <td>0.643693</td>\n",
              "      <td>0.674477</td>\n",
              "    </tr>\n",
              "    <tr>\n",
              "      <th>22</th>\n",
              "      <td>xgbC</td>\n",
              "      <td>0.637203</td>\n",
              "      <td>0.664586</td>\n",
              "    </tr>\n",
              "    <tr>\n",
              "      <th>23</th>\n",
              "      <td>xgbR</td>\n",
              "      <td>0.636030</td>\n",
              "      <td>0.662967</td>\n",
              "    </tr>\n",
              "    <tr>\n",
              "      <th>24</th>\n",
              "      <td>gbR</td>\n",
              "      <td>0.635778</td>\n",
              "      <td>0.662484</td>\n",
              "    </tr>\n",
              "  </tbody>\n",
              "</table>\n",
              "</div>\n",
              "      <button class=\"colab-df-convert\" onclick=\"convertToInteractive('df-658f7ed7-9458-4f77-b1ab-b725d0c89090')\"\n",
              "              title=\"Convert this dataframe to an interactive table.\"\n",
              "              style=\"display:none;\">\n",
              "        \n",
              "  <svg xmlns=\"http://www.w3.org/2000/svg\" height=\"24px\"viewBox=\"0 0 24 24\"\n",
              "       width=\"24px\">\n",
              "    <path d=\"M0 0h24v24H0V0z\" fill=\"none\"/>\n",
              "    <path d=\"M18.56 5.44l.94 2.06.94-2.06 2.06-.94-2.06-.94-.94-2.06-.94 2.06-2.06.94zm-11 1L8.5 8.5l.94-2.06 2.06-.94-2.06-.94L8.5 2.5l-.94 2.06-2.06.94zm10 10l.94 2.06.94-2.06 2.06-.94-2.06-.94-.94-2.06-.94 2.06-2.06.94z\"/><path d=\"M17.41 7.96l-1.37-1.37c-.4-.4-.92-.59-1.43-.59-.52 0-1.04.2-1.43.59L10.3 9.45l-7.72 7.72c-.78.78-.78 2.05 0 2.83L4 21.41c.39.39.9.59 1.41.59.51 0 1.02-.2 1.41-.59l7.78-7.78 2.81-2.81c.8-.78.8-2.07 0-2.86zM5.41 20L4 18.59l7.72-7.72 1.47 1.35L5.41 20z\"/>\n",
              "  </svg>\n",
              "      </button>\n",
              "      \n",
              "  <style>\n",
              "    .colab-df-container {\n",
              "      display:flex;\n",
              "      flex-wrap:wrap;\n",
              "      gap: 12px;\n",
              "    }\n",
              "\n",
              "    .colab-df-convert {\n",
              "      background-color: #E8F0FE;\n",
              "      border: none;\n",
              "      border-radius: 50%;\n",
              "      cursor: pointer;\n",
              "      display: none;\n",
              "      fill: #1967D2;\n",
              "      height: 32px;\n",
              "      padding: 0 0 0 0;\n",
              "      width: 32px;\n",
              "    }\n",
              "\n",
              "    .colab-df-convert:hover {\n",
              "      background-color: #E2EBFA;\n",
              "      box-shadow: 0px 1px 2px rgba(60, 64, 67, 0.3), 0px 1px 3px 1px rgba(60, 64, 67, 0.15);\n",
              "      fill: #174EA6;\n",
              "    }\n",
              "\n",
              "    [theme=dark] .colab-df-convert {\n",
              "      background-color: #3B4455;\n",
              "      fill: #D2E3FC;\n",
              "    }\n",
              "\n",
              "    [theme=dark] .colab-df-convert:hover {\n",
              "      background-color: #434B5C;\n",
              "      box-shadow: 0px 1px 3px 1px rgba(0, 0, 0, 0.15);\n",
              "      filter: drop-shadow(0px 1px 2px rgba(0, 0, 0, 0.3));\n",
              "      fill: #FFFFFF;\n",
              "    }\n",
              "  </style>\n",
              "\n",
              "      <script>\n",
              "        const buttonEl =\n",
              "          document.querySelector('#df-658f7ed7-9458-4f77-b1ab-b725d0c89090 button.colab-df-convert');\n",
              "        buttonEl.style.display =\n",
              "          google.colab.kernel.accessAllowed ? 'block' : 'none';\n",
              "\n",
              "        async function convertToInteractive(key) {\n",
              "          const element = document.querySelector('#df-658f7ed7-9458-4f77-b1ab-b725d0c89090');\n",
              "          const dataTable =\n",
              "            await google.colab.kernel.invokeFunction('convertToInteractive',\n",
              "                                                     [key], {});\n",
              "          if (!dataTable) return;\n",
              "\n",
              "          const docLinkHtml = 'Like what you see? Visit the ' +\n",
              "            '<a target=\"_blank\" href=https://colab.research.google.com/notebooks/data_table.ipynb>data table notebook</a>'\n",
              "            + ' to learn more about interactive tables.';\n",
              "          element.innerHTML = '';\n",
              "          dataTable['output_type'] = 'display_data';\n",
              "          await google.colab.output.renderOutput(dataTable, element);\n",
              "          const docLink = document.createElement('div');\n",
              "          docLink.innerHTML = docLinkHtml;\n",
              "          element.appendChild(docLink);\n",
              "        }\n",
              "      </script>\n",
              "    </div>\n",
              "  </div>\n",
              "  "
            ],
            "text/plain": [
              "          name  f1_tn_score  f1_te_score\n",
              "0           qd     0.664323     0.794084\n",
              "1       extraC     1.000000     0.779089\n",
              "2      svm_clf     0.657619     0.775704\n",
              "3          brR     0.657669     0.775672\n",
              "4       ridgeR     0.657638     0.775640\n",
              "5           ld     0.657647     0.775640\n",
              "6           lr     0.657647     0.775640\n",
              "7      ridgeCV     0.647347     0.771507\n",
              "8          trR     0.638393     0.761067\n",
              "9       lassoR     0.634975     0.757276\n",
              "10     lassoCV     0.629837     0.754953\n",
              "11         gnb     0.613468     0.750570\n",
              "12         rfR     1.000000     0.746880\n",
              "13         rfC     1.000000     0.743567\n",
              "14         cbC     0.716721     0.735283\n",
              "15  kneigborsC     0.759166     0.727732\n",
              "16    baggingC     0.984721     0.722716\n",
              "17         cbR     0.692892     0.717211\n",
              "18       lgbmC     0.669698     0.707839\n",
              "19       lgbmR     0.666508     0.702344\n",
              "20        adaC     0.651737     0.692623\n",
              "21         gbC     0.643693     0.674477\n",
              "22        xgbC     0.637203     0.664586\n",
              "23        xgbR     0.636030     0.662967\n",
              "24         gbR     0.635778     0.662484"
            ]
          },
          "metadata": {},
          "execution_count": 99
        }
      ]
    },
    {
      "cell_type": "code",
      "source": [
        "#x_train=tn.drop('target', axis=1)\n",
        "#y_train=tn['target']\n",
        "#x_test=test.copy()"
      ],
      "metadata": {
        "id": "Ie2w59ra8uKt"
      },
      "execution_count": null,
      "outputs": []
    },
    {
      "cell_type": "code",
      "source": [
        "#model_list=[lr, ridge, lasso, br, tr, gbR, rfR, xgbR, lgbmR, cbR,\n",
        "#            ridgeCV,lassoCV,bagging,kneigbors,rfC,extra,ada,gbC,xgbC,lgbmC,cbC,\n",
        "#            qd, ld,gnb,svm_clf]\n",
        "#model_name=['lr', 'ridgeR', 'lassoR', 'brR', 'trR', 'gbR', 'rfR', 'xgbR', 'lgbmR', 'cbR',\n",
        "#               'ridgeCV','lassoCV','baggingC','kneigborsC','rfC','extraC','adaC','gbC','xgbC',\n",
        "#                      'lgbmC','cbC','qd', 'ld','gnb','svm_clf']\n",
        "#k=0\n",
        "#\n",
        "#for md in model_list:\n",
        "#  name=model_name[k]\n",
        "#  result=md.fit(x_train, y_train)\n",
        "#  print(name)\n",
        "#  y_pred=md.predict(x_test)\n",
        "#  df_pred=pd.DataFrame(y_pred, columns=['target'])\n",
        "#  df_pred['target']=df_pred['target'].apply(lambda x:1 if x>=0.5 else 0)\n",
        "#  sns.countplot(df_pred['target'])\n",
        "#  plt.show()\n",
        "#  k+=1"
      ],
      "metadata": {
        "id": "e8Y_cno_9Dwm"
      },
      "execution_count": null,
      "outputs": []
    },
    {
      "cell_type": "markdown",
      "source": [
        "실제 제출 try\n",
        "--"
      ],
      "metadata": {
        "id": "td_PQ15_shos"
      }
    },
    {
      "cell_type": "markdown",
      "source": [
        "extra tree classifier"
      ],
      "metadata": {
        "id": "cpsMG0aZeufp"
      }
    },
    {
      "cell_type": "code",
      "source": [
        "extra.fit(x_train, y_train)\n",
        "y_pred=extra.predict(x_test)\n",
        "df_pred=pd.DataFrame(y_pred, columns=['target'])\n",
        "df_pred['target']=df_pred['target'].apply(lambda x:1 if x>=0.5 else 0)"
      ],
      "metadata": {
        "id": "U1pd92ZTcurb"
      },
      "execution_count": null,
      "outputs": []
    },
    {
      "cell_type": "code",
      "source": [
        "zero=len(df_pred.loc[df_pred['target']==0].index)\n",
        "one=len(df_pred.loc[df_pred['target']==1].index)\n",
        "ratio=[zero, one]\n",
        "labels=['target_0', 'target_1']\n",
        "plt.pie(ratio, labels=labels, autopct='%.1f%%', startangle=260, counterclock=False)"
      ],
      "metadata": {
        "colab": {
          "base_uri": "https://localhost:8080/",
          "height": 357
        },
        "id": "G2tToeWOdGAZ",
        "outputId": "9442ae3d-f9e2-4e4e-8dbf-a684f8e8bb61"
      },
      "execution_count": null,
      "outputs": [
        {
          "output_type": "execute_result",
          "data": {
            "text/plain": [
              "([<matplotlib.patches.Wedge at 0x7f2881522a90>,\n",
              "  <matplotlib.patches.Wedge at 0x7f288153e2d0>],\n",
              " [Text(-0.3947747869868006, -1.0267194687739813, 'target_0'),\n",
              "  Text(0.39477478698680046, 1.0267194687739813, 'target_1')],\n",
              " [Text(-0.2153317019928003, -0.5600288011494443, '6.1%'),\n",
              "  Text(0.21533170199280022, 0.5600288011494443, '93.9%')])"
            ]
          },
          "metadata": {},
          "execution_count": 46
        },
        {
          "output_type": "display_data",
          "data": {
            "image/png": "[encoded data removed]",
            "text/plain": [
              "<Figure size 432x288 with 1 Axes>"
            ]
          },
          "metadata": {}
        }
      ]
    },
    {
      "cell_type": "code",
      "source": [
        "df_pred['target'].value_counts()"
      ],
      "metadata": {
        "colab": {
          "base_uri": "https://localhost:8080/"
        },
        "id": "AD4rasrZdM6q",
        "outputId": "665dbcf8-e4ce-426c-d32c-ce0c49d45179"
      },
      "execution_count": null,
      "outputs": [
        {
          "output_type": "execute_result",
          "data": {
            "text/plain": [
              "1    43560\n",
              "0     2844\n",
              "Name: target, dtype: int64"
            ]
          },
          "metadata": {},
          "execution_count": 47
        }
      ]
    },
    {
      "cell_type": "code",
      "source": [
        "sub_1.drop('target',axis=1, inplace=True)\n",
        "sub_extra=pd.concat([sub_1, df_pred], axis=1)"
      ],
      "metadata": {
        "id": "MfLJEZ5EcuuH"
      },
      "execution_count": null,
      "outputs": []
    },
    {
      "cell_type": "code",
      "source": [
        "sub_extra.to_csv(\"sub_extra.csv\", index=False)"
      ],
      "metadata": {
        "id": "i9aqPRr-cuzr"
      },
      "execution_count": null,
      "outputs": []
    },
    {
      "cell_type": "markdown",
      "source": [
        "- 0.6784로 점수가 더 높아짐\n",
        "\n",
        "- 그 전 최고 기록이 target_1이 89.1%, target_0이 10.9% 였음.\n",
        "\n",
        "- 어쩌면 test target_1이 99%, test target_0이 1% 아닐까 싶기도..."
      ],
      "metadata": {
        "id": "j-WURfaRd0v1"
      }
    },
    {
      "cell_type": "markdown",
      "source": [
        "RidgeCV로 다시 시도"
      ],
      "metadata": {
        "id": "DvjPngGjemQ6"
      }
    },
    {
      "cell_type": "code",
      "source": [
        "ridgeCV.fit(x_train, y_train)\n",
        "y_pred=ridgeCV.predict(x_test)\n",
        "df_pred=pd.DataFrame(y_pred, columns=['target'])\n",
        "df_pred['target']=df_pred['target'].apply(lambda x:1 if x>=0.5 else 0)"
      ],
      "metadata": {
        "id": "mEdEYw0Zcu15"
      },
      "execution_count": null,
      "outputs": []
    },
    {
      "cell_type": "code",
      "source": [
        "zero=len(df_pred.loc[df_pred['target']==0].index)\n",
        "one=len(df_pred.loc[df_pred['target']==1].index)\n",
        "ratio=[zero, one]\n",
        "labels=['target_0', 'target_1']\n",
        "plt.pie(ratio, labels=labels, autopct='%.1f%%', startangle=260, counterclock=False)"
      ],
      "metadata": {
        "colab": {
          "base_uri": "https://localhost:8080/",
          "height": 357
        },
        "id": "Q6z0-6zqd4Ip",
        "outputId": "6e31a6de-d4ff-4ebb-ce2e-404b253d629e"
      },
      "execution_count": null,
      "outputs": [
        {
          "output_type": "execute_result",
          "data": {
            "text/plain": [
              "([<matplotlib.patches.Wedge at 0x7f287c4328d0>,\n",
              "  <matplotlib.patches.Wedge at 0x7f287c3120d0>],\n",
              " [Text(-0.2551747913679548, -1.0699933765450704, 'target_0'),\n",
              "  Text(0.2551748226742078, 1.0699933690790737, 'target_1')],\n",
              " [Text(-0.13918624983706623, -0.5836327508427657, '1.9%'),\n",
              "  Text(0.13918626691320424, 0.5836327467704038, '98.1%')])"
            ]
          },
          "metadata": {},
          "execution_count": 53
        },
        {
          "output_type": "display_data",
          "data": {
            "image/png": "[encoded data removed]",
            "text/plain": [
              "<Figure size 432x288 with 1 Axes>"
            ]
          },
          "metadata": {}
        }
      ]
    },
    {
      "cell_type": "code",
      "source": [
        "df_pred['target'].value_counts()"
      ],
      "metadata": {
        "colab": {
          "base_uri": "https://localhost:8080/"
        },
        "id": "J8rRAvYtd4LV",
        "outputId": "9f3273d4-13ff-4a65-e1b0-ce7783a48fe7"
      },
      "execution_count": null,
      "outputs": [
        {
          "output_type": "execute_result",
          "data": {
            "text/plain": [
              "1    45524\n",
              "0      880\n",
              "Name: target, dtype: int64"
            ]
          },
          "metadata": {},
          "execution_count": 54
        }
      ]
    },
    {
      "cell_type": "code",
      "source": [
        "sub_ridgeCV=pd.concat([sub_1, df_pred], axis=1)"
      ],
      "metadata": {
        "id": "1oq45jMLd4RJ"
      },
      "execution_count": null,
      "outputs": []
    },
    {
      "cell_type": "code",
      "source": [
        "sub_ridgeCV.to_csv(\"sub_ridgeCV.csv\", index=False)"
      ],
      "metadata": {
        "id": "9P6d5nLdfFy1"
      },
      "execution_count": null,
      "outputs": []
    },
    {
      "cell_type": "markdown",
      "source": [
        "- target이 1이 더 많아졌는데도, 점수가 떨어진 거는 이번이 처음 이었다. 따라서 test 데이터의 target_1이 94% 전후로 구성 되어 있다는 판단이 된다. \n",
        "\n",
        "|target_1(%)|target_0(%)|score|\n",
        "|---|---|---|\n",
        "|89.1%|10.9%|0.6145|\n",
        "|93.9%|6.1%|0.6784|\n",
        "|98.1%|1.9%|0.6712|\n"
      ],
      "metadata": {
        "id": "IKfAN3SZfc6R"
      }
    },
    {
      "cell_type": "code",
      "source": [
        "def pie_show(df):\n",
        "  zero=len(df.loc[df['target']==0].index)\n",
        "  one=len(df.loc[df['target']==1].index)\n",
        "  ratio=[zero, one]\n",
        "  labels=['target_0', 'target_1']\n",
        "  plt.pie(ratio, labels=labels, autopct='%.1f%%', startangle=260, counterclock=False)\n",
        "  plt.show()"
      ],
      "metadata": {
        "id": "qIFX-F66gC2C"
      },
      "execution_count": null,
      "outputs": []
    },
    {
      "cell_type": "code",
      "source": [
        "model_list=[qd,extra,br,svm_clf,ld,lr,ridge,ridgeCV]\n",
        "model_name=['qd','extra','br','svm_clf','ld','lr','ridge','ridgeCV']\n",
        "k=0\n",
        "\n",
        "for md in model_list:\n",
        "  name=model_name[k]\n",
        "  result=md.fit(x_train, y_train)\n",
        "  print(name)\n",
        "  y_pred=md.predict(x_test)\n",
        "  df_pred=pd.DataFrame(y_pred, columns=['target'])\n",
        "  df_pred['target']=df_pred['target'].apply(lambda x:1 if x>=0.5 else 0)\n",
        "  pie_show(df_pred)\n",
        "  k+=1"
      ],
      "metadata": {
        "colab": {
          "base_uri": "https://localhost:8080/",
          "height": 1000
        },
        "id": "G-sUuUDxgC5P",
        "outputId": "1186e702-2fd4-4b04-8021-4a041006bb28"
      },
      "execution_count": null,
      "outputs": [
        {
          "output_type": "stream",
          "name": "stdout",
          "text": [
            "qd\n"
          ]
        },
        {
          "output_type": "display_data",
          "data": {
            "image/png": "[encoded data removed]",
            "text/plain": [
              "<Figure size 432x288 with 1 Axes>"
            ]
          },
          "metadata": {}
        },
        {
          "output_type": "stream",
          "name": "stdout",
          "text": [
            "extra\n"
          ]
        },
        {
          "output_type": "display_data",
          "data": {
            "image/png": "[encoded data removed]",
            "text/plain": [
              "<Figure size 432x288 with 1 Axes>"
            ]
          },
          "metadata": {}
        },
        {
          "output_type": "stream",
          "name": "stdout",
          "text": [
            "br\n"
          ]
        },
        {
          "output_type": "display_data",
          "data": {
            "image/png": "[encoded data removed]",
            "text/plain": [
              "<Figure size 432x288 with 1 Axes>"
            ]
          },
          "metadata": {}
        },
        {
          "output_type": "stream",
          "name": "stdout",
          "text": [
            "svm_clf\n"
          ]
        },
        {
          "output_type": "display_data",
          "data": {
            "image/png": "[encoded data removed]",
            "text/plain": [
              "<Figure size 432x288 with 1 Axes>"
            ]
          },
          "metadata": {}
        },
        {
          "output_type": "stream",
          "name": "stdout",
          "text": [
            "ld\n"
          ]
        },
        {
          "output_type": "display_data",
          "data": {
            "image/png": "[encoded data removed]",
            "text/plain": [
              "<Figure size 432x288 with 1 Axes>"
            ]
          },
          "metadata": {}
        },
        {
          "output_type": "stream",
          "name": "stdout",
          "text": [
            "lr\n"
          ]
        },
        {
          "output_type": "display_data",
          "data": {
            "image/png": "[encoded data removed]",
            "text/plain": [
              "<Figure size 432x288 with 1 Axes>"
            ]
          },
          "metadata": {}
        },
        {
          "output_type": "stream",
          "name": "stdout",
          "text": [
            "ridge\n"
          ]
        },
        {
          "output_type": "display_data",
          "data": {
            "image/png": "[encoded data removed]",
            "text/plain": [
              "<Figure size 432x288 with 1 Axes>"
            ]
          },
          "metadata": {}
        },
        {
          "output_type": "stream",
          "name": "stdout",
          "text": [
            "ridgeCV\n"
          ]
        },
        {
          "output_type": "display_data",
          "data": {
            "image/png": "[encoded data removed]",
            "text/plain": [
              "<Figure size 432x288 with 1 Axes>"
            ]
          },
          "metadata": {}
        }
      ]
    },
    {
      "cell_type": "markdown",
      "source": [
        "# Feature Selection"
      ],
      "metadata": {
        "id": "aSwEr4-15ql2"
      }
    },
    {
      "cell_type": "markdown",
      "source": [
        "**RFE**\n",
        "\n",
        "- https://hongl.tistory.com/116"
      ],
      "metadata": {
        "id": "Z-NywmlsSxUR"
      }
    },
    {
      "cell_type": "markdown",
      "source": [
        "Feature Selection의 경우 실험용 학습 데이터인 tn_tn을 학습하여, 실험용 실습 데이터인 tn_te으로 1차 검증하고, 최종 검증 데이터인 val 데이터로 2차 검증하여 이들의 f1_score를 산술 평균으로 구하여, 그에 합당한 feature를 선택한다."
      ],
      "metadata": {
        "id": "peCg28lNG0Nc"
      }
    },
    {
      "cell_type": "markdown",
      "source": [
        "최종 학습데이터로 먼저 feature 순위 정하기\n",
        "--"
      ],
      "metadata": {
        "id": "CqUU7yulHP-G"
      }
    },
    {
      "cell_type": "code",
      "source": [
        "x=tn.drop('target', axis=1)\n",
        "y=tn['target']"
      ],
      "metadata": {
        "id": "6Ki9IGO_Rmhn"
      },
      "execution_count": null,
      "outputs": []
    },
    {
      "cell_type": "code",
      "source": [
        "qd=QuadraticDiscriminantAnalysis()\n",
        "extra=ExtraTreesClassifier(random_state=42)\n",
        "svm_clf = Pipeline([\n",
        "    ('scaler', MinMaxScaler()),\n",
        "    ('liear_svc', LinearSVC(random_state=42))\n",
        "])"
      ],
      "metadata": {
        "id": "8tNHsVCg6p5a"
      },
      "execution_count": null,
      "outputs": []
    },
    {
      "cell_type": "code",
      "source": [
        "from sklearn.feature_selection import RFE\n",
        "\n",
        "rfe=RFE(estimator=extra, n_features_to_select=5)\n",
        "rfe.fit(x,y)"
      ],
      "metadata": {
        "colab": {
          "base_uri": "https://localhost:8080/"
        },
        "id": "ZmWUy5wdQ5U_",
        "outputId": "0965b21d-0895-48d7-95ec-c210df8bea22"
      },
      "execution_count": null,
      "outputs": [
        {
          "output_type": "execute_result",
          "data": {
            "text/plain": [
              "RFE(estimator=ExtraTreesClassifier(random_state=42), n_features_to_select=5)"
            ]
          },
          "metadata": {},
          "execution_count": 43
        }
      ]
    },
    {
      "cell_type": "code",
      "source": [
        "for i in range(x.shape[1]):\n",
        "  print(f\"column {i}, selected : {rfe.support_[i]}, rank: {rfe.ranking_[i]}\")"
      ],
      "metadata": {
        "colab": {
          "base_uri": "https://localhost:8080/"
        },
        "id": "xE8h8VLQQ6TK",
        "outputId": "a5f66cc5-9bb7-48b2-e92b-daca575475ee"
      },
      "execution_count": null,
      "outputs": [
        {
          "output_type": "stream",
          "name": "stdout",
          "text": [
            "column 0, selected : True, rank: 1\n",
            "column 1, selected : False, rank: 50\n",
            "column 2, selected : False, rank: 53\n",
            "column 3, selected : False, rank: 54\n",
            "column 4, selected : False, rank: 49\n",
            "column 5, selected : False, rank: 43\n",
            "column 6, selected : False, rank: 47\n",
            "column 7, selected : False, rank: 41\n",
            "column 8, selected : False, rank: 13\n",
            "column 9, selected : False, rank: 22\n",
            "column 10, selected : False, rank: 31\n",
            "column 11, selected : True, rank: 1\n",
            "column 12, selected : False, rank: 4\n",
            "column 13, selected : False, rank: 7\n",
            "column 14, selected : False, rank: 17\n",
            "column 15, selected : False, rank: 18\n",
            "column 16, selected : False, rank: 8\n",
            "column 17, selected : False, rank: 9\n",
            "column 18, selected : False, rank: 32\n",
            "column 19, selected : False, rank: 30\n",
            "column 20, selected : False, rank: 28\n",
            "column 21, selected : False, rank: 48\n",
            "column 22, selected : False, rank: 42\n",
            "column 23, selected : False, rank: 52\n",
            "column 24, selected : True, rank: 1\n",
            "column 25, selected : False, rank: 2\n",
            "column 26, selected : False, rank: 27\n",
            "column 27, selected : False, rank: 15\n",
            "column 28, selected : False, rank: 6\n",
            "column 29, selected : True, rank: 1\n",
            "column 30, selected : True, rank: 1\n",
            "column 31, selected : False, rank: 12\n",
            "column 32, selected : False, rank: 26\n",
            "column 33, selected : False, rank: 38\n",
            "column 34, selected : False, rank: 51\n",
            "column 35, selected : False, rank: 16\n",
            "column 36, selected : False, rank: 24\n",
            "column 37, selected : False, rank: 36\n",
            "column 38, selected : False, rank: 44\n",
            "column 39, selected : False, rank: 19\n",
            "column 40, selected : False, rank: 29\n",
            "column 41, selected : False, rank: 39\n",
            "column 42, selected : False, rank: 46\n",
            "column 43, selected : False, rank: 10\n",
            "column 44, selected : False, rank: 21\n",
            "column 45, selected : False, rank: 34\n",
            "column 46, selected : False, rank: 45\n",
            "column 47, selected : False, rank: 40\n",
            "column 48, selected : False, rank: 25\n",
            "column 49, selected : False, rank: 35\n",
            "column 50, selected : False, rank: 20\n",
            "column 51, selected : False, rank: 33\n",
            "column 52, selected : False, rank: 23\n",
            "column 53, selected : False, rank: 37\n",
            "column 54, selected : False, rank: 14\n",
            "column 55, selected : False, rank: 3\n",
            "column 56, selected : False, rank: 5\n",
            "column 57, selected : False, rank: 11\n"
          ]
        }
      ]
    },
    {
      "cell_type": "code",
      "source": [
        "#from sklearn.model_selection import RepeatedStratifiedKFold\n",
        "#from sklearn.feature_selection import RFECV\n",
        "#\n",
        "#cv=RepeatedStratifiedKFold(n_splits=10, n_repeats=3, random_state=42)\n",
        "#rfe=RFECV(estimator=extra, cv=cv)\n",
        "#rfe.fit(x,y)\n",
        "#\n",
        "#for i in range(x.shape[1]):\n",
        "#  print(f\"column {i}, selected : {rfe.support_[i]}, rank: {rfe.ranking_[i]}\")"
      ],
      "metadata": {
        "id": "xRjPJ0egQ6V8"
      },
      "execution_count": null,
      "outputs": []
    },
    {
      "cell_type": "markdown",
      "source": [
        "**실험용 학습데이터로 학습 후, 1,2차 검증 하기**"
      ],
      "metadata": {
        "id": "LhCARryUHbrF"
      }
    },
    {
      "cell_type": "markdown",
      "source": [
        "RFE 결과 순위\n",
        "\n",
        "```\n",
        "rank 1\n",
        "\n",
        "'id'\n",
        "'person_prefer_d_1'\n",
        "'contents_attribute_l'\n",
        "'person_rn'\n",
        "'contents_rn'\n",
        "\n",
        "rank 2 - rank 12\n",
        "\n",
        "'contents_attribute_d'\n",
        "'date'\n",
        "'person_prefer_d_2'\n",
        "'hour'\n",
        "'contents_attribute_h'\n",
        "'person_prefer_d_3'\n",
        "'person_prefer_h_2'\n",
        "'person_prefer_h_3'\n",
        "'contents_attribute_d_n'\n",
        "'day'\n",
        "'person_prefer_d_1_n'\n",
        "\n",
        "rank 13 - 25\n",
        "\n",
        "'person_attribute_a_1'\n",
        "'contents_attribute_h_m'\n",
        "'contents_attribute_e'\n",
        "'person_prefer_d_2_n'\n",
        "'person_prefer_e'\n",
        "'person_prefer_h_1'\n",
        "'person_prefer_d_3_n'\n",
        "'person_prefer_h_2_m'\n",
        "'contents_attribute_d_s'\n",
        "'person_attribute_b'\n",
        "'person_prefer_h_3_m'\n",
        "'person_prefer_d_2_s'\n",
        "'person_prefer_h_1_m'\n",
        "\n",
        "rank 26-40\n",
        "\n",
        "'person_prefer_d_1_s'\n",
        "'contents_attribute_m'\n",
        "'contents_attribute_j_1'\n",
        "'person_prefer_d_3_s'\n",
        "'contents_attribute_a'\n",
        "'person_prefer_c'\n",
        "'contents_attribute_i'\n",
        "'person_prefer_h_3_l'\n",
        "'contents_attribute_d_m'\n",
        "'person_prefer_h_2_l'\n",
        "'person_prefer_d_2_m'\n",
        "'contents_attribute_h_l'\n",
        "'person_prefer_d_1_m'\n",
        "'person_prefer_d_3_m'\n",
        "'person_prefer_h_1_l'\n",
        "\n",
        "rank41-rank 54\n",
        "\n",
        "person_attribute_a\n",
        "contents_attribute_c\n",
        "h_m_match_yn\n",
        "person_prefer_d_2_l\n",
        "contents_attribute_d_l\n",
        "person_prefer_d_3_l\n",
        "h_s_match_yn\n",
        "contents_attribute_j\n",
        "h_l_match_yn\n",
        "d_l_match_yn\n",
        "person_prefer_d_1_l\n",
        "contents_attribute_k\n",
        "d_m_match_yn\n",
        "d_s_match_yn\n",
        "```\n",
        "\n"
      ],
      "metadata": {
        "id": "ZJabQkELHhku"
      }
    },
    {
      "cell_type": "code",
      "source": [
        "col_list=['id',\n",
        "'person_prefer_d_1',\n",
        "'contents_attribute_l',\n",
        "'person_rn',\n",
        "'contents_rn',\n",
        "'contents_attribute_d',\n",
        "'date',\n",
        "'person_prefer_d_2',\n",
        "'hour',\n",
        "'contents_attribute_h',\n",
        "'person_prefer_d_3',\n",
        "'person_prefer_h_2',\n",
        "'person_prefer_h_3',\n",
        "'contents_attribute_d_n',\n",
        "'day',\n",
        "'person_prefer_d_1_n',\n",
        "  'person_attribute_a_1',\n",
        "'contents_attribute_h_m',\n",
        "'contents_attribute_e',\n",
        "'person_prefer_d_2_n',\n",
        "'person_prefer_e',\n",
        "'person_prefer_h_1',\n",
        "'person_prefer_d_3_n',\n",
        "'person_prefer_h_2_m',\n",
        "'contents_attribute_d_s',\n",
        "'person_attribute_b',\n",
        "'person_prefer_h_3_m',\n",
        "'person_prefer_d_2_s',\n",
        "'person_prefer_h_1_m',\n",
        "          'person_prefer_d_1_s',\n",
        "'contents_attribute_m',\n",
        "'contents_attribute_j_1',\n",
        "'person_prefer_d_3_s',\n",
        "'contents_attribute_a',\n",
        "'person_prefer_c',\n",
        "'contents_attribute_i',\n",
        "'person_prefer_h_3_l',\n",
        "'contents_attribute_d_m',\n",
        "'person_prefer_h_2_l',\n",
        "'person_prefer_d_2_m',\n",
        "'contents_attribute_h_l',\n",
        "'person_prefer_d_1_m',\n",
        "'person_prefer_d_3_m',\n",
        "'person_prefer_h_1_l',\n",
        "'person_attribute_a',\n",
        "'contents_attribute_c',\n",
        "'h_m_match_yn',\n",
        "'person_prefer_d_2_l',\n",
        "'contents_attribute_d_l',\n",
        "'person_prefer_d_3_l',\n",
        "'h_s_match_yn',\n",
        "'contents_attribute_j',\n",
        "'h_l_match_yn',\n",
        "'d_l_match_yn',\n",
        "'person_prefer_d_1_l',\n",
        "'contents_attribute_k',\n",
        "'d_m_match_yn',\n",
        "'d_s_match_yn']  "
      ],
      "metadata": {
        "id": "dZ4T3DbeSwHm"
      },
      "execution_count": 85,
      "outputs": []
    },
    {
      "cell_type": "code",
      "source": [
        "col_list.reverse() # 이 순위를 역순으로 바꾸어서 drop할 feature 선정"
      ],
      "metadata": {
        "id": "RC2_uke-HuDJ"
      },
      "execution_count": 86,
      "outputs": []
    },
    {
      "cell_type": "code",
      "source": [
        "# 1차 검증\n",
        "x_train=tn_tn.drop('target', axis=1)\n",
        "y_train=tn_tn['target']\n",
        "x_test=tn_te.drop('target', axis=1)\n",
        "y_test=tn_te['target']\n",
        "\n",
        "# 2차 검증\n",
        "x=tn.drop('target', axis=1)\n",
        "y=tn['target']\n",
        "x_val=val.drop('target', axis=1)\n",
        "y_val=val['target']"
      ],
      "metadata": {
        "id": "bJZZPooRH7bW"
      },
      "execution_count": null,
      "outputs": []
    },
    {
      "cell_type": "code",
      "source": [
        "df_score=pd.DataFrame(columns=['col_values','f1_1_score','f1_2_score','f1_avg_score'])\n",
        "\n",
        "for i in tqdm(range(len(col_list)-1)):\n",
        "  extra=ExtraTreesClassifier(random_state=42)\n",
        "  s=col_list[:i]\n",
        "  x_tn=x_train.drop(s, axis=1)\n",
        "  x_te=x_test.drop(s, axis=1)\n",
        "  extra.fit(x_tn, y_train)\n",
        "  y_pred_1=extra.predict(x_te)\n",
        "  f_1_1=f1_score(y_test,y_pred_1)\n",
        "\n",
        "  x_vn=x.drop(s, axis=1)\n",
        "  x_ve=x_val.drop(s, axis=1)\n",
        "  extra.fit(x_vn, y)\n",
        "  y_pred_2=extra.predict(x_ve)\n",
        "  f_1_2=f1_score(y_val, y_pred_2)\n",
        "  f_1_a=(f_1_1+f_1_2)/2\n",
        "  df_score=df_score.append({'col_values':i, 'f1_1_score':f_1_1, 'f1_2_score':f_1_2\n",
        "                              ,'f1_avg_score':f_1_a}, ignore_index=True)\n",
        "\n",
        "df_score=df_score.sort_values('f1_avg_score', ascending=False)"
      ],
      "metadata": {
        "colab": {
          "base_uri": "https://localhost:8080/"
        },
        "id": "KP6jJCGhHzI4",
        "outputId": "b496065e-2c0b-4ab8-c882-be60d63c8c92"
      },
      "execution_count": null,
      "outputs": [
        {
          "output_type": "stream",
          "name": "stderr",
          "text": [
            "100%|██████████| 57/57 [44:09<00:00, 46.48s/it]\n"
          ]
        }
      ]
    },
    {
      "cell_type": "markdown",
      "source": [
        "**첫 번째 검증 데이터에서 가장 성적이 좋았던 결과**"
      ],
      "metadata": {
        "id": "YaMyNHFVUywh"
      }
    },
    {
      "cell_type": "code",
      "source": [
        "df_score.sort_values('f1_1_score', ascending=False).head(5)"
      ],
      "metadata": {
        "colab": {
          "base_uri": "https://localhost:8080/",
          "height": 206
        },
        "id": "JTrbmAqzJ_y9",
        "outputId": "54dbd20e-268c-4e65-971a-1b172790921d"
      },
      "execution_count": null,
      "outputs": [
        {
          "output_type": "execute_result",
          "data": {
            "text/html": [
              "\n",
              "  <div id=\"df-7cd59b0f-3742-40bd-b7ab-419aca3f2e9d\">\n",
              "    <div class=\"colab-df-container\">\n",
              "      <div>\n",
              "<style scoped>\n",
              "    .dataframe tbody tr th:only-of-type {\n",
              "        vertical-align: middle;\n",
              "    }\n",
              "\n",
              "    .dataframe tbody tr th {\n",
              "        vertical-align: top;\n",
              "    }\n",
              "\n",
              "    .dataframe thead th {\n",
              "        text-align: right;\n",
              "    }\n",
              "</style>\n",
              "<table border=\"1\" class=\"dataframe\">\n",
              "  <thead>\n",
              "    <tr style=\"text-align: right;\">\n",
              "      <th></th>\n",
              "      <th>col_values</th>\n",
              "      <th>f1_1_score</th>\n",
              "      <th>f1_2_score</th>\n",
              "      <th>f1_avg_score</th>\n",
              "    </tr>\n",
              "  </thead>\n",
              "  <tbody>\n",
              "    <tr>\n",
              "      <th>2</th>\n",
              "      <td>2.0</td>\n",
              "      <td>0.953482</td>\n",
              "      <td>0.952522</td>\n",
              "      <td>0.953002</td>\n",
              "    </tr>\n",
              "    <tr>\n",
              "      <th>22</th>\n",
              "      <td>22.0</td>\n",
              "      <td>0.953478</td>\n",
              "      <td>0.952481</td>\n",
              "      <td>0.952980</td>\n",
              "    </tr>\n",
              "    <tr>\n",
              "      <th>20</th>\n",
              "      <td>20.0</td>\n",
              "      <td>0.953475</td>\n",
              "      <td>0.952499</td>\n",
              "      <td>0.952987</td>\n",
              "    </tr>\n",
              "    <tr>\n",
              "      <th>9</th>\n",
              "      <td>9.0</td>\n",
              "      <td>0.953473</td>\n",
              "      <td>0.952416</td>\n",
              "      <td>0.952944</td>\n",
              "    </tr>\n",
              "    <tr>\n",
              "      <th>21</th>\n",
              "      <td>21.0</td>\n",
              "      <td>0.953469</td>\n",
              "      <td>0.952504</td>\n",
              "      <td>0.952987</td>\n",
              "    </tr>\n",
              "  </tbody>\n",
              "</table>\n",
              "</div>\n",
              "      <button class=\"colab-df-convert\" onclick=\"convertToInteractive('df-7cd59b0f-3742-40bd-b7ab-419aca3f2e9d')\"\n",
              "              title=\"Convert this dataframe to an interactive table.\"\n",
              "              style=\"display:none;\">\n",
              "        \n",
              "  <svg xmlns=\"http://www.w3.org/2000/svg\" height=\"24px\"viewBox=\"0 0 24 24\"\n",
              "       width=\"24px\">\n",
              "    <path d=\"M0 0h24v24H0V0z\" fill=\"none\"/>\n",
              "    <path d=\"M18.56 5.44l.94 2.06.94-2.06 2.06-.94-2.06-.94-.94-2.06-.94 2.06-2.06.94zm-11 1L8.5 8.5l.94-2.06 2.06-.94-2.06-.94L8.5 2.5l-.94 2.06-2.06.94zm10 10l.94 2.06.94-2.06 2.06-.94-2.06-.94-.94-2.06-.94 2.06-2.06.94z\"/><path d=\"M17.41 7.96l-1.37-1.37c-.4-.4-.92-.59-1.43-.59-.52 0-1.04.2-1.43.59L10.3 9.45l-7.72 7.72c-.78.78-.78 2.05 0 2.83L4 21.41c.39.39.9.59 1.41.59.51 0 1.02-.2 1.41-.59l7.78-7.78 2.81-2.81c.8-.78.8-2.07 0-2.86zM5.41 20L4 18.59l7.72-7.72 1.47 1.35L5.41 20z\"/>\n",
              "  </svg>\n",
              "      </button>\n",
              "      \n",
              "  <style>\n",
              "    .colab-df-container {\n",
              "      display:flex;\n",
              "      flex-wrap:wrap;\n",
              "      gap: 12px;\n",
              "    }\n",
              "\n",
              "    .colab-df-convert {\n",
              "      background-color: #E8F0FE;\n",
              "      border: none;\n",
              "      border-radius: 50%;\n",
              "      cursor: pointer;\n",
              "      display: none;\n",
              "      fill: #1967D2;\n",
              "      height: 32px;\n",
              "      padding: 0 0 0 0;\n",
              "      width: 32px;\n",
              "    }\n",
              "\n",
              "    .colab-df-convert:hover {\n",
              "      background-color: #E2EBFA;\n",
              "      box-shadow: 0px 1px 2px rgba(60, 64, 67, 0.3), 0px 1px 3px 1px rgba(60, 64, 67, 0.15);\n",
              "      fill: #174EA6;\n",
              "    }\n",
              "\n",
              "    [theme=dark] .colab-df-convert {\n",
              "      background-color: #3B4455;\n",
              "      fill: #D2E3FC;\n",
              "    }\n",
              "\n",
              "    [theme=dark] .colab-df-convert:hover {\n",
              "      background-color: #434B5C;\n",
              "      box-shadow: 0px 1px 3px 1px rgba(0, 0, 0, 0.15);\n",
              "      filter: drop-shadow(0px 1px 2px rgba(0, 0, 0, 0.3));\n",
              "      fill: #FFFFFF;\n",
              "    }\n",
              "  </style>\n",
              "\n",
              "      <script>\n",
              "        const buttonEl =\n",
              "          document.querySelector('#df-7cd59b0f-3742-40bd-b7ab-419aca3f2e9d button.colab-df-convert');\n",
              "        buttonEl.style.display =\n",
              "          google.colab.kernel.accessAllowed ? 'block' : 'none';\n",
              "\n",
              "        async function convertToInteractive(key) {\n",
              "          const element = document.querySelector('#df-7cd59b0f-3742-40bd-b7ab-419aca3f2e9d');\n",
              "          const dataTable =\n",
              "            await google.colab.kernel.invokeFunction('convertToInteractive',\n",
              "                                                     [key], {});\n",
              "          if (!dataTable) return;\n",
              "\n",
              "          const docLinkHtml = 'Like what you see? Visit the ' +\n",
              "            '<a target=\"_blank\" href=https://colab.research.google.com/notebooks/data_table.ipynb>data table notebook</a>'\n",
              "            + ' to learn more about interactive tables.';\n",
              "          element.innerHTML = '';\n",
              "          dataTable['output_type'] = 'display_data';\n",
              "          await google.colab.output.renderOutput(dataTable, element);\n",
              "          const docLink = document.createElement('div');\n",
              "          docLink.innerHTML = docLinkHtml;\n",
              "          element.appendChild(docLink);\n",
              "        }\n",
              "      </script>\n",
              "    </div>\n",
              "  </div>\n",
              "  "
            ],
            "text/plain": [
              "    col_values  f1_1_score  f1_2_score  f1_avg_score\n",
              "2          2.0    0.953482    0.952522      0.953002\n",
              "22        22.0    0.953478    0.952481      0.952980\n",
              "20        20.0    0.953475    0.952499      0.952987\n",
              "9          9.0    0.953473    0.952416      0.952944\n",
              "21        21.0    0.953469    0.952504      0.952987"
            ]
          },
          "metadata": {},
          "execution_count": 108
        }
      ]
    },
    {
      "cell_type": "markdown",
      "source": [
        "**두 번째 검증 데이터에서 가장 성적이 좋았던 결과**"
      ],
      "metadata": {
        "id": "cdFeB91VU5ys"
      }
    },
    {
      "cell_type": "code",
      "source": [
        "df_score.sort_values('f1_2_score', ascending=False).head(5)"
      ],
      "metadata": {
        "colab": {
          "base_uri": "https://localhost:8080/",
          "height": 206
        },
        "id": "E37VIC9gKwPW",
        "outputId": "56248ef9-ed8d-463c-c191-c7b68290d1e7"
      },
      "execution_count": null,
      "outputs": [
        {
          "output_type": "execute_result",
          "data": {
            "text/html": [
              "\n",
              "  <div id=\"df-7bf69526-71ea-48eb-bab4-12a0f52f69cb\">\n",
              "    <div class=\"colab-df-container\">\n",
              "      <div>\n",
              "<style scoped>\n",
              "    .dataframe tbody tr th:only-of-type {\n",
              "        vertical-align: middle;\n",
              "    }\n",
              "\n",
              "    .dataframe tbody tr th {\n",
              "        vertical-align: top;\n",
              "    }\n",
              "\n",
              "    .dataframe thead th {\n",
              "        text-align: right;\n",
              "    }\n",
              "</style>\n",
              "<table border=\"1\" class=\"dataframe\">\n",
              "  <thead>\n",
              "    <tr style=\"text-align: right;\">\n",
              "      <th></th>\n",
              "      <th>col_values</th>\n",
              "      <th>f1_1_score</th>\n",
              "      <th>f1_2_score</th>\n",
              "      <th>f1_avg_score</th>\n",
              "    </tr>\n",
              "  </thead>\n",
              "  <tbody>\n",
              "    <tr>\n",
              "      <th>25</th>\n",
              "      <td>25.0</td>\n",
              "      <td>0.953336</td>\n",
              "      <td>0.952556</td>\n",
              "      <td>0.952946</td>\n",
              "    </tr>\n",
              "    <tr>\n",
              "      <th>26</th>\n",
              "      <td>26.0</td>\n",
              "      <td>0.953409</td>\n",
              "      <td>0.952536</td>\n",
              "      <td>0.952973</td>\n",
              "    </tr>\n",
              "    <tr>\n",
              "      <th>2</th>\n",
              "      <td>2.0</td>\n",
              "      <td>0.953482</td>\n",
              "      <td>0.952522</td>\n",
              "      <td>0.953002</td>\n",
              "    </tr>\n",
              "    <tr>\n",
              "      <th>21</th>\n",
              "      <td>21.0</td>\n",
              "      <td>0.953469</td>\n",
              "      <td>0.952504</td>\n",
              "      <td>0.952987</td>\n",
              "    </tr>\n",
              "    <tr>\n",
              "      <th>11</th>\n",
              "      <td>11.0</td>\n",
              "      <td>0.953420</td>\n",
              "      <td>0.952504</td>\n",
              "      <td>0.952962</td>\n",
              "    </tr>\n",
              "  </tbody>\n",
              "</table>\n",
              "</div>\n",
              "      <button class=\"colab-df-convert\" onclick=\"convertToInteractive('df-7bf69526-71ea-48eb-bab4-12a0f52f69cb')\"\n",
              "              title=\"Convert this dataframe to an interactive table.\"\n",
              "              style=\"display:none;\">\n",
              "        \n",
              "  <svg xmlns=\"http://www.w3.org/2000/svg\" height=\"24px\"viewBox=\"0 0 24 24\"\n",
              "       width=\"24px\">\n",
              "    <path d=\"M0 0h24v24H0V0z\" fill=\"none\"/>\n",
              "    <path d=\"M18.56 5.44l.94 2.06.94-2.06 2.06-.94-2.06-.94-.94-2.06-.94 2.06-2.06.94zm-11 1L8.5 8.5l.94-2.06 2.06-.94-2.06-.94L8.5 2.5l-.94 2.06-2.06.94zm10 10l.94 2.06.94-2.06 2.06-.94-2.06-.94-.94-2.06-.94 2.06-2.06.94z\"/><path d=\"M17.41 7.96l-1.37-1.37c-.4-.4-.92-.59-1.43-.59-.52 0-1.04.2-1.43.59L10.3 9.45l-7.72 7.72c-.78.78-.78 2.05 0 2.83L4 21.41c.39.39.9.59 1.41.59.51 0 1.02-.2 1.41-.59l7.78-7.78 2.81-2.81c.8-.78.8-2.07 0-2.86zM5.41 20L4 18.59l7.72-7.72 1.47 1.35L5.41 20z\"/>\n",
              "  </svg>\n",
              "      </button>\n",
              "      \n",
              "  <style>\n",
              "    .colab-df-container {\n",
              "      display:flex;\n",
              "      flex-wrap:wrap;\n",
              "      gap: 12px;\n",
              "    }\n",
              "\n",
              "    .colab-df-convert {\n",
              "      background-color: #E8F0FE;\n",
              "      border: none;\n",
              "      border-radius: 50%;\n",
              "      cursor: pointer;\n",
              "      display: none;\n",
              "      fill: #1967D2;\n",
              "      height: 32px;\n",
              "      padding: 0 0 0 0;\n",
              "      width: 32px;\n",
              "    }\n",
              "\n",
              "    .colab-df-convert:hover {\n",
              "      background-color: #E2EBFA;\n",
              "      box-shadow: 0px 1px 2px rgba(60, 64, 67, 0.3), 0px 1px 3px 1px rgba(60, 64, 67, 0.15);\n",
              "      fill: #174EA6;\n",
              "    }\n",
              "\n",
              "    [theme=dark] .colab-df-convert {\n",
              "      background-color: #3B4455;\n",
              "      fill: #D2E3FC;\n",
              "    }\n",
              "\n",
              "    [theme=dark] .colab-df-convert:hover {\n",
              "      background-color: #434B5C;\n",
              "      box-shadow: 0px 1px 3px 1px rgba(0, 0, 0, 0.15);\n",
              "      filter: drop-shadow(0px 1px 2px rgba(0, 0, 0, 0.3));\n",
              "      fill: #FFFFFF;\n",
              "    }\n",
              "  </style>\n",
              "\n",
              "      <script>\n",
              "        const buttonEl =\n",
              "          document.querySelector('#df-7bf69526-71ea-48eb-bab4-12a0f52f69cb button.colab-df-convert');\n",
              "        buttonEl.style.display =\n",
              "          google.colab.kernel.accessAllowed ? 'block' : 'none';\n",
              "\n",
              "        async function convertToInteractive(key) {\n",
              "          const element = document.querySelector('#df-7bf69526-71ea-48eb-bab4-12a0f52f69cb');\n",
              "          const dataTable =\n",
              "            await google.colab.kernel.invokeFunction('convertToInteractive',\n",
              "                                                     [key], {});\n",
              "          if (!dataTable) return;\n",
              "\n",
              "          const docLinkHtml = 'Like what you see? Visit the ' +\n",
              "            '<a target=\"_blank\" href=https://colab.research.google.com/notebooks/data_table.ipynb>data table notebook</a>'\n",
              "            + ' to learn more about interactive tables.';\n",
              "          element.innerHTML = '';\n",
              "          dataTable['output_type'] = 'display_data';\n",
              "          await google.colab.output.renderOutput(dataTable, element);\n",
              "          const docLink = document.createElement('div');\n",
              "          docLink.innerHTML = docLinkHtml;\n",
              "          element.appendChild(docLink);\n",
              "        }\n",
              "      </script>\n",
              "    </div>\n",
              "  </div>\n",
              "  "
            ],
            "text/plain": [
              "    col_values  f1_1_score  f1_2_score  f1_avg_score\n",
              "25        25.0    0.953336    0.952556      0.952946\n",
              "26        26.0    0.953409    0.952536      0.952973\n",
              "2          2.0    0.953482    0.952522      0.953002\n",
              "21        21.0    0.953469    0.952504      0.952987\n",
              "11        11.0    0.953420    0.952504      0.952962"
            ]
          },
          "metadata": {},
          "execution_count": 109
        }
      ]
    },
    {
      "cell_type": "markdown",
      "source": [
        "**평균적으로 가장 성적이 좋았던 결과**"
      ],
      "metadata": {
        "id": "hu45IIJrVERM"
      }
    },
    {
      "cell_type": "code",
      "source": [
        "df_score.sort_values('f1_avg_score', ascending=False).head(5)"
      ],
      "metadata": {
        "colab": {
          "base_uri": "https://localhost:8080/",
          "height": 206
        },
        "id": "qeJ2cHaGLXVm",
        "outputId": "5434e633-b4f2-46e2-ac07-2e306487f14a"
      },
      "execution_count": null,
      "outputs": [
        {
          "output_type": "execute_result",
          "data": {
            "text/html": [
              "\n",
              "  <div id=\"df-44762a19-a370-4f2a-ad4d-0938046e3fd9\">\n",
              "    <div class=\"colab-df-container\">\n",
              "      <div>\n",
              "<style scoped>\n",
              "    .dataframe tbody tr th:only-of-type {\n",
              "        vertical-align: middle;\n",
              "    }\n",
              "\n",
              "    .dataframe tbody tr th {\n",
              "        vertical-align: top;\n",
              "    }\n",
              "\n",
              "    .dataframe thead th {\n",
              "        text-align: right;\n",
              "    }\n",
              "</style>\n",
              "<table border=\"1\" class=\"dataframe\">\n",
              "  <thead>\n",
              "    <tr style=\"text-align: right;\">\n",
              "      <th></th>\n",
              "      <th>col_values</th>\n",
              "      <th>f1_1_score</th>\n",
              "      <th>f1_2_score</th>\n",
              "      <th>f1_avg_score</th>\n",
              "    </tr>\n",
              "  </thead>\n",
              "  <tbody>\n",
              "    <tr>\n",
              "      <th>2</th>\n",
              "      <td>2.0</td>\n",
              "      <td>0.953482</td>\n",
              "      <td>0.952522</td>\n",
              "      <td>0.953002</td>\n",
              "    </tr>\n",
              "    <tr>\n",
              "      <th>20</th>\n",
              "      <td>20.0</td>\n",
              "      <td>0.953475</td>\n",
              "      <td>0.952499</td>\n",
              "      <td>0.952987</td>\n",
              "    </tr>\n",
              "    <tr>\n",
              "      <th>21</th>\n",
              "      <td>21.0</td>\n",
              "      <td>0.953469</td>\n",
              "      <td>0.952504</td>\n",
              "      <td>0.952987</td>\n",
              "    </tr>\n",
              "    <tr>\n",
              "      <th>22</th>\n",
              "      <td>22.0</td>\n",
              "      <td>0.953478</td>\n",
              "      <td>0.952481</td>\n",
              "      <td>0.952980</td>\n",
              "    </tr>\n",
              "    <tr>\n",
              "      <th>26</th>\n",
              "      <td>26.0</td>\n",
              "      <td>0.953409</td>\n",
              "      <td>0.952536</td>\n",
              "      <td>0.952973</td>\n",
              "    </tr>\n",
              "  </tbody>\n",
              "</table>\n",
              "</div>\n",
              "      <button class=\"colab-df-convert\" onclick=\"convertToInteractive('df-44762a19-a370-4f2a-ad4d-0938046e3fd9')\"\n",
              "              title=\"Convert this dataframe to an interactive table.\"\n",
              "              style=\"display:none;\">\n",
              "        \n",
              "  <svg xmlns=\"http://www.w3.org/2000/svg\" height=\"24px\"viewBox=\"0 0 24 24\"\n",
              "       width=\"24px\">\n",
              "    <path d=\"M0 0h24v24H0V0z\" fill=\"none\"/>\n",
              "    <path d=\"M18.56 5.44l.94 2.06.94-2.06 2.06-.94-2.06-.94-.94-2.06-.94 2.06-2.06.94zm-11 1L8.5 8.5l.94-2.06 2.06-.94-2.06-.94L8.5 2.5l-.94 2.06-2.06.94zm10 10l.94 2.06.94-2.06 2.06-.94-2.06-.94-.94-2.06-.94 2.06-2.06.94z\"/><path d=\"M17.41 7.96l-1.37-1.37c-.4-.4-.92-.59-1.43-.59-.52 0-1.04.2-1.43.59L10.3 9.45l-7.72 7.72c-.78.78-.78 2.05 0 2.83L4 21.41c.39.39.9.59 1.41.59.51 0 1.02-.2 1.41-.59l7.78-7.78 2.81-2.81c.8-.78.8-2.07 0-2.86zM5.41 20L4 18.59l7.72-7.72 1.47 1.35L5.41 20z\"/>\n",
              "  </svg>\n",
              "      </button>\n",
              "      \n",
              "  <style>\n",
              "    .colab-df-container {\n",
              "      display:flex;\n",
              "      flex-wrap:wrap;\n",
              "      gap: 12px;\n",
              "    }\n",
              "\n",
              "    .colab-df-convert {\n",
              "      background-color: #E8F0FE;\n",
              "      border: none;\n",
              "      border-radius: 50%;\n",
              "      cursor: pointer;\n",
              "      display: none;\n",
              "      fill: #1967D2;\n",
              "      height: 32px;\n",
              "      padding: 0 0 0 0;\n",
              "      width: 32px;\n",
              "    }\n",
              "\n",
              "    .colab-df-convert:hover {\n",
              "      background-color: #E2EBFA;\n",
              "      box-shadow: 0px 1px 2px rgba(60, 64, 67, 0.3), 0px 1px 3px 1px rgba(60, 64, 67, 0.15);\n",
              "      fill: #174EA6;\n",
              "    }\n",
              "\n",
              "    [theme=dark] .colab-df-convert {\n",
              "      background-color: #3B4455;\n",
              "      fill: #D2E3FC;\n",
              "    }\n",
              "\n",
              "    [theme=dark] .colab-df-convert:hover {\n",
              "      background-color: #434B5C;\n",
              "      box-shadow: 0px 1px 3px 1px rgba(0, 0, 0, 0.15);\n",
              "      filter: drop-shadow(0px 1px 2px rgba(0, 0, 0, 0.3));\n",
              "      fill: #FFFFFF;\n",
              "    }\n",
              "  </style>\n",
              "\n",
              "      <script>\n",
              "        const buttonEl =\n",
              "          document.querySelector('#df-44762a19-a370-4f2a-ad4d-0938046e3fd9 button.colab-df-convert');\n",
              "        buttonEl.style.display =\n",
              "          google.colab.kernel.accessAllowed ? 'block' : 'none';\n",
              "\n",
              "        async function convertToInteractive(key) {\n",
              "          const element = document.querySelector('#df-44762a19-a370-4f2a-ad4d-0938046e3fd9');\n",
              "          const dataTable =\n",
              "            await google.colab.kernel.invokeFunction('convertToInteractive',\n",
              "                                                     [key], {});\n",
              "          if (!dataTable) return;\n",
              "\n",
              "          const docLinkHtml = 'Like what you see? Visit the ' +\n",
              "            '<a target=\"_blank\" href=https://colab.research.google.com/notebooks/data_table.ipynb>data table notebook</a>'\n",
              "            + ' to learn more about interactive tables.';\n",
              "          element.innerHTML = '';\n",
              "          dataTable['output_type'] = 'display_data';\n",
              "          await google.colab.output.renderOutput(dataTable, element);\n",
              "          const docLink = document.createElement('div');\n",
              "          docLink.innerHTML = docLinkHtml;\n",
              "          element.appendChild(docLink);\n",
              "        }\n",
              "      </script>\n",
              "    </div>\n",
              "  </div>\n",
              "  "
            ],
            "text/plain": [
              "    col_values  f1_1_score  f1_2_score  f1_avg_score\n",
              "2          2.0    0.953482    0.952522      0.953002\n",
              "20        20.0    0.953475    0.952499      0.952987\n",
              "21        21.0    0.953469    0.952504      0.952987\n",
              "22        22.0    0.953478    0.952481      0.952980\n",
              "26        26.0    0.953409    0.952536      0.952973"
            ]
          },
          "metadata": {},
          "execution_count": 110
        }
      ]
    },
    {
      "cell_type": "code",
      "source": [
        "col_list[:2]"
      ],
      "metadata": {
        "colab": {
          "base_uri": "https://localhost:8080/"
        },
        "id": "ol0Agpx_LXYl",
        "outputId": "3b3560ba-d288-4156-fdb7-ef26b2e88bfb"
      },
      "execution_count": null,
      "outputs": [
        {
          "output_type": "execute_result",
          "data": {
            "text/plain": [
              "['d_s_match_yn', 'd_m_match_yn']"
            ]
          },
          "metadata": {},
          "execution_count": 52
        }
      ]
    },
    {
      "cell_type": "code",
      "source": [
        "col_list[:20]"
      ],
      "metadata": {
        "colab": {
          "base_uri": "https://localhost:8080/"
        },
        "id": "Nd-ljk-vXGXw",
        "outputId": "3a3b3061-3255-4295-904d-c6f83c374bab"
      },
      "execution_count": null,
      "outputs": [
        {
          "output_type": "execute_result",
          "data": {
            "text/plain": [
              "['d_s_match_yn',\n",
              " 'd_m_match_yn',\n",
              " 'contents_attribute_k',\n",
              " 'person_prefer_d_1_l',\n",
              " 'd_l_match_yn',\n",
              " 'h_l_match_yn',\n",
              " 'contents_attribute_j',\n",
              " 'h_s_match_yn',\n",
              " 'person_prefer_d_3_l',\n",
              " 'contents_attribute_d_l',\n",
              " 'person_prefer_d_2_l',\n",
              " 'h_m_match_yn',\n",
              " 'contents_attribute_c',\n",
              " 'person_attribute_a',\n",
              " 'person_prefer_h_1_l',\n",
              " 'person_prefer_d_3_m',\n",
              " 'person_prefer_d_1_m',\n",
              " 'contents_attribute_h_l',\n",
              " 'person_prefer_d_2_m',\n",
              " 'person_prefer_h_2_l']"
            ]
          },
          "metadata": {},
          "execution_count": 53
        }
      ]
    },
    {
      "cell_type": "markdown",
      "source": [
        "Feature Test(2개 칼럼 제외)\n",
        "--"
      ],
      "metadata": {
        "id": "pWlOqLJdvYUU"
      }
    },
    {
      "cell_type": "code",
      "source": [
        "# 1차 검증\n",
        "x_train=tn_tn.drop(['target','d_s_match_yn', 'd_m_match_yn'], axis=1)\n",
        "y_train=tn_tn['target']\n",
        "x_test=tn_te.drop(['target','d_s_match_yn', 'd_m_match_yn'], axis=1)\n",
        "y_test=tn_te['target']\n",
        "\n",
        "# 2차 검증\n",
        "x=tn.drop(['target','d_s_match_yn', 'd_m_match_yn'], axis=1)\n",
        "y=tn['target']\n",
        "x_val=val.drop(['target','d_s_match_yn', 'd_m_match_yn'], axis=1)\n",
        "y_val=val['target']"
      ],
      "metadata": {
        "id": "5iMKPBRmLXao"
      },
      "execution_count": null,
      "outputs": []
    },
    {
      "cell_type": "code",
      "source": [
        "extra=ExtraTreesClassifier(random_state=42)\n",
        "extra.fit(x_train, y_train)\n",
        "y_pred_1=extra.predict(x_test)\n",
        "f_1_1=f1_score(y_test,y_pred_1)\n",
        "\n",
        "extra.fit(x, y)\n",
        "y_pred_2=extra.predict(x_val)\n",
        "f_1_2=f1_score(y_val, y_pred_2)\n",
        "f_1_a=(f_1_1+f_1_2)/2"
      ],
      "metadata": {
        "id": "X27uph-7LXdn"
      },
      "execution_count": null,
      "outputs": []
    },
    {
      "cell_type": "code",
      "source": [
        "print(\"1차\", f_1_1)\n",
        "print(\"2차\", f_1_2)\n",
        "print(\"평균\", f_1_a)"
      ],
      "metadata": {
        "colab": {
          "base_uri": "https://localhost:8080/"
        },
        "id": "As0rD5CeZFaN",
        "outputId": "d8662954-b167-4471-9324-e8e966e8abd1"
      },
      "execution_count": null,
      "outputs": [
        {
          "output_type": "stream",
          "name": "stdout",
          "text": [
            "1차 0.9534822744410187\n",
            "2차 0.9525218799008449\n",
            "평균 0.9530020771709318\n"
          ]
        }
      ]
    },
    {
      "cell_type": "code",
      "source": [
        "import numpy as np"
      ],
      "metadata": {
        "id": "nGxJwyQhmRu_"
      },
      "execution_count": null,
      "outputs": []
    },
    {
      "cell_type": "code",
      "source": [
        "def result_show(y_test, y_pred):\n",
        "  recall=recall_score(y_test, y_pred)\n",
        "  precision=precision_score(y_test, y_pred)\n",
        "  f1=2*((precision*recall)/(precision+recall))\n",
        "  print(\"recall :\", recall)\n",
        "  print(\"precision: \", precision)\n",
        "  print(\"f1: \", f1)\n",
        "  auc_roc=classification_report(y_test, y_pred)\n",
        "  print(auc_roc)\n",
        "  conf=confusion_matrix(y_test, y_pred)\n",
        "  sns.heatmap(conf/np.sum(conf), annot=True, cmap='Pastel1', fmt='.2%')\n",
        "  plt.show()"
      ],
      "metadata": {
        "id": "DXnFKrD6W2xF"
      },
      "execution_count": null,
      "outputs": []
    },
    {
      "cell_type": "code",
      "source": [
        "def feature_importance_graph(x):\n",
        "  plt.figure(figsize=(10,30))\n",
        "  n_feature=x.shape[1]\n",
        "  index=np.arange(n_feature)\n",
        "  plt.barh(index, extra.feature_importances_, align='center')\n",
        "  plt.ylim(-1, n_feature)\n",
        "  plt.yticks(index, x)\n",
        "  plt.xlabel('feature importance', size=15)\n",
        "  plt.ylabel('feature', size=15)\n",
        "  plt.show()"
      ],
      "metadata": {
        "id": "d_kNrxkfpYGf"
      },
      "execution_count": null,
      "outputs": []
    },
    {
      "cell_type": "markdown",
      "source": [
        "**1차 검증 결과**"
      ],
      "metadata": {
        "id": "jzkgoOian48v"
      }
    },
    {
      "cell_type": "code",
      "source": [
        "result_show(y_test, y_pred_1)"
      ],
      "metadata": {
        "colab": {
          "base_uri": "https://localhost:8080/",
          "height": 485
        },
        "id": "GRrjpxXXW20d",
        "outputId": "e3b249ee-59dc-4d3a-f7f7-a1a33eec9d42"
      },
      "execution_count": null,
      "outputs": [
        {
          "output_type": "stream",
          "name": "stdout",
          "text": [
            "recall : 0.9992987908880718\n",
            "precision:  0.9116828327886993\n",
            "f1:  0.9534822744410187\n",
            "              precision    recall  f1-score   support\n",
            "\n",
            "           0       0.54      0.01      0.02      5151\n",
            "           1       0.91      1.00      0.95     52766\n",
            "\n",
            "    accuracy                           0.91     57917\n",
            "   macro avg       0.72      0.50      0.48     57917\n",
            "weighted avg       0.88      0.91      0.87     57917\n",
            "\n"
          ]
        },
        {
          "output_type": "display_data",
          "data": {
            "image/png": "[encoded data removed]",
            "text/plain": [
              "<Figure size 432x288 with 2 Axes>"
            ]
          },
          "metadata": {}
        }
      ]
    },
    {
      "cell_type": "markdown",
      "source": [
        "**1차 검증 결과 feature importance**"
      ],
      "metadata": {
        "id": "P2BtMEPxpC28"
      }
    },
    {
      "cell_type": "code",
      "source": [
        "feature_importance_graph(x_train)"
      ],
      "metadata": {
        "colab": {
          "base_uri": "https://localhost:8080/",
          "height": 1000
        },
        "id": "cQoqUfk5phVN",
        "outputId": "0dc71f99-6d40-477e-aa33-2a0333ee50f5"
      },
      "execution_count": null,
      "outputs": [
        {
          "output_type": "display_data",
          "data": {
            "image/png": "[encoded data removed]",
            "text/plain": [
              "<Figure size 720x2160 with 1 Axes>"
            ]
          },
          "metadata": {}
        }
      ]
    },
    {
      "cell_type": "markdown",
      "source": [
        "- 1차 검증에서는 h_s_match_yn, h_m_match_yn, h_l_match_yn, d_l_match_yn, contents_attribute_k, contents_attribute_j, person_prefer_d_1_l, person_prefer_d_2_l, person_prefer_d_3_l,contents_attribute_d_l 정도가 낮게 나타난다. "
      ],
      "metadata": {
        "id": "heGAri81p5tF"
      }
    },
    {
      "cell_type": "markdown",
      "source": [
        "**2차 검증 결과**"
      ],
      "metadata": {
        "id": "W1SnO34in7Mu"
      }
    },
    {
      "cell_type": "code",
      "source": [
        "result_show(y_val, y_pred_2)"
      ],
      "metadata": {
        "colab": {
          "base_uri": "https://localhost:8080/",
          "height": 485
        },
        "id": "YbbFBQV9nTd2",
        "outputId": "4018e777-912f-48da-b851-2c94f5ee25c4"
      },
      "execution_count": null,
      "outputs": [
        {
          "output_type": "stream",
          "name": "stdout",
          "text": [
            "recall : 0.9991111818628037\n",
            "precision:  0.910083982840916\n",
            "f1:  0.9525218799008449\n",
            "              precision    recall  f1-score   support\n",
            "\n",
            "           0       0.54      0.01      0.02      7521\n",
            "           1       0.91      1.00      0.95     75381\n",
            "\n",
            "    accuracy                           0.91     82902\n",
            "   macro avg       0.73      0.50      0.49     82902\n",
            "weighted avg       0.88      0.91      0.87     82902\n",
            "\n"
          ]
        },
        {
          "output_type": "display_data",
          "data": {
            "image/png": "[encoded data removed]",
            "text/plain": [
              "<Figure size 432x288 with 2 Axes>"
            ]
          },
          "metadata": {}
        }
      ]
    },
    {
      "cell_type": "markdown",
      "source": [
        "**2차 검증 결과 feature importance**"
      ],
      "metadata": {
        "id": "DxpKAOsBpwZt"
      }
    },
    {
      "cell_type": "code",
      "source": [
        "feature_importance_graph(x_val)"
      ],
      "metadata": {
        "id": "k61Zo_ajpxm2"
      },
      "execution_count": null,
      "outputs": []
    },
    {
      "cell_type": "markdown",
      "source": [
        "- 2차 검증에서도 큰 차이 없음."
      ],
      "metadata": {
        "id": "HC5dyowKqZGZ"
      }
    },
    {
      "cell_type": "markdown",
      "source": [
        "칼럼 20개 제외하고 결과 보기\n",
        "--\n",
        "\n",
        "extra: 별 차이 없음\n",
        "\n",
        "qd: 오히려 떨어짐"
      ],
      "metadata": {
        "id": "NlWWsXtTn_-u"
      }
    },
    {
      "cell_type": "code",
      "source": [
        "# 1차 검증\n",
        "x_train=tn_tn.drop(['target','d_s_match_yn',\n",
        " 'd_m_match_yn',\n",
        " 'contents_attribute_k',\n",
        " 'person_prefer_d_1_l',\n",
        " 'd_l_match_yn',\n",
        " 'h_l_match_yn',\n",
        " 'contents_attribute_j',\n",
        " 'h_s_match_yn',\n",
        " 'person_prefer_d_3_l',\n",
        " 'contents_attribute_d_l',\n",
        " 'person_prefer_d_2_l',\n",
        " 'h_m_match_yn',\n",
        " 'contents_attribute_c',\n",
        " 'person_attribute_a',\n",
        " 'person_prefer_h_1_l',\n",
        " 'person_prefer_d_3_m',\n",
        " 'person_prefer_d_1_m',\n",
        " 'contents_attribute_h_l',\n",
        " 'person_prefer_d_2_m',\n",
        " 'person_prefer_h_2_l'], axis=1)\n",
        "y_train=tn_tn['target']\n",
        "x_test=tn_te.drop(['target','d_s_match_yn',\n",
        " 'd_m_match_yn',\n",
        " 'contents_attribute_k',\n",
        " 'person_prefer_d_1_l',\n",
        " 'd_l_match_yn',\n",
        " 'h_l_match_yn',\n",
        " 'contents_attribute_j',\n",
        " 'h_s_match_yn',\n",
        " 'person_prefer_d_3_l',\n",
        " 'contents_attribute_d_l',\n",
        " 'person_prefer_d_2_l',\n",
        " 'h_m_match_yn',\n",
        " 'contents_attribute_c',\n",
        " 'person_attribute_a',\n",
        " 'person_prefer_h_1_l',\n",
        " 'person_prefer_d_3_m',\n",
        " 'person_prefer_d_1_m',\n",
        " 'contents_attribute_h_l',\n",
        " 'person_prefer_d_2_m',\n",
        " 'person_prefer_h_2_l'], axis=1)\n",
        "y_test=tn_te['target']\n",
        "\n",
        "# 2차 검증\n",
        "x=tn.drop(['target','d_s_match_yn',\n",
        " 'd_m_match_yn',\n",
        " 'contents_attribute_k',\n",
        " 'person_prefer_d_1_l',\n",
        " 'd_l_match_yn',\n",
        " 'h_l_match_yn',\n",
        " 'contents_attribute_j',\n",
        " 'h_s_match_yn',\n",
        " 'person_prefer_d_3_l',\n",
        " 'contents_attribute_d_l',\n",
        " 'person_prefer_d_2_l',\n",
        " 'h_m_match_yn',\n",
        " 'contents_attribute_c',\n",
        " 'person_attribute_a',\n",
        " 'person_prefer_h_1_l',\n",
        " 'person_prefer_d_3_m',\n",
        " 'person_prefer_d_1_m',\n",
        " 'contents_attribute_h_l',\n",
        " 'person_prefer_d_2_m',\n",
        " 'person_prefer_h_2_l'], axis=1)\n",
        "y=tn['target']\n",
        "x_val=val.drop(['target','d_s_match_yn',\n",
        " 'd_m_match_yn',\n",
        " 'contents_attribute_k',\n",
        " 'person_prefer_d_1_l',\n",
        " 'd_l_match_yn',\n",
        " 'h_l_match_yn',\n",
        " 'contents_attribute_j',\n",
        " 'h_s_match_yn',\n",
        " 'person_prefer_d_3_l',\n",
        " 'contents_attribute_d_l',\n",
        " 'person_prefer_d_2_l',\n",
        " 'h_m_match_yn',\n",
        " 'contents_attribute_c',\n",
        " 'person_attribute_a',\n",
        " 'person_prefer_h_1_l',\n",
        " 'person_prefer_d_3_m',\n",
        " 'person_prefer_d_1_m',\n",
        " 'contents_attribute_h_l',\n",
        " 'person_prefer_d_2_m',\n",
        " 'person_prefer_h_2_l'], axis=1)\n",
        "y_val=val['target']"
      ],
      "metadata": {
        "id": "PYoNzWV1nTgb"
      },
      "execution_count": 106,
      "outputs": []
    },
    {
      "cell_type": "code",
      "source": [
        "extra=ExtraTreesClassifier(random_state=42)\n",
        "extra.fit(x_train, y_train)\n",
        "y_pred_1=extra.predict(x_test)\n",
        "f_1_1=f1_score(y_test,y_pred_1)\n",
        "\n",
        "extra.fit(x, y)\n",
        "y_pred_2=extra.predict(x_val)\n",
        "f_1_2=f1_score(y_val, y_pred_2)\n",
        "f_1_a=(f_1_1+f_1_2)/2"
      ],
      "metadata": {
        "id": "2SeEW3pFnTjD"
      },
      "execution_count": 109,
      "outputs": []
    },
    {
      "cell_type": "code",
      "source": [
        "print(\"1차\", f_1_1)\n",
        "print(\"2차\", f_1_2)\n",
        "print(\"평균\", f_1_a)"
      ],
      "metadata": {
        "colab": {
          "base_uri": "https://localhost:8080/"
        },
        "id": "ORRAdTZBnTlu",
        "outputId": "d7aaa358-6c9f-4484-cd0e-a29d1fcf4653"
      },
      "execution_count": 110,
      "outputs": [
        {
          "output_type": "stream",
          "name": "stdout",
          "text": [
            "1차 0.9534751285829213\n",
            "2차 0.9524989569241273\n",
            "평균 0.9529870427535243\n"
          ]
        }
      ]
    },
    {
      "cell_type": "markdown",
      "source": [
        "**1차 검증 결과**"
      ],
      "metadata": {
        "id": "zUhNSgn4oW1e"
      }
    },
    {
      "cell_type": "code",
      "source": [
        "result_show(y_test, y_pred_1)"
      ],
      "metadata": {
        "colab": {
          "base_uri": "https://localhost:8080/",
          "height": 485
        },
        "id": "FnYXlvmInToJ",
        "outputId": "e1bb34f4-7fcb-4287-8899-6c206bfa5565"
      },
      "execution_count": null,
      "outputs": [
        {
          "output_type": "stream",
          "name": "stdout",
          "text": [
            "recall : 0.999526210059508\n",
            "precision:  0.9114805661649068\n",
            "f1:  0.9534751285829213\n",
            "              precision    recall  f1-score   support\n",
            "\n",
            "           0       0.54      0.01      0.01      5151\n",
            "           1       0.91      1.00      0.95     52766\n",
            "\n",
            "    accuracy                           0.91     57917\n",
            "   macro avg       0.72      0.50      0.48     57917\n",
            "weighted avg       0.88      0.91      0.87     57917\n",
            "\n"
          ]
        },
        {
          "output_type": "display_data",
          "data": {
            "image/png": "[encoded data removed]",
            "text/plain": [
              "<Figure size 432x288 with 2 Axes>"
            ]
          },
          "metadata": {}
        }
      ]
    },
    {
      "cell_type": "markdown",
      "source": [
        "**1차 검증 결과 feature importance**"
      ],
      "metadata": {
        "id": "f5dCMM4iq2cj"
      }
    },
    {
      "cell_type": "code",
      "source": [
        "feature_importance_graph(x_train)"
      ],
      "metadata": {
        "colab": {
          "base_uri": "https://localhost:8080/",
          "height": 1000
        },
        "id": "-Nq0-BGEq2s1",
        "outputId": "cf5a5b39-d279-4f15-ea74-8afb236eee09"
      },
      "execution_count": null,
      "outputs": [
        {
          "output_type": "display_data",
          "data": {
            "image/png": "[encoded data removed]",
            "text/plain": [
              "<Figure size 720x2160 with 1 Axes>"
            ]
          },
          "metadata": {}
        }
      ]
    },
    {
      "cell_type": "markdown",
      "source": [
        "- person_prefer_h_3_l, contentes_attribute_d_m, person_prfer_3 제외하고는 대부분 잘 나오는 편\n",
        "\n",
        "- contents_attribute_l, data, hour이 높은 편이다."
      ],
      "metadata": {
        "id": "dNKcmTE8rLj9"
      }
    },
    {
      "cell_type": "markdown",
      "source": [
        "**2차 검증 결과**"
      ],
      "metadata": {
        "id": "q2vxUVeGoYm1"
      }
    },
    {
      "cell_type": "code",
      "source": [
        "result_show(y_val, y_pred_2)"
      ],
      "metadata": {
        "colab": {
          "base_uri": "https://localhost:8080/",
          "height": 485
        },
        "id": "O6Xz4au8nTz1",
        "outputId": "fa77b12b-c39b-4fc0-f27b-4a2e71dece3f"
      },
      "execution_count": null,
      "outputs": [
        {
          "output_type": "stream",
          "name": "stdout",
          "text": [
            "recall : 0.9994030325944203\n",
            "precision:  0.9098001328422197\n",
            "f1:  0.9524989569241273\n",
            "              precision    recall  f1-score   support\n",
            "\n",
            "           0       0.54      0.01      0.01      7521\n",
            "           1       0.91      1.00      0.95     75381\n",
            "\n",
            "    accuracy                           0.91     82902\n",
            "   macro avg       0.72      0.50      0.48     82902\n",
            "weighted avg       0.88      0.91      0.87     82902\n",
            "\n"
          ]
        },
        {
          "output_type": "display_data",
          "data": {
            "image/png": "[encoded data removed]",
            "text/plain": [
              "<Figure size 432x288 with 2 Axes>"
            ]
          },
          "metadata": {}
        }
      ]
    },
    {
      "cell_type": "markdown",
      "source": [
        "**2차 검증 결과 feature importance**"
      ],
      "metadata": {
        "id": "UbPUX4dRq7V2"
      }
    },
    {
      "cell_type": "code",
      "source": [
        "feature_importance_graph(x_val)"
      ],
      "metadata": {
        "id": "cbF1nNv5q8zG"
      },
      "execution_count": null,
      "outputs": []
    },
    {
      "cell_type": "markdown",
      "source": [
        "- 2차도 1차와 큰 차이 없음"
      ],
      "metadata": {
        "id": "tS4MZx1tr2_x"
      }
    },
    {
      "cell_type": "markdown",
      "source": [
        "# Feature Engineering"
      ],
      "metadata": {
        "id": "uQ-CQpDbLXsV"
      }
    },
    {
      "cell_type": "markdown",
      "source": [
        "선택된 Feature 기반으로 Scaling 및 더미변수 부여 등 변수들을 Enginering 하여, 최종 학습 데이터와 최종 검증 데이터를 tuning 한다.\n"
      ],
      "metadata": {
        "id": "C4PffPQcLdKE"
      }
    },
    {
      "cell_type": "code",
      "source": [
        "# 1차 검증\n",
        "x_train=tn_tn.drop(['target','d_s_match_yn', 'd_m_match_yn'], axis=1)\n",
        "y_train=tn_tn['target']\n",
        "x_test=tn_te.drop(['target','d_s_match_yn', 'd_m_match_yn'], axis=1)\n",
        "y_test=tn_te['target']\n",
        "\n",
        "# 2차 검증\n",
        "x=tn.drop(['target','d_s_match_yn', 'd_m_match_yn'], axis=1)\n",
        "y=tn['target']\n",
        "x_val=val.drop(['target','d_s_match_yn', 'd_m_match_yn'], axis=1)\n",
        "y_val=val['target']"
      ],
      "metadata": {
        "id": "kuAA9wLCLcdh"
      },
      "execution_count": 130,
      "outputs": []
    },
    {
      "cell_type": "markdown",
      "source": [
        "# Extra Classifier Engineering"
      ],
      "metadata": {
        "id": "lu4E1WgP1Yve"
      }
    },
    {
      "cell_type": "markdown",
      "source": [
        "**Scaling**"
      ],
      "metadata": {
        "id": "7T6rC25jrGBU"
      }
    },
    {
      "cell_type": "code",
      "source": [
        "from sklearn.preprocessing import MinMaxScaler\n",
        "from sklearn.preprocessing import StandardScaler\n",
        "from sklearn.preprocessing import RobustScaler"
      ],
      "metadata": {
        "id": "EQlYjrFrLtkz"
      },
      "execution_count": 114,
      "outputs": []
    },
    {
      "cell_type": "code",
      "source": [
        "mm=MinMaxScaler()\n",
        "ss=StandardScaler()\n",
        "rr=RobustScaler()"
      ],
      "metadata": {
        "id": "LVWWqORzs_Gt"
      },
      "execution_count": 115,
      "outputs": []
    },
    {
      "cell_type": "code",
      "source": [
        "def scaling_result(s, x_train,y_train, x_test, y_test, x,y,x_val,y_val):\n",
        "  x_train=s.fit_transform(x_train)\n",
        "  x_test=s.fit_transform(x_test)\n",
        "  x=s.fit_transform(x)\n",
        "  x_val=s.fit_transform(x_val)\n",
        "\n",
        "  extra=ExtraTreesClassifier()\n",
        "  extra.fit(x_train, y_train)\n",
        "  y_pred_1=extra.predict(x_test)\n",
        "  f_1_1=f1_score(y_test,y_pred_1)\n",
        "  extra.fit(x, y)\n",
        "  y_pred_2=extra.predict(x_val)\n",
        "  f_1_2=f1_score(y_val, y_pred_2)\n",
        "  f_1_a=(f_1_1+f_1_2)/2\n",
        "  print(\"f1_1차 : \", f_1_1)\n",
        "  print(\"f1_2차 : \", f_1_2 )\n",
        "  print(\"f1 avg score :\", f_1_a)"
      ],
      "metadata": {
        "id": "-Cdjswq6sh8M"
      },
      "execution_count": 116,
      "outputs": []
    },
    {
      "cell_type": "markdown",
      "source": [
        "Scaling\n",
        "--"
      ],
      "metadata": {
        "id": "_-eGYTJOvQv5"
      }
    },
    {
      "cell_type": "markdown",
      "source": [
        "이전에 2개 칼럼 제외 했을 때, 성적\n",
        "\n",
        "```\n",
        "1차 0.9534822744410187\n",
        "2차 0.9525218799008449\n",
        "평균 0.9530020771709318\n",
        "```"
      ],
      "metadata": {
        "id": "cQ11kSUFuV3Z"
      }
    },
    {
      "cell_type": "markdown",
      "source": [
        "**MinMax Scaler**"
      ],
      "metadata": {
        "id": "8r9gMIaSsbM1"
      }
    },
    {
      "cell_type": "code",
      "source": [
        "scaling_result(mm, x_train, y_train, x_test, y_test, x,y,x_val, y_val)"
      ],
      "metadata": {
        "id": "JiTZrNSZr_Sf"
      },
      "execution_count": null,
      "outputs": []
    },
    {
      "cell_type": "markdown",
      "source": [
        "**Standard Scaler**"
      ],
      "metadata": {
        "id": "7U-54zeUuibi"
      }
    },
    {
      "cell_type": "code",
      "source": [
        "scaling_result(ss, x_train, y_train, x_test, y_test, x,y,x_val, y_val)"
      ],
      "metadata": {
        "id": "Pn5Ki3xkr_U1"
      },
      "execution_count": null,
      "outputs": []
    },
    {
      "cell_type": "markdown",
      "source": [
        "**Robust Scaler**"
      ],
      "metadata": {
        "id": "q8nVn5j_u8ic"
      }
    },
    {
      "cell_type": "code",
      "source": [
        "scaling_result(rr, x_train, y_train, x_test, y_test, x,y,x_val, y_val)"
      ],
      "metadata": {
        "id": "gGdXX1Gwr_XM"
      },
      "execution_count": 122,
      "outputs": []
    },
    {
      "cell_type": "markdown",
      "source": [
        "더미화 진행\n",
        "--"
      ],
      "metadata": {
        "id": "bfhS-aFGvOmq"
      }
    },
    {
      "cell_type": "code",
      "source": [
        "col_list.reverse() #다시 중요한 순서대로 바꾸어줍니다."
      ],
      "metadata": {
        "id": "OgN3cYdhr_Zy"
      },
      "execution_count": 87,
      "outputs": []
    },
    {
      "cell_type": "markdown",
      "source": [
        "**중요도 낮은 변수 20개 제거시**"
      ],
      "metadata": {
        "id": "F4aySEy2xT6R"
      }
    },
    {
      "cell_type": "code",
      "source": [
        "new_col=col_list[:-20]"
      ],
      "metadata": {
        "id": "zZA7il_nvjCl"
      },
      "execution_count": 88,
      "outputs": []
    },
    {
      "cell_type": "code",
      "source": [
        "col_1=[]\n",
        "\n",
        "for col in new_col:\n",
        "  len_value=len(x[col].unique())\n",
        "  if len_value<50:\n",
        "    col_1.append(col)\n",
        "    print(col,\":\", len_value)"
      ],
      "metadata": {
        "colab": {
          "base_uri": "https://localhost:8080/"
        },
        "id": "7tcXglQWvjK2",
        "outputId": "4bb53f36-ccf6-42fe-a903-5a1d34405447"
      },
      "execution_count": 89,
      "outputs": [
        {
          "output_type": "stream",
          "name": "stdout",
          "text": [
            "date : 31\n",
            "hour : 24\n",
            "day : 7\n",
            "person_attribute_a_1 : 8\n",
            "contents_attribute_e : 12\n",
            "person_prefer_e : 12\n",
            "person_attribute_b : 6\n",
            "contents_attribute_m : 5\n",
            "contents_attribute_j_1 : 9\n",
            "contents_attribute_a : 3\n",
            "person_prefer_c : 5\n",
            "contents_attribute_i : 3\n",
            "person_prefer_h_3_l : 19\n",
            "contents_attribute_d_m : 33\n"
          ]
        }
      ]
    },
    {
      "cell_type": "code",
      "source": [
        "len(col_1)"
      ],
      "metadata": {
        "colab": {
          "base_uri": "https://localhost:8080/"
        },
        "id": "sclgEj_fxx9T",
        "outputId": "dee9defc-337d-4051-8b00-5d3280a514b8"
      },
      "execution_count": 90,
      "outputs": [
        {
          "output_type": "execute_result",
          "data": {
            "text/plain": [
              "14"
            ]
          },
          "metadata": {},
          "execution_count": 90
        }
      ]
    },
    {
      "cell_type": "code",
      "source": [
        "df_unique=pd.DataFrame(columns=['col_name','len_unique','mix','max','mean','std'])\n",
        "\n",
        "for i in range(len(tn.columns)):\n",
        "    col=tn.columns[i]\n",
        "    \n",
        "    if col in col_1:\n",
        "        len_unique=len(tn[col].unique())\n",
        "        min_col=tn[col].min()\n",
        "        max_col=tn[col].max()\n",
        "        mean_col=tn[col].mean()\n",
        "        std_col=tn[col].std()\n",
        "        df_unique=df_unique.append({'col_name':col,'len_unique':len_unique,'mix':min_col,'max':max_col,'mean':mean_col,'std':std_col}, ignore_index=True)\n",
        "\n",
        "df_unique=df_unique.sort_values(\"len_unique\", ascending=True)\n",
        "df_unique=df_unique.loc[df_unique['col_name']!='id']\n",
        "df_unique=df_unique.reset_index()\n",
        "df_unique.drop(\"index\", axis=1, inplace=True)"
      ],
      "metadata": {
        "id": "vNLkX1qPxyCs"
      },
      "execution_count": 91,
      "outputs": []
    },
    {
      "cell_type": "code",
      "source": [
        "df_unique"
      ],
      "metadata": {
        "colab": {
          "base_uri": "https://localhost:8080/",
          "height": 488
        },
        "id": "iiLfdzZgxyFv",
        "outputId": "76b4c863-4296-4652-e088-6d3f80499454"
      },
      "execution_count": 92,
      "outputs": [
        {
          "output_type": "execute_result",
          "data": {
            "text/html": [
              "\n",
              "  <div id=\"df-46ff6fe2-24e3-4f5b-b38a-0145fe4fd34b\">\n",
              "    <div class=\"colab-df-container\">\n",
              "      <div>\n",
              "<style scoped>\n",
              "    .dataframe tbody tr th:only-of-type {\n",
              "        vertical-align: middle;\n",
              "    }\n",
              "\n",
              "    .dataframe tbody tr th {\n",
              "        vertical-align: top;\n",
              "    }\n",
              "\n",
              "    .dataframe thead th {\n",
              "        text-align: right;\n",
              "    }\n",
              "</style>\n",
              "<table border=\"1\" class=\"dataframe\">\n",
              "  <thead>\n",
              "    <tr style=\"text-align: right;\">\n",
              "      <th></th>\n",
              "      <th>col_name</th>\n",
              "      <th>len_unique</th>\n",
              "      <th>mix</th>\n",
              "      <th>max</th>\n",
              "      <th>mean</th>\n",
              "      <th>std</th>\n",
              "    </tr>\n",
              "  </thead>\n",
              "  <tbody>\n",
              "    <tr>\n",
              "      <th>0</th>\n",
              "      <td>contents_attribute_i</td>\n",
              "      <td>3</td>\n",
              "      <td>1</td>\n",
              "      <td>3</td>\n",
              "      <td>2.456730</td>\n",
              "      <td>0.838708</td>\n",
              "    </tr>\n",
              "    <tr>\n",
              "      <th>1</th>\n",
              "      <td>contents_attribute_a</td>\n",
              "      <td>3</td>\n",
              "      <td>1</td>\n",
              "      <td>3</td>\n",
              "      <td>2.326368</td>\n",
              "      <td>0.889975</td>\n",
              "    </tr>\n",
              "    <tr>\n",
              "      <th>2</th>\n",
              "      <td>person_prefer_c</td>\n",
              "      <td>5</td>\n",
              "      <td>1</td>\n",
              "      <td>5</td>\n",
              "      <td>2.403564</td>\n",
              "      <td>1.834012</td>\n",
              "    </tr>\n",
              "    <tr>\n",
              "      <th>3</th>\n",
              "      <td>contents_attribute_m</td>\n",
              "      <td>5</td>\n",
              "      <td>1</td>\n",
              "      <td>5</td>\n",
              "      <td>2.219399</td>\n",
              "      <td>1.556634</td>\n",
              "    </tr>\n",
              "    <tr>\n",
              "      <th>4</th>\n",
              "      <td>person_attribute_b</td>\n",
              "      <td>6</td>\n",
              "      <td>0</td>\n",
              "      <td>5</td>\n",
              "      <td>2.779239</td>\n",
              "      <td>0.889558</td>\n",
              "    </tr>\n",
              "    <tr>\n",
              "      <th>5</th>\n",
              "      <td>day</td>\n",
              "      <td>7</td>\n",
              "      <td>0</td>\n",
              "      <td>6</td>\n",
              "      <td>3.197664</td>\n",
              "      <td>2.150933</td>\n",
              "    </tr>\n",
              "    <tr>\n",
              "      <th>6</th>\n",
              "      <td>person_attribute_a_1</td>\n",
              "      <td>8</td>\n",
              "      <td>0</td>\n",
              "      <td>7</td>\n",
              "      <td>2.623097</td>\n",
              "      <td>2.418438</td>\n",
              "    </tr>\n",
              "    <tr>\n",
              "      <th>7</th>\n",
              "      <td>contents_attribute_j_1</td>\n",
              "      <td>9</td>\n",
              "      <td>1</td>\n",
              "      <td>10</td>\n",
              "      <td>5.877087</td>\n",
              "      <td>2.068064</td>\n",
              "    </tr>\n",
              "    <tr>\n",
              "      <th>8</th>\n",
              "      <td>person_prefer_e</td>\n",
              "      <td>12</td>\n",
              "      <td>0</td>\n",
              "      <td>11</td>\n",
              "      <td>3.679744</td>\n",
              "      <td>1.875217</td>\n",
              "    </tr>\n",
              "    <tr>\n",
              "      <th>9</th>\n",
              "      <td>contents_attribute_e</td>\n",
              "      <td>12</td>\n",
              "      <td>0</td>\n",
              "      <td>11</td>\n",
              "      <td>3.946575</td>\n",
              "      <td>1.149511</td>\n",
              "    </tr>\n",
              "    <tr>\n",
              "      <th>10</th>\n",
              "      <td>person_prefer_h_3_l</td>\n",
              "      <td>19</td>\n",
              "      <td>1</td>\n",
              "      <td>312</td>\n",
              "      <td>112.744974</td>\n",
              "      <td>90.479168</td>\n",
              "    </tr>\n",
              "    <tr>\n",
              "      <th>11</th>\n",
              "      <td>hour</td>\n",
              "      <td>24</td>\n",
              "      <td>0</td>\n",
              "      <td>23</td>\n",
              "      <td>13.874601</td>\n",
              "      <td>5.440910</td>\n",
              "    </tr>\n",
              "    <tr>\n",
              "      <th>12</th>\n",
              "      <td>date</td>\n",
              "      <td>31</td>\n",
              "      <td>1</td>\n",
              "      <td>31</td>\n",
              "      <td>15.549134</td>\n",
              "      <td>8.635564</td>\n",
              "    </tr>\n",
              "    <tr>\n",
              "      <th>13</th>\n",
              "      <td>contents_attribute_d_m</td>\n",
              "      <td>33</td>\n",
              "      <td>2</td>\n",
              "      <td>1235</td>\n",
              "      <td>515.811111</td>\n",
              "      <td>435.364382</td>\n",
              "    </tr>\n",
              "  </tbody>\n",
              "</table>\n",
              "</div>\n",
              "      <button class=\"colab-df-convert\" onclick=\"convertToInteractive('df-46ff6fe2-24e3-4f5b-b38a-0145fe4fd34b')\"\n",
              "              title=\"Convert this dataframe to an interactive table.\"\n",
              "              style=\"display:none;\">\n",
              "        \n",
              "  <svg xmlns=\"http://www.w3.org/2000/svg\" height=\"24px\"viewBox=\"0 0 24 24\"\n",
              "       width=\"24px\">\n",
              "    <path d=\"M0 0h24v24H0V0z\" fill=\"none\"/>\n",
              "    <path d=\"M18.56 5.44l.94 2.06.94-2.06 2.06-.94-2.06-.94-.94-2.06-.94 2.06-2.06.94zm-11 1L8.5 8.5l.94-2.06 2.06-.94-2.06-.94L8.5 2.5l-.94 2.06-2.06.94zm10 10l.94 2.06.94-2.06 2.06-.94-2.06-.94-.94-2.06-.94 2.06-2.06.94z\"/><path d=\"M17.41 7.96l-1.37-1.37c-.4-.4-.92-.59-1.43-.59-.52 0-1.04.2-1.43.59L10.3 9.45l-7.72 7.72c-.78.78-.78 2.05 0 2.83L4 21.41c.39.39.9.59 1.41.59.51 0 1.02-.2 1.41-.59l7.78-7.78 2.81-2.81c.8-.78.8-2.07 0-2.86zM5.41 20L4 18.59l7.72-7.72 1.47 1.35L5.41 20z\"/>\n",
              "  </svg>\n",
              "      </button>\n",
              "      \n",
              "  <style>\n",
              "    .colab-df-container {\n",
              "      display:flex;\n",
              "      flex-wrap:wrap;\n",
              "      gap: 12px;\n",
              "    }\n",
              "\n",
              "    .colab-df-convert {\n",
              "      background-color: #E8F0FE;\n",
              "      border: none;\n",
              "      border-radius: 50%;\n",
              "      cursor: pointer;\n",
              "      display: none;\n",
              "      fill: #1967D2;\n",
              "      height: 32px;\n",
              "      padding: 0 0 0 0;\n",
              "      width: 32px;\n",
              "    }\n",
              "\n",
              "    .colab-df-convert:hover {\n",
              "      background-color: #E2EBFA;\n",
              "      box-shadow: 0px 1px 2px rgba(60, 64, 67, 0.3), 0px 1px 3px 1px rgba(60, 64, 67, 0.15);\n",
              "      fill: #174EA6;\n",
              "    }\n",
              "\n",
              "    [theme=dark] .colab-df-convert {\n",
              "      background-color: #3B4455;\n",
              "      fill: #D2E3FC;\n",
              "    }\n",
              "\n",
              "    [theme=dark] .colab-df-convert:hover {\n",
              "      background-color: #434B5C;\n",
              "      box-shadow: 0px 1px 3px 1px rgba(0, 0, 0, 0.15);\n",
              "      filter: drop-shadow(0px 1px 2px rgba(0, 0, 0, 0.3));\n",
              "      fill: #FFFFFF;\n",
              "    }\n",
              "  </style>\n",
              "\n",
              "      <script>\n",
              "        const buttonEl =\n",
              "          document.querySelector('#df-46ff6fe2-24e3-4f5b-b38a-0145fe4fd34b button.colab-df-convert');\n",
              "        buttonEl.style.display =\n",
              "          google.colab.kernel.accessAllowed ? 'block' : 'none';\n",
              "\n",
              "        async function convertToInteractive(key) {\n",
              "          const element = document.querySelector('#df-46ff6fe2-24e3-4f5b-b38a-0145fe4fd34b');\n",
              "          const dataTable =\n",
              "            await google.colab.kernel.invokeFunction('convertToInteractive',\n",
              "                                                     [key], {});\n",
              "          if (!dataTable) return;\n",
              "\n",
              "          const docLinkHtml = 'Like what you see? Visit the ' +\n",
              "            '<a target=\"_blank\" href=https://colab.research.google.com/notebooks/data_table.ipynb>data table notebook</a>'\n",
              "            + ' to learn more about interactive tables.';\n",
              "          element.innerHTML = '';\n",
              "          dataTable['output_type'] = 'display_data';\n",
              "          await google.colab.output.renderOutput(dataTable, element);\n",
              "          const docLink = document.createElement('div');\n",
              "          docLink.innerHTML = docLinkHtml;\n",
              "          element.appendChild(docLink);\n",
              "        }\n",
              "      </script>\n",
              "    </div>\n",
              "  </div>\n",
              "  "
            ],
            "text/plain": [
              "                  col_name len_unique mix   max        mean         std\n",
              "0     contents_attribute_i          3   1     3    2.456730    0.838708\n",
              "1     contents_attribute_a          3   1     3    2.326368    0.889975\n",
              "2          person_prefer_c          5   1     5    2.403564    1.834012\n",
              "3     contents_attribute_m          5   1     5    2.219399    1.556634\n",
              "4       person_attribute_b          6   0     5    2.779239    0.889558\n",
              "5                      day          7   0     6    3.197664    2.150933\n",
              "6     person_attribute_a_1          8   0     7    2.623097    2.418438\n",
              "7   contents_attribute_j_1          9   1    10    5.877087    2.068064\n",
              "8          person_prefer_e         12   0    11    3.679744    1.875217\n",
              "9     contents_attribute_e         12   0    11    3.946575    1.149511\n",
              "10     person_prefer_h_3_l         19   1   312  112.744974   90.479168\n",
              "11                    hour         24   0    23   13.874601    5.440910\n",
              "12                    date         31   1    31   15.549134    8.635564\n",
              "13  contents_attribute_d_m         33   2  1235  515.811111  435.364382"
            ]
          },
          "metadata": {},
          "execution_count": 92
        }
      ]
    },
    {
      "cell_type": "code",
      "source": [
        "col_1"
      ],
      "metadata": {
        "colab": {
          "base_uri": "https://localhost:8080/"
        },
        "id": "zCJMjCrC1efX",
        "outputId": "55ad45ca-6d41-48bd-9a46-7cf33eab7f31"
      },
      "execution_count": 93,
      "outputs": [
        {
          "output_type": "execute_result",
          "data": {
            "text/plain": [
              "['date',\n",
              " 'hour',\n",
              " 'day',\n",
              " 'person_attribute_a_1',\n",
              " 'contents_attribute_e',\n",
              " 'person_prefer_e',\n",
              " 'person_attribute_b',\n",
              " 'contents_attribute_m',\n",
              " 'contents_attribute_j_1',\n",
              " 'contents_attribute_a',\n",
              " 'person_prefer_c',\n",
              " 'contents_attribute_i',\n",
              " 'person_prefer_h_3_l',\n",
              " 'contents_attribute_d_m']"
            ]
          },
          "metadata": {},
          "execution_count": 93
        }
      ]
    },
    {
      "cell_type": "code",
      "source": [
        "def make_dummy(df, col_1):\n",
        "  df_1=pd.get_dummies(df[col_1[0]], prefix=col_1[0])\n",
        "  df_2=pd.get_dummies(df[col_1[1]], prefix=col_1[1])\n",
        "  df_3=pd.get_dummies(df[col_1[2]], prefix=col_1[2])\n",
        "  df_4=pd.get_dummies(df[col_1[3]], prefix=col_1[3])\n",
        "  df_5=pd.get_dummies(df[col_1[4]], prefix=col_1[4])\n",
        "  df_6=pd.get_dummies(df[col_1[5]], prefix=col_1[5])\n",
        "  df_7=pd.get_dummies(df[col_1[6]], prefix=col_1[6])\n",
        "  df_8=pd.get_dummies(df[col_1[7]], prefix=col_1[7])\n",
        "  df_9=pd.get_dummies(df[col_1[8]], prefix=col_1[8])\n",
        "  df_10=pd.get_dummies(df[col_1[9]], prefix=col_1[9])\n",
        "  df_11=pd.get_dummies(df[col_1[10]], prefix=col_1[10])\n",
        "  df_12=pd.get_dummies(df[col_1[11]], prefix=col_1[11])\n",
        "  df_13=pd.get_dummies(df[col_1[12]], prefix=col_1[12])\n",
        "  df_14=pd.get_dummies(df[col_1[13]], prefix=col_1[13])\n",
        "  return df_1, df_2, df_3, df_4, df_5, df_6, df_7, df_8, df_9, df_10, df_11, df_12, df_13, df_14"
      ],
      "metadata": {
        "id": "j0qRmmesy4Pv"
      },
      "execution_count": 94,
      "outputs": []
    },
    {
      "cell_type": "code",
      "source": [
        "def make_dummy_2(df, col_1):\n",
        "  A=make_dummy(df, col_1)[0]\n",
        "  B=make_dummy(df, col_1)[1]\n",
        "  C=make_dummy(df, col_1)[2]\n",
        "  D=make_dummy(df, col_1)[3]\n",
        "  E=make_dummy(df, col_1)[4]\n",
        "  F=make_dummy(df, col_1)[5]\n",
        "  G=make_dummy(df, col_1)[6]\n",
        "  H=make_dummy(df, col_1)[7]\n",
        "  I=make_dummy(df, col_1)[8]\n",
        "  J=make_dummy(df, col_1)[9]\n",
        "  K=make_dummy(df, col_1)[10]\n",
        "  L=make_dummy(df, col_1)[11]\n",
        "  M=make_dummy(df, col_1)[12]\n",
        "  N=make_dummy(df, col_1)[13]\n",
        "  new_df=pd.concat([df, A,B,C,D,E,F,G,H,I,H,K,L,M,N], axis=1)\n",
        "  return new_df"
      ],
      "metadata": {
        "id": "0wLG-XBd3L4N"
      },
      "execution_count": 95,
      "outputs": []
    },
    {
      "cell_type": "code",
      "source": [
        "x_train_d=make_dummy_2(x_train, col_1)\n",
        "x_test_d=make_dummy_2(x_test, col_1)\n",
        "x_d=make_dummy_2(x, col_1)\n",
        "x_val_d=make_dummy_2(x_val, col_1)"
      ],
      "metadata": {
        "id": "gPMLWR4g2Qjt"
      },
      "execution_count": 96,
      "outputs": []
    },
    {
      "cell_type": "code",
      "source": [
        "print(len(x_train_d.columns))\n",
        "print(len(x_test_d.columns))\n",
        "print(len(x_d.columns))\n",
        "print(len(x_val_d.columns))"
      ],
      "metadata": {
        "colab": {
          "base_uri": "https://localhost:8080/"
        },
        "id": "IUAM0dPP2oNW",
        "outputId": "3e7f6511-13c2-4014-b74b-7dfc6197d56c"
      },
      "execution_count": 97,
      "outputs": [
        {
          "output_type": "stream",
          "name": "stdout",
          "text": [
            "235\n",
            "235\n",
            "235\n",
            "236\n"
          ]
        }
      ]
    },
    {
      "cell_type": "code",
      "source": [
        "set(x_val_d.columns)-set(x_d.columns)"
      ],
      "metadata": {
        "colab": {
          "base_uri": "https://localhost:8080/"
        },
        "id": "DUjeI1Rpy4YX",
        "outputId": "21ee1a89-5878-4265-eb72-1fff578a63cc"
      },
      "execution_count": 98,
      "outputs": [
        {
          "output_type": "execute_result",
          "data": {
            "text/plain": [
              "{'contents_attribute_d_m_1258'}"
            ]
          },
          "metadata": {},
          "execution_count": 98
        }
      ]
    },
    {
      "cell_type": "code",
      "source": [
        "x_val_d.drop(\"contents_attribute_d_m_1258\", axis=1, inplace=True)"
      ],
      "metadata": {
        "id": "JPLdxeoI4pHn"
      },
      "execution_count": 99,
      "outputs": []
    },
    {
      "cell_type": "code",
      "source": [
        "def dummy_result(x_train,y_train, x_test, y_test, x,y,x_val,y_val):\n",
        "  extra=ExtraTreeClassifier(random_state=42)\n",
        "  extra.fit(x_train, y_train)\n",
        "  y_pred_1=extra.predict(x_test)\n",
        "  f_1_1=f1_score(y_test,y_pred_1)\n",
        "  extra.fit(x, y)\n",
        "  y_pred_2=extra.predict(x_val)\n",
        "  f_1_2=f1_score(y_val, y_pred_2)\n",
        "  f_1_a=(f_1_1+f_1_2)/2\n",
        "  print(\"f1_1차 : \", f_1_1)\n",
        "  print(\"f1_2차 : \", f_1_2 )\n",
        "  print(\"f1 avg score :\", f_1_a)"
      ],
      "metadata": {
        "id": "SPMOYRj24Vql"
      },
      "execution_count": 101,
      "outputs": []
    },
    {
      "cell_type": "code",
      "source": [
        "dummy_result(x_train_d, y_train, x_test_d, y_test, x_d, y, x_val_d, y_val)"
      ],
      "metadata": {
        "id": "6HmXEf2N4Vtb"
      },
      "execution_count": null,
      "outputs": []
    },
    {
      "cell_type": "markdown",
      "source": [
        "**더미화 후, scaling**"
      ],
      "metadata": {
        "id": "O_XbWwVQ5Uw-"
      }
    },
    {
      "cell_type": "code",
      "source": [
        "scaling_result(mm, x_train_d, y_train, x_test_d, y_test, x_d, y, x_val_d, y_val)"
      ],
      "metadata": {
        "id": "6BqNNrPU4VwO"
      },
      "execution_count": null,
      "outputs": []
    },
    {
      "cell_type": "code",
      "source": [
        "scaling_result(rr, x_train_d, y_train, x_test_d, y_test, x_d, y, x_val_d, y_val)"
      ],
      "metadata": {
        "id": "fmLMxTH24V0Q"
      },
      "execution_count": null,
      "outputs": []
    },
    {
      "cell_type": "code",
      "source": [
        "scaling_result(ss, x_train_d, y_train, x_test_d, y_test, x_d, y, x_val_d, y_val)"
      ],
      "metadata": {
        "id": "KhJ7YBoA4V3H"
      },
      "execution_count": null,
      "outputs": []
    },
    {
      "cell_type": "markdown",
      "source": [
        "- 큰 의미가 없으므로, 처음 변수를 2개 제거 했던 것으로 Hyperparameter Tuning 시작"
      ],
      "metadata": {
        "id": "NhN3Wio_7LOF"
      }
    },
    {
      "cell_type": "markdown",
      "source": [
        "# QDA Feature Engineering"
      ],
      "metadata": {
        "id": "BfkTd9zo1eCW"
      }
    },
    {
      "cell_type": "markdown",
      "source": [
        "판별 분석에 대한 데이터 고려 사항\n",
        "\n",
        "```\n",
        "예측 변수가 양적 변수여야 함.\n",
        "\n",
        "예측 변수들이 깊이 상관되지 않아야 함.\n",
        "\n",
        "반응 변수가 그룹을 나타내야 함.\n",
        "\n",
        "예측 변수에 대한 데이터가 각 그룹별로 정규 분포를 따라야 함.\n",
        "\n",
        "가능한 경우 분석을 위한 사전 확률 입력\n",
        "```\n",
        "\n",
        "참고링크: https://support.minitab.com/ko-kr/minitab/18/help-and-how-to/modeling-statistics/multivariate/how-to/discriminant-analysis/before-you-start/data-considerations/\n",
        "\n",
        "판별 분석의 가설\n",
        "\n",
        "귀무가설: 두 개 또는 그 이상의 집단의 평균이 동일하다.\n",
        "\n",
        "대립가설: 두 개 또는 그 이상의 집단의 평균이 동일하지 않다.\n",
        "\n",
        "판별 분석의 가정들\n",
        "\n",
        "```\n",
        "독립 변수들의 결합확률 분포는 다변량 정규분포이다.\n",
        "\n",
        "모집단에서 종속변수의 각 그룹 별로 독립변수들의 공분산 구조가 같다. -> Box-M 검정을 이용\n",
        "\n",
        "각 그룹에 소속될 사전확률은 같다.\n",
        "```\n",
        "\n",
        "판별분석 가정의 점검\n",
        "\n",
        "```\n",
        "각 독립 변수들의 분포가 정규분포인가?\n",
        "\n",
        "그룹 별 독립 변수들은 등분산성을 만족하는 가?\n",
        "-> Box-M 검정을 이용\n",
        "\n",
        "각 그룹에 소속될 사전 확률은 같은가?\n",
        "```\n",
        "- 참고 링크 : http://contents.kocw.net/KOCW/document/2015/dongguk/shimkyubark1/10-2.pdf"
      ],
      "metadata": {
        "id": "kNVlq_YX1yod"
      }
    },
    {
      "cell_type": "markdown",
      "source": [
        "다중공선성 점검\n",
        "--"
      ],
      "metadata": {
        "id": "6WvxBsg86TFj"
      }
    },
    {
      "cell_type": "code",
      "source": [
        "import statsmodels.api as sm\n",
        "from statsmodels.stats.outliers_influence import variance_inflation_factor"
      ],
      "metadata": {
        "id": "hNGDlzKj1g99"
      },
      "execution_count": 168,
      "outputs": []
    },
    {
      "cell_type": "code",
      "source": [
        "x_A=tn_A.drop(['target'], axis=1)\n",
        "y_A=tn_A['target']"
      ],
      "metadata": {
        "id": "ttS-V6wO1hAp"
      },
      "execution_count": 154,
      "outputs": []
    },
    {
      "cell_type": "code",
      "source": [
        "x_constant=sm.add_constant(x_A)\n",
        "\n",
        "model=sm.OLS(y_A,x_constant).fit()"
      ],
      "metadata": {
        "id": "sW1X0hHJ431m"
      },
      "execution_count": 155,
      "outputs": []
    },
    {
      "cell_type": "code",
      "source": [
        "p_values_1=pd.DataFrame(model.pvalues, columns=['p-value'])\n",
        "p_values_1=p_values_1.sort_values(by='p-value', ascending=False)\n",
        "p_over=p_values_1.loc[p_values_1['p-value']>0.05]\n",
        "p_over"
      ],
      "metadata": {
        "colab": {
          "base_uri": "https://localhost:8080/",
          "height": 551
        },
        "id": "ePDuU76d4331",
        "outputId": "b75fe031-703e-4bf9-e092-8636b366f91b"
      },
      "execution_count": 156,
      "outputs": [
        {
          "output_type": "execute_result",
          "data": {
            "text/html": [
              "\n",
              "  <div id=\"df-284c953a-9bf9-4a97-adb9-aa385c672668\">\n",
              "    <div class=\"colab-df-container\">\n",
              "      <div>\n",
              "<style scoped>\n",
              "    .dataframe tbody tr th:only-of-type {\n",
              "        vertical-align: middle;\n",
              "    }\n",
              "\n",
              "    .dataframe tbody tr th {\n",
              "        vertical-align: top;\n",
              "    }\n",
              "\n",
              "    .dataframe thead th {\n",
              "        text-align: right;\n",
              "    }\n",
              "</style>\n",
              "<table border=\"1\" class=\"dataframe\">\n",
              "  <thead>\n",
              "    <tr style=\"text-align: right;\">\n",
              "      <th></th>\n",
              "      <th>p-value</th>\n",
              "    </tr>\n",
              "  </thead>\n",
              "  <tbody>\n",
              "    <tr>\n",
              "      <th>person_prefer_h_3</th>\n",
              "      <td>0.982947</td>\n",
              "    </tr>\n",
              "    <tr>\n",
              "      <th>person_prefer_h_3_m</th>\n",
              "      <td>0.878486</td>\n",
              "    </tr>\n",
              "    <tr>\n",
              "      <th>person_prefer_h_1</th>\n",
              "      <td>0.858876</td>\n",
              "    </tr>\n",
              "    <tr>\n",
              "      <th>person_prefer_d_3_l</th>\n",
              "      <td>0.765408</td>\n",
              "    </tr>\n",
              "    <tr>\n",
              "      <th>hour</th>\n",
              "      <td>0.759579</td>\n",
              "    </tr>\n",
              "    <tr>\n",
              "      <th>contents_attribute_h_l</th>\n",
              "      <td>0.741355</td>\n",
              "    </tr>\n",
              "    <tr>\n",
              "      <th>date</th>\n",
              "      <td>0.738762</td>\n",
              "    </tr>\n",
              "    <tr>\n",
              "      <th>day</th>\n",
              "      <td>0.460676</td>\n",
              "    </tr>\n",
              "    <tr>\n",
              "      <th>person_prefer_h_2</th>\n",
              "      <td>0.447151</td>\n",
              "    </tr>\n",
              "    <tr>\n",
              "      <th>person_prefer_h_2_m</th>\n",
              "      <td>0.403180</td>\n",
              "    </tr>\n",
              "    <tr>\n",
              "      <th>person_prefer_h_2_l</th>\n",
              "      <td>0.368704</td>\n",
              "    </tr>\n",
              "    <tr>\n",
              "      <th>person_prefer_h_3_l</th>\n",
              "      <td>0.357071</td>\n",
              "    </tr>\n",
              "    <tr>\n",
              "      <th>contents_attribute_l</th>\n",
              "      <td>0.225192</td>\n",
              "    </tr>\n",
              "    <tr>\n",
              "      <th>h_s_match_yn</th>\n",
              "      <td>0.208335</td>\n",
              "    </tr>\n",
              "    <tr>\n",
              "      <th>contents_attribute_h</th>\n",
              "      <td>0.063082</td>\n",
              "    </tr>\n",
              "    <tr>\n",
              "      <th>contents_attribute_h_m</th>\n",
              "      <td>0.052005</td>\n",
              "    </tr>\n",
              "  </tbody>\n",
              "</table>\n",
              "</div>\n",
              "      <button class=\"colab-df-convert\" onclick=\"convertToInteractive('df-284c953a-9bf9-4a97-adb9-aa385c672668')\"\n",
              "              title=\"Convert this dataframe to an interactive table.\"\n",
              "              style=\"display:none;\">\n",
              "        \n",
              "  <svg xmlns=\"http://www.w3.org/2000/svg\" height=\"24px\"viewBox=\"0 0 24 24\"\n",
              "       width=\"24px\">\n",
              "    <path d=\"M0 0h24v24H0V0z\" fill=\"none\"/>\n",
              "    <path d=\"M18.56 5.44l.94 2.06.94-2.06 2.06-.94-2.06-.94-.94-2.06-.94 2.06-2.06.94zm-11 1L8.5 8.5l.94-2.06 2.06-.94-2.06-.94L8.5 2.5l-.94 2.06-2.06.94zm10 10l.94 2.06.94-2.06 2.06-.94-2.06-.94-.94-2.06-.94 2.06-2.06.94z\"/><path d=\"M17.41 7.96l-1.37-1.37c-.4-.4-.92-.59-1.43-.59-.52 0-1.04.2-1.43.59L10.3 9.45l-7.72 7.72c-.78.78-.78 2.05 0 2.83L4 21.41c.39.39.9.59 1.41.59.51 0 1.02-.2 1.41-.59l7.78-7.78 2.81-2.81c.8-.78.8-2.07 0-2.86zM5.41 20L4 18.59l7.72-7.72 1.47 1.35L5.41 20z\"/>\n",
              "  </svg>\n",
              "      </button>\n",
              "      \n",
              "  <style>\n",
              "    .colab-df-container {\n",
              "      display:flex;\n",
              "      flex-wrap:wrap;\n",
              "      gap: 12px;\n",
              "    }\n",
              "\n",
              "    .colab-df-convert {\n",
              "      background-color: #E8F0FE;\n",
              "      border: none;\n",
              "      border-radius: 50%;\n",
              "      cursor: pointer;\n",
              "      display: none;\n",
              "      fill: #1967D2;\n",
              "      height: 32px;\n",
              "      padding: 0 0 0 0;\n",
              "      width: 32px;\n",
              "    }\n",
              "\n",
              "    .colab-df-convert:hover {\n",
              "      background-color: #E2EBFA;\n",
              "      box-shadow: 0px 1px 2px rgba(60, 64, 67, 0.3), 0px 1px 3px 1px rgba(60, 64, 67, 0.15);\n",
              "      fill: #174EA6;\n",
              "    }\n",
              "\n",
              "    [theme=dark] .colab-df-convert {\n",
              "      background-color: #3B4455;\n",
              "      fill: #D2E3FC;\n",
              "    }\n",
              "\n",
              "    [theme=dark] .colab-df-convert:hover {\n",
              "      background-color: #434B5C;\n",
              "      box-shadow: 0px 1px 3px 1px rgba(0, 0, 0, 0.15);\n",
              "      filter: drop-shadow(0px 1px 2px rgba(0, 0, 0, 0.3));\n",
              "      fill: #FFFFFF;\n",
              "    }\n",
              "  </style>\n",
              "\n",
              "      <script>\n",
              "        const buttonEl =\n",
              "          document.querySelector('#df-284c953a-9bf9-4a97-adb9-aa385c672668 button.colab-df-convert');\n",
              "        buttonEl.style.display =\n",
              "          google.colab.kernel.accessAllowed ? 'block' : 'none';\n",
              "\n",
              "        async function convertToInteractive(key) {\n",
              "          const element = document.querySelector('#df-284c953a-9bf9-4a97-adb9-aa385c672668');\n",
              "          const dataTable =\n",
              "            await google.colab.kernel.invokeFunction('convertToInteractive',\n",
              "                                                     [key], {});\n",
              "          if (!dataTable) return;\n",
              "\n",
              "          const docLinkHtml = 'Like what you see? Visit the ' +\n",
              "            '<a target=\"_blank\" href=https://colab.research.google.com/notebooks/data_table.ipynb>data table notebook</a>'\n",
              "            + ' to learn more about interactive tables.';\n",
              "          element.innerHTML = '';\n",
              "          dataTable['output_type'] = 'display_data';\n",
              "          await google.colab.output.renderOutput(dataTable, element);\n",
              "          const docLink = document.createElement('div');\n",
              "          docLink.innerHTML = docLinkHtml;\n",
              "          element.appendChild(docLink);\n",
              "        }\n",
              "      </script>\n",
              "    </div>\n",
              "  </div>\n",
              "  "
            ],
            "text/plain": [
              "                         p-value\n",
              "person_prefer_h_3       0.982947\n",
              "person_prefer_h_3_m     0.878486\n",
              "person_prefer_h_1       0.858876\n",
              "person_prefer_d_3_l     0.765408\n",
              "hour                    0.759579\n",
              "contents_attribute_h_l  0.741355\n",
              "date                    0.738762\n",
              "day                     0.460676\n",
              "person_prefer_h_2       0.447151\n",
              "person_prefer_h_2_m     0.403180\n",
              "person_prefer_h_2_l     0.368704\n",
              "person_prefer_h_3_l     0.357071\n",
              "contents_attribute_l    0.225192\n",
              "h_s_match_yn            0.208335\n",
              "contents_attribute_h    0.063082\n",
              "contents_attribute_h_m  0.052005"
            ]
          },
          "metadata": {},
          "execution_count": 156
        }
      ]
    },
    {
      "cell_type": "markdown",
      "source": [
        "p-value 0.05 이상 제거 후 확인해보기"
      ],
      "metadata": {
        "id": "Rp52LKDe6n3z"
      }
    },
    {
      "cell_type": "code",
      "source": [
        "x_A=tn_A.drop(['target','person_prefer_h_3', 'person_prefer_h_3_m', 'person_prefer_h_1',\n",
        "       'person_prefer_d_3_l', 'hour', 'contents_attribute_h_l', 'date', 'day',\n",
        "       'person_prefer_h_2', 'person_prefer_h_2_m', 'person_prefer_h_2_l',\n",
        "       'person_prefer_h_3_l', 'contents_attribute_l', 'h_s_match_yn',\n",
        "       'contents_attribute_h', 'contents_attribute_h_m'], axis=1)\n",
        "y_A=tn_A['target']"
      ],
      "metadata": {
        "id": "IJYRMv6B438r"
      },
      "execution_count": 158,
      "outputs": []
    },
    {
      "cell_type": "code",
      "source": [
        "x_constant=sm.add_constant(x_A)\n",
        "\n",
        "model=sm.OLS(y_A,x_constant).fit()\n",
        "p_values_1=pd.DataFrame(model.pvalues, columns=['p-value'])\n",
        "p_values_1=p_values_1.sort_values(by='p-value', ascending=False)\n",
        "p_over=p_values_1.loc[p_values_1['p-value']>0.05]\n",
        "p_over"
      ],
      "metadata": {
        "colab": {
          "base_uri": "https://localhost:8080/",
          "height": 49
        },
        "id": "6ejMsaOJ6ZHc",
        "outputId": "9186c8a5-94d3-4fb9-ce38-0137a5bbd19d"
      },
      "execution_count": 159,
      "outputs": [
        {
          "output_type": "execute_result",
          "data": {
            "text/html": [
              "\n",
              "  <div id=\"df-6f88f07a-e093-4a66-aa28-3c74f6a1be94\">\n",
              "    <div class=\"colab-df-container\">\n",
              "      <div>\n",
              "<style scoped>\n",
              "    .dataframe tbody tr th:only-of-type {\n",
              "        vertical-align: middle;\n",
              "    }\n",
              "\n",
              "    .dataframe tbody tr th {\n",
              "        vertical-align: top;\n",
              "    }\n",
              "\n",
              "    .dataframe thead th {\n",
              "        text-align: right;\n",
              "    }\n",
              "</style>\n",
              "<table border=\"1\" class=\"dataframe\">\n",
              "  <thead>\n",
              "    <tr style=\"text-align: right;\">\n",
              "      <th></th>\n",
              "      <th>p-value</th>\n",
              "    </tr>\n",
              "  </thead>\n",
              "  <tbody>\n",
              "  </tbody>\n",
              "</table>\n",
              "</div>\n",
              "      <button class=\"colab-df-convert\" onclick=\"convertToInteractive('df-6f88f07a-e093-4a66-aa28-3c74f6a1be94')\"\n",
              "              title=\"Convert this dataframe to an interactive table.\"\n",
              "              style=\"display:none;\">\n",
              "        \n",
              "  <svg xmlns=\"http://www.w3.org/2000/svg\" height=\"24px\"viewBox=\"0 0 24 24\"\n",
              "       width=\"24px\">\n",
              "    <path d=\"M0 0h24v24H0V0z\" fill=\"none\"/>\n",
              "    <path d=\"M18.56 5.44l.94 2.06.94-2.06 2.06-.94-2.06-.94-.94-2.06-.94 2.06-2.06.94zm-11 1L8.5 8.5l.94-2.06 2.06-.94-2.06-.94L8.5 2.5l-.94 2.06-2.06.94zm10 10l.94 2.06.94-2.06 2.06-.94-2.06-.94-.94-2.06-.94 2.06-2.06.94z\"/><path d=\"M17.41 7.96l-1.37-1.37c-.4-.4-.92-.59-1.43-.59-.52 0-1.04.2-1.43.59L10.3 9.45l-7.72 7.72c-.78.78-.78 2.05 0 2.83L4 21.41c.39.39.9.59 1.41.59.51 0 1.02-.2 1.41-.59l7.78-7.78 2.81-2.81c.8-.78.8-2.07 0-2.86zM5.41 20L4 18.59l7.72-7.72 1.47 1.35L5.41 20z\"/>\n",
              "  </svg>\n",
              "      </button>\n",
              "      \n",
              "  <style>\n",
              "    .colab-df-container {\n",
              "      display:flex;\n",
              "      flex-wrap:wrap;\n",
              "      gap: 12px;\n",
              "    }\n",
              "\n",
              "    .colab-df-convert {\n",
              "      background-color: #E8F0FE;\n",
              "      border: none;\n",
              "      border-radius: 50%;\n",
              "      cursor: pointer;\n",
              "      display: none;\n",
              "      fill: #1967D2;\n",
              "      height: 32px;\n",
              "      padding: 0 0 0 0;\n",
              "      width: 32px;\n",
              "    }\n",
              "\n",
              "    .colab-df-convert:hover {\n",
              "      background-color: #E2EBFA;\n",
              "      box-shadow: 0px 1px 2px rgba(60, 64, 67, 0.3), 0px 1px 3px 1px rgba(60, 64, 67, 0.15);\n",
              "      fill: #174EA6;\n",
              "    }\n",
              "\n",
              "    [theme=dark] .colab-df-convert {\n",
              "      background-color: #3B4455;\n",
              "      fill: #D2E3FC;\n",
              "    }\n",
              "\n",
              "    [theme=dark] .colab-df-convert:hover {\n",
              "      background-color: #434B5C;\n",
              "      box-shadow: 0px 1px 3px 1px rgba(0, 0, 0, 0.15);\n",
              "      filter: drop-shadow(0px 1px 2px rgba(0, 0, 0, 0.3));\n",
              "      fill: #FFFFFF;\n",
              "    }\n",
              "  </style>\n",
              "\n",
              "      <script>\n",
              "        const buttonEl =\n",
              "          document.querySelector('#df-6f88f07a-e093-4a66-aa28-3c74f6a1be94 button.colab-df-convert');\n",
              "        buttonEl.style.display =\n",
              "          google.colab.kernel.accessAllowed ? 'block' : 'none';\n",
              "\n",
              "        async function convertToInteractive(key) {\n",
              "          const element = document.querySelector('#df-6f88f07a-e093-4a66-aa28-3c74f6a1be94');\n",
              "          const dataTable =\n",
              "            await google.colab.kernel.invokeFunction('convertToInteractive',\n",
              "                                                     [key], {});\n",
              "          if (!dataTable) return;\n",
              "\n",
              "          const docLinkHtml = 'Like what you see? Visit the ' +\n",
              "            '<a target=\"_blank\" href=https://colab.research.google.com/notebooks/data_table.ipynb>data table notebook</a>'\n",
              "            + ' to learn more about interactive tables.';\n",
              "          element.innerHTML = '';\n",
              "          dataTable['output_type'] = 'display_data';\n",
              "          await google.colab.output.renderOutput(dataTable, element);\n",
              "          const docLink = document.createElement('div');\n",
              "          docLink.innerHTML = docLinkHtml;\n",
              "          element.appendChild(docLink);\n",
              "        }\n",
              "      </script>\n",
              "    </div>\n",
              "  </div>\n",
              "  "
            ],
            "text/plain": [
              "Empty DataFrame\n",
              "Columns: [p-value]\n",
              "Index: []"
            ]
          },
          "metadata": {},
          "execution_count": 159
        }
      ]
    },
    {
      "cell_type": "markdown",
      "source": [
        "변수 제거 후 확인해보기\n",
        "--\n"
      ],
      "metadata": {
        "id": "TNarEUkB71tU"
      }
    },
    {
      "cell_type": "code",
      "source": [
        "def result(model, x_train,y_train, x_test, y_test, x,y,x_val,y_val):\n",
        "  model.fit(x_train, y_train)\n",
        "  y_pred_1=model.predict(x_test)\n",
        "  f_1_1=f1_score(y_test,y_pred_1)\n",
        "  recall_1=recall_score(y_test, y_pred_1)\n",
        "  precision_1=precision_score(y_test, y_pred_1)\n",
        "  print(\"recall 1차 :\", recall_1)\n",
        "  print(\"precision 1차: \", precision_1)\n",
        "  print(\"f1_1차 : \", f_1_1)\n",
        "  auc_roc=classification_report(y_test, y_pred_1)\n",
        "  print(auc_roc)\n",
        "  conf=confusion_matrix(y_test, y_pred_1)\n",
        "  sns.heatmap(conf/np.sum(conf), annot=True, cmap='Pastel1', fmt='.2%')\n",
        "  plt.show()\n",
        "\n",
        "  model.fit(x, y)\n",
        "  y_pred_2=model.predict(x_val)\n",
        "  f_1_2=f1_score(y_val, y_pred_2)\n",
        "  recall_2=recall_score(y_val, y_pred_2)\n",
        "  precision_2=precision_score(y_val, y_pred_2)\n",
        "  print(\"recall 2차 :\", recall_2)\n",
        "  print(\"precision 2차: \", precision_2)\n",
        "  print(\"f1_2차 : \", f_1_2 )\n",
        "  auc_roc=classification_report(y_val, y_pred_2)\n",
        "  print(auc_roc)\n",
        "  conf=confusion_matrix(y_val, y_pred_2)\n",
        "  sns.heatmap(conf/np.sum(conf), annot=True, cmap='Pastel1', fmt='.2%')\n",
        "  plt.show()\n",
        "\n",
        "  f_1_a=(f_1_1+f_1_2)/2\n",
        "  print(\"f1 avg score :\", f_1_a)"
      ],
      "metadata": {
        "id": "Svon18Ln7FBs"
      },
      "execution_count": 163,
      "outputs": []
    },
    {
      "cell_type": "code",
      "source": [
        "# 1차 검증\n",
        "x_train=tn_tn.drop(['target','person_prefer_h_3', 'person_prefer_h_3_m', 'person_prefer_h_1',\n",
        "       'person_prefer_d_3_l', 'hour', 'contents_attribute_h_l', 'date', 'day',\n",
        "       'person_prefer_h_2', 'person_prefer_h_2_m', 'person_prefer_h_2_l',\n",
        "       'person_prefer_h_3_l', 'contents_attribute_l', 'h_s_match_yn',\n",
        "       'contents_attribute_h', 'contents_attribute_h_m'], axis=1)\n",
        "y_train=tn_tn['target']\n",
        "x_test=tn_te.drop(['target','person_prefer_h_3', 'person_prefer_h_3_m', 'person_prefer_h_1',\n",
        "       'person_prefer_d_3_l', 'hour', 'contents_attribute_h_l', 'date', 'day',\n",
        "       'person_prefer_h_2', 'person_prefer_h_2_m', 'person_prefer_h_2_l',\n",
        "       'person_prefer_h_3_l', 'contents_attribute_l', 'h_s_match_yn',\n",
        "       'contents_attribute_h', 'contents_attribute_h_m'], axis=1)\n",
        "y_test=tn_te['target']\n",
        "\n",
        "# 2차 검증\n",
        "x=tn.drop(['target','person_prefer_h_3', 'person_prefer_h_3_m', 'person_prefer_h_1',\n",
        "       'person_prefer_d_3_l', 'hour', 'contents_attribute_h_l', 'date', 'day',\n",
        "       'person_prefer_h_2', 'person_prefer_h_2_m', 'person_prefer_h_2_l',\n",
        "       'person_prefer_h_3_l', 'contents_attribute_l', 'h_s_match_yn',\n",
        "       'contents_attribute_h', 'contents_attribute_h_m'], axis=1)\n",
        "y=tn['target']\n",
        "x_val=val.drop(['target','person_prefer_h_3', 'person_prefer_h_3_m', 'person_prefer_h_1',\n",
        "       'person_prefer_d_3_l', 'hour', 'contents_attribute_h_l', 'date', 'day',\n",
        "       'person_prefer_h_2', 'person_prefer_h_2_m', 'person_prefer_h_2_l',\n",
        "       'person_prefer_h_3_l', 'contents_attribute_l', 'h_s_match_yn',\n",
        "       'contents_attribute_h', 'contents_attribute_h_m'], axis=1)\n",
        "y_val=val['target']"
      ],
      "metadata": {
        "id": "6HbgOsfP6ZOk"
      },
      "execution_count": 164,
      "outputs": []
    },
    {
      "cell_type": "code",
      "source": [
        "ss=StandardScaler()\n",
        "s_x_train=ss.fit_transform(x_train)\n",
        "s_x_test=ss.fit_transform(x_test)\n",
        "s_x=ss.fit_transform(x)\n",
        "s_x_val=ss.fit_transform(x_val)\n",
        "\n",
        "df_x_train=pd.DataFrame(s_x_train , index=x_train.index , columns=x_train.columns )\n",
        "df_x_test=pd.DataFrame(s_x_test , index=x_test.index , columns=x_test.columns )\n",
        "df_x=pd.DataFrame(s_x , index=x.index , columns=x.columns )\n",
        "df_x_val=pd.DataFrame(s_x_val , index=x_val.index , columns=x_val.columns )"
      ],
      "metadata": {
        "id": "cYWNmrdl8sbD"
      },
      "execution_count": 166,
      "outputs": []
    },
    {
      "cell_type": "code",
      "source": [
        "result(qd, x_train,y_train, x_test, y_test, x,y,x_val,y_val)"
      ],
      "metadata": {
        "colab": {
          "base_uri": "https://localhost:8080/",
          "height": 970
        },
        "id": "u9BAN1Vj6ZaD",
        "outputId": "6d3c2ea7-a0da-492a-f9a5-77e6e34630c8"
      },
      "execution_count": 165,
      "outputs": [
        {
          "output_type": "stream",
          "name": "stdout",
          "text": [
            "recall 1차 : 0.9469923814577569\n",
            "precision 1차:  0.9214102635024248\n",
            "f1_1차 :  0.934026187650121\n",
            "              precision    recall  f1-score   support\n",
            "\n",
            "           0       0.24      0.17      0.20      5151\n",
            "           1       0.92      0.95      0.93     52766\n",
            "\n",
            "    accuracy                           0.88     57917\n",
            "   macro avg       0.58      0.56      0.57     57917\n",
            "weighted avg       0.86      0.88      0.87     57917\n",
            "\n"
          ]
        },
        {
          "output_type": "display_data",
          "data": {
            "image/png": "[encoded data removed]",
            "text/plain": [
              "<Figure size 432x288 with 2 Axes>"
            ]
          },
          "metadata": {}
        },
        {
          "output_type": "stream",
          "name": "stdout",
          "text": [
            "recall 2차 : 0.9476393255594912\n",
            "precision 2차:  0.9195932028836251\n",
            "f1_2차 :  0.9334056356615988\n",
            "              precision    recall  f1-score   support\n",
            "\n",
            "           0       0.24      0.17      0.20      7521\n",
            "           1       0.92      0.95      0.93     75381\n",
            "\n",
            "    accuracy                           0.88     82902\n",
            "   macro avg       0.58      0.56      0.57     82902\n",
            "weighted avg       0.86      0.88      0.87     82902\n",
            "\n"
          ]
        },
        {
          "output_type": "display_data",
          "data": {
            "image/png": "[encoded data removed]",
            "text/plain": [
              "<Figure size 432x288 with 2 Axes>"
            ]
          },
          "metadata": {}
        },
        {
          "output_type": "stream",
          "name": "stdout",
          "text": [
            "f1 avg score : 0.93371591165586\n"
          ]
        }
      ]
    },
    {
      "cell_type": "code",
      "source": [
        "result(qd, df_x_train,y_train, df_x_test, y_test, df_x,y,df_x_val,y_val)"
      ],
      "metadata": {
        "colab": {
          "base_uri": "https://localhost:8080/",
          "height": 970
        },
        "id": "KFW_UHqp6ZdD",
        "outputId": "acee57dc-29c0-4b17-f12f-2d64e17dbe9e"
      },
      "execution_count": 167,
      "outputs": [
        {
          "output_type": "stream",
          "name": "stdout",
          "text": [
            "recall 1차 : 0.9474661713982488\n",
            "precision 1차:  0.9213615672398223\n",
            "f1_1차 :  0.934231549048371\n",
            "              precision    recall  f1-score   support\n",
            "\n",
            "           0       0.24      0.17      0.20      5151\n",
            "           1       0.92      0.95      0.93     52766\n",
            "\n",
            "    accuracy                           0.88     57917\n",
            "   macro avg       0.58      0.56      0.57     57917\n",
            "weighted avg       0.86      0.88      0.87     57917\n",
            "\n"
          ]
        },
        {
          "output_type": "display_data",
          "data": {
            "image/png": "[encoded data removed]",
            "text/plain": [
              "<Figure size 432x288 with 2 Axes>"
            ]
          },
          "metadata": {}
        },
        {
          "output_type": "stream",
          "name": "stdout",
          "text": [
            "recall 2차 : 0.947692389328876\n",
            "precision 2차:  0.9195973430822306\n",
            "f1_2차 :  0.9334335086401202\n",
            "              precision    recall  f1-score   support\n",
            "\n",
            "           0       0.24      0.17      0.20      7521\n",
            "           1       0.92      0.95      0.93     75381\n",
            "\n",
            "    accuracy                           0.88     82902\n",
            "   macro avg       0.58      0.56      0.57     82902\n",
            "weighted avg       0.86      0.88      0.87     82902\n",
            "\n"
          ]
        },
        {
          "output_type": "display_data",
          "data": {
            "image/png": "[encoded data removed]",
            "text/plain": [
              "<Figure size 432x288 with 2 Axes>"
            ]
          },
          "metadata": {}
        },
        {
          "output_type": "stream",
          "name": "stdout",
          "text": [
            "f1 avg score : 0.9338325288442456\n"
          ]
        }
      ]
    },
    {
      "cell_type": "markdown",
      "source": [
        "VIF로 추가 진단하여 변수 제거하기"
      ],
      "metadata": {
        "id": "pb-V0pHi8_bC"
      }
    },
    {
      "cell_type": "code",
      "source": [
        "s_x_A=ss.fit_transform(x_A)\n",
        "df_x_A=pd.DataFrame(s_x_A , index=x_A.index , columns=x_A.columns )"
      ],
      "metadata": {
        "id": "53gDju629xeS"
      },
      "execution_count": 171,
      "outputs": []
    },
    {
      "cell_type": "code",
      "source": [
        "vif = pd.DataFrame()\n",
        "vif['VIF Factor']=[variance_inflation_factor(df_x_A.values, i) for i in range(df_x_A.shape[1])]\n",
        "vif['features']=df_x_A.columns\n",
        "vif=vif.sort_values(by='VIF Factor', ascending=False)\n",
        "vif.loc[vif['VIF Factor']>10].head(10)"
      ],
      "metadata": {
        "colab": {
          "base_uri": "https://localhost:8080/",
          "height": 363
        },
        "id": "3rHXF_s88_ra",
        "outputId": "ad27553d-0bca-4a01-dc5a-f8d6826f30a5"
      },
      "execution_count": 172,
      "outputs": [
        {
          "output_type": "execute_result",
          "data": {
            "text/html": [
              "\n",
              "  <div id=\"df-e611fa89-fa24-436e-9128-de9537d9ce01\">\n",
              "    <div class=\"colab-df-container\">\n",
              "      <div>\n",
              "<style scoped>\n",
              "    .dataframe tbody tr th:only-of-type {\n",
              "        vertical-align: middle;\n",
              "    }\n",
              "\n",
              "    .dataframe tbody tr th {\n",
              "        vertical-align: top;\n",
              "    }\n",
              "\n",
              "    .dataframe thead th {\n",
              "        text-align: right;\n",
              "    }\n",
              "</style>\n",
              "<table border=\"1\" class=\"dataframe\">\n",
              "  <thead>\n",
              "    <tr style=\"text-align: right;\">\n",
              "      <th></th>\n",
              "      <th>VIF Factor</th>\n",
              "      <th>features</th>\n",
              "    </tr>\n",
              "  </thead>\n",
              "  <tbody>\n",
              "    <tr>\n",
              "      <th>25</th>\n",
              "      <td>44968.588306</td>\n",
              "      <td>person_prefer_d_1_n</td>\n",
              "    </tr>\n",
              "    <tr>\n",
              "      <th>29</th>\n",
              "      <td>44930.599478</td>\n",
              "      <td>person_prefer_d_2_n</td>\n",
              "    </tr>\n",
              "    <tr>\n",
              "      <th>33</th>\n",
              "      <td>44209.146605</td>\n",
              "      <td>person_prefer_d_3_n</td>\n",
              "    </tr>\n",
              "    <tr>\n",
              "      <th>12</th>\n",
              "      <td>43876.254322</td>\n",
              "      <td>person_prefer_d_3</td>\n",
              "    </tr>\n",
              "    <tr>\n",
              "      <th>36</th>\n",
              "      <td>41712.476181</td>\n",
              "      <td>contents_attribute_d_n</td>\n",
              "    </tr>\n",
              "    <tr>\n",
              "      <th>10</th>\n",
              "      <td>37231.999184</td>\n",
              "      <td>person_prefer_d_1</td>\n",
              "    </tr>\n",
              "    <tr>\n",
              "      <th>11</th>\n",
              "      <td>36182.891659</td>\n",
              "      <td>person_prefer_d_2</td>\n",
              "    </tr>\n",
              "    <tr>\n",
              "      <th>20</th>\n",
              "      <td>34722.521202</td>\n",
              "      <td>contents_attribute_d</td>\n",
              "    </tr>\n",
              "    <tr>\n",
              "      <th>26</th>\n",
              "      <td>7898.124728</td>\n",
              "      <td>person_prefer_d_1_s</td>\n",
              "    </tr>\n",
              "    <tr>\n",
              "      <th>30</th>\n",
              "      <td>7446.072837</td>\n",
              "      <td>person_prefer_d_2_s</td>\n",
              "    </tr>\n",
              "  </tbody>\n",
              "</table>\n",
              "</div>\n",
              "      <button class=\"colab-df-convert\" onclick=\"convertToInteractive('df-e611fa89-fa24-436e-9128-de9537d9ce01')\"\n",
              "              title=\"Convert this dataframe to an interactive table.\"\n",
              "              style=\"display:none;\">\n",
              "        \n",
              "  <svg xmlns=\"http://www.w3.org/2000/svg\" height=\"24px\"viewBox=\"0 0 24 24\"\n",
              "       width=\"24px\">\n",
              "    <path d=\"M0 0h24v24H0V0z\" fill=\"none\"/>\n",
              "    <path d=\"M18.56 5.44l.94 2.06.94-2.06 2.06-.94-2.06-.94-.94-2.06-.94 2.06-2.06.94zm-11 1L8.5 8.5l.94-2.06 2.06-.94-2.06-.94L8.5 2.5l-.94 2.06-2.06.94zm10 10l.94 2.06.94-2.06 2.06-.94-2.06-.94-.94-2.06-.94 2.06-2.06.94z\"/><path d=\"M17.41 7.96l-1.37-1.37c-.4-.4-.92-.59-1.43-.59-.52 0-1.04.2-1.43.59L10.3 9.45l-7.72 7.72c-.78.78-.78 2.05 0 2.83L4 21.41c.39.39.9.59 1.41.59.51 0 1.02-.2 1.41-.59l7.78-7.78 2.81-2.81c.8-.78.8-2.07 0-2.86zM5.41 20L4 18.59l7.72-7.72 1.47 1.35L5.41 20z\"/>\n",
              "  </svg>\n",
              "      </button>\n",
              "      \n",
              "  <style>\n",
              "    .colab-df-container {\n",
              "      display:flex;\n",
              "      flex-wrap:wrap;\n",
              "      gap: 12px;\n",
              "    }\n",
              "\n",
              "    .colab-df-convert {\n",
              "      background-color: #E8F0FE;\n",
              "      border: none;\n",
              "      border-radius: 50%;\n",
              "      cursor: pointer;\n",
              "      display: none;\n",
              "      fill: #1967D2;\n",
              "      height: 32px;\n",
              "      padding: 0 0 0 0;\n",
              "      width: 32px;\n",
              "    }\n",
              "\n",
              "    .colab-df-convert:hover {\n",
              "      background-color: #E2EBFA;\n",
              "      box-shadow: 0px 1px 2px rgba(60, 64, 67, 0.3), 0px 1px 3px 1px rgba(60, 64, 67, 0.15);\n",
              "      fill: #174EA6;\n",
              "    }\n",
              "\n",
              "    [theme=dark] .colab-df-convert {\n",
              "      background-color: #3B4455;\n",
              "      fill: #D2E3FC;\n",
              "    }\n",
              "\n",
              "    [theme=dark] .colab-df-convert:hover {\n",
              "      background-color: #434B5C;\n",
              "      box-shadow: 0px 1px 3px 1px rgba(0, 0, 0, 0.15);\n",
              "      filter: drop-shadow(0px 1px 2px rgba(0, 0, 0, 0.3));\n",
              "      fill: #FFFFFF;\n",
              "    }\n",
              "  </style>\n",
              "\n",
              "      <script>\n",
              "        const buttonEl =\n",
              "          document.querySelector('#df-e611fa89-fa24-436e-9128-de9537d9ce01 button.colab-df-convert');\n",
              "        buttonEl.style.display =\n",
              "          google.colab.kernel.accessAllowed ? 'block' : 'none';\n",
              "\n",
              "        async function convertToInteractive(key) {\n",
              "          const element = document.querySelector('#df-e611fa89-fa24-436e-9128-de9537d9ce01');\n",
              "          const dataTable =\n",
              "            await google.colab.kernel.invokeFunction('convertToInteractive',\n",
              "                                                     [key], {});\n",
              "          if (!dataTable) return;\n",
              "\n",
              "          const docLinkHtml = 'Like what you see? Visit the ' +\n",
              "            '<a target=\"_blank\" href=https://colab.research.google.com/notebooks/data_table.ipynb>data table notebook</a>'\n",
              "            + ' to learn more about interactive tables.';\n",
              "          element.innerHTML = '';\n",
              "          dataTable['output_type'] = 'display_data';\n",
              "          await google.colab.output.renderOutput(dataTable, element);\n",
              "          const docLink = document.createElement('div');\n",
              "          docLink.innerHTML = docLinkHtml;\n",
              "          element.appendChild(docLink);\n",
              "        }\n",
              "      </script>\n",
              "    </div>\n",
              "  </div>\n",
              "  "
            ],
            "text/plain": [
              "      VIF Factor                features\n",
              "25  44968.588306     person_prefer_d_1_n\n",
              "29  44930.599478     person_prefer_d_2_n\n",
              "33  44209.146605     person_prefer_d_3_n\n",
              "12  43876.254322       person_prefer_d_3\n",
              "36  41712.476181  contents_attribute_d_n\n",
              "10  37231.999184       person_prefer_d_1\n",
              "11  36182.891659       person_prefer_d_2\n",
              "20  34722.521202    contents_attribute_d\n",
              "26   7898.124728     person_prefer_d_1_s\n",
              "30   7446.072837     person_prefer_d_2_s"
            ]
          },
          "metadata": {},
          "execution_count": 172
        }
      ]
    },
    {
      "cell_type": "code",
      "source": [
        "vif_over=vif.loc[vif['VIF Factor']>10]"
      ],
      "metadata": {
        "id": "gkEG7mYzAnby"
      },
      "execution_count": 214,
      "outputs": []
    },
    {
      "cell_type": "code",
      "source": [
        "vif_over.features.values"
      ],
      "metadata": {
        "colab": {
          "base_uri": "https://localhost:8080/"
        },
        "id": "mtx7zd3YAtHG",
        "outputId": "2e11fef9-1f24-4199-e3a6-4158388093b3"
      },
      "execution_count": 215,
      "outputs": [
        {
          "output_type": "execute_result",
          "data": {
            "text/plain": [
              "array(['person_prefer_d_1_n', 'person_prefer_d_2_n',\n",
              "       'person_prefer_d_3_n', 'person_prefer_d_3',\n",
              "       'contents_attribute_d_n', 'person_prefer_d_1', 'person_prefer_d_2',\n",
              "       'contents_attribute_d', 'person_prefer_d_1_s',\n",
              "       'person_prefer_d_2_s', 'contents_attribute_d_s',\n",
              "       'person_prefer_d_3_s', 'person_prefer_d_1_m',\n",
              "       'person_prefer_d_3_m', 'contents_attribute_d_m',\n",
              "       'person_prefer_d_2_m', 'person_prefer_h_1_m',\n",
              "       'person_prefer_h_1_l', 'person_prefer_d_2_l',\n",
              "       'person_prefer_d_1_l', 'contents_attribute_d_l'], dtype=object)"
            ]
          },
          "metadata": {},
          "execution_count": 215
        }
      ]
    },
    {
      "cell_type": "markdown",
      "source": [
        "판별 분석의 가설\n",
        "--\n",
        "\n",
        "```\n",
        "귀무가설: 두 개의 집단의 평균이 동일하다\n",
        "\n",
        "대립가설: 두 개 또는 그 이상의 집단의 평균이 동일하지 않다.\n",
        "```"
      ],
      "metadata": {
        "id": "odiY-ais-KOY"
      }
    },
    {
      "cell_type": "markdown",
      "source": [
        "Train_0 vs Train_1"
      ],
      "metadata": {
        "id": "GCl4QHtY-nhW"
      }
    },
    {
      "cell_type": "code",
      "source": [
        "import scipy"
      ],
      "metadata": {
        "id": "zbjpZGVS8_wU"
      },
      "execution_count": 173,
      "outputs": []
    },
    {
      "cell_type": "code",
      "source": [
        "tn_0=tn_A.loc[tn_A['target']==0]\n",
        "tn_1=tn_A.loc[tn_A['target']==1]"
      ],
      "metadata": {
        "id": "APYY8ygU8_0S"
      },
      "execution_count": 176,
      "outputs": []
    },
    {
      "cell_type": "code",
      "source": [
        "tn_11, tn_sam=train_test_split(tn_1, test_size=0.1, random_state=42)"
      ],
      "metadata": {
        "id": "ADNGXYTs9wCi"
      },
      "execution_count": 180,
      "outputs": []
    },
    {
      "cell_type": "code",
      "source": [
        "tn_0=tn_0.reset_index()\n",
        "tn_0=tn_0.iloc[:25085, :]\n",
        "tn_0.drop('index', axis=1, inplace=True)"
      ],
      "metadata": {
        "id": "rZH60WuD_cV6"
      },
      "execution_count": 183,
      "outputs": []
    },
    {
      "cell_type": "code",
      "source": [
        "tn_sam=tn_sam.reset_index()\n",
        "tn_sam.drop('index', axis=1, inplace=True)"
      ],
      "metadata": {
        "id": "1X1bJ1av_ocL"
      },
      "execution_count": 184,
      "outputs": []
    },
    {
      "cell_type": "code",
      "source": [
        "print(len(tn_0.index))\n",
        "print(len(tn_0.columns))"
      ],
      "metadata": {
        "colab": {
          "base_uri": "https://localhost:8080/"
        },
        "id": "dHSdzWEX_og8",
        "outputId": "597bec52-784d-444b-ff70-1bbf026d6fc6"
      },
      "execution_count": 187,
      "outputs": [
        {
          "output_type": "stream",
          "name": "stdout",
          "text": [
            "25085\n",
            "59\n"
          ]
        }
      ]
    },
    {
      "cell_type": "code",
      "source": [
        "print(len(tn_sam.index))\n",
        "print(len(tn_sam.columns))"
      ],
      "metadata": {
        "colab": {
          "base_uri": "https://localhost:8080/"
        },
        "id": "HIn6DUTv_ojC",
        "outputId": "dfcd179b-b067-4511-b9a5-e962c267b653"
      },
      "execution_count": 188,
      "outputs": [
        {
          "output_type": "stream",
          "name": "stdout",
          "text": [
            "25085\n",
            "59\n"
          ]
        }
      ]
    },
    {
      "cell_type": "code",
      "source": [
        "same_tnte=pd.DataFrame(columns=['name','p-value'])\n",
        "diff_tnte=pd.DataFrame(columns=['name','p-value'])\n",
        "\n",
        "for i in range(1,len(tn_sam.columns)):\n",
        "  col=tn_sam.columns[i]\n",
        "  t_result=scipy.stats.ttest_rel(tn_sam.iloc[:, i], tn_0.iloc[:, i])\n",
        "  if t_result[1]<0.05:\n",
        "    diff_tnte=diff_tnte.append({'name':col,'p-value':t_result[1]}, ignore_index=True)\n",
        "  else:\n",
        "    same_tnte=same_tnte.append({'name':col,'p-value':t_result[1]}, ignore_index=True)"
      ],
      "metadata": {
        "id": "Zh_r_-Li_olb"
      },
      "execution_count": 189,
      "outputs": []
    },
    {
      "cell_type": "code",
      "source": [
        "diff_tnte.sort_values('p-value', ascending=True)"
      ],
      "metadata": {
        "id": "WTzOP15P_cZy"
      },
      "execution_count": null,
      "outputs": []
    },
    {
      "cell_type": "code",
      "source": [
        "diff_tnte.name.values"
      ],
      "metadata": {
        "id": "4rcnZgy-BClZ"
      },
      "execution_count": null,
      "outputs": []
    },
    {
      "cell_type": "code",
      "source": [
        "same_tnte.name.values"
      ],
      "metadata": {
        "colab": {
          "base_uri": "https://localhost:8080/"
        },
        "id": "U6NsnFDl_7nn",
        "outputId": "efd1e27f-6c03-4759-ab17-27fab2c4453d"
      },
      "execution_count": 193,
      "outputs": [
        {
          "output_type": "execute_result",
          "data": {
            "text/plain": [
              "array(['h_m_match_yn', 'h_s_match_yn', 'person_attribute_b',\n",
              "       'contents_attribute_j_1', 'date', 'hour', 'day'], dtype=object)"
            ]
          },
          "metadata": {},
          "execution_count": 193
        }
      ]
    },
    {
      "cell_type": "markdown",
      "source": [
        "3대장 끼리 모여서 회의하기\n",
        "--"
      ],
      "metadata": {
        "id": "aeM8AKefBX9U"
      }
    },
    {
      "cell_type": "code",
      "source": [
        "diff_set=['d_l_match_yn', 'd_m_match_yn', 'd_s_match_yn', 'h_l_match_yn',\n",
        "       'person_attribute_a', 'person_attribute_a_1', 'person_prefer_c',\n",
        "       'person_prefer_d_1', 'person_prefer_d_2', 'person_prefer_d_3',\n",
        "       'person_prefer_e', 'person_prefer_h_1', 'person_prefer_h_2',\n",
        "       'person_prefer_h_3', 'contents_attribute_i',\n",
        "       'contents_attribute_a', 'contents_attribute_j',\n",
        "       'contents_attribute_c', 'contents_attribute_k',\n",
        "       'contents_attribute_l', 'contents_attribute_d',\n",
        "       'contents_attribute_m', 'contents_attribute_e',\n",
        "       'contents_attribute_h', 'person_rn', 'contents_rn',\n",
        "       'person_prefer_d_1_n', 'person_prefer_d_1_s',\n",
        "       'person_prefer_d_1_m', 'person_prefer_d_1_l',\n",
        "       'person_prefer_d_2_n', 'person_prefer_d_2_s',\n",
        "       'person_prefer_d_2_m', 'person_prefer_d_2_l',\n",
        "       'person_prefer_d_3_n', 'person_prefer_d_3_s',\n",
        "       'person_prefer_d_3_m', 'person_prefer_d_3_l',\n",
        "       'contents_attribute_d_n', 'contents_attribute_d_s',\n",
        "       'contents_attribute_d_m', 'contents_attribute_d_l',\n",
        "       'person_prefer_h_1_l', 'person_prefer_h_1_m',\n",
        "       'person_prefer_h_2_l', 'person_prefer_h_2_m',\n",
        "       'person_prefer_h_3_l', 'person_prefer_h_3_m',\n",
        "       'contents_attribute_h_l', 'contents_attribute_h_m']\n",
        "\n",
        "vif_set=['person_prefer_d_1_n', 'person_prefer_d_2_n',\n",
        "       'person_prefer_d_3_n', 'person_prefer_d_3',\n",
        "       'contents_attribute_d_n', 'person_prefer_d_1', 'person_prefer_d_2',\n",
        "       'contents_attribute_d', 'person_prefer_d_1_s',\n",
        "       'person_prefer_d_2_s', 'contents_attribute_d_s',\n",
        "       'person_prefer_d_3_s', 'person_prefer_d_1_m',\n",
        "       'person_prefer_d_3_m', 'contents_attribute_d_m',\n",
        "       'person_prefer_d_2_m', 'person_prefer_h_1_m',\n",
        "       'person_prefer_h_1_l', 'person_prefer_d_2_l',\n",
        "       'person_prefer_d_1_l', 'contents_attribute_d_l']\n",
        "\n",
        "pval_set=['person_prefer_h_3', 'person_prefer_h_3_m', 'person_prefer_h_1',\n",
        "       'person_prefer_d_3_l', 'hour', 'contents_attribute_h_l', 'date', 'day',\n",
        "       'person_prefer_h_2', 'person_prefer_h_2_m', 'person_prefer_h_2_l',\n",
        "       'person_prefer_h_3_l', 'contents_attribute_l', 'h_s_match_yn',\n",
        "       'contents_attribute_h', 'contents_attribute_h_m']"
      ],
      "metadata": {
        "id": "AAnqTN3eBKKY"
      },
      "execution_count": 216,
      "outputs": []
    },
    {
      "cell_type": "code",
      "source": [
        "(set(vif_set))-(set(diff_set))"
      ],
      "metadata": {
        "colab": {
          "base_uri": "https://localhost:8080/"
        },
        "id": "SGic3aqYBKN8",
        "outputId": "ef8cd1a3-0a54-4607-acec-d4b0c5948c7e"
      },
      "execution_count": 237,
      "outputs": [
        {
          "output_type": "execute_result",
          "data": {
            "text/plain": [
              "set()"
            ]
          },
          "metadata": {},
          "execution_count": 237
        }
      ]
    },
    {
      "cell_type": "code",
      "source": [
        "(set(pval_set))-(set(vif_set))"
      ],
      "metadata": {
        "colab": {
          "base_uri": "https://localhost:8080/"
        },
        "id": "1g75dp4nBKT_",
        "outputId": "a540dca7-bffe-493d-9bf9-d80d295bbf45"
      },
      "execution_count": 238,
      "outputs": [
        {
          "output_type": "execute_result",
          "data": {
            "text/plain": [
              "{'contents_attribute_h',\n",
              " 'contents_attribute_h_l',\n",
              " 'contents_attribute_h_m',\n",
              " 'contents_attribute_l',\n",
              " 'date',\n",
              " 'day',\n",
              " 'h_s_match_yn',\n",
              " 'hour',\n",
              " 'person_prefer_d_3_l',\n",
              " 'person_prefer_h_1',\n",
              " 'person_prefer_h_2',\n",
              " 'person_prefer_h_2_l',\n",
              " 'person_prefer_h_2_m',\n",
              " 'person_prefer_h_3',\n",
              " 'person_prefer_h_3_l',\n",
              " 'person_prefer_h_3_m'}"
            ]
          },
          "metadata": {},
          "execution_count": 238
        }
      ]
    },
    {
      "cell_type": "code",
      "source": [
        "(set(pval_set))-(set(diff_set))"
      ],
      "metadata": {
        "colab": {
          "base_uri": "https://localhost:8080/"
        },
        "id": "dEFQChbLBKWk",
        "outputId": "dc779872-aea9-4d51-9aaf-4eda914d255f"
      },
      "execution_count": 240,
      "outputs": [
        {
          "output_type": "execute_result",
          "data": {
            "text/plain": [
              "{'date', 'day', 'h_s_match_yn', 'hour'}"
            ]
          },
          "metadata": {},
          "execution_count": 240
        }
      ]
    },
    {
      "cell_type": "markdown",
      "source": [
        "diff & vif: f1 avg score : 0.9408478423527404 (0.14)\n",
        "\n",
        "diff - pval: f1 avg score : 0.9337412302700541(0.2)\n",
        "\n",
        "vif: f1 avg score : 0.9408478423527404(0.14)\n"
      ],
      "metadata": {
        "id": "ehbdv3_TCsR5"
      }
    },
    {
      "cell_type": "code",
      "source": [
        "# 1차 검증\n",
        "x_train=tn_tn.drop(['target','person_prefer_d_1_n', 'person_prefer_d_2_n',\n",
        "       'person_prefer_d_3_n', 'person_prefer_d_3',\n",
        "       'contents_attribute_d_n', 'person_prefer_d_1', 'person_prefer_d_2',\n",
        "       'contents_attribute_d', 'person_prefer_d_1_s',\n",
        "       'person_prefer_d_2_s', 'contents_attribute_d_s',\n",
        "       'person_prefer_d_3_s', 'person_prefer_d_1_m',\n",
        "       'person_prefer_d_3_m', 'contents_attribute_d_m',\n",
        "       'person_prefer_d_2_m', 'person_prefer_h_1_m',\n",
        "       'person_prefer_h_1_l', 'person_prefer_d_2_l',\n",
        "       'person_prefer_d_1_l', 'contents_attribute_d_l'], axis=1)\n",
        "y_train=tn_tn['target']\n",
        "x_test=tn_te.drop(['target','person_prefer_d_1_n', 'person_prefer_d_2_n',\n",
        "       'person_prefer_d_3_n', 'person_prefer_d_3',\n",
        "       'contents_attribute_d_n', 'person_prefer_d_1', 'person_prefer_d_2',\n",
        "       'contents_attribute_d', 'person_prefer_d_1_s',\n",
        "       'person_prefer_d_2_s', 'contents_attribute_d_s',\n",
        "       'person_prefer_d_3_s', 'person_prefer_d_1_m',\n",
        "       'person_prefer_d_3_m', 'contents_attribute_d_m',\n",
        "       'person_prefer_d_2_m', 'person_prefer_h_1_m',\n",
        "       'person_prefer_h_1_l', 'person_prefer_d_2_l',\n",
        "       'person_prefer_d_1_l', 'contents_attribute_d_l'], axis=1)\n",
        "y_test=tn_te['target']\n",
        "\n",
        "# 2차 검증\n",
        "x=tn.drop(['target','person_prefer_d_1_n', 'person_prefer_d_2_n',\n",
        "       'person_prefer_d_3_n', 'person_prefer_d_3',\n",
        "       'contents_attribute_d_n', 'person_prefer_d_1', 'person_prefer_d_2',\n",
        "       'contents_attribute_d', 'person_prefer_d_1_s',\n",
        "       'person_prefer_d_2_s', 'contents_attribute_d_s',\n",
        "       'person_prefer_d_3_s', 'person_prefer_d_1_m',\n",
        "       'person_prefer_d_3_m', 'contents_attribute_d_m',\n",
        "       'person_prefer_d_2_m', 'person_prefer_h_1_m',\n",
        "       'person_prefer_h_1_l', 'person_prefer_d_2_l',\n",
        "       'person_prefer_d_1_l', 'contents_attribute_d_l'], axis=1)\n",
        "y=tn['target']\n",
        "x_val=val.drop(['target','person_prefer_d_1_n', 'person_prefer_d_2_n',\n",
        "       'person_prefer_d_3_n', 'person_prefer_d_3',\n",
        "       'contents_attribute_d_n', 'person_prefer_d_1', 'person_prefer_d_2',\n",
        "       'contents_attribute_d', 'person_prefer_d_1_s',\n",
        "       'person_prefer_d_2_s', 'contents_attribute_d_s',\n",
        "       'person_prefer_d_3_s', 'person_prefer_d_1_m',\n",
        "       'person_prefer_d_3_m', 'contents_attribute_d_m',\n",
        "       'person_prefer_d_2_m', 'person_prefer_h_1_m',\n",
        "       'person_prefer_h_1_l', 'person_prefer_d_2_l',\n",
        "       'person_prefer_d_1_l', 'contents_attribute_d_l'], axis=1)\n",
        "y_val=val['target']"
      ],
      "metadata": {
        "id": "AhfHd5atBKdu"
      },
      "execution_count": 241,
      "outputs": []
    },
    {
      "cell_type": "code",
      "source": [
        "ss=StandardScaler()\n",
        "s_x_train=ss.fit_transform(x_train)\n",
        "s_x_test=ss.fit_transform(x_test)\n",
        "s_x=ss.fit_transform(x)\n",
        "s_x_val=ss.fit_transform(x_val)\n",
        "\n",
        "df_x_train=pd.DataFrame(s_x_train , index=x_train.index , columns=x_train.columns )\n",
        "df_x_test=pd.DataFrame(s_x_test , index=x_test.index , columns=x_test.columns )\n",
        "df_x=pd.DataFrame(s_x , index=x.index , columns=x.columns )\n",
        "df_x_val=pd.DataFrame(s_x_val , index=x_val.index , columns=x_val.columns )"
      ],
      "metadata": {
        "id": "6zZhzs-nEBny"
      },
      "execution_count": 242,
      "outputs": []
    },
    {
      "cell_type": "code",
      "source": [
        "result(qd, x_train,y_train, x_test, y_test, x,y,x_val,y_val)"
      ],
      "metadata": {
        "colab": {
          "base_uri": "https://localhost:8080/",
          "height": 970
        },
        "id": "xFS8QTo_Cdsh",
        "outputId": "cec46d58-afbf-4fa7-f454-3b18381237ca"
      },
      "execution_count": 243,
      "outputs": [
        {
          "output_type": "stream",
          "name": "stdout",
          "text": [
            "recall 1차 : 0.9661524466512527\n",
            "precision 1차:  0.917021927221053\n",
            "f1_1차 :  0.9409462988768814\n",
            "              precision    recall  f1-score   support\n",
            "\n",
            "           0       0.23      0.10      0.14      5151\n",
            "           1       0.92      0.97      0.94     52766\n",
            "\n",
            "    accuracy                           0.89     57917\n",
            "   macro avg       0.57      0.54      0.54     57917\n",
            "weighted avg       0.86      0.89      0.87     57917\n",
            "\n"
          ]
        },
        {
          "output_type": "display_data",
          "data": {
            "image/png": "[encoded data removed]",
            "text/plain": [
              "<Figure size 432x288 with 2 Axes>"
            ]
          },
          "metadata": {}
        },
        {
          "output_type": "stream",
          "name": "stdout",
          "text": [
            "recall 2차 : 0.9677372282140062\n",
            "precision 2차:  0.9152259553860437\n",
            "f1_2차 :  0.9407493858285993\n",
            "              precision    recall  f1-score   support\n",
            "\n",
            "           0       0.24      0.10      0.14      7521\n",
            "           1       0.92      0.97      0.94     75381\n",
            "\n",
            "    accuracy                           0.89     82902\n",
            "   macro avg       0.58      0.53      0.54     82902\n",
            "weighted avg       0.85      0.89      0.87     82902\n",
            "\n"
          ]
        },
        {
          "output_type": "display_data",
          "data": {
            "image/png": "[encoded data removed]",
            "text/plain": [
              "<Figure size 432x288 with 2 Axes>"
            ]
          },
          "metadata": {}
        },
        {
          "output_type": "stream",
          "name": "stdout",
          "text": [
            "f1 avg score : 0.9408478423527404\n"
          ]
        }
      ]
    },
    {
      "cell_type": "code",
      "source": [
        "result(qd, df_x_train,y_train, df_x_test, y_test, df_x,y,df_x_val,y_val)"
      ],
      "metadata": {
        "colab": {
          "base_uri": "https://localhost:8080/",
          "height": 970
        },
        "id": "d_MdSefFCdvS",
        "outputId": "304abac6-1159-40ef-f320-3f626f58cf89"
      },
      "execution_count": 244,
      "outputs": [
        {
          "output_type": "stream",
          "name": "stdout",
          "text": [
            "recall 1차 : 0.9671000265322367\n",
            "precision 1차:  0.9169811320754717\n",
            "f1_1차 :  0.9413739669421487\n",
            "              precision    recall  f1-score   support\n",
            "\n",
            "           0       0.23      0.10      0.14      5151\n",
            "           1       0.92      0.97      0.94     52766\n",
            "\n",
            "    accuracy                           0.89     57917\n",
            "   macro avg       0.58      0.54      0.54     57917\n",
            "weighted avg       0.86      0.89      0.87     57917\n",
            "\n"
          ]
        },
        {
          "output_type": "display_data",
          "data": {
            "image/png": "[encoded data removed]",
            "text/plain": [
              "<Figure size 432x288 with 2 Axes>"
            ]
          },
          "metadata": {}
        },
        {
          "output_type": "stream",
          "name": "stdout",
          "text": [
            "recall 2차 : 0.9678168238680834\n",
            "precision 2차:  0.9152323364110799\n",
            "f1_2차 :  0.9407903644909827\n",
            "              precision    recall  f1-score   support\n",
            "\n",
            "           0       0.24      0.10      0.14      7521\n",
            "           1       0.92      0.97      0.94     75381\n",
            "\n",
            "    accuracy                           0.89     82902\n",
            "   macro avg       0.58      0.53      0.54     82902\n",
            "weighted avg       0.85      0.89      0.87     82902\n",
            "\n"
          ]
        },
        {
          "output_type": "display_data",
          "data": {
            "image/png": "[encoded data removed]",
            "text/plain": [
              "<Figure size 432x288 with 2 Axes>"
            ]
          },
          "metadata": {}
        },
        {
          "output_type": "stream",
          "name": "stdout",
          "text": [
            "f1 avg score : 0.9410821657165658\n"
          ]
        }
      ]
    },
    {
      "cell_type": "markdown",
      "source": [
        "- 정규화 전: f1 avg score : 0.9408478423527404\n",
        "\n",
        "\n",
        "- 정규화 후: f1 avg score : 0.9410821657165658"
      ],
      "metadata": {
        "id": "E6AYW4NxE0Qq"
      }
    },
    {
      "cell_type": "markdown",
      "source": [
        "제출 One more time\n",
        "--"
      ],
      "metadata": {
        "id": "ws814VayGmu_"
      }
    },
    {
      "cell_type": "code",
      "source": [
        "x_A=tn_A.drop(['target','person_prefer_d_1_n', 'person_prefer_d_2_n',\n",
        "       'person_prefer_d_3_n', 'person_prefer_d_3',\n",
        "       'contents_attribute_d_n', 'person_prefer_d_1', 'person_prefer_d_2',\n",
        "       'contents_attribute_d', 'person_prefer_d_1_s',\n",
        "       'person_prefer_d_2_s', 'contents_attribute_d_s',\n",
        "       'person_prefer_d_3_s', 'person_prefer_d_1_m',\n",
        "       'person_prefer_d_3_m', 'contents_attribute_d_m',\n",
        "       'person_prefer_d_2_m', 'person_prefer_h_1_m',\n",
        "       'person_prefer_h_1_l', 'person_prefer_d_2_l',\n",
        "       'person_prefer_d_1_l', 'contents_attribute_d_l'], axis=1)\n",
        "y_A=tn_A['target']\n",
        "\n",
        "t_A=test.drop(['person_prefer_d_1_n', 'person_prefer_d_2_n',\n",
        "       'person_prefer_d_3_n', 'person_prefer_d_3',\n",
        "       'contents_attribute_d_n', 'person_prefer_d_1', 'person_prefer_d_2',\n",
        "       'contents_attribute_d', 'person_prefer_d_1_s',\n",
        "       'person_prefer_d_2_s', 'contents_attribute_d_s',\n",
        "       'person_prefer_d_3_s', 'person_prefer_d_1_m',\n",
        "       'person_prefer_d_3_m', 'contents_attribute_d_m',\n",
        "       'person_prefer_d_2_m', 'person_prefer_h_1_m',\n",
        "       'person_prefer_h_1_l', 'person_prefer_d_2_l',\n",
        "       'person_prefer_d_1_l', 'contents_attribute_d_l'], axis=1)"
      ],
      "metadata": {
        "id": "iYYZg89yGpP2"
      },
      "execution_count": 260,
      "outputs": []
    },
    {
      "cell_type": "code",
      "source": [
        "ss=StandardScaler()\n",
        "s_x_A=ss.fit_transform(x_A)\n",
        "s_t_A=ss.fit_transform(t_A)\n",
        "\n",
        "df_x_A=pd.DataFrame(s_x_A , index=x_A.index , columns=x_A.columns )\n",
        "df_t_A=pd.DataFrame(s_t_A , index=t_A.index , columns=t_A.columns )"
      ],
      "metadata": {
        "id": "1hYNUm7xGpSX"
      },
      "execution_count": 261,
      "outputs": []
    },
    {
      "cell_type": "code",
      "source": [
        "qd=QuadraticDiscriminantAnalysis()"
      ],
      "metadata": {
        "id": "2wRl2RxjHQ8V"
      },
      "execution_count": 265,
      "outputs": []
    },
    {
      "cell_type": "code",
      "source": [
        "qd.fit(df_x_A, y_A)\n",
        "y_pred=qd.predict(df_x_A)\n",
        "f_1_1=f1_score(y_A,y_pred)\n",
        "recall_1=recall_score(y_A, y_pred)\n",
        "precision_1=precision_score(y_A, y_pred)\n",
        "print(\"recall :\", recall_1)\n",
        "print(\"precision : \", precision_1)\n",
        "print(\"f1  : \", f_1_1)\n",
        "auc_roc=classification_report(y_A, y_pred)\n",
        "print(auc_roc)\n",
        "conf=confusion_matrix(y_A, y_pred)\n",
        "sns.heatmap(conf/np.sum(conf), annot=True, cmap='Pastel1', fmt='.2%')\n",
        "plt.show()"
      ],
      "metadata": {
        "colab": {
          "base_uri": "https://localhost:8080/",
          "height": 485
        },
        "id": "hkOhxjSrGpYe",
        "outputId": "d1f434ac-e5e7-40e3-e81c-f949a3382f28"
      },
      "execution_count": 264,
      "outputs": [
        {
          "output_type": "stream",
          "name": "stdout",
          "text": [
            "recall : 0.9684067850664753\n",
            "precision :  0.9153700933382068\n",
            "f1  :  0.9411418299032979\n",
            "              precision    recall  f1-score   support\n",
            "\n",
            "           0       0.25      0.11      0.15     25111\n",
            "           1       0.92      0.97      0.94    250845\n",
            "\n",
            "    accuracy                           0.89    275956\n",
            "   macro avg       0.58      0.54      0.54    275956\n",
            "weighted avg       0.85      0.89      0.87    275956\n",
            "\n"
          ]
        },
        {
          "output_type": "display_data",
          "data": {
            "image/png": "[encoded data removed]",
            "text/plain": [
              "<Figure size 432x288 with 2 Axes>"
            ]
          },
          "metadata": {}
        }
      ]
    },
    {
      "cell_type": "code",
      "source": [
        "qd.fit(df_x_A, y_A)\n",
        "y_pred=qd.predict(df_t_A)"
      ],
      "metadata": {
        "id": "H-6g25dwHL4f"
      },
      "execution_count": 266,
      "outputs": []
    },
    {
      "cell_type": "code",
      "source": [
        "df_pred=pd.DataFrame(y_pred, columns=['target'])"
      ],
      "metadata": {
        "id": "4SlDIgLmHMCU"
      },
      "execution_count": 267,
      "outputs": []
    },
    {
      "cell_type": "code",
      "source": [
        "zero=len(df_pred.loc[df_pred['target']==0].index)\n",
        "one=len(df_pred.loc[df_pred['target']==1].index)\n",
        "ratio=[zero, one]\n",
        "labels=['target_0', 'target_1']\n",
        "plt.pie(ratio, labels=labels, autopct='%.1f%%', startangle=260, counterclock=False)"
      ],
      "metadata": {
        "colab": {
          "base_uri": "https://localhost:8080/",
          "height": 357
        },
        "id": "42iYmrgzHxTC",
        "outputId": "2d5b1866-8fca-4ca9-f56e-072e23f36b18"
      },
      "execution_count": 268,
      "outputs": [
        {
          "output_type": "execute_result",
          "data": {
            "text/plain": [
              "([<matplotlib.patches.Wedge at 0x7f151d5aca10>,\n",
              "  <matplotlib.patches.Wedge at 0x7f151d5381d0>],\n",
              " [Text(-0.3536010419181176, -1.0416171576709083, 'target_0'),\n",
              "  Text(0.35360113944135285, 1.0416171245643848, 'target_1')],\n",
              " [Text(-0.19287329559170047, -0.5681548132750408, '4.9%'),\n",
              "  Text(0.19287334878619244, 0.5681547952169371, '95.1%')])"
            ]
          },
          "metadata": {},
          "execution_count": 268
        },
        {
          "output_type": "display_data",
          "data": {
            "image/png": "[encoded data removed]",
            "text/plain": [
              "<Figure size 432x288 with 1 Axes>"
            ]
          },
          "metadata": {}
        }
      ]
    },
    {
      "cell_type": "code",
      "source": [
        "df_pred['target'].value_counts()"
      ],
      "metadata": {
        "colab": {
          "base_uri": "https://localhost:8080/"
        },
        "id": "3HZbEDEaHxWH",
        "outputId": "8191af74-0412-4dcc-8c05-e747d99eaae8"
      },
      "execution_count": 269,
      "outputs": [
        {
          "output_type": "execute_result",
          "data": {
            "text/plain": [
              "1    44148\n",
              "0     2256\n",
              "Name: target, dtype: int64"
            ]
          },
          "metadata": {},
          "execution_count": 269
        }
      ]
    },
    {
      "cell_type": "code",
      "source": [
        "sub_1.drop('target',axis=1, inplace=True)\n",
        "sub_qda=pd.concat([sub_1, df_pred], axis=1)"
      ],
      "metadata": {
        "id": "bXiAXz4SIBnp"
      },
      "execution_count": 270,
      "outputs": []
    },
    {
      "cell_type": "code",
      "source": [
        "sub_qda.to_csv(\"sub_qda_2.csv\", index=False)"
      ],
      "metadata": {
        "id": "Mt8CTeBSIBxz"
      },
      "execution_count": 272,
      "outputs": []
    },
    {
      "cell_type": "markdown",
      "source": [
        "- Score: 0.6684 전에 제출했던 QDA모델로 돌린 파일보다 0.004점 올랐으나 여전히 ExtraClassifier Score를 따라오지 못함."
      ],
      "metadata": {
        "id": "ZY5mZFsDIvLs"
      }
    },
    {
      "cell_type": "markdown",
      "source": [
        "# Hyperparameter Tuning(AutoML)"
      ],
      "metadata": {
        "id": "9UKqX-xFLttl"
      }
    },
    {
      "cell_type": "markdown",
      "source": [
        "사용하고자 하는 AutoML: AutoGluon, Auto-sklearn,TPOT, PyCaret"
      ],
      "metadata": {
        "id": "QKCVW8-iPNFR"
      }
    },
    {
      "cell_type": "markdown",
      "source": [
        "최종 학습 데이터가 완료 되었으면, AutoML을 통해 모델을 해석하여, model selection&feature selection&feature engineering을 마지막으로 검토하고, Hyperparameter Tuning을 통해 실제 대회에 제출하도록 한다."
      ],
      "metadata": {
        "id": "e5y1O923Lwir"
      }
    },
    {
      "cell_type": "markdown",
      "source": [
        "Hyperparameter Tuning에 앞서서 마지막으로 모델 점검 후 최종 선택\n",
        "--"
      ],
      "metadata": {
        "id": "j3p7_kx30c5m"
      }
    },
    {
      "cell_type": "code",
      "source": [
        "def result(model, x_train,y_train, x_test, y_test, x,y,x_val,y_val):\n",
        "  model.fit(x_train, y_train)\n",
        "  y_pred_1=model.predict(x_test)\n",
        "  f_1_1=f1_score(y_test,y_pred_1)\n",
        "  recall_1=recall_score(y_test, y_pred_1)\n",
        "  precision_1=precision_score(y_test, y_pred_1)\n",
        "  print(\"recall 1차 :\", recall_1)\n",
        "  print(\"precision 1차: \", precision_1)\n",
        "  print(\"f1_1차 : \", f_1_1)\n",
        "  auc_roc=classification_report(y_test, y_pred_1)\n",
        "  print(auc_roc)\n",
        "  conf=confusion_matrix(y_test, y_pred_1)\n",
        "  sns.heatmap(conf/np.sum(conf), annot=True, cmap='Pastel1', fmt='.2%')\n",
        "  plt.show()\n",
        "\n",
        "  model.fit(x, y)\n",
        "  y_pred_2=model.predict(x_val)\n",
        "  f_1_2=f1_score(y_val, y_pred_2)\n",
        "  recall_2=recall_score(y_val, y_pred_2)\n",
        "  precision_2=precision_score(y_val, y_pred_2)\n",
        "  print(\"recall 2차 :\", recall_2)\n",
        "  print(\"precision 2차: \", precision_2)\n",
        "  print(\"f1_2차 : \", f_1_2 )\n",
        "  auc_roc=classification_report(y_val, y_pred_2)\n",
        "  print(auc_roc)\n",
        "  conf=confusion_matrix(y_val, y_pred_2)\n",
        "  sns.heatmap(conf/np.sum(conf), annot=True, cmap='Pastel1', fmt='.2%')\n",
        "  plt.show()\n",
        "\n",
        "  f_1_a=(f_1_1+f_1_2)/2\n",
        "  print(\"f1 avg score :\", f_1_a)"
      ],
      "metadata": {
        "id": "lb0TfvgDp7ED"
      },
      "execution_count": 53,
      "outputs": []
    },
    {
      "cell_type": "code",
      "source": [
        "# 1차 검증\n",
        "x_train=tn_tn.drop(['target','d_s_match_yn', 'd_m_match_yn'], axis=1)\n",
        "y_train=tn_tn['target']\n",
        "x_test=tn_te.drop(['target','d_s_match_yn', 'd_m_match_yn'], axis=1)\n",
        "y_test=tn_te['target']\n",
        "\n",
        "# 2차 검증\n",
        "x=tn.drop(['target','d_s_match_yn', 'd_m_match_yn'], axis=1)\n",
        "y=tn['target']\n",
        "x_val=val.drop(['target','d_s_match_yn', 'd_m_match_yn'], axis=1)\n",
        "y_val=val['target']"
      ],
      "metadata": {
        "id": "2AgwNrY5Lv6Z"
      },
      "execution_count": 54,
      "outputs": []
    },
    {
      "cell_type": "markdown",
      "source": [
        "**QDA**"
      ],
      "metadata": {
        "id": "bGfRJ0iitYUa"
      }
    },
    {
      "cell_type": "code",
      "source": [
        "result(qd, x_train, y_train, x_test, y_test, x, y, x_val, y_val)"
      ],
      "metadata": {
        "colab": {
          "base_uri": "https://localhost:8080/",
          "height": 970
        },
        "id": "B9X8bbiOqIFj",
        "outputId": "64652058-ebba-4013-b01e-0e9ffa7ad303"
      },
      "execution_count": 55,
      "outputs": [
        {
          "output_type": "stream",
          "name": "stdout",
          "text": [
            "recall 1차 : 0.9527726187317591\n",
            "precision 1차:  0.9196575567994731\n",
            "f1_1차 :  0.935922257800283\n",
            "              precision    recall  f1-score   support\n",
            "\n",
            "           0       0.23      0.15      0.18      5151\n",
            "           1       0.92      0.95      0.94     52766\n",
            "\n",
            "    accuracy                           0.88     57917\n",
            "   macro avg       0.58      0.55      0.56     57917\n",
            "weighted avg       0.86      0.88      0.87     57917\n",
            "\n"
          ]
        },
        {
          "output_type": "display_data",
          "data": {
            "image/png": "[encoded data removed]",
            "text/plain": [
              "<Figure size 432x288 with 2 Axes>"
            ]
          },
          "metadata": {}
        },
        {
          "output_type": "stream",
          "name": "stdout",
          "text": [
            "recall 2차 : 0.9543518923866757\n",
            "precision 2차:  0.9185979697375981\n",
            "f1_2차 :  0.9361336664584634\n",
            "              precision    recall  f1-score   support\n",
            "\n",
            "           0       0.25      0.15      0.19      7521\n",
            "           1       0.92      0.95      0.94     75381\n",
            "\n",
            "    accuracy                           0.88     82902\n",
            "   macro avg       0.58      0.55      0.56     82902\n",
            "weighted avg       0.86      0.88      0.87     82902\n",
            "\n"
          ]
        },
        {
          "output_type": "display_data",
          "data": {
            "image/png": "[encoded data removed]",
            "text/plain": [
              "<Figure size 432x288 with 2 Axes>"
            ]
          },
          "metadata": {}
        },
        {
          "output_type": "stream",
          "name": "stdout",
          "text": [
            "f1 avg score : 0.9360279621293732\n"
          ]
        }
      ]
    },
    {
      "cell_type": "markdown",
      "source": [
        "**LDA**"
      ],
      "metadata": {
        "id": "4xGHFQ8Vtawp"
      }
    },
    {
      "cell_type": "code",
      "source": [
        "result(ld, x_train, y_train, x_test, y_test, x, y, x_val, y_val)"
      ],
      "metadata": {
        "colab": {
          "base_uri": "https://localhost:8080/",
          "height": 970
        },
        "id": "_5CBw0FdqVZl",
        "outputId": "09f7d234-1b85-4eaf-e5ab-5f29da1f9cf2"
      },
      "execution_count": 56,
      "outputs": [
        {
          "output_type": "stream",
          "name": "stdout",
          "text": [
            "recall 1차 : 0.9996588712428458\n",
            "precision 1차:  0.9112393324810835\n",
            "f1_1차 :  0.9534034631095687\n",
            "              precision    recall  f1-score   support\n",
            "\n",
            "           0       0.42      0.00      0.01      5151\n",
            "           1       0.91      1.00      0.95     52766\n",
            "\n",
            "    accuracy                           0.91     57917\n",
            "   macro avg       0.67      0.50      0.48     57917\n",
            "weighted avg       0.87      0.91      0.87     57917\n",
            "\n"
          ]
        },
        {
          "output_type": "display_data",
          "data": {
            "image/png": "[encoded data removed]",
            "text/plain": [
              "<Figure size 432x288 with 2 Axes>"
            ]
          },
          "metadata": {}
        },
        {
          "output_type": "stream",
          "name": "stdout",
          "text": [
            "recall 2차 : 0.9997346811530757\n",
            "precision 2차:  0.9094320951898245\n",
            "f1_2차 :  0.9524477557236473\n",
            "              precision    recall  f1-score   support\n",
            "\n",
            "           0       0.44      0.00      0.00      7521\n",
            "           1       0.91      1.00      0.95     75381\n",
            "\n",
            "    accuracy                           0.91     82902\n",
            "   macro avg       0.68      0.50      0.48     82902\n",
            "weighted avg       0.87      0.91      0.87     82902\n",
            "\n"
          ]
        },
        {
          "output_type": "display_data",
          "data": {
            "image/png": "[encoded data removed]",
            "text/plain": [
              "<Figure size 432x288 with 2 Axes>"
            ]
          },
          "metadata": {}
        },
        {
          "output_type": "stream",
          "name": "stdout",
          "text": [
            "f1 avg score : 0.952925609416608\n"
          ]
        }
      ]
    },
    {
      "cell_type": "markdown",
      "source": [
        "**extra**"
      ],
      "metadata": {
        "id": "Qu2q8ccNthfx"
      }
    },
    {
      "cell_type": "code",
      "source": [
        "result(extra, x_train, y_train, x_test, y_test, x, y, x_val, y_val)"
      ],
      "metadata": {
        "colab": {
          "base_uri": "https://localhost:8080/",
          "height": 970
        },
        "id": "zvtAkoYqpupp",
        "outputId": "b168616a-ff92-47dc-b5f7-358ce59eedf3"
      },
      "execution_count": 57,
      "outputs": [
        {
          "output_type": "stream",
          "name": "stdout",
          "text": [
            "recall 1차 : 0.9992987908880718\n",
            "precision 1차:  0.9116828327886993\n",
            "f1_1차 :  0.9534822744410187\n",
            "              precision    recall  f1-score   support\n",
            "\n",
            "           0       0.54      0.01      0.02      5151\n",
            "           1       0.91      1.00      0.95     52766\n",
            "\n",
            "    accuracy                           0.91     57917\n",
            "   macro avg       0.72      0.50      0.48     57917\n",
            "weighted avg       0.88      0.91      0.87     57917\n",
            "\n"
          ]
        },
        {
          "output_type": "display_data",
          "data": {
            "image/png": "[encoded data removed]",
            "text/plain": [
              "<Figure size 432x288 with 2 Axes>"
            ]
          },
          "metadata": {}
        },
        {
          "output_type": "stream",
          "name": "stdout",
          "text": [
            "recall 2차 : 0.9991111818628037\n",
            "precision 2차:  0.910083982840916\n",
            "f1_2차 :  0.9525218799008449\n",
            "              precision    recall  f1-score   support\n",
            "\n",
            "           0       0.54      0.01      0.02      7521\n",
            "           1       0.91      1.00      0.95     75381\n",
            "\n",
            "    accuracy                           0.91     82902\n",
            "   macro avg       0.73      0.50      0.49     82902\n",
            "weighted avg       0.88      0.91      0.87     82902\n",
            "\n"
          ]
        },
        {
          "output_type": "display_data",
          "data": {
            "image/png": "[encoded data removed]",
            "text/plain": [
              "<Figure size 432x288 with 2 Axes>"
            ]
          },
          "metadata": {}
        },
        {
          "output_type": "stream",
          "name": "stdout",
          "text": [
            "f1 avg score : 0.9530020771709318\n"
          ]
        }
      ]
    },
    {
      "cell_type": "markdown",
      "source": [
        "최종모델 선정: QDA, ExtraTreeClassifier\n",
        "--\n",
        "\n",
        "> 선정이유\n",
        "- 1이 압도적인 데이터에서 1을 얼마냐 잘 맞추느냐에 초점을 두지 않음. 결국 숨겨져 있는 0을 0으로 얼마냐 잘 맞추냐가 포인트인데, 이러한 점에서 QDA가 다른 두 개의 모델보다 성능이 좋음. 따라서, 기존에 분석하던 ExtraTreeClassifier와 함께 QDA를 최종 모델로 선정\n",
        "\n"
      ],
      "metadata": {
        "id": "InPFnl8U0C4o"
      }
    },
    {
      "cell_type": "markdown",
      "source": [
        "**QDA로 제출해보기**"
      ],
      "metadata": {
        "id": "H-31sJAev56v"
      }
    },
    {
      "cell_type": "code",
      "source": [
        "qd=QuadraticDiscriminantAnalysis()"
      ],
      "metadata": {
        "id": "_txUaN8ut3v_"
      },
      "execution_count": 62,
      "outputs": []
    },
    {
      "cell_type": "code",
      "source": [
        "x_A=tn_A.drop(['target','d_s_match_yn', 'd_m_match_yn'], axis=1)\n",
        "y_A=tn_A['target']"
      ],
      "metadata": {
        "id": "MnHu0-vwt3yk"
      },
      "execution_count": 63,
      "outputs": []
    },
    {
      "cell_type": "code",
      "source": [
        "qd.fit(x_A, y_A)"
      ],
      "metadata": {
        "colab": {
          "base_uri": "https://localhost:8080/"
        },
        "id": "IL1MA18FpWm6",
        "outputId": "76458896-ed8a-4e7b-8df8-e09069b03743"
      },
      "execution_count": 64,
      "outputs": [
        {
          "output_type": "execute_result",
          "data": {
            "text/plain": [
              "QuadraticDiscriminantAnalysis()"
            ]
          },
          "metadata": {},
          "execution_count": 64
        }
      ]
    },
    {
      "cell_type": "code",
      "source": [
        "test_A=test.drop(['d_s_match_yn', 'd_m_match_yn'], axis=1)"
      ],
      "metadata": {
        "id": "WK2HjOGDxiyX"
      },
      "execution_count": 66,
      "outputs": []
    },
    {
      "cell_type": "code",
      "source": [
        "pred=qd.predict(test_A)"
      ],
      "metadata": {
        "id": "A4vcGq2YxaAS"
      },
      "execution_count": 67,
      "outputs": []
    },
    {
      "cell_type": "code",
      "source": [
        "df_pred=pd.DataFrame(pred, columns=['target'])\n",
        "df_pred['target'].value_counts()"
      ],
      "metadata": {
        "colab": {
          "base_uri": "https://localhost:8080/"
        },
        "id": "NnbPYNnvxaD7",
        "outputId": "f08be759-5084-4d44-8794-3e68ccffea08"
      },
      "execution_count": 71,
      "outputs": [
        {
          "output_type": "execute_result",
          "data": {
            "text/plain": [
              "1    38251\n",
              "0     8153\n",
              "Name: target, dtype: int64"
            ]
          },
          "metadata": {},
          "execution_count": 71
        }
      ]
    },
    {
      "cell_type": "code",
      "source": [
        "zero=len(df_pred.loc[df_pred['target']==0].index)\n",
        "one=len(df_pred.loc[df_pred['target']==1].index)\n",
        "ratio=[zero, one]\n",
        "labels=['target_0', 'target_1']\n",
        "plt.pie(ratio, labels=labels, autopct='%.1f%%', startangle=260, counterclock=False)"
      ],
      "metadata": {
        "colab": {
          "base_uri": "https://localhost:8080/",
          "height": 357
        },
        "id": "A0nNhpi4xaF3",
        "outputId": "b86082a9-b83d-4db4-ff14-678a5e37c607"
      },
      "execution_count": 72,
      "outputs": [
        {
          "output_type": "execute_result",
          "data": {
            "text/plain": [
              "([<matplotlib.patches.Wedge at 0x7f9158c72150>,\n",
              "  <matplotlib.patches.Wedge at 0x7f9158c728d0>],\n",
              " [Text(-0.7306818551602474, -0.8222554509029292, 'target_0'),\n",
              "  Text(0.7306818166676909, 0.8222554851086146, 'target_1')],\n",
              " [Text(-0.3985537391783167, -0.44850297321977955, '17.6%'),\n",
              "  Text(0.39855371818237684, 0.4485029918774261, '82.4%')])"
            ]
          },
          "metadata": {},
          "execution_count": 72
        },
        {
          "output_type": "display_data",
          "data": {
            "image/png": "[encoded data removed]",
            "text/plain": [
              "<Figure size 432x288 with 1 Axes>"
            ]
          },
          "metadata": {}
        }
      ]
    },
    {
      "cell_type": "code",
      "source": [
        "sub_1.drop('target', axis=1, inplace=True)\n",
        "sub=pd.concat([sub_1, df_pred['target']], axis=1)"
      ],
      "metadata": {
        "id": "fa-FBjBxxaKL"
      },
      "execution_count": 74,
      "outputs": []
    },
    {
      "cell_type": "code",
      "source": [
        "#sub.to_csv(\"sub_qda.csv\", index=False)"
      ],
      "metadata": {
        "id": "Xn3h85fox_R0"
      },
      "execution_count": 76,
      "outputs": []
    },
    {
      "cell_type": "markdown",
      "source": [
        "|target_1|target_0|score|\n",
        "|--|--|--|\n",
        "|82.4|17.6|0.66455|"
      ],
      "metadata": {
        "id": "nEoVYBLxy38w"
      }
    },
    {
      "cell_type": "markdown",
      "source": [
        "Hyperparameter Tuning\n",
        "--\n",
        "\n",
        "QDA & ExtraTreeClassifier\n",
        "\n"
      ],
      "metadata": {
        "id": "DukY4bVc0lP2"
      }
    },
    {
      "cell_type": "markdown",
      "source": [
        "**Grid Search CV**\n",
        "\n",
        "qd: Hyperparameter Tuning 필요없음"
      ],
      "metadata": {
        "id": "2iSUK0ps6pPb"
      }
    },
    {
      "cell_type": "code",
      "source": [
        "from sklearn.model_selection import StratifiedKFold\n",
        "from sklearn.metrics import roc_auc_score\n",
        "from sklearn.preprocessing import StandardScaler\n",
        "from sklearn.feature_selection import VarianceThreshold\n",
        "from sklearn.model_selection import GridSearchCV, train_test_split\n",
        "from sklearn.discriminant_analysis import QuadraticDiscriminantAnalysis"
      ],
      "metadata": {
        "id": "avGaKEh95OCl"
      },
      "execution_count": 43,
      "outputs": []
    },
    {
      "cell_type": "code",
      "source": [
        "#from sklearn.model_selection import GridSearchCV\n",
        "#\n",
        "#param_grid=[{'n_estimators':[10,50,100,500],\n",
        "#             'criterion':['gini','entropy'],\n",
        "#             'max_depth':[10,50,100],\n",
        "#             'min_samples_split':[2,3,5],\n",
        "#             'random_state':[42]}]\n",
        "#\n",
        "#extra=ExtraTreesClassifier()\n",
        "#grid_search=GridSearchCV(extra, param_grid, cv=5, scoring='f1',return_train_score= True)\n",
        "#grid_search.fit(x_A, y_A)"
      ],
      "metadata": {
        "id": "i_HoTh8Z0ofP"
      },
      "execution_count": null,
      "outputs": []
    },
    {
      "cell_type": "code",
      "source": [
        "#grid_search.best_params_"
      ],
      "metadata": {
        "colab": {
          "base_uri": "https://localhost:8080/"
        },
        "id": "UMJ_-ueh0ojG",
        "outputId": "e38d0f86-0b51-45c0-e813-53b528554816"
      },
      "execution_count": 130,
      "outputs": [
        {
          "output_type": "execute_result",
          "data": {
            "text/plain": [
              "{'reg_param': 0.0}"
            ]
          },
          "metadata": {},
          "execution_count": 130
        }
      ]
    },
    {
      "cell_type": "markdown",
      "source": [
        "- 런타임 터짐"
      ],
      "metadata": {
        "id": "TkgRq2WM0C52"
      }
    },
    {
      "cell_type": "markdown",
      "source": [
        "**BayesianOptimization**"
      ],
      "metadata": {
        "id": "B4QU5HPa-Cm3"
      }
    },
    {
      "cell_type": "code",
      "source": [
        "!pip install bayesian-optimization"
      ],
      "metadata": {
        "id": "rOWnTep20olG"
      },
      "execution_count": null,
      "outputs": []
    },
    {
      "cell_type": "code",
      "source": [
        "from bayes_opt import BayesianOptimization\n",
        "from sklearn.model_selection import cross_val_score"
      ],
      "metadata": {
        "id": "B-etyv_P0onM"
      },
      "execution_count": 45,
      "outputs": []
    },
    {
      "cell_type": "code",
      "source": [
        "x=tn.drop(['target','d_s_match_yn', 'd_m_match_yn'], axis=1)\n",
        "y=tn['target']\n",
        "x_val=val.drop(['target','d_s_match_yn', 'd_m_match_yn'], axis=1)\n",
        "y_val=val['target']"
      ],
      "metadata": {
        "id": "uXEt0cyttvFr"
      },
      "execution_count": 120,
      "outputs": []
    },
    {
      "cell_type": "code",
      "source": [
        "param_grid={'n_estimators':(10,500),\n",
        "             'max_depth':(10 ,100),\n",
        "             'min_samples_split':(2.0,5.0)}"
      ],
      "metadata": {
        "id": "BvcrfQzN0oph"
      },
      "execution_count": 126,
      "outputs": []
    },
    {
      "cell_type": "code",
      "source": [
        "def extra_hyper_param(n_estimators, max_depth, min_samples_split):\n",
        "    max_depth = int(max_depth)\n",
        "    n_estimators = int(n_estimators)\n",
        "    extra=ExtraTreesClassifier(n_estimators=n_estimators,\n",
        "                              max_depth=max_depth, min_samples_split=min_samples_split)\n",
        "    extra.fit(x, y)\n",
        "    y_pred=extra.predict(x_val)\n",
        "    f1=f1_score(y_val, y_pred)\n",
        "    return f1"
      ],
      "metadata": {
        "id": "Vz6Jpp7X-HuG"
      },
      "execution_count": 127,
      "outputs": []
    },
    {
      "cell_type": "code",
      "source": [
        "optimizer = BayesianOptimization(f=extra_hyper_param, pbounds=param_grid, random_state=42)"
      ],
      "metadata": {
        "id": "XaEKBIxz-HxF"
      },
      "execution_count": 128,
      "outputs": []
    },
    {
      "cell_type": "code",
      "source": [
        "optimizer.maximize(init_points=24, n_iter=3, acq='ei', xi=1)"
      ],
      "metadata": {
        "id": "ynV40VFd-HzH"
      },
      "execution_count": null,
      "outputs": []
    },
    {
      "cell_type": "markdown",
      "source": [
        "- 에러때문에 포기"
      ],
      "metadata": {
        "id": "I3gHLBFd0BMH"
      }
    },
    {
      "cell_type": "markdown",
      "source": [
        "# Active Learning"
      ],
      "metadata": {
        "id": "1CFHKb3hDChB"
      }
    },
    {
      "cell_type": "code",
      "source": [
        "!pip install modAL"
      ],
      "metadata": {
        "id": "1JFHh1QtFJYA"
      },
      "execution_count": null,
      "outputs": []
    },
    {
      "cell_type": "code",
      "source": [
        "from modAL.models import ActiveLearner"
      ],
      "metadata": {
        "id": "Tw4TN3ctC-1f"
      },
      "execution_count": 247,
      "outputs": []
    },
    {
      "cell_type": "code",
      "source": [
        "#result(qd, df_x_train,y_train, df_x_test, y_test, df_x,y,df_x_val,y_val)\n",
        "learner = ActiveLearner(\n",
        "    estimator=ExtraTreesClassifier(),\n",
        "    X_training=df_x_train, y_training=y_train\n",
        ")"
      ],
      "metadata": {
        "id": "7Rhuleg90Il1"
      },
      "execution_count": 250,
      "outputs": []
    },
    {
      "cell_type": "code",
      "source": [
        "query_idx, query_inst = learner.query(df_x_test)"
      ],
      "metadata": {
        "id": "O5suNySRFukF"
      },
      "execution_count": 252,
      "outputs": []
    },
    {
      "cell_type": "code",
      "source": [
        "df_x_test[query_idx].reshape(-1,1)"
      ],
      "metadata": {
        "id": "SkNptuyTGKrN"
      },
      "execution_count": null,
      "outputs": []
    },
    {
      "cell_type": "code",
      "source": [
        "learner.teach(df_x_test[query_idx], y_test)"
      ],
      "metadata": {
        "id": "JNcNm8f6F1BW"
      },
      "execution_count": null,
      "outputs": []
    },
    {
      "cell_type": "code",
      "source": [
        ""
      ],
      "metadata": {
        "id": "6yy8xQ80F1E9"
      },
      "execution_count": null,
      "outputs": []
    },
    {
      "cell_type": "code",
      "source": [
        "def result(model, x_train,y_train, x_test, y_test, x,y,x_val,y_val):\n",
        "  model.fit(x_train, y_train)\n",
        "  y_pred_1=model.predict(x_test)\n",
        "  f_1_1=f1_score(y_test,y_pred_1)\n",
        "  recall_1=recall_score(y_test, y_pred_1)\n",
        "  precision_1=precision_score(y_test, y_pred_1)\n",
        "  print(\"recall 1차 :\", recall_1)\n",
        "  print(\"precision 1차: \", precision_1)\n",
        "  print(\"f1_1차 : \", f_1_1)\n",
        "  auc_roc=classification_report(y_test, y_pred_1)\n",
        "  print(auc_roc)\n",
        "  conf=confusion_matrix(y_test, y_pred_1)\n",
        "  sns.heatmap(conf/np.sum(conf), annot=True, cmap='Pastel1', fmt='.2%')\n",
        "  plt.show()\n",
        "\n",
        "  model.fit(x, y)\n",
        "  y_pred_2=model.predict(x_val)\n",
        "  f_1_2=f1_score(y_val, y_pred_2)\n",
        "  recall_2=recall_score(y_val, y_pred_2)\n",
        "  precision_2=precision_score(y_val, y_pred_2)\n",
        "  print(\"recall 2차 :\", recall_2)\n",
        "  print(\"precision 2차: \", precision_2)\n",
        "  print(\"f1_2차 : \", f_1_2 )\n",
        "  auc_roc=classification_report(y_val, y_pred_2)\n",
        "  print(auc_roc)\n",
        "  conf=confusion_matrix(y_val, y_pred_2)\n",
        "  sns.heatmap(conf/np.sum(conf), annot=True, cmap='Pastel1', fmt='.2%')\n",
        "  plt.show()\n",
        "\n",
        "  f_1_a=(f_1_1+f_1_2)/2\n",
        "  print(\"f1 avg score :\", f_1_a)"
      ],
      "metadata": {
        "id": "4w-xeTbt0IpH"
      },
      "execution_count": null,
      "outputs": []
    },
    {
      "cell_type": "code",
      "source": [
        ""
      ],
      "metadata": {
        "id": "PmlxVaMQ0IrC"
      },
      "execution_count": null,
      "outputs": []
    },
    {
      "cell_type": "code",
      "source": [
        ""
      ],
      "metadata": {
        "id": "QMuJjfpXC-42"
      },
      "execution_count": null,
      "outputs": []
    }
  ]
}