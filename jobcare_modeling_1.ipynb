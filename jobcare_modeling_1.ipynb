{
 "cells": [
  {
   "cell_type": "markdown",
   "id": "be63f373",
   "metadata": {},
   "source": [
    "잡케어추천알고리즘경진대회\n",
    "--"
   ]
  },
  {
   "cell_type": "code",
   "execution_count": 1,
   "id": "f52ee7b3",
   "metadata": {},
   "outputs": [],
   "source": [
    "import pandas as pd\n",
    "\n",
    "train=pd.read_csv(\"C:/Users/bella/Desktop/SelfStudy/데이콘/Jobcare_data/train_1.csv\")"
   ]
  },
  {
   "cell_type": "code",
   "execution_count": 2,
   "id": "a6787f6a",
   "metadata": {},
   "outputs": [],
   "source": [
    "import warnings\n",
    "warnings.filterwarnings(\"ignore\")"
   ]
  },
  {
   "cell_type": "code",
   "execution_count": 3,
   "id": "4ccd0096",
   "metadata": {},
   "outputs": [],
   "source": [
    "import matplotlib.pyplot as plt\n",
    "import seaborn as sns\n",
    "plt.rcParams['font.family'] = 'NanumGothic'"
   ]
  },
  {
   "cell_type": "markdown",
   "id": "27ac5321",
   "metadata": {},
   "source": [
    "1차 모델링 - 회귀, 딥러닝 시도해보기\n",
    "--"
   ]
  },
  {
   "cell_type": "code",
   "execution_count": 4,
   "id": "40e42700",
   "metadata": {},
   "outputs": [],
   "source": [
    "from sklearn.ensemble import RandomForestClassifier\n",
    "from sklearn import metrics\n",
    "from sklearn.metrics import roc_curve, auc\n",
    "from sklearn.ensemble import GradientBoostingClassifier\n",
    "from xgboost import XGBClassifier\n",
    "from lightgbm import LGBMClassifier \n",
    "from catboost import CatBoostClassifier\n",
    "from sklearn.svm import SVC\n",
    "from sklearn.decomposition import PCA\n",
    "from sklearn import metrics\n",
    "from sklearn.model_selection import cross_val_score\n",
    "from sklearn.metrics import r2_score\n",
    "from sklearn.preprocessing import StandardScaler\n",
    "from sklearn.preprocessing import MinMaxScaler\n",
    "from sklearn.model_selection import GridSearchCV\n",
    "from sklearn import svm\n",
    "from sklearn.metrics import f1_score\n",
    "from sklearn.model_selection import train_test_split"
   ]
  },
  {
   "cell_type": "code",
   "execution_count": 5,
   "id": "420a8777",
   "metadata": {},
   "outputs": [],
   "source": [
    "x=train.drop(\"target\", axis=1)\n",
    "y=train[[\"target\"]]\n",
    "x_train, x_test, y_train, y_test=train_test_split(x, y, test_size=0.2, random_state=42)"
   ]
  },
  {
   "cell_type": "markdown",
   "id": "fc1cbcda",
   "metadata": {},
   "source": [
    "Regressor model로 접근해보기\n",
    "--"
   ]
  },
  {
   "cell_type": "code",
   "execution_count": 7,
   "id": "633c04be",
   "metadata": {},
   "outputs": [],
   "source": [
    "from catboost import CatBoostRegressor\n",
    "\n",
    "cbr = CatBoostRegressor(random_state=42)\n",
    "cbr.fit(x_train, y_train)\n",
    "y_pred=cbr.predict(x_test)\n",
    "#train_score=cbr.score(x_train, y_train)\n",
    "#test_score=cbr.score(x_test, y_test)"
   ]
  },
  {
   "cell_type": "code",
   "execution_count": 8,
   "id": "f7234175",
   "metadata": {},
   "outputs": [],
   "source": [
    "y_pred=pd.DataFrame(data=y_pred, columns=[\"target\"])"
   ]
  },
  {
   "cell_type": "code",
   "execution_count": 9,
   "id": "abb1aef4",
   "metadata": {},
   "outputs": [],
   "source": [
    "y_pred[\"target\"]=y_pred[\"target\"].apply(lambda x:1 if x>=0.5 else 0)"
   ]
  },
  {
   "cell_type": "code",
   "execution_count": 10,
   "id": "7844ca6d",
   "metadata": {},
   "outputs": [],
   "source": [
    "f_1=f1_score(y_test, y_pred)"
   ]
  },
  {
   "cell_type": "code",
   "execution_count": 26,
   "id": "a5498a06",
   "metadata": {},
   "outputs": [
    {
     "name": "stdout",
     "output_type": "stream",
     "text": [
      "f1_score : 0.674687448496692\n"
     ]
    }
   ],
   "source": [
    "print(f\"f1_score : {f_1}\")"
   ]
  },
  {
   "cell_type": "markdown",
   "id": "24b75469",
   "metadata": {},
   "source": [
    "- catboost의 경우, classifer가 미세하게 더 높음"
   ]
  },
  {
   "cell_type": "code",
   "execution_count": 28,
   "id": "e055a5d4",
   "metadata": {},
   "outputs": [
    {
     "name": "stdout",
     "output_type": "stream",
     "text": [
      "f1_score : 0.6734576656624741\n"
     ]
    }
   ],
   "source": [
    "from xgboost import XGBRegressor\n",
    "\n",
    "xgb = XGBRegressor(random_state=42)\n",
    "xgb.fit(x_train, y_train)\n",
    "y_pred=xgb.predict(x_test)\n",
    "y_pred=pd.DataFrame(data=y_pred, columns=[\"target\"])\n",
    "y_pred[\"target\"]=y_pred[\"target\"].apply(lambda x:1 if x>=0.5 else 0)\n",
    "f_1=f1_score(y_test, y_pred)\n",
    "print(f\"f1_score : {f_1}\")"
   ]
  },
  {
   "cell_type": "markdown",
   "id": "031539c3",
   "metadata": {},
   "source": [
    "- xgboost의 경우, regressor가 더 높음 (0.01 정도)"
   ]
  },
  {
   "cell_type": "code",
   "execution_count": 11,
   "id": "6cfcb195",
   "metadata": {},
   "outputs": [],
   "source": [
    "def reg_result(model, x_train, x_test, y_train, y_test):\n",
    "    model.fit(x_train, y_train)\n",
    "    y_pred=model.predict(x_test)\n",
    "    y_pred=pd.DataFrame(data=y_pred, columns=[\"target\"])\n",
    "    y_pred[\"target\"]=y_pred[\"target\"].apply(lambda x:1 if x>=0.5 else 0)\n",
    "    f_1=f1_score(y_test, y_pred)\n",
    "    print(f\"f1_score : {f_1}\")"
   ]
  },
  {
   "cell_type": "code",
   "execution_count": 31,
   "id": "b28321eb",
   "metadata": {},
   "outputs": [],
   "source": [
    "from lightgbm import LGBMRegressor\n",
    "from sklearn.ensemble import GradientBoostingRegressor\n",
    "from sklearn.ensemble import RandomForestRegressor\n",
    "\n",
    "rfr = RandomForestRegressor(random_state=42)\n",
    "gbr = GradientBoostingRegressor(random_state=42)\n",
    "lgbmr = LGBMRegressor(random_state=42)"
   ]
  },
  {
   "cell_type": "code",
   "execution_count": 32,
   "id": "04490a48",
   "metadata": {},
   "outputs": [
    {
     "name": "stdout",
     "output_type": "stream",
     "text": [
      "f1_score : 0.6644309719304946\n"
     ]
    }
   ],
   "source": [
    "reg_result(lgbmr, x_train, x_test, y_train, y_test)"
   ]
  },
  {
   "cell_type": "markdown",
   "id": "47b72451",
   "metadata": {},
   "source": [
    "- LGBM의 경우, Classifier가 아주 미세하기 높음. (사실상 무의미한 차이, 0.002)"
   ]
  },
  {
   "cell_type": "code",
   "execution_count": 34,
   "id": "3bd34564",
   "metadata": {},
   "outputs": [
    {
     "name": "stdout",
     "output_type": "stream",
     "text": [
      "f1_score : 0.635317696903581\n"
     ]
    }
   ],
   "source": [
    "reg_result(gbr, x_train, x_test, y_train, y_test)"
   ]
  },
  {
   "cell_type": "markdown",
   "id": "687c1054",
   "metadata": {},
   "source": [
    "- gradient boost의 경우, classifier가 더 좋음 (0.03 정도)"
   ]
  },
  {
   "cell_type": "code",
   "execution_count": 36,
   "id": "67a5a412",
   "metadata": {},
   "outputs": [],
   "source": [
    "#reg_result(rfr, x_train, x_test, y_train, y_test)"
   ]
  },
  {
   "cell_type": "markdown",
   "id": "6cd97442",
   "metadata": {},
   "source": [
    "- 너무 오래 걸림"
   ]
  },
  {
   "cell_type": "markdown",
   "id": "20a736fa",
   "metadata": {},
   "source": [
    "Multi-Layer Perceptron으로 접근\n",
    "--"
   ]
  },
  {
   "cell_type": "code",
   "execution_count": 29,
   "id": "8ed8fbe2",
   "metadata": {},
   "outputs": [],
   "source": [
    "import tensorflow as tf\n",
    "from keras.models import Sequential \n",
    "from keras.layers import Dense\n",
    "import numpy\n",
    "\n",
    "mm=MinMaxScaler()\n",
    "\n",
    "x=mm.fit_transform(x)\n",
    "y=train[\"target\"]"
   ]
  },
  {
   "cell_type": "code",
   "execution_count": 30,
   "id": "153cc667",
   "metadata": {},
   "outputs": [],
   "source": [
    "x_train, x_test, y_train, y_test=train_test_split(x, y, test_size=0.2, random_state=42)"
   ]
  },
  {
   "cell_type": "code",
   "execution_count": 31,
   "id": "e489f66b",
   "metadata": {},
   "outputs": [],
   "source": [
    "model=Sequential() #모델 불러오기\n",
    "model.add(Dense(30, input_dim=60, activation='relu')) # 모델의 2층 옵션\n",
    "model.add(Dense(1, activation='sigmoid')) # 모델의 1층 옵션"
   ]
  },
  {
   "cell_type": "code",
   "execution_count": 32,
   "id": "e0e7510f",
   "metadata": {},
   "outputs": [],
   "source": [
    "from keras import backend as K\n",
    "\n",
    "def recall_m(y_true, y_pred):\n",
    "    true_positives = K.sum(K.round(K.clip(y_true * y_pred, 0, 1)))\n",
    "    possible_positives = K.sum(K.round(K.clip(y_true, 0, 1)))\n",
    "    recall = true_positives / (possible_positives + K.epsilon())\n",
    "    return recall\n",
    "\n",
    "def precision_m(y_true, y_pred):\n",
    "    true_positives = K.sum(K.round(K.clip(y_true * y_pred, 0, 1)))\n",
    "    predicted_positives = K.sum(K.round(K.clip(y_pred, 0, 1)))\n",
    "    precision = true_positives / (predicted_positives + K.epsilon())\n",
    "    return precision\n",
    "\n",
    "def f1_m(y_true, y_pred):\n",
    "    precision = precision_m(y_true, y_pred)\n",
    "    recall = recall_m(y_true, y_pred)\n",
    "    return 2*((precision*recall)/(precision+recall+K.epsilon()))"
   ]
  },
  {
   "cell_type": "markdown",
   "id": "fb07434f",
   "metadata": {},
   "source": [
    "- 참고한 자료: https://datascience.stackexchange.com/questions/45165/how-to-get-accuracy-f1-precision-and-recall-for-a-keras-model"
   ]
  },
  {
   "cell_type": "code",
   "execution_count": 33,
   "id": "06d74555",
   "metadata": {},
   "outputs": [],
   "source": [
    "model.compile(loss=\"binary_crossentropy\", optimizer='adam', metrics=[\"acc\", f1_m, precision_m, recall_m])"
   ]
  },
  {
   "cell_type": "markdown",
   "id": "3a700113",
   "metadata": {},
   "source": [
    "- 참고한 자료: https://aakashgoel12.medium.com/how-to-add-user-defined-function-get-f1-score-in-keras-metrics-3013f979ce0d"
   ]
  },
  {
   "cell_type": "code",
   "execution_count": 39,
   "id": "098fcceb",
   "metadata": {},
   "outputs": [],
   "source": [
    "history = model.fit(x_train, y_train,  epochs=10)"
   ]
  },
  {
   "cell_type": "code",
   "execution_count": 35,
   "id": "ec74c39c",
   "metadata": {},
   "outputs": [],
   "source": [
    "y_pred=model.predict(x_test)"
   ]
  },
  {
   "cell_type": "code",
   "execution_count": 38,
   "id": "7734706a",
   "metadata": {},
   "outputs": [
    {
     "name": "stdout",
     "output_type": "stream",
     "text": [
      "f1_score : 0.6581828455724813\n"
     ]
    }
   ],
   "source": [
    "y_pred=pd.DataFrame(data=y_pred, columns=[\"target\"])\n",
    "y_pred[\"target\"]=y_pred[\"target\"].apply(lambda x:1 if x>=0.5 else 0)\n",
    "f_1=f1_score(y_test, y_pred)\n",
    "print(f\"f1_score : {f_1}\")"
   ]
  },
  {
   "cell_type": "code",
   "execution_count": 45,
   "id": "754bd4ff",
   "metadata": {},
   "outputs": [],
   "source": [
    "def check_f1_score(y_test, y_pred):\n",
    "    y_pred=pd.DataFrame(data=y_pred, columns=[\"target\"])\n",
    "    y_pred[\"target\"]=y_pred[\"target\"].apply(lambda x:1 if x>=0.5 else 0)\n",
    "    f_1=f1_score(y_test, y_pred)\n",
    "    print(f\"f1_score : {f_1}\")"
   ]
  },
  {
   "cell_type": "code",
   "execution_count": 50,
   "id": "646ca46e",
   "metadata": {},
   "outputs": [],
   "source": [
    "from keras.layers import Dropout\n",
    "from keras.layers import BatchNormalization"
   ]
  },
  {
   "cell_type": "code",
   "execution_count": 51,
   "id": "0bd63701",
   "metadata": {},
   "outputs": [],
   "source": [
    "model = Sequential()\n",
    "model.add(Dense(512, activation='relu', input_shape=(60,)))\n",
    "model.add(BatchNormalization())\n",
    "model.add(Dense(256, activation='relu'))\n",
    "model.add(Dropout(0.1))\n",
    "model.add(Dense(128, activation='relu'))\n",
    "model.add(BatchNormalization())\n",
    "model.add(Dense(64, activation='relu'))\n",
    "model.add(Dropout(0.2))\n",
    "model.add(Dense(32, activation='relu'))\n",
    "model.add(BatchNormalization())\n",
    "model.add(Dense(16, activation='relu'))\n",
    "model.add(Dropout(0.3))\n",
    "model.add(Dense(8, activation='relu'))\n",
    "model.add(BatchNormalization())\n",
    "model.add(Dense(4, activation='relu'))\n",
    "model.add(Dropout(0.5))\n",
    "model.add(Dense(1, activation='sigmoid'))\n",
    "\n",
    "model.compile(loss=\"binary_crossentropy\", optimizer='adam', metrics=[\"acc\", f1_m, precision_m, recall_m])"
   ]
  },
  {
   "cell_type": "code",
   "execution_count": 52,
   "id": "e5aa0d19",
   "metadata": {},
   "outputs": [
    {
     "name": "stdout",
     "output_type": "stream",
     "text": [
      "Epoch 1/30\n",
      "12549/12549 [==============================] - 71s 6ms/step - loss: 0.6568 - acc: 0.6154 - f1_m: 0.6417 - precision_m: 0.6041 - recall_m: 0.7091\n",
      "Epoch 2/30\n",
      "12549/12549 [==============================] - 72s 6ms/step - loss: 0.6346 - acc: 0.6379 - f1_m: 0.6484 - precision_m: 0.6312 - recall_m: 0.6844\n",
      "Epoch 3/30\n",
      "12549/12549 [==============================] - 70s 6ms/step - loss: 0.6317 - acc: 0.6404 - f1_m: 0.6509 - precision_m: 0.6336 - recall_m: 0.6871\n",
      "Epoch 4/30\n",
      "12549/12549 [==============================] - 82s 7ms/step - loss: 0.6296 - acc: 0.6432 - f1_m: 0.6536 - precision_m: 0.6351 - recall_m: 0.6909\n",
      "Epoch 5/30\n",
      "12549/12549 [==============================] - 73s 6ms/step - loss: 0.6292 - acc: 0.6436 - f1_m: 0.6539 - precision_m: 0.6354 - recall_m: 0.6911\n",
      "Epoch 6/30\n",
      "12549/12549 [==============================] - 65s 5ms/step - loss: 0.6293 - acc: 0.6434 - f1_m: 0.6551 - precision_m: 0.6345 - recall_m: 0.6943\n",
      "Epoch 7/30\n",
      "12549/12549 [==============================] - 64s 5ms/step - loss: 0.6288 - acc: 0.6437 - f1_m: 0.6560 - precision_m: 0.6340 - recall_m: 0.6966\n",
      "Epoch 8/30\n",
      "12549/12549 [==============================] - 63s 5ms/step - loss: 0.6276 - acc: 0.6449 - f1_m: 0.6553 - precision_m: 0.6362 - recall_m: 0.6927\n",
      "Epoch 9/30\n",
      "12549/12549 [==============================] - 63s 5ms/step - loss: 0.6256 - acc: 0.6465 - f1_m: 0.6574 - precision_m: 0.6369 - recall_m: 0.6965\n",
      "Epoch 10/30\n",
      "12549/12549 [==============================] - 64s 5ms/step - loss: 0.6242 - acc: 0.6482 - f1_m: 0.6586 - precision_m: 0.6392 - recall_m: 0.6961\n",
      "Epoch 11/30\n",
      "12549/12549 [==============================] - 63s 5ms/step - loss: 0.6238 - acc: 0.6487 - f1_m: 0.6587 - precision_m: 0.6392 - recall_m: 0.6963\n",
      "Epoch 12/30\n",
      "12549/12549 [==============================] - 63s 5ms/step - loss: 0.6214 - acc: 0.6500 - f1_m: 0.6593 - precision_m: 0.6407 - recall_m: 0.6955\n",
      "Epoch 13/30\n",
      "12549/12549 [==============================] - 64s 5ms/step - loss: 0.6227 - acc: 0.6492 - f1_m: 0.6587 - precision_m: 0.6400 - recall_m: 0.6955\n",
      "Epoch 14/30\n",
      "12549/12549 [==============================] - 64s 5ms/step - loss: 0.6227 - acc: 0.6498 - f1_m: 0.6591 - precision_m: 0.6397 - recall_m: 0.6963\n",
      "Epoch 15/30\n",
      "12549/12549 [==============================] - 65s 5ms/step - loss: 0.6234 - acc: 0.6481 - f1_m: 0.6577 - precision_m: 0.6389 - recall_m: 0.6943\n",
      "Epoch 16/30\n",
      "12549/12549 [==============================] - 63s 5ms/step - loss: 0.6224 - acc: 0.6501 - f1_m: 0.6602 - precision_m: 0.6402 - recall_m: 0.6981\n",
      "Epoch 17/30\n",
      "12549/12549 [==============================] - 64s 5ms/step - loss: 0.6208 - acc: 0.6511 - f1_m: 0.6602 - precision_m: 0.6415 - recall_m: 0.6964\n",
      "Epoch 18/30\n",
      "12549/12549 [==============================] - 64s 5ms/step - loss: 0.6208 - acc: 0.6502 - f1_m: 0.6603 - precision_m: 0.6397 - recall_m: 0.6988\n",
      "Epoch 19/30\n",
      "12549/12549 [==============================] - 63s 5ms/step - loss: 0.6224 - acc: 0.6500 - f1_m: 0.6607 - precision_m: 0.6393 - recall_m: 0.6998\n",
      "Epoch 20/30\n",
      "12549/12549 [==============================] - 63s 5ms/step - loss: 0.6220 - acc: 0.6506 - f1_m: 0.6606 - precision_m: 0.6404 - recall_m: 0.6985\n",
      "Epoch 21/30\n",
      "12549/12549 [==============================] - 63s 5ms/step - loss: 0.6219 - acc: 0.6508 - f1_m: 0.6602 - precision_m: 0.6406 - recall_m: 0.6971\n",
      "Epoch 22/30\n",
      "12549/12549 [==============================] - 63s 5ms/step - loss: 0.6193 - acc: 0.6530 - f1_m: 0.6617 - precision_m: 0.6438 - recall_m: 0.6972\n",
      "Epoch 23/30\n",
      "12549/12549 [==============================] - 67s 5ms/step - loss: 0.6200 - acc: 0.6529 - f1_m: 0.6619 - precision_m: 0.6430 - recall_m: 0.6982\n",
      "Epoch 24/30\n",
      "12549/12549 [==============================] - 66s 5ms/step - loss: 0.6220 - acc: 0.6518 - f1_m: 0.6601 - precision_m: 0.6424 - recall_m: 0.6951\n",
      "Epoch 25/30\n",
      "12549/12549 [==============================] - 72s 6ms/step - loss: 0.6203 - acc: 0.6525 - f1_m: 0.6616 - precision_m: 0.6427 - recall_m: 0.6983\n",
      "Epoch 26/30\n",
      "12549/12549 [==============================] - 68s 5ms/step - loss: 0.6196 - acc: 0.6526 - f1_m: 0.6629 - precision_m: 0.6418 - recall_m: 0.7016\n",
      "Epoch 27/30\n",
      "12549/12549 [==============================] - 64s 5ms/step - loss: 0.6220 - acc: 0.6509 - f1_m: 0.6609 - precision_m: 0.6402 - recall_m: 0.6992\n",
      "Epoch 28/30\n",
      "12549/12549 [==============================] - 64s 5ms/step - loss: 0.6224 - acc: 0.6522 - f1_m: 0.6617 - precision_m: 0.6417 - recall_m: 0.6995\n",
      "Epoch 29/30\n",
      "12549/12549 [==============================] - 62s 5ms/step - loss: 0.6203 - acc: 0.6534 - f1_m: 0.6631 - precision_m: 0.6430 - recall_m: 0.7007\n",
      "Epoch 30/30\n",
      "12549/12549 [==============================] - 65s 5ms/step - loss: 0.6201 - acc: 0.6523 - f1_m: 0.6618 - precision_m: 0.6427 - recall_m: 0.6985\n"
     ]
    }
   ],
   "source": [
    "history = model.fit(x_train, y_train,  epochs=30)"
   ]
  },
  {
   "cell_type": "code",
   "execution_count": 53,
   "id": "7a7f150d",
   "metadata": {},
   "outputs": [
    {
     "name": "stdout",
     "output_type": "stream",
     "text": [
      "Model: \"sequential_5\"\n",
      "_________________________________________________________________\n",
      " Layer (type)                Output Shape              Param #   \n",
      "=================================================================\n",
      " dense_9 (Dense)             (None, 512)               31232     \n",
      "                                                                 \n",
      " batch_normalization (BatchN  (None, 512)              2048      \n",
      " ormalization)                                                   \n",
      "                                                                 \n",
      " dense_10 (Dense)            (None, 256)               131328    \n",
      "                                                                 \n",
      " dropout (Dropout)           (None, 256)               0         \n",
      "                                                                 \n",
      " dense_11 (Dense)            (None, 128)               32896     \n",
      "                                                                 \n",
      " batch_normalization_1 (Batc  (None, 128)              512       \n",
      " hNormalization)                                                 \n",
      "                                                                 \n",
      " dense_12 (Dense)            (None, 64)                8256      \n",
      "                                                                 \n",
      " dropout_1 (Dropout)         (None, 64)                0         \n",
      "                                                                 \n",
      " dense_13 (Dense)            (None, 32)                2080      \n",
      "                                                                 \n",
      " batch_normalization_2 (Batc  (None, 32)               128       \n",
      " hNormalization)                                                 \n",
      "                                                                 \n",
      " dense_14 (Dense)            (None, 16)                528       \n",
      "                                                                 \n",
      " dropout_2 (Dropout)         (None, 16)                0         \n",
      "                                                                 \n",
      " dense_15 (Dense)            (None, 8)                 136       \n",
      "                                                                 \n",
      " batch_normalization_3 (Batc  (None, 8)                32        \n",
      " hNormalization)                                                 \n",
      "                                                                 \n",
      " dense_16 (Dense)            (None, 4)                 36        \n",
      "                                                                 \n",
      " dropout_3 (Dropout)         (None, 4)                 0         \n",
      "                                                                 \n",
      " dense_17 (Dense)            (None, 1)                 5         \n",
      "                                                                 \n",
      "=================================================================\n",
      "Total params: 209,217\n",
      "Trainable params: 207,857\n",
      "Non-trainable params: 1,360\n",
      "_________________________________________________________________\n"
     ]
    }
   ],
   "source": [
    "model.summary()"
   ]
  },
  {
   "cell_type": "code",
   "execution_count": 54,
   "id": "d99cfef7",
   "metadata": {},
   "outputs": [],
   "source": [
    "y_pred=model.predict(x_test)"
   ]
  },
  {
   "cell_type": "code",
   "execution_count": 55,
   "id": "048cadff",
   "metadata": {},
   "outputs": [
    {
     "name": "stdout",
     "output_type": "stream",
     "text": [
      "f1_score : 0.6841896075642205\n"
     ]
    }
   ],
   "source": [
    "check_f1_score(y_test, y_pred)"
   ]
  },
  {
   "cell_type": "code",
   "execution_count": 56,
   "id": "96b54065",
   "metadata": {},
   "outputs": [
    {
     "name": "stdout",
     "output_type": "stream",
     "text": [
      "12549/12549 [==============================] - 26s 2ms/step - loss: 0.5842 - acc: 0.7022 - f1_m: 0.6792 - precision_m: 0.7239 - recall_m: 0.6529\n",
      "\n",
      " Train Accuracy 0.7022\n"
     ]
    }
   ],
   "source": [
    "print(\"\\n Train Accuracy %.4f\"%(model.evaluate(x_train, y_train)[1]))"
   ]
  },
  {
   "cell_type": "code",
   "execution_count": 58,
   "id": "e8635d2f",
   "metadata": {},
   "outputs": [
    {
     "data": {
      "image/png": "[encoded data removed]",
      "text/plain": [
       "<Figure size 720x360 with 2 Axes>"
      ]
     },
     "metadata": {
      "needs_background": "light"
     },
     "output_type": "display_data"
    }
   ],
   "source": [
    "import matplotlib.pyplot as plt\n",
    "\n",
    "his_dict = history.history\n",
    "loss = his_dict['loss']\n",
    "acc = his_dict['acc']\n",
    "\n",
    "epochs = range(1,len(loss)+1 )\n",
    "fig = plt.figure(figsize= (10,5) )\n",
    "\n",
    "# 학습 및 검증 손실 그리기\n",
    "\n",
    "ax1 = fig.add_subplot(1,2,1)\n",
    "ax1.plot(epochs, loss, color = 'blue', label = 'train_loss')\n",
    "ax1.set_title('train loss')\n",
    "ax1.set_xlabel('epochs')\n",
    "ax1.set_ylabel('loss')\n",
    "ax1.legend()\n",
    "\n",
    "# 학습 및 검증 정확도 그리기\n",
    "ax2 = fig.add_subplot(1,2,2)\n",
    "ax2.plot(epochs, acc, color = 'blue', label = 'train_loss')\n",
    "ax2.set_title('train accuracy')\n",
    "ax2.set_xlabel('epochs')\n",
    "ax2.set_ylabel('loss')\n",
    "ax2.legend()\n",
    "\n",
    "\n",
    "plt.show()"
   ]
  },
  {
   "cell_type": "markdown",
   "id": "8ac8e244",
   "metadata": {},
   "source": [
    "**1차 모델링 f1-score 점검**\n",
    "\n",
    "**Classification**\n",
    "\n",
    "- CATBOOST Classifier: 0.68416\n",
    "\n",
    "**Regression**\n",
    "\n",
    "- CATBOOST Regressor: 0.67468\n",
    "\n",
    "**MLP**\n",
    "\n",
    "- MLP: 0.68418\n",
    "\n",
    "\n",
    "**Result**\n",
    "\n",
    "- 현재까지는 MLP가 아주 미세한 차이로 가장 좋음.\n"
   ]
  },
  {
   "cell_type": "markdown",
   "id": "186083b7",
   "metadata": {},
   "source": [
    "Classifier로 다시 접근\n",
    "--"
   ]
  },
  {
   "cell_type": "markdown",
   "id": "aa9c6947",
   "metadata": {},
   "source": [
    "처음 받았던 데이터로 시도해보기"
   ]
  },
  {
   "cell_type": "code",
   "execution_count": 67,
   "id": "ee11f06e",
   "metadata": {},
   "outputs": [],
   "source": [
    "x=train.drop(['match_yn', 'match_yn_d', 'match_yn_h', '속성 D 코드', '속성 D 세분류코드_x', '속성 D 소분류코드_x', '속성 D 중분류코드_x',\n",
    "       '속성 D 대분류코드_x', '속성 H 코드', '속성 H 중분류코드_x', '속성 H 대분류코드_x',\n",
    "       '속성 D 세분류코드_y', '속성 D 소분류코드_y', '속성 D 중분류코드_y', '속성 D 대분류코드_y',\n",
    "       '속성 H 중분류코드_y', '속성 H 대분류코드_y', '속성 L 코드', '속성 L 세분류코드', '속성 L 소분류코드',\n",
    "       '속성 L 중분류코드', '속성 L 대분류코드', 'target' ], axis=1)\n",
    "y=train[\"target\"]"
   ]
  },
  {
   "cell_type": "code",
   "execution_count": 17,
   "id": "e4e24bab",
   "metadata": {},
   "outputs": [],
   "source": [
    "cb = CatBoostClassifier(random_state=42)"
   ]
  },
  {
   "cell_type": "code",
   "execution_count": 69,
   "id": "e9aa04e9",
   "metadata": {},
   "outputs": [],
   "source": [
    "x_train, x_test, y_train, y_test=train_test_split(x, y, test_size=0.2, random_state=42)"
   ]
  },
  {
   "cell_type": "code",
   "execution_count": 72,
   "id": "080343e9",
   "metadata": {},
   "outputs": [],
   "source": [
    "cb.fit(x_train, y_train)\n",
    "y_pred=cb.predict(x_test)\n",
    "train_score=cb.score(x_train, y_train)\n",
    "test_score=cb.score(x_test, y_test)\n",
    "f_1=f1_score(y_test, y_pred)"
   ]
  },
  {
   "cell_type": "code",
   "execution_count": 71,
   "id": "85879e81",
   "metadata": {},
   "outputs": [
    {
     "name": "stdout",
     "output_type": "stream",
     "text": [
      "0.7536632134674769 0.7259515295195784 0.6841114198452247\n"
     ]
    }
   ],
   "source": [
    "print(train_score, test_score, f_1)"
   ]
  },
  {
   "cell_type": "markdown",
   "id": "1b861eab",
   "metadata": {},
   "source": [
    "- 큰 차이 없음 전: 0.68416 -> 후: 0.68411"
   ]
  },
  {
   "cell_type": "code",
   "execution_count": 78,
   "id": "d9b2f342",
   "metadata": {},
   "outputs": [],
   "source": [
    "x=train.drop(['match_yn', 'match_yn_d', 'match_yn_h', 'target' ], axis=1)\n",
    "y=train[\"target\"]"
   ]
  },
  {
   "cell_type": "code",
   "execution_count": 79,
   "id": "cfb5f305",
   "metadata": {},
   "outputs": [],
   "source": [
    "x_train, x_test, y_train, y_test=train_test_split(x, y, test_size=0.2, random_state=42)"
   ]
  },
  {
   "cell_type": "code",
   "execution_count": 82,
   "id": "b3b1e2d6",
   "metadata": {},
   "outputs": [],
   "source": [
    "cb.fit(x_train, y_train)\n",
    "y_pred=cb.predict(x_test)\n",
    "train_score=cb.score(x_train, y_train)\n",
    "test_score=cb.score(x_test, y_test)\n",
    "f_1=f1_score(y_test, y_pred)"
   ]
  },
  {
   "cell_type": "code",
   "execution_count": 81,
   "id": "fc4b3298",
   "metadata": {},
   "outputs": [
    {
     "name": "stdout",
     "output_type": "stream",
     "text": [
      "0.7528165155892022 0.7266687252841391 0.684713668535711\n"
     ]
    }
   ],
   "source": [
    "print(train_score, test_score, f_1)"
   ]
  },
  {
   "cell_type": "markdown",
   "id": "929531e1",
   "metadata": {},
   "source": [
    "- 가장 결과가 좋음\n",
    "\n",
    "- 전: 0.68416 -> 0.68471"
   ]
  },
  {
   "cell_type": "code",
   "execution_count": 83,
   "id": "045731b1",
   "metadata": {},
   "outputs": [],
   "source": [
    "train.drop(['match_yn', 'match_yn_d', 'match_yn_h'], axis=1, inplace=True)"
   ]
  },
  {
   "cell_type": "markdown",
   "id": "e6b201e7",
   "metadata": {},
   "source": [
    "Scaling\n",
    "--"
   ]
  },
  {
   "cell_type": "code",
   "execution_count": 115,
   "id": "72fac03c",
   "metadata": {},
   "outputs": [],
   "source": [
    "from sklearn.preprocessing import RobustScaler\n",
    "\n",
    "mm=MinMaxScaler()\n",
    "rr=RobustScaler()\n",
    "ss=StandardScaler()"
   ]
  },
  {
   "cell_type": "code",
   "execution_count": 116,
   "id": "a95e127f",
   "metadata": {},
   "outputs": [],
   "source": [
    "x=train.drop(\"target\", axis=1)\n",
    "y=train[\"target\"]"
   ]
  },
  {
   "cell_type": "code",
   "execution_count": 117,
   "id": "5b87b12c",
   "metadata": {},
   "outputs": [],
   "source": [
    "x_m=mm.fit_transform(x)\n",
    "x_r=rr.fit_transform(x)\n",
    "x_s=ss.fit_transform(x)"
   ]
  },
  {
   "cell_type": "code",
   "execution_count": 118,
   "id": "4a479255",
   "metadata": {},
   "outputs": [],
   "source": [
    "def cb_result(model, x,y):\n",
    "    x_train, x_test, y_train, y_test=train_test_split(x, y, test_size=0.2, random_state=42)\n",
    "    cb.fit(x_train, y_train)\n",
    "    y_pred=cb.predict(x_test)\n",
    "    train_score=cb.score(x_train, y_train)\n",
    "    test_score=cb.score(x_test, y_test)\n",
    "    f_1=f1_score(y_test, y_pred)\n",
    "    return train_score, test_score, f_1    "
   ]
  },
  {
   "cell_type": "code",
   "execution_count": 122,
   "id": "707614ea",
   "metadata": {},
   "outputs": [],
   "source": [
    "mm_result=cb_result(cb, x_m, y)"
   ]
  },
  {
   "cell_type": "code",
   "execution_count": 121,
   "id": "00a5c80e",
   "metadata": {},
   "outputs": [
    {
     "name": "stdout",
     "output_type": "stream",
     "text": [
      "train_score 0.7534390875585217\n",
      "test_score 0.7260710621470052\n",
      "f1_score 0.6843071977958902\n"
     ]
    }
   ],
   "source": [
    "print(\"train_score\", mm_result[0])\n",
    "print(\"test_score\", mm_result[1])\n",
    "print(\"f1_score\", mm_result[2])"
   ]
  },
  {
   "cell_type": "markdown",
   "id": "a84376cf",
   "metadata": {},
   "source": [
    "- minmax scaler 결과는 더 떨어졌음"
   ]
  },
  {
   "cell_type": "code",
   "execution_count": 128,
   "id": "5112d532",
   "metadata": {},
   "outputs": [],
   "source": [
    "rr_result=cb_result(cb, x_r, y)"
   ]
  },
  {
   "cell_type": "code",
   "execution_count": 124,
   "id": "8d504982",
   "metadata": {},
   "outputs": [
    {
     "name": "stdout",
     "output_type": "stream",
     "text": [
      "train_score 0.7534390875585217\n",
      "test_score 0.7259913737287207\n",
      "f1_score 0.684106568672485\n"
     ]
    }
   ],
   "source": [
    "print(\"train_score\", rr_result[0])\n",
    "print(\"test_score\", rr_result[1])\n",
    "print(\"f1_score\", rr_result[2])"
   ]
  },
  {
   "cell_type": "markdown",
   "id": "1b714981",
   "metadata": {},
   "source": [
    "- robust scaler 역시 결과가 더 떨어졌음"
   ]
  },
  {
   "cell_type": "code",
   "execution_count": 127,
   "id": "05d4d5cd",
   "metadata": {},
   "outputs": [],
   "source": [
    "ss_result=cb_result(cb, x_s, y)"
   ]
  },
  {
   "cell_type": "code",
   "execution_count": 126,
   "id": "5801132e",
   "metadata": {},
   "outputs": [
    {
     "name": "stdout",
     "output_type": "stream",
     "text": [
      "train_score 0.7530630540890527\n",
      "test_score 0.7264296600292854\n",
      "f1_score 0.6845973632229317\n"
     ]
    }
   ],
   "source": [
    "print(\"train_score\", ss_result[0])\n",
    "print(\"test_score\", ss_result[1])\n",
    "print(\"f1_score\", ss_result[2])"
   ]
  },
  {
   "cell_type": "markdown",
   "id": "e1da2190",
   "metadata": {},
   "source": [
    "- scaling 안 해준 것보다 낮긴 하나 3가지 scaling 중에 가장 결과가 좋음"
   ]
  },
  {
   "cell_type": "markdown",
   "id": "c5aa0aac",
   "metadata": {},
   "source": [
    "Column별 Scaling 해주기\n",
    "--"
   ]
  },
  {
   "cell_type": "markdown",
   "id": "e0b71373",
   "metadata": {},
   "source": [
    "- 잡케어추천알고리즘경진대회(1편)에서 EDA 과정중 categorical 하다고 보기 어려운 경우, kdeplot과 boxplot으로 살펴봤었다. 이 때 해당하는 칼럼들을 전부 standard scaling 해주기로 한다."
   ]
  },
  {
   "cell_type": "code",
   "execution_count": 173,
   "id": "6e28bd5c",
   "metadata": {},
   "outputs": [],
   "source": [
    "# ss=StandardScaler()\n",
    "# ss=MinMaxScaler()\n",
    "ss=RobustScaler()"
   ]
  },
  {
   "cell_type": "code",
   "execution_count": 174,
   "id": "40dbad6a",
   "metadata": {},
   "outputs": [],
   "source": [
    "train_2=train.copy()"
   ]
  },
  {
   "cell_type": "code",
   "execution_count": 175,
   "id": "75781899",
   "metadata": {},
   "outputs": [],
   "source": [
    "train_2[\"person_prefer_d_1\"]=ss.fit_transform(train_2[[\"person_prefer_d_1\"]])\n",
    "train_2[\"person_prefer_d_2\"]=ss.fit_transform(train_2[[\"person_prefer_d_2\"]])\n",
    "train_2[\"person_prefer_d_3\"]=ss.fit_transform(train_2[[\"person_prefer_d_3\"]])"
   ]
  },
  {
   "cell_type": "code",
   "execution_count": 176,
   "id": "33ea40a7",
   "metadata": {},
   "outputs": [],
   "source": [
    "train_2[\"person_prefer_h_1\"]=ss.fit_transform(train_2[[\"person_prefer_h_1\"]])\n",
    "train_2[\"person_prefer_h_2\"]=ss.fit_transform(train_2[[\"person_prefer_h_2\"]])\n",
    "train_2[\"person_prefer_h_3\"]=ss.fit_transform(train_2[[\"person_prefer_h_3\"]])"
   ]
  },
  {
   "cell_type": "code",
   "execution_count": 177,
   "id": "b270df31",
   "metadata": {},
   "outputs": [],
   "source": [
    "train_2[\"contents_attribute_l\"]=ss.fit_transform(train_2[[\"contents_attribute_l\"]])\n",
    "train_2[\"contents_attribute_d\"]=ss.fit_transform(train_2[[\"contents_attribute_d\"]])\n",
    "train_2[\"contents_attribute_h\"]=ss.fit_transform(train_2[[\"contents_attribute_h\"]])"
   ]
  },
  {
   "cell_type": "code",
   "execution_count": 178,
   "id": "1258d97e",
   "metadata": {},
   "outputs": [],
   "source": [
    "train_2[\"person_rn\"]=ss.fit_transform(train_2[[\"person_rn\"]])\n",
    "train_2[\"contents_rn\"]=ss.fit_transform(train_2[[\"contents_rn\"]])"
   ]
  },
  {
   "cell_type": "code",
   "execution_count": 179,
   "id": "54f9ff66",
   "metadata": {},
   "outputs": [],
   "source": [
    "train_2['time']=ss.fit_transform(train_2[['time']])"
   ]
  },
  {
   "cell_type": "code",
   "execution_count": 180,
   "id": "fbf5b3c0",
   "metadata": {},
   "outputs": [],
   "source": [
    "for i in range(39,58):\n",
    "    name=train_2.columns[i]\n",
    "    train_2[name]=ss.fit_transform(train[[name]])"
   ]
  },
  {
   "cell_type": "code",
   "execution_count": 181,
   "id": "d3c9a53c",
   "metadata": {},
   "outputs": [],
   "source": [
    "x=train_2.drop(\"target\", axis=1)\n",
    "y=train_2[\"target\"]"
   ]
  },
  {
   "cell_type": "code",
   "execution_count": 184,
   "id": "d9323edd",
   "metadata": {},
   "outputs": [],
   "source": [
    "result=cb_result(cb, x, y)"
   ]
  },
  {
   "cell_type": "markdown",
   "id": "58b6509e",
   "metadata": {},
   "source": [
    "**Standard_Scaler로 칼럼별로 Scaling 한 결과**"
   ]
  },
  {
   "cell_type": "code",
   "execution_count": 159,
   "id": "0aecdc1f",
   "metadata": {},
   "outputs": [
    {
     "name": "stdout",
     "output_type": "stream",
     "text": [
      "train_score 0.7530829763920709\n",
      "test_score 0.726439621081571\n",
      "f1_score 0.6846921319418133\n"
     ]
    }
   ],
   "source": [
    "print(\"train_score\", result[0])\n",
    "print(\"test_score\", result[1])\n",
    "print(\"f1_score\", result[2])"
   ]
  },
  {
   "cell_type": "markdown",
   "id": "a94dbf62",
   "metadata": {},
   "source": [
    "**MinMax_Scaler로 칼럼별로 Scaling한 결과**"
   ]
  },
  {
   "cell_type": "code",
   "execution_count": 172,
   "id": "7324ddcf",
   "metadata": {},
   "outputs": [
    {
     "name": "stdout",
     "output_type": "stream",
     "text": [
      "train_score 0.7528165155892022\n",
      "test_score 0.7266687252841391\n",
      "f1_score 0.684713668535711\n"
     ]
    }
   ],
   "source": [
    "print(\"train_score\", result[0])\n",
    "print(\"test_score\", result[1])\n",
    "print(\"f1_score\", result[2])"
   ]
  },
  {
   "cell_type": "markdown",
   "id": "a18a51bf",
   "metadata": {},
   "source": [
    "- 처음 Catboost 돌렸을떄랑 똑같음"
   ]
  },
  {
   "cell_type": "markdown",
   "id": "5f162a0f",
   "metadata": {},
   "source": [
    "**Robust_Scaler로 칼럼별로 Scaling한 결과**"
   ]
  },
  {
   "cell_type": "code",
   "execution_count": 183,
   "id": "8b420d3e",
   "metadata": {},
   "outputs": [
    {
     "name": "stdout",
     "output_type": "stream",
     "text": [
      "train_score 0.75303815121028\n",
      "test_score 0.7257722305784383\n",
      "f1_score 0.6839918271769324\n"
     ]
    }
   ],
   "source": [
    "print(\"train_score\", result[0])\n",
    "print(\"test_score\", result[1])\n",
    "print(\"f1_score\", result[2])"
   ]
  },
  {
   "cell_type": "markdown",
   "id": "78a8cc5c",
   "metadata": {},
   "source": [
    "iforest로 이상치 탐지하기\n",
    "--"
   ]
  },
  {
   "cell_type": "code",
   "execution_count": 214,
   "id": "2bd626e8",
   "metadata": {},
   "outputs": [],
   "source": [
    "train_2=train.copy()"
   ]
  },
  {
   "cell_type": "code",
   "execution_count": 215,
   "id": "920a1fad",
   "metadata": {},
   "outputs": [],
   "source": [
    "from sklearn.ensemble import IsolationForest\n",
    "\n",
    "col_list=[\"person_prefer_d_1\",\"person_prefer_d_2\",\"person_prefer_d_3\",\"person_prefer_h_1\",\n",
    "         \"person_prefer_h_2\",\"person_prefer_h_3\",\"contents_attribute_l\",\"contents_attribute_d\",\n",
    "         \"contents_attribute_h\",\"person_rn\",\"contents_rn\"]\n",
    "\n",
    "for i in range(39,58):\n",
    "    name=train_2.columns[i]\n",
    "    col_list.append(name)"
   ]
  },
  {
   "cell_type": "code",
   "execution_count": 216,
   "id": "152489b9",
   "metadata": {},
   "outputs": [],
   "source": [
    "from tqdm import tqdm"
   ]
  },
  {
   "cell_type": "code",
   "execution_count": 217,
   "id": "4e9d863d",
   "metadata": {},
   "outputs": [
    {
     "name": "stderr",
     "output_type": "stream",
     "text": [
      "100%|██████████| 30/30 [13:02<00:00, 26.10s/it]\n"
     ]
    }
   ],
   "source": [
    "for i in tqdm((col_list)):\n",
    "    iso = IsolationForest(max_samples=100, random_state=42)\n",
    "    iso.fit(train_2[[i]])\n",
    "    pred=iso.predict(train_2[[i]])\n",
    "    scores=iso.decision_function(train_2[[i]])\n",
    "    train_2[f\"{i}_score\"]=scores\n",
    "    train_2[f\"{i}_outlier\"]=pred"
   ]
  },
  {
   "cell_type": "markdown",
   "id": "b75a8833",
   "metadata": {},
   "source": [
    "- 코드 참고한 자료: https://www.kaggle.com/christianlillelund/tutorial-use-isolationforest-to-detect-outliers\n",
    "\n",
    "- score: 1에 가까운 점수는 이상값을 나타낸다.\n",
    "\n",
    "- score: 0.5보다 훨씬 작은 점수는 정상적인 관측값을 나타낸다.\n",
    "\n",
    "- outlier:pred값이 -1인 경우, 이상 값, 1인 경우, 이상값이 아니다.\n",
    "\n",
    "- 내용 참고한 자료: https://claryk.tistory.com/6\n"
   ]
  },
  {
   "cell_type": "code",
   "execution_count": 218,
   "id": "6ba7c814",
   "metadata": {},
   "outputs": [
    {
     "data": {
      "text/html": [
       "<div>\n",
       "<style scoped>\n",
       "    .dataframe tbody tr th:only-of-type {\n",
       "        vertical-align: middle;\n",
       "    }\n",
       "\n",
       "    .dataframe tbody tr th {\n",
       "        vertical-align: top;\n",
       "    }\n",
       "\n",
       "    .dataframe thead th {\n",
       "        text-align: right;\n",
       "    }\n",
       "</style>\n",
       "<table border=\"1\" class=\"dataframe\">\n",
       "  <thead>\n",
       "    <tr style=\"text-align: right;\">\n",
       "      <th></th>\n",
       "      <th>id</th>\n",
       "      <th>d_l_match_yn</th>\n",
       "      <th>d_m_match_yn</th>\n",
       "      <th>d_s_match_yn</th>\n",
       "      <th>h_l_match_yn</th>\n",
       "      <th>h_m_match_yn</th>\n",
       "      <th>h_s_match_yn</th>\n",
       "      <th>person_attribute_a</th>\n",
       "      <th>person_attribute_a_1</th>\n",
       "      <th>person_attribute_b</th>\n",
       "      <th>...</th>\n",
       "      <th>속성 L 코드_score</th>\n",
       "      <th>속성 L 코드_outlier</th>\n",
       "      <th>속성 L 세분류코드_score</th>\n",
       "      <th>속성 L 세분류코드_outlier</th>\n",
       "      <th>속성 L 소분류코드_score</th>\n",
       "      <th>속성 L 소분류코드_outlier</th>\n",
       "      <th>속성 L 중분류코드_score</th>\n",
       "      <th>속성 L 중분류코드_outlier</th>\n",
       "      <th>속성 L 대분류코드_score</th>\n",
       "      <th>속성 L 대분류코드_outlier</th>\n",
       "    </tr>\n",
       "  </thead>\n",
       "  <tbody>\n",
       "    <tr>\n",
       "      <th>0</th>\n",
       "      <td>0</td>\n",
       "      <td>1</td>\n",
       "      <td>1</td>\n",
       "      <td>1</td>\n",
       "      <td>2</td>\n",
       "      <td>2</td>\n",
       "      <td>2</td>\n",
       "      <td>1</td>\n",
       "      <td>4</td>\n",
       "      <td>3</td>\n",
       "      <td>...</td>\n",
       "      <td>0.011465</td>\n",
       "      <td>1</td>\n",
       "      <td>0.005242</td>\n",
       "      <td>1</td>\n",
       "      <td>0.000187</td>\n",
       "      <td>1</td>\n",
       "      <td>-0.022419</td>\n",
       "      <td>-1</td>\n",
       "      <td>-0.055846</td>\n",
       "      <td>-1</td>\n",
       "    </tr>\n",
       "    <tr>\n",
       "      <th>1</th>\n",
       "      <td>331621</td>\n",
       "      <td>1</td>\n",
       "      <td>1</td>\n",
       "      <td>1</td>\n",
       "      <td>2</td>\n",
       "      <td>2</td>\n",
       "      <td>2</td>\n",
       "      <td>1</td>\n",
       "      <td>7</td>\n",
       "      <td>3</td>\n",
       "      <td>...</td>\n",
       "      <td>0.011465</td>\n",
       "      <td>1</td>\n",
       "      <td>0.005242</td>\n",
       "      <td>1</td>\n",
       "      <td>0.000187</td>\n",
       "      <td>1</td>\n",
       "      <td>-0.022419</td>\n",
       "      <td>-1</td>\n",
       "      <td>-0.055846</td>\n",
       "      <td>-1</td>\n",
       "    </tr>\n",
       "    <tr>\n",
       "      <th>2</th>\n",
       "      <td>133244</td>\n",
       "      <td>1</td>\n",
       "      <td>1</td>\n",
       "      <td>1</td>\n",
       "      <td>2</td>\n",
       "      <td>2</td>\n",
       "      <td>2</td>\n",
       "      <td>1</td>\n",
       "      <td>6</td>\n",
       "      <td>5</td>\n",
       "      <td>...</td>\n",
       "      <td>0.011465</td>\n",
       "      <td>1</td>\n",
       "      <td>0.005242</td>\n",
       "      <td>1</td>\n",
       "      <td>0.000187</td>\n",
       "      <td>1</td>\n",
       "      <td>-0.022419</td>\n",
       "      <td>-1</td>\n",
       "      <td>-0.055846</td>\n",
       "      <td>-1</td>\n",
       "    </tr>\n",
       "    <tr>\n",
       "      <th>3</th>\n",
       "      <td>37130</td>\n",
       "      <td>2</td>\n",
       "      <td>2</td>\n",
       "      <td>2</td>\n",
       "      <td>1</td>\n",
       "      <td>1</td>\n",
       "      <td>1</td>\n",
       "      <td>1</td>\n",
       "      <td>4</td>\n",
       "      <td>2</td>\n",
       "      <td>...</td>\n",
       "      <td>0.011465</td>\n",
       "      <td>1</td>\n",
       "      <td>0.005242</td>\n",
       "      <td>1</td>\n",
       "      <td>0.000187</td>\n",
       "      <td>1</td>\n",
       "      <td>-0.022419</td>\n",
       "      <td>-1</td>\n",
       "      <td>-0.055846</td>\n",
       "      <td>-1</td>\n",
       "    </tr>\n",
       "    <tr>\n",
       "      <th>4</th>\n",
       "      <td>202316</td>\n",
       "      <td>1</td>\n",
       "      <td>2</td>\n",
       "      <td>2</td>\n",
       "      <td>1</td>\n",
       "      <td>2</td>\n",
       "      <td>2</td>\n",
       "      <td>1</td>\n",
       "      <td>3</td>\n",
       "      <td>4</td>\n",
       "      <td>...</td>\n",
       "      <td>0.011465</td>\n",
       "      <td>1</td>\n",
       "      <td>0.005242</td>\n",
       "      <td>1</td>\n",
       "      <td>0.000187</td>\n",
       "      <td>1</td>\n",
       "      <td>-0.022419</td>\n",
       "      <td>-1</td>\n",
       "      <td>-0.055846</td>\n",
       "      <td>-1</td>\n",
       "    </tr>\n",
       "    <tr>\n",
       "      <th>...</th>\n",
       "      <td>...</td>\n",
       "      <td>...</td>\n",
       "      <td>...</td>\n",
       "      <td>...</td>\n",
       "      <td>...</td>\n",
       "      <td>...</td>\n",
       "      <td>...</td>\n",
       "      <td>...</td>\n",
       "      <td>...</td>\n",
       "      <td>...</td>\n",
       "      <td>...</td>\n",
       "      <td>...</td>\n",
       "      <td>...</td>\n",
       "      <td>...</td>\n",
       "      <td>...</td>\n",
       "      <td>...</td>\n",
       "      <td>...</td>\n",
       "      <td>...</td>\n",
       "      <td>...</td>\n",
       "      <td>...</td>\n",
       "      <td>...</td>\n",
       "    </tr>\n",
       "    <tr>\n",
       "      <th>501946</th>\n",
       "      <td>461455</td>\n",
       "      <td>2</td>\n",
       "      <td>2</td>\n",
       "      <td>2</td>\n",
       "      <td>2</td>\n",
       "      <td>2</td>\n",
       "      <td>2</td>\n",
       "      <td>2</td>\n",
       "      <td>0</td>\n",
       "      <td>3</td>\n",
       "      <td>...</td>\n",
       "      <td>-0.049304</td>\n",
       "      <td>-1</td>\n",
       "      <td>-0.057733</td>\n",
       "      <td>-1</td>\n",
       "      <td>-0.046786</td>\n",
       "      <td>-1</td>\n",
       "      <td>-0.045494</td>\n",
       "      <td>-1</td>\n",
       "      <td>-0.148237</td>\n",
       "      <td>-1</td>\n",
       "    </tr>\n",
       "    <tr>\n",
       "      <th>501947</th>\n",
       "      <td>352731</td>\n",
       "      <td>1</td>\n",
       "      <td>1</td>\n",
       "      <td>1</td>\n",
       "      <td>2</td>\n",
       "      <td>2</td>\n",
       "      <td>2</td>\n",
       "      <td>1</td>\n",
       "      <td>6</td>\n",
       "      <td>2</td>\n",
       "      <td>...</td>\n",
       "      <td>-0.148736</td>\n",
       "      <td>-1</td>\n",
       "      <td>-0.149367</td>\n",
       "      <td>-1</td>\n",
       "      <td>-0.146669</td>\n",
       "      <td>-1</td>\n",
       "      <td>-0.124203</td>\n",
       "      <td>-1</td>\n",
       "      <td>-0.012385</td>\n",
       "      <td>-1</td>\n",
       "    </tr>\n",
       "    <tr>\n",
       "      <th>501948</th>\n",
       "      <td>224676</td>\n",
       "      <td>1</td>\n",
       "      <td>1</td>\n",
       "      <td>1</td>\n",
       "      <td>2</td>\n",
       "      <td>2</td>\n",
       "      <td>2</td>\n",
       "      <td>1</td>\n",
       "      <td>4</td>\n",
       "      <td>2</td>\n",
       "      <td>...</td>\n",
       "      <td>-0.148736</td>\n",
       "      <td>-1</td>\n",
       "      <td>-0.149367</td>\n",
       "      <td>-1</td>\n",
       "      <td>-0.146669</td>\n",
       "      <td>-1</td>\n",
       "      <td>-0.124203</td>\n",
       "      <td>-1</td>\n",
       "      <td>-0.012385</td>\n",
       "      <td>-1</td>\n",
       "    </tr>\n",
       "    <tr>\n",
       "      <th>501949</th>\n",
       "      <td>313755</td>\n",
       "      <td>2</td>\n",
       "      <td>2</td>\n",
       "      <td>2</td>\n",
       "      <td>1</td>\n",
       "      <td>2</td>\n",
       "      <td>2</td>\n",
       "      <td>2</td>\n",
       "      <td>6</td>\n",
       "      <td>2</td>\n",
       "      <td>...</td>\n",
       "      <td>-0.148736</td>\n",
       "      <td>-1</td>\n",
       "      <td>-0.149367</td>\n",
       "      <td>-1</td>\n",
       "      <td>-0.146669</td>\n",
       "      <td>-1</td>\n",
       "      <td>-0.124203</td>\n",
       "      <td>-1</td>\n",
       "      <td>-0.012385</td>\n",
       "      <td>-1</td>\n",
       "    </tr>\n",
       "    <tr>\n",
       "      <th>501950</th>\n",
       "      <td>165817</td>\n",
       "      <td>1</td>\n",
       "      <td>1</td>\n",
       "      <td>1</td>\n",
       "      <td>2</td>\n",
       "      <td>2</td>\n",
       "      <td>2</td>\n",
       "      <td>1</td>\n",
       "      <td>3</td>\n",
       "      <td>4</td>\n",
       "      <td>...</td>\n",
       "      <td>0.004443</td>\n",
       "      <td>1</td>\n",
       "      <td>-0.006162</td>\n",
       "      <td>-1</td>\n",
       "      <td>-0.002583</td>\n",
       "      <td>-1</td>\n",
       "      <td>-0.027473</td>\n",
       "      <td>-1</td>\n",
       "      <td>-0.080941</td>\n",
       "      <td>-1</td>\n",
       "    </tr>\n",
       "  </tbody>\n",
       "</table>\n",
       "<p>501951 rows × 118 columns</p>\n",
       "</div>"
      ],
      "text/plain": [
       "            id  d_l_match_yn  d_m_match_yn  d_s_match_yn  h_l_match_yn  \\\n",
       "0            0             1             1             1             2   \n",
       "1       331621             1             1             1             2   \n",
       "2       133244             1             1             1             2   \n",
       "3        37130             2             2             2             1   \n",
       "4       202316             1             2             2             1   \n",
       "...        ...           ...           ...           ...           ...   \n",
       "501946  461455             2             2             2             2   \n",
       "501947  352731             1             1             1             2   \n",
       "501948  224676             1             1             1             2   \n",
       "501949  313755             2             2             2             1   \n",
       "501950  165817             1             1             1             2   \n",
       "\n",
       "        h_m_match_yn  h_s_match_yn  person_attribute_a  person_attribute_a_1  \\\n",
       "0                  2             2                   1                     4   \n",
       "1                  2             2                   1                     7   \n",
       "2                  2             2                   1                     6   \n",
       "3                  1             1                   1                     4   \n",
       "4                  2             2                   1                     3   \n",
       "...              ...           ...                 ...                   ...   \n",
       "501946             2             2                   2                     0   \n",
       "501947             2             2                   1                     6   \n",
       "501948             2             2                   1                     4   \n",
       "501949             2             2                   2                     6   \n",
       "501950             2             2                   1                     3   \n",
       "\n",
       "        person_attribute_b  ...  속성 L 코드_score  속성 L 코드_outlier  \\\n",
       "0                        3  ...       0.011465                1   \n",
       "1                        3  ...       0.011465                1   \n",
       "2                        5  ...       0.011465                1   \n",
       "3                        2  ...       0.011465                1   \n",
       "4                        4  ...       0.011465                1   \n",
       "...                    ...  ...            ...              ...   \n",
       "501946                   3  ...      -0.049304               -1   \n",
       "501947                   2  ...      -0.148736               -1   \n",
       "501948                   2  ...      -0.148736               -1   \n",
       "501949                   2  ...      -0.148736               -1   \n",
       "501950                   4  ...       0.004443                1   \n",
       "\n",
       "        속성 L 세분류코드_score  속성 L 세분류코드_outlier  속성 L 소분류코드_score  \\\n",
       "0               0.005242                   1          0.000187   \n",
       "1               0.005242                   1          0.000187   \n",
       "2               0.005242                   1          0.000187   \n",
       "3               0.005242                   1          0.000187   \n",
       "4               0.005242                   1          0.000187   \n",
       "...                  ...                 ...               ...   \n",
       "501946         -0.057733                  -1         -0.046786   \n",
       "501947         -0.149367                  -1         -0.146669   \n",
       "501948         -0.149367                  -1         -0.146669   \n",
       "501949         -0.149367                  -1         -0.146669   \n",
       "501950         -0.006162                  -1         -0.002583   \n",
       "\n",
       "        속성 L 소분류코드_outlier  속성 L 중분류코드_score  속성 L 중분류코드_outlier  \\\n",
       "0                        1         -0.022419                  -1   \n",
       "1                        1         -0.022419                  -1   \n",
       "2                        1         -0.022419                  -1   \n",
       "3                        1         -0.022419                  -1   \n",
       "4                        1         -0.022419                  -1   \n",
       "...                    ...               ...                 ...   \n",
       "501946                  -1         -0.045494                  -1   \n",
       "501947                  -1         -0.124203                  -1   \n",
       "501948                  -1         -0.124203                  -1   \n",
       "501949                  -1         -0.124203                  -1   \n",
       "501950                  -1         -0.027473                  -1   \n",
       "\n",
       "        속성 L 대분류코드_score  속성 L 대분류코드_outlier  \n",
       "0              -0.055846                  -1  \n",
       "1              -0.055846                  -1  \n",
       "2              -0.055846                  -1  \n",
       "3              -0.055846                  -1  \n",
       "4              -0.055846                  -1  \n",
       "...                  ...                 ...  \n",
       "501946         -0.148237                  -1  \n",
       "501947         -0.012385                  -1  \n",
       "501948         -0.012385                  -1  \n",
       "501949         -0.012385                  -1  \n",
       "501950         -0.080941                  -1  \n",
       "\n",
       "[501951 rows x 118 columns]"
      ]
     },
     "execution_count": 218,
     "metadata": {},
     "output_type": "execute_result"
    }
   ],
   "source": [
    "train_2"
   ]
  },
  {
   "cell_type": "code",
   "execution_count": 221,
   "id": "a7e34222",
   "metadata": {},
   "outputs": [],
   "source": [
    "#train_2.to_csv(\"C:/Users/bella/Desktop/SelfStudy/데이콘/Jobcare_data/train_2.csv\", index=False)"
   ]
  },
  {
   "cell_type": "code",
   "execution_count": 225,
   "id": "4f6aa05c",
   "metadata": {},
   "outputs": [],
   "source": [
    "import numpy as np"
   ]
  },
  {
   "cell_type": "code",
   "execution_count": 246,
   "id": "9f30480d",
   "metadata": {},
   "outputs": [
    {
     "name": "stdout",
     "output_type": "stream",
     "text": [
      "person_prefer_d_1_score : 0\n",
      "person_prefer_d_2_score : 0\n",
      "person_prefer_d_3_score : 0\n",
      "person_prefer_h_1_score : 0\n",
      "person_prefer_h_2_score : 0\n",
      "person_prefer_h_3_score : 0\n",
      "contents_attribute_l_score : 0\n",
      "contents_attribute_d_score : 0\n",
      "contents_attribute_h_score : 0\n",
      "person_rn_score : 0\n",
      "contents_rn_score : 0\n",
      "속성 D 코드_score : 0\n",
      "속성 D 세분류코드_x_score : 0\n",
      "속성 D 소분류코드_x_score : 0\n",
      "속성 D 중분류코드_x_score : 0\n",
      "속성 D 대분류코드_x_score : 0\n",
      "속성 H 코드_score : 0\n",
      "속성 H 중분류코드_x_score : 0\n",
      "속성 H 대분류코드_x_score : 0\n",
      "속성 D 세분류코드_y_score : 0\n",
      "속성 D 소분류코드_y_score : 0\n",
      "속성 D 중분류코드_y_score : 0\n",
      "속성 D 대분류코드_y_score : 0\n",
      "속성 H 중분류코드_y_score : 0\n",
      "속성 H 대분류코드_y_score : 0\n",
      "속성 L 코드_score : 0\n",
      "속성 L 세분류코드_score : 0\n",
      "속성 L 소분류코드_score : 0\n",
      "속성 L 중분류코드_score : 0\n",
      "속성 L 대분류코드_score : 0\n"
     ]
    }
   ],
   "source": [
    "for i in range(58, 118,2):\n",
    "    name=train_2.columns[i]\n",
    "    Q1=np.percentile(train_2[name], 25)\n",
    "    Q3=np.percentile(train_2[name], 75)\n",
    "    IQR=Q3-Q1\n",
    "    outlier=train_2.loc[train_2[name]>Q3+(1.5*IQR)]\n",
    "    print(name, \":\", len(outlier))   "
   ]
  },
  {
   "cell_type": "markdown",
   "id": "9d48c80b",
   "metadata": {},
   "source": [
    "- Q3+(1.5*IQR) 이상인 데이터는 없다."
   ]
  },
  {
   "cell_type": "code",
   "execution_count": 247,
   "id": "e07a5cb1",
   "metadata": {},
   "outputs": [
    {
     "name": "stdout",
     "output_type": "stream",
     "text": [
      "person_prefer_d_1_outlier : 307943\n",
      "person_prefer_d_2_outlier : 268172\n",
      "person_prefer_d_3_outlier : 223191\n",
      "person_prefer_h_1_outlier : 274536\n",
      "person_prefer_h_2_outlier : 345135\n",
      "person_prefer_h_3_outlier : 308056\n",
      "contents_attribute_l_outlier : 234430\n",
      "contents_attribute_d_outlier : 316258\n",
      "contents_attribute_h_outlier : 241595\n",
      "person_rn_outlier : 197569\n",
      "contents_rn_outlier : 287314\n",
      "속성 D 코드_outlier : 316258\n",
      "속성 D 세분류코드_x_outlier : 347276\n",
      "속성 D 소분류코드_x_outlier : 327225\n",
      "속성 D 중분류코드_x_outlier : 243375\n",
      "속성 D 대분류코드_x_outlier : 166830\n",
      "속성 H 코드_outlier : 241595\n",
      "속성 H 중분류코드_x_outlier : 268701\n",
      "속성 H 대분류코드_x_outlier : 355619\n",
      "속성 D 세분류코드_y_outlier : 300543\n",
      "속성 D 소분류코드_y_outlier : 329048\n",
      "속성 D 중분류코드_y_outlier : 253779\n",
      "속성 D 대분류코드_y_outlier : 179878\n",
      "속성 H 중분류코드_y_outlier : 243879\n",
      "속성 H 대분류코드_y_outlier : 340363\n",
      "속성 L 코드_outlier : 234430\n",
      "속성 L 세분류코드_outlier : 240595\n",
      "속성 L 소분류코드_outlier : 271069\n",
      "속성 L 중분류코드_outlier : 276062\n"
     ]
    }
   ],
   "source": [
    "for i in range(59, 117,2):\n",
    "    name=train_2.columns[i]\n",
    "    outlier=train_2.loc[train_2[name]==-1]\n",
    "    print(name, \":\", len(outlier))   "
   ]
  },
  {
   "cell_type": "markdown",
   "id": "343d15a9",
   "metadata": {},
   "source": [
    "- outlier:pred값이 -1인 경우, 이상 값, 1인 경우, 이상값이 아니다.\n",
    "\n",
    "- pred값이 -1인 데이터는 매우 많다.."
   ]
  },
  {
   "cell_type": "code",
   "execution_count": 331,
   "id": "64f81de4",
   "metadata": {},
   "outputs": [
    {
     "name": "stdout",
     "output_type": "stream",
     "text": [
      "person_prefer_d_1_score : 0\n",
      "person_prefer_d_2_score : 0\n",
      "person_prefer_d_3_score : 0\n",
      "person_prefer_h_1_score : 0\n",
      "person_prefer_h_2_score : 0\n",
      "person_prefer_h_3_score : 0\n",
      "contents_attribute_l_score : 0\n",
      "contents_attribute_d_score : 0\n",
      "contents_attribute_h_score : 0\n",
      "person_rn_score : 0\n",
      "contents_rn_score : 0\n",
      "속성 D 코드_score : 0\n",
      "속성 D 세분류코드_x_score : 0\n",
      "속성 D 소분류코드_x_score : 0\n",
      "속성 D 중분류코드_x_score : 0\n",
      "속성 D 대분류코드_x_score : 0\n",
      "속성 H 코드_score : 0\n",
      "속성 H 중분류코드_x_score : 0\n",
      "속성 H 대분류코드_x_score : 0\n",
      "속성 D 세분류코드_y_score : 0\n",
      "속성 D 소분류코드_y_score : 0\n",
      "속성 D 중분류코드_y_score : 0\n",
      "속성 D 대분류코드_y_score : 0\n",
      "속성 H 중분류코드_y_score : 0\n",
      "속성 H 대분류코드_y_score : 0\n",
      "속성 L 코드_score : 0\n",
      "속성 L 세분류코드_score : 0\n",
      "속성 L 소분류코드_score : 0\n",
      "속성 L 중분류코드_score : 0\n",
      "속성 L 대분류코드_score : 0\n"
     ]
    }
   ],
   "source": [
    "for i in range(58, 118,2):\n",
    "    name=train_2.columns[i]\n",
    "    avg=train_2[name].mean()\n",
    "    sd=train_2[name].std()\n",
    "    outlier=train_2.loc[train_2[name]>avg+(3*sd)]\n",
    "    print(name, \":\", len(outlier))   "
   ]
  },
  {
   "cell_type": "code",
   "execution_count": 292,
   "id": "0860c4e4",
   "metadata": {},
   "outputs": [],
   "source": [
    "train_3=train_2.copy()"
   ]
  },
  {
   "cell_type": "code",
   "execution_count": 293,
   "id": "3e53394a",
   "metadata": {},
   "outputs": [],
   "source": [
    "for i in range(59, 117,2):\n",
    "    name=train_3.columns[i]\n",
    "    train_3[name]=train_3[name].apply(lambda x:0 if x==1 else 1)"
   ]
  },
  {
   "cell_type": "markdown",
   "id": "b69d4377",
   "metadata": {},
   "source": [
    "일단 딥러닝 한 번 더 try\n",
    "--"
   ]
  },
  {
   "cell_type": "code",
   "execution_count": 306,
   "id": "a9a2d5e7",
   "metadata": {},
   "outputs": [],
   "source": [
    "x=train_3.drop(\"target\", axis=1)\n",
    "y=train_3[\"target\"]"
   ]
  },
  {
   "cell_type": "code",
   "execution_count": 307,
   "id": "0576f3f1",
   "metadata": {},
   "outputs": [],
   "source": [
    "x=mm.fit_transform(x)"
   ]
  },
  {
   "cell_type": "code",
   "execution_count": 308,
   "id": "85064a2d",
   "metadata": {},
   "outputs": [],
   "source": [
    "x_train, x_test, y_train, y_test = train_test_split(x, y, test_size=0.2, random_state=42)"
   ]
  },
  {
   "cell_type": "code",
   "execution_count": 309,
   "id": "90af3e33",
   "metadata": {},
   "outputs": [],
   "source": [
    "model = Sequential()\n",
    "model.add(Dense(4096, activation='relu', input_shape=(117,)))\n",
    "model.add(BatchNormalization())\n",
    "model.add(Dense(2048, activation='relu'))\n",
    "model.add(BatchNormalization())\n",
    "model.add(Dense(1024, activation='relu'))\n",
    "model.add(BatchNormalization())\n",
    "model.add(Dense(512, activation='relu'))\n",
    "model.add(BatchNormalization())\n",
    "model.add(Dense(256, activation='relu'))\n",
    "model.add(Dropout(0.1))\n",
    "model.add(Dense(128, activation='relu'))\n",
    "model.add(BatchNormalization())\n",
    "model.add(Dense(64, activation='relu'))\n",
    "model.add(Dropout(0.2))\n",
    "model.add(Dense(32, activation='relu'))\n",
    "model.add(BatchNormalization())\n",
    "model.add(Dense(16, activation='relu'))\n",
    "model.add(Dropout(0.3))\n",
    "model.add(Dense(8, activation='relu'))\n",
    "model.add(BatchNormalization())\n",
    "model.add(Dense(4, activation='relu'))\n",
    "model.add(Dropout(0.5))\n",
    "model.add(Dense(1, activation='sigmoid'))\n",
    "\n",
    "model.compile(loss=\"binary_crossentropy\", optimizer='adam', metrics=[\"acc\", f1_m, precision_m, recall_m])"
   ]
  },
  {
   "cell_type": "code",
   "execution_count": 310,
   "id": "12d6ade2",
   "metadata": {},
   "outputs": [
    {
     "name": "stdout",
     "output_type": "stream",
     "text": [
      "Model: \"sequential_12\"\n",
      "_________________________________________________________________\n",
      " Layer (type)                Output Shape              Param #   \n",
      "=================================================================\n",
      " dense_85 (Dense)            (None, 4096)              483328    \n",
      "                                                                 \n",
      " batch_normalization_41 (Bat  (None, 4096)             16384     \n",
      " chNormalization)                                                \n",
      "                                                                 \n",
      " dense_86 (Dense)            (None, 2048)              8390656   \n",
      "                                                                 \n",
      " batch_normalization_42 (Bat  (None, 2048)             8192      \n",
      " chNormalization)                                                \n",
      "                                                                 \n",
      " dense_87 (Dense)            (None, 1024)              2098176   \n",
      "                                                                 \n",
      " batch_normalization_43 (Bat  (None, 1024)             4096      \n",
      " chNormalization)                                                \n",
      "                                                                 \n",
      " dense_88 (Dense)            (None, 512)               524800    \n",
      "                                                                 \n",
      " batch_normalization_44 (Bat  (None, 512)              2048      \n",
      " chNormalization)                                                \n",
      "                                                                 \n",
      " dense_89 (Dense)            (None, 256)               131328    \n",
      "                                                                 \n",
      " dropout_28 (Dropout)        (None, 256)               0         \n",
      "                                                                 \n",
      " dense_90 (Dense)            (None, 128)               32896     \n",
      "                                                                 \n",
      " batch_normalization_45 (Bat  (None, 128)              512       \n",
      " chNormalization)                                                \n",
      "                                                                 \n",
      " dense_91 (Dense)            (None, 64)                8256      \n",
      "                                                                 \n",
      " dropout_29 (Dropout)        (None, 64)                0         \n",
      "                                                                 \n",
      " dense_92 (Dense)            (None, 32)                2080      \n",
      "                                                                 \n",
      " batch_normalization_46 (Bat  (None, 32)               128       \n",
      " chNormalization)                                                \n",
      "                                                                 \n",
      " dense_93 (Dense)            (None, 16)                528       \n",
      "                                                                 \n",
      " dropout_30 (Dropout)        (None, 16)                0         \n",
      "                                                                 \n",
      " dense_94 (Dense)            (None, 8)                 136       \n",
      "                                                                 \n",
      " batch_normalization_47 (Bat  (None, 8)                32        \n",
      " chNormalization)                                                \n",
      "                                                                 \n",
      " dense_95 (Dense)            (None, 4)                 36        \n",
      "                                                                 \n",
      " dropout_31 (Dropout)        (None, 4)                 0         \n",
      "                                                                 \n",
      " dense_96 (Dense)            (None, 1)                 5         \n",
      "                                                                 \n",
      "=================================================================\n",
      "Total params: 11,703,617\n",
      "Trainable params: 11,687,921\n",
      "Non-trainable params: 15,696\n",
      "_________________________________________________________________\n"
     ]
    }
   ],
   "source": [
    "model.summary()"
   ]
  },
  {
   "cell_type": "code",
   "execution_count": 311,
   "id": "31297648",
   "metadata": {},
   "outputs": [],
   "source": [
    "from keras.models import load_model\n",
    "\n",
    "model.save('C:/Users/bella/Desktop/SelfStudy/데이콘/Jobcare_data/model/my_model.h5') # 모델 저장하기"
   ]
  },
  {
   "cell_type": "code",
   "execution_count": 312,
   "id": "220a97f3",
   "metadata": {},
   "outputs": [],
   "source": [
    "from keras.callbacks import ModelCheckpoint, EarlyStopping"
   ]
  },
  {
   "cell_type": "code",
   "execution_count": 313,
   "id": "a65db3d8",
   "metadata": {},
   "outputs": [],
   "source": [
    "import os"
   ]
  },
  {
   "cell_type": "code",
   "execution_count": 314,
   "id": "f186440d",
   "metadata": {},
   "outputs": [],
   "source": [
    "MODEL_DIR='C:/Users/bella/Desktop/SelfStudy/데이콘/Jobcare_data/model/history/'\n",
    "if not os.path.exists(MODEL_DIR):\n",
    "    os.mkdir(MODEL_DIR)\n",
    "\n",
    "modelpath=\"C:/Users/bella/Desktop/SelfStudy/데이콘/Jobcare_data/model/history/{epoch:02d}-{val_loss:.4f}.hdf5\"\n",
    "checkpointer=ModelCheckpoint(filepath=modelpath, monitor='val_loss', verbose=1, save_best_only=True)\n",
    "early_stopping_callback=EarlyStopping(monitor='val_loss',patience=10)"
   ]
  },
  {
   "cell_type": "code",
   "execution_count": 315,
   "id": "935c09c0",
   "metadata": {},
   "outputs": [
    {
     "name": "stdout",
     "output_type": "stream",
     "text": [
      "Wall time: 0 ns\n",
      "Epoch 1/20\n",
      "8032/8032 [==============================] - ETA: 0s - loss: 0.6273 - acc: 0.6361 - f1_m: 0.6191 - precision_m: 0.6469 - recall_m: 0.6167\n",
      "Epoch 00001: val_loss improved from inf to 0.56560, saving model to C:/Users/bella/Desktop/SelfStudy/데이콘/Jobcare_data/model/history\\01-0.5656.hdf5\n",
      "8032/8032 [==============================] - 921s 114ms/step - loss: 0.6273 - acc: 0.6361 - f1_m: 0.6191 - precision_m: 0.6469 - recall_m: 0.6167 - val_loss: 0.5656 - val_acc: 0.6833 - val_f1_m: 0.6114 - val_precision_m: 0.7833 - val_recall_m: 0.5089\n",
      "Epoch 2/20\n",
      "8032/8032 [==============================] - ETA: 0s - loss: 0.6050 - acc: 0.6609 - f1_m: 0.6506 - precision_m: 0.6736 - recall_m: 0.6410\n",
      "Epoch 00002: val_loss improved from 0.56560 to 0.54470, saving model to C:/Users/bella/Desktop/SelfStudy/데이콘/Jobcare_data/model/history\\02-0.5447.hdf5\n",
      "8032/8032 [==============================] - 941s 117ms/step - loss: 0.6050 - acc: 0.6609 - f1_m: 0.6506 - precision_m: 0.6736 - recall_m: 0.6410 - val_loss: 0.5447 - val_acc: 0.7052 - val_f1_m: 0.6418 - val_precision_m: 0.8081 - val_recall_m: 0.5399\n",
      "Epoch 3/20\n",
      "8032/8032 [==============================] - ETA: 0s - loss: 0.5994 - acc: 0.6651 - f1_m: 0.6558 - precision_m: 0.6782 - recall_m: 0.6473\n",
      "Epoch 00003: val_loss improved from 0.54470 to 0.53250, saving model to C:/Users/bella/Desktop/SelfStudy/데이콘/Jobcare_data/model/history\\03-0.5325.hdf5\n",
      "8032/8032 [==============================] - 946s 118ms/step - loss: 0.5994 - acc: 0.6651 - f1_m: 0.6558 - precision_m: 0.6782 - recall_m: 0.6473 - val_loss: 0.5325 - val_acc: 0.6987 - val_f1_m: 0.6416 - val_precision_m: 0.7832 - val_recall_m: 0.5509\n",
      "Epoch 4/20\n",
      "8032/8032 [==============================] - ETA: 0s - loss: 0.5961 - acc: 0.6657 - f1_m: 0.6586 - precision_m: 0.6755 - recall_m: 0.6546\n",
      "Epoch 00004: val_loss did not improve from 0.53250\n",
      "8032/8032 [==============================] - 947s 118ms/step - loss: 0.5961 - acc: 0.6657 - f1_m: 0.6586 - precision_m: 0.6755 - recall_m: 0.6546 - val_loss: 0.5408 - val_acc: 0.7018 - val_f1_m: 0.6744 - val_precision_m: 0.7365 - val_recall_m: 0.6300\n",
      "Epoch 5/20\n",
      "8032/8032 [==============================] - ETA: 0s - loss: 0.5942 - acc: 0.6686 - f1_m: 0.6615 - precision_m: 0.6768 - recall_m: 0.6577\n",
      "Epoch 00005: val_loss improved from 0.53250 to 0.53007, saving model to C:/Users/bella/Desktop/SelfStudy/데이콘/Jobcare_data/model/history\\05-0.5301.hdf5\n",
      "8032/8032 [==============================] - 952s 118ms/step - loss: 0.5942 - acc: 0.6686 - f1_m: 0.6615 - precision_m: 0.6768 - recall_m: 0.6577 - val_loss: 0.5301 - val_acc: 0.7069 - val_f1_m: 0.6569 - val_precision_m: 0.7825 - val_recall_m: 0.5737\n",
      "Epoch 6/20\n",
      "8032/8032 [==============================] - ETA: 0s - loss: 0.5937 - acc: 0.6678 - f1_m: 0.6622 - precision_m: 0.6743 - recall_m: 0.6614\n",
      "Epoch 00006: val_loss did not improve from 0.53007\n",
      "8032/8032 [==============================] - 963s 120ms/step - loss: 0.5937 - acc: 0.6678 - f1_m: 0.6622 - precision_m: 0.6743 - recall_m: 0.6614 - val_loss: 0.5472 - val_acc: 0.7089 - val_f1_m: 0.6481 - val_precision_m: 0.8093 - val_recall_m: 0.5481\n",
      "Epoch 7/20\n",
      "8032/8032 [==============================] - ETA: 0s - loss: 0.5926 - acc: 0.6700 - f1_m: 0.6639 - precision_m: 0.6765 - recall_m: 0.6622\n",
      "Epoch 00007: val_loss did not improve from 0.53007\n",
      "8032/8032 [==============================] - 953s 119ms/step - loss: 0.5926 - acc: 0.6700 - f1_m: 0.6639 - precision_m: 0.6765 - recall_m: 0.6622 - val_loss: 0.5319 - val_acc: 0.6959 - val_f1_m: 0.6847 - val_precision_m: 0.7058 - val_recall_m: 0.6731\n",
      "Epoch 8/20\n",
      "8032/8032 [==============================] - ETA: 0s - loss: 0.5927 - acc: 0.6695 - f1_m: 0.6623 - precision_m: 0.6765 - recall_m: 0.6591\n",
      "Epoch 00008: val_loss did not improve from 0.53007\n",
      "8032/8032 [==============================] - 965s 120ms/step - loss: 0.5927 - acc: 0.6695 - f1_m: 0.6623 - precision_m: 0.6765 - recall_m: 0.6591 - val_loss: 0.5969 - val_acc: 0.6811 - val_f1_m: 0.6725 - val_precision_m: 0.6866 - val_recall_m: 0.6677\n",
      "Epoch 9/20\n",
      "8032/8032 [==============================] - ETA: 0s - loss: 0.5952 - acc: 0.6675 - f1_m: 0.6617 - precision_m: 0.6726 - recall_m: 0.6620\n",
      "Epoch 00009: val_loss did not improve from 0.53007\n",
      "8032/8032 [==============================] - 962s 120ms/step - loss: 0.5952 - acc: 0.6675 - f1_m: 0.6617 - precision_m: 0.6726 - recall_m: 0.6620 - val_loss: 0.5378 - val_acc: 0.7052 - val_f1_m: 0.6649 - val_precision_m: 0.7630 - val_recall_m: 0.5972\n",
      "Epoch 10/20\n",
      "8032/8032 [==============================] - ETA: 0s - loss: 0.5933 - acc: 0.6680 - f1_m: 0.6615 - precision_m: 0.6736 - recall_m: 0.6603\n",
      "Epoch 00010: val_loss did not improve from 0.53007\n",
      "8032/8032 [==============================] - 962s 120ms/step - loss: 0.5933 - acc: 0.6680 - f1_m: 0.6615 - precision_m: 0.6736 - recall_m: 0.6603 - val_loss: 0.5420 - val_acc: 0.7033 - val_f1_m: 0.6788 - val_precision_m: 0.7339 - val_recall_m: 0.6395\n",
      "Epoch 11/20\n",
      "8032/8032 [==============================] - ETA: 0s - loss: 0.5922 - acc: 0.6704 - f1_m: 0.6624 - precision_m: 0.6770 - recall_m: 0.6583\n",
      "Epoch 00011: val_loss improved from 0.53007 to 0.52686, saving model to C:/Users/bella/Desktop/SelfStudy/데이콘/Jobcare_data/model/history\\11-0.5269.hdf5\n",
      "8032/8032 [==============================] - 969s 121ms/step - loss: 0.5922 - acc: 0.6704 - f1_m: 0.6624 - precision_m: 0.6770 - recall_m: 0.6583 - val_loss: 0.5269 - val_acc: 0.7003 - val_f1_m: 0.6823 - val_precision_m: 0.7202 - val_recall_m: 0.6567\n",
      "Epoch 12/20\n",
      "8032/8032 [==============================] - ETA: 0s - loss: 0.5908 - acc: 0.6727 - f1_m: 0.6637 - precision_m: 0.6808 - recall_m: 0.6571\n",
      "Epoch 00012: val_loss did not improve from 0.52686\n",
      "8032/8032 [==============================] - 967s 120ms/step - loss: 0.5908 - acc: 0.6727 - f1_m: 0.6637 - precision_m: 0.6808 - recall_m: 0.6571 - val_loss: 0.5430 - val_acc: 0.6984 - val_f1_m: 0.6930 - val_precision_m: 0.7004 - val_recall_m: 0.6941\n",
      "Epoch 13/20\n",
      "8032/8032 [==============================] - ETA: 0s - loss: 0.5906 - acc: 0.6710 - f1_m: 0.6628 - precision_m: 0.6778 - recall_m: 0.6585\n",
      "Epoch 00013: val_loss did not improve from 0.52686\n",
      "8032/8032 [==============================] - 964s 120ms/step - loss: 0.5906 - acc: 0.6710 - f1_m: 0.6628 - precision_m: 0.6778 - recall_m: 0.6585 - val_loss: 0.5388 - val_acc: 0.6786 - val_f1_m: 0.7016 - val_precision_m: 0.6515 - val_recall_m: 0.7690\n",
      "Epoch 14/20\n",
      "8032/8032 [==============================] - ETA: 0s - loss: 0.5897 - acc: 0.6736 - f1_m: 0.6646 - precision_m: 0.6815 - recall_m: 0.6580\n",
      "Epoch 00014: val_loss did not improve from 0.52686\n",
      "8032/8032 [==============================] - 962s 120ms/step - loss: 0.5897 - acc: 0.6736 - f1_m: 0.6646 - precision_m: 0.6815 - recall_m: 0.6580 - val_loss: 0.5307 - val_acc: 0.6975 - val_f1_m: 0.6821 - val_precision_m: 0.7130 - val_recall_m: 0.6620\n",
      "Epoch 15/20\n",
      "8032/8032 [==============================] - ETA: 0s - loss: 0.5888 - acc: 0.6721 - f1_m: 0.6646 - precision_m: 0.6785 - recall_m: 0.6607\n",
      "Epoch 00015: val_loss did not improve from 0.52686\n",
      "8032/8032 [==============================] - 963s 120ms/step - loss: 0.5888 - acc: 0.6721 - f1_m: 0.6646 - precision_m: 0.6785 - recall_m: 0.6607 - val_loss: 0.5271 - val_acc: 0.7043 - val_f1_m: 0.6726 - val_precision_m: 0.7471 - val_recall_m: 0.6200\n",
      "Epoch 16/20\n",
      "8032/8032 [==============================] - ETA: 0s - loss: 0.5888 - acc: 0.6726 - f1_m: 0.6656 - precision_m: 0.6785 - recall_m: 0.6629\n",
      "Epoch 00016: val_loss did not improve from 0.52686\n",
      "8032/8032 [==============================] - 963s 120ms/step - loss: 0.5888 - acc: 0.6726 - f1_m: 0.6656 - precision_m: 0.6785 - recall_m: 0.6629 - val_loss: 0.5281 - val_acc: 0.7056 - val_f1_m: 0.6749 - val_precision_m: 0.7460 - val_recall_m: 0.6240\n",
      "Epoch 17/20\n",
      "8032/8032 [==============================] - ETA: 0s - loss: 0.5887 - acc: 0.6730 - f1_m: 0.6644 - precision_m: 0.6799 - recall_m: 0.6590\n",
      "Epoch 00017: val_loss did not improve from 0.52686\n",
      "8032/8032 [==============================] - 964s 120ms/step - loss: 0.5887 - acc: 0.6730 - f1_m: 0.6644 - precision_m: 0.6799 - recall_m: 0.6590 - val_loss: 0.5342 - val_acc: 0.6974 - val_f1_m: 0.6939 - val_precision_m: 0.6969 - val_recall_m: 0.6993\n",
      "Epoch 18/20\n",
      "8032/8032 [==============================] - ETA: 0s - loss: 0.5910 - acc: 0.6709 - f1_m: 0.6641 - precision_m: 0.6759 - recall_m: 0.6623\n",
      "Epoch 00018: val_loss did not improve from 0.52686\n",
      "8032/8032 [==============================] - 956s 119ms/step - loss: 0.5910 - acc: 0.6709 - f1_m: 0.6641 - precision_m: 0.6759 - recall_m: 0.6623 - val_loss: 0.5347 - val_acc: 0.7059 - val_f1_m: 0.6757 - val_precision_m: 0.7461 - val_recall_m: 0.6255\n",
      "Epoch 19/20\n",
      "8032/8032 [==============================] - ETA: 0s - loss: 0.5917 - acc: 0.6717 - f1_m: 0.6652 - precision_m: 0.6771 - recall_m: 0.6633\n",
      "Epoch 00019: val_loss did not improve from 0.52686\n",
      "8032/8032 [==============================] - 953s 119ms/step - loss: 0.5917 - acc: 0.6717 - f1_m: 0.6652 - precision_m: 0.6771 - recall_m: 0.6633 - val_loss: 0.5410 - val_acc: 0.7087 - val_f1_m: 0.6705 - val_precision_m: 0.7635 - val_recall_m: 0.6056\n",
      "Epoch 20/20\n",
      "8032/8032 [==============================] - ETA: 0s - loss: 0.5912 - acc: 0.6721 - f1_m: 0.6650 - precision_m: 0.6775 - recall_m: 0.6625\n",
      "Epoch 00020: val_loss did not improve from 0.52686\n",
      "8032/8032 [==============================] - 957s 119ms/step - loss: 0.5912 - acc: 0.6721 - f1_m: 0.6650 - precision_m: 0.6775 - recall_m: 0.6625 - val_loss: 0.5444 - val_acc: 0.6973 - val_f1_m: 0.6906 - val_precision_m: 0.7007 - val_recall_m: 0.6889\n"
     ]
    }
   ],
   "source": [
    "%time\n",
    "history = model.fit(x_train, y_train,\n",
    "                    epochs = 20,\n",
    "                    batch_size = 50,\n",
    "                    validation_data = (x_test,y_test), callbacks=[early_stopping_callback, checkpointer])"
   ]
  },
  {
   "cell_type": "code",
   "execution_count": 316,
   "id": "2cddd5cd",
   "metadata": {},
   "outputs": [
    {
     "data": {
      "text/plain": [
       "dict_keys(['loss', 'acc', 'f1_m', 'precision_m', 'recall_m', 'val_loss', 'val_acc', 'val_f1_m', 'val_precision_m', 'val_recall_m'])"
      ]
     },
     "execution_count": 316,
     "metadata": {},
     "output_type": "execute_result"
    }
   ],
   "source": [
    "history.history.keys()"
   ]
  },
  {
   "cell_type": "code",
   "execution_count": 317,
   "id": "1e9acc84",
   "metadata": {},
   "outputs": [
    {
     "name": "stdout",
     "output_type": "stream",
     "text": [
      "12549/12549 [==============================] - 258s 21ms/step - loss: 0.5433 - acc: 0.6989 - f1_m: 0.6890 - precision_m: 0.7018 - recall_m: 0.6903\n",
      "\n",
      " Train Accuracy 0.6989\n"
     ]
    }
   ],
   "source": [
    "print(\"\\n Train Accuracy %.4f\"%(model.evaluate(x_train, y_train)[1]))"
   ]
  },
  {
   "cell_type": "code",
   "execution_count": 318,
   "id": "b885f84b",
   "metadata": {},
   "outputs": [
    {
     "name": "stdout",
     "output_type": "stream",
     "text": [
      "3138/3138 [==============================] - 64s 20ms/step - loss: 0.5444 - acc: 0.6973 - f1_m: 0.6882 - precision_m: 0.7009 - recall_m: 0.6892\n",
      "\n",
      " Test Accuracy 0.6973\n"
     ]
    }
   ],
   "source": [
    "print(\"\\n Test Accuracy %.4f\"%(model.evaluate(x_test, y_test)[1]))"
   ]
  },
  {
   "cell_type": "code",
   "execution_count": 319,
   "id": "920b6e23",
   "metadata": {},
   "outputs": [
    {
     "data": {
      "image/png": "[encoded data removed]",
      "text/plain": [
       "<Figure size 720x360 with 2 Axes>"
      ]
     },
     "metadata": {},
     "output_type": "display_data"
    }
   ],
   "source": [
    "his_dict = history.history\n",
    "loss = his_dict['loss']\n",
    "val_loss = his_dict['val_loss'] # 검증 데이터가 있는 경우 val_ 수식어가 붙는다.\n",
    "\n",
    "epochs = range(1,len(loss)+1 )\n",
    "fig = plt.figure(figsize= (10,5) )\n",
    "\n",
    "# 학습 및 검증 손실 그리기\n",
    "\n",
    "ax1 = fig.add_subplot(1,2,1)\n",
    "ax1.plot(epochs, loss, color = 'blue', label = 'train_loss')\n",
    "ax1.plot(epochs, val_loss, color = 'orange', label = 'val_loss')\n",
    "ax1.set_title('train and val loss')\n",
    "ax1.set_xlabel('epochs')\n",
    "ax1.set_ylabel('loss')\n",
    "ax1.legend()\n",
    "\n",
    "acc = his_dict['acc']\n",
    "val_acc = his_dict['val_acc']\n",
    "\n",
    "# 학습 및 검증 정확도 그리기\n",
    "ax2 = fig.add_subplot(1,2,2)\n",
    "ax2.plot(epochs, acc, color = 'blue', label = 'acc')\n",
    "ax2.plot(epochs, val_acc, color = 'orange', label = 'val_acc')\n",
    "ax2.set_title('train and val acc')\n",
    "ax2.set_xlabel('epochs')\n",
    "ax2.set_ylabel('loss')\n",
    "ax2.legend()\n",
    "\n",
    "plt.show()"
   ]
  },
  {
   "cell_type": "code",
   "execution_count": 320,
   "id": "efb6d7a5",
   "metadata": {},
   "outputs": [
    {
     "data": {
      "text/plain": [
       "0.6973134875297546"
      ]
     },
     "execution_count": 320,
     "metadata": {},
     "output_type": "execute_result"
    }
   ],
   "source": [
    "model_acc=model.evaluate(x_test, y_test, verbose=0)[1]\n",
    "model_acc"
   ]
  },
  {
   "cell_type": "code",
   "execution_count": 321,
   "id": "28aa1544",
   "metadata": {},
   "outputs": [],
   "source": [
    "y_pred=model.predict(x_test)"
   ]
  },
  {
   "cell_type": "code",
   "execution_count": 322,
   "id": "72de88e3",
   "metadata": {},
   "outputs": [],
   "source": [
    "df_y_pred=pd.DataFrame(data=y_pred, columns=[\"target\"])\n",
    "df_y_pred[\"target\"]=df_y_pred[\"target\"].apply(lambda x:1 if x>=0.5 else 0)\n",
    "f_1=f1_score(y_test, df_y_pred)"
   ]
  },
  {
   "cell_type": "code",
   "execution_count": 324,
   "id": "c2d0ebe8",
   "metadata": {},
   "outputs": [
    {
     "data": {
      "text/plain": [
       "array([[35361, 14756],\n",
       "       [15631, 34643]], dtype=int64)"
      ]
     },
     "execution_count": 324,
     "metadata": {},
     "output_type": "execute_result"
    }
   ],
   "source": [
    "from sklearn.metrics import confusion_matrix\n",
    "confusion_matrix(y_test, df_y_pred)"
   ]
  },
  {
   "cell_type": "code",
   "execution_count": 325,
   "id": "ee9433de",
   "metadata": {},
   "outputs": [
    {
     "name": "stdout",
     "output_type": "stream",
     "text": [
      "              precision    recall  f1-score   support\n",
      "\n",
      "           0       0.69      0.71      0.70     50117\n",
      "           1       0.70      0.69      0.70     50274\n",
      "\n",
      "    accuracy                           0.70    100391\n",
      "   macro avg       0.70      0.70      0.70    100391\n",
      "weighted avg       0.70      0.70      0.70    100391\n",
      "\n"
     ]
    }
   ],
   "source": [
    "from sklearn.metrics import classification_report\n",
    "auc_roc=classification_report(y_test, df_y_pred)\n",
    "print(auc_roc)"
   ]
  },
  {
   "cell_type": "code",
   "execution_count": 327,
   "id": "5125fa03",
   "metadata": {},
   "outputs": [],
   "source": [
    "model.save('C:/Users/bella/Desktop/SelfStudy/데이콘/Jobcare_data/model/my_model_1.h5')"
   ]
  },
  {
   "cell_type": "markdown",
   "id": "d93328a5",
   "metadata": {},
   "source": [
    "CATBOOST StratifiedKFold\n",
    "--"
   ]
  },
  {
   "cell_type": "code",
   "execution_count": 6,
   "id": "be1618e7",
   "metadata": {},
   "outputs": [],
   "source": [
    "x=train.drop(['match_yn', 'match_yn_d', 'match_yn_h',\"target\"], axis=1)\n",
    "y=train[[\"target\"]]\n",
    "x_train, x_test, y_train, y_test=train_test_split(x, y, test_size=0.2, random_state=42)"
   ]
  },
  {
   "cell_type": "code",
   "execution_count": null,
   "id": "a9bc3e7b",
   "metadata": {},
   "outputs": [],
   "source": [
    "cb.fit(x_train, y_train)\n",
    "y_pred=cb.predict(x_test)\n",
    "train_score=cb.score(x_train, y_train)\n",
    "test_score=cb.score(x_test, y_test)\n",
    "f_1=f1_score(y_test, y_pred)"
   ]
  },
  {
   "cell_type": "code",
   "execution_count": 8,
   "id": "b89db418",
   "metadata": {},
   "outputs": [],
   "source": [
    "from sklearn.model_selection import StratifiedKFold\n",
    "\n",
    "n_fold=10\n",
    "skf=StratifiedKFold(n_splits=n_fold, shuffle=True, random_state=42)"
   ]
  },
  {
   "cell_type": "code",
   "execution_count": 12,
   "id": "0199a35c",
   "metadata": {},
   "outputs": [],
   "source": [
    "x_train=x_train.reset_index()\n",
    "y_train=y_train.reset_index()\n",
    "x_train.drop(\"index\", axis=1, inplace=True)\n",
    "y_train.drop(\"index\", axis=1, inplace=True)"
   ]
  },
  {
   "cell_type": "code",
   "execution_count": 23,
   "id": "6789e03e",
   "metadata": {},
   "outputs": [],
   "source": [
    "%%time\n",
    "f1_list=[]\n",
    "cnt=0\n",
    "\n",
    "for train_idx, val_idx in skf.split(x_train, y_train):\n",
    "    cnt+=1\n",
    "    x_tn, x_val=x_train.loc[train_idx], x_train.loc[val_idx]\n",
    "    y_tn, y_val=y_train.loc[train_idx], y_train.loc[val_idx]\n",
    "    cb.fit(x_tn, y_tn)\n",
    "    pred=cb.predict(x_val)\n",
    "    f_1=f1_score(y_val, pred)\n",
    "    f1_list.append(f_1)\n",
    "    print(\"-------------------------------------\")\n",
    "    print(f\"교차검증횟수 {cnt}\")\n",
    "    print(f\"f1_score {f_1}\")"
   ]
  },
  {
   "cell_type": "code",
   "execution_count": 20,
   "id": "654525ea",
   "metadata": {},
   "outputs": [
    {
     "name": "stdout",
     "output_type": "stream",
     "text": [
      "[0.6838903145814711, 0.6819795123358823, 0.6827081586025393, 0.6825030306528892, 0.6861027886609818, 0.6850914528931324, 0.6812876451770944, 0.6760098450846966, 0.6798197469524524, 0.6805699780777663]\n"
     ]
    }
   ],
   "source": [
    "print(f1_list)"
   ]
  },
  {
   "cell_type": "code",
   "execution_count": 21,
   "id": "b0743b75",
   "metadata": {},
   "outputs": [],
   "source": [
    "y_pred=cb.predict(x_test)\n",
    "f_1=f1_score(y_test, y_pred)"
   ]
  },
  {
   "cell_type": "code",
   "execution_count": 22,
   "id": "df6cd892",
   "metadata": {},
   "outputs": [
    {
     "name": "stdout",
     "output_type": "stream",
     "text": [
      "f1_score: 0.6831541878610721\n"
     ]
    }
   ],
   "source": [
    "print(f\"f1_score: {f_1}\")"
   ]
  },
  {
   "cell_type": "markdown",
   "id": "d3009ef7",
   "metadata": {},
   "source": [
    "TEST_SCORE도 똑같이 다듬어주고 모델링해서 실제로 제출해보기\n",
    "--"
   ]
  },
  {
   "cell_type": "code",
   "execution_count": 139,
   "id": "45be8286",
   "metadata": {},
   "outputs": [],
   "source": [
    "train=pd.read_csv(\"C:/Users/bella/Desktop/SelfStudy/데이콘/Jobcare_data/train_1.csv\")"
   ]
  },
  {
   "cell_type": "code",
   "execution_count": 140,
   "id": "34bcd301",
   "metadata": {},
   "outputs": [],
   "source": [
    "test=pd.read_csv(\"C:/Users/bella/Desktop/SelfStudy/데이콘/Jobcare_data/test.csv\", parse_dates=[\"contents_open_dt\"])\n",
    "D=pd.read_csv(\"C:/Users/bella/Desktop/SelfStudy/데이콘/Jobcare_data/속성_D_코드.csv\")\n",
    "H=pd.read_csv(\"C:/Users/bella/Desktop/SelfStudy/데이콘/Jobcare_data/속성_H_코드.csv\")\n",
    "L=pd.read_csv(\"C:/Users/bella/Desktop/SelfStudy/데이콘/Jobcare_data/속성_L_코드.csv\")\n",
    "sub=pd.read_csv(\"C:/Users/bella/Desktop/SelfStudy/데이콘/Jobcare_data/sample_submission.csv\")"
   ]
  },
  {
   "cell_type": "code",
   "execution_count": 141,
   "id": "5ecd8d79",
   "metadata": {},
   "outputs": [
    {
     "data": {
      "text/html": [
       "<div>\n",
       "<style scoped>\n",
       "    .dataframe tbody tr th:only-of-type {\n",
       "        vertical-align: middle;\n",
       "    }\n",
       "\n",
       "    .dataframe tbody tr th {\n",
       "        vertical-align: top;\n",
       "    }\n",
       "\n",
       "    .dataframe thead th {\n",
       "        text-align: right;\n",
       "    }\n",
       "</style>\n",
       "<table border=\"1\" class=\"dataframe\">\n",
       "  <thead>\n",
       "    <tr style=\"text-align: right;\">\n",
       "      <th></th>\n",
       "      <th>id</th>\n",
       "      <th>d_l_match_yn</th>\n",
       "      <th>d_m_match_yn</th>\n",
       "      <th>d_s_match_yn</th>\n",
       "      <th>h_l_match_yn</th>\n",
       "      <th>h_m_match_yn</th>\n",
       "      <th>h_s_match_yn</th>\n",
       "      <th>person_attribute_a</th>\n",
       "      <th>person_attribute_a_1</th>\n",
       "      <th>person_attribute_b</th>\n",
       "      <th>...</th>\n",
       "      <th>속성 D 소분류코드_y</th>\n",
       "      <th>속성 D 중분류코드_y</th>\n",
       "      <th>속성 D 대분류코드_y</th>\n",
       "      <th>속성 H 중분류코드_y</th>\n",
       "      <th>속성 H 대분류코드_y</th>\n",
       "      <th>속성 L 코드</th>\n",
       "      <th>속성 L 세분류코드</th>\n",
       "      <th>속성 L 소분류코드</th>\n",
       "      <th>속성 L 중분류코드</th>\n",
       "      <th>속성 L 대분류코드</th>\n",
       "    </tr>\n",
       "  </thead>\n",
       "  <tbody>\n",
       "    <tr>\n",
       "      <th>0</th>\n",
       "      <td>0</td>\n",
       "      <td>1</td>\n",
       "      <td>1</td>\n",
       "      <td>1</td>\n",
       "      <td>2</td>\n",
       "      <td>2</td>\n",
       "      <td>2</td>\n",
       "      <td>1</td>\n",
       "      <td>4</td>\n",
       "      <td>3</td>\n",
       "      <td>...</td>\n",
       "      <td>274</td>\n",
       "      <td>274</td>\n",
       "      <td>216</td>\n",
       "      <td>422</td>\n",
       "      <td>94</td>\n",
       "      <td>1608</td>\n",
       "      <td>1607</td>\n",
       "      <td>1606</td>\n",
       "      <td>1605</td>\n",
       "      <td>2016</td>\n",
       "    </tr>\n",
       "    <tr>\n",
       "      <th>1</th>\n",
       "      <td>331621</td>\n",
       "      <td>1</td>\n",
       "      <td>1</td>\n",
       "      <td>1</td>\n",
       "      <td>2</td>\n",
       "      <td>2</td>\n",
       "      <td>2</td>\n",
       "      <td>1</td>\n",
       "      <td>7</td>\n",
       "      <td>3</td>\n",
       "      <td>...</td>\n",
       "      <td>274</td>\n",
       "      <td>274</td>\n",
       "      <td>216</td>\n",
       "      <td>422</td>\n",
       "      <td>94</td>\n",
       "      <td>1608</td>\n",
       "      <td>1607</td>\n",
       "      <td>1606</td>\n",
       "      <td>1605</td>\n",
       "      <td>2016</td>\n",
       "    </tr>\n",
       "    <tr>\n",
       "      <th>2</th>\n",
       "      <td>133244</td>\n",
       "      <td>1</td>\n",
       "      <td>1</td>\n",
       "      <td>1</td>\n",
       "      <td>2</td>\n",
       "      <td>2</td>\n",
       "      <td>2</td>\n",
       "      <td>1</td>\n",
       "      <td>6</td>\n",
       "      <td>5</td>\n",
       "      <td>...</td>\n",
       "      <td>274</td>\n",
       "      <td>274</td>\n",
       "      <td>216</td>\n",
       "      <td>422</td>\n",
       "      <td>94</td>\n",
       "      <td>1608</td>\n",
       "      <td>1607</td>\n",
       "      <td>1606</td>\n",
       "      <td>1605</td>\n",
       "      <td>2016</td>\n",
       "    </tr>\n",
       "    <tr>\n",
       "      <th>3</th>\n",
       "      <td>37130</td>\n",
       "      <td>2</td>\n",
       "      <td>2</td>\n",
       "      <td>2</td>\n",
       "      <td>1</td>\n",
       "      <td>1</td>\n",
       "      <td>1</td>\n",
       "      <td>1</td>\n",
       "      <td>4</td>\n",
       "      <td>2</td>\n",
       "      <td>...</td>\n",
       "      <td>274</td>\n",
       "      <td>274</td>\n",
       "      <td>216</td>\n",
       "      <td>422</td>\n",
       "      <td>94</td>\n",
       "      <td>1608</td>\n",
       "      <td>1607</td>\n",
       "      <td>1606</td>\n",
       "      <td>1605</td>\n",
       "      <td>2016</td>\n",
       "    </tr>\n",
       "    <tr>\n",
       "      <th>4</th>\n",
       "      <td>202316</td>\n",
       "      <td>1</td>\n",
       "      <td>2</td>\n",
       "      <td>2</td>\n",
       "      <td>1</td>\n",
       "      <td>2</td>\n",
       "      <td>2</td>\n",
       "      <td>1</td>\n",
       "      <td>3</td>\n",
       "      <td>4</td>\n",
       "      <td>...</td>\n",
       "      <td>274</td>\n",
       "      <td>274</td>\n",
       "      <td>216</td>\n",
       "      <td>422</td>\n",
       "      <td>94</td>\n",
       "      <td>1608</td>\n",
       "      <td>1607</td>\n",
       "      <td>1606</td>\n",
       "      <td>1605</td>\n",
       "      <td>2016</td>\n",
       "    </tr>\n",
       "    <tr>\n",
       "      <th>...</th>\n",
       "      <td>...</td>\n",
       "      <td>...</td>\n",
       "      <td>...</td>\n",
       "      <td>...</td>\n",
       "      <td>...</td>\n",
       "      <td>...</td>\n",
       "      <td>...</td>\n",
       "      <td>...</td>\n",
       "      <td>...</td>\n",
       "      <td>...</td>\n",
       "      <td>...</td>\n",
       "      <td>...</td>\n",
       "      <td>...</td>\n",
       "      <td>...</td>\n",
       "      <td>...</td>\n",
       "      <td>...</td>\n",
       "      <td>...</td>\n",
       "      <td>...</td>\n",
       "      <td>...</td>\n",
       "      <td>...</td>\n",
       "      <td>...</td>\n",
       "    </tr>\n",
       "    <tr>\n",
       "      <th>501946</th>\n",
       "      <td>461455</td>\n",
       "      <td>2</td>\n",
       "      <td>2</td>\n",
       "      <td>2</td>\n",
       "      <td>2</td>\n",
       "      <td>2</td>\n",
       "      <td>2</td>\n",
       "      <td>2</td>\n",
       "      <td>0</td>\n",
       "      <td>3</td>\n",
       "      <td>...</td>\n",
       "      <td>677</td>\n",
       "      <td>659</td>\n",
       "      <td>618</td>\n",
       "      <td>444</td>\n",
       "      <td>149</td>\n",
       "      <td>1863</td>\n",
       "      <td>1863</td>\n",
       "      <td>1853</td>\n",
       "      <td>1852</td>\n",
       "      <td>2021</td>\n",
       "    </tr>\n",
       "    <tr>\n",
       "      <th>501947</th>\n",
       "      <td>352731</td>\n",
       "      <td>1</td>\n",
       "      <td>1</td>\n",
       "      <td>1</td>\n",
       "      <td>2</td>\n",
       "      <td>2</td>\n",
       "      <td>2</td>\n",
       "      <td>1</td>\n",
       "      <td>6</td>\n",
       "      <td>2</td>\n",
       "      <td>...</td>\n",
       "      <td>847</td>\n",
       "      <td>824</td>\n",
       "      <td>744</td>\n",
       "      <td>490</td>\n",
       "      <td>208</td>\n",
       "      <td>67</td>\n",
       "      <td>67</td>\n",
       "      <td>67</td>\n",
       "      <td>67</td>\n",
       "      <td>2005</td>\n",
       "    </tr>\n",
       "    <tr>\n",
       "      <th>501948</th>\n",
       "      <td>224676</td>\n",
       "      <td>1</td>\n",
       "      <td>1</td>\n",
       "      <td>1</td>\n",
       "      <td>2</td>\n",
       "      <td>2</td>\n",
       "      <td>2</td>\n",
       "      <td>1</td>\n",
       "      <td>4</td>\n",
       "      <td>2</td>\n",
       "      <td>...</td>\n",
       "      <td>847</td>\n",
       "      <td>824</td>\n",
       "      <td>744</td>\n",
       "      <td>490</td>\n",
       "      <td>208</td>\n",
       "      <td>67</td>\n",
       "      <td>67</td>\n",
       "      <td>67</td>\n",
       "      <td>67</td>\n",
       "      <td>2005</td>\n",
       "    </tr>\n",
       "    <tr>\n",
       "      <th>501949</th>\n",
       "      <td>313755</td>\n",
       "      <td>2</td>\n",
       "      <td>2</td>\n",
       "      <td>2</td>\n",
       "      <td>1</td>\n",
       "      <td>2</td>\n",
       "      <td>2</td>\n",
       "      <td>2</td>\n",
       "      <td>6</td>\n",
       "      <td>2</td>\n",
       "      <td>...</td>\n",
       "      <td>847</td>\n",
       "      <td>824</td>\n",
       "      <td>744</td>\n",
       "      <td>490</td>\n",
       "      <td>208</td>\n",
       "      <td>67</td>\n",
       "      <td>67</td>\n",
       "      <td>67</td>\n",
       "      <td>67</td>\n",
       "      <td>2005</td>\n",
       "    </tr>\n",
       "    <tr>\n",
       "      <th>501950</th>\n",
       "      <td>165817</td>\n",
       "      <td>1</td>\n",
       "      <td>1</td>\n",
       "      <td>1</td>\n",
       "      <td>2</td>\n",
       "      <td>2</td>\n",
       "      <td>2</td>\n",
       "      <td>1</td>\n",
       "      <td>3</td>\n",
       "      <td>4</td>\n",
       "      <td>...</td>\n",
       "      <td>490</td>\n",
       "      <td>482</td>\n",
       "      <td>482</td>\n",
       "      <td>378</td>\n",
       "      <td>58</td>\n",
       "      <td>871</td>\n",
       "      <td>871</td>\n",
       "      <td>870</td>\n",
       "      <td>869</td>\n",
       "      <td>2007</td>\n",
       "    </tr>\n",
       "  </tbody>\n",
       "</table>\n",
       "<p>501951 rows × 61 columns</p>\n",
       "</div>"
      ],
      "text/plain": [
       "            id  d_l_match_yn  d_m_match_yn  d_s_match_yn  h_l_match_yn  \\\n",
       "0            0             1             1             1             2   \n",
       "1       331621             1             1             1             2   \n",
       "2       133244             1             1             1             2   \n",
       "3        37130             2             2             2             1   \n",
       "4       202316             1             2             2             1   \n",
       "...        ...           ...           ...           ...           ...   \n",
       "501946  461455             2             2             2             2   \n",
       "501947  352731             1             1             1             2   \n",
       "501948  224676             1             1             1             2   \n",
       "501949  313755             2             2             2             1   \n",
       "501950  165817             1             1             1             2   \n",
       "\n",
       "        h_m_match_yn  h_s_match_yn  person_attribute_a  person_attribute_a_1  \\\n",
       "0                  2             2                   1                     4   \n",
       "1                  2             2                   1                     7   \n",
       "2                  2             2                   1                     6   \n",
       "3                  1             1                   1                     4   \n",
       "4                  2             2                   1                     3   \n",
       "...              ...           ...                 ...                   ...   \n",
       "501946             2             2                   2                     0   \n",
       "501947             2             2                   1                     6   \n",
       "501948             2             2                   1                     4   \n",
       "501949             2             2                   2                     6   \n",
       "501950             2             2                   1                     3   \n",
       "\n",
       "        person_attribute_b  ...  속성 D 소분류코드_y  속성 D 중분류코드_y  속성 D 대분류코드_y  \\\n",
       "0                        3  ...           274           274           216   \n",
       "1                        3  ...           274           274           216   \n",
       "2                        5  ...           274           274           216   \n",
       "3                        2  ...           274           274           216   \n",
       "4                        4  ...           274           274           216   \n",
       "...                    ...  ...           ...           ...           ...   \n",
       "501946                   3  ...           677           659           618   \n",
       "501947                   2  ...           847           824           744   \n",
       "501948                   2  ...           847           824           744   \n",
       "501949                   2  ...           847           824           744   \n",
       "501950                   4  ...           490           482           482   \n",
       "\n",
       "        속성 H 중분류코드_y  속성 H 대분류코드_y  속성 L 코드  속성 L 세분류코드  속성 L 소분류코드  \\\n",
       "0                422            94     1608        1607        1606   \n",
       "1                422            94     1608        1607        1606   \n",
       "2                422            94     1608        1607        1606   \n",
       "3                422            94     1608        1607        1606   \n",
       "4                422            94     1608        1607        1606   \n",
       "...              ...           ...      ...         ...         ...   \n",
       "501946           444           149     1863        1863        1853   \n",
       "501947           490           208       67          67          67   \n",
       "501948           490           208       67          67          67   \n",
       "501949           490           208       67          67          67   \n",
       "501950           378            58      871         871         870   \n",
       "\n",
       "        속성 L 중분류코드  속성 L 대분류코드  \n",
       "0             1605        2016  \n",
       "1             1605        2016  \n",
       "2             1605        2016  \n",
       "3             1605        2016  \n",
       "4             1605        2016  \n",
       "...            ...         ...  \n",
       "501946        1852        2021  \n",
       "501947          67        2005  \n",
       "501948          67        2005  \n",
       "501949          67        2005  \n",
       "501950         869        2007  \n",
       "\n",
       "[501951 rows x 61 columns]"
      ]
     },
     "execution_count": 141,
     "metadata": {},
     "output_type": "execute_result"
    }
   ],
   "source": [
    "train"
   ]
  },
  {
   "cell_type": "code",
   "execution_count": 142,
   "id": "20415032",
   "metadata": {},
   "outputs": [
    {
     "data": {
      "text/plain": [
       "id                        0\n",
       "d_l_match_yn              0\n",
       "d_m_match_yn              0\n",
       "d_s_match_yn              0\n",
       "h_l_match_yn              0\n",
       "h_m_match_yn              0\n",
       "h_s_match_yn              0\n",
       "person_attribute_a        0\n",
       "person_attribute_a_1      0\n",
       "person_attribute_b        0\n",
       "person_prefer_c           0\n",
       "person_prefer_d_1         0\n",
       "person_prefer_d_2         0\n",
       "person_prefer_d_3         0\n",
       "person_prefer_e           0\n",
       "person_prefer_f           0\n",
       "person_prefer_g           0\n",
       "person_prefer_h_1         0\n",
       "person_prefer_h_2         0\n",
       "person_prefer_h_3         0\n",
       "contents_attribute_i      0\n",
       "contents_attribute_a      0\n",
       "contents_attribute_j_1    0\n",
       "contents_attribute_j      0\n",
       "contents_attribute_c      0\n",
       "contents_attribute_k      0\n",
       "contents_attribute_l      0\n",
       "contents_attribute_d      0\n",
       "contents_attribute_m      0\n",
       "contents_attribute_e      0\n",
       "contents_attribute_h      0\n",
       "person_rn                 0\n",
       "contents_rn               0\n",
       "contents_open_dt          0\n",
       "dtype: int64"
      ]
     },
     "execution_count": 142,
     "metadata": {},
     "output_type": "execute_result"
    }
   ],
   "source": [
    "test.isna().sum()"
   ]
  },
  {
   "cell_type": "code",
   "execution_count": 143,
   "id": "883ee130",
   "metadata": {},
   "outputs": [],
   "source": [
    "for i in range(1,7):\n",
    "    name=test.columns[i]\n",
    "    test[name]=test[name].apply(lambda x:1 if x==True else 2)"
   ]
  },
  {
   "cell_type": "code",
   "execution_count": 144,
   "id": "cce2c143",
   "metadata": {},
   "outputs": [],
   "source": [
    "test[\"time\"]=test[\"contents_open_dt\"].dt.strftime(\"%m%d%H\")\n",
    "test[\"month\"]=test[\"contents_open_dt\"].dt.strftime(\"%m\")\n",
    "test[\"date\"]=test[\"contents_open_dt\"].dt.strftime(\"%d\")\n",
    "test[\"hour\"]=test[\"contents_open_dt\"].dt.strftime(\"%H\")\n",
    "test[\"day\"]=test[\"contents_open_dt\"].dt.strftime(\"%A\")\n",
    "\n",
    "test[\"time\"]=test[\"time\"].astype(int)\n",
    "test[\"month\"]=test[\"month\"].astype(int)\n",
    "test[\"date\"]=test[\"date\"].astype(int)\n",
    "test[\"hour\"]=test[\"hour\"].astype(int)"
   ]
  },
  {
   "cell_type": "code",
   "execution_count": 145,
   "id": "12730e49",
   "metadata": {},
   "outputs": [],
   "source": [
    "test[\"속성 D 코드\"]=test[\"contents_attribute_d\"]\n",
    "test[\"속성 H 코드\"]=test[\"contents_attribute_h\"]\n",
    "test[\"속성 L 코드\"]=test[\"contents_attribute_l\"]\n",
    "\n",
    "test=pd.merge(test, D, how='inner', on='속성 D 코드')\n",
    "test=pd.merge(test, H, how='inner', on='속성 H 코드')\n",
    "test=pd.merge(test, L, how='inner', on='속성 L 코드')"
   ]
  },
  {
   "cell_type": "code",
   "execution_count": 146,
   "id": "0712d6b0",
   "metadata": {},
   "outputs": [],
   "source": [
    "train.drop(['match_yn', 'match_yn_d', 'match_yn_h'], axis=1, inplace=True)"
   ]
  },
  {
   "cell_type": "code",
   "execution_count": 147,
   "id": "8a8b64e5",
   "metadata": {},
   "outputs": [
    {
     "data": {
      "text/plain": [
       "{'target',\n",
       " '속성 D 대분류코드_x',\n",
       " '속성 D 대분류코드_y',\n",
       " '속성 D 세분류코드_x',\n",
       " '속성 D 세분류코드_y',\n",
       " '속성 D 소분류코드_x',\n",
       " '속성 D 소분류코드_y',\n",
       " '속성 D 중분류코드_x',\n",
       " '속성 D 중분류코드_y',\n",
       " '속성 H 대분류코드_x',\n",
       " '속성 H 대분류코드_y',\n",
       " '속성 H 중분류코드_x',\n",
       " '속성 H 중분류코드_y'}"
      ]
     },
     "execution_count": 147,
     "metadata": {},
     "output_type": "execute_result"
    }
   ],
   "source": [
    "set(train.columns)-set(test.columns)"
   ]
  },
  {
   "cell_type": "code",
   "execution_count": 148,
   "id": "da41f06e",
   "metadata": {},
   "outputs": [],
   "source": [
    "train_2=train.copy()\n",
    "train_2.drop(['속성 D 대분류코드_x',\n",
    " '속성 D 대분류코드_y',\n",
    " '속성 D 세분류코드_x',\n",
    " '속성 D 세분류코드_y',\n",
    " '속성 D 소분류코드_x',\n",
    " '속성 D 소분류코드_y',\n",
    " '속성 D 중분류코드_x',\n",
    " '속성 D 중분류코드_y',\n",
    " '속성 H 대분류코드_x',\n",
    " '속성 H 대분류코드_y',\n",
    " '속성 H 중분류코드_x',\n",
    " '속성 H 중분류코드_y'], axis=1, inplace=True)"
   ]
  },
  {
   "cell_type": "code",
   "execution_count": 149,
   "id": "6cad1a0f",
   "metadata": {},
   "outputs": [],
   "source": [
    "test.drop(\"contents_open_dt\", axis=1, inplace=True)"
   ]
  },
  {
   "cell_type": "code",
   "execution_count": 150,
   "id": "dc63aad2",
   "metadata": {},
   "outputs": [],
   "source": [
    "from sklearn.preprocessing import LabelEncoder\n",
    "le=LabelEncoder()\n",
    "\n",
    "test[\"day\"]=le.fit_transform(test[\"day\"])"
   ]
  },
  {
   "cell_type": "code",
   "execution_count": 151,
   "id": "a47ae2e1",
   "metadata": {},
   "outputs": [],
   "source": [
    "x_train=train_2.drop('target', axis=1)\n",
    "y_train=train_2[\"target\"]"
   ]
  },
  {
   "cell_type": "code",
   "execution_count": 152,
   "id": "e512d461",
   "metadata": {},
   "outputs": [],
   "source": [
    "cb = CatBoostClassifier(random_state=42)"
   ]
  },
  {
   "cell_type": "code",
   "execution_count": 166,
   "id": "dfb1809b",
   "metadata": {},
   "outputs": [],
   "source": [
    "cb.fit(x_train, y_train)\n",
    "y_pred=cb.predict(x_train)\n",
    "train_score=cb.score(x_train, y_train)\n",
    "f_1=f1_score(y_train, y_pred)"
   ]
  },
  {
   "cell_type": "code",
   "execution_count": 154,
   "id": "58f3dcc2",
   "metadata": {},
   "outputs": [
    {
     "name": "stdout",
     "output_type": "stream",
     "text": [
      "train_score 0.751740707758327\n",
      "f1_score 0.7140818377470527\n"
     ]
    }
   ],
   "source": [
    "print(\"train_score\", train_score)\n",
    "print(\"f1_score\", f_1)"
   ]
  },
  {
   "cell_type": "code",
   "execution_count": 155,
   "id": "080629d6",
   "metadata": {},
   "outputs": [
    {
     "data": {
      "text/plain": [
       "array([[221725,  29381],\n",
       "       [ 95233, 155612]], dtype=int64)"
      ]
     },
     "execution_count": 155,
     "metadata": {},
     "output_type": "execute_result"
    }
   ],
   "source": [
    "from sklearn.metrics import confusion_matrix\n",
    "confusion_matrix(y_train, y_pred)"
   ]
  },
  {
   "cell_type": "code",
   "execution_count": 156,
   "id": "fdda7ba6",
   "metadata": {},
   "outputs": [
    {
     "name": "stdout",
     "output_type": "stream",
     "text": [
      "              precision    recall  f1-score   support\n",
      "\n",
      "           0       0.70      0.88      0.78    251106\n",
      "           1       0.84      0.62      0.71    250845\n",
      "\n",
      "    accuracy                           0.75    501951\n",
      "   macro avg       0.77      0.75      0.75    501951\n",
      "weighted avg       0.77      0.75      0.75    501951\n",
      "\n"
     ]
    }
   ],
   "source": [
    "from sklearn.metrics import classification_report\n",
    "auc_roc=classification_report(y_train, y_pred)\n",
    "print(auc_roc)"
   ]
  },
  {
   "cell_type": "code",
   "execution_count": 157,
   "id": "bb4a83a2",
   "metadata": {},
   "outputs": [],
   "source": [
    "pred=cb.predict(test)"
   ]
  },
  {
   "cell_type": "code",
   "execution_count": 158,
   "id": "5c2aceae",
   "metadata": {},
   "outputs": [
    {
     "data": {
      "text/plain": [
       "array([0, 0, 0, ..., 1, 0, 1], dtype=int64)"
      ]
     },
     "execution_count": 158,
     "metadata": {},
     "output_type": "execute_result"
    }
   ],
   "source": [
    "pred"
   ]
  },
  {
   "cell_type": "code",
   "execution_count": 159,
   "id": "091eacbb",
   "metadata": {},
   "outputs": [
    {
     "data": {
      "text/html": [
       "<div>\n",
       "<style scoped>\n",
       "    .dataframe tbody tr th:only-of-type {\n",
       "        vertical-align: middle;\n",
       "    }\n",
       "\n",
       "    .dataframe tbody tr th {\n",
       "        vertical-align: top;\n",
       "    }\n",
       "\n",
       "    .dataframe thead th {\n",
       "        text-align: right;\n",
       "    }\n",
       "</style>\n",
       "<table border=\"1\" class=\"dataframe\">\n",
       "  <thead>\n",
       "    <tr style=\"text-align: right;\">\n",
       "      <th></th>\n",
       "      <th>id</th>\n",
       "      <th>target</th>\n",
       "    </tr>\n",
       "  </thead>\n",
       "  <tbody>\n",
       "    <tr>\n",
       "      <th>0</th>\n",
       "      <td>0</td>\n",
       "      <td>0</td>\n",
       "    </tr>\n",
       "    <tr>\n",
       "      <th>1</th>\n",
       "      <td>1</td>\n",
       "      <td>0</td>\n",
       "    </tr>\n",
       "    <tr>\n",
       "      <th>2</th>\n",
       "      <td>2</td>\n",
       "      <td>0</td>\n",
       "    </tr>\n",
       "    <tr>\n",
       "      <th>3</th>\n",
       "      <td>3</td>\n",
       "      <td>0</td>\n",
       "    </tr>\n",
       "    <tr>\n",
       "      <th>4</th>\n",
       "      <td>4</td>\n",
       "      <td>0</td>\n",
       "    </tr>\n",
       "    <tr>\n",
       "      <th>...</th>\n",
       "      <td>...</td>\n",
       "      <td>...</td>\n",
       "    </tr>\n",
       "    <tr>\n",
       "      <th>46399</th>\n",
       "      <td>46399</td>\n",
       "      <td>0</td>\n",
       "    </tr>\n",
       "    <tr>\n",
       "      <th>46400</th>\n",
       "      <td>46400</td>\n",
       "      <td>0</td>\n",
       "    </tr>\n",
       "    <tr>\n",
       "      <th>46401</th>\n",
       "      <td>46401</td>\n",
       "      <td>0</td>\n",
       "    </tr>\n",
       "    <tr>\n",
       "      <th>46402</th>\n",
       "      <td>46402</td>\n",
       "      <td>0</td>\n",
       "    </tr>\n",
       "    <tr>\n",
       "      <th>46403</th>\n",
       "      <td>46403</td>\n",
       "      <td>0</td>\n",
       "    </tr>\n",
       "  </tbody>\n",
       "</table>\n",
       "<p>46404 rows × 2 columns</p>\n",
       "</div>"
      ],
      "text/plain": [
       "          id  target\n",
       "0          0       0\n",
       "1          1       0\n",
       "2          2       0\n",
       "3          3       0\n",
       "4          4       0\n",
       "...      ...     ...\n",
       "46399  46399       0\n",
       "46400  46400       0\n",
       "46401  46401       0\n",
       "46402  46402       0\n",
       "46403  46403       0\n",
       "\n",
       "[46404 rows x 2 columns]"
      ]
     },
     "execution_count": 159,
     "metadata": {},
     "output_type": "execute_result"
    }
   ],
   "source": [
    "sub"
   ]
  },
  {
   "cell_type": "code",
   "execution_count": 160,
   "id": "edd280ee",
   "metadata": {},
   "outputs": [],
   "source": [
    "df_pred=pd.DataFrame(pred, columns=['target'])"
   ]
  },
  {
   "cell_type": "code",
   "execution_count": 161,
   "id": "245625da",
   "metadata": {},
   "outputs": [],
   "source": [
    "sub.drop(\"target\", axis=1, inplace=True)"
   ]
  },
  {
   "cell_type": "code",
   "execution_count": 162,
   "id": "9268f085",
   "metadata": {},
   "outputs": [],
   "source": [
    "sub=pd.concat([sub, df_pred], axis=1)"
   ]
  },
  {
   "cell_type": "code",
   "execution_count": 163,
   "id": "76462538",
   "metadata": {},
   "outputs": [
    {
     "data": {
      "text/html": [
       "<div>\n",
       "<style scoped>\n",
       "    .dataframe tbody tr th:only-of-type {\n",
       "        vertical-align: middle;\n",
       "    }\n",
       "\n",
       "    .dataframe tbody tr th {\n",
       "        vertical-align: top;\n",
       "    }\n",
       "\n",
       "    .dataframe thead th {\n",
       "        text-align: right;\n",
       "    }\n",
       "</style>\n",
       "<table border=\"1\" class=\"dataframe\">\n",
       "  <thead>\n",
       "    <tr style=\"text-align: right;\">\n",
       "      <th></th>\n",
       "      <th>id</th>\n",
       "      <th>target</th>\n",
       "    </tr>\n",
       "  </thead>\n",
       "  <tbody>\n",
       "    <tr>\n",
       "      <th>0</th>\n",
       "      <td>0</td>\n",
       "      <td>0</td>\n",
       "    </tr>\n",
       "    <tr>\n",
       "      <th>1</th>\n",
       "      <td>1</td>\n",
       "      <td>0</td>\n",
       "    </tr>\n",
       "    <tr>\n",
       "      <th>2</th>\n",
       "      <td>2</td>\n",
       "      <td>0</td>\n",
       "    </tr>\n",
       "    <tr>\n",
       "      <th>3</th>\n",
       "      <td>3</td>\n",
       "      <td>0</td>\n",
       "    </tr>\n",
       "    <tr>\n",
       "      <th>4</th>\n",
       "      <td>4</td>\n",
       "      <td>0</td>\n",
       "    </tr>\n",
       "    <tr>\n",
       "      <th>...</th>\n",
       "      <td>...</td>\n",
       "      <td>...</td>\n",
       "    </tr>\n",
       "    <tr>\n",
       "      <th>46399</th>\n",
       "      <td>46399</td>\n",
       "      <td>0</td>\n",
       "    </tr>\n",
       "    <tr>\n",
       "      <th>46400</th>\n",
       "      <td>46400</td>\n",
       "      <td>0</td>\n",
       "    </tr>\n",
       "    <tr>\n",
       "      <th>46401</th>\n",
       "      <td>46401</td>\n",
       "      <td>1</td>\n",
       "    </tr>\n",
       "    <tr>\n",
       "      <th>46402</th>\n",
       "      <td>46402</td>\n",
       "      <td>0</td>\n",
       "    </tr>\n",
       "    <tr>\n",
       "      <th>46403</th>\n",
       "      <td>46403</td>\n",
       "      <td>1</td>\n",
       "    </tr>\n",
       "  </tbody>\n",
       "</table>\n",
       "<p>46404 rows × 2 columns</p>\n",
       "</div>"
      ],
      "text/plain": [
       "          id  target\n",
       "0          0       0\n",
       "1          1       0\n",
       "2          2       0\n",
       "3          3       0\n",
       "4          4       0\n",
       "...      ...     ...\n",
       "46399  46399       0\n",
       "46400  46400       0\n",
       "46401  46401       1\n",
       "46402  46402       0\n",
       "46403  46403       1\n",
       "\n",
       "[46404 rows x 2 columns]"
      ]
     },
     "execution_count": 163,
     "metadata": {},
     "output_type": "execute_result"
    }
   ],
   "source": [
    "sub"
   ]
  },
  {
   "cell_type": "code",
   "execution_count": 164,
   "id": "175a4067",
   "metadata": {},
   "outputs": [],
   "source": [
    "#sub.to_csv(\"C:/Users/bella/Desktop/SelfStudy/데이콘/Jobcare_data/sub_2.csv\", index=False)"
   ]
  },
  {
   "cell_type": "code",
   "execution_count": 165,
   "id": "032efd56",
   "metadata": {},
   "outputs": [
    {
     "data": {
      "text/plain": [
       "<AxesSubplot:xlabel='target', ylabel='count'>"
      ]
     },
     "execution_count": 165,
     "metadata": {},
     "output_type": "execute_result"
    },
    {
     "data": {
      "image/png": "[encoded data removed]",
      "text/plain": [
       "<Figure size 432x288 with 1 Axes>"
      ]
     },
     "metadata": {
      "needs_background": "light"
     },
     "output_type": "display_data"
    }
   ],
   "source": [
    "import seaborn\n",
    "\n",
    "sns.countplot(sub['target'])"
   ]
  },
  {
   "cell_type": "markdown",
   "id": "d4c27938",
   "metadata": {},
   "source": [
    "To be continue\n",
    "--"
   ]
  }
 ],
 "metadata": {
  "kernelspec": {
   "display_name": "Python 3 (ipykernel)",
   "language": "python",
   "name": "python3"
  },
  "language_info": {
   "codemirror_mode": {
    "name": "ipython",
    "version": 3
   },
   "file_extension": ".py",
   "mimetype": "text/x-python",
   "name": "python",
   "nbconvert_exporter": "python",
   "pygments_lexer": "ipython3",
   "version": "3.9.7"
  }
 },
 "nbformat": 4,
 "nbformat_minor": 5
}
