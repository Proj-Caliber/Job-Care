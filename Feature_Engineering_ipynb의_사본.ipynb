{
  "cells": [
    {
      "cell_type": "markdown",
      "metadata": {
        "id": "view-in-github",
        "colab_type": "text"
      },
      "source": [
        "<a href=\"https://colab.research.google.com/github/Proj-Caliber/Job-Care/blob/Choiyonje/Feature_Engineering_ipynb%EC%9D%98_%EC%82%AC%EB%B3%B8.ipynb\" target=\"_parent\"><img src=\"https://colab.research.google.com/assets/colab-badge.svg\" alt=\"Open In Colab\"/></a>"
      ]
    },
    {
      "cell_type": "code",
      "execution_count": null,
      "metadata": {
        "id": "DXymTKNzvO62"
      },
      "outputs": [],
      "source": [
        "import numpy as np\n",
        "import pandas as pd\n",
        "import matplotlib.pyplot as plt\n",
        "import seaborn as sns\n",
        "import datetime\n",
        "\n",
        "import warnings\n",
        "warnings.filterwarnings('ignore')"
      ]
    },
    {
      "cell_type": "code",
      "source": [
        "from google.colab import drive\n",
        "drive.mount('/content/drive')"
      ],
      "metadata": {
        "colab": {
          "base_uri": "https://localhost:8080/"
        },
        "id": "w2GV4-fGkdVs",
        "outputId": "12e746cc-be0b-4782-951d-aa3fb1ef5cbd"
      },
      "execution_count": null,
      "outputs": [
        {
          "output_type": "stream",
          "name": "stdout",
          "text": [
            "Drive already mounted at /content/drive; to attempt to forcibly remount, call drive.mount(\"/content/drive\", force_remount=True).\n"
          ]
        }
      ]
    },
    {
      "cell_type": "code",
      "execution_count": null,
      "metadata": {
        "id": "KU4Ci4ABw4-z"
      },
      "outputs": [],
      "source": [
        "# 데이터 불러오기\n",
        "train = pd.read_csv('/content/drive/MyDrive/잡케어/train (5).csv')\n",
        "test = pd.read_csv('/content/drive/MyDrive/잡케어/test (2).csv')\n",
        "\n",
        "D_code = pd.read_csv('/content/drive/MyDrive/잡케어/속성_D_코드.csv', index_col = 0).T.to_dict()\n",
        "H_code = pd.read_csv('/content/drive/MyDrive/잡케어/속성_H_코드.csv', index_col = 0).T.to_dict()\n",
        "L_code = pd.read_csv('/content/drive/MyDrive/잡케어/속성_L_코드.csv', index_col = 0).T.to_dict()"
      ]
    },
    {
      "cell_type": "code",
      "execution_count": null,
      "metadata": {
        "colab": {
          "base_uri": "https://localhost:8080/",
          "height": 270
        },
        "id": "io9RA9tnAZn6",
        "outputId": "5dcc8af9-2234-42e2-c721-11f877dccf3e"
      },
      "outputs": [
        {
          "output_type": "execute_result",
          "data": {
            "text/html": [
              "\n",
              "  <div id=\"df-82ff39dd-3cd9-453f-93f2-6ae8518fe2cb\">\n",
              "    <div class=\"colab-df-container\">\n",
              "      <div>\n",
              "<style scoped>\n",
              "    .dataframe tbody tr th:only-of-type {\n",
              "        vertical-align: middle;\n",
              "    }\n",
              "\n",
              "    .dataframe tbody tr th {\n",
              "        vertical-align: top;\n",
              "    }\n",
              "\n",
              "    .dataframe thead th {\n",
              "        text-align: right;\n",
              "    }\n",
              "</style>\n",
              "<table border=\"1\" class=\"dataframe\">\n",
              "  <thead>\n",
              "    <tr style=\"text-align: right;\">\n",
              "      <th></th>\n",
              "      <th>id</th>\n",
              "      <th>d_l_match_yn</th>\n",
              "      <th>d_m_match_yn</th>\n",
              "      <th>d_s_match_yn</th>\n",
              "      <th>h_l_match_yn</th>\n",
              "      <th>h_m_match_yn</th>\n",
              "      <th>h_s_match_yn</th>\n",
              "      <th>person_attribute_a</th>\n",
              "      <th>person_attribute_a_1</th>\n",
              "      <th>person_attribute_b</th>\n",
              "      <th>person_prefer_c</th>\n",
              "      <th>person_prefer_d_1</th>\n",
              "      <th>person_prefer_d_2</th>\n",
              "      <th>person_prefer_d_3</th>\n",
              "      <th>person_prefer_e</th>\n",
              "      <th>person_prefer_f</th>\n",
              "      <th>person_prefer_g</th>\n",
              "      <th>person_prefer_h_1</th>\n",
              "      <th>person_prefer_h_2</th>\n",
              "      <th>person_prefer_h_3</th>\n",
              "      <th>contents_attribute_i</th>\n",
              "      <th>contents_attribute_a</th>\n",
              "      <th>contents_attribute_j_1</th>\n",
              "      <th>contents_attribute_j</th>\n",
              "      <th>contents_attribute_c</th>\n",
              "      <th>contents_attribute_k</th>\n",
              "      <th>contents_attribute_l</th>\n",
              "      <th>contents_attribute_d</th>\n",
              "      <th>contents_attribute_m</th>\n",
              "      <th>contents_attribute_e</th>\n",
              "      <th>contents_attribute_h</th>\n",
              "      <th>person_rn</th>\n",
              "      <th>contents_rn</th>\n",
              "      <th>contents_open_dt</th>\n",
              "      <th>target</th>\n",
              "    </tr>\n",
              "  </thead>\n",
              "  <tbody>\n",
              "    <tr>\n",
              "      <th>0</th>\n",
              "      <td>0</td>\n",
              "      <td>True</td>\n",
              "      <td>True</td>\n",
              "      <td>True</td>\n",
              "      <td>False</td>\n",
              "      <td>False</td>\n",
              "      <td>False</td>\n",
              "      <td>1</td>\n",
              "      <td>4</td>\n",
              "      <td>3</td>\n",
              "      <td>5</td>\n",
              "      <td>275</td>\n",
              "      <td>370</td>\n",
              "      <td>369</td>\n",
              "      <td>8</td>\n",
              "      <td>1</td>\n",
              "      <td>1</td>\n",
              "      <td>4</td>\n",
              "      <td>95</td>\n",
              "      <td>59</td>\n",
              "      <td>3</td>\n",
              "      <td>3</td>\n",
              "      <td>10</td>\n",
              "      <td>2</td>\n",
              "      <td>1</td>\n",
              "      <td>2</td>\n",
              "      <td>1608</td>\n",
              "      <td>275</td>\n",
              "      <td>1</td>\n",
              "      <td>4</td>\n",
              "      <td>139</td>\n",
              "      <td>618822</td>\n",
              "      <td>354805</td>\n",
              "      <td>2020-01-17 12:09:36</td>\n",
              "      <td>1</td>\n",
              "    </tr>\n",
              "    <tr>\n",
              "      <th>1</th>\n",
              "      <td>1</td>\n",
              "      <td>False</td>\n",
              "      <td>False</td>\n",
              "      <td>False</td>\n",
              "      <td>True</td>\n",
              "      <td>True</td>\n",
              "      <td>False</td>\n",
              "      <td>1</td>\n",
              "      <td>3</td>\n",
              "      <td>4</td>\n",
              "      <td>1</td>\n",
              "      <td>114</td>\n",
              "      <td>181</td>\n",
              "      <td>175</td>\n",
              "      <td>4</td>\n",
              "      <td>1</td>\n",
              "      <td>1</td>\n",
              "      <td>131</td>\n",
              "      <td>101</td>\n",
              "      <td>96</td>\n",
              "      <td>1</td>\n",
              "      <td>3</td>\n",
              "      <td>5</td>\n",
              "      <td>1</td>\n",
              "      <td>1</td>\n",
              "      <td>2</td>\n",
              "      <td>1608</td>\n",
              "      <td>275</td>\n",
              "      <td>1</td>\n",
              "      <td>4</td>\n",
              "      <td>133</td>\n",
              "      <td>571659</td>\n",
              "      <td>346213</td>\n",
              "      <td>2020-06-18 17:48:52</td>\n",
              "      <td>0</td>\n",
              "    </tr>\n",
              "    <tr>\n",
              "      <th>2</th>\n",
              "      <td>2</td>\n",
              "      <td>False</td>\n",
              "      <td>False</td>\n",
              "      <td>False</td>\n",
              "      <td>True</td>\n",
              "      <td>False</td>\n",
              "      <td>False</td>\n",
              "      <td>2</td>\n",
              "      <td>0</td>\n",
              "      <td>3</td>\n",
              "      <td>5</td>\n",
              "      <td>464</td>\n",
              "      <td>175</td>\n",
              "      <td>452</td>\n",
              "      <td>3</td>\n",
              "      <td>1</td>\n",
              "      <td>1</td>\n",
              "      <td>54</td>\n",
              "      <td>263</td>\n",
              "      <td>56</td>\n",
              "      <td>3</td>\n",
              "      <td>1</td>\n",
              "      <td>10</td>\n",
              "      <td>2</td>\n",
              "      <td>1</td>\n",
              "      <td>1</td>\n",
              "      <td>1600</td>\n",
              "      <td>94</td>\n",
              "      <td>1</td>\n",
              "      <td>4</td>\n",
              "      <td>53</td>\n",
              "      <td>399816</td>\n",
              "      <td>206408</td>\n",
              "      <td>2020-07-08 20:00:10</td>\n",
              "      <td>0</td>\n",
              "    </tr>\n",
              "    <tr>\n",
              "      <th>3</th>\n",
              "      <td>3</td>\n",
              "      <td>False</td>\n",
              "      <td>False</td>\n",
              "      <td>False</td>\n",
              "      <td>True</td>\n",
              "      <td>False</td>\n",
              "      <td>False</td>\n",
              "      <td>2</td>\n",
              "      <td>0</td>\n",
              "      <td>2</td>\n",
              "      <td>5</td>\n",
              "      <td>703</td>\n",
              "      <td>705</td>\n",
              "      <td>704</td>\n",
              "      <td>3</td>\n",
              "      <td>1</td>\n",
              "      <td>1</td>\n",
              "      <td>72</td>\n",
              "      <td>227</td>\n",
              "      <td>2</td>\n",
              "      <td>1</td>\n",
              "      <td>3</td>\n",
              "      <td>5</td>\n",
              "      <td>1</td>\n",
              "      <td>1</td>\n",
              "      <td>2</td>\n",
              "      <td>1608</td>\n",
              "      <td>275</td>\n",
              "      <td>5</td>\n",
              "      <td>3</td>\n",
              "      <td>74</td>\n",
              "      <td>827967</td>\n",
              "      <td>572323</td>\n",
              "      <td>2020-01-13 18:09:34</td>\n",
              "      <td>0</td>\n",
              "    </tr>\n",
              "    <tr>\n",
              "      <th>4</th>\n",
              "      <td>4</td>\n",
              "      <td>True</td>\n",
              "      <td>True</td>\n",
              "      <td>True</td>\n",
              "      <td>False</td>\n",
              "      <td>False</td>\n",
              "      <td>False</td>\n",
              "      <td>1</td>\n",
              "      <td>3</td>\n",
              "      <td>4</td>\n",
              "      <td>5</td>\n",
              "      <td>275</td>\n",
              "      <td>370</td>\n",
              "      <td>369</td>\n",
              "      <td>4</td>\n",
              "      <td>1</td>\n",
              "      <td>1</td>\n",
              "      <td>214</td>\n",
              "      <td>210</td>\n",
              "      <td>209</td>\n",
              "      <td>1</td>\n",
              "      <td>1</td>\n",
              "      <td>10</td>\n",
              "      <td>2</td>\n",
              "      <td>1</td>\n",
              "      <td>2</td>\n",
              "      <td>1608</td>\n",
              "      <td>275</td>\n",
              "      <td>1</td>\n",
              "      <td>4</td>\n",
              "      <td>74</td>\n",
              "      <td>831614</td>\n",
              "      <td>573899</td>\n",
              "      <td>2020-03-09 20:39:22</td>\n",
              "      <td>0</td>\n",
              "    </tr>\n",
              "  </tbody>\n",
              "</table>\n",
              "</div>\n",
              "      <button class=\"colab-df-convert\" onclick=\"convertToInteractive('df-82ff39dd-3cd9-453f-93f2-6ae8518fe2cb')\"\n",
              "              title=\"Convert this dataframe to an interactive table.\"\n",
              "              style=\"display:none;\">\n",
              "        \n",
              "  <svg xmlns=\"http://www.w3.org/2000/svg\" height=\"24px\"viewBox=\"0 0 24 24\"\n",
              "       width=\"24px\">\n",
              "    <path d=\"M0 0h24v24H0V0z\" fill=\"none\"/>\n",
              "    <path d=\"M18.56 5.44l.94 2.06.94-2.06 2.06-.94-2.06-.94-.94-2.06-.94 2.06-2.06.94zm-11 1L8.5 8.5l.94-2.06 2.06-.94-2.06-.94L8.5 2.5l-.94 2.06-2.06.94zm10 10l.94 2.06.94-2.06 2.06-.94-2.06-.94-.94-2.06-.94 2.06-2.06.94z\"/><path d=\"M17.41 7.96l-1.37-1.37c-.4-.4-.92-.59-1.43-.59-.52 0-1.04.2-1.43.59L10.3 9.45l-7.72 7.72c-.78.78-.78 2.05 0 2.83L4 21.41c.39.39.9.59 1.41.59.51 0 1.02-.2 1.41-.59l7.78-7.78 2.81-2.81c.8-.78.8-2.07 0-2.86zM5.41 20L4 18.59l7.72-7.72 1.47 1.35L5.41 20z\"/>\n",
              "  </svg>\n",
              "      </button>\n",
              "      \n",
              "  <style>\n",
              "    .colab-df-container {\n",
              "      display:flex;\n",
              "      flex-wrap:wrap;\n",
              "      gap: 12px;\n",
              "    }\n",
              "\n",
              "    .colab-df-convert {\n",
              "      background-color: #E8F0FE;\n",
              "      border: none;\n",
              "      border-radius: 50%;\n",
              "      cursor: pointer;\n",
              "      display: none;\n",
              "      fill: #1967D2;\n",
              "      height: 32px;\n",
              "      padding: 0 0 0 0;\n",
              "      width: 32px;\n",
              "    }\n",
              "\n",
              "    .colab-df-convert:hover {\n",
              "      background-color: #E2EBFA;\n",
              "      box-shadow: 0px 1px 2px rgba(60, 64, 67, 0.3), 0px 1px 3px 1px rgba(60, 64, 67, 0.15);\n",
              "      fill: #174EA6;\n",
              "    }\n",
              "\n",
              "    [theme=dark] .colab-df-convert {\n",
              "      background-color: #3B4455;\n",
              "      fill: #D2E3FC;\n",
              "    }\n",
              "\n",
              "    [theme=dark] .colab-df-convert:hover {\n",
              "      background-color: #434B5C;\n",
              "      box-shadow: 0px 1px 3px 1px rgba(0, 0, 0, 0.15);\n",
              "      filter: drop-shadow(0px 1px 2px rgba(0, 0, 0, 0.3));\n",
              "      fill: #FFFFFF;\n",
              "    }\n",
              "  </style>\n",
              "\n",
              "      <script>\n",
              "        const buttonEl =\n",
              "          document.querySelector('#df-82ff39dd-3cd9-453f-93f2-6ae8518fe2cb button.colab-df-convert');\n",
              "        buttonEl.style.display =\n",
              "          google.colab.kernel.accessAllowed ? 'block' : 'none';\n",
              "\n",
              "        async function convertToInteractive(key) {\n",
              "          const element = document.querySelector('#df-82ff39dd-3cd9-453f-93f2-6ae8518fe2cb');\n",
              "          const dataTable =\n",
              "            await google.colab.kernel.invokeFunction('convertToInteractive',\n",
              "                                                     [key], {});\n",
              "          if (!dataTable) return;\n",
              "\n",
              "          const docLinkHtml = 'Like what you see? Visit the ' +\n",
              "            '<a target=\"_blank\" href=https://colab.research.google.com/notebooks/data_table.ipynb>data table notebook</a>'\n",
              "            + ' to learn more about interactive tables.';\n",
              "          element.innerHTML = '';\n",
              "          dataTable['output_type'] = 'display_data';\n",
              "          await google.colab.output.renderOutput(dataTable, element);\n",
              "          const docLink = document.createElement('div');\n",
              "          docLink.innerHTML = docLinkHtml;\n",
              "          element.appendChild(docLink);\n",
              "        }\n",
              "      </script>\n",
              "    </div>\n",
              "  </div>\n",
              "  "
            ],
            "text/plain": [
              "   id  d_l_match_yn  d_m_match_yn  ...  contents_rn     contents_open_dt  target\n",
              "0   0          True          True  ...       354805  2020-01-17 12:09:36       1\n",
              "1   1         False         False  ...       346213  2020-06-18 17:48:52       0\n",
              "2   2         False         False  ...       206408  2020-07-08 20:00:10       0\n",
              "3   3         False         False  ...       572323  2020-01-13 18:09:34       0\n",
              "4   4          True          True  ...       573899  2020-03-09 20:39:22       0\n",
              "\n",
              "[5 rows x 35 columns]"
            ]
          },
          "metadata": {},
          "execution_count": 94
        }
      ],
      "source": [
        "train.head()"
      ]
    },
    {
      "cell_type": "code",
      "execution_count": null,
      "metadata": {
        "colab": {
          "base_uri": "https://localhost:8080/",
          "height": 270
        },
        "id": "5r6tTGRpAx30",
        "outputId": "cb561f85-50b8-47bd-ae2e-20748f5b3612"
      },
      "outputs": [
        {
          "output_type": "execute_result",
          "data": {
            "text/html": [
              "\n",
              "  <div id=\"df-21220886-65f1-4a4a-ab5a-88a727523486\">\n",
              "    <div class=\"colab-df-container\">\n",
              "      <div>\n",
              "<style scoped>\n",
              "    .dataframe tbody tr th:only-of-type {\n",
              "        vertical-align: middle;\n",
              "    }\n",
              "\n",
              "    .dataframe tbody tr th {\n",
              "        vertical-align: top;\n",
              "    }\n",
              "\n",
              "    .dataframe thead th {\n",
              "        text-align: right;\n",
              "    }\n",
              "</style>\n",
              "<table border=\"1\" class=\"dataframe\">\n",
              "  <thead>\n",
              "    <tr style=\"text-align: right;\">\n",
              "      <th></th>\n",
              "      <th>id</th>\n",
              "      <th>d_l_match_yn</th>\n",
              "      <th>d_m_match_yn</th>\n",
              "      <th>d_s_match_yn</th>\n",
              "      <th>h_l_match_yn</th>\n",
              "      <th>h_m_match_yn</th>\n",
              "      <th>h_s_match_yn</th>\n",
              "      <th>person_attribute_a</th>\n",
              "      <th>person_attribute_a_1</th>\n",
              "      <th>person_attribute_b</th>\n",
              "      <th>person_prefer_c</th>\n",
              "      <th>person_prefer_d_1</th>\n",
              "      <th>person_prefer_d_2</th>\n",
              "      <th>person_prefer_d_3</th>\n",
              "      <th>person_prefer_e</th>\n",
              "      <th>person_prefer_f</th>\n",
              "      <th>person_prefer_g</th>\n",
              "      <th>person_prefer_h_1</th>\n",
              "      <th>person_prefer_h_2</th>\n",
              "      <th>person_prefer_h_3</th>\n",
              "      <th>contents_attribute_i</th>\n",
              "      <th>contents_attribute_a</th>\n",
              "      <th>contents_attribute_j_1</th>\n",
              "      <th>contents_attribute_j</th>\n",
              "      <th>contents_attribute_c</th>\n",
              "      <th>contents_attribute_k</th>\n",
              "      <th>contents_attribute_l</th>\n",
              "      <th>contents_attribute_d</th>\n",
              "      <th>contents_attribute_m</th>\n",
              "      <th>contents_attribute_e</th>\n",
              "      <th>contents_attribute_h</th>\n",
              "      <th>person_rn</th>\n",
              "      <th>contents_rn</th>\n",
              "      <th>contents_open_dt</th>\n",
              "    </tr>\n",
              "  </thead>\n",
              "  <tbody>\n",
              "    <tr>\n",
              "      <th>0</th>\n",
              "      <td>0</td>\n",
              "      <td>True</td>\n",
              "      <td>False</td>\n",
              "      <td>False</td>\n",
              "      <td>True</td>\n",
              "      <td>True</td>\n",
              "      <td>True</td>\n",
              "      <td>1</td>\n",
              "      <td>1</td>\n",
              "      <td>2</td>\n",
              "      <td>1</td>\n",
              "      <td>857</td>\n",
              "      <td>851</td>\n",
              "      <td>1227</td>\n",
              "      <td>4</td>\n",
              "      <td>1</td>\n",
              "      <td>1</td>\n",
              "      <td>263</td>\n",
              "      <td>56</td>\n",
              "      <td>49</td>\n",
              "      <td>1</td>\n",
              "      <td>3</td>\n",
              "      <td>10</td>\n",
              "      <td>2</td>\n",
              "      <td>1</td>\n",
              "      <td>2</td>\n",
              "      <td>1147</td>\n",
              "      <td>839</td>\n",
              "      <td>1</td>\n",
              "      <td>5</td>\n",
              "      <td>263</td>\n",
              "      <td>393790</td>\n",
              "      <td>236865</td>\n",
              "      <td>2020-12-01 02:24:18</td>\n",
              "    </tr>\n",
              "    <tr>\n",
              "      <th>1</th>\n",
              "      <td>1</td>\n",
              "      <td>False</td>\n",
              "      <td>False</td>\n",
              "      <td>False</td>\n",
              "      <td>True</td>\n",
              "      <td>False</td>\n",
              "      <td>False</td>\n",
              "      <td>2</td>\n",
              "      <td>0</td>\n",
              "      <td>2</td>\n",
              "      <td>2</td>\n",
              "      <td>683</td>\n",
              "      <td>1086</td>\n",
              "      <td>662</td>\n",
              "      <td>2</td>\n",
              "      <td>1</td>\n",
              "      <td>1</td>\n",
              "      <td>258</td>\n",
              "      <td>263</td>\n",
              "      <td>49</td>\n",
              "      <td>1</td>\n",
              "      <td>3</td>\n",
              "      <td>5</td>\n",
              "      <td>1</td>\n",
              "      <td>1</td>\n",
              "      <td>2</td>\n",
              "      <td>1611</td>\n",
              "      <td>278</td>\n",
              "      <td>1</td>\n",
              "      <td>4</td>\n",
              "      <td>263</td>\n",
              "      <td>394058</td>\n",
              "      <td>236572</td>\n",
              "      <td>2020-12-17 05:42:53</td>\n",
              "    </tr>\n",
              "    <tr>\n",
              "      <th>2</th>\n",
              "      <td>2</td>\n",
              "      <td>True</td>\n",
              "      <td>False</td>\n",
              "      <td>False</td>\n",
              "      <td>True</td>\n",
              "      <td>True</td>\n",
              "      <td>True</td>\n",
              "      <td>2</td>\n",
              "      <td>3</td>\n",
              "      <td>2</td>\n",
              "      <td>1</td>\n",
              "      <td>514</td>\n",
              "      <td>790</td>\n",
              "      <td>1233</td>\n",
              "      <td>0</td>\n",
              "      <td>1</td>\n",
              "      <td>1</td>\n",
              "      <td>177</td>\n",
              "      <td>170</td>\n",
              "      <td>171</td>\n",
              "      <td>3</td>\n",
              "      <td>3</td>\n",
              "      <td>3</td>\n",
              "      <td>1</td>\n",
              "      <td>1</td>\n",
              "      <td>2</td>\n",
              "      <td>1817</td>\n",
              "      <td>490</td>\n",
              "      <td>3</td>\n",
              "      <td>4</td>\n",
              "      <td>177</td>\n",
              "      <td>1002061</td>\n",
              "      <td>704612</td>\n",
              "      <td>2020-12-10 23:33:41</td>\n",
              "    </tr>\n",
              "    <tr>\n",
              "      <th>3</th>\n",
              "      <td>3</td>\n",
              "      <td>True</td>\n",
              "      <td>False</td>\n",
              "      <td>False</td>\n",
              "      <td>True</td>\n",
              "      <td>True</td>\n",
              "      <td>True</td>\n",
              "      <td>1</td>\n",
              "      <td>2</td>\n",
              "      <td>2</td>\n",
              "      <td>5</td>\n",
              "      <td>114</td>\n",
              "      <td>181</td>\n",
              "      <td>175</td>\n",
              "      <td>4</td>\n",
              "      <td>1</td>\n",
              "      <td>1</td>\n",
              "      <td>177</td>\n",
              "      <td>170</td>\n",
              "      <td>171</td>\n",
              "      <td>3</td>\n",
              "      <td>3</td>\n",
              "      <td>5</td>\n",
              "      <td>1</td>\n",
              "      <td>1</td>\n",
              "      <td>2</td>\n",
              "      <td>101</td>\n",
              "      <td>150</td>\n",
              "      <td>5</td>\n",
              "      <td>3</td>\n",
              "      <td>177</td>\n",
              "      <td>1000813</td>\n",
              "      <td>704652</td>\n",
              "      <td>2020-12-03 19:44:55</td>\n",
              "    </tr>\n",
              "    <tr>\n",
              "      <th>4</th>\n",
              "      <td>4</td>\n",
              "      <td>True</td>\n",
              "      <td>False</td>\n",
              "      <td>False</td>\n",
              "      <td>True</td>\n",
              "      <td>False</td>\n",
              "      <td>False</td>\n",
              "      <td>1</td>\n",
              "      <td>6</td>\n",
              "      <td>4</td>\n",
              "      <td>5</td>\n",
              "      <td>1082</td>\n",
              "      <td>1078</td>\n",
              "      <td>1056</td>\n",
              "      <td>5</td>\n",
              "      <td>1</td>\n",
              "      <td>1</td>\n",
              "      <td>178</td>\n",
              "      <td>177</td>\n",
              "      <td>4</td>\n",
              "      <td>3</td>\n",
              "      <td>1</td>\n",
              "      <td>5</td>\n",
              "      <td>1</td>\n",
              "      <td>1</td>\n",
              "      <td>1</td>\n",
              "      <td>985</td>\n",
              "      <td>1097</td>\n",
              "      <td>1</td>\n",
              "      <td>4</td>\n",
              "      <td>177</td>\n",
              "      <td>111146</td>\n",
              "      <td>704413</td>\n",
              "      <td>2020-12-11 21:24:34</td>\n",
              "    </tr>\n",
              "  </tbody>\n",
              "</table>\n",
              "</div>\n",
              "      <button class=\"colab-df-convert\" onclick=\"convertToInteractive('df-21220886-65f1-4a4a-ab5a-88a727523486')\"\n",
              "              title=\"Convert this dataframe to an interactive table.\"\n",
              "              style=\"display:none;\">\n",
              "        \n",
              "  <svg xmlns=\"http://www.w3.org/2000/svg\" height=\"24px\"viewBox=\"0 0 24 24\"\n",
              "       width=\"24px\">\n",
              "    <path d=\"M0 0h24v24H0V0z\" fill=\"none\"/>\n",
              "    <path d=\"M18.56 5.44l.94 2.06.94-2.06 2.06-.94-2.06-.94-.94-2.06-.94 2.06-2.06.94zm-11 1L8.5 8.5l.94-2.06 2.06-.94-2.06-.94L8.5 2.5l-.94 2.06-2.06.94zm10 10l.94 2.06.94-2.06 2.06-.94-2.06-.94-.94-2.06-.94 2.06-2.06.94z\"/><path d=\"M17.41 7.96l-1.37-1.37c-.4-.4-.92-.59-1.43-.59-.52 0-1.04.2-1.43.59L10.3 9.45l-7.72 7.72c-.78.78-.78 2.05 0 2.83L4 21.41c.39.39.9.59 1.41.59.51 0 1.02-.2 1.41-.59l7.78-7.78 2.81-2.81c.8-.78.8-2.07 0-2.86zM5.41 20L4 18.59l7.72-7.72 1.47 1.35L5.41 20z\"/>\n",
              "  </svg>\n",
              "      </button>\n",
              "      \n",
              "  <style>\n",
              "    .colab-df-container {\n",
              "      display:flex;\n",
              "      flex-wrap:wrap;\n",
              "      gap: 12px;\n",
              "    }\n",
              "\n",
              "    .colab-df-convert {\n",
              "      background-color: #E8F0FE;\n",
              "      border: none;\n",
              "      border-radius: 50%;\n",
              "      cursor: pointer;\n",
              "      display: none;\n",
              "      fill: #1967D2;\n",
              "      height: 32px;\n",
              "      padding: 0 0 0 0;\n",
              "      width: 32px;\n",
              "    }\n",
              "\n",
              "    .colab-df-convert:hover {\n",
              "      background-color: #E2EBFA;\n",
              "      box-shadow: 0px 1px 2px rgba(60, 64, 67, 0.3), 0px 1px 3px 1px rgba(60, 64, 67, 0.15);\n",
              "      fill: #174EA6;\n",
              "    }\n",
              "\n",
              "    [theme=dark] .colab-df-convert {\n",
              "      background-color: #3B4455;\n",
              "      fill: #D2E3FC;\n",
              "    }\n",
              "\n",
              "    [theme=dark] .colab-df-convert:hover {\n",
              "      background-color: #434B5C;\n",
              "      box-shadow: 0px 1px 3px 1px rgba(0, 0, 0, 0.15);\n",
              "      filter: drop-shadow(0px 1px 2px rgba(0, 0, 0, 0.3));\n",
              "      fill: #FFFFFF;\n",
              "    }\n",
              "  </style>\n",
              "\n",
              "      <script>\n",
              "        const buttonEl =\n",
              "          document.querySelector('#df-21220886-65f1-4a4a-ab5a-88a727523486 button.colab-df-convert');\n",
              "        buttonEl.style.display =\n",
              "          google.colab.kernel.accessAllowed ? 'block' : 'none';\n",
              "\n",
              "        async function convertToInteractive(key) {\n",
              "          const element = document.querySelector('#df-21220886-65f1-4a4a-ab5a-88a727523486');\n",
              "          const dataTable =\n",
              "            await google.colab.kernel.invokeFunction('convertToInteractive',\n",
              "                                                     [key], {});\n",
              "          if (!dataTable) return;\n",
              "\n",
              "          const docLinkHtml = 'Like what you see? Visit the ' +\n",
              "            '<a target=\"_blank\" href=https://colab.research.google.com/notebooks/data_table.ipynb>data table notebook</a>'\n",
              "            + ' to learn more about interactive tables.';\n",
              "          element.innerHTML = '';\n",
              "          dataTable['output_type'] = 'display_data';\n",
              "          await google.colab.output.renderOutput(dataTable, element);\n",
              "          const docLink = document.createElement('div');\n",
              "          docLink.innerHTML = docLinkHtml;\n",
              "          element.appendChild(docLink);\n",
              "        }\n",
              "      </script>\n",
              "    </div>\n",
              "  </div>\n",
              "  "
            ],
            "text/plain": [
              "   id  d_l_match_yn  d_m_match_yn  ...  person_rn  contents_rn     contents_open_dt\n",
              "0   0          True         False  ...     393790       236865  2020-12-01 02:24:18\n",
              "1   1         False         False  ...     394058       236572  2020-12-17 05:42:53\n",
              "2   2          True         False  ...    1002061       704612  2020-12-10 23:33:41\n",
              "3   3          True         False  ...    1000813       704652  2020-12-03 19:44:55\n",
              "4   4          True         False  ...     111146       704413  2020-12-11 21:24:34\n",
              "\n",
              "[5 rows x 34 columns]"
            ]
          },
          "metadata": {},
          "execution_count": 95
        }
      ],
      "source": [
        "test.head()"
      ]
    },
    {
      "cell_type": "markdown",
      "metadata": {
        "id": "wdyHgD9_7_9Z"
      },
      "source": [
        "###  d_s_match_yn과 d_l_match_yn은 같을까?"
      ]
    },
    {
      "cell_type": "code",
      "execution_count": null,
      "metadata": {
        "colab": {
          "base_uri": "https://localhost:8080/"
        },
        "id": "Q8US9NVZ7_b_",
        "outputId": "2abace6d-668b-4d68-f4eb-3e30468816c7"
      },
      "outputs": [
        {
          "output_type": "stream",
          "name": "stdout",
          "text": [
            "############################ d_l_match_yn #################################\n",
            "True : 315268 False : 186683\n",
            "############################ d_s_match_yn #################################\n",
            "True : 75257 False : 426694\n",
            "############################ h_l_match_yn #################################\n",
            "True : 399338 False : 102613\n",
            "############################ h_s_match_yn #################################\n",
            "True : 136629 False : 365322\n"
          ]
        }
      ],
      "source": [
        "## d_l_match_yn의 True False의 개수는?\n",
        "## d_s_match_yn의 True False의 개수는?\n",
        "## h_l_match_yn의 True False의 개수는?\n",
        "## h_s_match_yn의 True False의 개수는?\n",
        "\n",
        "print('############################ d_l_match_yn #################################')\n",
        "print('True :',len(train[train['d_l_match_yn'] == True]), 'False :', len(train[train['d_l_match_yn'] == False]) )\n",
        "\n",
        "print('############################ d_s_match_yn #################################')\n",
        "print('True :',len(train[train['d_s_match_yn'] == True]), 'False :', len(train[train['d_s_match_yn'] == False]) )\n",
        "\n",
        "print('############################ h_l_match_yn #################################')\n",
        "print('True :',len(train[train['h_l_match_yn'] == True]), 'False :', len(train[train['h_l_match_yn'] == False]) )\n",
        "\n",
        "print('############################ h_s_match_yn #################################')\n",
        "print('True :',len(train[train['h_s_match_yn'] == True]), 'False :', len(train[train['h_s_match_yn'] == False]) )\n",
        "\n",
        "## 그러면 이 데이터를 어떻게 변경시켜줘야 할까?\n",
        "## 거의 시작부터 많이 틀렸다? 그러면 아예 데이터를 사용하지 않는다면?? 더 높아지지 않을까??\n",
        "## 잘못 기입된 데이터일까??\n",
        "## 변경시키지 말고 그냥 데이터를 넣어주자."
      ]
    },
    {
      "cell_type": "code",
      "execution_count": null,
      "metadata": {
        "colab": {
          "base_uri": "https://localhost:8080/"
        },
        "id": "BakzFlzmAyYf",
        "outputId": "15618b40-efa0-46ec-bff0-26fc7b884c5b"
      },
      "outputs": [
        {
          "output_type": "stream",
          "name": "stdout",
          "text": [
            "(501951, 56)\n",
            "(46404, 55)\n"
          ]
        }
      ],
      "source": [
        "# 관련 코드들을 한번에 모델 돌리기 위해서\n",
        "def add_code(df, d_code, h_code, l_code):\n",
        "    df['person_prefer_d_1_n'] = df['person_prefer_d_1'].apply(lambda x: d_code[x]['속성 D 세분류코드'])\n",
        "    df['person_prefer_d_1_s'] = df['person_prefer_d_1'].apply(lambda x: d_code[x]['속성 D 소분류코드'])\n",
        "    df['person_prefer_d_1_m'] = df['person_prefer_d_1'].apply(lambda x: d_code[x]['속성 D 중분류코드'])\n",
        "    df['person_prefer_d_1_l'] = df['person_prefer_d_1'].apply(lambda x: d_code[x]['속성 D 대분류코드'])\n",
        "\n",
        "    df['person_prefer_d_2_n'] = df['person_prefer_d_2'].apply(lambda x: d_code[x]['속성 D 세분류코드'])\n",
        "    df['person_prefer_d_2_s'] = df['person_prefer_d_2'].apply(lambda x: d_code[x]['속성 D 소분류코드'])\n",
        "    df['person_prefer_d_2_m'] = df['person_prefer_d_2'].apply(lambda x: d_code[x]['속성 D 중분류코드'])\n",
        "    df['person_prefer_d_2_l'] = df['person_prefer_d_2'].apply(lambda x: d_code[x]['속성 D 대분류코드'])\n",
        "\n",
        "    df['person_prefer_d_3_n'] = df['person_prefer_d_3'].apply(lambda x: d_code[x]['속성 D 세분류코드'])\n",
        "    df['person_prefer_d_3_s'] = df['person_prefer_d_3'].apply(lambda x: d_code[x]['속성 D 소분류코드'])\n",
        "    df['person_prefer_d_3_m'] = df['person_prefer_d_3'].apply(lambda x: d_code[x]['속성 D 중분류코드'])\n",
        "    df['person_prefer_d_3_l'] = df['person_prefer_d_3'].apply(lambda x: d_code[x]['속성 D 대분류코드'])\n",
        "\n",
        "    df['contents_attribute_d_n'] = df['contents_attribute_d'].apply(lambda x: d_code[x]['속성 D 세분류코드'])\n",
        "    df['contents_attribute_d_s'] = df['contents_attribute_d'].apply(lambda x: d_code[x]['속성 D 소분류코드'])\n",
        "    df['contents_attribute_d_m'] = df['contents_attribute_d'].apply(lambda x: d_code[x]['속성 D 중분류코드'])\n",
        "    df['contents_attribute_d_l'] = df['contents_attribute_d'].apply(lambda x: d_code[x]['속성 D 대분류코드'])\n",
        "\n",
        "    # H Code\n",
        "    df['person_prefer_h_1_l'] = df['person_prefer_h_1'].apply(lambda x: h_code[x]['속성 H 대분류코드'])\n",
        "    df['person_prefer_h_1_m'] = df['person_prefer_h_1'].apply(lambda x: h_code[x]['속성 H 중분류코드'])\n",
        "    \n",
        "    df['person_prefer_h_2_l'] = df['person_prefer_h_2'].apply(lambda x: h_code[x]['속성 H 대분류코드'])\n",
        "    df['person_prefer_h_2_m'] = df['person_prefer_h_2'].apply(lambda x: h_code[x]['속성 H 중분류코드'])\n",
        "    \n",
        "    df['person_prefer_h_3_l'] = df['person_prefer_h_3'].apply(lambda x: h_code[x]['속성 H 대분류코드'])\n",
        "    df['person_prefer_h_3_m'] = df['person_prefer_h_3'].apply(lambda x: h_code[x]['속성 H 중분류코드'])\n",
        "\n",
        "    df['contents_attribute_h_l'] = df['contents_attribute_h'].apply(lambda x: h_code[x]['속성 H 대분류코드'])\n",
        "    df['contents_attribute_h_m'] = df['contents_attribute_h'].apply(lambda x: h_code[x]['속성 H 중분류코드'])\n",
        "\n",
        "    # L Code\n",
        "    df['contents_attribute_l_n'] = df['contents_attribute_l'].apply(lambda x: l_code[x]['속성 L 세분류코드'])\n",
        "    df['contents_attribute_l_s'] = df['contents_attribute_l'].apply(lambda x: l_code[x]['속성 L 소분류코드'])\n",
        "    df['contents_attribute_l_m'] = df['contents_attribute_l'].apply(lambda x: l_code[x]['속성 L 중분류코드'])\n",
        "    df['contents_attribute_l_l'] = df['contents_attribute_l'].apply(lambda x: l_code[x]['속성 L 대분류코드'])\n",
        "\n",
        "    drop_column = ['person_prefer_d_1','person_prefer_d_2','person_prefer_d_3','person_prefer_h_1','person_prefer_h_2','person_prefer_h_3','contents_attribute_l']\n",
        "\n",
        "    for i in drop_column:\n",
        "        df = df.drop(i, axis = 1)\n",
        "    return df\n",
        "\n",
        "train_data = add_code(train, D_code, H_code, L_code)\n",
        "test_data = add_code(test, D_code, H_code, L_code)\n",
        "\n",
        "print(train_data.shape)\n",
        "print(test_data.shape)"
      ]
    },
    {
      "cell_type": "markdown",
      "metadata": {
        "id": "UjDegu4QA8DV"
      },
      "source": [
        "## 속성 코드 이해하기 D, H, L"
      ]
    },
    {
      "cell_type": "code",
      "execution_count": null,
      "metadata": {
        "id": "IXFqx-KTqsuH"
      },
      "outputs": [],
      "source": [
        "D_code = pd.read_csv('/content/drive/MyDrive/잡케어/속성_D_코드.csv')\n",
        "H_code = pd.read_csv('/content/drive/MyDrive/잡케어/속성_H_코드.csv')\n",
        "L_code = pd.read_csv('/content/drive/MyDrive/잡케어/속성_L_코드.csv')"
      ]
    },
    {
      "cell_type": "code",
      "execution_count": null,
      "metadata": {
        "colab": {
          "base_uri": "https://localhost:8080/"
        },
        "id": "KLCfRdupqw__",
        "outputId": "31cdd16b-ea46-4a7b-d7a0-b80915352a32"
      },
      "outputs": [
        {
          "output_type": "stream",
          "name": "stdout",
          "text": [
            "##################### D 코드 ################################\n",
            "D 대분류코드 개수 : 11\n",
            "D 중분류코드 개수 : 36\n",
            "D 소분류코드 개수 : 137\n",
            "D 세분류코드 개수 : 451\n",
            "##################### H 코드 ################################\n",
            "H 대분류코드 개수 : 21\n",
            "H 중분류코드 개수 : 256\n",
            "##################### L 코드 ################################\n",
            "L 대분류코드 개수 : 22\n",
            "L 중분류코드 개수 : 99\n",
            "L 소분류코드 개수 : 332\n",
            "L 세분류코드 개수 : 828\n"
          ]
        }
      ],
      "source": [
        "print('##################### D 코드 ################################')\n",
        "print('D 대분류코드 개수 :',len(D_code['속성 D 대분류코드'].unique()))\n",
        "print('D 중분류코드 개수 :',len(D_code['속성 D 중분류코드'].unique()))\n",
        "print('D 소분류코드 개수 :',len(D_code['속성 D 소분류코드'].unique()))\n",
        "print('D 세분류코드 개수 :',len(D_code['속성 D 세분류코드'].unique()))\n",
        "\n",
        "print('##################### H 코드 ################################')\n",
        "print('H 대분류코드 개수 :',len(H_code['속성 H 대분류코드'].unique()))\n",
        "print('H 중분류코드 개수 :',len(H_code['속성 H 중분류코드'].unique()))\n",
        "\n",
        "print('##################### L 코드 ################################')\n",
        "print('L 대분류코드 개수 :',len(L_code['속성 L 대분류코드'].unique()))\n",
        "print('L 중분류코드 개수 :',len(L_code['속성 L 중분류코드'].unique()))\n",
        "print('L 소분류코드 개수 :',len(L_code['속성 L 소분류코드'].unique()))\n",
        "print('L 세분류코드 개수 :',len(L_code['속성 L 세분류코드'].unique()))"
      ]
    },
    {
      "cell_type": "markdown",
      "metadata": {
        "id": "IK-L8S7cJG-O"
      },
      "source": [
        "### D 코드"
      ]
    },
    {
      "cell_type": "code",
      "execution_count": null,
      "metadata": {
        "colab": {
          "base_uri": "https://localhost:8080/",
          "height": 516
        },
        "id": "9Nax-bwPCPoC",
        "outputId": "67306a9b-18ae-4c31-a317-ec35463cbd55"
      },
      "outputs": [
        {
          "output_type": "execute_result",
          "data": {
            "text/plain": [
              "<matplotlib.axes._subplots.AxesSubplot at 0x7fabf8245150>"
            ]
          },
          "metadata": {},
          "execution_count": 100
        },
        {
          "output_type": "display_data",
          "data": {
            "image/png": "[encoded data removed]",
            "text/plain": [
              "<Figure size 1152x576 with 4 Axes>"
            ]
          },
          "metadata": {
            "needs_background": "light"
          }
        }
      ],
      "source": [
        "fig, ax = plt.subplots(ncols = 2, nrows = 2, figsize = (16,8))\n",
        "\n",
        "sns.barplot(data = train_data, x = 'person_prefer_d_1_l', y = 'target', ax = ax[0,0])\n",
        "sns.barplot(data = train_data, x = 'person_prefer_d_2_l', y = 'target',ax = ax[0,1])\n",
        "sns.barplot(data = train_data, x = 'person_prefer_d_3_l',y = 'target', ax = ax[1,0])\n",
        "sns.barplot(data = train_data, x = 'contents_attribute_d_l', y = 'target',ax = ax[1,1])"
      ]
    },
    {
      "cell_type": "code",
      "execution_count": null,
      "metadata": {
        "colab": {
          "base_uri": "https://localhost:8080/",
          "height": 516
        },
        "id": "ZXIBWHerQWDI",
        "outputId": "3863d260-d56c-4152-f48e-761a6908106f"
      },
      "outputs": [
        {
          "output_type": "execute_result",
          "data": {
            "text/plain": [
              "<matplotlib.axes._subplots.AxesSubplot at 0x7fabfd402690>"
            ]
          },
          "metadata": {},
          "execution_count": 101
        },
        {
          "output_type": "display_data",
          "data": {
            "image/png": "[encoded data removed]",
            "text/plain": [
              "<Figure size 1584x576 with 1 Axes>"
            ]
          },
          "metadata": {
            "needs_background": "light"
          }
        }
      ],
      "source": [
        "## person_prefer_d 대분류와 중분류 비교해보기\n",
        "plt.figure(figsize = (22,8))\n",
        "sns.barplot(data = train_data, x = 'person_prefer_d_1_m', y = 'target')"
      ]
    },
    {
      "cell_type": "code",
      "execution_count": null,
      "metadata": {
        "colab": {
          "base_uri": "https://localhost:8080/",
          "height": 516
        },
        "id": "Zu1YXUWJUN-U",
        "outputId": "a2c7805e-efa5-4879-ae36-3d9de41dfa4f"
      },
      "outputs": [
        {
          "output_type": "execute_result",
          "data": {
            "text/plain": [
              "<matplotlib.axes._subplots.AxesSubplot at 0x7fabf8510fd0>"
            ]
          },
          "metadata": {},
          "execution_count": 102
        },
        {
          "output_type": "display_data",
          "data": {
            "image/png": "[encoded data removed]",
            "text/plain": [
              "<Figure size 1584x576 with 1 Axes>"
            ]
          },
          "metadata": {
            "needs_background": "light"
          }
        }
      ],
      "source": [
        "## person_prefer_d 대분류와 중분류 비교해보기\n",
        "plt.figure(figsize = (22,8))\n",
        "sns.barplot(data = train_data, x = 'person_prefer_d_2_m', y = 'target')"
      ]
    },
    {
      "cell_type": "code",
      "execution_count": null,
      "metadata": {
        "colab": {
          "base_uri": "https://localhost:8080/",
          "height": 516
        },
        "id": "kLVT9hvaUQeq",
        "outputId": "b28554b5-6730-4d32-e58f-1293caa52c38"
      },
      "outputs": [
        {
          "output_type": "execute_result",
          "data": {
            "text/plain": [
              "<matplotlib.axes._subplots.AxesSubplot at 0x7fabf82c08d0>"
            ]
          },
          "metadata": {},
          "execution_count": 103
        },
        {
          "output_type": "display_data",
          "data": {
            "image/png": "[encoded data removed]",
            "text/plain": [
              "<Figure size 1584x576 with 1 Axes>"
            ]
          },
          "metadata": {
            "needs_background": "light"
          }
        }
      ],
      "source": [
        "## person_prefer_d 대분류와 중분류 비교해보기\n",
        "plt.figure(figsize = (22,8))\n",
        "sns.barplot(data = train_data, x = 'person_prefer_d_3_m', y = 'target')"
      ]
    },
    {
      "cell_type": "code",
      "execution_count": null,
      "metadata": {
        "colab": {
          "base_uri": "https://localhost:8080/",
          "height": 516
        },
        "id": "gvtZqwzPUSHE",
        "outputId": "1854a9f7-9b94-46f8-d7bb-a8807b617734"
      },
      "outputs": [
        {
          "output_type": "execute_result",
          "data": {
            "text/plain": [
              "<matplotlib.axes._subplots.AxesSubplot at 0x7fabfd50a150>"
            ]
          },
          "metadata": {},
          "execution_count": 104
        },
        {
          "output_type": "display_data",
          "data": {
            "image/png": "[encoded data removed]",
            "text/plain": [
              "<Figure size 1584x576 with 1 Axes>"
            ]
          },
          "metadata": {
            "needs_background": "light"
          }
        }
      ],
      "source": [
        "plt.figure(figsize = (22,8))\n",
        "sns.barplot(data = train_data, x = 'contents_attribute_d_m', y = 'target')"
      ]
    },
    {
      "cell_type": "code",
      "execution_count": null,
      "metadata": {
        "colab": {
          "base_uri": "https://localhost:8080/"
        },
        "id": "riE-QOX1wyBX",
        "outputId": "951d5fb2-3dec-4e79-d24d-ea0fcd1d5bd1"
      },
      "outputs": [
        {
          "output_type": "stream",
          "name": "stdout",
          "text": [
            "##################### person_prefer_d_1_l #############################\n",
            "##################### 216 #############################\n",
            "297    16673\n",
            "274     6990\n",
            "231     2254\n",
            "220      249\n",
            "217       78\n",
            "Name: person_prefer_d_1_m, dtype: int64\n",
            "##################### 1 #############################\n",
            "56     190011\n",
            "2       15914\n",
            "189      1521\n",
            "Name: person_prefer_d_1_m, dtype: int64\n",
            "##################### 377 #############################\n",
            "450    22240\n",
            "378     2998\n",
            "439      994\n",
            "473       73\n",
            "477       46\n",
            "Name: person_prefer_d_1_m, dtype: int64\n",
            "##################### 618 #############################\n",
            "690    12148\n",
            "659     8769\n",
            "716     6012\n",
            "708     5335\n",
            "619     1138\n",
            "644     1007\n",
            "Name: person_prefer_d_1_m, dtype: int64\n",
            "##################### 926 #############################\n",
            "927     37305\n",
            "1053    31260\n",
            "1227    30041\n",
            "1000    13481\n",
            "1104     6115\n",
            "1193     3696\n",
            "1169     2708\n",
            "1093     1881\n",
            "1137     1188\n",
            "Name: person_prefer_d_1_m, dtype: int64\n",
            "##################### 744 #############################\n",
            "824    35474\n",
            "745    14840\n",
            "Name: person_prefer_d_1_m, dtype: int64\n",
            "##################### 482 #############################\n",
            "482    11144\n",
            "Name: person_prefer_d_1_m, dtype: int64\n",
            "##################### 864 #############################\n",
            "864    10069\n",
            "Name: person_prefer_d_1_m, dtype: int64\n",
            "##################### 522 #############################\n",
            "523    6724\n",
            "603     674\n",
            "Name: person_prefer_d_1_m, dtype: int64\n",
            "##################### 1235 #############################\n",
            "1235    897\n",
            "Name: person_prefer_d_1_m, dtype: int64\n",
            "##################### 1258 #############################\n",
            "1258    4\n",
            "Name: person_prefer_d_1_m, dtype: int64\n",
            "##################### person_prefer_d_2_l #############################\n",
            "##################### 216 #############################\n",
            "297    13796\n",
            "274     5267\n",
            "231     1887\n",
            "220      243\n",
            "217       66\n",
            "Name: person_prefer_d_2_m, dtype: int64\n",
            "##################### 1 #############################\n",
            "56     189124\n",
            "2       18748\n",
            "189      1214\n",
            "Name: person_prefer_d_2_m, dtype: int64\n",
            "##################### 618 #############################\n",
            "690    14053\n",
            "659     9805\n",
            "716     9058\n",
            "708     4901\n",
            "619     1284\n",
            "644      784\n",
            "Name: person_prefer_d_2_m, dtype: int64\n",
            "##################### 926 #############################\n",
            "1053    47989\n",
            "927     34805\n",
            "1227    19163\n",
            "1000    12114\n",
            "1104     5724\n",
            "1193     3557\n",
            "1169     2857\n",
            "1093     1459\n",
            "1137      876\n",
            "Name: person_prefer_d_2_m, dtype: int64\n",
            "##################### 377 #############################\n",
            "450    22650\n",
            "378     2942\n",
            "439      560\n",
            "473       16\n",
            "477        5\n",
            "Name: person_prefer_d_2_m, dtype: int64\n",
            "##################### 864 #############################\n",
            "864    8062\n",
            "Name: person_prefer_d_2_m, dtype: int64\n",
            "##################### 744 #############################\n",
            "824    38574\n",
            "745    15372\n",
            "Name: person_prefer_d_2_m, dtype: int64\n",
            "##################### 482 #############################\n",
            "482    7211\n",
            "Name: person_prefer_d_2_m, dtype: int64\n",
            "##################### 522 #############################\n",
            "523    6197\n",
            "603     575\n",
            "Name: person_prefer_d_2_m, dtype: int64\n",
            "##################### 1235 #############################\n",
            "1235    1008\n",
            "Name: person_prefer_d_2_m, dtype: int64\n",
            "##################### 1258 #############################\n",
            "1258    5\n",
            "Name: person_prefer_d_2_m, dtype: int64\n",
            "##################### person_prefer_d_3_l #############################\n",
            "##################### 216 #############################\n",
            "297    10230\n",
            "274     3384\n",
            "231     1851\n",
            "220      276\n",
            "217       28\n",
            "Name: person_prefer_d_3_m, dtype: int64\n",
            "##################### 1 #############################\n",
            "56     214741\n",
            "2       14519\n",
            "189      1404\n",
            "Name: person_prefer_d_3_m, dtype: int64\n",
            "##################### 377 #############################\n",
            "450    10042\n",
            "378     2259\n",
            "439      682\n",
            "473       66\n",
            "477        3\n",
            "Name: person_prefer_d_3_m, dtype: int64\n",
            "##################### 618 #############################\n",
            "690    11151\n",
            "659     9282\n",
            "716     6851\n",
            "708     6216\n",
            "619      858\n",
            "644      429\n",
            "Name: person_prefer_d_3_m, dtype: int64\n",
            "##################### 926 #############################\n",
            "1053    39466\n",
            "927     33962\n",
            "1227    27717\n",
            "1000    12120\n",
            "1104     4946\n",
            "1193     3478\n",
            "1093     2177\n",
            "1169     1787\n",
            "1137      788\n",
            "Name: person_prefer_d_3_m, dtype: int64\n",
            "##################### 744 #############################\n",
            "824    43537\n",
            "745    16222\n",
            "Name: person_prefer_d_3_m, dtype: int64\n",
            "##################### 864 #############################\n",
            "864    10357\n",
            "Name: person_prefer_d_3_m, dtype: int64\n",
            "##################### 522 #############################\n",
            "523    6028\n",
            "603     539\n",
            "Name: person_prefer_d_3_m, dtype: int64\n",
            "##################### 482 #############################\n",
            "482    3602\n",
            "Name: person_prefer_d_3_m, dtype: int64\n",
            "##################### 1235 #############################\n",
            "1235    946\n",
            "Name: person_prefer_d_3_m, dtype: int64\n",
            "##################### 1258 #############################\n",
            "1258    7\n",
            "Name: person_prefer_d_3_m, dtype: int64\n",
            "##################### contents_attribute_d_l #############################\n",
            "##################### 216 #############################\n",
            "297    15643\n",
            "274    10350\n",
            "231     2394\n",
            "220      284\n",
            "217      161\n",
            "Name: contents_attribute_d_m, dtype: int64\n",
            "##################### 1 #############################\n",
            "56     174885\n",
            "2        6900\n",
            "189      1506\n",
            "Name: contents_attribute_d_m, dtype: int64\n",
            "##################### 482 #############################\n",
            "482    9878\n",
            "Name: contents_attribute_d_m, dtype: int64\n",
            "##################### 926 #############################\n",
            "1227    37340\n",
            "927     35579\n",
            "1053    20706\n",
            "1000    16901\n",
            "1104    12833\n",
            "1169     5562\n",
            "1193     5517\n",
            "1137     2262\n",
            "1093     2082\n",
            "Name: contents_attribute_d_m, dtype: int64\n",
            "##################### 744 #############################\n",
            "824    37708\n",
            "745    19229\n",
            "Name: contents_attribute_d_m, dtype: int64\n",
            "##################### 618 #############################\n",
            "690    10712\n",
            "659    10452\n",
            "716     9544\n",
            "708     6760\n",
            "619      697\n",
            "644      607\n",
            "Name: contents_attribute_d_m, dtype: int64\n",
            "##################### 522 #############################\n",
            "523    6474\n",
            "603     527\n",
            "Name: contents_attribute_d_m, dtype: int64\n",
            "##################### 864 #############################\n",
            "864    11651\n",
            "Name: contents_attribute_d_m, dtype: int64\n",
            "##################### 377 #############################\n",
            "450    21651\n",
            "378     1889\n",
            "439     1534\n",
            "477        2\n",
            "473        2\n",
            "Name: contents_attribute_d_m, dtype: int64\n",
            "##################### 1235 #############################\n",
            "1235    1725\n",
            "Name: contents_attribute_d_m, dtype: int64\n",
            "##################### 1258 #############################\n",
            "1258    4\n",
            "Name: contents_attribute_d_m, dtype: int64\n"
          ]
        }
      ],
      "source": [
        "for i in ['person_prefer_d_1_l','person_prefer_d_2_l','person_prefer_d_3_l','contents_attribute_d_l']:\n",
        "    \n",
        "    print(f'##################### {i} #############################')\n",
        "    for j in train_data[i].unique():\n",
        "        \n",
        "        print(f'##################### {j} #############################')\n",
        "        print(train_data[train_data[i] == j][i[:-1] + 'm'].value_counts())"
      ]
    },
    {
      "cell_type": "markdown",
      "metadata": {
        "id": "cIwB9RdV85tn"
      },
      "source": [
        "### contents_open_dt"
      ]
    },
    {
      "cell_type": "code",
      "execution_count": null,
      "metadata": {
        "id": "roMNDB7H70ue"
      },
      "outputs": [],
      "source": [
        "# contents_open_dt를 년, 월, 일, 시간으로 나누자.\n",
        "def date_time(df, columns = 'contents_open_dt'):\n",
        "\n",
        "    df[columns] = pd.to_datetime(df[columns])\n",
        "    df['year'] = df[columns].dt.year\n",
        "    df['month'] = df[columns].dt.month\n",
        "    df['day'] = df[columns].dt.day\n",
        "    df['hour'] = df[columns].dt.hour\n",
        "    df['weekday'] = df[columns].apply(lambda x: x.weekday())\n",
        "    df['weekend'] = df['weekday'].copy()\n",
        "    df['weekday'] = df['weekday'].apply(lambda x:1 if x>4 else 0)\n",
        "    df['date'] = df[columns].dt.date\n",
        "\n",
        "    return df\n",
        "\n",
        "train_data = date_time(train_data)\n",
        "test_data = date_time(test_data)"
      ]
    },
    {
      "cell_type": "code",
      "execution_count": null,
      "metadata": {
        "colab": {
          "base_uri": "https://localhost:8080/",
          "height": 356
        },
        "id": "aSe2y85tUsf5",
        "outputId": "2bb9e9ba-26f3-4d06-e51e-f86c90854d3b"
      },
      "outputs": [
        {
          "output_type": "execute_result",
          "data": {
            "text/html": [
              "\n",
              "  <div id=\"df-fa56c8d4-b5d5-474c-b828-6184d73bf619\">\n",
              "    <div class=\"colab-df-container\">\n",
              "      <div>\n",
              "<style scoped>\n",
              "    .dataframe tbody tr th:only-of-type {\n",
              "        vertical-align: middle;\n",
              "    }\n",
              "\n",
              "    .dataframe tbody tr th {\n",
              "        vertical-align: top;\n",
              "    }\n",
              "\n",
              "    .dataframe thead th {\n",
              "        text-align: right;\n",
              "    }\n",
              "</style>\n",
              "<table border=\"1\" class=\"dataframe\">\n",
              "  <thead>\n",
              "    <tr style=\"text-align: right;\">\n",
              "      <th></th>\n",
              "      <th>id</th>\n",
              "      <th>d_l_match_yn</th>\n",
              "      <th>d_m_match_yn</th>\n",
              "      <th>d_s_match_yn</th>\n",
              "      <th>h_l_match_yn</th>\n",
              "      <th>h_m_match_yn</th>\n",
              "      <th>h_s_match_yn</th>\n",
              "      <th>person_attribute_a</th>\n",
              "      <th>person_attribute_a_1</th>\n",
              "      <th>person_attribute_b</th>\n",
              "      <th>person_prefer_c</th>\n",
              "      <th>person_prefer_e</th>\n",
              "      <th>person_prefer_f</th>\n",
              "      <th>person_prefer_g</th>\n",
              "      <th>contents_attribute_i</th>\n",
              "      <th>contents_attribute_a</th>\n",
              "      <th>contents_attribute_j_1</th>\n",
              "      <th>contents_attribute_j</th>\n",
              "      <th>contents_attribute_c</th>\n",
              "      <th>contents_attribute_k</th>\n",
              "      <th>contents_attribute_d</th>\n",
              "      <th>contents_attribute_m</th>\n",
              "      <th>contents_attribute_e</th>\n",
              "      <th>contents_attribute_h</th>\n",
              "      <th>person_rn</th>\n",
              "      <th>contents_rn</th>\n",
              "      <th>contents_open_dt</th>\n",
              "      <th>target</th>\n",
              "      <th>person_prefer_d_1_n</th>\n",
              "      <th>person_prefer_d_1_s</th>\n",
              "      <th>person_prefer_d_1_m</th>\n",
              "      <th>person_prefer_d_1_l</th>\n",
              "      <th>person_prefer_d_2_n</th>\n",
              "      <th>person_prefer_d_2_s</th>\n",
              "      <th>person_prefer_d_2_m</th>\n",
              "      <th>person_prefer_d_2_l</th>\n",
              "      <th>person_prefer_d_3_n</th>\n",
              "      <th>person_prefer_d_3_s</th>\n",
              "      <th>person_prefer_d_3_m</th>\n",
              "      <th>person_prefer_d_3_l</th>\n",
              "      <th>contents_attribute_d_n</th>\n",
              "      <th>contents_attribute_d_s</th>\n",
              "      <th>contents_attribute_d_m</th>\n",
              "      <th>contents_attribute_d_l</th>\n",
              "      <th>person_prefer_h_1_l</th>\n",
              "      <th>person_prefer_h_1_m</th>\n",
              "      <th>person_prefer_h_2_l</th>\n",
              "      <th>person_prefer_h_2_m</th>\n",
              "      <th>person_prefer_h_3_l</th>\n",
              "      <th>person_prefer_h_3_m</th>\n",
              "      <th>contents_attribute_h_l</th>\n",
              "      <th>contents_attribute_h_m</th>\n",
              "      <th>contents_attribute_l_n</th>\n",
              "      <th>contents_attribute_l_s</th>\n",
              "      <th>contents_attribute_l_m</th>\n",
              "      <th>contents_attribute_l_l</th>\n",
              "      <th>year</th>\n",
              "      <th>month</th>\n",
              "      <th>day</th>\n",
              "      <th>hour</th>\n",
              "      <th>weekday</th>\n",
              "      <th>weekend</th>\n",
              "      <th>date</th>\n",
              "    </tr>\n",
              "  </thead>\n",
              "  <tbody>\n",
              "    <tr>\n",
              "      <th>0</th>\n",
              "      <td>0</td>\n",
              "      <td>True</td>\n",
              "      <td>True</td>\n",
              "      <td>True</td>\n",
              "      <td>False</td>\n",
              "      <td>False</td>\n",
              "      <td>False</td>\n",
              "      <td>1</td>\n",
              "      <td>4</td>\n",
              "      <td>3</td>\n",
              "      <td>5</td>\n",
              "      <td>8</td>\n",
              "      <td>1</td>\n",
              "      <td>1</td>\n",
              "      <td>3</td>\n",
              "      <td>3</td>\n",
              "      <td>10</td>\n",
              "      <td>2</td>\n",
              "      <td>1</td>\n",
              "      <td>2</td>\n",
              "      <td>275</td>\n",
              "      <td>1</td>\n",
              "      <td>4</td>\n",
              "      <td>139</td>\n",
              "      <td>618822</td>\n",
              "      <td>354805</td>\n",
              "      <td>2020-01-17 12:09:36</td>\n",
              "      <td>1</td>\n",
              "      <td>275</td>\n",
              "      <td>274</td>\n",
              "      <td>274</td>\n",
              "      <td>216</td>\n",
              "      <td>369</td>\n",
              "      <td>368</td>\n",
              "      <td>297</td>\n",
              "      <td>216</td>\n",
              "      <td>369</td>\n",
              "      <td>368</td>\n",
              "      <td>297</td>\n",
              "      <td>216</td>\n",
              "      <td>275</td>\n",
              "      <td>274</td>\n",
              "      <td>274</td>\n",
              "      <td>216</td>\n",
              "      <td>3</td>\n",
              "      <td>316</td>\n",
              "      <td>94</td>\n",
              "      <td>398</td>\n",
              "      <td>58</td>\n",
              "      <td>368</td>\n",
              "      <td>94</td>\n",
              "      <td>422</td>\n",
              "      <td>1607</td>\n",
              "      <td>1606</td>\n",
              "      <td>1605</td>\n",
              "      <td>2016</td>\n",
              "      <td>2020</td>\n",
              "      <td>1</td>\n",
              "      <td>17</td>\n",
              "      <td>12</td>\n",
              "      <td>0</td>\n",
              "      <td>4</td>\n",
              "      <td>2020-01-17</td>\n",
              "    </tr>\n",
              "    <tr>\n",
              "      <th>1</th>\n",
              "      <td>1</td>\n",
              "      <td>False</td>\n",
              "      <td>False</td>\n",
              "      <td>False</td>\n",
              "      <td>True</td>\n",
              "      <td>True</td>\n",
              "      <td>False</td>\n",
              "      <td>1</td>\n",
              "      <td>3</td>\n",
              "      <td>4</td>\n",
              "      <td>1</td>\n",
              "      <td>4</td>\n",
              "      <td>1</td>\n",
              "      <td>1</td>\n",
              "      <td>1</td>\n",
              "      <td>3</td>\n",
              "      <td>5</td>\n",
              "      <td>1</td>\n",
              "      <td>1</td>\n",
              "      <td>2</td>\n",
              "      <td>275</td>\n",
              "      <td>1</td>\n",
              "      <td>4</td>\n",
              "      <td>133</td>\n",
              "      <td>571659</td>\n",
              "      <td>346213</td>\n",
              "      <td>2020-06-18 17:48:52</td>\n",
              "      <td>0</td>\n",
              "      <td>114</td>\n",
              "      <td>109</td>\n",
              "      <td>56</td>\n",
              "      <td>1</td>\n",
              "      <td>175</td>\n",
              "      <td>152</td>\n",
              "      <td>56</td>\n",
              "      <td>1</td>\n",
              "      <td>175</td>\n",
              "      <td>152</td>\n",
              "      <td>56</td>\n",
              "      <td>1</td>\n",
              "      <td>275</td>\n",
              "      <td>274</td>\n",
              "      <td>274</td>\n",
              "      <td>216</td>\n",
              "      <td>94</td>\n",
              "      <td>417</td>\n",
              "      <td>94</td>\n",
              "      <td>400</td>\n",
              "      <td>94</td>\n",
              "      <td>399</td>\n",
              "      <td>94</td>\n",
              "      <td>417</td>\n",
              "      <td>1607</td>\n",
              "      <td>1606</td>\n",
              "      <td>1605</td>\n",
              "      <td>2016</td>\n",
              "      <td>2020</td>\n",
              "      <td>6</td>\n",
              "      <td>18</td>\n",
              "      <td>17</td>\n",
              "      <td>0</td>\n",
              "      <td>3</td>\n",
              "      <td>2020-06-18</td>\n",
              "    </tr>\n",
              "    <tr>\n",
              "      <th>2</th>\n",
              "      <td>2</td>\n",
              "      <td>False</td>\n",
              "      <td>False</td>\n",
              "      <td>False</td>\n",
              "      <td>True</td>\n",
              "      <td>False</td>\n",
              "      <td>False</td>\n",
              "      <td>2</td>\n",
              "      <td>0</td>\n",
              "      <td>3</td>\n",
              "      <td>5</td>\n",
              "      <td>3</td>\n",
              "      <td>1</td>\n",
              "      <td>1</td>\n",
              "      <td>3</td>\n",
              "      <td>1</td>\n",
              "      <td>10</td>\n",
              "      <td>2</td>\n",
              "      <td>1</td>\n",
              "      <td>1</td>\n",
              "      <td>94</td>\n",
              "      <td>1</td>\n",
              "      <td>4</td>\n",
              "      <td>53</td>\n",
              "      <td>399816</td>\n",
              "      <td>206408</td>\n",
              "      <td>2020-07-08 20:00:10</td>\n",
              "      <td>0</td>\n",
              "      <td>464</td>\n",
              "      <td>463</td>\n",
              "      <td>450</td>\n",
              "      <td>377</td>\n",
              "      <td>175</td>\n",
              "      <td>152</td>\n",
              "      <td>56</td>\n",
              "      <td>1</td>\n",
              "      <td>452</td>\n",
              "      <td>451</td>\n",
              "      <td>450</td>\n",
              "      <td>377</td>\n",
              "      <td>92</td>\n",
              "      <td>91</td>\n",
              "      <td>56</td>\n",
              "      <td>1</td>\n",
              "      <td>48</td>\n",
              "      <td>364</td>\n",
              "      <td>250</td>\n",
              "      <td>528</td>\n",
              "      <td>48</td>\n",
              "      <td>366</td>\n",
              "      <td>48</td>\n",
              "      <td>363</td>\n",
              "      <td>1599</td>\n",
              "      <td>1595</td>\n",
              "      <td>1572</td>\n",
              "      <td>2016</td>\n",
              "      <td>2020</td>\n",
              "      <td>7</td>\n",
              "      <td>8</td>\n",
              "      <td>20</td>\n",
              "      <td>0</td>\n",
              "      <td>2</td>\n",
              "      <td>2020-07-08</td>\n",
              "    </tr>\n",
              "    <tr>\n",
              "      <th>3</th>\n",
              "      <td>3</td>\n",
              "      <td>False</td>\n",
              "      <td>False</td>\n",
              "      <td>False</td>\n",
              "      <td>True</td>\n",
              "      <td>False</td>\n",
              "      <td>False</td>\n",
              "      <td>2</td>\n",
              "      <td>0</td>\n",
              "      <td>2</td>\n",
              "      <td>5</td>\n",
              "      <td>3</td>\n",
              "      <td>1</td>\n",
              "      <td>1</td>\n",
              "      <td>1</td>\n",
              "      <td>3</td>\n",
              "      <td>5</td>\n",
              "      <td>1</td>\n",
              "      <td>1</td>\n",
              "      <td>2</td>\n",
              "      <td>275</td>\n",
              "      <td>5</td>\n",
              "      <td>3</td>\n",
              "      <td>74</td>\n",
              "      <td>827967</td>\n",
              "      <td>572323</td>\n",
              "      <td>2020-01-13 18:09:34</td>\n",
              "      <td>0</td>\n",
              "      <td>703</td>\n",
              "      <td>703</td>\n",
              "      <td>690</td>\n",
              "      <td>618</td>\n",
              "      <td>703</td>\n",
              "      <td>703</td>\n",
              "      <td>690</td>\n",
              "      <td>618</td>\n",
              "      <td>703</td>\n",
              "      <td>703</td>\n",
              "      <td>690</td>\n",
              "      <td>618</td>\n",
              "      <td>275</td>\n",
              "      <td>274</td>\n",
              "      <td>274</td>\n",
              "      <td>216</td>\n",
              "      <td>71</td>\n",
              "      <td>379</td>\n",
              "      <td>226</td>\n",
              "      <td>495</td>\n",
              "      <td>1</td>\n",
              "      <td>315</td>\n",
              "      <td>71</td>\n",
              "      <td>381</td>\n",
              "      <td>1607</td>\n",
              "      <td>1606</td>\n",
              "      <td>1605</td>\n",
              "      <td>2016</td>\n",
              "      <td>2020</td>\n",
              "      <td>1</td>\n",
              "      <td>13</td>\n",
              "      <td>18</td>\n",
              "      <td>0</td>\n",
              "      <td>0</td>\n",
              "      <td>2020-01-13</td>\n",
              "    </tr>\n",
              "    <tr>\n",
              "      <th>4</th>\n",
              "      <td>4</td>\n",
              "      <td>True</td>\n",
              "      <td>True</td>\n",
              "      <td>True</td>\n",
              "      <td>False</td>\n",
              "      <td>False</td>\n",
              "      <td>False</td>\n",
              "      <td>1</td>\n",
              "      <td>3</td>\n",
              "      <td>4</td>\n",
              "      <td>5</td>\n",
              "      <td>4</td>\n",
              "      <td>1</td>\n",
              "      <td>1</td>\n",
              "      <td>1</td>\n",
              "      <td>1</td>\n",
              "      <td>10</td>\n",
              "      <td>2</td>\n",
              "      <td>1</td>\n",
              "      <td>2</td>\n",
              "      <td>275</td>\n",
              "      <td>1</td>\n",
              "      <td>4</td>\n",
              "      <td>74</td>\n",
              "      <td>831614</td>\n",
              "      <td>573899</td>\n",
              "      <td>2020-03-09 20:39:22</td>\n",
              "      <td>0</td>\n",
              "      <td>275</td>\n",
              "      <td>274</td>\n",
              "      <td>274</td>\n",
              "      <td>216</td>\n",
              "      <td>369</td>\n",
              "      <td>368</td>\n",
              "      <td>297</td>\n",
              "      <td>216</td>\n",
              "      <td>369</td>\n",
              "      <td>368</td>\n",
              "      <td>297</td>\n",
              "      <td>216</td>\n",
              "      <td>275</td>\n",
              "      <td>274</td>\n",
              "      <td>274</td>\n",
              "      <td>216</td>\n",
              "      <td>208</td>\n",
              "      <td>483</td>\n",
              "      <td>208</td>\n",
              "      <td>481</td>\n",
              "      <td>208</td>\n",
              "      <td>480</td>\n",
              "      <td>71</td>\n",
              "      <td>381</td>\n",
              "      <td>1607</td>\n",
              "      <td>1606</td>\n",
              "      <td>1605</td>\n",
              "      <td>2016</td>\n",
              "      <td>2020</td>\n",
              "      <td>3</td>\n",
              "      <td>9</td>\n",
              "      <td>20</td>\n",
              "      <td>0</td>\n",
              "      <td>0</td>\n",
              "      <td>2020-03-09</td>\n",
              "    </tr>\n",
              "  </tbody>\n",
              "</table>\n",
              "</div>\n",
              "      <button class=\"colab-df-convert\" onclick=\"convertToInteractive('df-fa56c8d4-b5d5-474c-b828-6184d73bf619')\"\n",
              "              title=\"Convert this dataframe to an interactive table.\"\n",
              "              style=\"display:none;\">\n",
              "        \n",
              "  <svg xmlns=\"http://www.w3.org/2000/svg\" height=\"24px\"viewBox=\"0 0 24 24\"\n",
              "       width=\"24px\">\n",
              "    <path d=\"M0 0h24v24H0V0z\" fill=\"none\"/>\n",
              "    <path d=\"M18.56 5.44l.94 2.06.94-2.06 2.06-.94-2.06-.94-.94-2.06-.94 2.06-2.06.94zm-11 1L8.5 8.5l.94-2.06 2.06-.94-2.06-.94L8.5 2.5l-.94 2.06-2.06.94zm10 10l.94 2.06.94-2.06 2.06-.94-2.06-.94-.94-2.06-.94 2.06-2.06.94z\"/><path d=\"M17.41 7.96l-1.37-1.37c-.4-.4-.92-.59-1.43-.59-.52 0-1.04.2-1.43.59L10.3 9.45l-7.72 7.72c-.78.78-.78 2.05 0 2.83L4 21.41c.39.39.9.59 1.41.59.51 0 1.02-.2 1.41-.59l7.78-7.78 2.81-2.81c.8-.78.8-2.07 0-2.86zM5.41 20L4 18.59l7.72-7.72 1.47 1.35L5.41 20z\"/>\n",
              "  </svg>\n",
              "      </button>\n",
              "      \n",
              "  <style>\n",
              "    .colab-df-container {\n",
              "      display:flex;\n",
              "      flex-wrap:wrap;\n",
              "      gap: 12px;\n",
              "    }\n",
              "\n",
              "    .colab-df-convert {\n",
              "      background-color: #E8F0FE;\n",
              "      border: none;\n",
              "      border-radius: 50%;\n",
              "      cursor: pointer;\n",
              "      display: none;\n",
              "      fill: #1967D2;\n",
              "      height: 32px;\n",
              "      padding: 0 0 0 0;\n",
              "      width: 32px;\n",
              "    }\n",
              "\n",
              "    .colab-df-convert:hover {\n",
              "      background-color: #E2EBFA;\n",
              "      box-shadow: 0px 1px 2px rgba(60, 64, 67, 0.3), 0px 1px 3px 1px rgba(60, 64, 67, 0.15);\n",
              "      fill: #174EA6;\n",
              "    }\n",
              "\n",
              "    [theme=dark] .colab-df-convert {\n",
              "      background-color: #3B4455;\n",
              "      fill: #D2E3FC;\n",
              "    }\n",
              "\n",
              "    [theme=dark] .colab-df-convert:hover {\n",
              "      background-color: #434B5C;\n",
              "      box-shadow: 0px 1px 3px 1px rgba(0, 0, 0, 0.15);\n",
              "      filter: drop-shadow(0px 1px 2px rgba(0, 0, 0, 0.3));\n",
              "      fill: #FFFFFF;\n",
              "    }\n",
              "  </style>\n",
              "\n",
              "      <script>\n",
              "        const buttonEl =\n",
              "          document.querySelector('#df-fa56c8d4-b5d5-474c-b828-6184d73bf619 button.colab-df-convert');\n",
              "        buttonEl.style.display =\n",
              "          google.colab.kernel.accessAllowed ? 'block' : 'none';\n",
              "\n",
              "        async function convertToInteractive(key) {\n",
              "          const element = document.querySelector('#df-fa56c8d4-b5d5-474c-b828-6184d73bf619');\n",
              "          const dataTable =\n",
              "            await google.colab.kernel.invokeFunction('convertToInteractive',\n",
              "                                                     [key], {});\n",
              "          if (!dataTable) return;\n",
              "\n",
              "          const docLinkHtml = 'Like what you see? Visit the ' +\n",
              "            '<a target=\"_blank\" href=https://colab.research.google.com/notebooks/data_table.ipynb>data table notebook</a>'\n",
              "            + ' to learn more about interactive tables.';\n",
              "          element.innerHTML = '';\n",
              "          dataTable['output_type'] = 'display_data';\n",
              "          await google.colab.output.renderOutput(dataTable, element);\n",
              "          const docLink = document.createElement('div');\n",
              "          docLink.innerHTML = docLinkHtml;\n",
              "          element.appendChild(docLink);\n",
              "        }\n",
              "      </script>\n",
              "    </div>\n",
              "  </div>\n",
              "  "
            ],
            "text/plain": [
              "   id  d_l_match_yn  d_m_match_yn  ...  weekday  weekend        date\n",
              "0   0          True          True  ...        0        4  2020-01-17\n",
              "1   1         False         False  ...        0        3  2020-06-18\n",
              "2   2         False         False  ...        0        2  2020-07-08\n",
              "3   3         False         False  ...        0        0  2020-01-13\n",
              "4   4          True          True  ...        0        0  2020-03-09\n",
              "\n",
              "[5 rows x 63 columns]"
            ]
          },
          "metadata": {},
          "execution_count": 107
        }
      ],
      "source": [
        "train_data.head()"
      ]
    },
    {
      "cell_type": "code",
      "execution_count": null,
      "metadata": {
        "colab": {
          "base_uri": "https://localhost:8080/",
          "height": 531
        },
        "id": "Qo4qlByqhLGV",
        "outputId": "08957f7f-1979-4b0a-f9ab-93bc2812a6aa"
      },
      "outputs": [
        {
          "output_type": "execute_result",
          "data": {
            "text/plain": [
              "Text(0.5, 1.0, 'Countplot of year by test')"
            ]
          },
          "metadata": {},
          "execution_count": 108
        },
        {
          "output_type": "display_data",
          "data": {
            "image/png": "[encoded data removed]",
            "text/plain": [
              "<Figure size 1152x576 with 2 Axes>"
            ]
          },
          "metadata": {
            "needs_background": "light"
          }
        }
      ],
      "source": [
        "## year 살펴보기\n",
        "fig, ax = plt.subplots(ncols = 2, figsize = (16,8))\n",
        "\n",
        "sns.countplot(train_data['year'], ax = ax[0])\n",
        "sns.countplot(test_data['year'], ax = ax[1])\n",
        "\n",
        "ax[0].set_title('Countplot of year by train')\n",
        "ax[1].set_title('Countplot of year by test')"
      ]
    },
    {
      "cell_type": "code",
      "execution_count": null,
      "metadata": {
        "colab": {
          "base_uri": "https://localhost:8080/",
          "height": 531
        },
        "id": "RA-jb2Ka6NQW",
        "outputId": "eaee0a9a-34b4-4ee3-b609-740e0de06853"
      },
      "outputs": [
        {
          "output_type": "execute_result",
          "data": {
            "text/plain": [
              "Text(0.5, 1.0, 'Countplot of month by test')"
            ]
          },
          "metadata": {},
          "execution_count": 109
        },
        {
          "output_type": "display_data",
          "data": {
            "image/png": "[encoded data removed]",
            "text/plain": [
              "<Figure size 1152x576 with 2 Axes>"
            ]
          },
          "metadata": {
            "needs_background": "light"
          }
        }
      ],
      "source": [
        "## month 살펴보기\n",
        "fig, ax = plt.subplots(ncols = 2, figsize = (16,8))\n",
        "\n",
        "sns.countplot(train_data['month'], ax = ax[0])\n",
        "sns.countplot(test_data['month'], ax = ax[1])\n",
        "\n",
        "ax[0].set_title('Countplot of month by train')\n",
        "ax[1].set_title('Countplot of month by test')\n",
        "\n",
        "# train 데이터는 1월부터 11월까지지만 test데이터는 12월의 데이터만 가지고 있다.\n",
        "# 더미화를 사용할 수 없을 것이라 판단된다."
      ]
    },
    {
      "cell_type": "code",
      "execution_count": null,
      "metadata": {
        "colab": {
          "base_uri": "https://localhost:8080/",
          "height": 515
        },
        "id": "B_NstrVrq_1R",
        "outputId": "a8a784cf-fd4f-4295-99e1-030293fd8e6e"
      },
      "outputs": [
        {
          "output_type": "execute_result",
          "data": {
            "text/plain": [
              "<matplotlib.axes._subplots.AxesSubplot at 0x7fabf6c66f50>"
            ]
          },
          "metadata": {},
          "execution_count": 110
        },
        {
          "output_type": "display_data",
          "data": {
            "image/png": "[encoded data removed]",
            "text/plain": [
              "<Figure size 1584x576 with 3 Axes>"
            ]
          },
          "metadata": {
            "needs_background": "light"
          }
        }
      ],
      "source": [
        "## weekend로 살펴보자.\n",
        "fig, ax = plt.subplots(ncols = 3, figsize = (22,8))\n",
        "sns.countplot(train_data['weekend'], ax = ax[0])\n",
        "sns.countplot(test_data['weekend'], ax= ax[1])\n",
        "sns.barplot(data = train_data, x = 'weekend', y = 'target', ax = ax[2])\n",
        "\n",
        "## 다른 부분이 여기서도 발견이 된다.~"
      ]
    },
    {
      "cell_type": "code",
      "execution_count": null,
      "metadata": {
        "colab": {
          "base_uri": "https://localhost:8080/",
          "height": 531
        },
        "id": "v-YyTRd36SNw",
        "outputId": "7001fcf6-4b8b-4422-d37e-14d80848585e"
      },
      "outputs": [
        {
          "output_type": "execute_result",
          "data": {
            "text/plain": [
              "Text(0.5, 1.0, 'Countplot of hour by test')"
            ]
          },
          "metadata": {},
          "execution_count": 111
        },
        {
          "output_type": "display_data",
          "data": {
            "image/png": "[encoded data removed]",
            "text/plain": [
              "<Figure size 1152x576 with 2 Axes>"
            ]
          },
          "metadata": {
            "needs_background": "light"
          }
        }
      ],
      "source": [
        "## hour 살펴보기\n",
        "fig, ax = plt.subplots(ncols = 2, figsize = (16,8))\n",
        "\n",
        "sns.countplot(train_data['hour'], ax = ax[0])\n",
        "sns.countplot(test_data['hour'], ax = ax[1])\n",
        "\n",
        "ax[0].set_title('Countplot of hour by train')\n",
        "ax[1].set_title('Countplot of hour by test')\n",
        "\n",
        "## train과 test의 데이터가 비슷한 분포를 가지고 있다는 것을 알 수 있다."
      ]
    },
    {
      "cell_type": "code",
      "execution_count": null,
      "metadata": {
        "colab": {
          "base_uri": "https://localhost:8080/",
          "height": 515
        },
        "id": "HhDp5PTe6mcZ",
        "outputId": "19117bc9-ab51-4649-a47e-806ac5376c9d"
      },
      "outputs": [
        {
          "output_type": "execute_result",
          "data": {
            "text/plain": [
              "<matplotlib.axes._subplots.AxesSubplot at 0x7fabf6972910>"
            ]
          },
          "metadata": {},
          "execution_count": 112
        },
        {
          "output_type": "display_data",
          "data": {
            "image/png": "[encoded data removed]",
            "text/plain": [
              "<Figure size 1152x576 with 2 Axes>"
            ]
          },
          "metadata": {
            "needs_background": "light"
          }
        }
      ],
      "source": [
        "## train의 hour를 target값과 비교해 보자.\n",
        "fig, ax = plt.subplots(ncols = 2, figsize = (16,8))\n",
        "sns.barplot(data = train_data, x = 'hour', y = 'target', ax = ax[0])\n",
        "sns.barplot(data = train_data, x = 'hour', y = 'target', hue = 'weekday', ax = ax[1])\n",
        "\n",
        "# 재밌는 현상으로 12시 넘어가서는 평일보다 주말에 더 많은 사람이 이용한다."
      ]
    },
    {
      "cell_type": "code",
      "execution_count": null,
      "metadata": {
        "colab": {
          "base_uri": "https://localhost:8080/",
          "height": 515
        },
        "id": "B-KUpB0T-rYb",
        "outputId": "5b130a3b-c66e-4e4e-eb20-2a11c0371fbb"
      },
      "outputs": [
        {
          "output_type": "execute_result",
          "data": {
            "text/plain": [
              "<matplotlib.axes._subplots.AxesSubplot at 0x7fabf6b0f510>"
            ]
          },
          "metadata": {},
          "execution_count": 113
        },
        {
          "output_type": "display_data",
          "data": {
            "image/png": "[encoded data removed]",
            "text/plain": [
              "<Figure size 1584x576 with 1 Axes>"
            ]
          },
          "metadata": {
            "needs_background": "light"
          }
        }
      ],
      "source": [
        "## 더 자세히 살펴보도록 하자.\n",
        "plt.figure(figsize = (22,8))\n",
        "sns.barplot(data = train_data, x = 'hour', y = 'target', hue = 'weekday')"
      ]
    },
    {
      "cell_type": "code",
      "execution_count": null,
      "metadata": {
        "colab": {
          "base_uri": "https://localhost:8080/",
          "height": 515
        },
        "id": "PTQY1Mp5Vz3a",
        "outputId": "99ebaf5e-e972-43c1-c040-d2f65c2c1568"
      },
      "outputs": [
        {
          "output_type": "execute_result",
          "data": {
            "text/plain": [
              "<matplotlib.axes._subplots.AxesSubplot at 0x7fabf83a0d50>"
            ]
          },
          "metadata": {},
          "execution_count": 114
        },
        {
          "output_type": "display_data",
          "data": {
            "image/png": "[encoded data removed]",
            "text/plain": [
              "<Figure size 1584x576 with 1 Axes>"
            ]
          },
          "metadata": {
            "needs_background": "light"
          }
        }
      ],
      "source": [
        "# 시간을 요일별로 확인해 보자.\n",
        "plt.figure(figsize = (22,8))\n",
        "sns.barplot(data = train_data, x = 'hour', y = 'target', hue = 'weekend')"
      ]
    },
    {
      "cell_type": "code",
      "execution_count": null,
      "metadata": {
        "colab": {
          "base_uri": "https://localhost:8080/",
          "height": 531
        },
        "id": "uX_QeawbCVEt",
        "outputId": "ea30e4d8-761d-4105-c1f8-b99ad3b37075"
      },
      "outputs": [
        {
          "output_type": "execute_result",
          "data": {
            "text/plain": [
              "Text(0.5, 1.0, 'weekday of target by train')"
            ]
          },
          "metadata": {},
          "execution_count": 115
        },
        {
          "output_type": "display_data",
          "data": {
            "image/png": "[encoded data removed]",
            "text/plain": [
              "<Figure size 1152x576 with 2 Axes>"
            ]
          },
          "metadata": {
            "needs_background": "light"
          }
        }
      ],
      "source": [
        "# 평일과 주말을 target과 비교해보자.\n",
        "fig, ax = plt.subplots(ncols = 2,figsize = (16,8))\n",
        "sns.countplot(train_data['weekday'], ax = ax[0])\n",
        "sns.barplot(data = train_data, x = 'weekday', y = 'target', ax = ax[1])\n",
        "\n",
        "ax[0].set_title('weekday of countplot')\n",
        "ax[1].set_title('weekday of target by train')\n",
        "# 평일과 주말의 차이가 크지 않다고 생각한다."
      ]
    },
    {
      "cell_type": "code",
      "execution_count": null,
      "metadata": {
        "colab": {
          "base_uri": "https://localhost:8080/",
          "height": 515
        },
        "id": "Exei8kcb60i7",
        "outputId": "919476ed-59a4-48e3-f79a-0adcea185087"
      },
      "outputs": [
        {
          "output_type": "execute_result",
          "data": {
            "text/plain": [
              "<matplotlib.axes._subplots.AxesSubplot at 0x7fabf6041850>"
            ]
          },
          "metadata": {},
          "execution_count": 116
        },
        {
          "output_type": "display_data",
          "data": {
            "image/png": "[encoded data removed]",
            "text/plain": [
              "<Figure size 1584x576 with 1 Axes>"
            ]
          },
          "metadata": {
            "needs_background": "light"
          }
        }
      ],
      "source": [
        "## date를 이용하여 점점 늘어나는지 확인해보자.\n",
        "plot_data = train_data.groupby('date')['target'].mean()\n",
        "plot_data\n",
        "plt.figure(figsize = (22,8))\n",
        "sns.lineplot(data = plot_data, x = plot_data.index, y = plot_data.values)\n",
        "\n",
        "## 2020.05.31을 줄이니 더 좋은 성과를 낸다."
      ]
    },
    {
      "cell_type": "code",
      "execution_count": null,
      "metadata": {
        "id": "lrpJ1Qj99qPj"
      },
      "outputs": [],
      "source": [
        "## 우리가 확인해봐야할 것\n",
        "## 평일에 공휴일인 곳을 바꿔줘야 한다.\n",
        "## 왜 저 날은 내려갔을까?\n",
        "## 중복 제거를 해야할 것 같은데 그 부분도 한번 계속 확인해보자."
      ]
    },
    {
      "cell_type": "code",
      "execution_count": null,
      "metadata": {
        "colab": {
          "base_uri": "https://localhost:8080/"
        },
        "id": "P_1R9Qdx992C",
        "outputId": "11212799-1f12-4b66-9184-bc998e56422b"
      },
      "outputs": [
        {
          "output_type": "stream",
          "name": "stdout",
          "text": [
            "2020-05-31\n"
          ]
        }
      ],
      "source": [
        "for i in plot_data.index:\n",
        "    if plot_data[i] < 0.4:\n",
        "        print(i)\n",
        "\n",
        "## 왜 이 날짜만 적게 나타났을까?\n",
        "# train_data[train_data['date'] == datetime.date(2020, 5, 31)]\n",
        "\n",
        "delete_index = train_data[train_data['date'] == datetime.date(2020, 5, 31)].index\n",
        "\n",
        "train_data = train_data.drop(delete_index, axis = 0)\n",
        "\n",
        "train_data = train_data.reset_index(drop = True)"
      ]
    },
    {
      "cell_type": "markdown",
      "metadata": {
        "id": "17DMUlRwDfeM"
      },
      "source": [
        "![image.png](data:image/png;base64,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)"
      ]
    },
    {
      "cell_type": "code",
      "execution_count": null,
      "metadata": {
        "id": "s7TSwcvPAheM"
      },
      "outputs": [],
      "source": [
        "## 평일인데 공휴일인 부분은 주말로 변경해주자.\n",
        "train_data['date'] = train_data['date'].apply(lambda x:str(x))\n",
        "\n",
        "change_date = ['2020-01-01', '2020-01-24', '2020-04-30','2020-05-05','2020-08-17', '2020-09-30','2020-10-01','2020-10-02','2020-10-09','2020-12-25']\n",
        "\n",
        "for i in train_data.index:\n",
        "    if train_data.loc[i, 'date'] in change_date:\n",
        "\n",
        "        train_data.loc[i,'weekday'] = 1\n",
        "        train_data.loc[i,'weekend'] = 6"
      ]
    },
    {
      "cell_type": "code",
      "execution_count": null,
      "metadata": {
        "colab": {
          "base_uri": "https://localhost:8080/",
          "height": 515
        },
        "id": "bV-rUIMnMjrl",
        "outputId": "3952f9a5-2dcd-495d-923b-ea25b71fe121"
      },
      "outputs": [
        {
          "output_type": "execute_result",
          "data": {
            "text/plain": [
              "<matplotlib.axes._subplots.AxesSubplot at 0x7fabf5f0f090>"
            ]
          },
          "metadata": {},
          "execution_count": 120
        },
        {
          "output_type": "display_data",
          "data": {
            "image/png": "[encoded data removed]",
            "text/plain": [
              "<Figure size 1584x576 with 1 Axes>"
            ]
          },
          "metadata": {
            "needs_background": "light"
          }
        }
      ],
      "source": [
        "# ??? 영향이 없나...? ㅎㅎ\n",
        "plt.figure(figsize = (22,8))\n",
        "sns.barplot(data = train_data, x = 'weekday', y = 'target')"
      ]
    },
    {
      "cell_type": "code",
      "execution_count": null,
      "metadata": {
        "colab": {
          "base_uri": "https://localhost:8080/",
          "height": 516
        },
        "id": "JqWxEHV5s8qL",
        "outputId": "14ad2af9-e9e8-4666-c4ad-a45635e18d9b"
      },
      "outputs": [
        {
          "output_type": "execute_result",
          "data": {
            "text/plain": [
              "<matplotlib.axes._subplots.AxesSubplot at 0x7fabf3ef9650>"
            ]
          },
          "metadata": {},
          "execution_count": 121
        },
        {
          "output_type": "display_data",
          "data": {
            "image/png": "[encoded data removed]",
            "text/plain": [
              "<Figure size 1584x576 with 2 Axes>"
            ]
          },
          "metadata": {
            "needs_background": "light"
          }
        }
      ],
      "source": [
        "fig, ax = plt.subplots(nrows = 2,figsize = (22,8))\n",
        "sns.barplot(data = train_data, x = 'contents_attribute_d_m', y = 'target', ax = ax[0])\n",
        "sns.countplot(train_data['contents_attribute_d_m'], ax = ax[1])"
      ]
    },
    {
      "cell_type": "markdown",
      "metadata": {
        "id": "Jr57t3qHQYtX"
      },
      "source": [
        "### D,H,L 데이터 target 평균값으로 mapping 해주기"
      ]
    },
    {
      "cell_type": "code",
      "execution_count": null,
      "metadata": {
        "id": "Tbh3ZavbQgPg"
      },
      "outputs": [],
      "source": [
        "## groupby 해야하는 것 전부!!!\n",
        "def D_H_L_mapping(train = None, test = None):\n",
        "    \n",
        "    ## D_1_code\n",
        "    person_prefer_d_1_l = train.groupby('person_prefer_d_1_l')['target'].mean()\n",
        "    train['person_prefer_d_1_l'] = train['person_prefer_d_1_l'].map({i:j for i, j in zip(person_prefer_d_1_l.keys(), person_prefer_d_1_l.values)})\n",
        "    test['person_prefer_d_1_l'] = test['person_prefer_d_1_l'].map({i:j for i, j in zip(person_prefer_d_1_l.keys(), person_prefer_d_1_l.values)})\n",
        "\n",
        "    person_prefer_d_1_n = train.groupby('person_prefer_d_1_n')['target'].mean()\n",
        "    train['person_prefer_d_1_n'] = train['person_prefer_d_1_n'].map({i:j for i, j in zip(person_prefer_d_1_n.keys(), person_prefer_d_1_n.values)})\n",
        "    test['person_prefer_d_1_n'] = test['person_prefer_d_1_n'].map({i:j for i, j in zip(person_prefer_d_1_n.keys(), person_prefer_d_1_n.values)})\n",
        "\n",
        "\n",
        "    person_prefer_d_1_m = train.groupby('person_prefer_d_1_m')['target'].mean()\n",
        "    train['person_prefer_d_1_m'] = train['person_prefer_d_1_m'].map({i:j for i, j in zip(person_prefer_d_1_m.keys(), person_prefer_d_1_m.values)})\n",
        "    test['person_prefer_d_1_m'] = test['person_prefer_d_1_m'].map({i:j for i, j in zip(person_prefer_d_1_m.keys(), person_prefer_d_1_m.values)})\n",
        "    \n",
        "    person_prefer_d_1_s = train.groupby('person_prefer_d_1_s')['target'].mean()\n",
        "    train['person_prefer_d_1_s'] = train['person_prefer_d_1_s'].map({i:j for i, j in zip(person_prefer_d_1_s.keys(), person_prefer_d_1_s.values)})\n",
        "    test['person_prefer_d_1_s'] = test['person_prefer_d_1_s'].map({i:j for i, j in zip(person_prefer_d_1_s.keys(), person_prefer_d_1_s.values)})\n",
        "\n",
        "    ## D_2_code\n",
        "    person_prefer_d_2_l = train.groupby('person_prefer_d_2_l')['target'].mean()\n",
        "    train['person_prefer_d_2_l'] = train['person_prefer_d_2_l'].map({i:j for i, j in zip(person_prefer_d_2_l.keys(), person_prefer_d_2_l.values)})\n",
        "    test['person_prefer_d_2_l'] = test['person_prefer_d_2_l'].map({i:j for i, j in zip(person_prefer_d_2_l.keys(), person_prefer_d_2_l.values)})\n",
        "\n",
        "    person_prefer_d_2_n = train.groupby('person_prefer_d_2_n')['target'].mean()\n",
        "    train['person_prefer_d_2_n'] = train['person_prefer_d_2_n'].map({i:j for i, j in zip(person_prefer_d_2_n.keys(), person_prefer_d_2_n.values)})\n",
        "    test['person_prefer_d_2_n'] = test['person_prefer_d_2_n'].map({i:j for i, j in zip(person_prefer_d_2_n.keys(), person_prefer_d_2_n.values)})\n",
        "    \n",
        "    person_prefer_d_2_m = train.groupby('person_prefer_d_2_m')['target'].mean()\n",
        "    train['person_prefer_d_2_m'] = train['person_prefer_d_2_m'].map({i:j for i, j in zip(person_prefer_d_2_m.keys(), person_prefer_d_2_m.values)})\n",
        "    test['person_prefer_d_2_m'] = test['person_prefer_d_2_m'].map({i:j for i, j in zip(person_prefer_d_2_m.keys(), person_prefer_d_2_m.values)})\n",
        "\n",
        "    person_prefer_d_2_s = train.groupby('person_prefer_d_2_s')['target'].mean()\n",
        "    train['person_prefer_d_2_s'] = train['person_prefer_d_2_s'].map({i:j for i, j in zip(person_prefer_d_2_s.keys(), person_prefer_d_2_s.values)})\n",
        "    test['person_prefer_d_2_s'] = test['person_prefer_d_2_s'].map({i:j for i, j in zip(person_prefer_d_2_s.keys(), person_prefer_d_2_s.values)})\n",
        "\n",
        "    ## D_3_code\n",
        "    person_prefer_d_3_l = train.groupby('person_prefer_d_3_l')['target'].mean()\n",
        "    train['person_prefer_d_3_l'] = train['person_prefer_d_3_l'].map({i:j for i, j in zip(person_prefer_d_3_l.keys(), person_prefer_d_3_l.values)})\n",
        "    test['person_prefer_d_3_l'] = test['person_prefer_d_3_l'].map({i:j for i, j in zip(person_prefer_d_3_l.keys(), person_prefer_d_3_l.values)})\n",
        "\n",
        "    person_prefer_d_3_n = train.groupby('person_prefer_d_3_n')['target'].mean()\n",
        "    train['person_prefer_d_3_n'] = train['person_prefer_d_3_n'].map({i:j for i, j in zip(person_prefer_d_3_n.keys(), person_prefer_d_3_n.values)})\n",
        "    test['person_prefer_d_3_n'] = test['person_prefer_d_3_n'].map({i:j for i, j in zip(person_prefer_d_3_n.keys(), person_prefer_d_3_n.values)})\n",
        "    \n",
        "    person_prefer_d_3_m = train.groupby('person_prefer_d_3_m')['target'].mean()\n",
        "    train['person_prefer_d_3_m'] = train['person_prefer_d_3_m'].map({i:j for i, j in zip(person_prefer_d_3_m.keys(), person_prefer_d_3_m.values)})\n",
        "    test['person_prefer_d_3_m'] = test['person_prefer_d_3_m'].map({i:j for i, j in zip(person_prefer_d_3_m.keys(), person_prefer_d_3_m.values)})\n",
        "\n",
        "    person_prefer_d_3_s = train.groupby('person_prefer_d_3_s')['target'].mean()\n",
        "    train['person_prefer_d_3_s'] = train['person_prefer_d_3_s'].map({i:j for i, j in zip(person_prefer_d_3_s.keys(), person_prefer_d_3_s.values)})\n",
        "    test['person_prefer_d_3_s'] = test['person_prefer_d_3_s'].map({i:j for i, j in zip(person_prefer_d_3_s.keys(), person_prefer_d_3_s.values)})\n",
        "    \n",
        "    ## contents_d\n",
        "    contents_attribute_d_l = train.groupby('contents_attribute_d_l')['target'].mean()\n",
        "    train['contents_attribute_d_l'] = train['contents_attribute_d_l'].map({i:j for i, j in zip(contents_attribute_d_l.keys(), contents_attribute_d_l.values)})\n",
        "    test['contents_attribute_d_l'] = test['contents_attribute_d_l'].map({i:j for i, j in zip(contents_attribute_d_l.keys(), contents_attribute_d_l.values)})\n",
        "\n",
        "    contents_attribute_d_m = train.groupby('contents_attribute_d_m')['target'].mean()\n",
        "    train['contents_attribute_d_m'] = train['contents_attribute_d_m'].map({i:j for i, j in zip(contents_attribute_d_m.keys(), contents_attribute_d_m.values)})\n",
        "    test['contents_attribute_d_m'] = test['contents_attribute_d_m'].map({i:j for i, j in zip(contents_attribute_d_m.keys(), contents_attribute_d_m.values)})\n",
        "\n",
        "    contents_attribute_d_n = train.groupby('contents_attribute_d_n')['target'].mean()\n",
        "    train['contents_attribute_d_n'] = train['contents_attribute_d_n'].map({i:j for i, j in zip(contents_attribute_d_n.keys(), contents_attribute_d_n.values)})\n",
        "    test['contents_attribute_d_n'] = test['contents_attribute_d_n'].map({i:j for i, j in zip(contents_attribute_d_n.keys(), contents_attribute_d_n.values)})\n",
        "\n",
        "    contents_attribute_d_s = train.groupby('contents_attribute_d_s')['target'].mean()\n",
        "    train['contents_attribute_d_s'] = train['contents_attribute_d_s'].map({i:j for i, j in zip(contents_attribute_d_s.keys(), contents_attribute_d_s.values)})\n",
        "    test['contents_attribute_d_s'] = test['contents_attribute_d_s'].map({i:j for i, j in zip(contents_attribute_d_s.keys(), contents_attribute_d_s.values)})\n",
        "\n",
        "    ## H_1_code\n",
        "    person_prefer_h_1_l = train.groupby('person_prefer_h_1_l')['target'].mean()\n",
        "    train['person_prefer_h_1_l'] = train['person_prefer_h_1_l'].map({i:j for i, j in zip(person_prefer_h_1_l.keys(), person_prefer_h_1_l.values)})\n",
        "    test['person_prefer_h_1_l'] = test['person_prefer_h_1_l'].map({i:j for i, j in zip(person_prefer_h_1_l.keys(), person_prefer_h_1_l.values)})\n",
        "    \n",
        "    person_prefer_h_1_m = train.groupby('person_prefer_h_1_m')['target'].mean()\n",
        "    train['person_prefer_h_1_m'] = train['person_prefer_h_1_m'].map({i:j for i, j in zip(person_prefer_h_1_m.keys(), person_prefer_h_1_m.values)})\n",
        "    test['person_prefer_h_1_m'] = test['person_prefer_h_1_m'].map({i:j for i, j in zip(person_prefer_h_1_m.keys(), person_prefer_h_1_m.values)})\n",
        "\n",
        "    ## H_2_code\n",
        "    person_prefer_h_2_l = train.groupby('person_prefer_h_2_l')['target'].mean()\n",
        "    train['person_prefer_h_2_l'] = train['person_prefer_h_2_l'].map({i:j for i, j in zip(person_prefer_h_2_l.keys(), person_prefer_h_2_l.values)})\n",
        "    test['person_prefer_h_2_l'] = test['person_prefer_h_2_l'].map({i:j for i, j in zip(person_prefer_h_2_l.keys(), person_prefer_h_2_l.values)})\n",
        "\n",
        "    person_prefer_h_2_m = train.groupby('person_prefer_h_2_m')['target'].mean()\n",
        "    train['person_prefer_h_2_m'] = train['person_prefer_h_2_m'].map({i:j for i, j in zip(person_prefer_h_2_m.keys(), person_prefer_h_2_m.values)})\n",
        "    test['person_prefer_h_2_m'] = test['person_prefer_h_2_m'].map({i:j for i, j in zip(person_prefer_h_2_m.keys(), person_prefer_h_2_m.values)})\n",
        "\n",
        "    ## H_3_code\n",
        "    person_prefer_h_3_l = train.groupby('person_prefer_h_3_l')['target'].mean()\n",
        "    train['person_prefer_h_3_l'] = train['person_prefer_h_3_l'].map({i:j for i, j in zip(person_prefer_h_3_l.keys(), person_prefer_h_3_l.values)})\n",
        "    test['person_prefer_h_3_l'] = test['person_prefer_h_3_l'].map({i:j for i, j in zip(person_prefer_h_3_l.keys(), person_prefer_h_3_l.values)})\n",
        "\n",
        "    person_prefer_h_3_m = train.groupby('person_prefer_h_3_m')['target'].mean()\n",
        "    train['person_prefer_h_3_m'] = train['person_prefer_h_3_m'].map({i:j for i, j in zip(person_prefer_h_3_m.keys(), person_prefer_h_3_m.values)})\n",
        "    test['person_prefer_h_3_m'] = test['person_prefer_h_3_m'].map({i:j for i, j in zip(person_prefer_h_3_m.keys(), person_prefer_h_3_m.values)})\n",
        "\n",
        "    ## contents_H\n",
        "    contents_attribute_h_l = train.groupby('contents_attribute_h_l')['target'].mean()\n",
        "    train['contents_attribute_h_l'] = train['contents_attribute_h_l'].map({i:j for i, j in zip(contents_attribute_h_l.keys(), contents_attribute_h_l.values)})\n",
        "    test['contents_attribute_h_l'] = test['contents_attribute_h_l'].map({i:j for i, j in zip(contents_attribute_h_l.keys(), contents_attribute_h_l.values)})\n",
        "\n",
        "    contents_attribute_h_m = train.groupby('contents_attribute_h_m')['target'].mean()\n",
        "    train['contents_attribute_h_m'] = train['contents_attribute_h_m'].map({i:j for i, j in zip(contents_attribute_h_m.keys(), contents_attribute_h_m.values)})\n",
        "    test['contents_attribute_h_m'] = test['contents_attribute_h_m'].map({i:j for i, j in zip(contents_attribute_h_m.keys(), contents_attribute_h_m.values)})\n",
        "\n",
        "    ## L_code\n",
        "    contents_attribute_l_n = train.groupby('contents_attribute_l_n')['target'].mean()\n",
        "    train['contents_attribute_l_n'] = train['contents_attribute_l_n'].map({i:j for i, j in zip(contents_attribute_l_n.keys(), contents_attribute_l_n.values)})\n",
        "    test['contents_attribute_l_n'] = test['contents_attribute_l_n'].map({i:j for i, j in zip(contents_attribute_l_n.keys(), contents_attribute_l_n.values)})\n",
        "    \n",
        "    contents_attribute_l_s = train.groupby('contents_attribute_l_s')['target'].mean()\n",
        "    train['contents_attribute_l_s'] = train['contents_attribute_l_s'].map({i:j for i, j in zip(contents_attribute_l_s.keys(), contents_attribute_l_s.values)})\n",
        "    test['contents_attribute_l_s'] = test['contents_attribute_l_s'].map({i:j for i, j in zip(contents_attribute_l_s.keys(), contents_attribute_l_s.values)})\n",
        "\n",
        "    contents_attribute_l_m = train.groupby('contents_attribute_l_m')['target'].mean()\n",
        "    train['contents_attribute_l_m'] = train['contents_attribute_l_m'].map({i:j for i, j in zip(contents_attribute_l_m.keys(), contents_attribute_l_m.values)})\n",
        "    test['contents_attribute_l_m'] = test['contents_attribute_l_m'].map({i:j for i, j in zip(contents_attribute_l_m.keys(), contents_attribute_l_m.values)})\n",
        "\n",
        "    contents_attribute_l_l = train.groupby('contents_attribute_l_l')['target'].mean()\n",
        "    train['contents_attribute_l_l'] = train['contents_attribute_l_l'].map({i:j for i, j in zip(contents_attribute_l_l.keys(), contents_attribute_l_l.values)})\n",
        "    test['contents_attribute_l_l'] = test['contents_attribute_l_l'].map({i:j for i, j in zip(contents_attribute_l_l.keys(), contents_attribute_l_l.values)})\n",
        "\n",
        "    return train, test"
      ]
    },
    {
      "cell_type": "code",
      "execution_count": null,
      "metadata": {
        "id": "vK23CHc1SIRe"
      },
      "outputs": [],
      "source": [
        "train_data, test_data = D_H_L_mapping(train = train_data, test = test_data)"
      ]
    },
    {
      "cell_type": "code",
      "source": [
        "train_data.columns"
      ],
      "metadata": {
        "colab": {
          "base_uri": "https://localhost:8080/"
        },
        "id": "hosLFQHrCzrr",
        "outputId": "c30500c4-a9d7-4a18-a814-189ada368491"
      },
      "execution_count": null,
      "outputs": [
        {
          "output_type": "execute_result",
          "data": {
            "text/plain": [
              "Index(['id', 'd_l_match_yn', 'd_m_match_yn', 'd_s_match_yn', 'h_l_match_yn',\n",
              "       'h_m_match_yn', 'h_s_match_yn', 'person_attribute_a',\n",
              "       'person_attribute_a_1', 'person_attribute_b', 'person_prefer_c',\n",
              "       'person_prefer_e', 'person_prefer_f', 'person_prefer_g',\n",
              "       'contents_attribute_i', 'contents_attribute_a',\n",
              "       'contents_attribute_j_1', 'contents_attribute_j',\n",
              "       'contents_attribute_c', 'contents_attribute_k', 'contents_attribute_d',\n",
              "       'contents_attribute_m', 'contents_attribute_e', 'contents_attribute_h',\n",
              "       'person_rn', 'contents_rn', 'target', 'person_prefer_d_1_n',\n",
              "       'person_prefer_d_1_s', 'person_prefer_d_1_m', 'person_prefer_d_1_l',\n",
              "       'person_prefer_d_2_n', 'person_prefer_d_2_s', 'person_prefer_d_2_m',\n",
              "       'person_prefer_d_2_l', 'person_prefer_d_3_n', 'person_prefer_d_3_s',\n",
              "       'person_prefer_d_3_m', 'person_prefer_d_3_l', 'contents_attribute_d_n',\n",
              "       'contents_attribute_d_s', 'contents_attribute_d_m',\n",
              "       'contents_attribute_d_l', 'person_prefer_h_1_l', 'person_prefer_h_1_m',\n",
              "       'person_prefer_h_2_l', 'person_prefer_h_2_m', 'person_prefer_h_3_l',\n",
              "       'person_prefer_h_3_m', 'contents_attribute_h_l',\n",
              "       'contents_attribute_h_m', 'contents_attribute_l_n',\n",
              "       'contents_attribute_l_s', 'contents_attribute_l_m',\n",
              "       'contents_attribute_l_l', 'year', 'month', 'day', 'hour', 'weekday',\n",
              "       'weekend', 'date'],\n",
              "      dtype='object')"
            ]
          },
          "metadata": {},
          "execution_count": 145
        }
      ]
    },
    {
      "cell_type": "code",
      "source": [
        "plt.scatter(data= train_data, x= 'contents_attribute_j', y='contents_attribute_j_1')"
      ],
      "metadata": {
        "colab": {
          "base_uri": "https://localhost:8080/",
          "height": 283
        },
        "id": "xNol15SHCvoN",
        "outputId": "b5fa1fd5-6cea-4077-9175-33fbc21d6c44"
      },
      "execution_count": null,
      "outputs": [
        {
          "output_type": "execute_result",
          "data": {
            "text/plain": [
              "<matplotlib.collections.PathCollection at 0x7fababc8d950>"
            ]
          },
          "metadata": {},
          "execution_count": 146
        },
        {
          "output_type": "display_data",
          "data": {
            "image/png": "[encoded data removed]",
            "text/plain": [
              "<Figure size 432x288 with 1 Axes>"
            ]
          },
          "metadata": {
            "needs_background": "light"
          }
        }
      ]
    },
    {
      "cell_type": "code",
      "source": [
        "sns.countplot(data= train_data, x= 'contents_attribute_j', hue= 'target')"
      ],
      "metadata": {
        "colab": {
          "base_uri": "https://localhost:8080/",
          "height": 298
        },
        "id": "8-F-TLG_Eicy",
        "outputId": "4846dda1-994b-46be-ee7c-0c6b0b8b4b81"
      },
      "execution_count": null,
      "outputs": [
        {
          "output_type": "execute_result",
          "data": {
            "text/plain": [
              "<matplotlib.axes._subplots.AxesSubplot at 0x7fabab6df150>"
            ]
          },
          "metadata": {},
          "execution_count": 151
        },
        {
          "output_type": "display_data",
          "data": {
            "image/png": "[encoded data removed]",
            "text/plain": [
              "<Figure size 432x288 with 1 Axes>"
            ]
          },
          "metadata": {
            "needs_background": "light"
          }
        }
      ]
    },
    {
      "cell_type": "code",
      "source": [
        "sns.countplot(data= train_data, x= 'contents_attribute_j_1', hue='contents_attribute_j')\n",
        "#j는 필요 없어 보임. j_1만으로도 가능"
      ],
      "metadata": {
        "colab": {
          "base_uri": "https://localhost:8080/",
          "height": 298
        },
        "id": "0VNg_8d9EPrL",
        "outputId": "19837784-9e89-4dfb-f940-5d0054aa2798"
      },
      "execution_count": null,
      "outputs": [
        {
          "output_type": "execute_result",
          "data": {
            "text/plain": [
              "<matplotlib.axes._subplots.AxesSubplot at 0x7fabab7dc7d0>"
            ]
          },
          "metadata": {},
          "execution_count": 149
        },
        {
          "output_type": "display_data",
          "data": {
            "image/png": "[encoded data removed]",
            "text/plain": [
              "<Figure size 432x288 with 1 Axes>"
            ]
          },
          "metadata": {
            "needs_background": "light"
          }
        }
      ]
    },
    {
      "cell_type": "markdown",
      "metadata": {
        "id": "aOwa9zadTi_e"
      },
      "source": [
        "### True False 되어있는 부분 대분류만 처리해주기"
      ]
    },
    {
      "cell_type": "code",
      "execution_count": null,
      "metadata": {
        "id": "zWfJqAczTmnT"
      },
      "outputs": [],
      "source": [
        "## 이 방법을 사용하려고 했지만 데이터를 살펴본 결과 시작 데이터부터 이상이 생겨서 안하도록 하자.\n",
        "# from tqdm import tqdm\n",
        "# def True_False_change(data = None, columns = None, match = None):\n",
        "#     for i in tqdm(data.index):\n",
        "#         if data.loc[i,match] == False:\n",
        "#             for j in columns:\n",
        "#                 data.loc[i,j] = 99999\n",
        "#     return data\n",
        "\n",
        "# # 이 부분은 나중에 한번 더 추가하여 모델 돌려보기~\n",
        "# train_data = True_False_change(data = train_data, columns = ['person_prefer_d_1_l', 'contents_attribute_d_l'], match = 'd_l_match_yn')\n",
        "# train_data = True_False_change(data = train_data, columns = ['person_prefer_h_1_l', 'contents_attribute_h_l'], match = 'h_l_match_yn')\n",
        "\n",
        "\n",
        "# test_data = True_False_change(data = test_data, columns = ['person_prefer_d_1_l', 'contents_attribute_d_l'], match = 'd_l_match_yn')\n",
        "# test_data = True_False_change(data = test_data, columns = ['person_prefer_h_1_l', 'contents_attribute_h_l'], match = 'h_l_match_yn')"
      ]
    },
    {
      "cell_type": "markdown",
      "metadata": {
        "id": "oJXIla6ehIud"
      },
      "source": [
        "### E데이터 살펴보기"
      ]
    },
    {
      "cell_type": "code",
      "execution_count": null,
      "metadata": {
        "id": "EUl29SI6fUOV"
      },
      "outputs": [],
      "source": [
        "## 아무 연관이 없다.\n",
        "# for i in train_data['person_prefer_e'].unique():\n",
        "#     plt.figure(figsize = (22,8))\n",
        "#     sns.barplot(data = train_data[train_data['person_prefer_e'] == i], x = 'contents_attribute_e', y = 'target')\n",
        "#     plt.title(f'person_prefer_e : {i}')\n",
        "#     plt.show()"
      ]
    },
    {
      "cell_type": "markdown",
      "metadata": {
        "id": "Jej6LKgvNj_6"
      },
      "source": [
        "## Modeling"
      ]
    },
    {
      "cell_type": "code",
      "execution_count": null,
      "metadata": {
        "id": "dSIY6r_er8rQ"
      },
      "outputs": [],
      "source": [
        "## 1. weekend에서 train과 test에 차이가 있다고 판단함 -->> weekend를 변수로 추가해보자.\n",
        "## 2. hour의 차이가 없다면? -->  제거해보고 모델 확인해 보기"
      ]
    },
    {
      "cell_type": "markdown",
      "source": [
        "------"
      ],
      "metadata": {
        "id": "1dD19xdEDKAO"
      }
    },
    {
      "cell_type": "code",
      "execution_count": null,
      "metadata": {
        "id": "qb4vSbI3NrbM"
      },
      "outputs": [],
      "source": [
        "## Github에 보면 person_attribute_a와 person_attribute_a_1의 값을 비교해 봤을 때 두 개의 변수가 다 필요하다고 생각된다.\n",
        "## 변수를 추출하며 확인해 보자.\n",
        "# dummy_column = ['weekend','person_attribute_a_1', 'person_attribute_b','person_prefer_c','person_prefer_e','contents_attribute_j_1','contents_attribute_c','contents_attribute_m','contents_attribute_e']\n",
        "dummy_column = ['person_attribute_a_1', 'person_attribute_b','person_prefer_c','person_prefer_e','contents_attribute_j_1','contents_attribute_c','contents_attribute_m','contents_attribute_e']\n",
        "drop_column = ['id','person_rn','contents_rn','year','month','day','weekday','hour','date','contents_attribute_j','person_prefer_f','person_prefer_g','d_l_match_yn', 'd_m_match_yn', 'd_s_match_yn', 'h_l_match_yn',\n",
        "       'h_m_match_yn', 'h_s_match_yn','contents_attribute_d','contents_attribute_h']\n",
        "\n",
        "final_train = train_data.drop(drop_column, axis = 1)\n",
        "final_test = test_data.drop(drop_column, axis = 1)\n",
        "\n",
        "############### 만약에 중분류를 사용한다면? ##########################\n",
        "# print(final_train.shape, final_test.shape)\n",
        "# final_concat = pd.concat([final_train, final_test], axis = 0)\n",
        "# final_data = pd.get_dummies(data = final_concat, columns = dummy_column)\n",
        "\n",
        "# final_train = final_data.iloc[:501951,:]\n",
        "# final_test = final_data.iloc[501951:,:].drop('target', axis = 1)\n",
        "\n",
        "# print(final_train.shape, final_test.shape)\n",
        "######################################################################\n",
        "\n",
        "# # # train에만 존재하는 변수가 있기 때문에\n",
        "final_train = pd.get_dummies(data = final_train, columns = dummy_column, drop_first = True)\n",
        "final_test = pd.get_dummies(data = final_test, columns = dummy_column, drop_first = True)"
      ]
    },
    {
      "cell_type": "markdown",
      "source": [
        "# cyclic Encoding"
      ],
      "metadata": {
        "id": "jcXWdzCO9tos"
      }
    },
    {
      "cell_type": "code",
      "source": [
        "#cyclic Encoding 추가 > weekend\n",
        "def cyclic_feat(df,col):\n",
        "  df[col+'_sin']= np.sin((2*np.pi*df[col])/max(df[col]))\n",
        "  df[col+'_cos']= np.cos((2*np.pi*df[col])/max(df[col]))\n",
        "  df.drop(col, axis=1,inplace=True)\n",
        "\n",
        "cyclic_feat(final_train, 'weekend')\n",
        "cyclic_feat(final_test, 'weekend')"
      ],
      "metadata": {
        "id": "uTbnusR33Rf6"
      },
      "execution_count": null,
      "outputs": []
    },
    {
      "cell_type": "code",
      "execution_count": null,
      "metadata": {
        "colab": {
          "base_uri": "https://localhost:8080/"
        },
        "id": "kGJWxdZthAp-",
        "outputId": "9bccda36-bf97-47fd-822f-864c08301775"
      },
      "outputs": [
        {
          "output_type": "stream",
          "name": "stdout",
          "text": [
            "train_data shape : (501374, 88)\n",
            "test_data shape : (46404, 87)\n"
          ]
        }
      ],
      "source": [
        "print('train_data shape :', final_train.shape)\n",
        "print('test_data shape :', final_test.shape)"
      ]
    },
    {
      "cell_type": "code",
      "execution_count": null,
      "metadata": {
        "colab": {
          "base_uri": "https://localhost:8080/"
        },
        "id": "1jzxTfDVu3sq",
        "outputId": "f7fbb399-6828-4237-f3db-4e591e40a139"
      },
      "outputs": [
        {
          "output_type": "stream",
          "name": "stdout",
          "text": [
            "target\n"
          ]
        }
      ],
      "source": [
        "for i in set(final_train.columns):\n",
        "    if i in final_test.columns:\n",
        "        pass\n",
        "    else:\n",
        "        print(i)"
      ]
    },
    {
      "cell_type": "code",
      "execution_count": null,
      "metadata": {
        "colab": {
          "base_uri": "https://localhost:8080/"
        },
        "id": "KvudMldn6OwK",
        "outputId": "67d01f88-0c9f-4162-ce8d-98105ca58870"
      },
      "outputs": [
        {
          "output_type": "execute_result",
          "data": {
            "text/plain": [
              "Index(['person_attribute_a', 'contents_attribute_i', 'contents_attribute_a',\n",
              "       'contents_attribute_k', 'target', 'person_prefer_d_1_n',\n",
              "       'person_prefer_d_1_s', 'person_prefer_d_1_m', 'person_prefer_d_1_l',\n",
              "       'person_prefer_d_2_n', 'person_prefer_d_2_s', 'person_prefer_d_2_m',\n",
              "       'person_prefer_d_2_l', 'person_prefer_d_3_n', 'person_prefer_d_3_s',\n",
              "       'person_prefer_d_3_m', 'person_prefer_d_3_l', 'contents_attribute_d_n',\n",
              "       'contents_attribute_d_s', 'contents_attribute_d_m',\n",
              "       'contents_attribute_d_l', 'person_prefer_h_1_l', 'person_prefer_h_1_m',\n",
              "       'person_prefer_h_2_l', 'person_prefer_h_2_m', 'person_prefer_h_3_l',\n",
              "       'person_prefer_h_3_m', 'contents_attribute_h_l',\n",
              "       'contents_attribute_h_m', 'contents_attribute_l_n',\n",
              "       'contents_attribute_l_s', 'contents_attribute_l_m',\n",
              "       'contents_attribute_l_l', 'person_attribute_a_1_1',\n",
              "       'person_attribute_a_1_2', 'person_attribute_a_1_3',\n",
              "       'person_attribute_a_1_4', 'person_attribute_a_1_5',\n",
              "       'person_attribute_a_1_6', 'person_attribute_a_1_7',\n",
              "       'person_attribute_b_1', 'person_attribute_b_2', 'person_attribute_b_3',\n",
              "       'person_attribute_b_4', 'person_attribute_b_5', 'person_prefer_c_2',\n",
              "       'person_prefer_c_3', 'person_prefer_c_4', 'person_prefer_c_5',\n",
              "       'person_prefer_e_1', 'person_prefer_e_2', 'person_prefer_e_3',\n",
              "       'person_prefer_e_4', 'person_prefer_e_5', 'person_prefer_e_6',\n",
              "       'person_prefer_e_7', 'person_prefer_e_8', 'person_prefer_e_9',\n",
              "       'person_prefer_e_10', 'person_prefer_e_11', 'contents_attribute_j_1_2',\n",
              "       'contents_attribute_j_1_3', 'contents_attribute_j_1_4',\n",
              "       'contents_attribute_j_1_5', 'contents_attribute_j_1_6',\n",
              "       'contents_attribute_j_1_8', 'contents_attribute_j_1_9',\n",
              "       'contents_attribute_j_1_10', 'contents_attribute_c_2',\n",
              "       'contents_attribute_c_3', 'contents_attribute_c_4',\n",
              "       'contents_attribute_m_2', 'contents_attribute_m_3',\n",
              "       'contents_attribute_m_4', 'contents_attribute_m_5',\n",
              "       'contents_attribute_e_1', 'contents_attribute_e_2',\n",
              "       'contents_attribute_e_3', 'contents_attribute_e_4',\n",
              "       'contents_attribute_e_5', 'contents_attribute_e_6',\n",
              "       'contents_attribute_e_7', 'contents_attribute_e_8',\n",
              "       'contents_attribute_e_9', 'contents_attribute_e_10',\n",
              "       'contents_attribute_e_11', 'weekend_sin', 'weekend_cos'],\n",
              "      dtype='object')"
            ]
          },
          "metadata": {},
          "execution_count": 43
        }
      ],
      "source": [
        "final_train.columns"
      ]
    },
    {
      "cell_type": "code",
      "execution_count": null,
      "metadata": {
        "id": "ZEXnR5AMyf1U"
      },
      "outputs": [],
      "source": [
        "# # # 중요 변수를 추출하기 위해서 statsmodels로 변수들의 P-value를 확인한다.\n",
        "# import statsmodels.api as sm\n",
        "\n",
        "# X = sm.add_constant(final_train.drop('target', axis = 1))\n",
        "# y = final_train['target']\n",
        "\n",
        "# model = sm.OLS(y,X)\n",
        "# results = model.fit()\n",
        "# print(results.summary())"
      ]
    },
    {
      "cell_type": "code",
      "source": [
        "## 나중에 P-value를 통해서 변수 제거를 시도해 보자.\n",
        "import statsmodels.api as sm\n",
        "X = sm.add_constant(final_train.drop('target', axis = 1))\n",
        "model = sm.Logit(final_train['target'], X)\n",
        "results = model.fit()\n",
        "\n",
        "print(results.summary())"
      ],
      "metadata": {
        "colab": {
          "base_uri": "https://localhost:8080/"
        },
        "id": "bAW2M0f7RU5v",
        "outputId": "ff109778-d796-4572-f4f5-746a7cfeffd6"
      },
      "execution_count": null,
      "outputs": [
        {
          "output_type": "stream",
          "name": "stdout",
          "text": [
            "Optimization terminated successfully.\n",
            "         Current function value: 0.667165\n",
            "         Iterations 6\n",
            "                           Logit Regression Results                           \n",
            "==============================================================================\n",
            "Dep. Variable:                 target   No. Observations:               501374\n",
            "Model:                          Logit   Df Residuals:                   501286\n",
            "Method:                           MLE   Df Model:                           87\n",
            "Date:                Thu, 27 Jan 2022   Pseudo R-squ.:                 0.03748\n",
            "Time:                        10:17:06   Log-Likelihood:            -3.3450e+05\n",
            "converged:                       True   LL-Null:                   -3.4753e+05\n",
            "Covariance Type:            nonrobust   LLR p-value:                     0.000\n",
            "=============================================================================================\n",
            "                                coef    std err          z      P>|z|      [0.025      0.975]\n",
            "---------------------------------------------------------------------------------------------\n",
            "const                        -5.8713      0.359    -16.333      0.000      -6.576      -5.167\n",
            "person_attribute_a           -0.0612      0.012     -5.088      0.000      -0.085      -0.038\n",
            "contents_attribute_i         -0.0006      0.003     -0.158      0.874      -0.007       0.006\n",
            "contents_attribute_a          0.0572      0.004     16.254      0.000       0.050       0.064\n",
            "contents_attribute_k          0.1142      0.016      7.157      0.000       0.083       0.146\n",
            "person_prefer_d_1_n           2.1492      0.151     14.231      0.000       1.853       2.445\n",
            "person_prefer_d_1_s          -0.3325      0.224     -1.486      0.137      -0.771       0.106\n",
            "person_prefer_d_1_m          -1.0440      0.236     -4.418      0.000      -1.507      -0.581\n",
            "person_prefer_d_1_l          -0.4298      0.237     -1.817      0.069      -0.894       0.034\n",
            "person_prefer_d_2_n           2.3542      0.163     14.433      0.000       2.034       2.674\n",
            "person_prefer_d_2_s          -0.8660      0.233     -3.713      0.000      -1.323      -0.409\n",
            "person_prefer_d_2_m          -0.5106      0.243     -2.097      0.036      -0.988      -0.033\n",
            "person_prefer_d_2_l          -0.7049      0.254     -2.770      0.006      -1.204      -0.206\n",
            "person_prefer_d_3_n           2.2966      0.149     15.462      0.000       2.005       2.588\n",
            "person_prefer_d_3_s          -0.3891      0.221     -1.763      0.078      -0.822       0.044\n",
            "person_prefer_d_3_m          -1.2163      0.244     -4.981      0.000      -1.695      -0.738\n",
            "person_prefer_d_3_l           0.5721      0.271      2.114      0.035       0.042       1.103\n",
            "contents_attribute_d_n        3.3138      0.111     29.724      0.000       3.095       3.532\n",
            "contents_attribute_d_s        0.2409      0.144      1.674      0.094      -0.041       0.523\n",
            "contents_attribute_d_m       -0.9608      0.138     -6.967      0.000      -1.231      -0.691\n",
            "contents_attribute_d_l        1.0537      0.119      8.862      0.000       0.821       1.287\n",
            "person_prefer_h_1_l          -1.8118      0.200     -9.061      0.000      -2.204      -1.420\n",
            "person_prefer_h_1_m           2.0936      0.146     14.368      0.000       1.808       2.379\n",
            "person_prefer_h_2_l          -1.3771      0.187     -7.358      0.000      -1.744      -1.010\n",
            "person_prefer_h_2_m           1.8734      0.145     12.951      0.000       1.590       2.157\n",
            "person_prefer_h_3_l          -1.9633      0.210     -9.366      0.000      -2.374      -1.552\n",
            "person_prefer_h_3_m           1.8919      0.167     11.349      0.000       1.565       2.219\n",
            "contents_attribute_h_l       -0.3970      0.168     -2.367      0.018      -0.726      -0.068\n",
            "contents_attribute_h_m        3.0304      0.111     27.380      0.000       2.813       3.247\n",
            "contents_attribute_l_n        3.4523      0.123     28.000      0.000       3.211       3.694\n",
            "contents_attribute_l_s       -0.4672      0.153     -3.046      0.002      -0.768      -0.167\n",
            "contents_attribute_l_m       -0.7985      0.142     -5.632      0.000      -1.076      -0.521\n",
            "contents_attribute_l_l       -0.9866      0.138     -7.125      0.000      -1.258      -0.715\n",
            "person_attribute_a_1_1       -0.0654      0.014     -4.725      0.000      -0.093      -0.038\n",
            "person_attribute_a_1_2       -0.0883      0.015     -6.055      0.000      -0.117      -0.060\n",
            "person_attribute_a_1_3       -0.1363      0.015     -9.006      0.000      -0.166      -0.107\n",
            "person_attribute_a_1_4       -0.1588      0.015    -10.321      0.000      -0.189      -0.129\n",
            "person_attribute_a_1_5       -0.1262      0.015     -8.562      0.000      -0.155      -0.097\n",
            "person_attribute_a_1_6       -0.0963      0.015     -6.278      0.000      -0.126      -0.066\n",
            "person_attribute_a_1_7        0.0493      0.017      2.885      0.004       0.016       0.083\n",
            "person_attribute_b_1          0.4056      0.202      2.010      0.044       0.010       0.801\n",
            "person_attribute_b_2          0.1367      0.201      0.680      0.496      -0.257       0.530\n",
            "person_attribute_b_3          0.0423      0.201      0.211      0.833      -0.351       0.436\n",
            "person_attribute_b_4          0.0331      0.201      0.165      0.869      -0.361       0.427\n",
            "person_attribute_b_5          0.2591      0.202      1.281      0.200      -0.137       0.656\n",
            "person_prefer_c_2             0.0323      0.015      2.147      0.032       0.003       0.062\n",
            "person_prefer_c_3             0.2230      0.017     13.061      0.000       0.190       0.257\n",
            "person_prefer_c_4             0.1926      0.030      6.363      0.000       0.133       0.252\n",
            "person_prefer_c_5             0.0932      0.006     14.338      0.000       0.080       0.106\n",
            "person_prefer_e_1             0.3913      0.109      3.591      0.000       0.178       0.605\n",
            "person_prefer_e_2             0.1907      0.044      4.334      0.000       0.104       0.277\n",
            "person_prefer_e_3             0.0130      0.010      1.309      0.191      -0.006       0.033\n",
            "person_prefer_e_4             0.0451      0.010      4.733      0.000       0.026       0.064\n",
            "person_prefer_e_5             0.1057      0.011      9.700      0.000       0.084       0.127\n",
            "person_prefer_e_6             0.1624      0.015     11.180      0.000       0.134       0.191\n",
            "person_prefer_e_7             0.2037      0.024      8.460      0.000       0.156       0.251\n",
            "person_prefer_e_8             0.2705      0.028      9.555      0.000       0.215       0.326\n",
            "person_prefer_e_9             0.3013      0.055      5.439      0.000       0.193       0.410\n",
            "person_prefer_e_10            0.4894      0.050      9.717      0.000       0.391       0.588\n",
            "person_prefer_e_11            0.2178      0.056      3.902      0.000       0.108       0.327\n",
            "contents_attribute_j_1_2     -1.8965      0.278     -6.816      0.000      -2.442      -1.351\n",
            "contents_attribute_j_1_3     -0.5614      0.262     -2.143      0.032      -1.075      -0.048\n",
            "contents_attribute_j_1_4     -0.2130      0.262     -0.813      0.416      -0.726       0.300\n",
            "contents_attribute_j_1_5     -0.2486      0.262     -0.950      0.342      -0.761       0.264\n",
            "contents_attribute_j_1_6     -0.2782      0.262     -1.060      0.289      -0.793       0.236\n",
            "contents_attribute_j_1_8     -0.0605      0.317     -0.191      0.849      -0.682       0.561\n",
            "contents_attribute_j_1_9     -0.0446      0.262     -0.170      0.865      -0.559       0.469\n",
            "contents_attribute_j_1_10    -0.4375      0.262     -1.672      0.095      -0.950       0.075\n",
            "contents_attribute_c_2       -0.0624      0.024     -2.579      0.010      -0.110      -0.015\n",
            "contents_attribute_c_3       -0.1531      0.008    -18.318      0.000      -0.170      -0.137\n",
            "contents_attribute_c_4       -0.0736      0.034     -2.143      0.032      -0.141      -0.006\n",
            "contents_attribute_m_2        0.0228      0.010      2.355      0.019       0.004       0.042\n",
            "contents_attribute_m_3        0.0125      0.016      0.776      0.438      -0.019       0.044\n",
            "contents_attribute_m_4       -0.0967      0.009    -10.810      0.000      -0.114      -0.079\n",
            "contents_attribute_m_5       -0.0439      0.009     -4.896      0.000      -0.062      -0.026\n",
            "contents_attribute_e_1        0.4774      0.081      5.885      0.000       0.318       0.636\n",
            "contents_attribute_e_2        0.6976      0.079      8.849      0.000       0.543       0.852\n",
            "contents_attribute_e_3        0.8066      0.078     10.279      0.000       0.653       0.960\n",
            "contents_attribute_e_4        0.7578      0.079      9.632      0.000       0.604       0.912\n",
            "contents_attribute_e_5        0.7798      0.079      9.877      0.000       0.625       0.935\n",
            "contents_attribute_e_6        0.8055      0.080     10.108      0.000       0.649       0.962\n",
            "contents_attribute_e_7        0.8572      0.082     10.427      0.000       0.696       1.018\n",
            "contents_attribute_e_8        0.7117      0.085      8.328      0.000       0.544       0.879\n",
            "contents_attribute_e_9        0.7713      0.105      7.363      0.000       0.566       0.977\n",
            "contents_attribute_e_10       0.7501      0.113      6.635      0.000       0.529       0.972\n",
            "contents_attribute_e_11       0.3577      0.141      2.540      0.011       0.082       0.634\n",
            "weekend_sin                   0.0034      0.005      0.735      0.462      -0.006       0.012\n",
            "weekend_cos                  -0.0058      0.004     -1.504      0.133      -0.013       0.002\n",
            "=============================================================================================\n"
          ]
        }
      ]
    },
    {
      "cell_type": "markdown",
      "source": [
        "# contents_attribute_i"
      ],
      "metadata": {
        "id": "Rm5R_gid9z-K"
      }
    },
    {
      "cell_type": "code",
      "source": [
        "final_train.drop('contents_attribute_i',axis=1,inplace=True)\n",
        "final_test.drop('contents_attribute_i',axis=1, inplace=True)"
      ],
      "metadata": {
        "id": "Qs7EtX0142CF"
      },
      "execution_count": null,
      "outputs": []
    },
    {
      "cell_type": "code",
      "execution_count": null,
      "metadata": {
        "colab": {
          "base_uri": "https://localhost:8080/"
        },
        "id": "sA9PeFE2iyZo",
        "outputId": "8c89a6cd-21c1-4584-bf72-3e7d0a66d96d"
      },
      "outputs": [
        {
          "output_type": "stream",
          "name": "stdout",
          "text": [
            "Collecting catboost\n",
            "  Downloading catboost-1.0.4-cp37-none-manylinux1_x86_64.whl (76.1 MB)\n",
            "\u001b[K     |████████████████████████████████| 76.1 MB 84 kB/s \n",
            "\u001b[?25hRequirement already satisfied: six in /usr/local/lib/python3.7/dist-packages (from catboost) (1.15.0)\n",
            "Requirement already satisfied: matplotlib in /usr/local/lib/python3.7/dist-packages (from catboost) (3.2.2)\n",
            "Requirement already satisfied: numpy>=1.16.0 in /usr/local/lib/python3.7/dist-packages (from catboost) (1.19.5)\n",
            "Requirement already satisfied: pandas>=0.24.0 in /usr/local/lib/python3.7/dist-packages (from catboost) (1.1.5)\n",
            "Requirement already satisfied: scipy in /usr/local/lib/python3.7/dist-packages (from catboost) (1.4.1)\n",
            "Requirement already satisfied: plotly in /usr/local/lib/python3.7/dist-packages (from catboost) (5.5.0)\n",
            "Requirement already satisfied: graphviz in /usr/local/lib/python3.7/dist-packages (from catboost) (0.10.1)\n",
            "Requirement already satisfied: pytz>=2017.2 in /usr/local/lib/python3.7/dist-packages (from pandas>=0.24.0->catboost) (2018.9)\n",
            "Requirement already satisfied: python-dateutil>=2.7.3 in /usr/local/lib/python3.7/dist-packages (from pandas>=0.24.0->catboost) (2.8.2)\n",
            "Requirement already satisfied: pyparsing!=2.0.4,!=2.1.2,!=2.1.6,>=2.0.1 in /usr/local/lib/python3.7/dist-packages (from matplotlib->catboost) (3.0.7)\n",
            "Requirement already satisfied: cycler>=0.10 in /usr/local/lib/python3.7/dist-packages (from matplotlib->catboost) (0.11.0)\n",
            "Requirement already satisfied: kiwisolver>=1.0.1 in /usr/local/lib/python3.7/dist-packages (from matplotlib->catboost) (1.3.2)\n",
            "Requirement already satisfied: tenacity>=6.2.0 in /usr/local/lib/python3.7/dist-packages (from plotly->catboost) (8.0.1)\n",
            "Installing collected packages: catboost\n",
            "Successfully installed catboost-1.0.4\n",
            "Collecting vecstack\n",
            "  Downloading vecstack-0.4.0.tar.gz (18 kB)\n",
            "Requirement already satisfied: numpy in /usr/local/lib/python3.7/dist-packages (from vecstack) (1.19.5)\n",
            "Requirement already satisfied: scipy in /usr/local/lib/python3.7/dist-packages (from vecstack) (1.4.1)\n",
            "Requirement already satisfied: scikit-learn>=0.18 in /usr/local/lib/python3.7/dist-packages (from vecstack) (1.0.2)\n",
            "Requirement already satisfied: threadpoolctl>=2.0.0 in /usr/local/lib/python3.7/dist-packages (from scikit-learn>=0.18->vecstack) (3.0.0)\n",
            "Requirement already satisfied: joblib>=0.11 in /usr/local/lib/python3.7/dist-packages (from scikit-learn>=0.18->vecstack) (1.1.0)\n",
            "Building wheels for collected packages: vecstack\n",
            "  Building wheel for vecstack (setup.py) ... \u001b[?25l\u001b[?25hdone\n",
            "  Created wheel for vecstack: filename=vecstack-0.4.0-py3-none-any.whl size=19877 sha256=7ec59b7658526aad72e01b1880918bb9bf796845c73e130330a4cefd870189b6\n",
            "  Stored in directory: /root/.cache/pip/wheels/28/fe/0c/fe8e43660e3316d7ce204e59a79a72246c0ae9b6c5c79841c8\n",
            "Successfully built vecstack\n",
            "Installing collected packages: vecstack\n",
            "Successfully installed vecstack-0.4.0\n"
          ]
        }
      ],
      "source": [
        "!pip install catboost\n",
        "!pip install vecstack"
      ]
    },
    {
      "cell_type": "code",
      "execution_count": null,
      "metadata": {
        "colab": {
          "base_uri": "https://localhost:8080/"
        },
        "id": "xR5FoXBwuvQn",
        "outputId": "78c17e09-1c69-4c51-a4b5-d23bd30e840b"
      },
      "outputs": [
        {
          "output_type": "stream",
          "name": "stdout",
          "text": [
            "(501374, 87) (46404, 86)\n"
          ]
        }
      ],
      "source": [
        "print(final_train.shape, final_test.shape)"
      ]
    },
    {
      "cell_type": "code",
      "execution_count": null,
      "metadata": {
        "colab": {
          "base_uri": "https://localhost:8080/"
        },
        "id": "jbf_hFrh9ABp",
        "outputId": "6f00ea21-6705-45a5-d0e8-bb396c6d9e9b"
      },
      "outputs": [
        {
          "output_type": "stream",
          "name": "stdout",
          "text": [
            "0 12\n"
          ]
        }
      ],
      "source": [
        "print(final_train.isnull().sum().sum(), final_test.isnull().sum().sum())"
      ]
    },
    {
      "cell_type": "code",
      "execution_count": null,
      "metadata": {
        "colab": {
          "base_uri": "https://localhost:8080/"
        },
        "id": "TQq98Iwkfxph",
        "outputId": "bac44d5e-af3a-4af5-d064-bcacd0b83808"
      },
      "outputs": [
        {
          "output_type": "stream",
          "name": "stdout",
          "text": [
            "person_prefer_d_2_n\n",
            "Done\n",
            "person_prefer_d_3_n\n",
            "Done\n",
            "contents_attribute_d_n\n",
            "Done\n",
            "contents_attribute_l_n\n",
            "Done\n",
            "0\n"
          ]
        }
      ],
      "source": [
        "## train에는 없지만 test데이터에 있는 변수는 아예 발견할 수 없는 변수이기 때문에 0.5로 변경한다.\n",
        "## 그러나 threshold가 0.4 이기 때문에 나중에 변경하도록 한다.\n",
        "for columns, null_value in zip(final_test.isnull().sum().keys(), final_test.isnull().sum().values):\n",
        "\n",
        "    if null_value > 0:\n",
        "\n",
        "        final_test[columns] = final_test[columns].fillna(final_train[columns].mean())\n",
        "        \n",
        "        print(columns)\n",
        "        print('Done')\n",
        "\n",
        "print(final_test.isnull().sum().sum())"
      ]
    },
    {
      "cell_type": "code",
      "source": [
        "final_train.columns"
      ],
      "metadata": {
        "colab": {
          "base_uri": "https://localhost:8080/"
        },
        "id": "pv8OXE60CsIC",
        "outputId": "598914e0-d87f-4a1d-9451-9295d115cb67"
      },
      "execution_count": null,
      "outputs": [
        {
          "output_type": "execute_result",
          "data": {
            "text/plain": [
              "Index(['person_attribute_a', 'contents_attribute_a', 'contents_attribute_k',\n",
              "       'target', 'person_prefer_d_1_n', 'person_prefer_d_1_s',\n",
              "       'person_prefer_d_1_m', 'person_prefer_d_1_l', 'person_prefer_d_2_n',\n",
              "       'person_prefer_d_2_s', 'person_prefer_d_2_m', 'person_prefer_d_2_l',\n",
              "       'person_prefer_d_3_n', 'person_prefer_d_3_s', 'person_prefer_d_3_m',\n",
              "       'person_prefer_d_3_l', 'contents_attribute_d_n',\n",
              "       'contents_attribute_d_s', 'contents_attribute_d_m',\n",
              "       'contents_attribute_d_l', 'person_prefer_h_1_l', 'person_prefer_h_1_m',\n",
              "       'person_prefer_h_2_l', 'person_prefer_h_2_m', 'person_prefer_h_3_l',\n",
              "       'person_prefer_h_3_m', 'contents_attribute_h_l',\n",
              "       'contents_attribute_h_m', 'contents_attribute_l_n',\n",
              "       'contents_attribute_l_s', 'contents_attribute_l_m',\n",
              "       'contents_attribute_l_l', 'person_attribute_a_1_1',\n",
              "       'person_attribute_a_1_2', 'person_attribute_a_1_3',\n",
              "       'person_attribute_a_1_4', 'person_attribute_a_1_5',\n",
              "       'person_attribute_a_1_6', 'person_attribute_a_1_7',\n",
              "       'person_attribute_b_1', 'person_attribute_b_2', 'person_attribute_b_3',\n",
              "       'person_attribute_b_4', 'person_attribute_b_5', 'person_prefer_c_2',\n",
              "       'person_prefer_c_3', 'person_prefer_c_4', 'person_prefer_c_5',\n",
              "       'person_prefer_e_1', 'person_prefer_e_2', 'person_prefer_e_3',\n",
              "       'person_prefer_e_4', 'person_prefer_e_5', 'person_prefer_e_6',\n",
              "       'person_prefer_e_7', 'person_prefer_e_8', 'person_prefer_e_9',\n",
              "       'person_prefer_e_10', 'person_prefer_e_11', 'contents_attribute_j_1_2',\n",
              "       'contents_attribute_j_1_3', 'contents_attribute_j_1_4',\n",
              "       'contents_attribute_j_1_5', 'contents_attribute_j_1_6',\n",
              "       'contents_attribute_j_1_8', 'contents_attribute_j_1_9',\n",
              "       'contents_attribute_j_1_10', 'contents_attribute_c_2',\n",
              "       'contents_attribute_c_3', 'contents_attribute_c_4',\n",
              "       'contents_attribute_m_2', 'contents_attribute_m_3',\n",
              "       'contents_attribute_m_4', 'contents_attribute_m_5',\n",
              "       'contents_attribute_e_1', 'contents_attribute_e_2',\n",
              "       'contents_attribute_e_3', 'contents_attribute_e_4',\n",
              "       'contents_attribute_e_5', 'contents_attribute_e_6',\n",
              "       'contents_attribute_e_7', 'contents_attribute_e_8',\n",
              "       'contents_attribute_e_9', 'contents_attribute_e_10',\n",
              "       'contents_attribute_e_11', 'weekend_sin', 'weekend_cos'],\n",
              "      dtype='object')"
            ]
          },
          "metadata": {},
          "execution_count": 52
        }
      ]
    },
    {
      "cell_type": "markdown",
      "metadata": {
        "id": "LPSK8R0P0z43"
      },
      "source": [
        "### stacking"
      ]
    },
    {
      "cell_type": "code",
      "execution_count": null,
      "metadata": {
        "id": "_LU5bfwjhWyi",
        "colab": {
          "base_uri": "https://localhost:8080/"
        },
        "outputId": "947326ce-0908-4c68-95a2-b59fede47274"
      },
      "outputs": [
        {
          "output_type": "stream",
          "name": "stdout",
          "text": [
            "[10:21:41] WARNING: /workspace/src/objective/regression_obj.cu:152: reg:linear is now deprecated in favor of reg:squarederror.\n",
            "[10:22:55] WARNING: /workspace/src/objective/regression_obj.cu:152: reg:linear is now deprecated in favor of reg:squarederror.\n",
            "[10:24:11] WARNING: /workspace/src/objective/regression_obj.cu:152: reg:linear is now deprecated in favor of reg:squarederror.\n"
          ]
        }
      ],
      "source": [
        "## 추가적으로 진행할 내용\n",
        "# huber regression\n",
        "# extra regression\n",
        "\n",
        "## Stacking을 사용해보자\n",
        "from lightgbm import LGBMRegressor, LGBMClassifier\n",
        "from catboost import CatBoostRegressor, CatBoostClassifier\n",
        "from xgboost import XGBRegressor, XGBClassifier\n",
        "from sklearn.ensemble import RandomForestRegressor, RandomForestClassifier,GradientBoostingRegressor, ExtraTreesRegressor\n",
        "from vecstack import stacking\n",
        "from tqdm import tqdm\n",
        "from sklearn.linear_model import LogisticRegression, Ridge, RidgeClassifier, LinearRegression, HuberRegressor\n",
        "from sklearn.metrics import f1_score\n",
        "\n",
        "def rmse(y, y_pred):\n",
        "    return np.sqrt(mean_squared_error(np.log(y), np.log(y_pred)))\n",
        "\n",
        "def f1_score_predict(y, y_pred):\n",
        "    return f1_score(y, y_pred, pos_label = 1)\n",
        "\n",
        "## regression으로 문제를 푼다면?\n",
        "lgb = LGBMRegressor(random_state = 42)\n",
        "xgb = XGBRegressor(random_state = 42)\n",
        "cat = CatBoostRegressor(random_state = 42, verbose = False)\n",
        "rfg = RandomForestRegressor(random_state = 42)\n",
        "ridge = Ridge(random_state = 42)\n",
        "gb = GradientBoostingRegressor(random_state = 42)\n",
        "hb = HuberRegressor()\n",
        "etr= ExtraTreesRegressor(random_state=42)\n",
        "\n",
        "meta_model = LogisticRegression()\n",
        "models = [lgb, xgb, cat, rfg, ridge,gb, hb, etr]\n",
        "\n",
        "# # # ## classifier로 문제를 푼다면\n",
        "# # lgb = LGBMClassifier(random_state= 42)\n",
        "# # xgb = XGBClassifier(random_state= 42, tree_method = 'gpu_hist')\n",
        "# # cat = CatBoostClassifier(random_state = 42,task_type = 'GPU', eval_metric= \"F1\")\n",
        "# # rfg = RandomForestClassifier(random_state = 42)\n",
        "# # ridge = RidgeClassifier(random_state = 42)\n",
        "# # models = [lgb, xgb, cat, rfg, ridge]\n",
        "# # lr = LogisticRegression()\n",
        "\n",
        "S_train, S_test = stacking(models, final_train.drop('target', axis = 1), final_train['target'], final_test, regression = True, mode = 'oof_pred_bag', metric = rmse, n_folds = 3, stratified=True, shuffle = True)\n",
        "\n",
        "\n",
        "meta_model.fit(S_train, final_train['target'])\n",
        "prediction = pd.Series(i[1] for i in meta_model.predict_proba(S_test)).apply(lambda x:1 if x>0.35 else 0)\n",
        "\n",
        "# # print(prediction)"
      ]
    },
    {
      "cell_type": "code",
      "execution_count": null,
      "metadata": {
        "id": "Lov5finnj_oJ"
      },
      "outputs": [],
      "source": [
        "a = []\n",
        "b = []\n",
        "for i in prediction:\n",
        "\n",
        "    if i == 0:\n",
        "        a.append(i)\n",
        "    else:\n",
        "        b.append(i)"
      ]
    },
    {
      "cell_type": "code",
      "execution_count": null,
      "metadata": {
        "id": "YkXoARYz_w3n",
        "colab": {
          "base_uri": "https://localhost:8080/"
        },
        "outputId": "19ecdf58-b4d7-4311-e4af-186a0877bd53"
      },
      "outputs": [
        {
          "output_type": "stream",
          "name": "stdout",
          "text": [
            "8708 37696\n"
          ]
        }
      ],
      "source": [
        "print(len(a), len(b))"
      ]
    },
    {
      "cell_type": "code",
      "execution_count": null,
      "metadata": {
        "id": "4emHhmdassmO"
      },
      "outputs": [],
      "source": [
        "submission = pd.read_csv('/content/drive/MyDrive/잡케어/sample_submission.csv')\n",
        "\n",
        "submission['target'] = prediction\n",
        "\n",
        "submission.to_csv('/content/drive/MyDrive/잡케어/sample_submission220126_1.csv', index = False)"
      ]
    },
    {
      "cell_type": "code",
      "source": [
        "sns.countplot(submission.target)"
      ],
      "metadata": {
        "colab": {
          "base_uri": "https://localhost:8080/",
          "height": 297
        },
        "id": "ThD3GFWkPUoe",
        "outputId": "3be4da2e-9442-4db0-f330-fc2c6754fcf8"
      },
      "execution_count": null,
      "outputs": [
        {
          "output_type": "execute_result",
          "data": {
            "text/plain": [
              "<matplotlib.axes._subplots.AxesSubplot at 0x7fab21fbc490>"
            ]
          },
          "metadata": {},
          "execution_count": 67
        },
        {
          "output_type": "display_data",
          "data": {
            "image/png": "[encoded data removed]",
            "text/plain": [
              "<Figure size 432x288 with 1 Axes>"
            ]
          },
          "metadata": {
            "needs_background": "light"
          }
        }
      ]
    },
    {
      "cell_type": "code",
      "source": [
        "submission"
      ],
      "metadata": {
        "id": "X3x1kBWaq7HU"
      },
      "execution_count": null,
      "outputs": []
    },
    {
      "cell_type": "markdown",
      "metadata": {
        "id": "3W8DqJTM02pC"
      },
      "source": [
        "### voting(stacking에 비해서 많이 부족하다)"
      ]
    },
    {
      "cell_type": "code",
      "execution_count": null,
      "metadata": {
        "id": "RLzKdKSgs0Yl"
      },
      "outputs": [],
      "source": [
        "# from sklearn.ensemble import VotingRegressor\n",
        "# from lightgbm import LGBMRegressor, LGBMClassifier\n",
        "# from catboost import CatBoostRegressor, CatBoostClassifier\n",
        "# from xgboost import XGBRegressor, XGBClassifier\n",
        "# from sklearn.ensemble import RandomForestRegressor, RandomForestClassifier, GradientBoostingRegressor\n",
        "# from sklearn.linear_model import LogisticRegression, Ridge, RidgeClassifier, LinearRegression\n",
        "\n",
        "# def rmse(y, y_pred):\n",
        "#   return np.sqrt(mean_squared_error(y, y_pred))\n",
        "\n",
        "# lr = LinearRegression()\n",
        "# lgb = LGBMRegressor(random_state = 42)\n",
        "# cat = CatBoostRegressor(random_state = 42,verbose = False, task_type = 'GPU')\n",
        "# xgb = XGBRegressor(random_state = 42,tree_method = 'gpu_hist')\n",
        "# rfg = RandomForestRegressor(random_state = 42)\n",
        "# gb = GradientBoostingRegressor(random_state = 42)\n",
        "\n",
        "\n",
        "# vo_reg = VotingRegressor(estimators = [('lr',lr),('lgb',lgb),('cat',cat),('xgb',xgb),('rfg',rfg),('gb',gb)])\n",
        "# vo_reg.fit(final_train.drop('target', axis = 1), final_train['target'])\n",
        "# prediction = vo_reg.predict(final_test)\n",
        "# prediction = np.where(prediction >= 0.4, 1, 0)"
      ]
    },
    {
      "cell_type": "code",
      "execution_count": null,
      "metadata": {
        "id": "OLe_6TI0pSlC"
      },
      "outputs": [],
      "source": [
        "# a = []\n",
        "# b = []\n",
        "# for i in prediction:\n",
        "\n",
        "#     if i == 0:\n",
        "#         a.append(i)\n",
        "#     else:\n",
        "#         b.append(i)"
      ]
    },
    {
      "cell_type": "code",
      "execution_count": null,
      "metadata": {
        "id": "pgY_ziK1pT7U"
      },
      "outputs": [],
      "source": [
        "# print(len(a), len(b))"
      ]
    },
    {
      "cell_type": "code",
      "execution_count": null,
      "metadata": {
        "id": "dpUXxBR3pVSO"
      },
      "outputs": [],
      "source": [
        "# submission = pd.read_csv('/content/drive/MyDrive/데이콘/잡케어 추천 알고리즘/Data/sample_submission.csv')\n",
        "\n",
        "# submission['target'] = prediction\n",
        "\n",
        "# submission.to_csv('/content/drive/MyDrive/데이콘/잡케어 추천 알고리즘/Data/sample_submission.csv', index = False)"
      ]
    },
    {
      "cell_type": "markdown",
      "metadata": {
        "id": "ih9FhZSilHxE"
      },
      "source": [
        "### 생각하는 방법으로 모델 작성해보기"
      ]
    },
    {
      "cell_type": "code",
      "execution_count": null,
      "metadata": {
        "id": "P9nRZoZozAk7"
      },
      "outputs": [],
      "source": [
        "# from lightgbm import LGBMRegressor, LGBMClassifier\n",
        "# from catboost import CatBoostRegressor, CatBoostClassifier\n",
        "# from xgboost import XGBRegressor, XGBClassifier\n",
        "# from sklearn.ensemble import RandomForestRegressor, RandomForestClassifier,GradientBoostingRegressor,GradientBoostingClassifier\n",
        "# # from vecstack import stacking\n",
        "# from tqdm import tqdm\n",
        "# from sklearn.linear_model import LogisticRegression, Ridge, RidgeClassifier, LinearRegression\n",
        "# from sklearn.metrics import f1_score\n",
        "# from sklearn.model_selection import KFold, train_test_split\n",
        "\n",
        "# def f1_score_predict(y, y_pred):\n",
        "#     return f1_score(y, y_pred, pos_label = 1)\n",
        "\n",
        "# # # lgb = LGBMClassifier(random_state= 42)\n",
        "# # # xgb = XGBClassifier(random_state= 42, tree_method = 'gpu_hist')\n",
        "# # # cat = CatBoostClassifier(random_state = 42,task_type = 'GPU', eval_metric= \"F1\")\n",
        "# # # rfg = RandomForestClassifier(random_state = 42)\n",
        "# # # ridge = RidgeClassifier(random_state = 42)\n",
        "\n",
        "# models=[XGBClassifier(random_state= 42,tree_method = 'gpu_hist'),LGBMClassifier(random_state= 42),\n",
        "#         RandomForestClassifier(random_state= 42),CatBoostClassifier(random_state= 42,task_type = 'GPU', eval_metric= \"F1\",verbose = False), GradientBoostingClassifier(random_state= 42)]\n",
        "# final_model = LogisticRegression()\n",
        "# def stacking_ensemble(models, train_data = None, test_data = None ,target = None, test_size = 0.2,\n",
        "#                       n_folds = 5, final_model = final_model):\n",
        "#     # kfold를 사용한다.\n",
        "#     kfold = KFold(n_splits = n_folds)\n",
        "    \n",
        "#     # 데이터를 train데이터와 test 데이터로 나누어준다.\n",
        "#     X_train, X_test, y_train = train_data.drop('target', axis = 1), test_data, train_data['target']\n",
        "\n",
        "#     # 각 모델의 평균값을 넣어주기 위해서 공간을 만든다.\n",
        "#     final_train_predict = np.zeros((X_train.shape[0], len(models)))\n",
        "#     final_test_predict = np.zeros((X_test.shape[0], len(models)))\n",
        "    \n",
        "#     for model_count, model in tqdm(enumerate(models)):\n",
        "        \n",
        "#         # 각 모델마다 k_fold의 값들을 넣어주기 위해서 공간을 만든다.\n",
        "#         test_predict = np.zeros((X_test.shape[0], n_folds))\n",
        "        \n",
        "#         # X_train의 데이터를 train과 valid로 나누기 \n",
        "#         for fold_count, (train_idx, valid_idx) in enumerate(kfold.split(X_train, y_train)):\n",
        "#             X_train_n = X_train.iloc[train_idx]\n",
        "#             y_train_n = y_train.iloc[train_idx]\n",
        "#             X_test_n = X_train.iloc[valid_idx]\n",
        "\n",
        "#             # 개별 모델을 학습한다.\n",
        "#             model = model.fit(X_train_n, y_train_n)\n",
        "#             final_train_predict[valid_idx, model_count] = pd.Series([i[0] for i in model.predict_proba(X_test_n)])\n",
        "#             test_predict[:, fold_count] = pd.Series(i[1] for i in model.predict_proba(X_test))\n",
        "            \n",
        "#         # 교차검증을 한 데이터를 가지고 평균 구하기    \n",
        "#         final_test_predict[:,model_count] = np.mean(test_predict, axis = 1)\n",
        "                \n",
        "#     # 최종 모델로 학습시키기\n",
        "#     final_model = final_model.fit(final_train_predict, y_train)\n",
        "#     y_pred = pd.Series(i[1] for i in final_model.predict_proba(final_test_predict)).apply(lambda x:1 if x >= 0.4 else 0)\n",
        "\n",
        "#     return y_pred"
      ]
    },
    {
      "cell_type": "code",
      "execution_count": null,
      "metadata": {
        "id": "6eeY14EamS36"
      },
      "outputs": [],
      "source": [
        "# y_pred = stacking_ensemble(models = models, train_data = final_train, test_data = final_test ,target = final_train['target'], final_model = final_model)"
      ]
    },
    {
      "cell_type": "code",
      "source": [
        "# a = []\n",
        "# b = []\n",
        "# for i in y_pred:\n",
        "\n",
        "#     if i == 0:\n",
        "#         a.append(i)\n",
        "#     else:\n",
        "#         b.append(i)"
      ],
      "metadata": {
        "id": "gCsU8K2EhWSl"
      },
      "execution_count": null,
      "outputs": []
    },
    {
      "cell_type": "code",
      "source": [
        "# print(len(a), len(b))"
      ],
      "metadata": {
        "id": "acps8jOXm8Z3"
      },
      "execution_count": null,
      "outputs": []
    },
    {
      "cell_type": "code",
      "source": [
        "# y_pred"
      ],
      "metadata": {
        "id": "kWYQd7MyxaCq"
      },
      "execution_count": null,
      "outputs": []
    },
    {
      "cell_type": "code",
      "source": [
        "# submission = pd.read_csv('/content/drive/MyDrive/데이콘/잡케어 추천 알고리즘/Data/sample_submission.csv')\n",
        "\n",
        "# submission['target'] = y_pred\n",
        "\n",
        "# submission.to_csv('/content/drive/MyDrive/데이콘/잡케어 추천 알고리즘/Data/sample_submission.csv', index = False)"
      ],
      "metadata": {
        "id": "vbGd-w5vnBfp"
      },
      "execution_count": null,
      "outputs": []
    },
    {
      "cell_type": "code",
      "source": [
        ""
      ],
      "metadata": {
        "id": "_n-uD8bYnDUH"
      },
      "execution_count": null,
      "outputs": []
    }
  ],
  "metadata": {
    "colab": {
      "collapsed_sections": [],
      "machine_shape": "hm",
      "name": "Feature Engineering.ipynb의 사본",
      "provenance": [],
      "include_colab_link": true
    },
    "kernelspec": {
      "display_name": "Python 3",
      "name": "python3"
    },
    "language_info": {
      "name": "python"
    }
  },
  "nbformat": 4,
  "nbformat_minor": 0
}